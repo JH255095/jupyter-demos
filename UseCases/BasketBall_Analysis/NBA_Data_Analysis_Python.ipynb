{
 "cells": [
  {
   "cell_type": "markdown",
   "id": "dcad8d26-315f-4971-8300-4b1703f8ec7c",
   "metadata": {
    "tags": []
   },
   "source": [
    "<header>\n",
    "   <p  style='font-size:36px;font-family:Arial; color:#F0F0F0; background-color: #00233c; padding-left: 20pt; padding-top: 20pt;padding-bottom: 10pt; padding-right: 20pt;'>\n",
    "       Analysis of NBA BasketBall Data\n",
    "  <br>\n",
    "       <img id=\"teradata-logo\" src=\"https://storage.googleapis.com/clearscape_analytics_demo_data/DEMO_Logo/teradata.svg\" alt=\"Teradata\" style=\"width: 125px; height: auto; margin-top: 20pt;\">\n",
    "    </p>\n",
    "</header>"
   ]
  },
  {
   "cell_type": "markdown",
   "id": "a306eab4-4bbe-4179-af76-f43c665ce3ee",
   "metadata": {},
   "source": [
    "<p style = 'font-size:20px;font-family:Arial'><b>Introduction</b></p>\n",
    "\n",
    "<p style = 'font-size:16px;font-family:Arial'>\n",
    "The National Basketball Association (NBA) is the premier professional basketball league in North America and one of the most popular sports organizations globally. Founded in 1946, the NBA features 30 teams (29 in the U.S. and 1 in Canada) and showcases many of the world’s top basketball athletes. Over the decades, it has evolved into a global entertainment powerhouse, with millions of fans following games, players, and stats. The comprehensive collection of game- and player-related data spanning multiple seasons are all captured and stored. It is ideal for statistical analysis, player performance evaluation, historical comparisons, and building machine learning models for sports analytics. Below business usecases can be created with the data captured, few examples are mentioned below</p>\n",
    "<p style = 'font-size:18px;font-family:Arial'><b>Business usecase and value of data analysis</b></p>\n",
    "<ul style = 'font-size:16px;font-family:Arial'>\n",
    "    <li>Player Performance and Scouting Analytics: Identify top-performing players, rising stars, or undervalued draft prospects.</li>\n",
    "    <li>Game Summary Automation and Highlights: Automatically generate narrative game summaries</li>\n",
    "    <li>Advanced Fan Engagement and Fantasy Tools:  Build smart fantasy assistants or trivia bots.</li>\n",
    "    <li>Operations and Game Scheduling Insights: Optimize game scheduling, referee assignments, and arena planning.</li>\n",
    "    <li>Historical and Trend Analysis: Study league evolution, team rivalries, or rule impacts over time.</li>\n",
    " </ul>\n"
   ]
  },
  {
   "cell_type": "markdown",
   "id": "b00c1241-3d3d-475d-8bdc-e663b60a8ba7",
   "metadata": {},
   "source": [
    "<hr style=\"height:2px;border:none;\">\n",
    "<p style = 'font-size:20px;font-family:Arial'><b>1.Connect to Vantage, Import python packages and explore the dataset</b></p>\n"
   ]
  },
  {
   "cell_type": "code",
   "execution_count": null,
   "id": "9c28c5bd-a6d3-4daf-b974-fa238deabf5f",
   "metadata": {},
   "outputs": [],
   "source": [
    "%%capture\n",
    "# '%%capture' suppresses the display of installation steps of the following packages\n",
    "\n",
    "!pip install -r requirements.txt --quiet"
   ]
  },
  {
   "cell_type": "markdown",
   "id": "c22d513f-1728-4f18-b389-403a7368914f",
   "metadata": {},
   "source": [
    "<div class=\"alert alert-block alert-info\">\n",
    "    <p style = 'font-size:16px;font-family:Arial'><b>Note: </b><i>The above statements will install the required libraries to run this demo. Be sure to restart the kernel after executing the above lines to bring the installed libraries into memory. The simplest way to restart the Kernel is by typing zero zero: <b> 0 0</b></i></p>\n",
    "    </div>"
   ]
  },
  {
   "cell_type": "markdown",
   "id": "e5222b44-b081-4626-ad0c-fc7ea63bf9ff",
   "metadata": {},
   "source": [
    "<hr style='height:1px;border:none;'>\n",
    "\n",
    "<p style = 'font-size:18px;font-family:Arial'><b>1.1 Import the required libraries</b></p>\n",
    "\n",
    "<p style = 'font-size:16px;font-family:Arial'>Here, we import the required libraries, set environment variables and environment paths (if required).</p>"
   ]
  },
  {
   "cell_type": "code",
   "execution_count": null,
   "id": "80351603-42a0-43d8-a448-f55680bc239d",
   "metadata": {},
   "outputs": [],
   "source": [
    "#import libraries\n",
    "import matplotlib.pyplot as plt \n",
    "import getpass\n",
    "\n",
    "import warnings\n",
    "warnings.filterwarnings('ignore')\n",
    "warnings.simplefilter(action='ignore', category=DeprecationWarning)\n",
    "warnings.simplefilter(action='ignore', category=RuntimeWarning)\n",
    "warnings.simplefilter(action='ignore', category=FutureWarning)\n",
    "\n",
    "from teradataml import *\n",
    "\n",
    "display.max_rows=5"
   ]
  },
  {
   "cell_type": "markdown",
   "id": "d69aba20-a5bf-4ca3-a7f1-d655dce9d7ff",
   "metadata": {},
   "source": [
    "<p style = 'font-size:16px;font-family:Arial'>We will be prompted to provide the password. We will enter the password, press the Enter key, and then use the down arrow to go to the next cell.</p>"
   ]
  },
  {
   "cell_type": "code",
   "execution_count": null,
   "id": "da4a276f-4f84-4002-8f44-2cf96bbf591c",
   "metadata": {
    "tags": []
   },
   "outputs": [],
   "source": [
    "%run -i ../startup.ipynb\n",
    "eng = create_context(host = 'host.docker.internal', username='demo_user', password = password)\n",
    "print(eng)"
   ]
  },
  {
   "cell_type": "code",
   "execution_count": null,
   "id": "fc386cc3-8b55-423e-a7ea-656a20586dc2",
   "metadata": {},
   "outputs": [],
   "source": [
    "%%capture\n",
    "execute_sql('''SET query_band='DEMO=NBA_Data_Analysis_Python.ipynb;' UPDATE FOR SESSION; ''')"
   ]
  },
  {
   "cell_type": "markdown",
   "id": "5920c88e-13f7-4dd8-8626-6c8f51926496",
   "metadata": {},
   "source": [
    "<p style = 'font-size:18px;font-family:Arial'> <b>Getting Data for This Demo</b></p>\n",
    "<p style = 'font-size:16px;font-family:Arial'>We have provided data for this demo on cloud storage. We have the option of either running the demo using foreign tables to access the data without using any storage on our environment or downloading the data to local storage, which may yield somewhat faster execution. However, we need to consider available storage. There are two statements in the following cell, and one is commented out. We may switch which mode we choose by changing the comment string.</p>"
   ]
  },
  {
   "cell_type": "code",
   "execution_count": null,
   "id": "37ee095f-17ad-42b6-8f59-d9e11cbb0ffd",
   "metadata": {},
   "outputs": [],
   "source": [
    "%run -i ../run_procedure.py \"call get_data('DEMO_BasketBall_local');\"\n",
    " # takes about 2 minutes minutes, estimated space: 200Mb\n",
    "#%run -i ../run_procedure.py \"call get_data('DEMO_BasketBall_cloud');\" \n",
    "# takes about 30 seconds, estimated space: 0Mb"
   ]
  },
  {
   "cell_type": "markdown",
   "id": "d5511f98-c4bd-4e8b-9153-a833fa5911d5",
   "metadata": {},
   "source": [
    "<p style = 'font-size:16px;font-family:Arial'>Optional step – We should execute the below step only if we want to see the status of databases/tables created and space used.</p>"
   ]
  },
  {
   "cell_type": "code",
   "execution_count": null,
   "id": "03f901a9-17d7-478f-a3d2-bdffa25cb111",
   "metadata": {},
   "outputs": [],
   "source": [
    "%run -i ../run_procedure.py \"call space_report();\""
   ]
  },
  {
   "cell_type": "markdown",
   "id": "d3f46d04-82b8-43db-85cc-c8926952340a",
   "metadata": {},
   "source": [
    "<hr style=\"height:2px;border:none;\">\n",
    "<p style = 'font-size:20px;font-family:Arial'><b>2. Data Exploration on Draft Data</b></p>"
   ]
  },
  {
   "cell_type": "markdown",
   "id": "cf2aac00-1a82-4a02-a4c8-b868683edc6f",
   "metadata": {},
   "source": [
    "<p style = 'font-size:16px;font-family:Arial'>Let us start by listing all tables/datasets available for us. </p>"
   ]
  },
  {
   "cell_type": "code",
   "execution_count": null,
   "id": "34eac1e6-5c2e-4392-bd2f-c3551aad1b0a",
   "metadata": {},
   "outputs": [],
   "source": [
    "db_list_tables('DEMO_BasketBall')"
   ]
  },
  {
   "cell_type": "markdown",
   "id": "7e6b927e-8bb7-4488-b4df-3c29eb0e574c",
   "metadata": {},
   "source": [
    "<p style = 'font-size:16px;font-family:Arial'>We can answer most of the drafting related questions from the Draft_History table. Questions like\n",
    "<ul     style = 'font-size:16px;font-family:Arial'>\n",
    "    <li>How does the NBA drafting count change over time from 1949 to 2020?</li>\n",
    "    <li>What are the top 10 NBA team that drafted most number of player from university?</li>\n",
    "    <li>When did the teams first start to draft players from the universities?</li>\n",
    "</p>"
   ]
  },
  {
   "cell_type": "code",
   "execution_count": null,
   "id": "7b01237e-633f-4355-aba4-5f0262e74d84",
   "metadata": {},
   "outputs": [],
   "source": [
    "tdf=DataFrame(in_schema(\"DEMO_BasketBall\", \"Draft_History\"))\n",
    "tdf"
   ]
  },
  {
   "cell_type": "code",
   "execution_count": null,
   "id": "16a3827f-2bd9-4ad5-a07b-b3b90d1ed8f4",
   "metadata": {},
   "outputs": [],
   "source": [
    "tdf.shape"
   ]
  },
  {
   "cell_type": "markdown",
   "id": "80e82987-abd0-475a-a15c-f5d8f7be789c",
   "metadata": {},
   "source": [
    "<p style = 'font-size:18px;font-family:Arial'><b>2.1 How does the NBA drafting count change over time from 1949 to 2020?</b></p>"
   ]
  },
  {
   "cell_type": "code",
   "execution_count": null,
   "id": "423bffaa-d239-4cd0-99f7-a461ce9fe435",
   "metadata": {},
   "outputs": [],
   "source": [
    "ans1=tdf.select(['season','person_id']).groupby(['season']).agg({'person_id' : ['unique']})\n",
    "ans1=ans1.assign(drop_columns=True,\n",
    "                   year_drafted=ans1.season,\n",
    "                   total_drafted=ans1.unique_person_id)\n",
    "ans1.sort('year_drafted')"
   ]
  },
  {
   "cell_type": "code",
   "execution_count": null,
   "id": "79e14e0a-7d04-4635-8ecf-fa138cb2c6c5",
   "metadata": {},
   "outputs": [],
   "source": [
    "ans1.plot(x=ans1.year_drafted,\n",
    "          y=ans1.total_drafted,\n",
    "          title=\"Number of players drafted each year\")"
   ]
  },
  {
   "cell_type": "markdown",
   "id": "d3169a5d-558a-406b-b182-4f7b95ae1c6a",
   "metadata": {},
   "source": [
    "<p style = 'font-size:18px;font-family:Arial'><b>2.2 What are the top 10 NBA team that drafted most number of player from university?</b></p>"
   ]
  },
  {
   "cell_type": "code",
   "execution_count": null,
   "id": "4c50d093-f76f-4e4c-8309-4f764e5cb13e",
   "metadata": {},
   "outputs": [],
   "source": [
    "d1=CategoricalSummary(data=tdf,target_columns ='organization_type')\n",
    "d1.result"
   ]
  },
  {
   "cell_type": "code",
   "execution_count": null,
   "id": "eedde0c5-bd1e-4dee-8eff-4bd16cc28bbf",
   "metadata": {},
   "outputs": [],
   "source": [
    "from sqlalchemy import func\n",
    "df2 = tdf[tdf.organization_type=='College/University']\n",
    "ans2=df2.select(['team_city','team_name','person_id']).groupby(['team_city','team_name']).agg({'person_id' : ['unique']})\n",
    "ans2=ans2.assign(drop_columns=True,\n",
    "                   nba_team=func.concat(ans2.team_city.expression, ' ',ans2.team_name.expression),\n",
    "                   total_drafted=ans2.unique_person_id)"
   ]
  },
  {
   "cell_type": "code",
   "execution_count": null,
   "id": "65cafe30-97d9-437a-8cd9-43fe16fd4643",
   "metadata": {},
   "outputs": [],
   "source": [
    "ans2.sort('total_drafted',ascending=False)"
   ]
  },
  {
   "cell_type": "markdown",
   "id": "2844c8d2-bcde-431d-8775-25ef73181def",
   "metadata": {},
   "source": [
    "<p style = 'font-size:18px;font-family:Arial'><b>2.3 When did the teams first start to draft players from the universities?</b></p>"
   ]
  },
  {
   "cell_type": "code",
   "execution_count": null,
   "id": "b81f1ffb-d7bf-45a4-81b8-06ada41d8160",
   "metadata": {},
   "outputs": [],
   "source": [
    "ans3=df2.select(['team_city','team_name','season']).groupby(['team_city','team_name']).agg({'season' : ['min']})\n",
    "ans3=ans3.assign(drop_columns=True,\n",
    "                   nba_team=func.concat(ans3.team_city.expression, '_',ans3.team_name.expression),\n",
    "                   min_year_uni_drafted=ans3.min_season)"
   ]
  },
  {
   "cell_type": "code",
   "execution_count": null,
   "id": "02155802-ee83-4d89-a03b-2cdb0c16c90d",
   "metadata": {},
   "outputs": [],
   "source": [
    "ans3.sort(['min_year_uni_drafted','nba_team'])"
   ]
  },
  {
   "cell_type": "markdown",
   "id": "6b1824d2-cc2e-4feb-b190-eea4e7680d5d",
   "metadata": {},
   "source": [
    "<p style = 'font-size:18px;font-family:Arial'><b>2.4 Where are the players coming from? </b></p>"
   ]
  },
  {
   "cell_type": "code",
   "execution_count": null,
   "id": "dc0395f5-55f8-4741-a15f-942eeecbedf5",
   "metadata": {},
   "outputs": [],
   "source": [
    "d1.result"
   ]
  },
  {
   "cell_type": "markdown",
   "id": "9fb225d0-cead-45c3-b889-5aca37873cbf",
   "metadata": {},
   "source": [
    "<hr style=\"height:2px;border:none;\">\n",
    "<p style = 'font-size:20px;font-family:Arial'><b>3. Getting the answers using the LLM and RAG</b></p>\n",
    "<p style = 'font-size:16px;font-family:Arial'>In the above section we saw that we can get the answers of the drafting questions by writing the queries around our data. We can get similar answers and much more by using generative AI and RAG.<br>Generative Question Answering (GQA) using Generative AI combines the power of Large Language Models (LLMs) like GPT-3 or GPT-4 with Retrieval-Augmented Generation (RAG) to provide accurate, context-aware responses. While LLMs are excellent at understanding and generating human-like text, they may lack access to specific or up-to-date data. RAG enhances their capabilities by retrieving relevant information from structured databases or documents and injecting that context into the LLM's prompt. The LLM then uses both the user's question and the retrieved content to generate a coherent and informed answer, making the system suitable for enterprise search, data-driven chatbots, and dynamic knowledge applications.<br>In this section we will see how we can use them with our data.<br>Let us import libraries needed for using LLM.</p>"
   ]
  },
  {
   "cell_type": "code",
   "execution_count": null,
   "id": "e13ee75f-9a0c-4b52-bdbc-4578af27f332",
   "metadata": {},
   "outputs": [],
   "source": [
    "import io\n",
    "import os\n",
    "\n",
    "import numpy as np\n",
    "import pandas as pd\n",
    "\n",
    "# LLM\n",
    "import sqlalchemy\n",
    "from sqlalchemy import create_engine\n",
    "from langchain import PromptTemplate, SQLDatabase, LLMChain\n",
    "from langchain_community.utilities.sql_database import SQLDatabase\n",
    "from langchain_community.agent_toolkits import create_sql_agent\n",
    "from langchain_openai import ChatOpenAI\n",
    "from langchain_core.messages import AIMessage\n",
    "from langchain_core.prompts.chat import (\n",
    "    ChatPromptTemplate,\n",
    "    HumanMessagePromptTemplate,\n",
    "    MessagesPlaceholder,\n",
    ")"
   ]
  },
  {
   "cell_type": "markdown",
   "id": "6007a6c3-d708-4d6a-9baa-23093120c350",
   "metadata": {},
   "source": [
    "<p style = 'font-size:16px;font-family:Arial'>To proceed further we will need an OpenAI API key. If we don't have one yet, we can refer to the instructions provided in this guide to obtain our OpenAI API key. </p>\n",
    "\n",
    "\n",
    "\n",
    "<a href=\"..//Openai_setup_api_key/Openai_setup_api_key.md\" style=\"text-decoration:none;\" target=\"_blank\"><button style=\"font-size:16px;font-family:Arial;color:#fff;background-color:#00233C;border:none;border-radius:5px;cursor:pointer;height:50px;line-height:50px;display:flex;align-items:center;\">OpenAI API Key Guide <span style=\"margin-left:10px;\">&#8658;</span></button>\n",
    "</a>"
   ]
  },
  {
   "cell_type": "code",
   "execution_count": null,
   "id": "ab0063ce-edca-4d01-bb94-331ab53664ba",
   "metadata": {},
   "outputs": [],
   "source": [
    "# enter your openai api key\n",
    "api_key = getpass.getpass(prompt=\"\\n Please Enter OpenAI API key: \")"
   ]
  },
  {
   "cell_type": "markdown",
   "id": "b34e32a5-8dea-4300-b933-6f07cfd7101a",
   "metadata": {},
   "source": [
    "<hr style='height:1px;border:none;'>\n",
    "\n",
    "<p style = 'font-size:18px;font-family:Arial'><b>3.1 Setting up LLM</b></p>\n",
    "\n",
    "<p style = 'font-size:16px;font-family:Arial'><b>3.1.1 Connect to databases using SQL Alchemy</b></p> </p>"
   ]
  },
  {
   "cell_type": "code",
   "execution_count": null,
   "id": "59e904b0-606b-46d1-bc99-6e2e11d59b45",
   "metadata": {
    "tags": []
   },
   "outputs": [],
   "source": [
    "#  Create the vantage SQLAlchemy engine\n",
    "database = \"DEMO_BasketBall_db\"\n",
    "db = SQLDatabase(\n",
    "    eng,\n",
    "    schema=database,\n",
    "    include_tables=[\"Draft_History\"],\n",
    ")"
   ]
  },
  {
   "cell_type": "code",
   "execution_count": null,
   "id": "28daa58a-1545-4e9d-9f93-c86bd9239cc6",
   "metadata": {},
   "outputs": [],
   "source": [
    "def get_db_schema():\n",
    "    table_dicts = []\n",
    "    database_schema_dict = {\n",
    "        \"database_name\": database,\n",
    "        \"table_name\": \"Draft_History\",\n",
    "        \"column_names\": tdf.columns,\n",
    "    }\n",
    "    table_dicts.append(database_schema_dict)\n",
    "\n",
    "    database_schema_string = \"\\n\".join(\n",
    "        [\n",
    "            f\"Database: {table['database_name']}\\nTable: {table['table_name']}\\nColumns: {', '.join(table['column_names'])}\"\n",
    "            for table in table_dicts\n",
    "        ]\n",
    "    )\n",
    "\n",
    "    return database_schema_string"
   ]
  },
  {
   "cell_type": "code",
   "execution_count": null,
   "id": "cea2ff9c-18fa-43eb-8b87-b1dd715cce49",
   "metadata": {},
   "outputs": [],
   "source": [
    "database_schema = get_db_schema()\n",
    "print(database_schema)"
   ]
  },
  {
   "cell_type": "markdown",
   "id": "a77bc655-a371-4a31-918c-ef3ff7d3c2ae",
   "metadata": {},
   "source": [
    "<p style = 'font-size:16px;font-family:Arial'><b> 3.1.2 Format the answer and Display</b></p>\n",
    "\n",
    "<p style = 'font-size:16px;font-family:Arial'>To view the answer in proper format with markdown</p>"
   ]
  },
  {
   "cell_type": "code",
   "execution_count": null,
   "id": "0f6da2ea-cfef-4581-97e9-69052029d7fe",
   "metadata": {},
   "outputs": [],
   "source": [
    "from IPython.display import display, Markdown\n",
    "\n",
    "def response_template(response):\n",
    "    if \"output\" in response:\n",
    "        return f\"<p style = 'font-size:16px;font-family:Arial'>Answer:  <b>{response['output']}<b>\"\n",
    "    else:\n",
    "        return f\"<p style = 'font-size:16px;font-family:Arial'>Answer:  <b>{response}<b>\"\n",
    "\n",
    "def error_template():\n",
    "    return f\"<p style = 'font-size:16px;font-family:Arial'>Sorry, there was an error while generating the SQL query. The GenAI may have made a mistake in the syntax of the query.  <br>\""
   ]
  },
  {
   "cell_type": "markdown",
   "id": "e2627b6a-7e8b-4398-aeb2-a8677951778d",
   "metadata": {},
   "source": [
    "<p style = 'font-size:16px;font-family:Arial'><b> 3.1.3 Define LLM model</b></p>\n",
    "\n",
    "<p style = 'font-size:16px;font-family:Arial'></p>"
   ]
  },
  {
   "cell_type": "code",
   "execution_count": null,
   "id": "c3825168-9b91-4ed6-9ed1-3ca75937dafc",
   "metadata": {},
   "outputs": [],
   "source": [
    "# OpenAI API\n",
    "os.environ[\"OPENAI_API_KEY\"] = api_key\n",
    "\n",
    "# set LLM model\n",
    "llm = ChatOpenAI(model=\"gpt-3.5-turbo\", temperature=0.1)"
   ]
  },
  {
   "cell_type": "markdown",
   "id": "5a908afe-bf8b-447a-8e80-49552035af3e",
   "metadata": {},
   "source": [
    "<p style = 'font-size:18px;font-family:Arial'><b>3.1.4 Setup SQLAgent</b></p> "
   ]
  },
  {
   "cell_type": "code",
   "execution_count": null,
   "id": "af56de12-aab0-472c-bcf9-88333697db74",
   "metadata": {},
   "outputs": [],
   "source": [
    "# main prompt\n",
    "generated_prompt = f\"\"\"You are a Teradata Database expert and you are tasked with generating SQL queries for Teradata based on user questions. \n",
    "    Your response should ONLY be based on the given context and follow the response guidelines and format instructions.\n",
    "\n",
    "        Utilize the following tables and columns exclusively when creating SQL queries:\\n{database_schema}\n",
    "\n",
    "        Here are some tips for writing Teradata style queries: \n",
    "        * Always use table aliases when your SQL statement involves more than one source\n",
    "        * Aggregated fields like COUNT(*) must be appropriately named\n",
    "        * Unless the user specifies a specific number of examples they wish to obtain, always limit your query to at most 3 results by using SELECT TOP 3, note that LIMIT function does not works in Teradata DB.\n",
    "        * Remove unnecessary ORDER BY clauses unless required. \n",
    "        * Remember: Do not use 'LIMIT' or 'FETCH' keyword in the SQLQuery, instead of TOP keyword, For Example: To select top 3 results, use TOP keyword instead of LIMIT or FETCH. \n",
    "        * Important: If you received the error \"Bad character in format or data\", change the value of columns, get the values from table only.\n",
    "        * Remember: purchased column have only 2 values: 'yes' or 'no'\n",
    "        * Critical Instruction: Use default database as 'DEMO_User'\n",
    "        \n",
    "        Few examples of SQL:\n",
    "        Example1: SELECT count(*) as total_count FROM DEMO_BasketBall.Draft_History\n",
    "        Example2: SELECT season as year_drafted, COUNT(DISTINCT person_id) AS total_drafted\n",
    "                  FROM DEMO_BasketBall.Draft_History\n",
    "                  GROUP BY year_drafted \n",
    "\n",
    "        Response Guidelines: \n",
    "        * Whenever possible, give the answer in bulleted points and proper markup.\n",
    "        * Critical Instruction: Ensure responses are exclusively derived from query results. Refrain from generating or adding synthetic data in any form.\n",
    "        * Most important: Always create a syntactically correct Teradata-style query that addresses the question, \n",
    "        even if it has been asked and answered previously. Ensure the query is generated from scratch and does not rely on any pre-existing data stored in memory.\n",
    "      \n",
    "\n",
    "        Given a user's question about this data, write a valid Teradata SQL query that accurately extracts or calculates the requested information from these tables and adheres to SQL best practices for Teradata database, optimizing for readability and performance where applicable.\n",
    "        Most important: Execute the SQL and return the final answer only in simple english statement. \n",
    "        Critical Instruction: Do not return json or SQL.\"\"\"\n",
    "\n",
    "\n",
    "messages = [\n",
    "    HumanMessagePromptTemplate.from_template(\"{input}\"),\n",
    "    AIMessage(content=generated_prompt),\n",
    "    MessagesPlaceholder(variable_name=\"agent_scratchpad\"),\n",
    "]\n",
    "\n",
    "prompt = ChatPromptTemplate.from_messages(messages)\n",
    "\n",
    "\n",
    "agent_executor = create_sql_agent(\n",
    "    llm,\n",
    "    db=db,\n",
    "    agent_type=\"openai-tools\",\n",
    "    verbose=False,\n",
    "    prompt=prompt,\n",
    "    max_iterations=10,\n",
    "    max_execution_time=20,\n",
    "    handle_parsing_errors=True,\n",
    "    return_intermediate_steps=True,\n",
    "    handle_sql_errors=True,\n",
    "    max_tokens=4000,\n",
    ")"
   ]
  },
  {
   "cell_type": "code",
   "execution_count": null,
   "id": "515ca2e8-b26a-43de-beb5-c0aee2118a2e",
   "metadata": {},
   "outputs": [],
   "source": [
    "\n",
    "try:\n",
    "    # Enter the query\n",
    "    query = \"\"\"Where are the players coming from?\"\"\"\n",
    "\n",
    "    # Response from Langchain\n",
    "    response = agent_executor.invoke(query)\n",
    "\n",
    "    display(Markdown(response_template(response)))\n",
    "except:\n",
    "    display(Markdown(error_template()))"
   ]
  },
  {
   "cell_type": "markdown",
   "id": "d72dcbe5-44ce-4df0-ad61-3c2999177389",
   "metadata": {},
   "source": [
    "<p style = 'font-size:16px;font-family:Arial'>From above answer we can see that the LLM generates a response taking the menaning of the questions as it understands them. For getting the similar query and answer as in section 2.1 we should modify our question to as below.</p>"
   ]
  },
  {
   "cell_type": "code",
   "execution_count": null,
   "id": "f57a3c31-bc9f-4342-b85f-77a0588405b5",
   "metadata": {},
   "outputs": [],
   "source": [
    "try:\n",
    "    # Enter the query\n",
    "    query = \"\"\"Give me the count of players coming from each organization type?\"\"\"\n",
    "\n",
    "    # Response from Langchain\n",
    "    response = agent_executor.invoke(query)\n",
    "\n",
    "    display(Markdown(response_template(response)))\n",
    "except:\n",
    "    display(Markdown(error_template()))"
   ]
  },
  {
   "cell_type": "markdown",
   "id": "307460ea-f0cb-4f05-a801-d6d284208c72",
   "metadata": {},
   "source": [
    "<p style = 'font-size:16px;font-family:Arial'>From above we can see that we can get similar answers from the LLM quering the database as we get when we query the database ourself.<br>The true power of Large Language Models (LLMs) lies not merely in retrieving data, but in their ability to infer meaning, context, and narrative from structured information and present it in fluent, natural language. Unlike traditional SQL queries that return raw data points, LLMs can synthesize this information, recognize patterns, and articulate insights in a way that aligns with human understanding. This capability is particularly valuable when working with complex, event-driven datasets such as the Play_By_Play table in the NBA dataset. This table captures granular, timestamped actions during a basketball game—such as shots, fouls, substitutions, and timeouts—across multiple players and teams. On its own, the raw data can be overwhelming and lacks cohesion. However, when this data is processed using a Retrieval-Augmented Generation (RAG) framework, the LLM can transform it into a meaningful, human-readable game summary or analysis—demonstrating how generative AI goes beyond querying to storytelling and insight generation.</p>"
   ]
  },
  {
   "cell_type": "code",
   "execution_count": null,
   "id": "043cf2e7-9b98-4a34-9e5d-ff675fcde131",
   "metadata": {},
   "outputs": [],
   "source": [
    "play_data = DataFrame(in_schema(\"DEMO_BasketBall\", \"Play_By_Play\"))\n",
    "play_data"
   ]
  },
  {
   "cell_type": "markdown",
   "id": "54355e6f-7129-4881-8142-23d748159907",
   "metadata": {},
   "source": [
    "<p style = 'font-size:16px;font-family:Arial'>Let us take data for a game </p>"
   ]
  },
  {
   "cell_type": "code",
   "execution_count": null,
   "id": "66435a58-c99c-41f4-b6f9-84e29d4f4957",
   "metadata": {},
   "outputs": [],
   "source": [
    "play_data[play_data.game_id == '42200174'].sort('eventnum')\n"
   ]
  },
  {
   "cell_type": "markdown",
   "id": "5fcd17fb-2a30-4bd4-92a2-b2dc46a65ef5",
   "metadata": {},
   "source": [
    "<p style = 'font-size:16px;font-family:Arial'>Here we can see the data returned by the query but we cannot make much sense to it or get a summary on what happened in this game. We can get summaries of the game by using the LLMs. </p>"
   ]
  },
  {
   "cell_type": "code",
   "execution_count": null,
   "id": "37cb9828-43ac-4b97-80ac-e53fcab86f7d",
   "metadata": {},
   "outputs": [],
   "source": [
    "# Define Helper: Mapping for Event Types\n",
    "eventmsgtype_map = {\n",
    "    1: \"Field Goal Made\",\n",
    "    2: \"Field Goal Missed\",\n",
    "    3: \"Free Throw Attempt\",\n",
    "    4: \"Rebound\",\n",
    "    5: \"Turnover\",\n",
    "    6: \"Foul\",\n",
    "    7: \"Violation\",\n",
    "    8: \"Substitution\",\n",
    "    9: \"Timeout\",\n",
    "    10: \"Jump Ball\",\n",
    "    11: \"Ejection\",\n",
    "    12: \"Start of Period\",\n",
    "    13: \"End of Period\",\n",
    "    18: \"Unknown Event\"\n",
    "}\n",
    "\n",
    "eventmsgactiontype_map = {\n",
    "    1: \"Jumpshot\",\n",
    "    2: \"Lost Ball Turnover\",\n",
    "    4: \"Traveling / Offensive Foul\",\n",
    "    5: \"Layup\",\n",
    "    7: \"Dunk\",\n",
    "    10: \"Free Throw 1-1\",\n",
    "    11: \"Free Throw 1-2\",\n",
    "    12: \"Free Throw 2-2\",\n",
    "    40: \"Out of Bounds\",\n",
    "    41: \"Block/Steal\",\n",
    "    42: \"Driving Layup\",\n",
    "    50: \"Running Dunk\",\n",
    "    52: \"Alley Oop Dunk\",\n",
    "    55: \"Hook Shot\",\n",
    "    57: \"Driving Hook Shot\",\n",
    "    58: \"Turnaround Hook Shot\",\n",
    "    66: \"Jump Bank Shot\",\n",
    "    71: \"Finger Roll Layup\",\n",
    "    72: \"Putback Layup\",\n",
    "    108: \"Cutting Dunk Shot\"\n",
    "}\n",
    "\n",
    "# Define Function to Summarize a Game\n",
    "def summarize_game(game_id):\n",
    "    query = f\"\"\"\n",
    "    SELECT homedescription, neutraldescription, visitordescription, eventmsgtype, eventmsgactiontype\n",
    "    FROM DEMO_BasketBall.Play_by_Play\n",
    "    WHERE game_id = '{game_id}'\n",
    "    ORDER BY eventnum\n",
    "    \"\"\"\n",
    "    df = pd.read_sql(query, eng)\n",
    "\n",
    "    # Translate event types\n",
    "    df['event_type'] = df['eventmsgtype'].map(eventmsgtype_map)\n",
    "    df['action_type'] = df['eventmsgactiontype'].map(eventmsgactiontype_map)\n",
    "\n",
    "    # Build a raw text summary\n",
    "    summary = []\n",
    "    for _, row in df.iterrows():\n",
    "        desc = row['homedescription'] or row['neutraldescription'] or row['visitordescription']\n",
    "        if desc:\n",
    "            text = f\"[{row['event_type']} / {row['action_type']}] {desc}\"\n",
    "            summary.append(text)\n",
    "\n",
    "    # Combine into one large context\n",
    "    full_summary = \"\\n\".join(summary)\n",
    "    return full_summary\n",
    "\n",
    "# Define Function to generate Natural Language Summary\n",
    "def generate_nba_game_summary(game_id):\n",
    "    context = summarize_game(game_id)\n",
    "    prompt = f\"\"\"\n",
    "    Summarize the following NBA game events in a detailed but readable style for a fan:\n",
    "\n",
    "    {context}\n",
    "\n",
    "    Write it as a smooth flowing game recap.\n",
    "    \"\"\"\n",
    "    return llm.predict(prompt)\n",
    "    #return llm.invoke(prompt)"
   ]
  },
  {
   "cell_type": "markdown",
   "id": "0212fa64-1974-42e7-a4bf-d6e26e1e7f9a",
   "metadata": {},
   "source": [
    "<p style = 'font-size:16px;font-family:Arial'>Now let us get the summary for the same game from LLM.</p>"
   ]
  },
  {
   "cell_type": "code",
   "execution_count": null,
   "id": "f65f1096-e987-4ac2-80f0-575ad35d4197",
   "metadata": {},
   "outputs": [],
   "source": [
    "example_game_id = '42200174'\n",
    "summary_text = generate_nba_game_summary(example_game_id)"
   ]
  },
  {
   "cell_type": "code",
   "execution_count": null,
   "id": "effcb08c-1442-4a6e-ad79-69b88d673e85",
   "metadata": {},
   "outputs": [],
   "source": [
    "display(Markdown(response_template(summary_text)))"
   ]
  },
  {
   "cell_type": "markdown",
   "id": "dae03e32-4a6b-40c2-8320-5f9a3b3b409d",
   "metadata": {},
   "source": [
    "<p style = 'font-size:20px;font-family:Arial'><b>Conclusion</b></p>\n",
    "<p style = 'font-size:16px;font-family:Arial'>In this demo we have seen how we can agument RAG and LLMs with our anaylsis of datasets to give us insights.</p>"
   ]
  },
  {
   "cell_type": "markdown",
   "id": "7b1d6c8a-7456-49d8-b661-61478acb8228",
   "metadata": {},
   "source": [
    "<hr style='height:2px;border:none;'>\n",
    "<b style = 'font-size:28px;font-family:Arial'>4. Cleanup</b>"
   ]
  },
  {
   "cell_type": "markdown",
   "id": "0044710d-fabd-4f0f-86ba-ebaea3682c6b",
   "metadata": {},
   "source": [
    "<hr style='height:1px;border:none;'>\n",
    "<p style = 'font-size:18px;font-family:Arial'> <b>4.1 Databases and Tables </b></p>\n",
    "\n",
    "<p style = 'font-size:16px;font-family:Arial'>The following code will clean up tables and databases created above.</p>"
   ]
  },
  {
   "cell_type": "code",
   "execution_count": null,
   "id": "b764efa4-6830-4898-97f4-2231ddbf0ce9",
   "metadata": {},
   "outputs": [],
   "source": [
    "%run -i ../run_procedure.py \"call remove_data('DEMO_BasketBall');\"        # Takes 5 seconds"
   ]
  },
  {
   "cell_type": "code",
   "execution_count": null,
   "id": "7caa0dd2-6503-4eba-828a-16e1291ddf6f",
   "metadata": {},
   "outputs": [],
   "source": [
    "remove_context()"
   ]
  },
  {
   "cell_type": "markdown",
   "id": "dd268e3b-27bc-421b-b6b3-5112b8ac1de1",
   "metadata": {},
   "source": [
    "<b style = 'font-size:28px;font-family:Arial'>Dataset:</b>\n",
    "NBA Dataset\n",
    "- `30` teams\n",
    "- `4800+` players\n",
    "- `65,000+` games (every game since the inaugural 1946-47 NBA season)\n",
    "- `Box Scores` for over 95% of all games\n",
    "- `Play-by-Play` game data from 01-Jan-2020 till 30-Jun-2023 of Play-by-Play data in all!\n",
    "\n",
    "<p style = 'font-size:16px;font-family:Arial'><b>Dataset source:</b> <a href = 'https://www.kaggle.com/datasets/wyattowalsh/basketball'>kaggle</a></p>\n",
    "\n",
    "<p style = 'font-size:16px;font-family:Arial'><b>Links:</b></p>\n",
    "<ul style = 'font-size:16px;font-family:Arial'>\n",
    "    <li>Teradataml Python reference: <a href = 'https://docs.teradata.com/r/Enterprise_IntelliFlex_VMware/Teradata-Package-for-Python-User-Guide-17.20'>here</a></li>\n",
    "    <li>Langchain Python reference: <a href='https://python.langchain.com/docs/get_started/introduction/'>here</a></li>\n",
    "</ul>"
   ]
  },
  {
   "cell_type": "markdown",
   "id": "4f0e0f1e-af25-403c-be57-c45ac85ddc40",
   "metadata": {},
   "source": [
    "<footer style=\"padding-bottom:35px; border-bottom:3px solid #91A0Ab\">\n",
    "    <div style=\"float:left;margin-top:14px\">ClearScape Analytics™</div>\n",
    "    <div style=\"float:right;\">\n",
    "        <div style=\"float:left; margin-top:14px\">\n",
    "            Copyright © Teradata Corporation - 2025. All Rights Reserved\n",
    "        </div>\n",
    "    </div>\n",
    "</footer>"
   ]
  }
 ],
 "metadata": {
  "kernelspec": {
   "display_name": "Python 3 (ipykernel)",
   "language": "python",
   "name": "python3"
  },
  "language_info": {
   "codemirror_mode": {
    "name": "ipython",
    "version": 3
   },
   "file_extension": ".py",
   "mimetype": "text/x-python",
   "name": "python",
   "nbconvert_exporter": "python",
   "pygments_lexer": "ipython3",
   "version": "3.9.10"
  }
 },
 "nbformat": 4,
 "nbformat_minor": 5
}
