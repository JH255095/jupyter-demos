{
 "cells": [
  {
   "cell_type": "markdown",
   "id": "e0a6e553-b014-40bc-9f99-bdd90b433a73",
   "metadata": {},
   "source": [
    "<header>\n",
    "   <p  style='font-size:36px;font-family:Arial; color:#F0F0F0; background-color: #00233c; padding-left: 20pt; padding-top: 20pt;padding-bottom: 10pt; padding-right: 20pt;'>\n",
    "       Customer Retail Journeys \n",
    "  <br>\n",
    "       <img id=\"teradata-logo\" src=\"https://storage.googleapis.com/clearscape_analytics_demo_data/DEMO_Logo/teradata.svg\" alt=\"Teradata\" style=\"width: 125px; height: auto; margin-top: 20pt;\">\n",
    "    </p>\n",
    "</header>    \n",
    "<br>\n",
    "\n",
    "<p style = 'font-size:20px;font-family:Arial'><b>Introduction</b></p>    "
   ]
  },
  {
   "cell_type": "markdown",
   "id": "134e49b3-8ad1-490c-a1ca-8a6fb9d9c3a2",
   "metadata": {},
   "source": [
    "\n",
    "\n",
    "<p style = 'font-size:16px;font-family:Arial'>In today's business landscape, customers engage with numerous digital platforms, including various company websites and online interfaces. As a result, the digital experiences offered by firms have become increasingly critical. However, companies often encounter challenges when attempting to understand and analyze customers' digital interactions. Fortunately, Teradata offers innovative solutions such as Vantage and ClearScape Analytics to address these challenges. We want to provide impactful strategies that companies can utilize to overcome common obstacles and enhance the digital experience.</p>\n",
    "<p style = 'font-size:16px;font-family:Arial'>Our goal at Teradata is to help you identify the high-impact moments in your customers’ digital journeys so that you can better meet their needs and expectations. In fact, a survey from American Express found that as many as 78% of consumers gave up on a transaction due to broken processes, which can lead to companies losing 10s of millions of dollars in revenue and increasing customer churn.</p>\n",
    "<p style = 'font-size:20px;font-family:Arial'><b>Business Value</b></p>\n",
    "<li style = 'font-size:16px;font-family:Arial'>Increase revenue through improving conversions.</li>\n",
    "<li style = 'font-size:16px;font-family:Arial'>Drive incremental sales through new leads.</li>\n",
    "<li style = 'font-size:16px;font-family:Arial'>Reduce costs by improving operational efficiencies. </li>\n",
    "<li style = 'font-size:16px;font-family:Arial'>Investigate further into the customer journey and possible friction via techniques such as cluster analysis.</li>\n",
    "<li style = 'font-size:16px;font-family:Arial'>Implement process changes or alerts to remove friction points.</li>\n",
    "<li style = 'font-size:16px;font-family:Arial'>Create proactive customer outreach via Call Centers or marketing outreach.</li></p> \n",
    "<p style = 'font-size:20px;font-family:Arial'><b>Why Vantage? </b></p>\n",
    "<p style = 'font-size:16px;font-family:Arial'>With the advantages of Vantage and ClearScape Analytics, we bring key differentiating capabilities that set us apart from the current fragmented state many of our customers and prospects face. Analyzing customer behavior across multiple channels poses many challenges.  Data is disconnected, or when it is available, typically exists in vast quantities that make timely, accurate analysis impossible.  If this analysis is available, it is typically only available inside of a closed, proprietary ecosystem. </p>\n",
    "<p style = 'font-size:16px;font-family:Arial'>Fortunately, Vantage allows users to unlock the value in their customer behavioral information by</p>\n",
    "<li style = 'font-size:16px;font-family:Arial'>Accessing data across multiple, disconnected silos, and </li>\n",
    "<li style = 'font-size:16px;font-family:Arial'>Applying unique, massively-scalable analytics capabilities which allows organizations to understand a complete and accurate picture of the user journey.</li></p>\n",
    "<p style = 'font-size:16px;font-family:Arial'>With Vantage, these analytics can be run in real-time for any data volume or number of users – providing an accurate, timely view of overall user experience. And of course, Vantage and ClearScape Analytics allow for at-scale processing across all the digital interactions that make up customer journeys.\n",
    "Furthermore, this analysis can be passed to additional ML and AI capabilities available in ClearScape Analytics, helping to develop more accurate and actionable predictive models.\n",
    "</p>\n",
    "\n",
    "<p style = 'font-size:16px;font-family:Arial'>This demo shows how to use ClearScape functions to analyze customer digital behavior, experience, and diagnosis of problems with customer experience and flow. It uses a simulated digital retail data set. Specifically, it has examples of looking at the most frequent customer journeys and identifying any common events that could potentially be stopping the customer from making a purchase.</p>"
   ]
  },
  {
   "cell_type": "markdown",
   "id": "637bd29c-3d55-4772-b5d6-7f8355dd7ec2",
   "metadata": {},
   "source": [
    "<hr style=\"height:1px;border:none;background-color:#00233C;\">\n",
    "<p style = 'font-size:18px;font-family:Arial;color:#00233C'><b>Downloading and installing additional software needed</b>"
   ]
  },
  {
   "cell_type": "code",
   "execution_count": null,
   "id": "2a4e61bf-b416-4da2-9c52-5710b90b2931",
   "metadata": {},
   "outputs": [],
   "source": [
    "%%capture\n",
    "!pip install teradataml==20.00.00.03 --quiet"
   ]
  },
  {
   "cell_type": "markdown",
   "id": "4085964d-033a-42b4-ab43-752ec8e7ca23",
   "metadata": {},
   "source": [
    "<div class=\"alert alert-block alert-info\">\n",
    "<p style = 'font-size:16px;font-family:Arial;color:#00233C'><b>Note: </b><i>Please restart the kernel after executing these two lines. The simplest way to restart the Kernel is by typing zero zero: <b> 0 0</b></i></p>"
   ]
  },
  {
   "cell_type": "markdown",
   "id": "f8301387-5f0b-4193-b2fe-18fba4d3ebde",
   "metadata": {
    "tags": []
   },
   "source": [
    "<hr style=\"height:2px;border:none;\">\n",
    "\n",
    "<p style = 'font-size:20px;font-family:Arial'><b>1. Connect to Vantage</b></p>\n"
   ]
  },
  {
   "cell_type": "markdown",
   "id": "4465008c-b56d-4158-8dfb-dd8069ce68d9",
   "metadata": {},
   "source": [
    "<p style = 'font-size:16px;font-family:Arial'>In the section, we import the required libraries and set environment variables and environment paths (if required).</p>"
   ]
  },
  {
   "cell_type": "markdown",
   "id": "f19c2e52-450a-429f-ab49-721b2a957fce",
   "metadata": {},
   "source": [
    "\n",
    "<p style = 'font-size:16px;font-family:Arial'>Import the libraries mentioned in the below cell.</p>"
   ]
  },
  {
   "cell_type": "code",
   "execution_count": null,
   "id": "6d11eed5-7cdc-421d-aeb7-780a2274353e",
   "metadata": {},
   "outputs": [],
   "source": [
    "import teradataml as tdml\n",
    "from teradataml import *\n",
    "from teradataml import configure\n",
    "\n",
    "import sqlalchemy\n",
    "import getpass\n",
    "import pandas as pd\n",
    "\n",
    "import plotly.express as px\n",
    "# from sklearn.ensemble import RandomForestClassifier\n",
    "import seaborn as sns\n",
    "import matplotlib.pyplot as plt\n",
    "import tdnpathviz\n",
    "\n",
    "\n",
    "import warnings\n",
    "warnings.filterwarnings('ignore')\n",
    "display.max_rows = 5\n",
    "\n",
    "configure.val_install_location = \"val\""
   ]
  },
  {
   "cell_type": "markdown",
   "id": "2d157aaa-0319-4040-9819-55f070133abc",
   "metadata": {},
   "source": [
    "<p style = 'font-size:16px;font-family:Arial'>We will be prompted to provide the password. We will enter the password, press the Enter key, and then use the down arrow to go to the next cell. Begin running steps with Shift + Enter keys.</p> "
   ]
  },
  {
   "cell_type": "code",
   "execution_count": null,
   "id": "8ec71dc4-2f40-4bd1-ae12-270bba99998d",
   "metadata": {},
   "outputs": [],
   "source": [
    "%run -i ../startup.ipynb\n",
    "eng = create_context(host = 'host.docker.internal', username='demo_user', password = password)\n",
    "print(eng)"
   ]
  },
  {
   "cell_type": "code",
   "execution_count": null,
   "id": "c90cc1ce-3658-4cbe-949f-ca390c657b38",
   "metadata": {},
   "outputs": [],
   "source": [
    "%%capture\n",
    "execute_sql('''SET query_band='DEMO=Customer_Retail_Journey.ipynb;' UPDATE FOR SESSION; ''')"
   ]
  },
  {
   "cell_type": "markdown",
   "id": "74bfd1dd-a76d-4817-a364-dbf5b08fb5e0",
   "metadata": {},
   "source": [
    "<hr style=\"height:2px;border:none;\">\n",
    "\n",
    "<p style = 'font-size:20px;font-family:Arial'><b>2. Getting Data for This Demo</b></p>\n",
    "<p style = 'font-size:16px;font-family:Arial'>We have provided data for this demo on cloud storage. We have the option of either running the demo using foreign tables to access the data without using any storage on our environment or downloading the data to local storage, which may yield somewhat faster execution. However, we need to consider available storage. There are two statements in the following cell, and one is commented out. We may switch which mode we choose by changing the comment string.</p>    \n"
   ]
  },
  {
   "cell_type": "code",
   "execution_count": null,
   "id": "67cbbd86-cda6-4edd-b5c5-81e70e38892d",
   "metadata": {},
   "outputs": [],
   "source": [
    "# %run -i ../run_procedure.py \"call get_data('DEMO_RetailJourney_cloud');\"\n",
    "# Takes about 20 seconds\n",
    "%run -i ../run_procedure.py \"call get_data('DEMO_RetailJourney_local');\"\n",
    "# Takes about 50 seconds"
   ]
  },
  {
   "cell_type": "markdown",
   "id": "aa1ad92a-abd1-4d1d-8fdd-4da370f6dbca",
   "metadata": {},
   "source": [
    "<p style = 'font-size:16px;font-family:Arial'>Optional step – We should execute the below step only if we want to see the status of databases/tables created and space used.</p>"
   ]
  },
  {
   "cell_type": "code",
   "execution_count": null,
   "id": "39629ac1-6da4-4ee4-b9de-71d87c0cd9fc",
   "metadata": {},
   "outputs": [],
   "source": [
    "%run -i ../run_procedure.py \"call space_report();\""
   ]
  },
  {
   "cell_type": "markdown",
   "id": "aaa04cb9-d735-461b-b62b-b34e5e8683bf",
   "metadata": {},
   "source": [
    "<hr style=\"height:2px;border:none;\">\n",
    "\n",
    "<p style = 'font-size:20px;font-family:Arial'><b>3. Data Exploration</b></p>\n",
    "\n",
    "\n",
    "<p style = 'font-size:16px;font-family:Arial'>We create a DataFrame to get the data from the table created.</p>\n",
    "\n",
    "\n"
   ]
  },
  {
   "cell_type": "code",
   "execution_count": null,
   "id": "8de67b60-4c81-458e-82cf-96842288349d",
   "metadata": {},
   "outputs": [],
   "source": [
    "data = DataFrame(in_schema('DEMO_RetailJourney','Customer_Retail_Data'))\n",
    "data"
   ]
  },
  {
   "cell_type": "markdown",
   "id": "cf2930c5-f33f-4f97-a86e-3cee5e789035",
   "metadata": {},
   "source": [
    "<p style = 'font-size:16px;font-family:Arial'> Let's check which events are there and the number of occurrences of each event.</p>"
   ]
  },
  {
   "cell_type": "code",
   "execution_count": null,
   "id": "c69cbf55-b6f6-42b9-863f-fce2a540833c",
   "metadata": {
    "scrolled": true
   },
   "outputs": [],
   "source": [
    "data.select([\"customerid\",\"page\"]).groupby(\"page\").count().head(15).sort(\"count_customerid\", ascending=False)"
   ]
  },
  {
   "cell_type": "markdown",
   "id": "8c8ab899-2b57-412c-ad7c-959e778f0465",
   "metadata": {},
   "source": [
    "<p style = 'font-size:16px;font-family:Arial'> Let's check the events for one customer.</p>"
   ]
  },
  {
   "cell_type": "code",
   "execution_count": null,
   "id": "1b7ca091-38ba-4102-9831-aa942ac0f71f",
   "metadata": {},
   "outputs": [],
   "source": [
    "data[(data['customerid']==578070\n",
    "     )&(data['sessionid']==0)].sort(\"tstamp\").head(10)"
   ]
  },
  {
   "cell_type": "markdown",
   "id": "a05ecfdb-2b90-4ce7-83ad-91ec12a67491",
   "metadata": {},
   "source": [
    "<p style = 'font-size:16px;font-family:Arial'> We will create our columns of interset using various transformations.</p>"
   ]
  },
  {
   "cell_type": "code",
   "execution_count": null,
   "id": "9ff775a2-b347-419e-8e50-8fe245894152",
   "metadata": {
    "scrolled": true
   },
   "outputs": [],
   "source": [
    "temp = data.assign(drop_columns=True,\n",
    "                   cookie = data.customerid.concat(\"_\", data.sessionid).cast(type_=VARCHAR(50)),\n",
    "                   tmstp = data.tstamp.cast(type_=TIMESTAMP(6)),\n",
    "                   interaction = case([(data.page == 'PURCHASE COMPLETE', 'conversion')], else_='impression').cast(type_= VARCHAR(30)),\n",
    "                   conversion = case([(data.page == 'PURCHASE COMPLETE', 1)], else_= 0).cast(type_= INTEGER),\n",
    "                   conversion_value =  case([(data.page == 'PURCHASE COMPLETE', data.amount)], else_= 0).cast(type_= INTEGER),\n",
    "                   cost = case([(data.page == 'PURCHASE COMPLETE', data.amount)], else_= 1).cast(type_= INTEGER),\n",
    "                   channel = data.page.cast(type_= VARCHAR(50)),\n",
    "                   category = data.cart.cast(type_= VARCHAR(50)))\n",
    "\n",
    "temp               "
   ]
  },
  {
   "cell_type": "code",
   "execution_count": null,
   "id": "a4dcdf23-4b35-4a8b-9c73-6aec2541242a",
   "metadata": {},
   "outputs": [],
   "source": [
    "proxy_df = temp.select(['cookie', 'tmstp', 'interaction', 'conversion', 'conversion_value', 'cost', 'channel', 'category'])"
   ]
  },
  {
   "cell_type": "code",
   "execution_count": null,
   "id": "1a39660e-8eaf-40cb-8756-347d6b86bffc",
   "metadata": {},
   "outputs": [],
   "source": [
    "sample_proxy_cookies = proxy_df.select(['cookie']).sample(frac=0.01) #,id_column=\"cookie\", seed=24)\n"
   ]
  },
  {
   "cell_type": "code",
   "execution_count": null,
   "id": "5d2c816d-90f0-4eb6-9247-41f7183882ea",
   "metadata": {
    "scrolled": true
   },
   "outputs": [],
   "source": [
    "# sample_proxy_df = proxy_df[proxy_df['cookie'].isin(sample_proxy_cookies)]\n",
    "sample_proxy_df = proxy_df.merge(right=sample_proxy_cookies, how=\"inner\", on=\"cookie\", lsuffix =\"t1\", rsuffix = \"t2\")\n",
    "sample_proxy_df"
   ]
  },
  {
   "cell_type": "code",
   "execution_count": null,
   "id": "c53e7a1c-b4dc-4086-8516-6958e423a97b",
   "metadata": {},
   "outputs": [],
   "source": [
    "sample_proxy_df.shape"
   ]
  },
  {
   "cell_type": "markdown",
   "id": "095a3c83-4d66-4c2d-b803-47d7340b65ff",
   "metadata": {},
   "source": [
    "<p style = 'font-size:16px;font-family:Arial'> We will remove the duplicate rows from our dataset.</p>"
   ]
  },
  {
   "cell_type": "code",
   "execution_count": null,
   "id": "e3640e51-1f29-496f-9cd7-f7aad43c218a",
   "metadata": {},
   "outputs": [],
   "source": [
    "sample_proxy_df = sample_proxy_df.drop_duplicate()\n",
    "sample_proxy_df.shape"
   ]
  },
  {
   "cell_type": "code",
   "execution_count": null,
   "id": "81137e25-fb5a-4526-aa29-e3bb2b0a252a",
   "metadata": {},
   "outputs": [],
   "source": [
    "sample_proxy_df =  sample_proxy_df.assign(cookie = sample_proxy_df.cookie_t1)\n",
    "sample_proxy_df = sample_proxy_df.drop([\"cookie_t1\",\"cookie_t2\",\"sampleid\"], axis=1)\n",
    "sample_proxy_df"
   ]
  },
  {
   "cell_type": "code",
   "execution_count": null,
   "id": "59cc9f21",
   "metadata": {},
   "outputs": [],
   "source": [
    "# execute_sql('''DROP TABLE CJ_retail_proxy_data_v1''')"
   ]
  },
  {
   "cell_type": "code",
   "execution_count": null,
   "id": "7a70e715-0744-4fa5-85ee-bbe13b81b974",
   "metadata": {},
   "outputs": [],
   "source": [
    "# Create the table\n",
    "qry = '''\n",
    "CREATE MULTISET TABLE CJ_retail_proxy_data_v1\n",
    "(\n",
    "    \n",
    "    tmstp TIMESTAMP(6),\n",
    "    interaction VARCHAR(30) ,\n",
    "    conversion INT,\n",
    "    conversion_value INT,\n",
    "    cost INT, \n",
    "    channel VARCHAR(50) ,\n",
    "    category VARCHAR(50),\n",
    "    cookie VARCHAR(50) \n",
    ");\n",
    "'''\n",
    "\n",
    "try:\n",
    "    execute_sql(qry)\n",
    "except:\n",
    "    db_drop_table('CJ_retail_proxy_data_v1')\n",
    "    execute_sql(qry)\n",
    "\n"
   ]
  },
  {
   "cell_type": "code",
   "execution_count": null,
   "id": "6419fe91-d35d-4199-bb59-4d4571ea7077",
   "metadata": {},
   "outputs": [],
   "source": [
    "copy_to_sql(sample_proxy_df, table_name=\"CJ_retail_proxy_data_v1\", if_exists=\"append\")\n",
    "attr_df = DataFrame(\"CJ_retail_proxy_data_v1\")"
   ]
  },
  {
   "cell_type": "code",
   "execution_count": null,
   "id": "b71b310c-66ad-431d-b38c-2068d9df95d3",
   "metadata": {},
   "outputs": [],
   "source": [
    "%time\n",
    "from sqlalchemy import literal_column\n",
    "column2 = literal_column(\"cast('2018-07-30' as Date)\")\n",
    "conversions_df = attr_df.loc[attr_df['conversion'] == 1]\n",
    "conversions_df = conversions_df.assign(time = conversions_df.tmstp.cast(type_=DATE))\n",
    "conversions_df = conversions_df[conversions_df['time'] < column2]\n",
    "conversions_df = conversions_df.drop(['cookie', 'interaction'], axis=1)\n",
    "conversions_df = conversions_df.select(['conversion', 'conversion_value',\n",
    "                           'cost', 'channel']).groupby('channel').sum()\n",
    "conversions_df"
   ]
  },
  {
   "cell_type": "markdown",
   "id": "0de96765-c606-44de-8fbd-de50ab75768d",
   "metadata": {},
   "source": [
    "<a id=\"rule\"></a>\n",
    "<hr style=\"height:2px;border:none;background-color:#00233C;\">\n",
    "<p style = 'font-size:20px;font-family:Arial;color:#00233C'><b>4. RULE BASED MODELS</b></p>\n"
   ]
  },
  {
   "cell_type": "markdown",
   "id": "e73e8276-4819-4077-98e5-eaef67c43917",
   "metadata": {},
   "source": [
    "<p style = 'font-size:16px;font-family:Arial;color:#00233C'>Rule Based attribution models assign conversion credits (weights) to touchpoints in a conversion path according to certain predefined rules.\n",
    "</p>\n",
    "<p style = 'font-size:16px;font-family:Arial;color:#00233C'>These rules are used to identify the position of an interaction on the conversion path and then assign conversion credit solely on the basis of its position.\n",
    "</p>\n",
    "<p style = 'font-size:16px;font-family:Arial;color:#00233C'>To execute rule based models we can leverage the Vantage native Attribution function and easily consider the following methods:\n",
    "<ul style = 'font-size:16px;font-family:Arial;color:#00233C'>\n",
    "    <li>Uniform: Conversion event is attributed uniformly to preceding attributable events.</li>\n",
    "    <li>First Click: Conversion event is attributed entirely to first attributable event.</li>\n",
    "    <li>Last Click: Conversion event is attributed entirely to most recent attributable event</li> \n",
    "    <li>Exponential:  Conversion event is attributed exponentially to preceding attributable events (the more recent the event, the higher the attribution).</li>\n",
    " </ul>\n",
    "</p>"
   ]
  },
  {
   "cell_type": "markdown",
   "id": "de983c14-8675-40ad-84ca-7e559d2d8166",
   "metadata": {},
   "source": [
    "<hr style=\"height:1px;border:none;background-color:#00233C;\">\n",
    "<p style = 'font-size:18px;font-family:Arial;color:#00233C'><b>4.1 Calculate Attribution using all the 4 methods</b></p>\n",
    "<p style = 'font-size:16px;font-family:Arial;color:#00233C'>The function takes data and parameters from multiple tables and outputs attributions. Please refer to Teradata Vantage™ - Analytics Database Analytic Functions documentation for more on Attribution function.</p>\n",
    "\n",
    "<p style = 'font-size:16px;font-family:Arial;color:#00233C'>Attribution Input :\n",
    "<ol style = 'font-size:14px;font-family:Arial;color:#00233C'>\n",
    "<li style = 'font-size:14px;font-family:Arial;color:#00233C'>Input tables (maximum of five) (Contain data for computing attributions).</li>\n",
    "<li style = 'font-size:14px;font-family:Arial;color:#00233C'>ConversionEventTable (Contains conversion events).</li>\n",
    "<li style = 'font-size:14px;font-family:Arial;color:#00233C'>FirstModelTable (Defines type and distributions of model - we'll create one table per model)</li></ol>\n",
    "</p>\n",
    "\n",
    "<p style = 'font-size:16px;font-family:Arial;color:#00233C'>Attribution Syntax Elements:\n",
    "<ol style = 'font-size:14px;font-family:Arial;color:#00233C'>\n",
    "<li style = 'font-size:14px;font-family:Arial;color:#00233C'>EventColumn specifies the name of the input column that contains the events.</li>\n",
    "<li style = 'font-size:14px;font-family:Arial;color:#00233C'>TimeColumn specifies the name of the input column that contains the timestamps of the  events.</li>\n",
    "<li style = 'font-size:14px;font-family:Arial;color:#00233C'>WindowSize specifies how to determine the maximum window size for the attribution calculation</li></ol>\n",
    "    </p>"
   ]
  },
  {
   "cell_type": "code",
   "execution_count": null,
   "id": "2da3aa4c-a45e-4da5-8e1a-1e22da9f40ae",
   "metadata": {},
   "outputs": [],
   "source": [
    "%time\n",
    "# Drop the table if it already exists\n",
    "qry = 'DROP TABLE ATTRIBUTION_CONVERSION;'\n",
    "try:\n",
    "    execute_sql(qry)\n",
    "except Exception as e:\n",
    "    if str(e.args).find('3807') >= 1:\n",
    "        pass\n",
    "    else:\n",
    "        raise\n",
    "\n",
    "# Create the table\n",
    "qry = '''\n",
    "CREATE MULTISET TABLE ATTRIBUTION_CONVERSION\n",
    "(\n",
    "    CONVERSION VARCHAR(100)\n",
    ");\n",
    "'''\n",
    "\n",
    "# Execute the query\n",
    "execute_sql(qry)\n",
    "\n",
    "#Insert model specification values (line1)\n",
    "qry = '''\n",
    "INSERT INTO ATTRIBUTION_CONVERSION VALUES ('conversion');;\n",
    "'''\n",
    "\n",
    "# Execute the query\n",
    "execute_sql(qry)"
   ]
  },
  {
   "cell_type": "markdown",
   "id": "e81fba0d-7c17-4e27-9b18-5d8044776eab",
   "metadata": {},
   "source": [
    "<p style = 'font-size:16px;font-family:Arial;color:#00233C'><b>Uniform Model (applies equal weighting to all contributing touchpoints in the customer journey)</b></p>"
   ]
  },
  {
   "cell_type": "code",
   "execution_count": null,
   "id": "5660803a-17de-4edb-862d-8050c8e3c652",
   "metadata": {},
   "outputs": [],
   "source": [
    "%time\n",
    "# Drop the table if it already exists\n",
    "qry = 'DROP TABLE ATTRIBUTION_MODEL_UNIFORM;'\n",
    "try:\n",
    "    execute_sql(qry)\n",
    "except Exception as e:\n",
    "    if str(e.args).find('3807') >= 1:\n",
    "        pass\n",
    "    else:\n",
    "        raise\n",
    "\n",
    "# Create the table\n",
    "qry = '''\n",
    "CREATE MULTISET TABLE ATTRIBUTION_MODEL_UNIFORM\n",
    "(\n",
    "    ID   INT,\n",
    "    MODEL VARCHAR(100)\n",
    ");\n",
    "'''\n",
    "\n",
    "# Execute the query\n",
    "execute_sql(qry)\n",
    "\n",
    "#Insert model specification values (line1)\n",
    "qry = '''\n",
    "INSERT INTO ATTRIBUTION_MODEL_UNIFORM VALUES (0,'EVENT_REGULAR');\n",
    "'''\n",
    "\n",
    "# Execute the query\n",
    "execute_sql(qry)\n",
    "\n",
    "#Insert model specification values (line2)\n",
    "qry = '''\n",
    "INSERT INTO ATTRIBUTION_MODEL_UNIFORM VALUES (1,'ALL:1.0:UNIFORM:NA');\n",
    "'''\n",
    "\n",
    "# Execute the query\n",
    "execute_sql(qry)"
   ]
  },
  {
   "cell_type": "code",
   "execution_count": null,
   "id": "0bbffd38-c7cd-410a-b66a-9d4b8984b36e",
   "metadata": {},
   "outputs": [],
   "source": [
    "%time\n",
    "# Drop the table if it already exists\n",
    "qry = 'DROP TABLE ATTRIBUTION_MODEL_FIRSTCLICK;'\n",
    "try:\n",
    "    execute_sql(qry)\n",
    "except Exception as e:\n",
    "    if str(e.args).find('3807') >= 1:\n",
    "        pass\n",
    "    else:\n",
    "        raise\n",
    "\n",
    "# Create the table\n",
    "qry = '''\n",
    "CREATE MULTISET TABLE ATTRIBUTION_MODEL_FIRSTCLICK\n",
    "(\n",
    "    ID   INT,\n",
    "    MODEL VARCHAR(100)\n",
    ");\n",
    "'''\n",
    "\n",
    "# Execute the query\n",
    "execute_sql(qry)\n",
    "\n",
    "#Insert model specification values (line1)\n",
    "qry = '''\n",
    "INSERT INTO ATTRIBUTION_MODEL_FIRSTCLICK VALUES (0,'EVENT_REGULAR');\n",
    "'''\n",
    "\n",
    "# Execute the query\n",
    "execute_sql(qry)\n",
    "\n",
    "#Insert model specification values (line2)\n",
    "qry = '''\n",
    "INSERT INTO ATTRIBUTION_MODEL_FIRSTCLICK VALUES (1,'ALL:1.0:FIRST_CLICK:NA');\n",
    "'''\n",
    "\n",
    "# Execute the query\n",
    "execute_sql(qry)"
   ]
  },
  {
   "cell_type": "markdown",
   "id": "6cfa120a-67a2-401f-b081-d08a1a901195",
   "metadata": {},
   "source": [
    "<p style = 'font-size:16px;font-family:Arial;color:#00233C'><b> Last Click Model (100% of the credit is directly attributed to the last interaction in the customer journey)</b></p>"
   ]
  },
  {
   "cell_type": "code",
   "execution_count": null,
   "id": "2545da9f-cfc1-4c9f-8739-a44c06f9e0de",
   "metadata": {},
   "outputs": [],
   "source": [
    "%time\n",
    "# Drop the table if it already exists\n",
    "qry = 'DROP TABLE ATTRIBUTION_MODEL_LASTCLICK;'\n",
    "try:\n",
    "    execute_sql(qry)\n",
    "except Exception as e:\n",
    "    if str(e.args).find('3807') >= 1:\n",
    "        pass\n",
    "    else:\n",
    "        raise\n",
    "\n",
    "# Create the table\n",
    "qry = '''\n",
    "CREATE MULTISET TABLE ATTRIBUTION_MODEL_LASTCLICK\n",
    "(\n",
    "    ID   INT,\n",
    "    MODEL VARCHAR(100)\n",
    ");\n",
    "'''\n",
    "\n",
    "# Execute the query\n",
    "execute_sql(qry)\n",
    "\n",
    "#Insert model specification values (line1)\n",
    "qry = '''\n",
    "INSERT INTO ATTRIBUTION_MODEL_LASTCLICK VALUES (0,'EVENT_REGULAR');\n",
    "'''\n",
    "\n",
    "# Execute the query\n",
    "execute_sql(qry)\n",
    "\n",
    "#Insert model specification values (line2)\n",
    "qry = '''\n",
    "INSERT INTO ATTRIBUTION_MODEL_LASTCLICK VALUES (1,'ALL:1.0:LAST_CLICK:NA');\n",
    "'''\n",
    "\n",
    "# Execute the query\n",
    "execute_sql(qry)"
   ]
  },
  {
   "cell_type": "code",
   "execution_count": null,
   "id": "7b8df882-1864-4716-8869-7d38c7539cb7",
   "metadata": {},
   "outputs": [],
   "source": [
    "%time\n",
    "# Drop the table if it already exists\n",
    "qry = 'DROP TABLE ATTRIBUTION_MODEL_EXPONENTIAL;'\n",
    "try:\n",
    "    execute_sql(qry)\n",
    "except Exception as e:\n",
    "    if str(e.args).find('3807') >= 1:\n",
    "        pass\n",
    "    else:\n",
    "        raise\n",
    "\n",
    "# Create the table\n",
    "qry = '''\n",
    "CREATE MULTISET TABLE ATTRIBUTION_MODEL_EXPONENTIAL\n",
    "(\n",
    "    ID   INT,\n",
    "    MODEL VARCHAR(100)\n",
    ");\n",
    "'''\n",
    "\n",
    "# Execute the query\n",
    "execute_sql(qry)\n",
    "\n",
    "#Insert model specification values (line1)\n",
    "qry = '''\n",
    "INSERT INTO ATTRIBUTION_MODEL_EXPONENTIAL VALUES (0,'EVENT_REGULAR');\n",
    "'''\n",
    "\n",
    "# Execute the query\n",
    "execute_sql(qry)\n",
    "\n",
    "#Insert model specification values (line2)\n",
    "qry = '''\n",
    "INSERT INTO ATTRIBUTION_MODEL_EXPONENTIAL VALUES (1,'ALL:1.0:EXPONENTIAL:0.5,ROW');\n",
    "'''\n",
    "\n",
    "# Execute the query\n",
    "execute_sql(qry)"
   ]
  },
  {
   "cell_type": "code",
   "execution_count": null,
   "id": "7247527b-38e8-4730-a921-dbdfed263e4f",
   "metadata": {},
   "outputs": [],
   "source": [
    "%time\n",
    "attr_conversion =  DataFrame('ATTRIBUTION_CONVERSION')\n",
    "attr_uniform =  DataFrame('ATTRIBUTION_MODEL_UNIFORM')\n",
    "attr_fc =  DataFrame('ATTRIBUTION_MODEL_FIRSTCLICK')\n",
    "attr_lc =  DataFrame('ATTRIBUTION_MODEL_LASTCLICK')\n",
    "attr_exp =  DataFrame('ATTRIBUTION_MODEL_EXPONENTIAL')"
   ]
  },
  {
   "cell_type": "code",
   "execution_count": null,
   "id": "caf067e3-dc89-4c39-8db4-5a4dc2004882",
   "metadata": {},
   "outputs": [],
   "source": [
    "%time\n",
    "attribution_uniform = Attribution(data=attr_df,\n",
    "                                             data_partition_column=\"cookie\",\n",
    "                                             data_order_column=\"tmstp\",\n",
    "                                             event_column=\"interaction\",\n",
    "                                             conversion_data=attr_conversion,\n",
    "                                             timestamp_column = \"tmstp\",\n",
    "                                             window_size = \"rows:20\",\n",
    "                                             model1_type=attr_uniform)\n",
    "\n",
    "AttrUNI_df = attribution_uniform.result\n",
    "attribution_FC = Attribution(data=attr_df,\n",
    "                                             data_partition_column=\"cookie\",\n",
    "                                             data_order_column=\"tmstp\",\n",
    "                                             event_column=\"interaction\",\n",
    "                                             conversion_data=attr_conversion,\n",
    "                                             timestamp_column = \"tmstp\",\n",
    "                                             window_size = \"rows:20\",\n",
    "                                             model1_type=attr_fc)\n",
    "\n",
    "AttrFC_df = attribution_FC.result\n",
    "attribution_LC = Attribution(data=attr_df,\n",
    "                                             data_partition_column=\"cookie\",\n",
    "                                             data_order_column=\"tmstp\",\n",
    "                                             event_column=\"interaction\",\n",
    "                                             conversion_data=attr_conversion,\n",
    "                                             timestamp_column = \"tmstp\",\n",
    "                                             window_size = \"rows:20\",\n",
    "                                             model1_type=attr_lc)\n",
    "\n",
    "AttrLC_df = attribution_LC.result\n",
    "attribution_EXP = Attribution(data=attr_df,\n",
    "                                             data_partition_column=\"cookie\",\n",
    "                                             data_order_column=\"tmstp\",\n",
    "                                             event_column=\"interaction\",\n",
    "                                             conversion_data=attr_conversion,\n",
    "                                             timestamp_column = \"tmstp\",\n",
    "                                             window_size = \"rows:20\",\n",
    "                                             model1_type=attr_exp)\n",
    "\n",
    "AttrEXP_df = attribution_EXP.result\n"
   ]
  },
  {
   "cell_type": "code",
   "execution_count": null,
   "id": "6288311c-fcbe-4aba-96bc-61c5ec2c2003",
   "metadata": {},
   "outputs": [],
   "source": [
    "copy_to_sql(AttrUNI_df, table_name='AttrUNI_df', if_exists='replace')\n",
    "copy_to_sql(AttrFC_df, table_name='AttrFC_df', if_exists='replace')\n",
    "copy_to_sql(AttrLC_df, table_name='AttrLC_df', if_exists='replace')\n",
    "copy_to_sql(AttrEXP_df, table_name='AttrEXP_df', if_exists='replace')"
   ]
  },
  {
   "cell_type": "code",
   "execution_count": null,
   "id": "07498204-b438-40de-bb10-874aa406ff66",
   "metadata": {},
   "outputs": [],
   "source": [
    "AttrUNI_df =  DataFrame('AttrUNI_df')\n",
    "AttrFC_df =  DataFrame('AttrFC_df')\n",
    "AttrLC_df =  DataFrame('AttrLC_df')\n",
    "AttrEXP_df =  DataFrame('AttrEXP_df')"
   ]
  },
  {
   "cell_type": "code",
   "execution_count": null,
   "id": "0756f362-8cc7-45d3-9407-50b2e42e4f84",
   "metadata": {},
   "outputs": [],
   "source": [
    "%time\n",
    "attr_12_df = AttrUNI_df.merge(right = AttrFC_df, how = \"inner\" , on = [\"cookie\",\"tmstp\", \"channel\"], lsuffix = \"t1\", rsuffix = \"t2\")\n",
    "attr_34_df = AttrLC_df.merge(right = AttrEXP_df, how = \"inner\" , on = [\"cookie\",\"tmstp\", \"channel\"], lsuffix = \"t3\", rsuffix = \"t4\")\n",
    "attr_all_df = attr_12_df.merge(right = attr_34_df, how = \"inner\" , on = [\"cookie_t1 = cookie_t3\",\"tmstp_t1 = tmstp_t3\"\n",
    "                                                                            , \"channel_t1 = channel_t3\"], lsuffix = \"t5\", rsuffix = \"t6\")\n"
   ]
  },
  {
   "cell_type": "code",
   "execution_count": null,
   "id": "0c01c2e8-a51a-47c7-823d-70959ca4d47b",
   "metadata": {},
   "outputs": [],
   "source": [
    "%time\n",
    "attr_4model_df = attr_all_df.select(['cookie_t1','tmstp_t1','channel_t1', \n",
    "                                     'attribution_t1','attribution_t2','attribution_t3','attribution_t4',\n",
    "                                     'time_to_conversion_t1', 'time_to_conversion_t2', 'time_to_conversion_t3',\n",
    "                                     'time_to_conversion_t4'])"
   ]
  },
  {
   "cell_type": "code",
   "execution_count": null,
   "id": "3da6ca56-6e10-40f4-b12d-5fcca300a32c",
   "metadata": {},
   "outputs": [],
   "source": [
    "attr_4model_df = attr_4model_df.assign(drop_columns = True, \n",
    "                                       cookie = attr_4model_df.cookie_t1,\n",
    "                                       tmstp = attr_4model_df.tmstp_t1,\n",
    "                                       channel = attr_4model_df.channel_t1,\n",
    "                                       uni_attr = attr_4model_df.attribution_t1,\n",
    "                                       uni_ttc = attr_4model_df.time_to_conversion_t1,\n",
    "                                       fc_attr = attr_4model_df.attribution_t2,\n",
    "                                       fc_ttc = attr_4model_df.time_to_conversion_t2,\n",
    "                                       lc_attr = attr_4model_df.attribution_t3,\n",
    "                                       lc_ttc = attr_4model_df.time_to_conversion_t3,\n",
    "                                       exp_attr = attr_4model_df.attribution_t4,\n",
    "                                       exp_ttc = attr_4model_df.time_to_conversion_t4)\n",
    "copy_to_sql(attr_4model_df, table_name='attr_4model_df', if_exists='replace')\n",
    "attr_4model_df = DataFrame('attr_4model_df')"
   ]
  },
  {
   "cell_type": "code",
   "execution_count": null,
   "id": "e308f404-90f1-44d2-a9e0-df4e26411b50",
   "metadata": {},
   "outputs": [],
   "source": [
    "attr_4model_df.shape"
   ]
  },
  {
   "cell_type": "markdown",
   "id": "f1b048b4-c338-42bb-a0b9-c0a70341cd11",
   "metadata": {},
   "source": [
    "<hr style=\"height:1px;border:none;background-color:#00233C;\">\n",
    "<p style = 'font-size:18px;font-family:Arial;color:#00233C'><b>4.2. Calculate attribution weights by channel and rule based model</b></p>"
   ]
  },
  {
   "cell_type": "code",
   "execution_count": null,
   "id": "1b399cb5-a78e-49c9-9eb4-aca834b46ed1",
   "metadata": {
    "tags": []
   },
   "outputs": [],
   "source": [
    "%time\n",
    "attr_tot = attr_4model_df.select(['exp_attr','fc_attr','lc_attr','uni_attr']).sum()\n",
    "attr_channel_tot = attr_4model_df.select(['channel','exp_attr','fc_attr','lc_attr','uni_attr']).groupby('channel').sum()"
   ]
  },
  {
   "cell_type": "code",
   "execution_count": null,
   "id": "f10de5c7-f34f-43ff-b88f-e477481c4167",
   "metadata": {},
   "outputs": [],
   "source": [
    "attr_tot.shape"
   ]
  },
  {
   "cell_type": "code",
   "execution_count": null,
   "id": "2cff1ddc-b4a0-43c8-8389-319ea54dd55c",
   "metadata": {},
   "outputs": [],
   "source": [
    "%time\n",
    "attr_channel_tot = attr_channel_tot.merge(right=attr_tot, how=\"inner\", \n",
    "                                          on=[\"sum_uni_attr < sum_uni_attr\"]\n",
    "                                         , lsuffix = \"t1\",rsuffix=\"t2\")\n"
   ]
  },
  {
   "cell_type": "code",
   "execution_count": null,
   "id": "f6037151-e34b-441d-b3c6-9d1097300893",
   "metadata": {},
   "outputs": [],
   "source": [
    "%time\n",
    "attr_channel_total = attr_channel_tot.assign(drop_columns = True ,\n",
    "                                           channel = attr_channel_tot.channel,\n",
    "                                           tot_uni_attr = attr_channel_tot.sum_uni_attr_t1 / attr_channel_tot.sum_uni_attr_t2,\n",
    "                                           tot_fc_attr = attr_channel_tot.sum_fc_attr_t1 / attr_channel_tot.sum_fc_attr_t2,\n",
    "                                           tot_lc_attr = attr_channel_tot.sum_lc_attr_t1 / attr_channel_tot.sum_lc_attr_t2,\n",
    "                                           tot_exp_attr = attr_channel_tot.sum_exp_attr_t1 / attr_channel_tot.sum_exp_attr_t2)\n",
    "attr_channel_total"
   ]
  },
  {
   "cell_type": "code",
   "execution_count": null,
   "id": "57bba648-7e04-4304-a5d6-0af8b1c45391",
   "metadata": {
    "scrolled": true
   },
   "outputs": [],
   "source": [
    "%time\n",
    "attr_channel_plot = attr_channel_total.to_pandas()\n",
    "import plotly.graph_objects as go\n",
    "\n",
    "fig = go.Figure(\n",
    "    data = [\n",
    "        go.Bar(name='Uniform', x=attr_channel_plot[\"channel\"], y=attr_channel_plot[\"tot_uni_attr\"], yaxis='y', offsetgroup=1,marker_color='#76B7B2'),\n",
    "        go.Bar(name='First Click', x=attr_channel_plot[\"channel\"], y=attr_channel_plot[\"tot_fc_attr\"], yaxis='y', offsetgroup=2, marker_color='#F28E2B'),\n",
    "        go.Bar(name='Last Click', x=attr_channel_plot[\"channel\"], y=attr_channel_plot[\"tot_lc_attr\"], yaxis='y', offsetgroup=3,marker_color='#E15759'),\n",
    "        go.Bar(name='Exponential', x=attr_channel_plot[\"channel\"], y=attr_channel_plot[\"tot_exp_attr\"], yaxis='y', offsetgroup=4,marker_color='#4E79A7')\n",
    "    ],\n",
    "    layout = {\n",
    "        'yaxis': {'title': 'Attribution '},\n",
    "\n",
    "    }\n",
    ")\n",
    " \n",
    "# Change the bar mode\n",
    "fig.update_layout(barmode = 'group')\n",
    "fig.show()"
   ]
  },
  {
   "cell_type": "markdown",
   "id": "7f95e64d-8f16-4866-9179-9e0ddd71b84d",
   "metadata": {},
   "source": [
    "<p style = 'font-size:16px;font-family:Arial;color:#00233C'>The above output shows the Attribution values for each type of channel using different models.</p>"
   ]
  },
  {
   "cell_type": "markdown",
   "id": "a83e70b2-c0df-48dd-bbef-60380dc9ba4a",
   "metadata": {},
   "source": [
    "<hr style=\"height:2px;border:none;\">\n",
    "\n",
    "<p style = 'font-size:20px;font-family:Arial'><b>5. Cleanup</b></p>\n",
    "<p style = 'font-size:18px;font-family:Arial'><b>Work Tables</b></p>\n",
    "<p style = 'font-size:16px;font-family:Arial'>We need to clean up our work tables to prevent errors next time.</p>"
   ]
  },
  {
   "cell_type": "code",
   "execution_count": null,
   "id": "63319dcd-63d0-457e-9420-2474b10c9d09",
   "metadata": {},
   "outputs": [],
   "source": [
    "tables = ['AttrUNI_df','AttrFC_df','AttrLC_df','AttrEXP_df','','attr_4model_df',\n",
    "          'ATTRIBUTION_MODEL_EXPONENTIAL','ATTRIBUTION_MODEL_LASTCLICK','ATTRIBUTION_MODEL_FIRSTCLICK',\n",
    "          'ATTRIBUTION_MODEL_UNIFORM','ATTRIBUTION_CONVERSION','CJ_retail_proxy_data_v1']\n",
    "\n",
    "# Loop through the list of tables and execute the drop table command for each table\n",
    "for table in tables:\n",
    "    try:\n",
    "        db_drop_table(table_name=table)\n",
    "    except:\n",
    "        pass"
   ]
  },
  {
   "cell_type": "markdown",
   "id": "76962cac-c1c5-426d-b840-725f9acc936a",
   "metadata": {},
   "source": [
    "<p style = 'font-size:18px;font-family:Arial'><b>Databases and Tables</b></p>\n",
    "<p style = 'font-size:16px;font-family:Arial'>We will use the following code to clean up tables and databases created for this demonstration.</p>"
   ]
  },
  {
   "cell_type": "code",
   "execution_count": null,
   "id": "6bae3b36-14ab-4a59-953d-37f92d6807d9",
   "metadata": {},
   "outputs": [],
   "source": [
    "%run -i ../run_procedure.py \"call remove_data('DEMO_RetailJourney');\""
   ]
  },
  {
   "cell_type": "code",
   "execution_count": null,
   "id": "113052d9-4100-4ebf-ae26-2e32979ab0a7",
   "metadata": {},
   "outputs": [],
   "source": [
    "remove_context()"
   ]
  },
  {
   "cell_type": "markdown",
   "id": "ede03ca6-ad8e-476e-b97c-229b04225860",
   "metadata": {},
   "source": [
    "<footer style=\"padding-bottom:35px; border-bottom:3px solid #91A0Ab\">\n",
    "    <div style=\"float:left;margin-top:14px\">ClearScape Analytics™</div>\n",
    "    <div style=\"float:right;\">\n",
    "        <div style=\"float:left; margin-top:14px\">\n",
    "            Copyright © Teradata Corporation - 2025. All Rights Reserved\n",
    "        </div>\n",
    "    </div>\n",
    "</footer>"
   ]
  }
 ],
 "metadata": {
  "kernelspec": {
   "display_name": "Python 3 (ipykernel)",
   "language": "python",
   "name": "python3"
  },
  "language_info": {
   "codemirror_mode": {
    "name": "ipython",
    "version": 3
   },
   "file_extension": ".py",
   "mimetype": "text/x-python",
   "name": "python",
   "nbconvert_exporter": "python",
   "pygments_lexer": "ipython3",
   "version": "3.9.10"
  },
  "toc-autonumbering": false
 },
 "nbformat": 4,
 "nbformat_minor": 5
}
