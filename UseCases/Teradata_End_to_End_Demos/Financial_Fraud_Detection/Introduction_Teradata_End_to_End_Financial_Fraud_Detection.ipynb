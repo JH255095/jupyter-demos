{
 "cells": [
  {
   "cell_type": "markdown",
   "id": "9f80722a-5d35-475d-a3c6-7ac7c63447d1",
   "metadata": {},
   "source": [
    "<header>\n",
    "   <p  style='font-size:36px;font-family:Arial; color:#F0F0F0; background-color: #00233c; padding-left: 20pt; padding-top: 20pt;padding-bottom: 10pt; padding-right: 20pt;'>\n",
    "       End to End Demo for Financial Fraud Detection using Vantage\n",
    "  <br>\n",
    "       <img id=\"teradata-logo\" src=\"https://storage.googleapis.com/clearscape_analytics_demo_data/DEMO_Logo/teradata.svg\" alt=\"Teradata\" style=\"width: 125px; height: auto; margin-top: 20pt;\">\n",
    "    </p>\n",
    "</header>"
   ]
  },
  {
   "cell_type": "markdown",
   "id": "abce482e-7537-4857-90e3-af02e665c28e",
   "metadata": {},
   "source": [
    "<p style = 'font-size:20px;font-family:Arial'><b>Introduction</b></p>\n",
    "<p style = 'font-size:16px;font-family:Arial'>\n",
    "    In recent years we have seen a massive increase in Fraud attempts, making fraud detection imperative for Banking and Financial Institutions. Despite countless efforts and human supervision, hundreds of millions of dollars are lost due to fraud. Fraud can happen using various methods, i.e., stolen credit cards, misleading accounting, phishing emails, etc. Due to small cases in significant populations, fraud detection has become more and more challenging. \n",
    "    <br>\n",
    "    <br>\n",
    "    With ClearScape Analytics, data scientists can use their preferred language, tools and platform to develop models to identify this fraud. Even in large scale operations, users have the guarantee that Vantage can scale to their needs and reduce fraud.</p>\n",
    "    \n",
    "<p style = 'font-size:18px;font-family:Arial'><b>Business Values</b></p>\n",
    "<ul style = 'font-size:16px;font-family:Arial'>\n",
    "    <li>Identification of financial fraud in multiple accounts</li>\n",
    "    <li>Pattern recognition of fraudulent versus normal transactions</li>\n",
    "    <li>Reduction of money lost due to recovering fraudulent charges</li>\n",
    "    <li>Improved customer satisfaction and reduction of customer churn</li>\n",
    "</ul>\n",
    "\n",
    "<p style = 'font-size:18px;font-family:Arial'><b>Why Vantage?</b></p>\n",
    "<p style = 'font-size:16px;font-family:Arial'>To maximize the business value of advanced analytic techniques including Machine Learning and Artificial Intelligence, it is estimated that organizations must scale their model development and deployment pipelines to 100s or 1000s of times greater amounts of data, models, or both.\n",
    "    <br>\n",
    "    <br>\n",
    "    ClearScape Analytics provides powerful, flexible end-to-end data connectivity, feature engineering, model training, evaluation, and operational functions that can be deployed at scale as enterprise data assets; treating the products of ML and AI as first-class analytic processes in the enterprise.</p>"
   ]
  },
  {
   "cell_type": "markdown",
   "id": "5d505907-9eab-4150-b1ca-05a967405181",
   "metadata": {},
   "source": [
    "<hr style=\"height:2px;border:none;\">\n",
    "<p style = 'font-size:20px;font-family:Arial'><b>Approach</b></p>\n",
    "<p style = 'font-size:16px;font-family:Arial'>\n",
    "    With ClearScape Analytics, data scientists can use various approaches to develop models and identify this fraud. Even in large scale operations, users have the guarantee that Vantage can scale to their needs and reduce fraud. Here, we are showcasing two different approaches using Vantage</p>\n",
    "<ul style = 'font-size:16px;font-family:Arial'>\n",
    "    <li><b>Traditional Approach</b></li>\n",
    "    <li><b>AutoML Approach</b></li>\n",
    "</ul></p>\n",
    "\n",
    "<center><img src=\"images/TraditionalvsAutoml.png\" alt=\"efs\" width=500 height=500></center>\n",
    "\n",
    "<p style = 'font-size:16px;font-family:Arial'>ClearScape Analytics provides powerful, flexible end-to-end data connectivity, feature engineering, model training, evaluation, and operational functions that can be deployed at scale as enterprise data assets; treating the products of ML and AI as first-class analytic processes in the enterprise.</p>\n",
    "\n",
    "<p style = 'font-size:16px;font-family:Arial'>We have created two different notebooks for these two approaches. Based on the choice we can click one of the buttons below, at the end of the table, and execute the steps involved in that approach.</p> "
   ]
  },
  {
   "cell_type": "markdown",
   "id": "cde47e86-bba6-4371-b6c3-44cc04548599",
   "metadata": {},
   "source": [
    "<table style = 'width:100%;table-layout:fixed; border: 1px solid black; border-collapse: collapse;'>\n",
    "    <tr style = 'border: 1px solid black; border-collapse: collapse;'>\n",
    "        <th style = 'font-size:24px;font-family:Arial;border: 1px solid black; border-collapse: collapse;'>Traditional Approach</th>\n",
    "        <th style = 'font-size:24px;font-family:Arial'>AutoML Approach</th>\n",
    "    </tr>\n",
    "    <tr style = 'border: 1px solid black; border-collapse: collapse;'>\n",
    "        <td style = 'border: 1px solid black; border-collapse: collapse;'><img src = 'images/TraditionalApproach4.png' ></td>\n",
    "        <td style = 'border: 1px solid black; border-collapse: collapse;'><img src = 'images/AutoMLApproach3.png'></td>\n",
    "    </tr>\n",
    "    <tr style = 'border: 1px solid black; border-collapse: collapse;'>\n",
    "       <td style = 'vertical-align:top;width:50%;border: 1px solid black;border-collapse: collapse;'>\n",
    "           <p style = 'font-size:16px;font-family:Arial'><b>ClearScape Analytics</b> has more than <code>150+</code> in-database functions, which can be used by business analysts as well as data scientists. These include functions for <code>feature exploration</code>, <code>feature engineering</code>, <code>data preparation</code>, <code>model training</code> and <code>model evaluation.</code> These functions help to solve large-scale complex use-cases such as dynamic pricing, forecasting, fraud detection, predictive maintenance and much more. Because these functions are built into the database, they are highly performant and require limited data movement. This can represent significant cost and friction reduction for our customers. </p></td> \n",
    "       <td style = 'vertical-align:top;width:50%;border: 1px solid black;border-collapse: collapse;'>\n",
    "    <p style = 'font-size:16px;font-family:Arial'><b>AutoML</b>(<b><u>Auto</u></b>mated <b><u>M</u></b>achine <b><u>L</u></b>earning) is a comprehensive approach that automates the end-to-end process of applying machine learning to real-world problems. This functionality automates the entire process of developing a predictive model. It will perform <code>feature exploration</code>, <code>feature engineering</code>, <code>data preparation</code>, <code>model training</code> and <code>model evaluation</code> on dataset in <b>auto run</b> and at end we will get <code>leaderboard</code> containined different models along with their performance. Model will also have <code>rank</code> associated with them which indicates which is <code>best performing model</code> for given data followed by other models.</p></td>\n",
    "    </tr>\n",
    "    <tr style = 'border: 1px solid black; border-collapse: collapse;'>\n",
    "        <td style = 'vertical-align:top;width:50%;border: 1px solid black;border-collapse: collapse;'>\n",
    "            <p style = 'font-size:16px;font-family:Arial'>Launch Traditional Approach from this button below:</p>&nbsp; &nbsp; &nbsp;&nbsp;&nbsp;&nbsp; &nbsp; &nbsp;&nbsp;&nbsp;&nbsp; &nbsp; &nbsp;&nbsp;&nbsp;&nbsp; &nbsp;&nbsp; &nbsp; &nbsp;&nbsp;&nbsp; &nbsp; &nbsp;&nbsp;<a href=\"Financial_Fraud_Detection_Traditional_Approach.ipynb\" style=\"display: inline-flex; align-items: center; justify-content: center; background-color: #017373; color: #FFFFFF; font-family: Arial, sans-serif; font-size: 16px; font-weight: bold; text-decoration: none; padding: 12px 24px; border: none; border-radius: 8px; box-shadow: 0 4px 6px rgba(0, 0, 0, 0.1); cursor: pointer; transition: all 0.3s ease;\">\n",
    "  Traditional Approach\n",
    "  <img src=\"https://img.icons8.com/ios-filled/50/ffffff/external-link.png\" alt=\"External Link Icon\" style=\"margin-left: 8px; width: 20px; height: 20px;\"></a>    \n",
    "        </td>\n",
    "        <td style = 'vertical-align:top;width:50%;border: 1px solid black;border-collapse: collapse;'>\n",
    "            <p style = 'font-size:16px;font-family:Arial'>Launch AutoML Approach from this button below:</p>\n",
    "            &nbsp; &nbsp; &nbsp;&nbsp;&nbsp;&nbsp; &nbsp; &nbsp;&nbsp;&nbsp;&nbsp; &nbsp; &nbsp;&nbsp;&nbsp;&nbsp; &nbsp;&nbsp; &nbsp; &nbsp;&nbsp;&nbsp; &nbsp; &nbsp;&nbsp;<a href=\"Financial_Fraud_Detection_AutoML_Approach.ipynb\" style=\"display: inline-flex; align-items: center; justify-content: center; background-color: #017373; color: #FFFFFF; font-family: Arial, sans-serif; font-size: 16px; font-weight: bold; text-decoration: none; padding: 12px 24px; border: none; border-radius: 8px; box-shadow: 0 4px 6px rgba(0, 0, 0, 0.1); cursor: pointer; transition: all 0.3s ease;\">\n",
    "  AutoML Approach\n",
    "  <img src=\"https://img.icons8.com/ios-filled/50/ffffff/external-link.png\" alt=\"External Link Icon\" style=\"margin-left: 8px; width: 20px; height: 20px; align: right\">\n",
    "</a>\n",
    "    </td>\n",
    "    </tr>\n",
    "</table>"
   ]
  },
  {
   "cell_type": "markdown",
   "id": "ba536b37-9b21-47ef-8efa-6a3e388b9df1",
   "metadata": {},
   "source": [
    "<footer style=\"padding-bottom:35px; border-bottom:3px solid #91A0Ab\">\n",
    "    <div style=\"float:left;margin-top:14px\">ClearScape Analytics™</div>\n",
    "    <div style=\"float:right;\">\n",
    "        <div style=\"float:left; margin-top:14px\">\n",
    "            Copyright © Teradata Corporation - 2025. All Rights Reserved\n",
    "        </div>\n",
    "    </div>\n",
    "</footer>"
   ]
  }
 ],
 "metadata": {
  "kernelspec": {
   "display_name": "Python 3 (ipykernel)",
   "language": "python",
   "name": "python3"
  },
  "language_info": {
   "codemirror_mode": {
    "name": "ipython",
    "version": 3
   },
   "file_extension": ".py",
   "mimetype": "text/x-python",
   "name": "python",
   "nbconvert_exporter": "python",
   "pygments_lexer": "ipython3",
   "version": "3.9.10"
  }
 },
 "nbformat": 4,
 "nbformat_minor": 5
}
