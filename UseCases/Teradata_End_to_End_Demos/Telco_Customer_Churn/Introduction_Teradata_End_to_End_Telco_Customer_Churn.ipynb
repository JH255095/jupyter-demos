{
 "cells": [
  {
   "cell_type": "markdown",
   "id": "9f80722a-5d35-475d-a3c6-7ac7c63447d1",
   "metadata": {},
   "source": [
    "<header>\n",
    "   <p  style='font-size:36px;font-family:Arial; color:#F0F0F0; background-color: #00233c; padding-left: 20pt; padding-top: 20pt;padding-bottom: 10pt; padding-right: 20pt;'>\n",
    "       End-to-End Demo for Customer Churn in Telco\n",
    "  <br>\n",
    "       <img id=\"teradata-logo\" src=\"https://storage.googleapis.com/clearscape_analytics_demo_data/DEMO_Logo/teradata.svg\" alt=\"Teradata\" style=\"width: 125px; height: auto; margin-top: 20pt;\">\n",
    "    </p>\n",
    "</header>"
   ]
  },
  {
   "cell_type": "markdown",
   "id": "abce482e-7537-4857-90e3-af02e665c28e",
   "metadata": {},
   "source": [
    "<p style = 'font-size:20px;font-family:Arial;'><b>Introduction</b></p>\n",
    "\n",
    "<p style = 'font-size:16px;font-family:Arial;'>\n",
    "Customer churn is a concern for all companies, but the complexity makes it difficult to track. Customers may leave due to various reasons such dissatisfaction with service quality, pricing, customer service, or finding better alternatives from competitors. Although some churn may be expected, companies aim to retain their customers to avoid using additional resources to find new customers. Thus, with the help of Teradata Vantage, companies can attain their goal of identifying the factors contributing to the churn, so they can take appropriate measures to retain customers. Vantage’s capabilities allow companies to analyze large amounts of customer data, such as usage patterns, billing information, demographics, and interactions, to find patterns that may indicate customers who are at risk of churning. Plus, Teradata’s machine learning and predictive analytics can be used to build models to predict customers which are likely to churn in the future. This information will give companies the chance to intervene, including sending targeted marketing campaigns, personalized offers, improved customer service, or addressing customer concern.</p>\n",
    "<p style = 'font-size:18px;font-family:Arial;'><b>Business Values</b></p>\n",
    "<ul style = 'font-size:16px;font-family:Arial;'>\n",
    "    <li>Determine characteristics of the company that are less favorable to consumers.</li>\n",
    "    <li>Identify customers at risk of leaving.</li>\n",
    "    <li>Identify customer behavior before churning to allow for time to intervene to save customers.</li>\n",
    "    <li>Determine when to begin targeted marketing or offer promotions.</li>\n",
    "    <li>Increase customer retention and reduce churn rate.</li>\n",
    " </ul>\n",
    "\n",
    "<p style = 'font-size:18px;font-family:Arial;'><b>Why Vantage?</b></p>\n",
    "<p style = 'font-size:16px;font-family:Arial;'>To maximize the business value of advanced analytic techniques including Machine Learning and Artificial Intelligence, it is estimated that organizations must scale their model development and deployment pipelines to 100s or 1000s of times greater amounts of data, models, or both.</p>\n",
    "<p style = 'font-size:16px;font-family:Arial;'>\n",
    "Managing telco churn is complex and requires continuous monitoring, analysis, and proactive customer engagement strategies. By using data and advanced analytics, telecom companies can better understand customer behavior and preferences, and take proactive measures to retain customers and maintain profitability.</p>\n",
    "<p style = 'font-size:16px;font-family:Arial;'>\n",
    "    ClearScape Analytics provides powerful, flexible end-to-end data connectivity, feature engineering, model training, evaluation, and operational functions that can be deployed at scale as enterprise data assets; treating the products of ML and AI as first-class analytic processes in the enterprise.</p>"
   ]
  },
  {
   "cell_type": "markdown",
   "id": "5d505907-9eab-4150-b1ca-05a967405181",
   "metadata": {},
   "source": [
    "<hr style=\"height:2px;border:none;\">\n",
    "<p style = 'font-size:20px;font-family:Arial;'><b>Approach</b></p>\n",
    "<p style = 'font-size:16px;font-family:Arial;'>\n",
    "    With ClearScape Analytics, data scientists can use various approaches to develop models and identify this fraud. Even in large scale operations, users have the guarantee that Vantage can scale to their needs and reduce fraud. Here, we are showcasing two different approaches using Vantage</p>\n",
    "<ul style = 'font-size:16px;font-family:Arial;'>\n",
    "    <li><b>Traditional Approach</b></li>\n",
    "    <li><b>AutoML Approach</b></li>\n",
    "</ul></p>\n",
    "\n",
    "<center><img src=\"images/TraditionalvsAutoml.png\" alt=\"efs\" width=500 height=500 style=\"border:4px solid #404040; border-radius: 10px;\"></center>\n",
    "\n",
    "<p style = 'font-size:16px;font-family:Arial;'>ClearScape Analytics provides powerful, flexible end-to-end data connectivity, feature engineering, model training, evaluation, and operational functions that can be deployed at scale as enterprise data assets; treating the products of ML and AI as first-class analytic processes in the enterprise.</p>\n",
    "\n",
    "<p style = 'font-size:16px;font-family:Arial;'>We have created two different notebooks for these two approaches. Based on the choice we can click one of the buttons below, at the end of the table, and execute the steps involved in that approach.</p> "
   ]
  },
  {
   "cell_type": "markdown",
   "id": "cde47e86-bba6-4371-b6c3-44cc04548599",
   "metadata": {},
   "source": [
    "<table style = 'width:100%; table-layout:fixed;'>\n",
    "    <tr style = 'border:4px solid #404040; border-radius: 10px;'>\n",
    "        <td><img src = 'images/TraditionalApproach4.png'; style='border: 4px solid #404040; border-radius: 10px;' ></td>\n",
    "        <td><img src = 'images/AutoMLApproach3.png';  style='border: 4px solid #404040; border-radius: 10px;'></td>\n",
    "    </tr>\n",
    "    <tr style = 'border: 4px #404040; border-radious:10px'>\n",
    "       <td style = 'vertical-align:top;width:50%;border: 1px #404040;'>\n",
    "           <p style = 'font-size:16px;font-family:Arial;'><b>ClearScape Analytics</b> has more than <b>150+</b> in-database functions, which can be used by business analysts as well as data scientists. These include functions for <i>feature exploration, feature engineering, data preparation, model training, and model evaluation.</i> These functions help to solve large-scale complex use-cases such as dynamic pricing, forecasting, fraud detection, predictive maintenance and much more. Because these functions are built into the database, they are highly performant and require limited data movement. This can represent significant cost and friction reduction for our customers. </p></td> \n",
    "       <td style = 'vertical-align:top;width:50%;border: 1px #404040;'>\n",
    "    <p style = 'font-size:16px;font-family:Arial'><b>AutoML</b>(<b><u>Auto</u></b>mated <b><u>M</u></b>achine <b><u>L</u></b>earning) is a comprehensive approach that automates the end-to-end process of applying machine learning to real-world problems. This functionality automates the entire process of developing a predictive model. It can perform <i>feature exploration, feature engineering, data preparation, model training and model evaluation</i>. This provides the ability to predict unseen data and to generate leaderboards with performance metrics.\n",
    "AutoML also provides early stopping criteria to stop the training before completion using different options and early stopping metric thresholds.</p>\n",
    "        </td>\n",
    "    </tr>\n",
    "    <tr style = 'border: 1px #404040;'>\n",
    "    <td style=\"vertical-align: top; width: 50%; border: 1px #404040;\">\n",
    "      <div style=\"text-align: center;\">\n",
    "        <p style=\"font-size: 16px; font-family: Arial; text-align: center; margin-bottom: 16px;\">Launch Traditional Approach from this button below:</p>\n",
    "            <a href=\"Telco_Customer_Churn_Traditional_Approach.ipynb\" style=\"display: inline-flex; align-items: center; justify-content: center; background-color: #017373; color: #FFFFFF; font-family: Arial, sans-serif; font-size: 16px; font-weight: bold; text-decoration: none; padding: 12px 24px; border: none; border-radius: 8px; box-shadow: 0 4px 6px rgba(0, 0, 0, 0.1); cursor: pointer; transition: all 0.3s ease;\">\n",
    "              Traditional Approach\n",
    "              <img src=\"https://img.icons8.com/ios-filled/50/ffffff/external-link.png\" alt=\"External Link Icon\" style=\"margin-left: 8px; width: 20px; height: 20px;\">\n",
    "              </a>\n",
    "      </div>\n",
    "    </td>\n",
    "    <td style = 'vertical-align:top;width:50%;border: 1px #404040;'>\n",
    "        <div style=\"text-align: center;\">\n",
    "           <p style=\"font-size: 16px; font-family: Arial; text-align: center; margin-bottom: 16px;\">Launch AutoML Approach from this button below:</p>\n",
    "            <a href=\"Telco_Customer_Churn_AutoML_Approach.ipynb\" style=\"display: inline-flex; align-items: center; justify-content: center; background-color: #017373; color: #FFFFFF; font-family: Arial, sans-serif; font-size: 16px; font-weight: bold; text-decoration: none; padding: 12px 24px; border: none; border-radius: 8px; box-shadow: 0 4px 6px rgba(0, 0, 0, 0.1); cursor: pointer; transition: all 0.3s ease;\">\n",
    "  AutoML Approach\n",
    "              <img src=\"https://img.icons8.com/ios-filled/50/ffffff/external-link.png\" alt=\"External Link Icon\" style=\"margin-left: 8px; width: 20px; height: 20px; align: right\">\n",
    "              </a>\n",
    "        </div>\n",
    "    </td>\n",
    "    </tr>\n",
    "</table>"
   ]
  },
  {
   "cell_type": "markdown",
   "id": "ba536b37-9b21-47ef-8efa-6a3e388b9df1",
   "metadata": {},
   "source": [
    "<footer style=\"padding-bottom:35px; border-bottom:3px solid \">\n",
    "    <div style=\"float:left;margin-top:14px\">ClearScape Analytics™</div>\n",
    "    <div style=\"float:right;\">\n",
    "        <div style=\"float:left; margin-top:14px\">\n",
    "            Copyright © Teradata Corporation - 2025. All Rights Reserved\n",
    "        </div>\n",
    "    </div>\n",
    "</footer>"
   ]
  }
 ],
 "metadata": {
  "kernelspec": {
   "display_name": "Python 3 (ipykernel)",
   "language": "python",
   "name": "python3"
  },
  "language_info": {
   "codemirror_mode": {
    "name": "ipython",
    "version": 3
   },
   "file_extension": ".py",
   "mimetype": "text/x-python",
   "name": "python",
   "nbconvert_exporter": "python",
   "pygments_lexer": "ipython3",
   "version": "3.9.10"
  }
 },
 "nbformat": 4,
 "nbformat_minor": 5
}
