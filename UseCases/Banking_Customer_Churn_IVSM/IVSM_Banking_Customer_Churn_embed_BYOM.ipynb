{
 "cells": [
  {
   "cell_type": "markdown",
   "id": "cedbd4af-6f37-4049-8aaa-863f77ce94f4",
   "metadata": {},
   "source": [
    "<header>\n",
    "   <p  style='font-size:36px;font-family:Arial; color:#F0F0F0; background-color: #00233c; padding-left: 20pt; padding-top: 20pt;padding-bottom: 10pt; padding-right: 20pt;'>\n",
    "       IVSM Banking Customer Churn Embed BYOM\n",
    "  <br>\n",
    "       <img id=\"teradata-logo\" src=\"https://storage.googleapis.com/clearscape_analytics_demo_data/DEMO_Logo/teradata.svg\" alt=\"Teradata\" style=\"width: 125px; height: auto; margin-top: 20pt;\">\n",
    "    </p>\n",
    "</header>"
   ]
  },
  {
   "cell_type": "markdown",
   "id": "8c065558-5fb5-40fb-9893-a6c222cf3604",
   "metadata": {},
   "source": [
    "<hr style=\"height:2px;border:none\">\n",
    "<p style = 'font-size:18px;font-family:Arial'><b>Import the required libraries</b></p>\n",
    "\n",
    "<p style = 'font-size:16px;font-family:Arial'>Here, we import the required libraries, set environment variables and environment paths (if required).</p>"
   ]
  },
  {
   "cell_type": "code",
   "execution_count": null,
   "id": "61bdabd9-d9af-4008-81fa-44bf639ca35d",
   "metadata": {},
   "outputs": [],
   "source": [
    "import warnings\n",
    "warnings.filterwarnings('ignore')\n",
    "\n",
    "import os\n",
    "import pandas as pd\n",
    "\n",
    "import teradataml as tdml\n",
    "import getpass\n",
    "from teradataml import in_schema\n",
    "from teradataml import DecisionForest, XGBoost, TrainTestSplit, DecisionForestPredict, XGBoostPredict, SentimentExtractor, ColumnTransformer, ScaleFit, OneHotEncodingFit\n",
    "from teradataml import ColumnSummary, AutoML, AutoClassifier\n",
    "from teradataml import RoundColumns, ClassificationEvaluator, ROC\n",
    "from teradataml import (\n",
    "    DataFrame,\n",
    "    create_context\n",
    ")\n",
    "from xgboost import XGBClassifier\n",
    "from sklearn.pipeline import Pipeline\n",
    "from nyoka import xgboost_to_pmml\n",
    "from teradataml import save_byom,list_byom,retrieve_byom,delete_byom,PMMLPredict"
   ]
  },
  {
   "cell_type": "code",
   "execution_count": null,
   "id": "6de29e63-cb44-4864-8a15-653c0838a64d",
   "metadata": {
    "tags": []
   },
   "outputs": [],
   "source": [
    "tdml.configure.val_install_location = \"val\""
   ]
  },
  {
   "cell_type": "markdown",
   "id": "30662c01-e0ab-42df-ad03-cd12be7469db",
   "metadata": {},
   "source": [
    "<hr style=\"height:2px;border:none\">\n",
    "<b style = 'font-size:20px;font-family:Arial'>1. Initiate a connection to Vantage</b>\n",
    "<p style = 'font-size:16px;font-family:Arial'>You will be prompted to provide the password. Enter your password, press the Enter key, and then use the down arrow to go to the next cell.</p>"
   ]
  },
  {
   "cell_type": "code",
   "execution_count": null,
   "id": "4ccd0aa4-27a3-4a1a-b3e4-7d2870345106",
   "metadata": {
    "tags": []
   },
   "outputs": [],
   "source": [
    "%run -i ../startup.ipynb\n",
    "eng = create_context(host = 'host.docker.internal', username='demo_user', password = password)\n",
    "print(eng)"
   ]
  },
  {
   "cell_type": "code",
   "execution_count": null,
   "id": "115a55eb-bf63-4cbc-9e9f-e1060ee38423",
   "metadata": {},
   "outputs": [],
   "source": [
    "# %run -i ../run_procedure.py \"call get_data('DEMO_BankChurnIVSM_cloud');\"  \n",
    "%run -i ../run_procedure.py \"call get_data('DEMO_BankChurnIVSM_local');\""
   ]
  },
  {
   "cell_type": "markdown",
   "id": "7a44f6bc-d5e8-4e19-8625-e05342564ddc",
   "metadata": {},
   "source": [
    "<p style = 'font-size:18px;font-family:Arial'><b>1.1 Confirmation for functions</b>\n",
    "<p style = 'font-size:16px;font-family:Arial'>Before starting let us confirm that the required functions are installed.</p>"
   ]
  },
  {
   "cell_type": "code",
   "execution_count": null,
   "id": "46c8527e-a47e-461a-b44c-9fc748970d23",
   "metadata": {},
   "outputs": [],
   "source": [
    "from IPython.display import display, Markdown\n",
    "\n",
    "df_check= DataFrame.from_query('''select count(*) as cnt from dbc.tablesV where databasename = 'ivsm';''')\n",
    "if df_check.get_values()[0][0] >= 10:\n",
    "    print('Functions are installed, please continue.')\n",
    "else:\n",
    "    print('Functions are not installed, please go to Instalization notebook before proceeding further')\n",
    "    display(Markdown(\"[Initialization Notebook](./IVSM_Banking_Customer_Churn_Model_Install.ipynb)\"))"
   ]
  },
  {
   "cell_type": "code",
   "execution_count": null,
   "id": "6b296443-5871-4efd-a43f-78d6e9405779",
   "metadata": {
    "tags": []
   },
   "outputs": [],
   "source": [
    "df = tdml.DataFrame('semantic_search_results')\n",
    "df[df['reference_txt'] == 'Negative or Abusive comment']"
   ]
  },
  {
   "cell_type": "code",
   "execution_count": null,
   "id": "cc71fe1f-d0f5-4811-be0e-72d1a141a68d",
   "metadata": {
    "tags": []
   },
   "outputs": [],
   "source": [
    "df[df['reference_txt'] == 'Positive and Upbeat comment']"
   ]
  },
  {
   "cell_type": "markdown",
   "id": "6b726116-67b1-4e51-a74a-74377497b77b",
   "metadata": {},
   "source": [
    "<p style = 'font-size:16px;font-family:Arial'>Create a \"Virtual DataFrame\" that points to the data set in Vantage.</p>\n",
    "<p style = 'font-size:16px;font-family:Arial'><b><i>*Please scroll down to the end of the notebook for detailed column descriptions of the dataset.</i></b></p>"
   ]
  },
  {
   "cell_type": "code",
   "execution_count": null,
   "id": "36b36049-7737-4a50-8b73-e0bf8fdd72d2",
   "metadata": {
    "tags": []
   },
   "outputs": [],
   "source": [
    "customer_churn = DataFrame(in_schema('DEMO_BankChurnIVSM', 'Bank_Churn'))\n",
    "customer_churn"
   ]
  },
  {
   "cell_type": "code",
   "execution_count": null,
   "id": "c777aa80-b025-407d-a960-a05ffda40c66",
   "metadata": {
    "tags": []
   },
   "outputs": [],
   "source": [
    "new_df = customer_churn.merge(df[['target_id','reference_txt']], on='customerid = target_id', how='inner')\n",
    "new_df"
   ]
  },
  {
   "cell_type": "code",
   "execution_count": null,
   "id": "dc0233da-f64a-4790-80dc-c5d516a113d4",
   "metadata": {
    "tags": []
   },
   "outputs": [],
   "source": [
    "new_df = new_df.drop('target_id',axis=1)"
   ]
  },
  {
   "cell_type": "markdown",
   "id": "5631b307-eeb2-477b-880c-810c30486095",
   "metadata": {},
   "source": [
    "<hr style=\"height:2px;border:none\">\n",
    "<b style = 'font-size:20px;font-family:Arial'>2. Data Transformation</b>"
   ]
  },
  {
   "cell_type": "markdown",
   "id": "eefe14e2-2987-4dc0-9417-401b49ae5887",
   "metadata": {},
   "source": [
    "<p style = 'font-size:18px;font-family:Arial'> <b>Define Column Categories</b> </p>\n",
    "<p style = 'font-size:16px;font-family:Arial'>Specifies the target variable and categorizes input columns into numeric, categorical, binary, and identifier groups for preprocessing and modeling.<br>"
   ]
  },
  {
   "cell_type": "code",
   "execution_count": null,
   "id": "ff20075d-ece4-49a5-bf7d-46e275622d63",
   "metadata": {
    "tags": []
   },
   "outputs": [],
   "source": [
    "target_variable = \"Exited\"\n",
    "numeric_columns = [\"Age\", \"Balance\", \"CreditScore\", \"EstimatedSalary\", \"Tenure\"]\n",
    "categorical_columns = [\"Gender\", \"Geography\", \"reference_txt\", \"NumOfProducts\"]\n",
    "binary_columns = [\"HasCrCard\", \"IsActiveMember\"]\n",
    "id_column = [\"CustomerId\"]"
   ]
  },
  {
   "cell_type": "markdown",
   "id": "eaf8d5a8-0348-4f87-9ef6-e588ae8a8f32",
   "metadata": {},
   "source": [
    "<p style = 'font-size:16px;font-family:Arial'><b>ScaleFit()</b> function outputs statistics to input to ScaleTransform() function, which scales specified input DataFrame columns.<br>"
   ]
  },
  {
   "cell_type": "code",
   "execution_count": null,
   "id": "95e23b28-6858-42c7-8224-7efecce93ef8",
   "metadata": {
    "tags": []
   },
   "outputs": [],
   "source": [
    "fit1 = ScaleFit(data=new_df,\n",
    "                target_columns=numeric_columns,\n",
    "                scale_method=\"USTD\",\n",
    "                miss_value=\"KEEP\",\n",
    "                global_scale=False,\n",
    "                multiplier=\"1\")"
   ]
  },
  {
   "cell_type": "markdown",
   "id": "09ad2461-4d3b-4980-b7f2-42f399858861",
   "metadata": {},
   "source": [
    "<p style = 'font-size:16px;font-family:Arial'><b>OneHotEncodingFit </b>outputs a table of attributes and categorical values to input to OneHotEncodingTransform which encodes them as one-hot numeric vectors.</p>"
   ]
  },
  {
   "cell_type": "code",
   "execution_count": null,
   "id": "e40acda6-2856-4745-a7f7-29000f128b6b",
   "metadata": {
    "tags": []
   },
   "outputs": [],
   "source": [
    "fit2 = OneHotEncodingFit(data=new_df,\n",
    "                         is_input_dense=True,\n",
    "                         approach=\"auto\",\n",
    "                         target_column=categorical_columns[0:3],\n",
    "                         category_counts=[2,3,2])"
   ]
  },
  {
   "cell_type": "markdown",
   "id": "c3c07d02-0758-496f-bc6d-0b126ce3a423",
   "metadata": {},
   "source": [
    "<p style = 'font-size:16px;font-family:Arial'>The <b>ColumnTransformer</b> function transforms the entire dataset in a single operation. You only need\n",
    "to provide the FIT tables to the function, and the function runs all transformations that you require in a\n",
    "single operation. Running all the it table transformations together in one-go gives approx. 30% performance improvement over running each transformation sequentially.</p>"
   ]
  },
  {
   "cell_type": "code",
   "execution_count": null,
   "id": "43706ada-d4a0-4c55-8250-7433fd4b5b95",
   "metadata": {
    "tags": []
   },
   "outputs": [],
   "source": [
    "new_table = ColumnTransformer(input_data=new_df,\n",
    "                             onehotencoding_fit_data=fit2.result,\n",
    "                             scale_fit_data=fit1.output).result"
   ]
  },
  {
   "cell_type": "code",
   "execution_count": null,
   "id": "b177b817-df41-4845-8972-b91224ef76b2",
   "metadata": {
    "tags": []
   },
   "outputs": [],
   "source": [
    "new_table=new_table[['CustomerId', 'Age', 'Balance', 'CreditScore', 'EstimatedSalary', 'Exited', 'HasCrCard', 'IsActiveMember',\n",
    "                     'NumOfProducts', 'Tenure', 'Gender_0', 'Gender_1', 'Geography_0', 'Geography_1', 'Geography_2',\n",
    "                     'reference_txt_0', 'reference_txt_1']]"
   ]
  },
  {
   "cell_type": "markdown",
   "id": "1ec2e735-4c62-4f56-a773-0844c3c49144",
   "metadata": {},
   "source": [
    "<hr style=\"height:2px;border:none\">\n",
    "\n",
    "<p style = 'font-size:20px;font-family:Arial'><b>3. Train-Test Split</b>"
   ]
  },
  {
   "cell_type": "markdown",
   "id": "118c32d1-8091-4506-99fe-61e0e3c96594",
   "metadata": {},
   "source": [
    "<p style = 'font-size:16px;font-family:Arial'>The <b>TrainTestSplit()</b> function divides the dataset into train and test subsets to be used for evaluating machine learning models and validation processes.<br>\n",
    "80% is used for Training and 20% for validation.</p>"
   ]
  },
  {
   "cell_type": "code",
   "execution_count": null,
   "id": "9cbe56b7-5320-439e-a605-7b5d22a2d84c",
   "metadata": {
    "tags": []
   },
   "outputs": [],
   "source": [
    "TrainTestSplit_out = TrainTestSplit(data = new_table,\n",
    "                                    id_column='CustomerId',\n",
    "                                    train_size=0.80,\n",
    "                                    test_size=0.20,\n",
    "                                    seed=3432)"
   ]
  },
  {
   "cell_type": "code",
   "execution_count": null,
   "id": "cc2ee841-8b9d-40b0-88f4-7f08793a0ea5",
   "metadata": {
    "tags": []
   },
   "outputs": [],
   "source": [
    "TrainTestSplit_out.result.head()"
   ]
  },
  {
   "cell_type": "code",
   "execution_count": null,
   "id": "ec9c9d04-6f2f-488b-b317-05aac9a0cf57",
   "metadata": {
    "tags": []
   },
   "outputs": [],
   "source": [
    "df_train = TrainTestSplit_out.result[TrainTestSplit_out.result['TD_IsTrainRow'] == 1].drop(['TD_IsTrainRow'], axis = 1)\n",
    "df_test = TrainTestSplit_out.result[TrainTestSplit_out.result['TD_IsTrainRow'] == 0].drop(['TD_IsTrainRow'], axis = 1)\n",
    "\n",
    "print(\"Training Set = \" + str(df_train.shape[0]) + \". Testing Set = \" + str(df_test.shape[0]))"
   ]
  },
  {
   "cell_type": "code",
   "execution_count": null,
   "id": "abf49441-fd83-4c63-adf7-d6d868f2e8bc",
   "metadata": {},
   "outputs": [],
   "source": [
    "df_test.head()"
   ]
  },
  {
   "cell_type": "code",
   "execution_count": null,
   "id": "c3398193-36de-43ed-8af4-3369f4465ed1",
   "metadata": {
    "tags": []
   },
   "outputs": [],
   "source": [
    "tdml.copy_to_sql(df_train, table_name = 'clean_data_train', if_exists = 'replace')\n",
    "tdml.copy_to_sql(df_test, table_name = 'clean_data_test', if_exists = 'replace')"
   ]
  },
  {
   "cell_type": "code",
   "execution_count": null,
   "id": "e4ee0b66-e0f5-4856-908a-1126542b8021",
   "metadata": {
    "tags": []
   },
   "outputs": [],
   "source": [
    "df_train = tdml.DataFrame(in_schema('demo_user','clean_data_train'))"
   ]
  },
  {
   "cell_type": "code",
   "execution_count": null,
   "id": "bfbeea0e-0d41-4b2d-809c-89314ce711df",
   "metadata": {
    "tags": []
   },
   "outputs": [],
   "source": [
    "df_test = tdml.DataFrame(in_schema('demo_user','clean_data_test'))"
   ]
  },
  {
   "cell_type": "markdown",
   "id": "15bbeffa-8d4b-4132-8a62-2c410d64717f",
   "metadata": {},
   "source": [
    "<p style = 'font-size:18px;font-family:Arial'> <b>3.1 Split Features and Target</b> </p>\n",
    "<p style = 'font-size:16px;font-family:Arial'>Separates feature columns and target labels for both training and test datasets, keeping CustomerId for reference and including encoded categorical and semantic features.</p>\n",
    "\n"
   ]
  },
  {
   "cell_type": "code",
   "execution_count": null,
   "id": "e16fa9bf-61b2-4ec6-8722-0db6a42e4bb6",
   "metadata": {},
   "outputs": [],
   "source": [
    "df_train_features = df_train[['CustomerId', 'Age', 'Balance', 'CreditScore', 'EstimatedSalary', \n",
    "                              'HasCrCard', 'IsActiveMember', 'NumOfProducts','Tenure', \n",
    "                              'Gender_0', 'Gender_1', 'Geography_0', 'Geography_1', \n",
    "                              'Geography_2', 'reference_txt_0','reference_txt_1']]\n",
    "\n",
    "df_train_target = df_train[['CustomerId', 'Exited']]\n",
    "df_test_features = df_test[['CustomerId', 'Age', 'Balance', 'CreditScore', 'EstimatedSalary', \n",
    "                              'HasCrCard', 'IsActiveMember', 'NumOfProducts','Tenure', \n",
    "                              'Gender_0', 'Gender_1', 'Geography_0', 'Geography_1', \n",
    "                              'Geography_2', 'reference_txt_0','reference_txt_1']]\n",
    "\n",
    "df_test_target = df_test[['CustomerId', 'Exited']]"
   ]
  },
  {
   "cell_type": "code",
   "execution_count": null,
   "id": "649cfba2-8e03-480f-ad70-d1aa09fdd4f6",
   "metadata": {},
   "outputs": [],
   "source": [
    "tdml.copy_to_sql(df_train_features, table_name = 'xgb_train_features', if_exists = 'replace', schema_name = 'demo_user')\n",
    "tdml.copy_to_sql(df_train_target, table_name = 'xgb_train_target', if_exists = 'replace', schema_name = 'demo_user')\n",
    "tdml.copy_to_sql(df_test_features, table_name = 'xgb_test_features', if_exists = 'replace', schema_name = 'demo_user')\n",
    "tdml.copy_to_sql(df_test_target, table_name = 'xgb_test_target', if_exists = 'replace', schema_name = 'demo_user')"
   ]
  },
  {
   "cell_type": "markdown",
   "id": "68a9cb62-01e3-4632-8d96-04e7def2e544",
   "metadata": {},
   "source": [
    "<hr style=\"height:2px;border:none\">\n",
    "<p style = 'font-size:20px;font-family:Arial'> <b>4.Grant Access to ModelOps</b> </p>\n",
    "<p style = 'font-size:16px;font-family:Arial'>Grants SELECT permissions on training, test, and clean data tables to the modelops role, allowing model deployment processes to access the data."
   ]
  },
  {
   "cell_type": "code",
   "execution_count": null,
   "id": "8fafff11-6f72-49ac-8416-9d85c165f29e",
   "metadata": {},
   "outputs": [],
   "source": [
    "SQL = ['''grant select on demo_user.xgb_train_features to modelops with grant option;''',\n",
    "       '''grant select on demo_user.xgb_train_target to modelops with grant option;''',\n",
    "       '''grant select on demo_user.xgb_test_features to modelops with grant option;''',\n",
    "       '''grant select on demo_user.xgb_test_target to modelops with grant option;''',\n",
    "       '''grant select on demo_user.clean_data_train to modelops with grant option;''',\n",
    "       '''grant select on demo_user.clean_data_test to modelops with grant option;'''       \n",
    "      ]\n",
    "\n",
    "for i in SQL:\n",
    "    try:\n",
    "        tdml.execute_sql(i)\n",
    "    except:\n",
    "        True"
   ]
  },
  {
   "cell_type": "code",
   "execution_count": null,
   "id": "e308f588-f124-40b2-87a2-7fc41cd94228",
   "metadata": {
    "tags": []
   },
   "outputs": [],
   "source": [
    "train_pdf = df_train.to_pandas(all_rows=True)\n",
    "\n",
    "features = cols = ['Age', 'Balance', 'CreditScore', 'EstimatedSalary', 'HasCrCard', 'IsActiveMember', 'NumOfProducts',\n",
    "                   'Tenure', 'Gender_0', 'Gender_1', 'Geography_0', 'Geography_1', 'Geography_2', 'reference_txt_0',\n",
    "                   'reference_txt_1']\n",
    "target = \"Exited\"\n",
    "\n",
    "# split data into X and y\n",
    "X_train = train_pdf[features]\n",
    "y_train = train_pdf[target]\n",
    "\n",
    "model = Pipeline([('xgb', XGBClassifier(n_estimators=5, max_depth=10))])\n",
    "\n",
    "model.fit(X_train, y_train)\n",
    "#database = 'modelops'"
   ]
  },
  {
   "cell_type": "markdown",
   "id": "8098d66d-8528-4750-bf76-e3f1c14a7de9",
   "metadata": {},
   "source": [
    "<hr style=\"height:2px;border:none\">\n",
    "<p style = 'font-size:20px;font-family:Arial'><b>5. Convert the model to PMML</b></p>\n",
    "<p style = 'font-size:16px;font-family:Arial'>You can use the sklearn2pmml or the nyoka python libraries to convert to pmml. The nyoka is a python only package and so it is preferable.</p>"
   ]
  },
  {
   "cell_type": "code",
   "execution_count": null,
   "id": "bcad683b-4839-4495-a2a6-631fbd2def81",
   "metadata": {},
   "outputs": [],
   "source": [
    "xgboost_to_pmml(\n",
    "    pipeline=model, \n",
    "    col_names=cols, \n",
    "    target_name='Exited', \n",
    "    pmml_f_name=\"xgb_model.pmml\")"
   ]
  },
  {
   "cell_type": "code",
   "execution_count": null,
   "id": "4729d988-1d06-403c-9503-64e482345593",
   "metadata": {},
   "outputs": [],
   "source": [
    "tdml.configure.byom_install_location = \"mldb\""
   ]
  },
  {
   "cell_type": "code",
   "execution_count": null,
   "id": "64accc06-6aa6-4ed7-a48a-ca3247780632",
   "metadata": {},
   "outputs": [],
   "source": [
    "try:\n",
    "    save_byom(\"xgb_model\",\n",
    "              \"xgb_model.pmml\",\n",
    "              \"byom_models\",\n",
    "              additional_columns={},\n",
    "              schema_name='modelops'\n",
    "             )\n",
    "except:\n",
    "    delete_byom(model_id=\"xgb_model\", table_name=\"byom_models\", schema_name = 'modelops')\n",
    "    save_byom(\"xgb_model\",\n",
    "              \"xgb_model.pmml\",\n",
    "              \"byom_models\",\n",
    "              additional_columns={},\n",
    "              schema_name='modelops'\n",
    "    )"
   ]
  },
  {
   "cell_type": "code",
   "execution_count": null,
   "id": "248aca94-4cfb-4709-a240-674c7dae4a8c",
   "metadata": {},
   "outputs": [],
   "source": [
    "list_byom(table_name=\"byom_models\", schema_name=\"modelops\")"
   ]
  },
  {
   "cell_type": "code",
   "execution_count": null,
   "id": "50281181-d8fd-496d-a153-a94c5561f6ed",
   "metadata": {},
   "outputs": [],
   "source": [
    "result = PMMLPredict(\n",
    "    modeldata = retrieve_byom(\"xgb_model\", \"byom_models\", schema_name=\"modelops\"),\n",
    "    newdata = df_test,\n",
    "    accumulate = ['CustomerId'],\n",
    "    overwrite_cached_models = '*',\n",
    ")\n",
    "\n",
    "print(result.show_query())\n",
    "\n",
    "result.result"
   ]
  },
  {
   "cell_type": "markdown",
   "id": "ad9b3e2d-9118-46ce-afbd-af8a0fe98e8c",
   "metadata": {},
   "source": [
    "<hr style=\"height:2px;border:none\">\n",
    "<p style = 'font-size:20px;font-family:Arial'> <b>6. Clean up </b></p>\n",
    "<p style = 'font-size:16px;font-family:Arial'>The following code will remove the context.</p>"
   ]
  },
  {
   "cell_type": "code",
   "execution_count": null,
   "id": "36bfae31-60de-4ff9-8a64-8e52c44efd14",
   "metadata": {
    "tags": []
   },
   "outputs": [],
   "source": [
    "tdml.remove_context()"
   ]
  },
  {
   "cell_type": "markdown",
   "id": "3b29170c-d8c9-454f-b428-3da6472f3a8a",
   "metadata": {},
   "source": [
    "<hr style=\"height:1px;border:none;\">\n",
    "<b style = 'font-size:18px;font-family:Arial'>Dataset:</b>\n",
    "\n",
    "- `Unnamed`: Unnamed\n",
    "- `CustomerId`: Customer ID\n",
    "- `Surname`: Surname\n",
    "- `CreditScore`: Credit score\n",
    "- `Geography`: Country (Germany / France / Spain)\n",
    "- `Gender`: Gender (Female / Male)\n",
    "- `Age`: Age\n",
    "- `Tenure`: No of years the customer has been associated with the bank\n",
    "- `Balance`: Balance\n",
    "- `NumOfProducts`: No of bank products used\n",
    "- `HasCrCard`: Credit card status (0 = No, 1 = Yes)\n",
    "- `IsActiveMember`: Active membership status (0 = No, 1 = Yes)\n",
    "- `EstimatedSalary`: Estimated salary\n",
    "- `Exited`: Abandoned or not? (0 = No, 1 = Yes)\n",
    "\n",
    "<p style = 'font-size:16px;font-family:Arial'><b>Links:</b></p>\n",
    "<ul style = 'font-size:16px;font-family:Arial'>\n",
    "    <li>Teradataml Python reference: <a href = 'https://docs.teradata.com/search/all?query=Python+Package+User+Guide&content-lang=en-US'>here</a></li>\n",
    "    <li>ScaleFit reference: <a href = 'https://docs.teradata.com/r/Enterprise/Teradata-Package-for-Python-Function-Reference-17.20/teradataml-Analytic-Database-17.20.xx-Analytic-Functions/FEATURE-ENGINEERING-TRANSFORM-functions/ScaleFit'>here</a></li>\n",
    "    <li>OneHotEncodingFit reference: <a href = 'https://docs.teradata.com/r/Enterprise/Teradata-Package-for-Python-Function-Reference-17.20/teradataml-Analytic-Database-17.20.xx-Analytic-Functions/FEATURE-ENGINEERING-TRANSFORM-functions/OneHotEncodingFit'>here</a></li>\n",
    "    <li>ColumnTransformer reference: <a href = 'https://docs.teradata.com/r/Enterprise/Teradata-Package-for-Python-Function-Reference-17.20/teradataml-Analytic-Database-17.20.xx-Analytic-Functions/FEATURE-ENGINEERING-TRANSFORM-functions/ColumnTransformer'>here</a></li>\n",
    "    <li>TrainTestSplit reference: <a href = 'https://docs.teradata.com/r/Enterprise/Teradata-Package-for-Python-Function-Reference-17.20/teradataml-Analytic-Database-17.20.xx-Analytic-Functions/MODEL-EVALUATION-functions/TrainTestSplit'>here</a></li>\n",
    "    <li>PMMLPredict reference: <a href = 'https://docs.teradata.com/r/Enterprise/Teradata-Package-for-Python-Function-Reference-17.20/teradataml-Bring-Your-Own-Analytics/PMMLPredict'>here</a></li>\n",
    "</ul>"
   ]
  },
  {
   "cell_type": "markdown",
   "id": "b87a659d-d9f3-433c-b197-6b826c2b5f1f",
   "metadata": {},
   "source": [
    "<footer style=\"padding-bottom:35px; border-bottom:3px solid \">\n",
    "    <div style=\"float:left;margin-top:14px\">ClearScape Analytics™</div>\n",
    "    <div style=\"float:right;\">\n",
    "        <div style=\"float:left; margin-top:14px\">\n",
    "            Copyright © Teradata Corporation - 2025. All Rights Reserved\n",
    "        </div>\n",
    "    </div>\n",
    "</footer>"
   ]
  }
 ],
 "metadata": {
  "kernelspec": {
   "display_name": "Python 3 (ipykernel)",
   "language": "python",
   "name": "python3"
  },
  "language_info": {
   "codemirror_mode": {
    "name": "ipython",
    "version": 3
   },
   "file_extension": ".py",
   "mimetype": "text/x-python",
   "name": "python",
   "nbconvert_exporter": "python",
   "pygments_lexer": "ipython3",
   "version": "3.9.10"
  }
 },
 "nbformat": 4,
 "nbformat_minor": 5
}
