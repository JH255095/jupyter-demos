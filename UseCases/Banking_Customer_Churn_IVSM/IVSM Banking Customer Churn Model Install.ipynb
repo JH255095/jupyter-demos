{
 "cells": [
  {
   "cell_type": "markdown",
   "id": "26632eab-8349-4ce6-82f2-3e34a35887c2",
   "metadata": {},
   "source": [
    "<header>\n",
    "   <p  style='font-size:36px;font-family:Arial; color:#F0F0F0; background-color: #00233c; padding-left: 20pt; padding-top: 20pt;padding-bottom: 10pt; padding-right: 20pt;'>\n",
    "       IVSM Banking Customer Churn Model Install\n",
    "  <br>\n",
    "       <img id=\"teradata-logo\" src=\"https://storage.googleapis.com/clearscape_analytics_demo_data/DEMO_Logo/teradata.svg\" alt=\"Teradata\" style=\"width: 125px; height: auto; margin-top: 20pt;\">\n",
    "    </p>\n",
    "</header>"
   ]
  },
  {
   "cell_type": "markdown",
   "id": "d6f425ee-e63a-4f96-8a23-9d369a2f17ad",
   "metadata": {},
   "source": [
    "<hr style=\"height:1px;border:none;background-color:#00233C;\">\n",
    "<p style = 'font-size:18px;font-family:Arial;color:#00233c'><b>Import the required libraries</b></p>\n",
    "\n",
    "<p style = 'font-size:16px;font-family:Arial;color:#00233C'>Here, we import the required libraries, set environment variables and environment paths (if required).</p>"
   ]
  },
  {
   "cell_type": "code",
   "execution_count": 7,
   "id": "704ddfb5-2c6b-4df7-93f7-1135461dc442",
   "metadata": {},
   "outputs": [],
   "source": [
    "# Suppress warnings\n",
    "import warnings\n",
    "warnings.filterwarnings('ignore')\n",
    "\n",
    "# Standard libraries\n",
    "import os\n",
    "import getpass\n",
    "import json\n",
    "\n",
    "# PDF loader and text processing\n",
    "from langchain_community.document_loaders import PyPDFLoader\n",
    "from langchain.text_splitter import RecursiveCharacterTextSplitter\n",
    "from langchain.callbacks.manager import CallbackManager\n",
    "\n",
    "# Language model\n",
    "from langchain.llms import Ollama\n",
    "\n",
    "# Data handling\n",
    "import pandas as pd\n",
    "import teradataml as tdml\n",
    "\n",
    "# ONNX runtime and tools\n",
    "import onnx\n",
    "import onnxruntime as rt\n",
    "from onnxruntime.tools.onnx_model_utils import *\n",
    "\n",
    "# Transformers and sentence similarity\n",
    "import transformers\n",
    "from sentence_transformers import SentenceTransformer\n",
    "from sentence_transformers.util import cos_sim\n"
   ]
  },
  {
   "cell_type": "code",
   "execution_count": 2,
   "id": "6de29e63-cb44-4864-8a15-653c0838a64d",
   "metadata": {
    "tags": []
   },
   "outputs": [],
   "source": [
    "tdml.configure.val_install_location = \"VAL_USER\""
   ]
  },
  {
   "cell_type": "markdown",
   "id": "872e2efc-fe5a-4f09-88f1-b3c530600c8e",
   "metadata": {},
   "source": [
    "<hr style=\"height:2px;border:none;background-color:#00233C;\">\n",
    "<b style = 'font-size:20px;font-family:Arial;color:#00233C'>1. Initiate a connection to Vantage</b>\n",
    "<p style = 'font-size:16px;font-family:Arial;color:#00233C'>You will be prompted to provide the password. Enter your password, press the Enter key, and then use the down arrow to go to the next cell.</p>"
   ]
  },
  {
   "cell_type": "code",
   "execution_count": 3,
   "id": "4ccd0aa4-27a3-4a1a-b3e4-7d2870345106",
   "metadata": {
    "tags": []
   },
   "outputs": [
    {
     "name": "stdin",
     "output_type": "stream",
     "text": [
      "Password: ···········\n"
     ]
    }
   ],
   "source": [
    "# Change host and/or username as needed\n",
    "engine = tdml.create_context(\n",
    "    host='host.docker.internal',\n",
    "    username='demo_user',\n",
    "    password=getpass.getpass(prompt='Password:'),\n",
    "    logmech=\"TD2\",\n",
    "    encryptdata=True,\n",
    "    database='demo_user'\n",
    ")"
   ]
  },
  {
   "cell_type": "markdown",
   "id": "c4bbd587-8db8-4a22-8d6d-dfe944a9cf65",
   "metadata": {},
   "source": [
    "<p style = 'font-size:18px;font-family:Arial;color:#00233C'><b>1.1 Creation of functions</b></p>\n",
    "<p style = 'font-size:16px;font-family:Arial;color:#00233C'>Below command will create the database and functions required for text summarization and embedding models using Huggingface PyTorch models in Vantage.</p>"
   ]
  },
  {
   "cell_type": "code",
   "execution_count": 8,
   "id": "c5ef4906-78ef-4cca-9fe8-8466be36960e",
   "metadata": {},
   "outputs": [
    {
     "name": "stdout",
     "output_type": "stream",
     "text": [
      "The initialization steps have already been executed for this environment!\n",
      "The initialization steps have already been executed for this environment!\n",
      "The initialization steps have already been executed for this environment!\n",
      "The initialization steps have already been executed for this environment!\n",
      "The initialization steps have already been executed for this environment!\n",
      "The initialization steps have already been executed for this environment!\n",
      "The initialization steps have already been executed for this environment!\n",
      "The initialization steps have already been executed for this environment!\n",
      "The initialization steps have already been executed for this environment!\n",
      "The initialization steps have already been executed for this environment!\n",
      "The initialization steps have already been executed for this environment!\n",
      "The initialization steps have already been executed for this environment!\n",
      "The initialization steps have already been executed for this environment!\n",
      "The initialization steps have already been executed for this environment!\n",
      "The initialization steps have already been executed for this environment!\n",
      "The initialization steps have already been executed for this environment!\n",
      "The initialization steps have already been executed for this environment!\n",
      "The initialization steps have already been executed for this environment!\n",
      "The initialization steps have already been executed for this environment!\n",
      "The initialization steps have already been executed for this environment!\n"
     ]
    }
   ],
   "source": [
    "with open(\"commands.json\", \"r\") as file:\n",
    "    data = json.load(file)\n",
    "\n",
    "for item in data[\"queries\"]:\n",
    "    try:\n",
    "        execute_sql(item[\"query\"])\n",
    "    except Exception as e:\n",
    "        print(\n",
    "            f\"The initialization steps have already been executed for this environment!\"\n",
    "        )\n",
    "        # print(f\"Error: {e}\")\n",
    "        pass"
   ]
  },
  {
   "cell_type": "markdown",
   "id": "e6af1548-d03d-4f33-ae1b-14b1c992ce09",
   "metadata": {},
   "source": [
    "<b style = 'font-size:18px;font-family:Arial;color:#00233C'>1.2 Drop Tables (if exist)</b>\n",
    "<p style = 'font-size:16px;font-family:Arial;color:#00233C'>Attempts to drop <code>embeddings_models</code> and <code>embeddings_tokenizers</code> tables, ignoring errors if they don't exist.</p>"
   ]
  },
  {
   "cell_type": "code",
   "execution_count": 9,
   "id": "9bcae44f-50f9-4fa3-aec8-973776454999",
   "metadata": {},
   "outputs": [],
   "source": [
    "# Drop embeddings-related tables if they exist\n",
    "SQL = [\n",
    "    \"DROP TABLE embeddings_models;\",\n",
    "    \"DROP TABLE embeddings_tokenizers;\"\n",
    "]\n",
    "\n",
    "for query in SQL:\n",
    "    try:\n",
    "        tdml.execute_sql(query)\n",
    "    except:\n",
    "        pass  # Suppress any errors if the tables do not exist"
   ]
  },
  {
   "cell_type": "markdown",
   "id": "37e04a84-e2ee-49c5-bf04-e8acfad11751",
   "metadata": {
    "tags": []
   },
   "source": [
    "!optimum-cli export onnx --opset 16 --trust-remote-code -m BAAI/bge-small-en-v1.5 bge-small-en-v1.5-onnx"
   ]
  },
  {
   "cell_type": "markdown",
   "id": "e1d50061-e830-4db3-bc89-2f63d7ef034e",
   "metadata": {},
   "source": [
    "<hr style=\"height:2px;border:none;background-color:#00233C;\">\n",
    "<b style = 'font-size:20px;font-family:Arial;color:#00233C'>2. Model Preparation</b>\n",
    "<p style = 'font-size:16px;font-family:Arial;color:#00233C'>In the below steps we will fix dynamic dims, fix versions for compatibility, etc and prepare the model to load in Vantage.</p>"
   ]
  },
  {
   "cell_type": "code",
   "execution_count": 10,
   "id": "88541fa5-ebc3-446d-b77f-d81a86fada11",
   "metadata": {},
   "outputs": [],
   "source": [
    "# Set the operator set version\n",
    "op = onnx.OperatorSetIdProto()\n",
    "op.version = 16\n",
    "\n",
    "# Load the original ONNX model\n",
    "model = onnx.load('bge-small-en-v1.5-onnx/model.onnx')\n",
    "\n",
    "# Create a new model with a specified IR version and opset\n",
    "model_ir8 = onnx.helper.make_model(\n",
    "    model.graph,\n",
    "    ir_version=8,\n",
    "    opset_imports=[op]\n",
    ")\n",
    "\n",
    "# Fix variable dimension sizes\n",
    "rt.tools.onnx_model_utils.make_dim_param_fixed(model_ir8.graph, \"batch_size\", 1)\n",
    "rt.tools.onnx_model_utils.make_dim_param_fixed(model_ir8.graph, \"sequence_length\", 512)\n",
    "rt.tools.onnx_model_utils.make_dim_param_fixed(model_ir8.graph, \"Divsentence_embedding_dim_1\", 384)\n",
    "\n",
    "# Remove the unnecessary \"token_embeddings\" output\n",
    "for node in model_ir8.graph.output:\n",
    "    if node.name == \"token_embeddings\":\n",
    "        model_ir8.graph.output.remove(node)\n",
    "\n",
    "# Save the updated model\n",
    "onnx.save(model_ir8, 'bge-small-en-v1.5-onnx/model_fixed.onnx')"
   ]
  },
  {
   "cell_type": "markdown",
   "id": "27878c2c-b929-4306-8d5c-03ed97f81ad5",
   "metadata": {},
   "source": [
    "<hr style=\"height:1px;border:none;background-color:#00233C;\">\n",
    "<p style = 'font-size:18px;font-family:Arial;color:#00233c'><b>2.1 Model Results validation</b></p>\n",
    "<p style = 'font-size:16px;font-family:Arial;color:#00233C'>Checking that everything works with ONNX format locally.</p>"
   ]
  },
  {
   "cell_type": "code",
   "execution_count": 11,
   "id": "9bd45b72-f1d1-4733-930f-d37615bccfad",
   "metadata": {
    "tags": []
   },
   "outputs": [],
   "source": [
    "sentences_1 = u'How is the weather today?'\n",
    "sentences_2 = u'What is the current weather like today?'"
   ]
  },
  {
   "cell_type": "code",
   "execution_count": 12,
   "id": "3a243399-aa88-4ca6-aa9b-86b9de42e5e2",
   "metadata": {
    "tags": []
   },
   "outputs": [],
   "source": [
    "# Load the tokenizer and ONNX model session\n",
    "tokenizer = transformers.AutoTokenizer.from_pretrained(\"./bge-small-en-v1.5-onnx\")\n",
    "predef_sess = rt.InferenceSession(\"bge-small-en-v1.5-onnx/model_fixed.onnx\")"
   ]
  },
  {
   "cell_type": "code",
   "execution_count": 13,
   "id": "96b9c5a6-1a60-4703-a52e-307e556192bd",
   "metadata": {},
   "outputs": [],
   "source": [
    "# Tokenize the first sentence\n",
    "enc = tokenizer(sentences_1, max_length=512, padding='max_length')\n",
    "\n",
    "# Run inference to get embeddings for the first sentence\n",
    "result = predef_sess.run(\n",
    "    None,\n",
    "    {\n",
    "        \"input_ids\": [enc.input_ids],\n",
    "        \"attention_mask\": [enc.attention_mask]\n",
    "    }\n",
    ")\n",
    "\n",
    "# Tokenize the second sentence\n",
    "enc2 = tokenizer(sentences_2, max_length=512, padding='max_length')\n",
    "\n",
    "# Run inference to get embeddings for the second sentence\n",
    "result2 = predef_sess.run(\n",
    "    None,\n",
    "    {\n",
    "        \"input_ids\": [enc2.input_ids],\n",
    "        \"attention_mask\": [enc2.attention_mask]\n",
    "    }\n",
    ")"
   ]
  },
  {
   "cell_type": "code",
   "execution_count": 14,
   "id": "61193709-b4e2-4810-a72a-350f04c035da",
   "metadata": {
    "tags": []
   },
   "outputs": [
    {
     "name": "stdout",
     "output_type": "stream",
     "text": [
      "tensor([[0.9186]])\n"
     ]
    }
   ],
   "source": [
    "print(cos_sim(result[0][0], result2[0][0]))"
   ]
  },
  {
   "cell_type": "code",
   "execution_count": 15,
   "id": "d93b921f-2496-4358-ba16-7ab835a01b92",
   "metadata": {
    "tags": []
   },
   "outputs": [
    {
     "name": "stdout",
     "output_type": "stream",
     "text": [
      "tensor([[0.9186]])\n"
     ]
    }
   ],
   "source": [
    "# Load the SentenceTransformer model\n",
    "model = SentenceTransformer('BAAI/bge-small-en-v1.5')\n",
    "\n",
    "# Generate normalized embeddings for both sentences\n",
    "embeddings_1 = model.encode(sentences_1, normalize_embeddings=True)\n",
    "embeddings_2 = model.encode(sentences_2, normalize_embeddings=True)\n",
    "\n",
    "# Print the cosine similarity between the two embeddings\n",
    "print(cos_sim(embeddings_1, embeddings_2))"
   ]
  },
  {
   "cell_type": "markdown",
   "id": "27927e93-7794-4ad3-8c63-12e73f50c8a4",
   "metadata": {},
   "source": [
    "<hr style=\"height:1px;border:none;background-color:#00233C;\">\n",
    "<p style = 'font-size:18px;font-family:Arial;color:#00233c'><b>2.2 Save the Model</b></p>\n",
    "<p style = 'font-size:16px;font-family:Arial;color:#00233C'>In above steps, we have checked that the model is working fine in ONNX format. Now we will save the model file.</p>"
   ]
  },
  {
   "cell_type": "code",
   "execution_count": 16,
   "id": "cc46cd3e-9900-4e97-9139-0a28cdf01f25",
   "metadata": {
    "tags": []
   },
   "outputs": [
    {
     "name": "stdout",
     "output_type": "stream",
     "text": [
      "Created the model table 'embeddings_models' as it does not exist.\n",
      "Model is saved.\n"
     ]
    }
   ],
   "source": [
    "tdml.save_byom('bge-small-en-v1.5',\n",
    "              'bge-small-en-v1.5-onnx/model_fixed.onnx',\n",
    "              'embeddings_models')"
   ]
  },
  {
   "cell_type": "code",
   "execution_count": 17,
   "id": "0481be44-6072-481a-b141-a8de19df46b0",
   "metadata": {
    "tags": []
   },
   "outputs": [
    {
     "name": "stdout",
     "output_type": "stream",
     "text": [
      "Created the model table 'embeddings_tokenizers' as it does not exist.\n",
      "Model is saved.\n"
     ]
    }
   ],
   "source": [
    "tdml.save_byom('bge-small-en-v1.5',\n",
    "              'bge-small-en-v1.5-onnx/tokenizer.json',\n",
    "              'embeddings_tokenizers')"
   ]
  },
  {
   "cell_type": "markdown",
   "id": "93f8169c-8827-44da-8d4e-39963cd2f91d",
   "metadata": {},
   "source": [
    "<hr style=\"height:2px;border:none;background-color:#00233C;\">\n",
    "<b style = 'font-size:20px;font-family:Arial;color:#00233C'>3. Cleanup</b>\n",
    "<p style = 'font-size:16px;font-family:Arial;color:#00233C'>The following code will remove the context.</p>"
   ]
  },
  {
   "cell_type": "code",
   "execution_count": 18,
   "id": "36bfae31-60de-4ff9-8a64-8e52c44efd14",
   "metadata": {
    "tags": []
   },
   "outputs": [
    {
     "data": {
      "text/plain": [
       "True"
      ]
     },
     "execution_count": 18,
     "metadata": {},
     "output_type": "execute_result"
    }
   ],
   "source": [
    "tdml.remove_context()"
   ]
  },
  {
   "cell_type": "markdown",
   "id": "47dfbb00-2743-437d-8c0e-4c0d8506214c",
   "metadata": {},
   "source": [
    "<footer style=\"padding-bottom:35px; background:#f9f9f9; border-bottom:3px solid #00233C\">\n",
    "    <div style=\"float:left;margin-top:14px\">ClearScape Analytics™</div>\n",
    "    <div style=\"float:right;\">\n",
    "        <div style=\"float:left; margin-top:14px\">\n",
    "            Copyright © Teradata Corporation - 2025. All Rights Reserved\n",
    "        </div>\n",
    "    </div>\n",
    "</footer>"
   ]
  },
  {
   "cell_type": "code",
   "execution_count": null,
   "id": "1bab3997-d1c4-4ea3-97ae-e2227e4fd197",
   "metadata": {},
   "outputs": [],
   "source": []
  }
 ],
 "metadata": {
  "kernelspec": {
   "display_name": "Python 3 (ipykernel)",
   "language": "python",
   "name": "python3"
  },
  "language_info": {
   "codemirror_mode": {
    "name": "ipython",
    "version": 3
   },
   "file_extension": ".py",
   "mimetype": "text/x-python",
   "name": "python",
   "nbconvert_exporter": "python",
   "pygments_lexer": "ipython3",
   "version": "3.9.10"
  }
 },
 "nbformat": 4,
 "nbformat_minor": 5
}
