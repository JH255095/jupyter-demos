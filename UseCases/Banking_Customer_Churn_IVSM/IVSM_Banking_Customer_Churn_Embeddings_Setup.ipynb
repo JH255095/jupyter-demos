{
 "cells": [
  {
   "cell_type": "markdown",
   "id": "5f492932-24c2-4d3c-8bf3-442e28cf2a03",
   "metadata": {},
   "source": [
    "<header>\n",
    "   <p  style='font-size:36px;font-family:Arial; color:#F0F0F0; background-color: #00233c; padding-left: 20pt; padding-top: 20pt;padding-bottom: 10pt; padding-right: 20pt;'>\n",
    "       IVSM Banking Customer Churn Embeddings Setup\n",
    "  <br>\n",
    "       <img id=\"teradata-logo\" src=\"https://storage.googleapis.com/clearscape_analytics_demo_data/DEMO_Logo/teradata.svg\" alt=\"Teradata\" style=\"width: 125px; height: auto; margin-top: 20pt;\">\n",
    "    </p>\n",
    "</header>"
   ]
  },
  {
   "cell_type": "markdown",
   "id": "30752619-09a6-4a8e-8ec5-94532a27d630",
   "metadata": {},
   "source": [
    "<hr style=\"height:2px;border:none\">\n",
    "<p style = 'font-size:18px;font-family:Arial'><b>Import the required libraries</b></p>\n",
    "\n",
    "<p style = 'font-size:16px;font-family:Arial'>Here, we import the required libraries, set environment variables and environment paths (if required).</p>"
   ]
  },
  {
   "cell_type": "code",
   "execution_count": null,
   "id": "2890a526-5ef1-4819-9958-3b94fc545c3e",
   "metadata": {},
   "outputs": [],
   "source": [
    "import warnings\n",
    "warnings.filterwarnings('ignore')\n",
    "\n",
    "import os\n",
    "import pandas as pd\n",
    "import teradataml as tdml\n",
    "import getpass\n",
    "\n",
    "from teradataml import (\n",
    "    DataFrame,\n",
    "    in_schema,\n",
    "    create_context\n",
    ")"
   ]
  },
  {
   "cell_type": "code",
   "execution_count": null,
   "id": "6de29e63-cb44-4864-8a15-653c0838a64d",
   "metadata": {
    "tags": []
   },
   "outputs": [],
   "source": [
    " tdml.configure.val_install_location = \"val\""
   ]
  },
  {
   "cell_type": "markdown",
   "id": "c26762da-1e56-4456-b953-299ec70fd8c5",
   "metadata": {},
   "source": [
    "<hr style=\"height:2px;border:none\">\n",
    "<b style = 'font-size:20px;font-family:Arial'>1. Initiate a connection to Vantage</b>\n",
    "<p style = 'font-size:16px;font-family:Arial'>You will be prompted to provide the password. Enter your password, press the Enter key, and then use the down arrow to go to the next cell.</p>"
   ]
  },
  {
   "cell_type": "code",
   "execution_count": null,
   "id": "4ccd0aa4-27a3-4a1a-b3e4-7d2870345106",
   "metadata": {
    "tags": []
   },
   "outputs": [],
   "source": [
    "%run -i ../startup.ipynb\n",
    "eng = create_context(host = 'host.docker.internal', username='demo_user', password = password)\n",
    "print(eng)"
   ]
  },
  {
   "cell_type": "markdown",
   "id": "ce6e386d-fda2-4d56-a8c7-11e6fc31e08a",
   "metadata": {},
   "source": [
    "<hr style=\"height:2px;border:none\">\n",
    "<p style = 'font-size:20px;font-family:Arial'><b>2. Confirmation for functions</b>\n",
    "<p style = 'font-size:16px;font-family:Arial'>Before starting let us confirm that the required functions are installed.</p>"
   ]
  },
  {
   "cell_type": "code",
   "execution_count": null,
   "id": "b1080427-025e-499b-ac85-f2977e4add8e",
   "metadata": {},
   "outputs": [],
   "source": [
    "from IPython.display import display, Markdown\n",
    "\n",
    "df_check= DataFrame.from_query('''select count(*) as cnt from dbc.tablesV where databasename = 'ivsm';''')\n",
    "if df_check.get_values()[0][0] >= 10:\n",
    "    print('Functions are installed, please continue.')\n",
    "else:\n",
    "    print('Functions are not installed, please go to Instalization notebook before proceeding further')\n",
    "    display(Markdown(\"[Initialization Notebook](./IVSM_Banking_Customer_Churn_Model_Install.ipynb)\"))"
   ]
  },
  {
   "cell_type": "markdown",
   "id": "800d3acd-0621-4625-a019-d1cdbae6bc89",
   "metadata": {},
   "source": [
    "<b style = 'font-size:18px;font-family:Arial'>2.1 Drop Tables (if exist)</b>\n",
    "<p style = 'font-size:16px;font-family:Arial'>Attempts to drop <code>complaint_embeddings_store</code> and <code>complaints</code> tables, ignoring errors if they don't exist.</p>"
   ]
  },
  {
   "cell_type": "code",
   "execution_count": null,
   "id": "f685b9ce-c25e-49ab-8711-88e8af1a5748",
   "metadata": {
    "tags": []
   },
   "outputs": [],
   "source": [
    "SQL = ['''DROP TABLE complaint_embeddings_store;''','''DROP TABLE complaints;''']\n",
    "\n",
    "for i in SQL:\n",
    "    try:\n",
    "        tdml.execute_sql(i)\n",
    "    except:\n",
    "        True"
   ]
  },
  {
   "cell_type": "markdown",
   "id": "f1e607be-adc2-4397-a0ac-d262cf763656",
   "metadata": {},
   "source": [
    "<p style = 'font-size:18px;font-family:Arial'><b>2.2 Getting Data for This Demo</b></p>\n",
    "<p style = 'font-size:16px;font-family:Arial'>We have provided data for this demo on cloud storage. You can either run the demo using foreign tables to access the data without any storage on your environment or download the data to local storage, which may yield faster execution. Still, there could be considerations of available storage. Two statements are in the following cell, and one is commented out. You may switch which mode you choose by changing the comment string.</p>"
   ]
  },
  {
   "cell_type": "code",
   "execution_count": null,
   "id": "cf3684cd-b040-42f9-aa09-5ef4f6b4301e",
   "metadata": {
    "tags": []
   },
   "outputs": [],
   "source": [
    "%run -i ../run_procedure.py \"call get_data('DEMO_BankChurnIVSM_local');\""
   ]
  },
  {
   "cell_type": "code",
   "execution_count": null,
   "id": "002a691d-57fa-4808-851a-72d07c3078b9",
   "metadata": {
    "tags": []
   },
   "outputs": [],
   "source": [
    "%run -i ../run_procedure.py \"call space_report();\"        # Takes 10 seconds"
   ]
  },
  {
   "cell_type": "code",
   "execution_count": null,
   "id": "578a2cef-55a1-46bc-9f3b-447b50a5d058",
   "metadata": {},
   "outputs": [],
   "source": [
    "tdf = DataFrame(in_schema('DEMO_BankChurnIVSM', 'Complaints'))\n",
    "tdf"
   ]
  },
  {
   "cell_type": "markdown",
   "id": "cbedeeed-91e5-4be2-ab50-57411411db00",
   "metadata": {},
   "source": [
    "<hr style=\"height:1px;border:none\">\n",
    "<b style = 'font-size:18px;font-family:Arial'>3. Creation of the view with tokenized original texts</b>"
   ]
  },
  {
   "cell_type": "markdown",
   "id": "f8142eed-5643-4976-84cb-192618106c7d",
   "metadata": {},
   "source": [
    "<p style = 'font-size:16px;font-family:Arial'>This code creates a view named <code>v_pdf_tokenized_for_embeddings</code> that contains tokenized consumer complaint data for embedding purposes. It selects the <code>id</code>, <code>txt</code> (complaint text), <code>input_ids</code> (tokenized representations), and <code>attention_mask</code> from a tokenization function <code>ivsm.tokenizer_encode</code>.</b>"
   ]
  },
  {
   "cell_type": "code",
   "execution_count": null,
   "id": "5203ad1f-ebfd-48ec-bd8f-7c018a8f9691",
   "metadata": {
    "tags": []
   },
   "outputs": [],
   "source": [
    "tdml.execute_sql(\"\"\"\n",
    "\n",
    "Replace view v_pdf_tokenized_for_embeddings as (\n",
    "    select\n",
    "        top 1000 id,\n",
    "        txt,\n",
    "        IDS as input_ids,\n",
    "        attention_mask\n",
    "    from ivsm.tokenizer_encode(\n",
    "        on (select CustomerId as id,\n",
    "        Customer_Complaint as txt from DEMO_BankChurnIVSM.Complaints)\n",
    "        on (select model as tokenizer \n",
    "            from embeddings_tokenizers where model_id = 'bge-small-en-v1.5')\n",
    "            DIMENSION\n",
    "        USING\n",
    "            ColumnsToPreserve('id', 'txt')\n",
    "            OutputFields('IDS', 'ATTENTION_MASK')\n",
    "            MaxLength(1024)\n",
    "            PadToMaxLength('True')\n",
    "            TokenDataType('INT64')\n",
    "    ) a\n",
    ")\n",
    "\"\"\")"
   ]
  },
  {
   "cell_type": "code",
   "execution_count": null,
   "id": "6701bb33-9395-4a82-a00b-cf98a2dc297f",
   "metadata": {},
   "outputs": [],
   "source": [
    "tdml.DataFrame('v_pdf_tokenized_for_embeddings').head()"
   ]
  },
  {
   "cell_type": "markdown",
   "id": "95203cc0-0444-493e-b839-9169493cbf10",
   "metadata": {},
   "source": [
    "<hr style=\"height:1px;border:none\">\n",
    "<b style = 'font-size:18px;font-family:Arial'>3.1 Creation of the view with calculated binary embeddings</b>"
   ]
  },
  {
   "cell_type": "markdown",
   "id": "2aef1f84-08cf-4ad1-814b-6d4c4abc6030",
   "metadata": {},
   "source": [
    "<p style = 'font-size:16px;font-family:Arial'>This code creates a view named <code>complaints_embeddings</code> that stores the computed embeddings (vector representations) of consumer complaint texts. The embeddings are generated using the <code>ivsm.IVSM_score</code> function, which scores/tokenizes input data based on a specific model.</p>"
   ]
  },
  {
   "cell_type": "code",
   "execution_count": null,
   "id": "eff9d52d-0571-4fdd-8c77-aa99b0c119d4",
   "metadata": {
    "tags": []
   },
   "outputs": [],
   "source": [
    "tdml.execute_sql(\"\"\"\n",
    "Replace view complaint_embeddings as (\n",
    "    select \n",
    "            *\n",
    "    from ivsm.IVSM_score(\n",
    "            on v_pdf_tokenized_for_embeddings  -- table with data to be scored\n",
    "            on (select * from embeddings_models where model_id = 'bge-small-en-v1.5') dimension\n",
    "            using\n",
    "                ColumnsToPreserve('id', 'txt') -- columns to be copied from input table\n",
    "                ModelType('ONNX') -- model format\n",
    "                BinaryInputFields('input_ids', 'attention_mask') -- enables binary input vectors\n",
    "                BinaryOutputFields('sentence_embedding')\n",
    "                Caching('inquery') -- tun on model caching within the query\n",
    "        ) a \n",
    ")\n",
    "\n",
    "\"\"\")"
   ]
  },
  {
   "cell_type": "code",
   "execution_count": null,
   "id": "cd38b02d-cc91-4cba-9086-0a1502366c84",
   "metadata": {},
   "outputs": [],
   "source": [
    "tdml.DataFrame('complaint_embeddings').head(2)"
   ]
  },
  {
   "cell_type": "markdown",
   "id": "f77fc0ed-d38d-400d-9351-e645ffbfb665",
   "metadata": {},
   "source": [
    "<hr style=\"height:1px;border:none\">\n",
    "<p style = 'font-size:18px;font-family:Arial'><b>3.2 Creating Final Embeddings table</b></p>\n",
    "<p style = 'font-size:16px;font-family:Arial'>In this step we will create embeddings table creating a column for each embedding essentially converting an array to separate columns.</p>"
   ]
  },
  {
   "cell_type": "code",
   "execution_count": null,
   "id": "4d5c4351-d673-4691-8a19-4a694e784035",
   "metadata": {
    "tags": []
   },
   "outputs": [],
   "source": [
    "tdml.execute_sql(\"\"\"\n",
    "create table complaint_embeddings_store as (\n",
    "    select \n",
    "            *\n",
    "    from ivsm.vector_to_columns(\n",
    "            on complaint_embeddings\n",
    "            using\n",
    "                ColumnsToPreserve('id', 'txt') \n",
    "                VectorDataType('FLOAT32')\n",
    "                VectorLength(384)\n",
    "                OutputColumnPrefix('emb_')\n",
    "                InputColumnName('sentence_embedding')\n",
    "        ) a \n",
    ") with data\n",
    "\n",
    "\"\"\")"
   ]
  },
  {
   "cell_type": "code",
   "execution_count": null,
   "id": "b128ce33-27a0-45ef-ba24-5ee583fa97c3",
   "metadata": {},
   "outputs": [],
   "source": [
    "tdml.DataFrame('complaint_embeddings_store').head()"
   ]
  },
  {
   "cell_type": "code",
   "execution_count": null,
   "id": "cf3628eb-73a0-4c6c-a98d-0794dd1ab2e7",
   "metadata": {
    "tags": []
   },
   "outputs": [],
   "source": [
    "sent_df = pd.DataFrame({'id': [1,2],\n",
    "      'txt': ['Positive and Upbeat comment',\n",
    "              'Negative or Abusive comment',\n",
    "              ]})\n",
    "\n",
    "tdml.copy_to_sql(sent_df,table_name='sentiment_topics', if_exists='replace', index=False)"
   ]
  },
  {
   "cell_type": "code",
   "execution_count": null,
   "id": "c1c5fed2-b0b3-4414-8558-f475832e65e4",
   "metadata": {},
   "outputs": [],
   "source": [
    "tdml.DataFrame('sentiment_topics').head()"
   ]
  },
  {
   "cell_type": "markdown",
   "id": "7e974511-8c44-4d6d-b326-222c42abd531",
   "metadata": {},
   "source": [
    "<hr style=\"height:1px;border:none\">\n",
    "<b style = 'font-size:18px;font-family:Arial'>3.3 Create Tokenized View</b>"
   ]
  },
  {
   "cell_type": "markdown",
   "id": "9e36747f-4f91-4557-b3e3-b4d6f4814cfd",
   "metadata": {},
   "source": [
    "<p style = 'font-size:16px;font-family:Arial'>Creates a view <code>v_sentiment_tokenized_for_embeddings</code> by applying a tokenizer to the <code>sentiment_topics</code> table using the specified model.</p>"
   ]
  },
  {
   "cell_type": "code",
   "execution_count": null,
   "id": "159d3482-151a-4f62-9db0-a7d9fc3944dd",
   "metadata": {
    "tags": []
   },
   "outputs": [],
   "source": [
    "tdml.execute_sql(\"\"\"\n",
    "replace view v_sentiment_tokenized_for_embeddings as (\n",
    "    select\n",
    "        id,\n",
    "        txt,\n",
    "        IDS as input_ids,\n",
    "        attention_mask\n",
    "    from ivsm.tokenizer_encode(\n",
    "        on (select * from sentiment_topics)\n",
    "        on (select model as tokenizer from embeddings_tokenizers where model_id = 'bge-small-en-v1.5') DIMENSION\n",
    "        USING\n",
    "            ColumnsToPreserve('id', 'txt')\n",
    "            OutputFields('IDS', 'ATTENTION_MASK')\n",
    "            MaxLength(1024)\n",
    "            PadToMaxLength('True')\n",
    "            TokenDataType('INT64')\n",
    "    ) a\n",
    ")\n",
    "\"\"\")"
   ]
  },
  {
   "cell_type": "code",
   "execution_count": null,
   "id": "61304418-a91a-4732-a435-fb33450f8238",
   "metadata": {},
   "outputs": [],
   "source": [
    "tdml.DataFrame('v_sentiment_tokenized_for_embeddings').head()"
   ]
  },
  {
   "cell_type": "markdown",
   "id": "eb5d18fe-5047-4c38-b1e9-8eb31698e4ee",
   "metadata": {},
   "source": [
    "<p style = 'font-size:16px;font-family:Arial'>Defines <code>sentiment_topics_embeddings</code> view by generating sentence embeddings using the <code>IVSM_score</code> function and a specified ONNX model.</p>"
   ]
  },
  {
   "cell_type": "code",
   "execution_count": null,
   "id": "7017175a-99e8-4b2d-b839-af509c1f9a61",
   "metadata": {
    "tags": []
   },
   "outputs": [],
   "source": [
    "tdml.execute_sql(\"\"\"\n",
    "replace view sentiment_topics_embeddings as (\n",
    "    select \n",
    "            *\n",
    "    from ivsm.IVSM_score(\n",
    "            on v_sentiment_tokenized_for_embeddings  -- table with data to be scored\n",
    "            on (select * from embeddings_models where model_id = 'bge-small-en-v1.5') dimension\n",
    "            using\n",
    "                ColumnsToPreserve('id', 'txt') -- columns to be copied from input table\n",
    "                ModelType('ONNX') -- model format\n",
    "                BinaryInputFields('input_ids', 'attention_mask') -- enables binary input vectors\n",
    "                BinaryOutputFields('sentence_embedding')\n",
    "                Caching('inquery') -- tun on model caching within the query\n",
    "        ) a \n",
    ")\n",
    "\"\"\")"
   ]
  },
  {
   "cell_type": "code",
   "execution_count": null,
   "id": "784d790e-c979-4fbf-ad27-512f7a592024",
   "metadata": {},
   "outputs": [],
   "source": [
    "tdml.DataFrame('sentiment_topics_embeddings').head()"
   ]
  },
  {
   "cell_type": "code",
   "execution_count": null,
   "id": "0abcc8c3-f426-42c7-af9f-115a3602bc7b",
   "metadata": {
    "tags": []
   },
   "outputs": [],
   "source": [
    "try:\n",
    "    tdml.db_drop_table(\"sentiment_topics_embeddings_store\")\n",
    "except:\n",
    "    True"
   ]
  },
  {
   "cell_type": "markdown",
   "id": "078dc3ee-6b9b-48b9-b999-d1ed2a64b018",
   "metadata": {},
   "source": [
    "<hr style=\"height:1px;border:none\">\n",
    "<b style = 'font-size:18px;font-family:Arial'>3.4 Store Embeddings as Columns</b>"
   ]
  },
  {
   "cell_type": "markdown",
   "id": "a81609a4-b95a-4a70-a24c-2d6a67fc863b",
   "metadata": {},
   "source": [
    "<p style = 'font-size:16px;font-family:Arial'>\n",
    "Creates a table <code>sentiment_topics_embeddings_store</code> by converting the sentence embeddings into individual float columns using <code>vector_to_columns</code>.\n",
    "</p>"
   ]
  },
  {
   "cell_type": "code",
   "execution_count": null,
   "id": "9f0bc3db-3f34-4c0e-a479-7042d94c76ff",
   "metadata": {
    "tags": []
   },
   "outputs": [],
   "source": [
    "tdml.execute_sql(\"\"\"\n",
    "create table sentiment_topics_embeddings_store as (\n",
    "    select \n",
    "            *\n",
    "    from ivsm.vector_to_columns(\n",
    "            on sentiment_topics_embeddings\n",
    "            using\n",
    "                ColumnsToPreserve('id', 'txt') \n",
    "                VectorDataType('FLOAT32')\n",
    "                VectorLength(384)\n",
    "                OutputColumnPrefix('emb_')\n",
    "                InputColumnName('sentence_embedding')\n",
    "        ) a \n",
    ") with data\n",
    "\"\"\")"
   ]
  },
  {
   "cell_type": "code",
   "execution_count": null,
   "id": "3019b147-8c97-4909-82e0-ba9377b2108d",
   "metadata": {},
   "outputs": [],
   "source": [
    "tdml.DataFrame('sentiment_topics_embeddings_store').head()"
   ]
  },
  {
   "cell_type": "code",
   "execution_count": null,
   "id": "94611830-a43e-4f00-92db-face764e66d2",
   "metadata": {
    "tags": []
   },
   "outputs": [],
   "source": [
    "try:\n",
    "    tdml.db_drop_table(\"semantic_search_results\")\n",
    "except:\n",
    "    True"
   ]
  },
  {
   "cell_type": "markdown",
   "id": "faeabbc6-954e-4579-b132-73e51f04b782",
   "metadata": {},
   "source": [
    "<hr style=\"height:1px;border:none\">\n",
    "<b style = 'font-size:18px;font-family:Arial'>3.5 Semantic Search Results Table</b>"
   ]
  },
  {
   "cell_type": "markdown",
   "id": "4ea0da4e-78b3-44ec-a744-9739493ce2bd",
   "metadata": {},
   "source": [
    "<p style = 'font-size:16px;font-family:Arial'>\n",
    "Creates <code>semantic_search_results</code> table by finding the most similar sentiment topic for each complaint using cosine similarity on embeddings.\n",
    "</p>\n"
   ]
  },
  {
   "cell_type": "code",
   "execution_count": null,
   "id": "2b83c3fa-a06b-46fc-8f70-75c43313f127",
   "metadata": {
    "tags": []
   },
   "outputs": [],
   "source": [
    "tdml.execute_sql(\"\"\"\n",
    "create multiset table semantic_search_results\n",
    "as (\n",
    "SELECT \n",
    "    dt.target_id,\n",
    "    dt.reference_id,\n",
    "    e_tgt.txt as target_txt,\n",
    "    e_ref.txt as reference_txt,\n",
    "    (1.0 - dt.distance) as similarity \n",
    "FROM\n",
    "    TD_VECTORDISTANCE (\n",
    "        ON complaint_embeddings_store  AS TargetTable\n",
    "        ON sentiment_topics_embeddings_store AS ReferenceTable DIMENSION\n",
    "        USING\n",
    "            TargetIDColumn('id')\n",
    "            TargetFeatureColumns('[emb_0:emb_383]')\n",
    "            RefIDColumn('id')\n",
    "            RefFeatureColumns('[emb_0:emb_383]')\n",
    "            DistanceMeasure('cosine')\n",
    "            topk(1) -- Only want the best match per complaint. If you want multi-label/multi-class - you can increase it\n",
    "    ) AS dt\n",
    "JOIN complaint_embeddings_store e_tgt on e_tgt.id = dt.target_id\n",
    "JOIN sentiment_topics_embeddings_store e_ref on e_ref.id = dt.reference_id\n",
    ") with data\n",
    "\"\"\")"
   ]
  },
  {
   "cell_type": "code",
   "execution_count": null,
   "id": "e60cf7a8-312b-47ec-a5ba-382ec23f587e",
   "metadata": {},
   "outputs": [],
   "source": [
    "tdml.DataFrame('semantic_search_results').head()"
   ]
  },
  {
   "cell_type": "code",
   "execution_count": null,
   "id": "6b296443-5871-4efd-a43f-78d6e9405779",
   "metadata": {
    "tags": []
   },
   "outputs": [],
   "source": [
    "df = tdml.DataFrame('semantic_search_results')\n",
    "df[df['reference_txt'] == 'Negative or Abusive comment']"
   ]
  },
  {
   "cell_type": "code",
   "execution_count": null,
   "id": "cc71fe1f-d0f5-4811-be0e-72d1a141a68d",
   "metadata": {
    "tags": []
   },
   "outputs": [],
   "source": [
    "df[df['reference_txt'] == 'Positive and Upbeat comment']"
   ]
  },
  {
   "cell_type": "markdown",
   "id": "4bb8c1b1-4138-4230-84f7-c3efe89de23c",
   "metadata": {},
   "source": [
    "<hr style=\"height:2px;border:none\">\n",
    "<b style = 'font-size:20px;font-family:Arial'>4. Cleanup</b>\n",
    "<p style = 'font-size:16px;font-family:Arial'>The following code will remove the context.</p>"
   ]
  },
  {
   "cell_type": "code",
   "execution_count": null,
   "id": "36bfae31-60de-4ff9-8a64-8e52c44efd14",
   "metadata": {
    "tags": []
   },
   "outputs": [],
   "source": [
    "tdml.remove_context()"
   ]
  },
  {
   "cell_type": "markdown",
   "id": "0098f13b-eae8-4cf9-a8dc-a1af26bb72b8",
   "metadata": {},
   "source": [
    "<hr style=\"height:1px;border:none;\">\n",
    "<b style = 'font-size:18px;font-family:Arial'>Dataset:</b>\n",
    "\n",
    "- `CustomerId `: Customer ID\n",
    "- `customer_complaint`: Complaint text\n",
    "\n",
    "<p style = 'font-size:16px;font-family:Arial'><b>Links:</b></p>\n",
    "<ul style = 'font-size:16px;font-family:Arial'>\n",
    "    <li>Teradataml Python reference: <a href = 'https://docs.teradata.com/search/all?query=Python+Package+User+Guide&content-lang=en-US'>here</a></li>\n",
    "</ul>"
   ]
  },
  {
   "cell_type": "markdown",
   "id": "ff1d96ee-3efa-488c-a881-4e23870663f9",
   "metadata": {},
   "source": [
    "<footer style=\"padding-bottom:35px; border-bottom:3px solid\">\n",
    "    <div style=\"float:left;margin-top:14px\">ClearScape Analytics™</div>\n",
    "    <div style=\"float:right;\">\n",
    "        <div style=\"float:left; margin-top:14px\">\n",
    "            Copyright © Teradata Corporation - 2025. All Rights Reserved\n",
    "        </div>\n",
    "    </div>\n",
    "</footer>"
   ]
  }
 ],
 "metadata": {
  "kernelspec": {
   "display_name": "Python 3 (ipykernel)",
   "language": "python",
   "name": "python3"
  },
  "language_info": {
   "codemirror_mode": {
    "name": "ipython",
    "version": 3
   },
   "file_extension": ".py",
   "mimetype": "text/x-python",
   "name": "python",
   "nbconvert_exporter": "python",
   "pygments_lexer": "ipython3",
   "version": "3.9.10"
  }
 },
 "nbformat": 4,
 "nbformat_minor": 5
}
