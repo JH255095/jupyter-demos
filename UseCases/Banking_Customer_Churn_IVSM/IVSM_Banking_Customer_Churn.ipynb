{
 "cells": [
  {
   "cell_type": "markdown",
   "id": "967a4811-b85a-4a65-b2c0-2f40876b6fff",
   "metadata": {},
   "source": [
    "<header>\n",
    "   <p  style='font-size:36px;font-family:Arial; color:#F0F0F0; background-color: #00233c; padding-left: 20pt; padding-top: 20pt;padding-bottom: 10pt; padding-right: 20pt;'>\n",
    "       IVSM Banking Customer Churn\n",
    "  <br>\n",
    "       <img id=\"teradata-logo\" src=\"https://storage.googleapis.com/clearscape_analytics_demo_data/DEMO_Logo/teradata.svg\" alt=\"Teradata\" style=\"width: 125px; height: auto; margin-top: 20pt;\">\n",
    "    </p>\n",
    "</header>"
   ]
  },
  {
   "cell_type": "markdown",
   "id": "59ebf5e7-4d95-4077-8dcd-15d4ee322d37",
   "metadata": {},
   "source": [
    "<p style = 'font-size:20px;font-family:Arial'><b>Introduction</b></p>\n",
    "\n",
    "<center><img src=\"images/churn.webp\"/></center>\n",
    "\n",
    "\n",
    "<p style = 'font-size:16px;font-family:Arial'>Customer churn is a critical metric in banking because it can directly impact a bank's revenue and profitability. When customers leave, banks lose the income they would have earned from those customers' transactions, investments, and account fees. Additionally, attracting new customers to replace those who have left can be expensive and time-consuming, so reducing customer churn is often more cost-effective than acquiring new customers.</p>\n",
    "\n",
    "<p style = 'font-size:16px;font-family:Arial'>Customer churn can also be an indicator of customer satisfaction and loyalty. If customers leave at a high rate, they may be dissatisfied with the bank's products or services, customer service, or overall experience.</p>\n",
    "\n",
    "<p style = 'font-size:16px;font-family:Arial'>Banks can use various strategies to reduce customer churns, such as improving customer service, offering more competitive rates and fees, providing personalized recommendations and offers, and enhancing digital channels and mobile apps. By tracking and analyzing customer churn rates, banks can identify areas for improvement and make strategic decisions to retain customers and improve overall customer satisfaction.</p>\n",
    "\n",
    "<p style = 'font-size:16px;font-family:Arial'>In this demo, we demonstrate how to implement the entire lifecycle of churn prediction can using Vantage technologies and, specifically, the combination of Bring Your Own Model (BYOM), Vantage Analytics Library (VAL) and teradataml python client library solution.</p>"
   ]
  },
  {
   "cell_type": "markdown",
   "id": "01f76290-5b46-4977-aa87-d20f26577ceb",
   "metadata": {},
   "source": [
    "<hr style=\"height:2px;border:none\">\n",
    "<p style = 'font-size:18px;font-family:Arial'><b>Import the required libraries</b></p>\n",
    "\n",
    "<p style = 'font-size:16px;font-family:Arial'>Here, we import the required libraries, set environment variables and environment paths (if required).</p>"
   ]
  },
  {
   "cell_type": "markdown",
   "id": "83b4c041-8bc1-43cf-93d6-4162c245ea14",
   "metadata": {},
   "source": [
    "<div class=\"alert alert-block alert-warning\">\n",
    "<p style = 'font-size:16px;font-family:Arial;color:#00233C'><b>Note: </b><i>Please execute notebooks Step1 through Step3 before executing this use case.</i></p>\n",
    "</div>"
   ]
  },
  {
   "cell_type": "code",
   "execution_count": null,
   "id": "61bdabd9-d9af-4008-81fa-44bf639ca35d",
   "metadata": {},
   "outputs": [],
   "source": [
    "import warnings\n",
    "warnings.filterwarnings('ignore')\n",
    "\n",
    "import os\n",
    "import pandas as pd\n",
    "\n",
    "import teradataml as tdml\n",
    "import getpass\n",
    "from teradataml import in_schema\n",
    "from teradataml import DecisionForest, XGBoost, TrainTestSplit, DecisionForestPredict, XGBoostPredict, SentimentExtractor, ColumnTransformer, ScaleFit, OneHotEncodingFit\n",
    "from teradataml import ColumnSummary, AutoML, AutoClassifier\n",
    "from teradataml import RoundColumns, ClassificationEvaluator, ROC\n",
    "from teradataml import (\n",
    "    DataFrame\n",
    ")\n",
    "from teradataml import KMeans\n",
    "from teradataml import create_context\n",
    "from teradataml import SVM, SVMPredict\n",
    "from teradataml import GridSearch, RandomSearch\n",
    "from teradatasqlalchemy import BYTEINT"
   ]
  },
  {
   "cell_type": "code",
   "execution_count": null,
   "id": "6de29e63-cb44-4864-8a15-653c0838a64d",
   "metadata": {
    "tags": []
   },
   "outputs": [],
   "source": [
    "tdml.configure.val_install_location = \"val\""
   ]
  },
  {
   "cell_type": "markdown",
   "id": "8419ac9b-e15e-4780-a60f-dba3da785232",
   "metadata": {},
   "source": [
    "<hr style=\"height:2px;border:none\">\n",
    "<b style = 'font-size:20px;font-family:Arial'>1. Initiate a connection to Vantage</b>\n",
    "<p style = 'font-size:16px;font-family:Arial'>You will be prompted to provide the password. Enter your password, press the Enter key, and then use the down arrow to go to the next cell.</p>"
   ]
  },
  {
   "cell_type": "code",
   "execution_count": null,
   "id": "8248b487-0b67-4039-905f-5901c6348d05",
   "metadata": {
    "tags": []
   },
   "outputs": [],
   "source": [
    "# Change host and/or username as needed\n",
    "%run -i ../startup.ipynb\n",
    "eng = create_context(host = 'host.docker.internal', username='demo_user', password = password)\n",
    "print(eng)"
   ]
  },
  {
   "cell_type": "code",
   "execution_count": null,
   "id": "bff62fbc-9013-4854-9a02-35d95acd5d69",
   "metadata": {},
   "outputs": [],
   "source": [
    "%%capture\n",
    "execute_sql('''SET query_band='DEMO=IVSM_Banking_Customer_Churn.ipynb;' UPDATE FOR SESSION; ''')"
   ]
  },
  {
   "cell_type": "markdown",
   "id": "5630371a-648a-42fe-8d90-bc9c23d6d422",
   "metadata": {},
   "source": [
    "<p style = 'font-size:20px;font-family:Arial'><b>Getting Data for This Demo</b></p>\n",
    "<p style = 'font-size:16px;font-family:Arial'>We have provided data for this demo on cloud storage. You can either run the demo using foreign tables to access the data without any storage on your environment or download the data to local storage, which may yield faster execution. Still, there could be considerations of available storage. Two statements are in the following cell, and one is commented out. You may switch which mode you choose by changing the comment string.</p>"
   ]
  },
  {
   "cell_type": "code",
   "execution_count": null,
   "id": "8eb5ed50-5295-462f-8003-c414efbbd90e",
   "metadata": {},
   "outputs": [],
   "source": [
    "# %run -i ../run_procedure.py \"call get_data('DEMO_BankChurnIVSM_cloud');\"  \n",
    "%run -i ../run_procedure.py \"call get_data('DEMO_BankChurnIVSM_local');\""
   ]
  },
  {
   "cell_type": "markdown",
   "id": "17d614ea-2481-4b3e-8174-3e900da25dd2",
   "metadata": {},
   "source": [
    "<p style = 'font-size:16px;font-family:Arial'>Next is an optional step – if you want to see the status of databases/tables created and space used.</p>"
   ]
  },
  {
   "cell_type": "code",
   "execution_count": null,
   "id": "cde7dd9b-6dbc-4e19-8ebe-3c3153fdb969",
   "metadata": {},
   "outputs": [],
   "source": [
    "%run -i ../run_procedure.py \"call space_report();\"        # Takes 10 seconds"
   ]
  },
  {
   "cell_type": "markdown",
   "id": "860d53bf-9684-4534-84c8-77c52f17c9d7",
   "metadata": {},
   "source": [
    "<p style = 'font-size:18px;font-family:Arial'><b>1.1 Confirmation for functions</b>\n",
    "<p style = 'font-size:16px;font-family:Arial'>Now we can confirm that the required functions are installed.</p>"
   ]
  },
  {
   "cell_type": "code",
   "execution_count": null,
   "id": "bc34ce47-36e6-4014-b2b5-9c618a876caf",
   "metadata": {},
   "outputs": [],
   "source": [
    "from IPython.display import display, Markdown\n",
    "\n",
    "df_check= DataFrame.from_query('''select count(*) as cnt from dbc.tablesV where databasename = 'ivsm';''')\n",
    "if df_check.get_values()[0][0] >= 10:\n",
    "    print('Functions are installed, please continue.')\n",
    "else:\n",
    "    print('Functions are not installed, please go to Instalization notebook before proceeding further')\n",
    "    display(Markdown(\"[Initialization Notebook](./1.IVSM_Banking_Customer_Churn_Model_Install.ipynb)\"))"
   ]
  },
  {
   "cell_type": "code",
   "execution_count": null,
   "id": "e8ab03ea-7dd5-428f-ab04-8ca6fa155850",
   "metadata": {
    "tags": []
   },
   "outputs": [],
   "source": [
    "df = tdml.DataFrame('complaint_embeddings_store')"
   ]
  },
  {
   "cell_type": "code",
   "execution_count": null,
   "id": "d2a8e69b-a40c-4014-831e-3a9c569aab88",
   "metadata": {
    "tags": []
   },
   "outputs": [],
   "source": [
    "df.head()"
   ]
  },
  {
   "cell_type": "markdown",
   "id": "c56e010d-a05f-4d32-807c-c0cc79862371",
   "metadata": {},
   "source": [
    "<hr style=\"height:2px;border:none\">\n",
    "<b style = 'font-size:20px;font-family:Arial'>2. Run K-Means on the Embeddings Store and then build final table with Cluster ID assignments to rows</b>"
   ]
  },
  {
   "cell_type": "markdown",
   "id": "9849e495-9b05-41ae-80ec-ff5986059f0e",
   "metadata": {},
   "source": [
    "<p style = 'font-size:16px;font-family:Arial'>The <b>K-means()</b> function groups a set of observations into k clusters in which each observation belongs to the cluster with the nearest mean (cluster centers or cluster centroid). This algorithm minimizes the objective function, that is, the total Euclidean distance of all data points from the center of the cluster</p>"
   ]
  },
  {
   "cell_type": "code",
   "execution_count": null,
   "id": "7e867a83-9b0b-4dba-97c6-1c1d22115071",
   "metadata": {
    "tags": []
   },
   "outputs": [],
   "source": [
    "cols = list(df.columns)[2:]\n",
    "\n",
    "KMeans_out = KMeans(id_column=\"id\",\n",
    "                    target_columns=cols,\n",
    "                    data=df,\n",
    "                    num_clusters=10,\n",
    "                    output_cluster_assignment=True\n",
    "                    )"
   ]
  },
  {
   "cell_type": "markdown",
   "id": "1c693bbd-db8e-424c-84a6-50fe7792e8d4",
   "metadata": {},
   "source": [
    "<p style = 'font-size:16px;font-family:Arial'>The output below shows cluster assignment for each row.</p>"
   ]
  },
  {
   "cell_type": "code",
   "execution_count": null,
   "id": "8745054e-2dd6-4c6f-8842-e144c92c263c",
   "metadata": {
    "tags": []
   },
   "outputs": [],
   "source": [
    "clusters = KMeans_out.result"
   ]
  },
  {
   "cell_type": "markdown",
   "id": "40048047-c26d-4434-b98d-b14a68ef22b5",
   "metadata": {},
   "source": [
    "<p style = 'font-size:16px;font-family:Arial'>Let's check how many data points each cluster has.</p>"
   ]
  },
  {
   "cell_type": "code",
   "execution_count": null,
   "id": "b48dea35-6b0b-4d29-ace7-a541151c2a92",
   "metadata": {},
   "outputs": [],
   "source": [
    "clusters"
   ]
  },
  {
   "cell_type": "code",
   "execution_count": null,
   "id": "3485db2f-7469-4e09-9367-8b7c642cdd37",
   "metadata": {
    "tags": []
   },
   "outputs": [],
   "source": [
    "merged_df = clusters.merge(df[['id','txt']], on='id', how='inner', lsuffix='_left', rsuffix='_right')"
   ]
  },
  {
   "cell_type": "code",
   "execution_count": null,
   "id": "9af42600-e4bb-4c9f-b9e6-b8b5dc53dc54",
   "metadata": {
    "tags": []
   },
   "outputs": [],
   "source": [
    "merged_df=merged_df.drop('id__left', axis=1)"
   ]
  },
  {
   "cell_type": "markdown",
   "id": "1932167b-921e-49fb-b7f3-39953a7ebe2f",
   "metadata": {
    "tags": []
   },
   "source": [
    "<p style = 'font-size:16px;font-family:Arial'>Create a \"Virtual DataFrame\" that points to the data set in Vantage.</p>\n",
    "<p style = 'font-size:16px;font-family:Arial'><b><i>*Please scroll down to the end of the notebook for detailed column descriptions of the dataset.</i></b></p>"
   ]
  },
  {
   "cell_type": "code",
   "execution_count": null,
   "id": "4755aaa1-269b-4003-b2e3-942a41ed1299",
   "metadata": {},
   "outputs": [],
   "source": [
    "customer_churn = DataFrame(in_schema('DEMO_BankChurnIVSM', 'Bank_Churn'))\n",
    "customer_churn"
   ]
  },
  {
   "cell_type": "code",
   "execution_count": null,
   "id": "c777aa80-b025-407d-a960-a05ffda40c66",
   "metadata": {
    "tags": []
   },
   "outputs": [],
   "source": [
    "new_df = customer_churn.merge(merged_df[['id__right','td_clusterid_kmeans']],\n",
    "                              on='customerid = id__right',\n",
    "                              how='inner')\n",
    "new_df"
   ]
  },
  {
   "cell_type": "code",
   "execution_count": null,
   "id": "dc0233da-f64a-4790-80dc-c5d516a113d4",
   "metadata": {
    "tags": []
   },
   "outputs": [],
   "source": [
    "new_df = new_df.drop('id__right',axis=1)"
   ]
  },
  {
   "cell_type": "code",
   "execution_count": null,
   "id": "379b386c-22aa-4044-b52c-584b165f3c3f",
   "metadata": {
    "tags": []
   },
   "outputs": [],
   "source": [
    "new_df"
   ]
  },
  {
   "cell_type": "markdown",
   "id": "f5bd271b-8787-4ac5-b568-95c562151ba7",
   "metadata": {},
   "source": [
    "<hr style=\"height:2px;border:none\">\n",
    "<b style = 'font-size:20px;font-family:Arial'>3. Data Transformation</b>"
   ]
  },
  {
   "cell_type": "code",
   "execution_count": null,
   "id": "ff20075d-ece4-49a5-bf7d-46e275622d63",
   "metadata": {
    "tags": []
   },
   "outputs": [],
   "source": [
    "target_variable = \"Exited\"\n",
    "numeric_columns = [\"Age\", \"Balance\", \"CreditScore\", \"EstimatedSalary\", \"Tenure\"]\n",
    "categorical_columns = [\"Gender\", \"Geography\", \"td_clusterid_kmeans\", \"NumOfProducts\"]\n",
    "binary_columns = [\"HasCrCard\", \"IsActiveMember\"]\n",
    "id_column = [\"CustomerId\"]"
   ]
  },
  {
   "cell_type": "markdown",
   "id": "63223a27-eac0-4949-b720-d9c3d5365678",
   "metadata": {},
   "source": [
    "<p style = 'font-size:16px;font-family:Arial'><b>ScaleFit()</b> function outputs statistics to input to ScaleTransform() function, which scales specified input DataFrame columns.<br>"
   ]
  },
  {
   "cell_type": "code",
   "execution_count": null,
   "id": "95e23b28-6858-42c7-8224-7efecce93ef8",
   "metadata": {
    "tags": []
   },
   "outputs": [],
   "source": [
    "fit1 = ScaleFit(data=new_df,\n",
    "                target_columns=numeric_columns,\n",
    "                scale_method=\"USTD\",\n",
    "                miss_value=\"KEEP\",\n",
    "                global_scale=False,\n",
    "                multiplier=\"1\")"
   ]
  },
  {
   "cell_type": "markdown",
   "id": "70b3745f-db85-45a9-a2c1-f9dc470619b6",
   "metadata": {},
   "source": [
    "<p style = 'font-size:16px;font-family:Arial'><b>OneHotEncodingFit </b>outputs a table of attributes and categorical values to input to OneHotEncodingTransform which encodes them as one-hot numeric vectors.</p>"
   ]
  },
  {
   "cell_type": "code",
   "execution_count": null,
   "id": "e40acda6-2856-4745-a7f7-29000f128b6b",
   "metadata": {
    "tags": []
   },
   "outputs": [],
   "source": [
    "fit2 = OneHotEncodingFit(data=new_df,\n",
    "                         is_input_dense=True,\n",
    "                         approach=\"auto\",\n",
    "                         target_column=categorical_columns[0:2],\n",
    "                         category_counts=[2,3])"
   ]
  },
  {
   "cell_type": "markdown",
   "id": "7200fd44-cb39-42fb-b8c5-79fe6f9668fd",
   "metadata": {},
   "source": [
    "<p style = 'font-size:16px;font-family:Arial'>The <b>ColumnTransformer</b> function transforms the entire dataset in a single operation. You only need\n",
    "to provide the FIT tables to the function, and the function runs all transformations that you require in a\n",
    "single operation. Running all the it table transformations together in one-go gives approx. 30% performance improvement over running each transformation sequentially.</p>"
   ]
  },
  {
   "cell_type": "code",
   "execution_count": null,
   "id": "43706ada-d4a0-4c55-8250-7433fd4b5b95",
   "metadata": {
    "tags": []
   },
   "outputs": [],
   "source": [
    "new_table = ColumnTransformer(input_data=new_df,\n",
    "                             onehotencoding_fit_data=fit2.result,\n",
    "                             scale_fit_data=fit1.output).result"
   ]
  },
  {
   "cell_type": "code",
   "execution_count": null,
   "id": "b177b817-df41-4845-8972-b91224ef76b2",
   "metadata": {
    "tags": []
   },
   "outputs": [],
   "source": [
    "new_table=new_table[['CustomerId', 'Age', 'Balance', 'CreditScore', 'EstimatedSalary', 'Exited', 'Gender', 'Geography', 'HasCrCard',\n",
    "                     'IsActiveMember', 'NumOfProducts', 'Tenure', 'td_clusterid_kmeans', 'Gender_0', 'Gender_1', 'Geography_0',\n",
    "                     'Geography_1', 'Geography_2']]"
   ]
  },
  {
   "cell_type": "markdown",
   "id": "2e44cfa5-0074-4393-ba3b-53502f630496",
   "metadata": {},
   "source": [
    "<p style = 'font-size:18px;font-family:Arial'><b>3.1 Train-Test Split</b>"
   ]
  },
  {
   "cell_type": "markdown",
   "id": "7a85bc76-b901-433b-a419-c147f8c8cf2a",
   "metadata": {},
   "source": [
    "<p style = 'font-size:16px;font-family:Arial'>The <b>TrainTestSplit()</b> function divides the dataset into train and test subsets to be used for evaluating machine learning models and validation processes.<br>\n",
    "80% is used for Training and 20% for validation.</p>"
   ]
  },
  {
   "cell_type": "code",
   "execution_count": null,
   "id": "9cbe56b7-5320-439e-a605-7b5d22a2d84c",
   "metadata": {
    "tags": []
   },
   "outputs": [],
   "source": [
    "TrainTestSplit_out = TrainTestSplit(data = new_table,\n",
    "                                    id_column='CustomerId',\n",
    "                                    train_size=0.80,\n",
    "                                    test_size=0.20,\n",
    "                                    seed=3432)"
   ]
  },
  {
   "cell_type": "code",
   "execution_count": null,
   "id": "cc2ee841-8b9d-40b0-88f4-7f08793a0ea5",
   "metadata": {
    "tags": []
   },
   "outputs": [],
   "source": [
    "TrainTestSplit_out.result.head()"
   ]
  },
  {
   "cell_type": "code",
   "execution_count": null,
   "id": "ec9c9d04-6f2f-488b-b317-05aac9a0cf57",
   "metadata": {
    "tags": []
   },
   "outputs": [],
   "source": [
    "df_train = TrainTestSplit_out.result[TrainTestSplit_out.result['TD_IsTrainRow'] == 1].drop(['TD_IsTrainRow'], axis = 1)\n",
    "df_test = TrainTestSplit_out.result[TrainTestSplit_out.result['TD_IsTrainRow'] == 0].drop(['TD_IsTrainRow'], axis = 1)\n",
    "\n",
    "print(\"Training Set = \" + str(df_train.shape[0]) + \". Testing Set = \" + str(df_test.shape[0]))"
   ]
  },
  {
   "cell_type": "code",
   "execution_count": null,
   "id": "c3398193-36de-43ed-8af4-3369f4465ed1",
   "metadata": {
    "tags": []
   },
   "outputs": [],
   "source": [
    "tdml.copy_to_sql(df_train, table_name = 'clean_data_train1', if_exists = 'replace')\n",
    "tdml.copy_to_sql(df_test, table_name = 'clean_data_test1', if_exists = 'replace')"
   ]
  },
  {
   "cell_type": "code",
   "execution_count": null,
   "id": "e4ee0b66-e0f5-4856-908a-1126542b8021",
   "metadata": {
    "tags": []
   },
   "outputs": [],
   "source": [
    "df_train = tdml.DataFrame(in_schema('demo_user','clean_data_train1'))"
   ]
  },
  {
   "cell_type": "code",
   "execution_count": null,
   "id": "bfbeea0e-0d41-4b2d-809c-89314ce711df",
   "metadata": {
    "tags": []
   },
   "outputs": [],
   "source": [
    "df_test = tdml.DataFrame(in_schema('demo_user','clean_data_test1'))"
   ]
  },
  {
   "cell_type": "markdown",
   "id": "b87ce3ac-9ac9-462b-9b5b-8f0e5f9a7ef5",
   "metadata": {},
   "source": [
    "<hr style=\"height:2px;border:none\">\n",
    "<p style = 'font-size:20px;font-family:Arial'><b>4. Modelling</b></p>"
   ]
  },
  {
   "cell_type": "markdown",
   "id": "75446770-a32e-4e93-acf5-8ac95924bf6d",
   "metadata": {},
   "source": [
    "<p style = 'font-size:18px;font-family:Arial'><b>4.1 Train an XGBoost Model</b>\n",
    "<p style = 'font-size:16px;font-family:Arial'>The <b>XGBoost()</b> function is an efficient implementation of gradient boosting for classification and regression tasks. It builds an ensemble of decision trees in a sequential manner to minimize prediction error.</p>\n"
   ]
  },
  {
   "cell_type": "code",
   "execution_count": null,
   "id": "81064960-5f1b-43ef-8aea-110e7d6ad066",
   "metadata": {
    "tags": []
   },
   "outputs": [],
   "source": [
    "formula_str = \"Exited ~ CreditScore + Age + Tenure + Balance + NumOfProducts + HasCrCard + IsActiveMember + EstimatedSalary + Gender_0 + Gender_1 + Geography_0 + Geography_1 + Geography_2 + td_clusterid_kmeans\""
   ]
  },
  {
   "cell_type": "code",
   "execution_count": null,
   "id": "239a6894-16ca-4079-9436-33a620997e4e",
   "metadata": {
    "tags": []
   },
   "outputs": [],
   "source": [
    "XGBoost_out2 = XGBoost(data=df_train,\n",
    "                       id_column='CustomerId',\n",
    "                       loss_function='logistic',\n",
    "                       formula = formula_str,\n",
    "                       iter_num=5,\n",
    "                       min_node_size=1,\n",
    "                       #num_boosted_trees=50,                       \n",
    "                       num_boosted_trees=80,\n",
    "                       lambda1 = 500,\n",
    "                       shrinkage_factor=0.5,\n",
    "                       max_depth=10)"
   ]
  },
  {
   "cell_type": "markdown",
   "id": "5c2ef7f0-b8ea-4331-a75a-f4920ceef2e0",
   "metadata": {},
   "source": [
    "<p style = 'font-size:18px;font-family:Arial'><b>4.2 Predict Labels using the XGBoost Model</b></p>"
   ]
  },
  {
   "cell_type": "markdown",
   "id": "bccb95be-6a91-4319-ba67-42c793ffe519",
   "metadata": {},
   "source": [
    "<p style = 'font-size:16px;font-family:Arial'>The <b>XGBoostPredict()</b> function is used to predict the target labels for the test dataset (<b>df_test</b>) based on the trained XGBoost model. </p>"
   ]
  },
  {
   "cell_type": "code",
   "execution_count": null,
   "id": "27caf437-c3c3-4fa4-baeb-f37fa7d377ae",
   "metadata": {
    "tags": []
   },
   "outputs": [],
   "source": [
    "XGBoostPredict_out_1 = XGBoostPredict(newdata=df_test,\n",
    "                                      object=XGBoost_out2.result,\n",
    "                                      id_column='CustomerId',\n",
    "                                     accumulate='Exited')"
   ]
  },
  {
   "cell_type": "code",
   "execution_count": null,
   "id": "a8ae2e7f-136f-4cfc-ba7e-17bba21cb619",
   "metadata": {
    "tags": []
   },
   "outputs": [],
   "source": [
    "XGBoostPredict_out_1.result"
   ]
  },
  {
   "cell_type": "code",
   "execution_count": null,
   "id": "3aca8957-cdac-4507-bef7-ea9491458f7e",
   "metadata": {
    "tags": []
   },
   "outputs": [],
   "source": [
    "predict_df = XGBoostPredict_out_1.result\n",
    "predict_df = predict_df.assign(Prediction = predict_df.Prediction.cast(type_ = BYTEINT))\n",
    "predict_df.head()"
   ]
  },
  {
   "cell_type": "markdown",
   "id": "3f6169eb-b18d-4e75-b5b7-9e897b4926e6",
   "metadata": {},
   "source": [
    "<p style = 'font-size:20px;font-family:Arial'><b>5. Evaluate the Model</b></p>\n",
    "<p style = 'font-size:16px;font-family:Arial'> <b>ClassificationEvaluator()</b> function evaluates and emits various metrics of classification model based on its predictions on the data. Apart from accuracy, the secondary output data returns micro, macro, and weighted-averaged metrics of precision, recall, and F1-score values.<br>\n",
    "This is a powerful function, and doesn't move data outside Vantage."
   ]
  },
  {
   "cell_type": "code",
   "execution_count": null,
   "id": "2559ce7b-871e-4728-8cc6-185b41889a9e",
   "metadata": {
    "tags": []
   },
   "outputs": [],
   "source": [
    "ClassificationEvaluator_obj = ClassificationEvaluator(data=predict_df,\n",
    "                                                          observation_column='Exited',\n",
    "                                                          prediction_column='Prediction',\n",
    "                                                          labels=['0', '1'])\n",
    "classeval_decisiondf = ClassificationEvaluator_obj.output_data\n",
    "classeval_decisiondf"
   ]
  },
  {
   "cell_type": "markdown",
   "id": "2de01e8c-7e52-439f-8d11-ebdf0a37110d",
   "metadata": {},
   "source": [
    "<p style = 'font-size:18px;font-family:Arial'><b>5.1 Compute ROC Curve</b></p>\n",
    "<p style = 'font-size:16px;font-family:Arial'>The <b>ROC()</b> function calculates the Receiver Operating Characteristic (ROC) curve to evaluate the performance of the model, using the predicted probabilities and the actual class labels."
   ]
  },
  {
   "cell_type": "code",
   "execution_count": null,
   "id": "b5250cb3-8538-4925-aab5-f6bd78732a07",
   "metadata": {
    "tags": []
   },
   "outputs": [],
   "source": [
    "roc_df = ROC(data = predict_df, \n",
    "                    probability_column = \"Prediction\",\n",
    "                    observation_column = \"Exited\",\n",
    "                    positive_class=\"1\"\n",
    "                    )\n",
    "roc_df.output_data"
   ]
  },
  {
   "cell_type": "code",
   "execution_count": null,
   "id": "ccfb7c90-7b53-4ffb-9ae5-e1da312842ec",
   "metadata": {
    "tags": []
   },
   "outputs": [],
   "source": [
    "auc = roc_df.result.get_values()[0][0]\n",
    "auc"
   ]
  },
  {
   "cell_type": "markdown",
   "id": "659a0cf9-7c51-4f03-9d28-9b1a09f31a5e",
   "metadata": {},
   "source": [
    "<p style = 'font-size:18px;font-family:Arial'><b>5.2 Plot ROC Curve</b></p>\n",
    "<p style = 'font-size:16px;font-family:Arial'>Plots the ROC curve using fpr (False Positive Rate) and tpr (True Positive Rate) from the ROC data, and displays the Area Under the Curve (AUC) for model evaluation."
   ]
  },
  {
   "cell_type": "code",
   "execution_count": null,
   "id": "17f4a9f0-65ec-4e62-8e02-d3086777a788",
   "metadata": {
    "tags": []
   },
   "outputs": [],
   "source": [
    "plot_roc_df = roc_df.output_data\n",
    "plot =  plot_roc_df.plot(x=plot_roc_df.fpr, y=plot_roc_df.tpr,\n",
    "                         title=\"Receiver Operating Characteristic (ROC) Curve\",\n",
    "                         xlabel='False Positive Rate', \n",
    "                         ylabel='True Positive Rate', \n",
    "                         color=\"blue\",\n",
    "                         legend=f'AUC = {round(auc, 4)}',\n",
    "                         legend_style='lower right',\n",
    "                         grid_linestyle='--',\n",
    "                         grid_linewidth=0.5)\n",
    " \n",
    "# Display the plot.\n",
    "plot.show()"
   ]
  },
  {
   "cell_type": "markdown",
   "id": "a2c2b009-c04f-4a0c-a979-1aed0ad92d10",
   "metadata": {},
   "source": [
    "<p style = 'font-size:18px;font-family:Arial'><b>5.3 Hyperparameter Tuning</b></p>\n",
    "<p style = 'font-size:16px;font-family:Arial'>Sets the parameters for the classification model, including input columns, response column, hyperparameters (e.g., max_depth, lambda1), and other settings such as shrinkage_factor, seed, and iter_num."
   ]
  },
  {
   "cell_type": "code",
   "execution_count": null,
   "id": "d9a40b30-afa9-433d-84ea-ca6ab8d7dd75",
   "metadata": {
    "tags": []
   },
   "outputs": [],
   "source": [
    "model_params = {\"input_columns\":['CreditScore','Age', 'Tenure','Balance','NumOfProducts','HasCrCard','IsActiveMember','EstimatedSalary','Gender_0','Gender_1','Geography_0','Geography_1','Geography_2','td_clusterid_kmeans'],\n",
    "                    \"response_column\" :'Exited',\n",
    "                    \"max_depth\":(5,10,15),\n",
    "                    \"lambda1\" :(1000.0,0.001),\n",
    "                    \"model_type\" :\"Classification\",\n",
    "                    \"seed\":32,\n",
    "                    \"shrinkage_factor\":0.1,\n",
    "                    \"iter_num\":(5, 50)}"
   ]
  },
  {
   "cell_type": "code",
   "execution_count": null,
   "id": "facf3bbe-d0f4-45b2-beff-384bd0dd110d",
   "metadata": {
    "tags": []
   },
   "outputs": [],
   "source": [
    "eval_params = {\"id_column\": \"CustomerId\",\n",
    "               \"accumulate\":\"Exited\",\n",
    "               \"model_type\":'Classification',\n",
    "               \"object_order_column\":['task_index', 'tree_num', 'iter','class_num', 'tree_order']}"
   ]
  },
  {
   "cell_type": "markdown",
   "id": "b3006745-5a9d-4f53-b760-cabcc6feca08",
   "metadata": {},
   "source": [
    "<p style = 'font-size:16px;font-family:Arial'><b>GridSearch</b> is an exhaustive search algorithm that covers all possible parameter values to identify optimal hyperparameters. It works for teradataml analytic functions from SQLE, BYOM, VAL and UAF features.teradataml GridSearch allows user to perform hyperparameter tuning for all model trainer and non-model trainer functions."
   ]
  },
  {
   "cell_type": "code",
   "execution_count": null,
   "id": "6bbe0764-f708-41e8-b934-749be5e6da68",
   "metadata": {
    "tags": []
   },
   "outputs": [],
   "source": [
    "gs_obj = GridSearch(func=XGBoost, params=model_params)"
   ]
  },
  {
   "cell_type": "code",
   "execution_count": null,
   "id": "e6b5fa12-e409-4a4e-b070-b69e162fbbf4",
   "metadata": {
    "tags": []
   },
   "outputs": [],
   "source": [
    "gs_obj.fit(data=df_train, verbose=2, run_parallel=True, evaluation_metric='Accuracy', **eval_params)"
   ]
  },
  {
   "cell_type": "code",
   "execution_count": null,
   "id": "a6bcac47-5d5f-4028-a29e-893ae97de214",
   "metadata": {
    "tags": []
   },
   "outputs": [],
   "source": [
    "gs_obj.models"
   ]
  },
  {
   "cell_type": "code",
   "execution_count": null,
   "id": "c04c587b-7188-41b2-ba0a-1ec6c9725938",
   "metadata": {
    "tags": []
   },
   "outputs": [],
   "source": [
    "gs_obj.model_stats"
   ]
  },
  {
   "cell_type": "markdown",
   "id": "149342fc-9ae8-403f-bc55-4ed2e9cf7c39",
   "metadata": {},
   "source": [
    "<p style = 'font-size:16px;font-family:Arial'>Function uses model training function generated models from SQLE, \n",
    "    VAL and UAF features for predictions. Predictions are made using \n",
    "    the best trained model. Predict function is not supported for\n",
    "    non-model trainer function."
   ]
  },
  {
   "cell_type": "code",
   "execution_count": null,
   "id": "4502772b-da18-4011-b4d1-c2e010645141",
   "metadata": {
    "tags": []
   },
   "outputs": [],
   "source": [
    "gs_pred = gs_obj.predict(newdata=df_test, **eval_params)"
   ]
  },
  {
   "cell_type": "code",
   "execution_count": null,
   "id": "deed48c7-8d62-49f5-9cd9-0686dd208e9e",
   "metadata": {
    "tags": []
   },
   "outputs": [],
   "source": [
    "print(\"Prediction Result: \\n\", gs_pred.result)"
   ]
  },
  {
   "cell_type": "code",
   "execution_count": null,
   "id": "3cca24c3-ade4-4c12-ae90-165caa014ac5",
   "metadata": {
    "tags": []
   },
   "outputs": [],
   "source": [
    "gs_obj.best_params_"
   ]
  },
  {
   "cell_type": "code",
   "execution_count": null,
   "id": "96ece2ee-e6a6-43cc-a7ea-7f997d24d49b",
   "metadata": {},
   "outputs": [],
   "source": [
    "roc_df = ROC(data = gs_pred.result, \n",
    "                    probability_column = \"Prediction\",\n",
    "                    observation_column = \"Exited\",\n",
    "                    positive_class=\"1\"\n",
    "                    )\n",
    "auc = roc_df.result.get_values()[0][0]\n",
    "print('AUC: ', auc)\n",
    "\n",
    "plot_roc_df = roc_df.output_data\n",
    "plot =  plot_roc_df.plot(x=plot_roc_df.fpr, y=plot_roc_df.tpr,\n",
    "                         title=\"Receiver Operating Characteristic (ROC) Curve\",\n",
    "                         xlabel='False Positive Rate', \n",
    "                         ylabel='True Positive Rate', \n",
    "                         color=\"blue\",\n",
    "                         legend=f'AUC = {round(auc, 4)}',\n",
    "                         legend_style='lower right',\n",
    "                         grid_linestyle='--',\n",
    "                         grid_linewidth=0.5)\n",
    " \n",
    "# Display the plot.\n",
    "plot.show()"
   ]
  },
  {
   "cell_type": "markdown",
   "id": "b3afc61d-27bd-4f5e-8977-dc20603f7247",
   "metadata": {},
   "source": [
    "<hr style=\"height:2px;border:none\">\n",
    "<b style = 'font-size:20px;font-family:Arial'>6. Cleanup</b>\n",
    "<p style = 'font-size:16px;font-family:Arial'>The following code will remove the context.</p>"
   ]
  },
  {
   "cell_type": "code",
   "execution_count": null,
   "id": "36bfae31-60de-4ff9-8a64-8e52c44efd14",
   "metadata": {
    "tags": []
   },
   "outputs": [],
   "source": [
    "tdml.remove_context()"
   ]
  },
  {
   "cell_type": "markdown",
   "id": "a7d5c20d-a4fd-439b-8ba3-70c4932b7fcb",
   "metadata": {},
   "source": [
    "<hr style=\"height:1px;border:none;\">\n",
    "<b style = 'font-size:18px;font-family:Arial'>Dataset:</b>\n",
    "\n",
    "- `Unnamed`: Unnamed\n",
    "- `CustomerId`: Customer ID\n",
    "- `Surname`: Surname\n",
    "- `CreditScore`: Credit score\n",
    "- `Geography`: Country (Germany / France / Spain)\n",
    "- `Gender`: Gender (Female / Male)\n",
    "- `Age`: Age\n",
    "- `Tenure`: No of years the customer has been associated with the bank\n",
    "- `Balance`: Balance\n",
    "- `NumOfProducts`: No of bank products used\n",
    "- `HasCrCard`: Credit card status (0 = No, 1 = Yes)\n",
    "- `IsActiveMember`: Active membership status (0 = No, 1 = Yes)\n",
    "- `EstimatedSalary`: Estimated salary\n",
    "- `Exited`: Abandoned or not? (0 = No, 1 = Yes)\n",
    "\n",
    "<p style = 'font-size:16px;font-family:Arial'><b>Links:</b></p>\n",
    "<ul style = 'font-size:16px;font-family:Arial'>\n",
    "    <li>Teradataml Python reference: <a href = 'https://docs.teradata.com/search/all?query=Python+Package+User+Guide&content-lang=en-US'>here</a></li>\n",
    "    <li>KMeans reference: <a href = 'https://docs.teradata.com/r/Enterprise/Teradata-Package-for-Python-Function-Reference-17.20/teradataml-Analytic-Database-17.20.xx-Analytic-Functions/MODEL-TRAINING-functions/KMeans'>here</a></li>\n",
    "    <li>KMeansPredict reference: <a href = 'https://docs.teradata.com/r/Enterprise/Teradata-Package-for-Python-Function-Reference-17.20/teradataml-Analytic-Database-17.20.xx-Analytic-Functions/MODEL-SCORING-functions/KMeansPredict'>here</a></li>\n",
    "    <li>SVM reference: <a href = 'https://docs.teradata.com/r/Enterprise/Teradata-Package-for-Python-Function-Reference-17.20/teradataml-Analytic-Database-17.20.xx-Analytic-Functions/MODEL-TRAINING-functions/SVM'>here</a></li>\n",
    "    <li>SVMPredict reference: <a href = 'https://docs.teradata.com/r/Enterprise/Teradata-Package-for-Python-Function-Reference-17.20/teradataml-Analytic-Database-17.20.xx-Analytic-Functions/MODEL-SCORING-functions/SVMPredict'>here</a></li>\n",
    "    <li>XGBoost reference: <a href = 'https://docs.teradata.com/r/Enterprise/Teradata-Package-for-Python-Function-Reference-17.20/teradataml-Analytic-Database-17.20.xx-Analytic-Functions/MODEL-TRAINING-functions/XGBoost'>here</a></li>\n",
    "    <li>XGBoostPredict reference: <a href = 'https://docs.teradata.com/r/Enterprise/Teradata-Package-for-Python-Function-Reference-17.20/teradataml-Analytic-Database-17.20.xx-Analytic-Functions/MODEL-SCORING-functions/XGBoostPredict'>here</a></li>\n",
    "    <li>ScaleFit reference: <a href = 'https://docs.teradata.com/r/Enterprise/Teradata-Package-for-Python-Function-Reference-17.20/teradataml-Analytic-Database-17.20.xx-Analytic-Functions/FEATURE-ENGINEERING-TRANSFORM-functions/ScaleFit'>here</a></li>\n",
    "    <li>OneHotEncodingFit reference: <a href = 'https://docs.teradata.com/r/Enterprise/Teradata-Package-for-Python-Function-Reference-17.20/teradataml-Analytic-Database-17.20.xx-Analytic-Functions/FEATURE-ENGINEERING-TRANSFORM-functions/OneHotEncodingFit'>here</a></li>\n",
    "    <li>TrainTestSplit reference: <a href = 'https://docs.teradata.com/r/Enterprise/Teradata-Package-for-Python-Function-Reference-17.20/teradataml-Analytic-Database-17.20.xx-Analytic-Functions/MODEL-EVALUATION-functions/TrainTestSplit'>here</a></li>\n",
    "    <li>ClassificationEvaluator reference: <a href = 'https://docs.teradata.com/r/Enterprise/Teradata-Package-for-Python-Function-Reference-17.20/teradataml-Analytic-Database-17.20.xx-Analytic-Functions/MODEL-EVALUATION-functions/ClassificationEvaluator'>here</a></li>\n",
    "    <li>ColumnTransformer reference: <a href = 'https://docs.teradata.com/r/Enterprise/Teradata-Package-for-Python-Function-Reference-17.20/teradataml-Analytic-Database-17.20.xx-Analytic-Functions/FEATURE-ENGINEERING-TRANSFORM-functions/ColumnTransformer'>here</a></li>\n",
    "    <li>ROC reference: <a href = 'https://docs.teradata.com/r/Enterprise/Teradata-Package-for-Python-Function-Reference-17.20/teradataml-Analytic-Database-17.20.xx-Analytic-Functions/MODEL-EVALUATION-functions/ROC'>here</a></li>\n",
    "</ul>"
   ]
  },
  {
   "cell_type": "markdown",
   "id": "450c8c1b-86a7-435b-b0bc-e50bddf4e9b7",
   "metadata": {
    "tags": []
   },
   "source": [
    "<footer style=\"padding-bottom:35px; border-bottom:3px solid\">\n",
    "    <div style=\"float:left;margin-top:14px\">ClearScape Analytics™</div>\n",
    "    <div style=\"float:right;\">\n",
    "        <div style=\"float:left; margin-top:14px\">\n",
    "            Copyright © Teradata Corporation - 2025. All Rights Reserved\n",
    "        </div>\n",
    "    </div>\n",
    "</footer>"
   ]
  }
 ],
 "metadata": {
  "kernelspec": {
   "display_name": "Python 3 (ipykernel)",
   "language": "python",
   "name": "python3"
  },
  "language_info": {
   "codemirror_mode": {
    "name": "ipython",
    "version": 3
   },
   "file_extension": ".py",
   "mimetype": "text/x-python",
   "name": "python",
   "nbconvert_exporter": "python",
   "pygments_lexer": "ipython3",
   "version": "3.9.10"
  }
 },
 "nbformat": 4,
 "nbformat_minor": 5
}
