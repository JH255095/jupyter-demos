{
 "cells": [
  {
   "cell_type": "markdown",
   "id": "b534c1b4-d43d-4633-8df1-58a0e3c09459",
   "metadata": {},
   "source": [
    "<header style=\"background-color: #00233C; color: #F0F0F0; padding: 20pt;\">\n",
    "    <h1 style=\"font-size: 36px; font-family: Arial; margin: 0;\">\n",
    "        Data Analyst AI Agent with LangChain and Google Gemini\n",
    "    </h1>\n",
    "    <img id=\"teradata-logo\" src=\"https://storage.googleapis.com/clearscape_analytics_demo_data/DEMO_Logo/teradata.svg\" alt=\"Teradata\" style=\"width: 125px; height: auto; margin-top: 20pt;\">\n",
    "</header>\n",
    "\n",
    "<section style=\"margin-top: 20px;\">\n",
    "    <p style=\"font-size: 18px; font-family: Arial; color: #00233C;\"><b>Introduction</b></p>\n",
    "    <p style=\"font-size: 16px; font-family: Arial; color: #00233C;\">\n",
    "        Data scientists, data engineers, and SQL experts are frequently tasked with querying enterprise databases to answer critical business questions, such as “What was our churn this month?” or “Which product led sales in the Americas?” The answers often trigger further follow-up questions, requiring engineers to spend significant time responding to data requests. \n",
    "        <br><br>\n",
    "        By integrating Google Gemini, LangChain’s open-source framework, and the powerful capabilities of Teradata Vantage™, we can develop text-to-SQL autonomous agents that enable business teams to independently retrieve insights. Leveraging teradataml, teams can analyze data stored in Vantage and external object stores, such as Amazon S3, Google Cloud, Azure Blob, and OTF, without needing to ingest it. This reduces data transfer costs and offers flexible exploration using text-to-SQL generative AI applications.\n",
    "    </p>\n",
    "</section>\n",
    "\n",
    "<section style=\"margin-top: 20px;\">\n",
    "    <p style=\"font-size: 18px; font-family: Arial; color: #00233C;\"><b>Text-to-Teradata SQL Agent Architecture</b></p>\n",
    "        <p style=\"font-size: 16px; font-family: Arial; color: #00233C;\">\n",
    "            We will build a LangChain implementation of a text-to-SQL agent to generate and execute advanced SQL queries compatible with any LLM. Users can ask business questions in natural English and receive answers with data drawn from the relevant databases. This agent will connect to a Vantage database to analyze data stored in Vantage and Amazon S3. You may add additional foreign tables to load data from Google Cloud, and Azure Blob.\n",
    "        </p>\n",
    "        <img src=\"SQLAgent.png\" alt=\"Text-2-TeradataSQL Agents with LangChain and Google\" style=\"width: 90%; height: auto; margin-top: 20px;\"> Source: <a href=\"https://python.langchain.com/docs/tutorials/sql_qa/\" target=\"_blank\" style=\"color: #00233C;\">LangChain SQL Agent Tutorial</a>\n",
    "\n",
    "</section> https://python.langchain.com/docs/tutorials/sql_qa/"
   ]
  },
  {
   "cell_type": "markdown",
   "id": "e4e35c45-b996-4f5f-9972-8e6e44ceaf4e",
   "metadata": {},
   "source": [
    "<hr style='height:2px;border:none;background-color:#00233C;'>\n",
    "\n",
    "<b style = 'font-size:20px;font-family:Arial;color:#00233c'>1. Configuring the environment</b>"
   ]
  },
  {
   "cell_type": "code",
   "execution_count": null,
   "id": "c8602a49-7e0b-4d15-b9f6-d01b3f2bee6c",
   "metadata": {},
   "outputs": [],
   "source": [
    "%%capture\n",
    "# '%%capture' suppresses the display of installation steps of the following packages\n",
    "\n",
    "!pip install -r requirements.txt --quiet\n",
    "!pip install -U langsmith"
   ]
  },
  {
   "cell_type": "markdown",
   "id": "57b7e0ac",
   "metadata": {},
   "source": [
    "<div class=\"alert alert-block alert-info\">\n",
    "<p style = 'font-size:16px;font-family:Arial;color:#00233C'><b>Note: </b>Please restart the Kernel to bring in the versions of the libraries that were just installed/update with the above statements. The simplest way to restart the Kernel is by typing zero zero: <b> 0 0</b> and then pressing <b>ENTER</b>.</p>\n",
    "</div>\n",
    "<p style = 'font-size:16px;font-family:Arial;color:#00233C'>Next, we'll import the required modules from the libraries.</p>"
   ]
  },
  {
   "cell_type": "code",
   "execution_count": null,
   "id": "2cbfc260-ab79-4cba-8c20-36988aa08c3f",
   "metadata": {},
   "outputs": [],
   "source": [
    "import os \n",
    "import getpass\n",
    "import warnings\n",
    "\n",
    "from teradataml import create_context, execute_sql, DataFrame, in_schema\n",
    "from langchain_google_genai import ChatGoogleGenerativeAI\n",
    "\n",
    "from langchain_community.utilities import SQLDatabase \n",
    "from langchain_core.prompts import ChatPromptTemplate    \n",
    "from langchain_community.agent_toolkits import create_sql_agent\n"
   ]
  },
  {
   "cell_type": "markdown",
   "id": "964b9d1e-a417-4da3-8df2-1cc2c166a148",
   "metadata": {},
   "source": [
    "<hr style=\"height: 1px; border: none; background-color: #00233C;\">\n",
    "<p style=\"font-size: 20px; font-family: Arial; color: #00233C;\"><b>2. Connect to Vantage</b></p>\n",
    "    Here, we use the <a href=\"https://docs.teradata.com/r/Enterprise_IntelliFlex_VMware/Teradata-Package-for-Python-User-Guide-17.20/Context-to-Teradata-Vantage\" target=\"_blank\">create_context()</a> function to connect to the Vantage system using the teradatasql and teradatasqlalchemy DBAPI and dialect combination. This connection allows us to use the teradataml <a href=\"https://docs.teradata.com/r/Enterprise_IntelliFlex_VMware/Teradata-Package-for-Python-User-Guide-17.20/DataFrames-for-Tables-and-Views/DataFrames-from-Teradata-Vantage-Data-Sources/DataFrame-Constructor\" target=\"_blank\">DataFrame()</a> constructor to build foreign tables for reading data from Object Storage - in this example from Amazon s3.\n",
    "</p>\n"
   ]
  },
  {
   "cell_type": "code",
   "execution_count": 58,
   "id": "fcdedfbb-165e-4545-82c1-4e601b0cd7f5",
   "metadata": {},
   "outputs": [],
   "source": [
    "# Set up Teradata connection\n",
    "password=getpass.getpass(prompt='Enter your ClearScape Analytics Environment password: ')\n",
    "\n",
    "eng = create_context(host = 'host.docker.internal', username = 'demo_user', password = password)\n",
    "print(eng)"
   ]
  },
  {
   "cell_type": "code",
   "execution_count": 45,
   "id": "c72ce4c7-9264-4492-995c-dadbb75deac9",
   "metadata": {},
   "outputs": [],
   "source": [
    "%run -i ../run_procedure.py \"call space_report();\""
   ]
  },
  {
   "cell_type": "markdown",
   "id": "7ad6640a-d625-45df-a5de-b76e38fb5213",
   "metadata": {},
   "source": [
    "<hr style='height:1px;border:none;background-color:#00233C;'>\n",
    "<p style = 'font-size:18px;font-family:Arial;color:#00233c'><b>2.1 Loading Data for This Demo</b></p>"
   ]
  },
  {
   "cell_type": "code",
   "execution_count": 46,
   "id": "cd594d83-e7ee-4d06-a384-455804d6ac56",
   "metadata": {},
   "outputs": [],
   "source": [
    "#Load data onto Foreign table\n",
    "\n",
    "load_data = \"\"\" CREATE FOREIGN TABLE demo_user.retail_marketing\n",
    "USING ( \n",
    "location('/s3/dev-rel-demos.s3.amazonaws.com/bedrock-demo/Retail_Marketing.csv') \n",
    "); \"\"\" \n",
    "\n",
    "try:\n",
    "    execute_sql(load_data)\n",
    "    print('Table Loaded')\n",
    "except Exception as e:\n",
    "    if \"already exists\" in str(e): \n",
    "        print(\"Table already exists, skipping creation.\")\n",
    "    else:\n",
    "        print(f\"An error occurred: {e}\")"
   ]
  },
  {
   "cell_type": "markdown",
   "id": "7841cfc3-f15b-4ddd-8eaf-086ba02d971b",
   "metadata": {},
   "source": [
    "<hr style='height:2px;border:none;background-color:#00233C;'>\n",
    "<b style = 'font-size:20px;font-family:Arial;color:#00233c'>3. Data Exploration</b>"
   ]
  },
  {
   "cell_type": "code",
   "execution_count": 47,
   "id": "f9c84eb9-843e-49ff-930c-7dd84af1211a",
   "metadata": {},
   "outputs": [],
   "source": [
    "df = DataFrame(in_schema('demo_user', 'retail_marketing'))\n",
    "df.shape"
   ]
  },
  {
   "cell_type": "code",
   "execution_count": 48,
   "id": "e67ff4da-ee96-48da-b498-f3088bff624f",
   "metadata": {},
   "outputs": [],
   "source": [
    "df"
   ]
  },
  {
   "cell_type": "markdown",
   "id": "be7a4d1e-97b1-47a5-9b29-0041dd0a85ae",
   "metadata": {},
   "source": [
    "<hr style='height:1px;border:none;background-color:#00233C;'>\n",
    "<p style = 'font-size:20px;font-family:Arial;color:#00233c'><b>4. Create engine using SQLAlchemy </b><p>\n",
    "<p style=\"font-size: 16px; font-family: Arial; color: #00233C;\">\n",
    " We create our engine using LangChain's SQLAlchemy wrapper <a href=\"https://api.python.langchain.com/en/latest/utilities/langchain_community.utilities.sql_database.SQLDatabase.html\" target=\"_blank\">SQLDatabase</a>. <br><br>The <code>db.get_usable_table_names()</code> method retrieves and prints the names of tables in the connected database. For this demonstration, we're using our default <code>demo_user</code> database. If there are no tables in your database, this method will return an empty array.\n",
    "</p>\n",
    "</p>\n"
   ]
  },
  {
   "cell_type": "code",
   "execution_count": 49,
   "id": "45c5fdef-2ac9-4c6e-a131-e6180b7e4643",
   "metadata": {},
   "outputs": [],
   "source": [
    "# initialize the database connection\n",
    "db = SQLDatabase(eng, schema='demo_user', view_support=True)\n",
    "print(db.dialect)\n",
    "print(db.get_usable_table_names())\n",
    "# print(db.get_context())"
   ]
  },
  {
   "cell_type": "code",
   "execution_count": 50,
   "id": "caa5f031-059f-408c-a317-84fa411db82e",
   "metadata": {},
   "outputs": [],
   "source": [
    "os.environ[\"GOOGLE_API_KEY\"] = getpass.getpass(\"Enter your Google API Key\")"
   ]
  },
  {
   "cell_type": "markdown",
   "id": "998c4800-a3f4-4eab-81ec-006bebd8dd4e",
   "metadata": {},
   "source": [
    "<hr style='height:1px;border:none;background-color:#00233C;'>\n",
    "<p style = 'font-size:18px;font-family:Arial;color:#00233c'><b>4.1 Define LLM</b></p>\n",
    "<p style=\"font-size: 16px; font-family: Arial; color: #00233C;\">\n",
    "    Define the LLM using the <code>ChatGoogleGenerativeAI</code> class.\n",
    "<p style=\"font-size: 16px; font-family: Arial; color: #00233C;\">\n",
    "    We use the optional parameter <b>temperature</b> to make our Teradata SQL outputs more predictable.\n",
    "</p>\n",
    "<div style=\"margin-left: 16px; font-size: 16px; font-family: Arial; color: #00233C;\">\n",
    " <b>Temperature:</b> which can range from 0.0 to 2, depending on the model and controls how creative our results will be, Setting it to 0.1 ensures the model favors higher-probability (more predictable) words, resulting in more consistent and less varied outputs.<br>\n",
    "</div>\n",
    "\n",
    "<p style=\"font-size: 16px; font-family: Arial; color: #00233C;\">\n",
    "For a complete list of optional parameters for base models provided by Genmini, visit the <a href=\"\"> Google docs</a>.\n",
    "</p>"
   ]
  },
  {
   "cell_type": "code",
   "execution_count": 51,
   "id": "dfb890c0-16fa-4eba-b67a-5e2a28cf0730",
   "metadata": {},
   "outputs": [],
   "source": [
    "llm = ChatGoogleGenerativeAI(\n",
    "    model=\"gemini-1.5-flash\",\n",
    "    temperature=0.1,\n",
    "    max_tokens=None,\n",
    "    timeout=None\n",
    "    # other params...\n",
    ")"
   ]
  },
  {
   "cell_type": "markdown",
   "id": "d2e38306-ab1e-444b-b869-d8cb32d2901c",
   "metadata": {},
   "source": [
    "<hr style=\"height: 2px; border: none; background-color: #00233C;\">\n",
    "<p style = 'font-size:18px;font-family:Arial;color:#00233c'><b>5. Prepare a Custom Prompt to Guide the SQL Agent</b></p>\n",
    "\n",
    "<p style=\"font-size: 16px; font-family: Arial; color: #00233C;\">\n",
    "    We imported the \n",
    "    <a href=\"https://python.langchain.com/docs/concepts/prompt_templates/\" style=\"color: #00233C;\">ChatPromptTemplate</a> \n",
    "    class from langchain_core to build flexible, reusable prompts for a list of messages in our agent. Here, we define a prefix, format instructions, and a suffix and join them to create a custom prompt. The prefix has unique rules that apply to Teradata. The format guides its question, thought, observation behavior, and the suffix cues it to begin.\n",
    "</p>\n",
    "\n",
    "<p style=\"font-size: 16px; font-family: Arial; color: #00233C;\">\n",
    "    Tools are classes that an Agent uses to interact with the world. Each tool has a description, and the Agent uses the description to choose the right tool for the job:\n",
    "</p>\n",
    "\n",
    "<ul style=\"font-size: 16px; font-family: Arial; color: #00233C;\">\n",
    "    <li><b>sql_db_query</b> - The input to this tool is a detailed and correct SQL query, and the output is a result from the database. If the query is incorrect, an error message will be returned. If an error is returned, rewrite the query, check it, and try again. If you encounter an issue with <i>Unknown column 'xxxx' in 'field list'</i>, use <b>sql_db_schema</b> to query the correct table fields.</li>\n",
    "    <li><b>sql_db_schema</b> - The input to this tool is a comma-separated list of tables, and the output is the schema and sample rows for those tables. Be sure the tables exist by calling <b>sql_db_list_tables</b> first! Example Input: table1, table2, table3.</li>\n",
    "    <li><b>sql_db_list_tables</b> - The input is an empty string, and the output is a comma-separated list of tables in the database.</li>\n",
    "    <li><b>sql_db_query_checker</b> - Use this tool to double-check if your query is correct before executing it. Always use this tool before executing a query with <b>sql_db_query</b>!</li>\n",
    "</ul>\n"
   ]
  },
  {
   "cell_type": "code",
   "execution_count": 52,
   "id": "2f70453b-1265-43f3-8d12-e724c216da31",
   "metadata": {},
   "outputs": [],
   "source": [
    "prefix = \"\"\"You are an helpful and expert TeradataSQL database admin. TeradataSQL shares many similarities to SQL, with a few key differences.\n",
    "Given an input question, first create a syntactically correct {dialect} query to run, then look at the results of the query and return the answer.\n",
    "\n",
    "IMPORTANT: Unless the user specifies an exact number of rows they wish to obtain, you must always limit your query to at most {top_k} results by using \"SELECT TOP {top_k}\".\n",
    "\n",
    "The following keywords do not exist in TeradataSQL: \n",
    "1. LIMIT \n",
    "2. FETCH\n",
    "3. FIRST\n",
    "Instead of LIMIT or FETCH, use the TOP keyword. The TOP keyword should immediately follow a \"SELECT\" statement.\n",
    "For example, to select the top 3 results, use \"SELECT TOP 3 FROM <table_name>\"\n",
    "Enclose all value identifiers in quotes to prevent errors from restricted keywords. Append an underscore to all alias keywords (e.g., AS count_).\n",
    "Always use double quotation marks (\" \") for column names in SQL queries to avoid syntax errors.\n",
    "NOT make any DML statements (INSERT, UPDATE, DELETE, DROP, etc.) to the database. \n",
    "If the question does not seem related to the database, just return \"I don't know\" as the answer\n",
    "\n",
    "You have access to the following tools:\"\"\"\n",
    "\n",
    "format_instructions = \"\"\"You must always the following format:\n",
    "\n",
    "Question: the input question you must answer\n",
    "Thought: you should always think about what to do\n",
    "Action: the action to take, should be one of [{tool_names}]\n",
    "Action Input: the input to the action\n",
    "Observation: the result of the action\n",
    "... (this Thought/Action/Action Input/Observation can repeat N times)\n",
    "Thought: I now know the final answer\n",
    "Final Answer: the final answer to the original input question\n",
    "\n",
    "Don't forget to prefix your final answer with the string, \"Final Answer:\"!\"\"\"\n",
    "\n",
    "suffix = \"\"\"Begin!\n",
    "\n",
    "Question: {input}\n",
    "Thought:{agent_scratchpad}\"\"\"\n"
   ]
  },
  {
   "cell_type": "code",
   "execution_count": 53,
   "id": "9cefdf2d-747d-4dac-be3d-d097e0688821",
   "metadata": {},
   "outputs": [],
   "source": [
    "custom_prompt = ChatPromptTemplate.from_template(\"\\n\\n\".join([\n",
    "    prefix,\n",
    "    \"{tools}\",\n",
    "    format_instructions,\n",
    "    suffix,\n",
    "]))"
   ]
  },
  {
   "cell_type": "markdown",
   "id": "2e138d51-8d26-4dd6-b9e3-2b93c1632b4b",
   "metadata": {},
   "source": [
    "<hr style='height:2px;border:none;background-color:#00233C;'>\n",
    "<p style = 'font-size:18px;font-family:Arial;color:#00233c'><b>6. Create the SQL agent</b></p>    "
   ]
  },
  {
   "cell_type": "code",
   "execution_count": 54,
   "id": "b4d08d2c-58d4-4716-8579-bacd015ef73a",
   "metadata": {},
   "outputs": [],
   "source": [
    "agent=create_sql_agent(\n",
    "    llm=llm,\n",
    "    db=db,\n",
    "    agent_type=\"zero-shot-react-description\",\n",
    "    verbose=True,\n",
    "    handle_parsing_errors=True,\n",
    "    prompt=custom_prompt\n",
    ")"
   ]
  },
  {
   "cell_type": "markdown",
   "id": "485834aa-52d9-4f0c-88b0-85ac63c40789",
   "metadata": {},
   "source": [
    "<hr style='height:2px;border:none;background-color:#00233C;'>\n",
    "<b style = 'font-size:20px;font-family:Arial;color:#00233c'>7. Set optional observability with LangSmith</b>\n",
    "<p style=\"font-size: 16px; font-family: Arial; color: #00233C;\">\n",
    "    We add optional additional observability with LangSmith. You can create a <a href=\"https://docs.smith.langchain.com/#2-create-an-api-key\"> LangSmith free account with limited traces here.</a>\n",
    "</p>\n",
    "\n",
    "<p style=\"font-size: 16px; font-family: Arial; color: #00233C;\">\n",
    "     To enhance observability in our application, we can configure environment variables for LangSmith. Once you install the LangSmith dependency, all you need to do is generate a LangSmith API key and set up the following environment variables to start monitoring your applications. Uncomment the LangSmith variables if you want to use the LangSmith tracing functionalities to log and view executions of your LLM application. \n",
    "</p>"
   ]
  },
  {
   "cell_type": "code",
   "execution_count": 55,
   "id": "371912a9-a72b-4026-9920-a4ce9bb00190",
   "metadata": {},
   "outputs": [],
   "source": [
    "os.environ[\"LANGCHAIN_API_KEY\"] = getpass.getpass() \n",
    "os.environ[\"LANGCHAIN_TRACING_V2\"] = \"true\"\n",
    "os.environ[\"LANGCHAIN_PROJECT\"] = \"text-to-teradata-sql-gemini\"\n",
    "os.environ[\"LANGCHAIN_ENDPOINT\"] = \"https://api.smith.langchain.com\""
   ]
  },
  {
   "cell_type": "markdown",
   "id": "637fff1a-7fe7-49f0-9877-54e9d96ed1ca",
   "metadata": {},
   "source": [
    "<hr style='height:1px;border:none;background-color:#00233C;'>\n",
    "\n",
    "<p style = 'font-size:18px;font-family:Arial;color:#00233c'><b>8. Invoke the SQL Agent to explore the data</b></p>\n",
    "\n",
    "<p style = 'font-size:16px;font-family:Arial;color:#00233C'>Here are some sample questions that you can try out:</p>\n",
    "\n",
    "<ol style = 'font-size:16px;font-family:Arial;color:#00233C'>\n",
    "    <li>What is the average income for Phoenix?</li>\n",
    "    <li>Which city has the highest average income?</li>\n",
    "    <li>What is the average age of married people?</li>\n",
    "    <li>Which profession has the most married people in Phoenix?</li>\n",
    "    <li>What is the month with the lowest sales?</li>\n",
    "    <li>What is the month with the highest number of marketing engagements?</li>\n",
    "    <li>What is the payment method distribution?</li>\n",
    "    <li>What is the average number of days between a customer's last contact and their next purchase?</li>\n",
    "    <li>What is the relationship between marital status and purchase frequency?</li>\n",
    "    <li>What is the most effective communication method for reaching customers who have not purchased from our company in the past 6 months?</li>\n",
    "</ol>"
   ]
  },
  {
   "cell_type": "code",
   "execution_count": 62,
   "id": "377e80d3-041a-47d8-94fe-74881d6b14fc",
   "metadata": {},
   "outputs": [],
   "source": [
    "try:\n",
    "    question = input(\"\\nEnter your natural language query: \")\n",
    "    response = agent.invoke(question)\n",
    "    if isinstance(response, dict) and 'output' in response:\n",
    "        answer = response['output']\n",
    "    else:\n",
    "        answer = \"No valid response received.\"\n",
    "    print(f\"Query: {question}\\nResponse: {answer}\")\n",
    "except Exception as e:\n",
    "    print(f\"An error occurred: {e}\")\n"
   ]
  },
  {
   "cell_type": "markdown",
   "id": "a9f5246c",
   "metadata": {},
   "source": [
    "<hr style='height:2px;border:none;background-color:#00233C;'>\n",
    "<b style = 'font-size:20px;font-family:Arial;color:#00233c'>9. Cleanup</b>\n",
    "<p style = 'font-size:18px;font-family:Arial;color:#00233c'><b>Work Tables</b></p>\n",
    "<p style = 'font-size:16px;font-family:Arial;color:#00233C'>Cleanup work tables to prevent errors next time.</p>"
   ]
  },
  {
   "cell_type": "code",
   "execution_count": null,
   "id": "ccbec4df-65b3-4d1b-86c0-7e416208c80e",
   "metadata": {},
   "outputs": [],
   "source": [
    "execute_sql(\"\"\"Drop table retail_marketing\"\"\")"
   ]
  }
 ],
 "metadata": {
  "kernelspec": {
   "display_name": "Python 3 (ipykernel)",
   "language": "python",
   "name": "python3"
  },
  "language_info": {
   "codemirror_mode": {
    "name": "ipython",
    "version": 3
   },
   "file_extension": ".py",
   "mimetype": "text/x-python",
   "name": "python",
   "nbconvert_exporter": "python",
   "pygments_lexer": "ipython3",
   "version": "3.9.10"
  }
 },
 "nbformat": 4,
 "nbformat_minor": 5
}
