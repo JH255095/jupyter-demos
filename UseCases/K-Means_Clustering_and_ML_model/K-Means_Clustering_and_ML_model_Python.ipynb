{
 "cells": [
  {
   "cell_type": "markdown",
   "id": "221b5b2a",
   "metadata": {},
   "source": [
    "<header>\n",
    "   <p  style='font-size:36px;font-family:Arial; color:#F0F0F0; background-color: #00233c; padding-left: 20pt; padding-top: 20pt;padding-bottom: 10pt; padding-right: 20pt;'>\n",
    "       Customer Segmentation with K-means Clustering and Data Preparation Piplelines\n",
    "  <br>\n",
    "       <img id=\"teradata-logo\" src=\"https://storage.googleapis.com/clearscape_analytics_demo_data/DEMO_Logo/teradata.svg\" alt=\"Teradata\" style=\"width: 125px; height: auto; margin-top: 20pt;\">\n",
    "    </p>\n",
    "</header>"
   ]
  },
  {
   "cell_type": "markdown",
   "id": "db3c9b69-2ca6-4e86-84ec-31d4af2b7432",
   "metadata": {},
   "source": [
    "<p style = 'font-size:20px;font-family:Arial'><b>Introduction</b></p>"
   ]
  },
  {
   "cell_type": "markdown",
   "id": "7f6fb360",
   "metadata": {},
   "source": [
    "<b style = 'font-size:20px;font-family:Arial;'>Leverage native Vantage processing for efficient and highly scalable data preparation, model training, and evaluation workflows</b>\n",
    "\n",
    "<p style = 'font-size:16px;font-family:Arial'>K-means clustering is one of the most popular <b>unsupervised</b> machine learning algorithms.  Essentially, the algorithm seeks to group similar data points together by minimizing the average (\"means\" in K-means) distance for all data points from each cluster's center (centroid).</p>\n",
    "\n",
    "<table style = 'width:100%;table-layout:fixed;'>\n",
    "    <tr>\n",
    "        <td style = 'vertical-align:top' width = '50%'>\n",
    "            <ol style = 'font-size:16px;font-family:Arial'>\n",
    "                <li>Define the number of clusters (k)</li>\n",
    "                <br>\n",
    "                <li>The algorithm chooses random points as centroids</li>\n",
    "                <br>\n",
    "                <li>Each iteration attempts to optimize the centroid locations</li>\n",
    "                <br>\n",
    "                <li>Iterations end once the distances have stabilized or the max iteration count is reached</li>\n",
    "            </ol>\n",
    "        </td>\n",
    "        <td><img src = 'images/K-means_convergence.gif' width = '250'></td>\n",
    "    </tr>\n",
    "</table>\n",
    "\n",
    "<p style = 'font-size:16px;font-family:Arial'>One limitation of this algorithm is that it only accepts numeric data as feature input (categorical clustering can be performed using K-modes algorithm).  Typically, data engineers or data scientists will perform multiple <b>serial</b> steps to prepare a numeric-only data set that can be passed to the K-means algorithm.</p>\n",
    "\n",
    "<p style = 'font-size:16px;font-family:Arial'>Vantage provides native \"Fit and Transform\" functions to assist in data preparation and transformation at scale.  To aid in efficiency and operationalization, Vantage provides a bulk <b>Column Transformer</b> function which can take multiple transformation directives at the same time, and act on the whole data set at once.  This allows for both process and code simplification, allowing more streamlined and robust operational deployment.</p> \n",
    "\n",
    "<img src = 'Flow_Diagram_KMeans.png' width = 100%>\n"
   ]
  },
  {
   "cell_type": "markdown",
   "id": "4e9acd56",
   "metadata": {},
   "source": [
    "<p style = 'font-size:16px;font-family:Arial'>The data for this demonstration is based on online purchase history data set, which can be found <a href = 'https://www.kaggle.com/code/hellbuoy/online-retail-k-means-hierarchical-clustering/data'>here</a>.  The goal is to segment the customers by purchase volume and value.  Steps are as follow:</p>\n",
    "\n",
    "<table style = 'width:100%;table-layout:fixed;'>\n",
    "    <tr>\n",
    "        <td style = 'vertical-align:top' width = '50%'>\n",
    "            <ol style = 'font-size:16px;font-family:Arial'>\n",
    "                <li>Analyze the raw data, split a testing set</li>\n",
    "                <br>\n",
    "                <li>Engineer numeric features</li>\n",
    "                <br>\n",
    "                <li>Build the K-means model</li>\n",
    "                <br>\n",
    "                <li>Apply in-line transformation to the testing set</li>\n",
    "                <br>\n",
    "                <li>Make Predictions and evaluate model accuracy</li>\n",
    "            </ol>\n",
    "        </td>\n",
    "        <td><img src = 'images/clustering_img.png' width = '250'></td>\n",
    "    </tr>\n",
    "</table>"
   ]
  },
  {
   "cell_type": "code",
   "execution_count": null,
   "id": "2e07d33b-80e4-44f2-9b46-8d2f0703e0d6",
   "metadata": {},
   "outputs": [],
   "source": [
    "# getpass to ask password to user and prevent storing it plain in the Notebook\n",
    "import getpass\n",
    "import pandas as pd\n",
    "\n",
    "# import all Teradataml functions and supporting libraries\n",
    "from teradataml import *\n",
    "\n",
    "display.max_rows = 5"
   ]
  },
  {
   "cell_type": "markdown",
   "id": "aba72fbc-1d3d-4bed-a5f6-5a721972bc73",
   "metadata": {},
   "source": [
    "<hr style=\"height:2px;border:none;\">\n",
    "<p style = 'font-size:20px;font-family:Arial'><b>1. Connect to Vantage</b></p>\n",
    "<p style = 'font-size:16px;font-family:Arial'>You will be prompted to provide the password. Enter your password, press Enter, then use down arrow to go to next cell.</p>"
   ]
  },
  {
   "cell_type": "code",
   "execution_count": null,
   "id": "e19a97de-4dce-4711-97e9-6a1d7c1d877d",
   "metadata": {},
   "outputs": [],
   "source": [
    "%run -i ../../UseCases/startup.ipynb\n",
    "eng = create_context(host = 'host.docker.internal', username = 'demo_user', password = password)\n",
    "print(eng)"
   ]
  },
  {
   "cell_type": "markdown",
   "id": "6920942e-8c65-48e9-ac0e-7963a14bda72",
   "metadata": {},
   "source": [
    "<p style = 'font-size:16px;font-family:Arial'>Setup for execution of notebook. Begin running steps with Shift + Enter keys.</p>"
   ]
  },
  {
   "cell_type": "code",
   "execution_count": null,
   "id": "424ff7ce-3eed-4736-a8d1-32bbda29a1ac",
   "metadata": {},
   "outputs": [],
   "source": [
    "%%capture\n",
    "execute_sql('''SET query_band='DEMO=K-Means_Clustering_and_ML_model_Python.ipynb;' UPDATE FOR SESSION; ''')"
   ]
  },
  {
   "cell_type": "markdown",
   "id": "0cbb88de-754c-4963-b9ad-4dd7a6669b11",
   "metadata": {},
   "source": [
    "<p style = 'font-size:18px;font-family:Arial'> <b>Getting Data for This Demo</b></p>\n",
    "<p style = 'font-size:16px;font-family:Arial'>We have provided data for this demo on cloud storage. You can either run the demo using foreign tables to access the data without any storage on your environment or download the data to local storage, which may yield faster execution. Still, there could be considerations of available storage. Two statements are in the following cell, and one is commented out. You may switch which mode you choose by changing the comment string.</p>"
   ]
  },
  {
   "cell_type": "code",
   "execution_count": null,
   "id": "4ab0ff68-5c8e-4b2f-b9f7-65d02dc44c5a",
   "metadata": {},
   "outputs": [],
   "source": [
    "%run -i ../run_procedure.py \"call get_data('DEMO_Retail_local');\" # Takes about 2 minutes\n",
    "#%run -i ../run_procedure.py \"call get_data('DEMO_Retail_cloud');\""
   ]
  },
  {
   "cell_type": "markdown",
   "id": "ec3cda83-bf40-42af-a1f8-a6102935c8bc",
   "metadata": {},
   "source": [
    "<hr style=\"height:1px;border:none;\">\n",
    "<p style = 'font-size:20px;font-family:Arial'><b>Create a Teradata DataFrame (virtual DataFrame)</b>\n",
    "<p style = 'font-size:16px;font-family:Arial'>For this demo, data is already resident in Object Storage which we are accessing via ReadNOS, create a reference to the table, and sample the contents using the get_data procedure used above.  Data could just as easily reside in permanent tables, another RDBMS, or another Vantage system.</p>"
   ]
  },
  {
   "cell_type": "code",
   "execution_count": null,
   "id": "affb5a16-aaa0-45e7-8069-3619291bd1c5",
   "metadata": {},
   "outputs": [],
   "source": [
    "tdf = DataFrame(in_schema('DEMO_Retail', 'UK_Retail_Data'))"
   ]
  },
  {
   "cell_type": "markdown",
   "id": "83435d46",
   "metadata": {},
   "source": [
    "<hr style=\"height:2px;border:none;\">\n",
    "<p style = 'font-size:20px;font-family:Arial'><b>2. Data Preparation</b></p>\n",
    "<p style = 'font-size:16px;font-family:Arial'>Here, we will inspect the original data set, and perform various preparation tasks.</p>\n",
    "\n",
    "<ol style = 'font-size:16px;font-family:Arial'>\n",
    "    <li>Inspect the rows of the table</li>\n",
    "    <li>Inspect the column metadata using <a href = 'https://docs.teradata.com/search/all?query=Python+ColumnSummary&content-lang=en-US'>ColumnSummary</a></li>\n",
    "    <li>Split off a testing data set to be used in evaluation</li>\n",
    "    </ol>"
   ]
  },
  {
   "cell_type": "markdown",
   "id": "4e586da8-8c11-4730-9111-d379e565f665",
   "metadata": {},
   "source": [
    "<hr style=\"height:1px;border:none;\">"
   ]
  },
  {
   "cell_type": "markdown",
   "id": "dd822590",
   "metadata": {},
   "source": [
    "<p style = 'font-size:18px;font-family:Arial'><b>2.1 View Column information</b></p>\n",
    "\n",
    "<p style = 'font-size:16px;font-family:Arial'><a href = 'https://docs.teradata.com/search/all?query=Python+ColumnSummary&content-lang=en-US'>ColumnSummary</a> provides more details on column values and ranges. Note that the resulting DataFrame is a property of the function object. </p>"
   ]
  },
  {
   "cell_type": "code",
   "execution_count": null,
   "id": "0f3f56c4",
   "metadata": {},
   "outputs": [],
   "source": [
    "obj = ColumnSummary(data=tdf, target_columns=\"0:7\")\n",
    "\n",
    "# Note: The resulting DataFrame is accessed as a property of the function object.\n",
    "obj.result"
   ]
  },
  {
   "cell_type": "markdown",
   "id": "6923aa5c-289f-488d-9d59-c2d9fac0fb38",
   "metadata": {},
   "source": [
    "<hr style=\"height:1px;border:none;\">"
   ]
  },
  {
   "cell_type": "markdown",
   "id": "805e9e23",
   "metadata": {},
   "source": [
    "<p style = 'font-size:18px;font-family:Arial'><b>2.2 Create a Testing data set</b></p>\n",
    "\n",
    "<p style = 'font-size:16px;font-family:Arial'>From our sample data we are selecting some \"Customer ID\" values for testing later.</p>"
   ]
  },
  {
   "cell_type": "code",
   "execution_count": null,
   "id": "e41dc488",
   "metadata": {},
   "outputs": [],
   "source": [
    "UK_Retail_Test_V = tdf.loc[tdf.CustomerID.isin(['17307', '12503', '18268', '12908', '13693'])]\n",
    "UK_Retail_Test_V"
   ]
  },
  {
   "cell_type": "markdown",
   "id": "40f1a089",
   "metadata": {},
   "source": [
    "<hr style=\"height:2px;border:none;\">\n",
    "<p style = 'font-size:20px;font-family:Arial'><b>3. Feature Engineering</b></p>\n",
    "\n",
    "<p style = 'font-size:16px;font-family:Arial'>Vantage provides many inDb feature engineering functions, in this section we will see how to prepare the data set for model training.  We will use standard SQL and various \"Fit\" functions to create input for the <a href = 'https://docs.teradata.com/search/all?query=Python+ColumnTransformer&content-lang=en-US'>ColumnTransformer</a> function to take as input in order to execute a bulk transformation.</p>\n",
    "\n",
    "<ol style = 'font-size:16px;font-family:Arial'>\n",
    "    <li>Create a per-customer grouping of data</li>\n",
    "    <li>Create Fit Tables\n",
    "        <ul><li>Remove Outliers</li>\n",
    "            <li>Impute Missing Values</li>\n",
    "            <li>Create New Numeric Features</li>\n",
    "            <li>Rescale the Data Set</li>\n",
    "        </ul></li>\n",
    "    <li>Call the final Transformation function</li>\n",
    "    </ol>"
   ]
  },
  {
   "cell_type": "markdown",
   "id": "da99ac70-04d1-4587-a888-930eb035e733",
   "metadata": {},
   "source": [
    "<hr style=\"height:1px;border:none;\">"
   ]
  },
  {
   "cell_type": "markdown",
   "id": "555dfd13",
   "metadata": {},
   "source": [
    "<p style = 'font-size:18px;font-family:Arial'><b>3.1 Create a per-customer table</b></p>\n",
    "\n",
    "<p style = 'font-size:16px;font-family:Arial'>First let's isolate the training data without the holdouts.</p>"
   ]
  },
  {
   "cell_type": "markdown",
   "id": "06c2c6aa-30d7-4ecc-950b-ef6640b0fec8",
   "metadata": {},
   "source": [
    "<p style = 'font-size:16px;font-family:Arial'>Simple GROUP BY, exclude the testing IDs.<br> Note there are 4367 unique customers in this training set.</p>"
   ]
  },
  {
   "cell_type": "code",
   "execution_count": null,
   "id": "5c8331e5-d4cf-4abc-82cf-792497029804",
   "metadata": {},
   "outputs": [],
   "source": [
    "Customer_ID_Group_V = tdf.loc[~tdf.CustomerID.isin(['17307', '12503', '18268', '12908', '13693'])] \\\n",
    "    .select([\"CustomerID\",\"Quantity\",\"UnitPrice\",\"StockCode\"]) \\\n",
    "    .groupby(\"CustomerID\") \\\n",
    "    .agg({'Quantity':['sum'],'UnitPrice':['sum'],'StockCode':['unique']})\n",
    "\n",
    "Customer_ID_Group_V"
   ]
  },
  {
   "cell_type": "markdown",
   "id": "f75d8540-303c-4a3a-bd69-d70920209ce0",
   "metadata": {},
   "source": [
    "<p style = 'font-size:16px;font-family:Arial'>Rename columns using DataFrame.assign()</p>"
   ]
  },
  {
   "cell_type": "code",
   "execution_count": null,
   "id": "e6176431-12a0-4e6a-bfa1-021d27e6181d",
   "metadata": {},
   "outputs": [],
   "source": [
    "Customer_ID_Group_V = Customer_ID_Group_V.assign(\n",
    "                      CustomerID=Customer_ID_Group_V.CustomerID,  \n",
    "                      TotalQuantity=Customer_ID_Group_V.sum_Quantity, \n",
    "                      TotalPrice=Customer_ID_Group_V.sum_UnitPrice, \n",
    "                      TotalItems=Customer_ID_Group_V.unique_StockCode, \n",
    "                      drop_columns=True)\n",
    "\n",
    "Customer_ID_Group_V"
   ]
  },
  {
   "cell_type": "code",
   "execution_count": null,
   "id": "600ded66",
   "metadata": {},
   "outputs": [],
   "source": [
    "Customer_ID_Group_V.count()"
   ]
  },
  {
   "cell_type": "markdown",
   "id": "f15fa44b-b8d6-4e86-b264-4c3944c04377",
   "metadata": {},
   "source": [
    "<hr style=\"height:1px;border:none;\">"
   ]
  },
  {
   "cell_type": "markdown",
   "id": "dba90c65",
   "metadata": {},
   "source": [
    "<p style = 'font-size:18px;font-family:Arial'><b>3.2 Create Fit Tables</b></p>\n",
    "\n",
    "<p style = 'font-size:16px;font-family:Arial'>Vantage <a href = 'https://docs.teradata.com/search/all?query=Python+Function+Reference+Feature+Engineering+Transform+Functions&content-lang=en-US'>Feature Engineering Transform Functions</a> Use a \"Fit and Transform\" approach to make processing more modular and efficient.  \"Fit tables\" can be used as input to either individual Transform functions, or passed to a single <a href = 'https://docs.teradata.com/search/all?query=Python+ColumnTransformer&content-lang=en-US'>ColumnTransformer</a> function.</p>\n",
    "\n",
    "<table style = 'width:100%;table-layout:fixed;'>\n",
    "    <tr>\n",
    "        <td style = 'vertical-align:top' width = '50%'>\n",
    "<ul style = 'font-size:16px;font-family:Arial'>\n",
    "    <li>Fit outlier removal using <a href = 'https://docs.teradata.com/search/all?query=Python+OutlierFilterFit&content-lang=en-US'>OutlierFilterFit</a></li>\n",
    "    <li>Fit a simple imputer to replace missing values using <a href = 'https://docs.teradata.com/search/all?query=Python+SimpleImputeFit&content-lang=en-US'>SimpleImputeFit</a></li>\n",
    "    <li>Fit column calculations to create new features using <a href = 'https://docs.teradata.com/search/all?query=Python+NonLinearCombineFit&content-lang=en-US'>NonLinearCombineFit</a></li>\n",
    "    <li>Call <a href = 'https://docs.teradata.com/search/all?query=ColumnTransformer&content-lang=en-US'>ColumnTransformer</a> to execute the transformations (to allow for Scaling)</li>\n",
    "    <li>Rescale the data using <a href = 'https://docs.teradata.com/search/all?query=Python+ScaleFit&content-lang=en-US'>ScaleFit/Transform</a></li>\n",
    "            </ul></td>\n",
    "        <td><img src = 'images/fit_transform.png' width = '300' style='background-color:white'></td>\n",
    "    </tr>\n",
    "    </table>"
   ]
  },
  {
   "cell_type": "markdown",
   "id": "882d613e-9565-45cf-81fb-f528bd9d4c38",
   "metadata": {},
   "source": [
    "<p style = 'font-size:16px;font-family:Arial'><b>OutlierFilterFit</b> function calculates the lower_percentile, upper_percentile, count of rows and median for the specified input table columns. The calculated values for each column help the\n",
    "    <b>OutlierFilterTransform</b> function detect outliers in the input table."
   ]
  },
  {
   "cell_type": "code",
   "execution_count": null,
   "id": "4eb93c8c-f84b-4e10-a5da-32a431f09f97",
   "metadata": {},
   "outputs": [],
   "source": [
    "# Remove Outliers\n",
    "# Trim below 3rd, and above 97th percentile\n",
    "\n",
    "outlierFit_CS = OutlierFilterFit(data=Customer_ID_Group_V,\n",
    "                               target_columns=['TotalQuantity','TotalPrice'],\n",
    "                               lower_percentile=0.03,\n",
    "                               upper_percentile=0.97,\n",
    "                               outlier_method=\"PERCENTILE\",\n",
    "                               replacement_value=\"MEDIAN\",\n",
    "                               percentile_method=\"PERCENTILECONT\")\n",
    " \n",
    "# Print the result DataFrame.\n",
    "outlierFit_CS.result\n",
    "    "
   ]
  },
  {
   "cell_type": "markdown",
   "id": "ed1d1825-83bd-4b92-9d53-87cfea6bf046",
   "metadata": {},
   "source": [
    "<p style = 'font-size:16px;font-family:Arial'><b>SimpleImputeFit </b>will output a table with the values that will be used to substitute the missing values.<br><b>SimpleImputeTransform</b> will return the input data set with the missing values filled in.</p>"
   ]
  },
  {
   "cell_type": "code",
   "execution_count": null,
   "id": "83d09e2f-898a-4d2c-b1cf-79daa8cf80df",
   "metadata": {},
   "outputs": [],
   "source": [
    "# Impute Missing Values\n",
    "# Replace any missing CustomerID with a specific value\n",
    "\n",
    "ImputeFit_CS = SimpleImputeFit(data=Customer_ID_Group_V,\n",
    "                              literals_columns=\"CustomerID\",\n",
    "                              literals=\"19000\")\n",
    "\n",
    "# Note that this function uses \"output\" and not \"result\"\n",
    "ImputeFit_CS.output"
   ]
  },
  {
   "cell_type": "markdown",
   "id": "548d4822-3e13-4c50-afac-995aaad2fa9d",
   "metadata": {},
   "source": [
    "<p style = 'font-size:16px;font-family:Arial'><b>NonLinearCombineFit</b> function returns the target columns and a specified formula which uses the non-linear combination of existing features.\n"
   ]
  },
  {
   "cell_type": "code",
   "execution_count": null,
   "id": "b585b0bd-6db2-41b0-a638-ecc1899b0c70",
   "metadata": {},
   "outputs": [],
   "source": [
    "# Create a new column by multiplying quantity and price\n",
    "\n",
    "NonLinearCombineFit_CS_TotalSales = NonLinearCombineFit(\n",
    "                                    data = Customer_ID_Group_V,\n",
    "                                    target_columns = [\"TotalQuantity\", \"TotalPrice\"],\n",
    "                                    formula = \"Y = X1*X0\",\n",
    "                                    result_column = \"TotalSales\")\n",
    "    \n",
    "# Print the result DataFrames.\n",
    "NonLinearCombineFit_CS_TotalSales.result    "
   ]
  },
  {
   "cell_type": "code",
   "execution_count": null,
   "id": "1b08a0e4",
   "metadata": {},
   "outputs": [],
   "source": [
    "# Create another new column by diving the total sales by the number of unique items\n",
    "NonLinearCombineFit_CS_SalesPerItem = NonLinearCombineFit(\n",
    "                                      data = Customer_ID_Group_V,\n",
    "                                      target_columns = [\"TotalQuantity\",\"TotalPrice\",\"TotalItems\"],\n",
    "                                      formula = \"Y = (X0*X1)/X2\",\n",
    "                                      result_column = \"SalesPerItem\")\n",
    "\n",
    "NonLinearCombineFit_CS_SalesPerItem.result"
   ]
  },
  {
   "cell_type": "markdown",
   "id": "5dc7b2b7-c4ce-47bd-9569-675e553f9757",
   "metadata": {},
   "source": [
    "<p style = 'font-size:16px;font-family:Arial'><b>The ColumnTransformer</b> function transforms the entire dataset in a single operation. You only need to provide the FIT tables to the function, and the function runs all transformations that you require in a\n",
    "single operation. Running all the it table transformations together in one-go gives approx. 30% performance improvement over running each transformation sequentially.</p>"
   ]
  },
  {
   "cell_type": "code",
   "execution_count": null,
   "id": "5ddf01fb-b734-4e6f-9ab0-a3a359596e39",
   "metadata": {},
   "outputs": [],
   "source": [
    "# Execute ColumnTransformer to build the data set\n",
    "\n",
    "Transformed_Customer_ID_Group_VT = ColumnTransformer(\n",
    "                                   input_data=Customer_ID_Group_V,\n",
    "                                   outlierfilter_fit_data = outlierFit_CS.result,\n",
    "                                   simpleimpute_fit_data = ImputeFit_CS.output,\n",
    "                                   nonlinearcombine_fit_data=NonLinearCombineFit_CS_TotalSales.result,\n",
    "                                   nonlinearcombine_fit_data1=NonLinearCombineFit_CS_SalesPerItem.result\n",
    "                                   )\n",
    "\n",
    "Transformed_Customer_ID_Group_VT.result"
   ]
  },
  {
   "cell_type": "markdown",
   "id": "2f839c04-8146-4d1b-9c4a-7ecde400d9d5",
   "metadata": {},
   "source": [
    "<p style = 'font-size:16px;font-family:Arial'><b>ScaleFit and ScaleTransform </b>scales specified input\n",
    "table columns i.e perform the specific scale methods like standard deviation, mean etc to the input columns </p> "
   ]
  },
  {
   "cell_type": "code",
   "execution_count": null,
   "id": "ef7ca038-1dc6-4433-800d-fbc8864210f3",
   "metadata": {},
   "outputs": [],
   "source": [
    "# ScaleFit/Transform to rescale the data\n",
    "ScaleFit_CS = ScaleFit(data=Transformed_Customer_ID_Group_VT.result,\n",
    "                       target_columns=[\"TotalQuantity\",\"TotalItems\",\"TotalPrice\",\"TotalSales\",\"SalesPerItem\"],\n",
    "                       scale_method=\"range\")\n",
    "\n",
    "ScaleFit_CS.output"
   ]
  },
  {
   "cell_type": "code",
   "execution_count": null,
   "id": "9d527164-6711-4403-98a2-308c76f8b474",
   "metadata": {},
   "outputs": [],
   "source": [
    "Scaled_Transformed_Customer_ID_Group_VT = ScaleTransform(\n",
    "                                          data=Transformed_Customer_ID_Group_VT.result,\n",
    "                                          object=ScaleFit_CS.output,\n",
    "                                          accumulate=\"CustomerID\")"
   ]
  },
  {
   "cell_type": "markdown",
   "id": "1600baf7-be81-4e2b-9a7a-87a7677f8f19",
   "metadata": {},
   "source": [
    "<p style = 'font-size:16px;font-family:Arial'>Let us look at the final values which we will now input to the model. </p> "
   ]
  },
  {
   "cell_type": "code",
   "execution_count": null,
   "id": "d9d2acef-faab-47e5-ac09-64df7351004b",
   "metadata": {},
   "outputs": [],
   "source": [
    "# Result DataFrame.\n",
    "Scaled_Transformed_Customer_ID_Group_VT.result.head(5)"
   ]
  },
  {
   "cell_type": "markdown",
   "id": "1e4d43dc-d5a4-47c1-adae-78754f6008c2",
   "metadata": {},
   "source": [
    "<hr style=\"height:2px;border:none;\">"
   ]
  },
  {
   "cell_type": "markdown",
   "id": "1b5a61ce",
   "metadata": {
    "tags": []
   },
   "source": [
    "<p style = 'font-size:20px;font-family:Arial'><b>4. Build the K-means Model</b></p>\n",
    "\n",
    "<p style = 'font-size:16px;font-family:Arial'>As discussed above, the K-means algorithm takes a number of clusters \"k\", chooses a random starting point for each centroid, and iterates until a hard limit, or an optimum value is reached.</p>\n",
    "\n",
    "<p style = 'font-size:16px;font-family:Arial'><b>Finding an Ideal value for K</b></p>\n",
    "<table style = 'width:100%;table-layout:fixed;'>\n",
    "    <tr>\n",
    "        <td style = 'vertical-align:top' width = '50%'>\n",
    "<p style = 'font-size:16px;font-family:Arial'>The example below uses a value of 5 for the number of clusters to build the model against.  Typically, data scientists will build the model using various values for \"k\", and plot the \"WCSS\" (Within Cluster Sum-of-Squares) value on a series of each value chosen for k.  The \"elbow\" point (where the slope changes) is usually a good value for k.  <a href = 'https://docs.teradata.com/search/all?query=Python+KMeans&content-lang=en-US'>KMeans</a> function will return this value as \"TotalWithinSS : ###\" as a row in the \"td_modelinfo_kmeans\" column.</p></td>\n",
    "        <td><img src = 'images/WCSS_elbow.png' width = '300'></td>\n",
    "    </tr>\n",
    "    </table>\n",
    "\n",
    "<p style = 'font-size:16px;font-family:Arial'><b>Other Function Parameters Include (but are not limited to)</b></p>\n",
    "<ul style = 'font-size:16px;font-family:Arial'>\n",
    "    <li>Input Table</li>\n",
    "    <li>StopThreshold - The algorithm converges if the distance between the centroids from the previous iteration and the current iteration is less than the specified value.</li>\n",
    "    <li>MaxIterNum</li>Specify the maximum number of iterations for the K-means algorithm. The algorithm stops after performing the specified number of iterations even if the convergence criterion is not met.\n",
    "    </ul>"
   ]
  },
  {
   "cell_type": "code",
   "execution_count": null,
   "id": "2913528c",
   "metadata": {},
   "outputs": [],
   "source": [
    "number_clusters = 5\n",
    "\n",
    "KMeans_Model = KMeans(id_column=\"CustomerID\",\n",
    "                      target_columns=[\"TotalQuantity\",\"TotalItems\",\"TotalPrice\",\"TotalSales\",\"SalesPerItem\"],\n",
    "                      data=Scaled_Transformed_Customer_ID_Group_VT.result,\n",
    "                      threshold=0.0395,\n",
    "                      num_clusters=number_clusters,\n",
    "                      #seed=0,\n",
    "                      iter_max=500\n",
    "                      #, output_cluster_assignment=True\n",
    "                     )\n",
    "\n",
    "KMeans_Model.result"
   ]
  },
  {
   "cell_type": "markdown",
   "id": "e21eab9f-69af-427a-a523-c6aca8cd187f",
   "metadata": {},
   "source": [
    "<p style = 'font-size:16px;font-family:Arial'>From the generated model we can see how many ids are there in each cluster, what is the size of each cluster, number of iterations it took for model to converge etc.\n",
    "    "
   ]
  },
  {
   "cell_type": "code",
   "execution_count": null,
   "id": "f60ce225-1d8b-4c8b-ab0a-1c8c0aa7e147",
   "metadata": {},
   "outputs": [],
   "source": [
    "top_clusters = KMeans_Model.result[[\"td_clusterid_kmeans\",\"td_size_kmeans\"]].to_pandas().head()\n",
    "top_clusters"
   ]
  },
  {
   "cell_type": "markdown",
   "id": "4440e770-92cc-4dc9-88e4-f8c25fdcf266",
   "metadata": {},
   "source": [
    "You can use the <a href = 'https://docs.teradata.com/r/Enterprise_IntelliFlex_VMware/Teradata-Package-for-Python-User-Guide/Plotting-in-teradataml'>Plot</a> function to create the image within the database."
   ]
  },
  {
   "cell_type": "code",
   "execution_count": null,
   "id": "28eeb648-8ec5-4907-ac92-9a5064027781",
   "metadata": {},
   "outputs": [],
   "source": [
    "import matplotlib.pyplot as plt\n",
    "import numpy as np\n",
    "\n",
    "top_clusters_plot = fig, ax = plt.subplots()\n",
    "\n",
    "ax.bar(top_clusters.td_clusterid_kmeans, top_clusters.td_size_kmeans, width=1, edgecolor=\"white\", linewidth=0.7)\n",
    "\n",
    "ax.set(xlabel=\"cluster ids\",\n",
    "       ylabel=\"count of ids\",\n",
    "      title=\"Number of IDs per Cluster\")\n",
    "\n",
    "plt.show()"
   ]
  },
  {
   "cell_type": "code",
   "execution_count": null,
   "id": "a75d18be-a632-4eea-8389-7b84fa16dd03",
   "metadata": {},
   "outputs": [],
   "source": [
    "Scaled_Transformed_Customer_ID_Group_VT.result"
   ]
  },
  {
   "cell_type": "markdown",
   "id": "edc5f4a7-b685-4044-8802-a208abe21f81",
   "metadata": {},
   "source": [
    "<p style = 'font-size:16px;font-family:Arial'>The above barchart shows the number of ids in each cluster where cluster_id is 0-4 generated by the Kmeans function.<br><br>Let us now visualize how the clusters look like. We have used five columns to create clusters namely 'TotalQuantity','TotalPrice','TotalItems','TotalSales','SalesPerItem'.<br><br> For the visualization in 2d plane i.e with X and Y coordinates we will use two of these column values for our plots."
   ]
  },
  {
   "cell_type": "code",
   "execution_count": null,
   "id": "e2dc2050-d8ff-42c2-a455-feaf0cd0e06a",
   "metadata": {},
   "outputs": [],
   "source": [
    "KMeansPredict_out = KMeansPredict(\n",
    "    object=KMeans_Model.result,\n",
    "    data=Scaled_Transformed_Customer_ID_Group_VT.result,\n",
    "    output_distance=True,\n",
    "    #accumulate=[\"TotalQuantity\",\"TotalItems\",\"TotalPrice\",\"TotalSales\",\"SalesPerItem\"]\n",
    "    accumulate=\"1:5\"\n",
    ")\n",
    "\n",
    "KMeansPredict_out.result"
   ]
  },
  {
   "cell_type": "code",
   "execution_count": null,
   "id": "43101719-416b-4792-8d9c-fd226980b5cf",
   "metadata": {},
   "outputs": [],
   "source": [
    "KMeans_predicted = KMeansPredict_out.result.head(5).to_pandas()\n",
    "KMeans_predicted"
   ]
  },
  {
   "cell_type": "code",
   "execution_count": null,
   "id": "b5ceea3a-58e7-4da6-a4af-971990475d6e",
   "metadata": {},
   "outputs": [],
   "source": [
    "import matplotlib as mpl\n",
    "from matplotlib.markers import MarkerStyle"
   ]
  },
  {
   "cell_type": "code",
   "execution_count": null,
   "id": "7114e348-83f8-4e0e-9b13-9ffd517f70c8",
   "metadata": {},
   "outputs": [],
   "source": [
    "KMeansPredict_plot = fig, ax = plt.subplots()\n",
    "\n",
    "colors = [\"b\",\"g\",\"r\",\"c\",\"y\"]\n",
    "markers = [\"o\",\"*\",\"s\",\"P\",\"^\"]\n",
    "grouped = KMeans_predicted.td_clusterid_kmeans.unique()\n",
    "\n",
    "idcolor=dict()\n",
    "idmarker=dict()\n",
    "idtracker=list()\n",
    "\n",
    "for n, kmeansid in enumerate(grouped):\n",
    "    idcolor[kmeansid]=colors[n]\n",
    "    idmarker[kmeansid]=markers[n]\n",
    "    \n",
    "for n, kmeansid in enumerate(KMeans_predicted.td_clusterid_kmeans):     \n",
    "    ax.scatter(KMeans_predicted.TotalQuantity[n], \n",
    "               KMeans_predicted.TotalPrice[n], \n",
    "               color=idcolor[kmeansid],\n",
    "               marker=idmarker[kmeansid],\n",
    "               label=\"\" if kmeansid in idtracker else kmeansid,\n",
    "               s=50\n",
    "              )\n",
    "    idtracker.append(kmeansid)\n",
    "    \n",
    "ax.set(xlabel=\"TotalQuantity\",\n",
    "       ylabel=\"TotalPrice\",\n",
    "      title=\"TotalQuantity v. TotalPrice Cluster\")\n",
    "\n",
    "ax.legend(title=\"ClusterID\")\n",
    "plt.show()"
   ]
  },
  {
   "cell_type": "markdown",
   "id": "47575320-8a67-465c-85bd-c12d15e02131",
   "metadata": {},
   "source": [
    "<p style = 'font-size:16px;font-family:Arial'> In the above chart we have plotted TotalQuantity Vs TotalPrice to see how the clusters look like in the 2d plane where X axis is TotalQuantity and Y axis is TotalPrice. Note that this is only due to the limitation of visualization on being only in 2 dimensions where as the cluster creation is based on all 5 columns."
   ]
  },
  {
   "cell_type": "code",
   "execution_count": null,
   "id": "2f95d67a-cee2-4f38-b813-4a16cca9a8d4",
   "metadata": {},
   "outputs": [],
   "source": [
    "KMeansPredict_plot = fig, ax = plt.subplots()\n",
    "\n",
    "colors = [\"b\",\"g\",\"r\",\"c\",\"y\"]\n",
    "markers = [\"o\",\"*\",\"s\",\"P\",\"^\"]\n",
    "grouped = KMeans_predicted.td_clusterid_kmeans.unique()\n",
    "\n",
    "idcolor=dict()\n",
    "idmarker=dict()\n",
    "idtracker=list()\n",
    "\n",
    "for n, kmeansid in enumerate(grouped):\n",
    "    idcolor[kmeansid]=colors[n]\n",
    "    idmarker[kmeansid]=markers[n]\n",
    "    \n",
    "for n, kmeansid in enumerate(KMeans_predicted.td_clusterid_kmeans):     \n",
    "    ax.scatter(KMeans_predicted.TotalQuantity[n], \n",
    "               KMeans_predicted.TotalSales[n], \n",
    "               color=idcolor[kmeansid],\n",
    "               marker=idmarker[kmeansid],\n",
    "               label=\"\" if kmeansid in idtracker else kmeansid,\n",
    "               s=50\n",
    "              )\n",
    "    idtracker.append(kmeansid)\n",
    "    \n",
    "ax.set(xlabel=\"TotalQuantity\",\n",
    "       ylabel=\"TotalSales\",\n",
    "      title=\"TotalQuantity v. TotalSales Cluster\")\n",
    "\n",
    "ax.legend(title=\"ClusterID\")\n",
    "plt.show()"
   ]
  },
  {
   "cell_type": "markdown",
   "id": "f21a88b9-6209-4687-955e-07dc97952c13",
   "metadata": {},
   "source": [
    "<p style = 'font-size:16px;font-family:Arial'> In the above chart we have plotted TotalQuantity Vs TotalSales. See how the chart is different from the TotalQuantity Vs TotalPrice chart. You can change the values for x-axis and y-axis to see how the clusters with rest of the columns looks like."
   ]
  },
  {
   "cell_type": "markdown",
   "id": "8304ae16",
   "metadata": {},
   "source": [
    "<hr style=\"height:2px;border:none;\">\n",
    "<p style = 'font-size:20px;font-family:Arial'><b>5. Bulk Transformation</b></p>\n",
    "\n",
    "<p style = 'font-size:16px;font-family:Arial'>Here, the Fit tables created above will be passed to a single <a href = 'https://docs.teradata.com/search/all?query=Python+ColumnTransformer&content-lang=en-US'>ColumnTransformer</a> function.  This is similar to an operational approach, where a single query will prepare new or incoming data for immediate analysis.</p>\n",
    "\n",
    "<img src = 'images/column_transformer.png' width = '300' style='background-color:white'>"
   ]
  },
  {
   "cell_type": "markdown",
   "id": "6263275f-512c-4d85-9811-da98e40b7e71",
   "metadata": {},
   "source": [
    "<p style = 'font-size:16px;font-family:Arial'>Now let's review the test data.</p>"
   ]
  },
  {
   "cell_type": "code",
   "execution_count": null,
   "id": "7e6305f4-6488-4f8b-9eac-e059ef0aa86b",
   "metadata": {},
   "outputs": [],
   "source": [
    "UK_Retail_Test_V"
   ]
  },
  {
   "cell_type": "markdown",
   "id": "d90bfb32-7c78-4eeb-8721-a7c9c8e49a89",
   "metadata": {},
   "source": [
    "<p style = 'font-size:16px;font-family:Arial'>Again, we'll create the aggregated DataFrame for the test data.</p>"
   ]
  },
  {
   "cell_type": "code",
   "execution_count": null,
   "id": "7a7e11e9-793e-43c5-9b07-f5109b31baab",
   "metadata": {},
   "outputs": [],
   "source": [
    "UK_Retail_Test_Group_V = UK_Retail_Test_V \\\n",
    "    .select([\"CustomerID\",\"Quantity\",\"UnitPrice\",\"StockCode\"]) \\\n",
    "    .groupby(\"CustomerID\") \\\n",
    "    .agg({'Quantity':['sum'],'UnitPrice':['sum'],'StockCode':['unique']})\n",
    "\n",
    "UK_Retail_Test_Group_V"
   ]
  },
  {
   "cell_type": "markdown",
   "id": "a82b59f9-6507-4c98-b625-3c4c7ab1a48a",
   "metadata": {},
   "source": [
    "<p style = 'font-size:16px;font-family:Arial'>And then modify the names of the columns to match the training data set for the saved transforms. </p>"
   ]
  },
  {
   "cell_type": "code",
   "execution_count": null,
   "id": "d99acaf7-e27d-42aa-8743-c19cf6474ab6",
   "metadata": {},
   "outputs": [],
   "source": [
    "UK_Retail_Test_Group_V = UK_Retail_Test_Group_V.assign(\n",
    "                         CustomerID=UK_Retail_Test_Group_V.CustomerID,\n",
    "                         TotalQuantity=UK_Retail_Test_Group_V.sum_Quantity,\n",
    "                         TotalPrice=UK_Retail_Test_Group_V.sum_UnitPrice,\n",
    "                         TotalItems=UK_Retail_Test_Group_V.unique_StockCode,\n",
    "                         drop_columns=True)\n",
    "\n",
    "UK_Retail_Test_Group_V"
   ]
  },
  {
   "cell_type": "markdown",
   "id": "209634f0-f986-4723-855d-845c6d89aacf",
   "metadata": {},
   "source": [
    "<p style = 'font-size:16px;font-family:Arial'>And now all the transformations can be applied together into a single statement using the previously created transformation fit functions. Remember that these fit tables can be saved permanently and reused for batch or real-time scoring.</p>"
   ]
  },
  {
   "cell_type": "code",
   "execution_count": null,
   "id": "11a5d169-5e00-49e7-995e-fee0efe20288",
   "metadata": {},
   "outputs": [],
   "source": [
    "Scaled_Transformed_Test_Group_V = ColumnTransformer(\n",
    "                                  input_data=UK_Retail_Test_Group_V,\n",
    "                                  outlierfilter_fit_data = outlierFit_CS.result,\n",
    "                                  simpleimpute_fit_data = ImputeFit_CS.output,\n",
    "                                  nonlinearcombine_fit_data=NonLinearCombineFit_CS_TotalSales.result,\n",
    "                                  nonlinearcombine_fit_data1=NonLinearCombineFit_CS_SalesPerItem.result,\n",
    "                                  scale_fit_data=ScaleFit_CS.output)\n",
    "\n",
    "Scaled_Transformed_Test_Group_V.result.head(5)"
   ]
  },
  {
   "cell_type": "markdown",
   "id": "ddce515c",
   "metadata": {},
   "source": [
    "<hr style=\"height:2px;border:none;\">\n",
    "<p style = 'font-size:20px;font-family:Arial'><b>6. Predict and Evaluate</b></p>\n",
    "\n",
    "<p style = 'font-size:16px;font-family:Arial'>Finally, we run the model against new (in this case testing) data using <a href = 'https://docs.teradata.com/search/all?query=Python+KMeansPredict&content-lang=en-US'>KMeansPredict</a>.  The preparation step has been completed in a single query above.  Additionally, we will use an evaluation function <a href = 'https://docs.teradata.com/search/all?query=Python+Silhouette&content-lang=en-US'>Silhouette</a> to analyze how well the new cluster predictions match the original model.</p>\n",
    "\n",
    "<ol style = 'font-size:16px;font-family:Arial'>\n",
    "    <li>Execute KMeansPredict</li>\n",
    "    <li>Inpect the results</li>\n",
    "    <li>Use Silhouette to evaluate the output</li>\n",
    "    </ol>"
   ]
  },
  {
   "cell_type": "markdown",
   "id": "a056326b-e80d-4655-96c3-bfa3e6bba20b",
   "metadata": {},
   "source": [
    "<hr style=\"height:1px;border:none;\">"
   ]
  },
  {
   "cell_type": "markdown",
   "id": "bbd8c482",
   "metadata": {},
   "source": [
    "<p style = 'font-size:20px;font-family:Arial'><b>6.1 Call the Prediction Function</b></p>\n",
    "\n",
    "<p style = 'font-size:16px;font-family:Arial'>Pass the Input Data, the existing KMeans Model, and other parameters including columns to accumulate.  Note here we create a new View to assist with Silhouette analysis of the prediction.</p>"
   ]
  },
  {
   "cell_type": "code",
   "execution_count": null,
   "id": "90506bfe-12ea-4004-957f-13d9e0b34cad",
   "metadata": {},
   "outputs": [],
   "source": [
    "KMeans_Output_V = KMeansPredict(\n",
    "                  object=KMeans_Model.result,\n",
    "                  data=Scaled_Transformed_Test_Group_V.result,\n",
    "                  output_distance=True,\n",
    "                  accumulate=\"1:5\"\n",
    "                  )"
   ]
  },
  {
   "cell_type": "markdown",
   "id": "372fcd7c-63aa-4863-81e1-ea409e305190",
   "metadata": {},
   "source": [
    "<hr style=\"height:1px;border:none;\">"
   ]
  },
  {
   "cell_type": "markdown",
   "id": "425d8e7e",
   "metadata": {},
   "source": [
    "<p style = 'font-size:18px;font-family:Arial'><b>6.2 Inspect the Results</b></p>\n",
    "\n",
    "<p style = 'font-size:16px;font-family:Arial'>Viewing the result property of the output will show us the results</p>"
   ]
  },
  {
   "cell_type": "code",
   "execution_count": null,
   "id": "7b242c95",
   "metadata": {},
   "outputs": [],
   "source": [
    "KMeans_Output_V.result"
   ]
  },
  {
   "cell_type": "markdown",
   "id": "31622174-0e43-47a6-8ac4-574e49c20969",
   "metadata": {},
   "source": [
    "<hr style=\"height:1px;border:none;\">"
   ]
  },
  {
   "cell_type": "markdown",
   "id": "7b3b1ebf",
   "metadata": {},
   "source": [
    "<p style = 'font-size:20px;font-family:Arial'><b>6.3 Evaluate the Prediction</b></p>\n",
    "\n",
    "<p style = 'font-size:16px;font-family:Arial'><a href = 'https://docs.teradata.com/search/all?query=Python+Silhouette&content-lang=en-US'>Silhouette</a> is a native Vantage function that evaluates the similarity of an object to its cluster (cohesion) compared to other clusters (separation).  The silhouette scores and its definitions are as follows:</p>\n",
    "\n",
    "<ul style = 'font-size:16px;font-family:Arial'>\n",
    "    <li>1: Data is appropriately clustered</li>\n",
    "    <li>-1: Data is not appropriately clustered</li>\n",
    "    <li>0: Datum is on the border of two natural clusters</li>\n",
    "    </ul>\n",
    "\n",
    "<p style = 'font-size:16px;font-family:Arial'>See the documentation for a full listing of parameters and return values.</p>"
   ]
  },
  {
   "cell_type": "code",
   "execution_count": null,
   "id": "abf6fee1",
   "metadata": {},
   "outputs": [],
   "source": [
    "from teradataml import Silhouette\n",
    "Silhouette_result1 = Silhouette(id_column=\"CustomerID\",\n",
    "                                cluster_id_column=\"td_clusterid_kmeans\",\n",
    "                                target_columns=\"3:7\",\n",
    "                                output_type=\"SCORE\",\n",
    "                                data=KMeans_Output_V.result)\n",
    " \n",
    "# Print the result DataFrame.\n",
    "Silhouette_result1.result"
   ]
  },
  {
   "cell_type": "markdown",
   "id": "6e3c45e9",
   "metadata": {},
   "source": [
    "<hr style=\"height:2px;border:none;\">\n",
    "<p style = 'font-size:20px;font-family:Arial'><b>7. Clean up</b></p>"
   ]
  },
  {
   "cell_type": "markdown",
   "id": "ad5faff7-098d-47e5-aedc-b1c404065d26",
   "metadata": {},
   "source": [
    "<p style = 'font-size:20px;font-family:Arial'> <b>Database and Tables </b></p>\n",
    "<p style = 'font-size:16px;font-family:Arial'>The following code will clean up tables and databases created above.</p>"
   ]
  },
  {
   "cell_type": "code",
   "execution_count": null,
   "id": "fbf5f8df-ad8e-483d-951f-4339b567be1e",
   "metadata": {},
   "outputs": [],
   "source": [
    "%run -i ../run_procedure.py \"call remove_data('DEMO_Retail');\"  # takes about 5 seconds, optional if you want to use the data later"
   ]
  },
  {
   "cell_type": "code",
   "execution_count": null,
   "id": "09cdc380-a81d-4f68-8bbe-e0446eaf1156",
   "metadata": {},
   "outputs": [],
   "source": [
    "remove_context()"
   ]
  },
  {
   "cell_type": "markdown",
   "id": "1eeef016-05c7-45e4-af12-3bcf958f13b3",
   "metadata": {},
   "source": [
    "<hr style=\"height:2px;border:none;\">\n",
    "<p style = 'font-size:20px;font-family:Arial'> <b> 8. Conclusion </b> </p>\n",
    "<p style = 'font-size:16px;font-family:Arial'>In this notebook we have seen some of the Teradata Vantage Clearscape's new inDb functions and how we can create k clustering model from the transformed data.</p>"
   ]
  },
  {
   "cell_type": "markdown",
   "id": "56d2506b-0db7-4aeb-9b52-40af76e4201a",
   "metadata": {},
   "source": [
    "<p style = 'font-size:20px;font-family:Arial'><b>Reference Links:</b></p>\n",
    "<ul style = 'font-size:16px;font-family:Arial'>\n",
    "        <li>Teradata Analytic Function Reference:\n",
    "        <a href = 'https://docs.teradata.com/r/Teradata-VantageCloud-Lake/Analyzing-Your-Data/Analytics-Database-Analytic-Functions/Analytics-Database-Analytic-Functions-Overview'>\n",
    "        https://docs.teradata.com/r/Teradata-VantageCloud-Lake/Analyzing-Your-Data/Analytics-Database-Analytic-Functions/Analytics-Database-Analytic-Functions-Overview</a></li>\n",
    "  \n",
    "</ul>"
   ]
  },
  {
   "cell_type": "markdown",
   "id": "e439c913-9462-4bd4-aaec-51563ab81fa6",
   "metadata": {},
   "source": [
    "<footer style=\"padding-bottom:35px; border-bottom:3px solid #91A0Ab\">\n",
    "    <div style=\"float:left;margin-top:14px\">ClearScape Analytics™</div>\n",
    "    <div style=\"float:right;\">\n",
    "        <div style=\"float:left; margin-top:14px\">\n",
    "            Copyright © Teradata Corporation - 2025. All Rights Reserved\n",
    "        </div>\n",
    "    </div>\n",
    "</footer>"
   ]
  }
 ],
 "metadata": {
  "kernelspec": {
   "display_name": "Python 3 (ipykernel)",
   "language": "python",
   "name": "python3"
  },
  "language_info": {
   "codemirror_mode": {
    "name": "ipython",
    "version": 3
   },
   "file_extension": ".py",
   "mimetype": "text/x-python",
   "name": "python",
   "nbconvert_exporter": "python",
   "pygments_lexer": "ipython3",
   "version": "3.9.10"
  },
  "toc-showmarkdowntxt": true
 },
 "nbformat": 4,
 "nbformat_minor": 5
}
