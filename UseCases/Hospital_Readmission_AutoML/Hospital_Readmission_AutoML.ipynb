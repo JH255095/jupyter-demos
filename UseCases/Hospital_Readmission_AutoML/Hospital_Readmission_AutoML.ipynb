{
 "cells": [
  {
   "cell_type": "markdown",
   "id": "6cd132e2-90f9-4444-ad21-0924079227da",
   "metadata": {},
   "source": [
    "<header>\n",
    "   <p  style='font-size:36px;font-family:Arial; color:#F0F0F0; background-color: #00233c; padding-left: 20pt; padding-top: 20pt;padding-bottom: 10pt; padding-right: 20pt;'>\n",
    "       Hospital Readmission using Teradata AutoML Functionality\n",
    "  <br>\n",
    "       <img id=\"teradata-logo\" src=\"https://storage.googleapis.com/clearscape_analytics_demo_data/DEMO_Logo/teradata.svg\" alt=\"Teradata\" style=\"width: 125px; height: auto; margin-top: 20pt;\">\n",
    "    </p>\n",
    "</header>"
   ]
  },
  {
   "cell_type": "markdown",
   "id": "2ebb2da9-7e14-49a1-bdc0-9ae5f659df5c",
   "metadata": {
    "tags": []
   },
   "source": [
    "<p style ='font-size:18px;font-family:Arial'><b>Introduction</b></p>\n",
    "\n",
    "<p style ='font-size:16px;font-family:Arial'>As we strive to enhance patient outcomes and optimize hospital operations, we must address a critical area: reducing hospital readmissions. Our data analysis identifies patients with a history of high hospital utilization and those with prescribed or adjusted diabetes medications as having significantly higher readmission rates. The intersection of these groups is particularly high-risk. Healthcare teams can use this information to prioritize follow-up and risk mitigation for these cohorts.</p>\n",
    "\n",
    "<p style ='font-size:16px;font-family:Arial'><b>Key Insights and Actionable Recommendations</b></p>\n",
    "\n",
    "<p style ='font-size:16px;font-family:Arial'><b>1. Common Primary Diagnoses by Age Group</b>\n",
    "    <li style ='font-size:14px;font-family:Arial'><strong>&nbsp;&nbsp;&nbsp;&nbsp;Circulatory diagnoses</strong>: Most common across all age groups, except in the 40-50 cohort where diabetes predominates.</li>\n",
    "    <li style ='font-size:14px;font-family:Arial'><strong>&nbsp;&nbsp;&nbsp;&nbsp;Respiratory diagnoses</strong>: Less prevalent in younger patients (40-50) but increasingly significant in patients aged 50+.</li>\n",
    "    <li style ='font-size:14px;font-family:Arial'><strong>&nbsp;&nbsp;&nbsp;&nbsp;Diabetes</strong>: Primary diagnosis in the youngest cohort (40-50).</li>\n",
    "</p>\n",
    "<p style ='font-size:14px;font-family:Arial'><strong>Action</strong>: Tailor discharge planning and follow-up protocols to address circulatory and diabetes-related conditions, with attention to respiratory issues in older patients.</p>\n",
    "\n",
    "<p style ='font-size:16px;font-family:Arial'><b>2. Impact of Diabetes on Readmission Rates</b>\n",
    "    <li style ='font-size:14px;font-family:Arial'>&nbsp;&nbsp;&nbsp;&nbsp;A diabetes diagnosis alone does not significantly increase readmission risk.</li>\n",
    "    <li style ='font-size:14px;font-family:Arial'>&nbsp;&nbsp;&nbsp;&nbsp;Patients prescribed diabetes medications or with medication changes during their stay show higher readmission rates across all age groups.</li>\n",
    "    <li style ='font-size:14px;font-family:Arial'>&nbsp;&nbsp;&nbsp;&nbsp;This indicates that diabetes medication management, rather than the diagnosis itself, drives readmission risk.</li>\n",
    "</p>\n",
    "<p style ='font-size:14px;font-family:Arial'><strong>Action</strong>: Implement targeted follow-up for patients prescribed diabetes medications or with recent medication changes, including enhanced education and monitoring.</p>\n",
    "\n",
    "\n",
    "<p style ='font-size:16px;font-family:Arial'><strong> Strategic Recommendations </strong>\n",
    "    <li style ='font-size:14px;font-family:Arial'><strong>Prioritize High-Risk Cohorts</strong>: Focus follow-up efforts on patients with high hospital utilization and those prescribed or adjusting diabetes medications.</li>\n",
    "    <li style ='font-size:14px;font-family:Arial'><strong>Enhance Discharge Planning</strong>: Develop customized discharge plans for patients with circulatory, diabetes, and respiratory diagnoses, emphasizing medication management.</li>\n",
    "    <li style ='font-size:14px;font-family:Arial'><strong>Strengthen Post-Discharge Follow-Up</strong>: Conduct follow-up calls within 48-72 hours for high-risk patients to ensure medication adherence and address issues.</li>\n",
    "    <li style ='font-size:14px;font-family:Arial'><strong>Educate and Train Staff</strong>: Train clinical staff on identifying and managing high-risk patients, focusing on diabetes medication management.</li>\n",
    "</p>\n",
    "\n",
    "<p style ='font-size:16px;font-family:Arial'><strong> Why Vantage ?</strong></p>\n",
    "<p style='font-size:16px;font-family:Arial'>Automated Machine Learning (AutoML) represents a method for streamlining the entire process of machine learning pipeline in automated way. It encompasses various distinct phases of the machine learning pipeline, including feature exploration, features engineering, data preparation, model selection, model training with hyperparameters tuning, and model evaluation. By automating these tasks, AutoML eliminates the need for manual intervention by trained data scientists and reduces the prerequisite knowledge required for beginners. This accessibility allows individuals of varying expertise levels to effortlessly use AutoML to create machine learning models in an automated fashion.</p>"
   ]
  },
  {
   "cell_type": "markdown",
   "id": "a423df79-f7e6-4905-945d-ac0a45af9b93",
   "metadata": {},
   "source": [
    "<hr style=\"height:2px;border:none;\">\n",
    "<p style = 'font-size:20px;font-family:Arial'><b>1. Connect to Vantage.</b></p>"
   ]
  },
  {
   "cell_type": "markdown",
   "id": "22a8ed4b-50e1-4719-9977-e83a8a869854",
   "metadata": {},
   "source": [
    "<p style = 'font-size:16px;font-family:Arial'>In the section, we import the required libraries and set environment variables and environment paths (if required).</p>"
   ]
  },
  {
   "cell_type": "code",
   "execution_count": null,
   "id": "6bb42d75-245f-4227-bb5d-9694453b61be",
   "metadata": {},
   "outputs": [],
   "source": [
    "import os\n",
    "import getpass\n",
    "from teradataml import *\n",
    "# Modify the following to match the specific client environment settings\n",
    "display.max_rows = 5\n",
    "configure.val_install_location = 'val'\n",
    "configure.byom_install_location = 'mldb'"
   ]
  },
  {
   "cell_type": "markdown",
   "id": "7d7f1ca9-087b-45df-a38b-1640b68080b0",
   "metadata": {},
   "source": [
    "<p style = 'font-size:16px;font-family:Arial'>We will be prompted to provide the password. We will enter the password, press the Enter key, and then use the down arrow to go to the next cell. Begin running steps with Shift + Enter keys.</p>"
   ]
  },
  {
   "cell_type": "code",
   "execution_count": null,
   "id": "1d0d3e10-c942-4e94-bce7-a804fbaef5e0",
   "metadata": {},
   "outputs": [],
   "source": [
    "%run -i ../startup.ipynb\n",
    "eng = create_context(host = 'host.docker.internal', username='demo_user', password = password)\n",
    "print(eng)"
   ]
  },
  {
   "cell_type": "code",
   "execution_count": null,
   "id": "f11043a7-62ff-432b-9103-818e56f5fe51",
   "metadata": {},
   "outputs": [],
   "source": [
    "%%capture\n",
    "execute_sql('''SET query_band='DEMO=Hospital_Readmission_AutoML.ipynb;' UPDATE FOR SESSION; ''')"
   ]
  },
  {
   "cell_type": "markdown",
   "id": "c954392e-66cf-49d3-8df8-4597f94083ef",
   "metadata": {},
   "source": [
    "<hr style=\"height:2px;border:none;\">\n",
    "<p style = 'font-size:20px;font-family:Arial'><b>2. Getting Data for This Demo </b></p>\n",
    "<p style = 'font-size:16px;font-family:Arial'>We have provided data for this demo on cloud storage. We have the option of either running the demo using foreign tables to access the data without using any storage on our environment or downloading the data to local storage, which may yield somewhat faster execution. However, we need to consider available storage. There are two statements in the following cell, and one is commented out. We may switch which mode we choose by changing the comment string.</p>\n"
   ]
  },
  {
   "cell_type": "code",
   "execution_count": null,
   "id": "1a2ab91e-c6e4-4e19-8600-54f6a090479c",
   "metadata": {},
   "outputs": [],
   "source": [
    "# %run -i ../run_procedure.py \"call get_data('DEMO_HospitalReadmission_cloud');\"\n",
    " # Takes about 20 seconds\n",
    "%run -i ../run_procedure.py \"call get_data('DEMO_HospitalReadmission_local');\"\n",
    " # Takes about 40 seconds"
   ]
  },
  {
   "cell_type": "markdown",
   "id": "6cd52c80-99e4-4115-a7dc-04c27d9374e8",
   "metadata": {},
   "source": [
    "<p style = 'font-size:16px;font-family:Arial'>Optional step – We should execute the below step only if we want to see the status of databases/tables created and space used.</p>"
   ]
  },
  {
   "cell_type": "code",
   "execution_count": null,
   "id": "19313f99-6416-48c7-b65f-9d2a08660c1b",
   "metadata": {
    "tags": []
   },
   "outputs": [],
   "source": [
    "%run -i ../run_procedure.py \"call space_report();\""
   ]
  },
  {
   "cell_type": "markdown",
   "id": "644702ac-03d6-4127-8486-b79876976466",
   "metadata": {},
   "source": [
    "<hr style=\"height:2px;border:none;\">\n",
    "<p style = 'font-size:20px;font-family:Arial'><b>3. Analyze raw data.</b></p>\n"
   ]
  },
  {
   "cell_type": "markdown",
   "id": "0d018af4-0e52-4c7b-b56e-d44444a0fb2f",
   "metadata": {},
   "source": [
    "<p style = 'font-size:16px;font-family:Arial'>Let us start by creating a \"Virtual DataFrame\" that points directly to the dataset in Vantage. We begin our analysis by obtaining the necessary data types for columns and extract values such as Sales_week, Sales_year, etc., from the Sales_date column. These extracted values will be used in our subsequent analysis.</p>"
   ]
  },
  {
   "cell_type": "code",
   "execution_count": null,
   "id": "acc66238-03f8-48f9-9bca-1a760093e417",
   "metadata": {},
   "outputs": [],
   "source": [
    "# Fetching in teradata dataframe.\n",
    "patient_df = DataFrame(in_schema(\"DEMO_HospitalReadmission\",\"Patients_Data\")) \n",
    "patient_df"
   ]
  },
  {
   "cell_type": "markdown",
   "id": "af9aa809-c845-470f-9aff-a5aa27ebb3af",
   "metadata": {},
   "source": [
    "<br>\n",
    "<p style = 'font-size:16px;font-family:Arial'>This method, <code>describe()</code>, will generate statistics for numeric columns. It computes the count, mean, std, min, percentiles, and max for numeric columns.<br>\n",
    "Default statistics include: \"count\", \"mean\", \"std\", \"min\", \"percentile\", \"max\"</p>"
   ]
  },
  {
   "cell_type": "code",
   "execution_count": null,
   "id": "57d644a9-8829-44dc-8b10-04dec2e23186",
   "metadata": {},
   "outputs": [],
   "source": [
    "patient_df.describe()"
   ]
  },
  {
   "cell_type": "markdown",
   "id": "513d5339-4b6b-4f81-bfd7-5c952854c961",
   "metadata": {},
   "source": [
    "<p style = 'font-size:16px;font-family:Arial;'> We have our patient dataset which needs to be split into <code>train</code> and <code>test</code> datasets.</p>\n",
    "\n",
    "<p style = 'font-size:16px;font-family:Arial;'>We'll split these with a 80:20 ratio.</p>"
   ]
  },
  {
   "cell_type": "code",
   "execution_count": null,
   "id": "91200ce0-7391-4cdd-aa04-2592609f8297",
   "metadata": {},
   "outputs": [],
   "source": [
    "# Performing sampling to get 80% for train and 20% for test\n",
    "tdf_sample = patient_df.sample(frac = [0.8, 0.2])\n",
    "\n",
    "# Fetching train and test data\n",
    "tdf_train= tdf_sample[tdf_sample['sampleid'] == 1].drop('sampleid', axis=1)\n",
    "tdf_test = tdf_sample[tdf_sample['sampleid'] == 2].drop('sampleid', axis=1)\n",
    "\n"
   ]
  },
  {
   "cell_type": "markdown",
   "id": "119cf252-bdc7-49a1-8e00-6cb1ea3db871",
   "metadata": {},
   "source": [
    "<hr style=\"height:2px;border:none;\">\n",
    "<b style = 'font-size:20px;font-family:Arial;'>3. AutoML Training</b>"
   ]
  },
  {
   "cell_type": "markdown",
   "id": "beee1110-1699-41a4-9827-5a6c40c4dd78",
   "metadata": {},
   "source": [
    "<p style = 'font-size:16px;font-family:Arial;'>AutoML (Automated Machine Learning) is an approach that automates the process of building, training, and validating machine learning models. It involves various algorithms to automate various aspects of the machine learning workflow, such as data preparation, feature engineering, model selection, hyperparameter tuning, and model deployment. It aims to simplify the process of building machine learning models, by automating some of the more time-consuming and labor-intensive tasks involved in the process.</p>\n",
    "\n",
    "<p style = 'font-size:16px;font-family:Arial;'>Below image shows the steps that are automated as a part of the AutoML approach using Vantage</p>\n",
    "\n",
    "<center><img src=\"images/Approach.png\" alt=\"efs\" width=\"500\" height=\"500\" style=\"border: 4px solid #404040; border-radius: 10px;\"></center>"
   ]
  },
  {
   "cell_type": "markdown",
   "id": "9e89eee2-6fd6-47ca-9aa0-e57690b7ad46",
   "metadata": {},
   "source": [
    "<hr style=\"height:1px;border:none;\">\n",
    "<b style = 'font-size:18px;font-family:Arial;'>3.1. AutoML Training</b>\n",
    "<p style = 'font-size:16px;font-family:Arial;'>Now we can create a <code>AutoClassifier</code> instance which is a special purpose AutoML feature to run classification specific tasks. We use the <code>exclude</code> parameter to specify model algorithms to be excluded from model training phase. Here we exclude the 'knn' model. The <code>max_runtime_secs</code> specifies the time limit in seconds for model training.\n",
    "<br><br>\n",
    "<code>verbose</code>: specifies the detailed execution steps based on verbose level as follows:\n",
    "</p>\n",
    "\n",
    "<ul style = 'font-size:16px;font-family:Arial;'>\n",
    "    <li><b>0</b>: prints the progress bar and leaderboard</li>\n",
    "    <li><b>1</b>: prints the execution steps of AutoML.</li>\n",
    "    <li><b>2</b>: prints the intermediate data between the execution of each step of AutoML.</li>\n",
    "</ul>"
   ]
  },
  {
   "cell_type": "code",
   "execution_count": null,
   "id": "cf8a3bf2-158e-4d37-891e-abcd74ae6a20",
   "metadata": {},
   "outputs": [],
   "source": [
    "'''\n",
    "Creating AutoClassifier Instance\n",
    "Selecting 'Auto' mode for AutoML training\n",
    "Excluding knn and svm model from default model list for training\n",
    "Used early stopping timer criteria with value 300 sec\n",
    "'''\n",
    "\n",
    "aml = AutoClassifier(\n",
    "    exclude = 'knn',\n",
    "    verbose = 2,\n",
    "    max_runtime_secs = 300,\n",
    ")"
   ]
  },
  {
   "cell_type": "markdown",
   "id": "c9543901-c985-4342-aaff-37ab3043b92d",
   "metadata": {},
   "source": [
    "<p style = 'font-size:16px;font-family:Arial;'>Below are the different phases of AutoML:</p>\n",
    "</p>\n",
    "<center><img src=\"images/AutoML_phases.png\" alt=\"efs\" width=800 height=1200 style=\"border: 4px solid #404040; border-radius: 10px; padding-right:15px;\"></center>"
   ]
  },
  {
   "cell_type": "markdown",
   "id": "426295d1-ae76-4369-b057-0db63c48a29c",
   "metadata": {
    "tags": []
   },
   "source": [
    "<div class=\"alert alert-block alert-info\">\n",
    "<p style = 'font-size:16px;font-family:Arial;color:#00233C'><b>Note: </b>Since our AutoML functionality is executing process like <code>Feature Exploration</code> and <code>Data Preparation</code> along with the <code>Model Training</code> and <code>Best Model Evaluations</code> it may take 12-15 minutes for this next step to execute.</p>\n",
    "</div>"
   ]
  },
  {
   "cell_type": "code",
   "execution_count": null,
   "id": "0568e961-ac76-4735-8cd8-d76d04f439ad",
   "metadata": {},
   "outputs": [],
   "source": [
    "# Fitting train data \n",
    "\n",
    "aml.fit(tdf_train, 'readmitted')"
   ]
  },
  {
   "cell_type": "markdown",
   "id": "f64420b5-a6bb-4866-b886-bebfdcd47d0a",
   "metadata": {},
   "source": [
    "<hr style=\"height:1px;border:none;\">\n",
    "<b style = 'font-size:18px;font-family:Arial'>3.2. Model Leaderboard Generation</b>"
   ]
  },
  {
   "cell_type": "markdown",
   "id": "e419cbc0-a4e8-41da-9e26-38ccddc20f89",
   "metadata": {},
   "source": [
    "<p style = 'font-size:16px;font-family:Arial'>Next we can generate the model leaderboard and leader for a given dataset. <code>Leaderboard</code> is a ranked table with a list of models with all their evaluation metrics.</p>"
   ]
  },
  {
   "cell_type": "code",
   "execution_count": null,
   "id": "27ab50bb-f9f0-4823-8d75-a911746d5855",
   "metadata": {},
   "outputs": [],
   "source": [
    "# Fetching leaderboard\n",
    "\n",
    "leaderboard=aml.leaderboard()\n",
    "leaderboard"
   ]
  },
  {
   "cell_type": "markdown",
   "id": "29f57dcf-16e0-4c45-951f-7981960c0ad6",
   "metadata": {},
   "source": [
    "<hr style=\"height:1px;border:none;\">\n",
    "<b style = 'font-size:18px;font-family:Arial'>3.3 Best Performing Model</b>"
   ]
  },
  {
   "cell_type": "markdown",
   "id": "3933a516-8b7f-4f4e-99cb-da5ee3e8b97d",
   "metadata": {},
   "source": [
    "<p style = 'font-size:16px;font-family:Arial'>The following function displays the best performing model.</p>"
   ]
  },
  {
   "cell_type": "code",
   "execution_count": null,
   "id": "6d2aa048-34e3-46e6-be67-6d1423eb0dc2",
   "metadata": {},
   "outputs": [],
   "source": [
    "# Fetching best performing model\n",
    "aml.leader()"
   ]
  },
  {
   "cell_type": "markdown",
   "id": "a9cec69b-bf69-45d9-885b-ccc338e9088c",
   "metadata": {},
   "source": [
    "<hr style=\"height:2px;border:none;\">\n",
    "<b style = 'font-size:20px;font-family:Arial'>4. Prediction</b>"
   ]
  },
  {
   "cell_type": "markdown",
   "id": "8f9dd63b-9bb9-4879-bccd-6e93391da80e",
   "metadata": {},
   "source": [
    "<p style = 'font-size:16px;font-family:Arial'>The predict function generates predictions using either the default test data or any specified dataset, based on the model's rank in the leaderboard, and displays the performance metrics of the chosen model. If the test data contains a target column, both predictions and performance metrics are displayed; otherwise, only the predictions are shown.\n",
    "<br><br>\n",
    "You can also use the <code>rank</code> parameter in the predict function. The <code>rank</code> parameter specifies the model's rank in the leaderboard to be used for prediction. By default, the rank is set to 1, meaning the best-performing model is used.</p>"
   ]
  },
  {
   "cell_type": "markdown",
   "id": "7f70db36-cece-416d-bdc7-8bd6b5a65ef6",
   "metadata": {},
   "source": [
    "<hr style=\"height:1px;border:none;\">\n",
    "<b style = 'font-size:18px;font-family:Arial'>4.1 Generating prediction on test data using Best Model</b>"
   ]
  },
  {
   "cell_type": "markdown",
   "id": "284a7c9a-ca3f-4cfc-956c-73e68fff5a77",
   "metadata": {},
   "source": [
    "<p style = 'font-size:16px;font-family:Arial'>Here, we specify the <code>tdf_test</code> dataset for prediction. When using external data instead of the default test data, the predict function applies all the data transformation steps performed during the training phase on the external data before passing the data to the model for prediction.</p>"
   ]
  },
  {
   "cell_type": "code",
   "execution_count": null,
   "id": "a0df6afd-81a9-4555-9780-45187bd912f3",
   "metadata": {},
   "outputs": [],
   "source": [
    "# Fetching prediction and metrics on test data\n",
    "prediction = aml.predict(tdf_test)"
   ]
  },
  {
   "cell_type": "code",
   "execution_count": null,
   "id": "b98c16c7-e34c-4ff5-b8b5-50e3e50f3b28",
   "metadata": {},
   "outputs": [],
   "source": [
    "# Printing prediction\n",
    "prediction"
   ]
  },
  {
   "cell_type": "markdown",
   "id": "60404d0b-e346-457c-b02d-07dc0775089a",
   "metadata": {},
   "source": [
    "<b style = 'font-size:18px;font-family:Arial'>Generating predictions using 2nd Best Model</b>"
   ]
  },
  {
   "cell_type": "code",
   "execution_count": null,
   "id": "e4f19395-5eb7-4450-ba05-f950f65769b1",
   "metadata": {},
   "outputs": [],
   "source": [
    "#Prediction using the second best performing model\n",
    "prediction_second = aml.predict(tdf_test, rank=2)\n",
    "\n",
    "#Printing prediction\n",
    "prediction_second"
   ]
  },
  {
   "cell_type": "markdown",
   "id": "7a4a817a-eb77-408a-a4d8-4c8a73beb987",
   "metadata": {},
   "source": [
    "<b style = 'font-size:18px;font-family:Arial'>Generating predictions using 3rd Best Model</b>"
   ]
  },
  {
   "cell_type": "code",
   "execution_count": null,
   "id": "989e6734-a053-48ac-92cc-9d02014e14ec",
   "metadata": {},
   "outputs": [],
   "source": [
    "prediction_third = aml.predict(tdf_test, rank=3)\n",
    "\n",
    "#Printing prediction\n",
    "prediction_third"
   ]
  },
  {
   "cell_type": "markdown",
   "id": "08996266-f7a7-40bb-af67-589cbddab3fd",
   "metadata": {},
   "source": [
    "<hr style=\"height:1px;border:none\">\n",
    "<b style = 'font-size:18px;font-family:Arial'>4.2 Generating and Comparing ROC for the Top 3 Models</b>"
   ]
  },
  {
   "cell_type": "markdown",
   "id": "1a2396fc-346a-43e3-a53d-d31e297963cc",
   "metadata": {},
   "source": [
    "<p style = 'font-size:16px;font-family:Arial'>The ROC curve is a graph between TPR(True Positive Rate) and FPR(False Positive Rate). The area under the ROC curve measures how well the model can distinguish between positive and negative classes. The higher the AUC, the better the model's performance in distinguishing between the positive and negative categories. AUC above 0.75 is generally considered decent.</p>"
   ]
  },
  {
   "cell_type": "code",
   "execution_count": null,
   "id": "eb3090e4-e619-4a2a-b47a-a56464f46790",
   "metadata": {},
   "outputs": [],
   "source": [
    "#Calculating True-Positive Rate (TPR), False-Positive Rate (FPR), Threshold_values for both the models\n",
    "roc_first = ROC(\n",
    "    probability_column = prediction.columns[1], #\"prediction\",\n",
    "    observation_column = \"readmitted\",\n",
    "    positive_class = '1',\n",
    "    num_thresholds = 100,\n",
    "    data = prediction\n",
    ")\n",
    "\n",
    "roc_second = ROC(\n",
    "    probability_column = prediction_second.columns[1], #\"prediction\",\n",
    "    observation_column = \"readmitted\",\n",
    "    positive_class = '1',\n",
    "    num_thresholds = 100,\n",
    "    data = prediction_second\n",
    ")\n",
    "\n",
    "roc_third = ROC(\n",
    "    probability_column = prediction_third.columns[1], #\"Prediction\",\n",
    "    observation_column = \"readmitted\",\n",
    "    positive_class = '1',\n",
    "    num_thresholds = 100,\n",
    "    data = prediction_third\n",
    ")\n",
    "\n",
    "#Getting auc_score for both models\n",
    "auc_first = roc_first.result.get_values()[0][0]\n",
    "auc_second = roc_second.result.get_values()[0][0]\n",
    "auc_third = roc_third.result.get_values()[0][0]"
   ]
  },
  {
   "cell_type": "code",
   "execution_count": null,
   "id": "92b892e2-b89b-44df-bae1-34b57393c203",
   "metadata": {},
   "outputs": [],
   "source": [
    "#first model\n",
    "first_model = leaderboard.iloc[0][1]\n",
    "\n",
    "#second model\n",
    "second_model = leaderboard.iloc[1][1]\n",
    "\n",
    "third_model = leaderboard.iloc[2][1]\n",
    "\n",
    "#Plotting the ROC Curve\n",
    "roc_second.output_data.plot(\n",
    "    x = roc_first.output_data.fpr,\n",
    "    y = [roc_first.output_data.tpr, roc_second.output_data.tpr, roc_third.output_data.tpr,roc_first.output_data.fpr],\n",
    "    legend = [\n",
    "                '{}: AUC = {}'.format(first_model,str(auc_first)),\n",
    "                '{}: AUC = {}'.format(second_model,str(auc_second)),\n",
    "                '{}: AUC = {}'.format(third_model,str(auc_second)),\n",
    "                'Baseline: AUC = {}'.format(str(round(0.5, 4)))\n",
    "             ],\n",
    "    legend_style = 'lower right',\n",
    "    title = 'Receiver Operating Characteristic (ROC) Curve',\n",
    "    xlabel = 'False Positive Rate',\n",
    "    ylabel = 'True Positive Rate',\n",
    "    color = ['green', 'orange', 'blue'],\n",
    "    linestyle = ['-', '-', '--']\n",
    ")"
   ]
  },
  {
   "cell_type": "markdown",
   "id": "fbe0f3bb-13be-4b2e-a5c6-387ad5b5e536",
   "metadata": {},
   "source": [
    "<hr style=\"height:2px;border:none;\">\n",
    "<b style = 'font-size:20px;font-family:Arial'>Automated Machine Learning (AutoML) Overview</b>\n",
    "<p style = 'font-size:16px;font-family:Arial'>Automated Machine Learning (AutoML) streamlines the machine learning pipeline, automating feature exploration, engineering, data preparation, model selection, training, hyperparameter tuning, and evaluation. It reduces manual intervention, enabling users of all expertise levels to create effective machine learning models effortlessly.</p>\n",
    "<ul style = 'font-size:16px;font-family:Arial'>\n",
    "        <li style = 'font-size:16px;font-family:Arial'><strong>Feature Exploration</strong>: Analyzes features, providing insights like column summaries, categorical feature counts, outlier percentages, futile column details, and target distribution.</li>\n",
    "        <li style = 'font-size:16px;font-family:Arial'><strong>Feature Engineering</strong>: Manages data anomalies (duplicates, missing values, futile columns) and applies transformations based on feature data types.</li>\n",
    "        <li style = 'font-size:16px;font-family:Arial'><strong>Data Preparation</strong>: Prepares data through feature selection, scaling, and splitting into training and validation sets for model training.</li>\n",
    "        <li style = 'font-size:16px;font-family:Arial'><strong>Model Training</strong>: Conducts hyperparameter tuning across multiple models to optimize performance.</li>\n",
    "        <li style = 'font-size:16px;font-family:Arial'><strong>Model Evaluation</strong>: Assesses models, generating a leaderboard with performance metrics, feature selection methods, and rankings, where rank 1 is the best model.</li>\n",
    "    </ul>"
   ]
  },
  {
   "cell_type": "markdown",
   "id": "4cdff4e8-1912-4bd5-a2a9-4be8b43057a7",
   "metadata": {
    "jp-MarkdownHeadingCollapsed": true,
    "tags": []
   },
   "source": [
    "<hr style=\"height:2px;border:none;\">\n",
    "<b style = 'font-size:20px;font-family:Arial'>Teradata AutoML Queries found in dbc.Tables - Teradata SQL Query Documentation</b>\n",
    "<p></p>\n",
    "<p style = 'font-size:16px;font-family:Arial'>Query to find these objects:  select * from dbc.Tables t2 where DatabaseName = 'demo_user' and TableName like '%persist_out%' order by CreateTimeStamp ASC;  BELOW IS A DESCRIPTION OF THOSE OBJECTS</p>\n",
    "\n",
    "<ol style = 'font-size:16px;font-family:Arial'>\n",
    "        <li style = 'font-size:14px;font-family:Arial'><strong>Query</strong>: <code class=\"query\">CREATE MULTISET TABLE \"DEMO_USER\".\"ml__td_sqlmr_persist_out__1748531851162813\" AS (SELECT * FROM TD_OrdinalEncodingTransform( ON \"DEMO_USER\".\"ml__td_sqlmr_out__1748532332745430\" AS InputTable PARTITION BY ANY ON \"DEMO_USER\".\"ml__td_sqlmr_out__1748532110089230\" AS FitTable DIMENSION USING Accumulate('time_in_hospital','n_procedures','n_lab_procedures','A1Ctest'\n",
    "'age','n_outpatient','id','n_inpatient','n_medications','change','diag_1',\n",
    "'n_emergency','diabetes_med','diag_2','glucose_test','medical_specialty','diag_3') ) as sqlmr) WITH DATA</code><br>\n",
    "            <strong>Description</strong>: Creates table with ordinal encoding of categorical features for ML.<br>\n",
    "            <strong>Ref</strong>: <code>TD_OrdinalEncodingTransform</code> (ClearScape Analytics).<br>\n",
    "            <span class=\"ref\">Converts categorical variables to numeric ordinals, preserving order for ML models.</span></li>\n",
    "        <li style = 'font-size:14px;font-family:Arial'><strong>Query</strong>: <code class=\"query\">CREATE MULTISET TABLE \"DEMO_USER\".\"ml__td_sqlmr_persist_out__1748531682762671\" AS (SELECT * FROM TD_OneHotEncodingTransform( ON (select * from \"DEMO_USER\".\"ml__td_sqlmr_persist_out__1748531851162813\" where decode(\"readmitted\", null, 0, 1) = 1) AS InputTable ON \"DEMO_USER\".\"ml__td_sqlmr_out__1748530862022377\" AS FitTable DIMENSION USING IsInputDense('True') ) as sqlmr) WITH DATA</code><br>\n",
    "            <strong>Description</strong>: Applies one-hot encoding to filtered data for binary representation.<br>\n",
    "            <strong>Ref</strong>: <code>TD_OneHotEncodingTransform</code> (ClearScape Analytics).<br>\n",
    "            <span class=\"ref\">Transforms categorical variables into binary vectors for ML compatibility.</span></li>\n",
    "        <li style = 'font-size:14px;font-family:Arial'><strong>Query</strong>: <code class=\"query\">CREATE MULTISET TABLE \"DEMO_USER\".\"ml__td_sqlmr_persist_out__1748531304257061\" AS (SELECT * FROM TD_OutlierFilterTransform( ON \"DEMO_USER\".\"ml__td_sqlmr_out__1748530828623591\" AS InputTable ON \"DEMO_USER\".\"ml__td_sqlmr_out__1748532012742512\" AS FitTable DIMENSION ) as sqlmr) WITH DATA</code><br>\n",
    "            <strong>Description</strong>: Filters outliers from input table to enhance model accuracy.<br>\n",
    "            <strong>Ref</strong>: <code>TD_OutlierFilterTransform</code> (ClearScape Analytics).<br>\n",
    "            <span class=\"ref\">Removes extreme values from datasets to improve model performance.</span></li>\n",
    "        <li style = 'font-size:14px;font-family:Arial'><strong>Query</strong>: <code class=\"query\">CREATE MULTISET TABLE \"DEMO_USER\".\"ml__td_sqlmr_persist_out__1748536280502093\" AS (SELECT * FROM TD_OutlierFilterTransform( ON \"DEMO_USER\".\"ml__td_sqlmr_persist_out__1748531304257061\" AS InputTable ON \"DEMO_USER\".\"ml__td_sqlmr_out__1748532354477023\" AS FitTable DIMENSION ) as sqlmr) WITH DATA</code><br>\n",
    "            <strong>Description</strong>: Further filters outliers from processed table for data quality.<br>\n",
    "            <strong>Ref</strong>: <code>TD_OutlierFilterTransform</code> (ClearScape Analytics).<br>\n",
    "            <span class=\"ref\">Eliminates outliers in processed data to ensure robust ML results.</span></li>\n",
    "        <li style = 'font-size:14px;font-family:Arial'><strong>Query</strong>: <code class=\"query\">CREATE MULTISET TABLE \"DEMO_USER\".\"ml__td_sqlmr_persist_out__1748532843403074\" AS (SELECT * FROM TD_TrainTestSplit( ON \"ml__lasso_train_1748532042357136\" AS InputTable USING IDColumn('id') StratifyColumn('readmitted') seed(42) trainSize(0.8) testSize(0.2) ) as sqlmr) WITH DATA</code><br>\n",
    "            <strong>Description</strong>: Splits lasso training data into 80/20 train/test sets.<br>\n",
    "            <strong>Ref</strong>: <code>TD_TrainTestSplit</code> (ClearScape Analytics).<br>\n",
    "            <span class=\"ref\">Divides data into training and testing sets for model evaluation.</span></li>\n",
    "        <li style = 'font-size:14px;font-family:Arial'><strong>Query</strong>: <code class=\"query\">CREATE MULTISET TABLE \"DEMO_USER\".\"ml__td_sqlmr_persist_out__1748534455423988\" AS (SELECT * FROM TD_TrainTestSplit( ON \"ml__rfe_train_1748537973661062\" AS InputTable USING IDColumn('id') StratifyColumn('readmitted') seed(42) trainSize(0.8) testSize(0.2) ) as sqlmr) WITH DATA</code><br>\n",
    "            <strong>Description</strong>: Splits RFE training data into 80/20 train/test sets.<br>\n",
    "            <strong>Ref</strong>: <code>TD_TrainTestSplit</code> (ClearScape Analytics).<br>\n",
    "            <span class=\"ref\">Partitions RFE data for training and testing ML models.</span></li>\n",
    "        <li style = 'font-size:14px;font-family:Arial'><strong>Query</strong>: <code class=\"query\">CREATE MULTISET TABLE \"DEMO_USER\".\"ml__td_sqlmr_persist_out__1748533402988160\" AS (SELECT * FROM TD_TrainTestSplit( ON \"ml__pca_train_1748532528449658\" AS InputTable USING IDColumn('id') StratifyColumn('readmitted') seed(42) trainSize(0.8) testSize(0.2) ) as sqlmr) WITH DATA</code><br>\n",
    "            <strong>Description</strong>: Splits PCA training data into 80/20 train/test sets.<br>\n",
    "            <strong>Ref</strong>: <code>TD_TrainTestSplit</code> (ClearScape Analytics).<br>\n",
    "            <span class=\"ref\">Splits PCA-transformed data for model training and validation.</span></li>\n",
    "        <li style = 'font-size:14px;font-family:Arial'><strong>Query</strong>: <code class=\"query\">CREATE MULTISET TABLE \"DEMO_USER\".\"ml__td_sqlmr_persist_out__1748532939572977\" AS (SELECT * FROM TD_TrainTestSplit( ON \"ml__lasso_train_1748532042357136\" AS InputTable USING IDColumn('id') StratifyColumn('readmitted') seed(42) trainSize(0.8) testSize(0.2) ) as sqlmr) WITH DATA</code><br>\n",
    "            <strong>Description</strong>: Repeats lasso train/test split for model evaluation.<br>\n",
    "            <strong>Ref</strong>: <code>TD_TrainTestSplit</code> (ClearScape Analytics).<br>\n",
    "            <span class=\"ref\">Repeats data split for consistent lasso model testing.</span></li>\n",
    "        <li style = 'font-size:14px;font-family:Arial'><strong>Query</strong>: <code class=\"query\">CREATE MULTISET TABLE \"DEMO_USER\".\"ml__td_sqlmr_persist_out__1748537778384075\" AS (SELECT * FROM TD_TrainTestSplit( ON \"ml__rfe_train_1748537973661062\" AS InputTable USING IDColumn('id') StratifyColumn('readmitted') seed(42) trainSize(0.8) testSize(0.2) ) as sqlmr) WITH DATA</code><br>\n",
    "            <strong>Description</strong>: Repeats RFE train/test split for model validation.<br>\n",
    "            <strong>Ref</strong>: <code>TD_TrainTestSplit</code> (ClearScape Analytics).<br>\n",
    "            <span class=\"ref\">Repeats RFE data split for feature selection evaluation.</span></li>\n",
    "        <li style = 'font-size:14px;font-family:Arial'><strong>Query</strong>: <code class=\"query\">CREATE MULTISET TABLE \"DEMO_USER\".\"ml__td_sqlmr_persist_out__1748531526411974\" AS (SELECT * FROM TD_TrainTestSplit( ON \"ml__pca_train_1748532528449658\" AS InputTable USING IDColumn('id') StratifyColumn('readmitted') seed(42) trainSize(0.8) testSize(0.2) ) as sqlmr) WITH DATA</code><br>\n",
    "            <strong>Description</strong>: Repeats PCA train/test split for consistent evaluation.<br>\n",
    "            <strong>Ref</strong>: <code>TD_TrainTestSplit</code> (ClearScape Analytics).<br>\n",
    "            <span class=\"ref\">Repeats PCA data split for reliable model testing.</span></li>\n",
    "        <li style = 'font-size:14px;font-family:Arial'><strong>Query</strong>: <code class=\"query\">CREATE MULTISET TABLE \"DEMO_USER\".\"ml__td_sqlmr_persist_out__1748532056006776\" AS (SELECT * FROM TD_TrainTestSplit( ON \"ml__lasso_train_1748532042357136\" AS InputTable USING IDColumn('id') StratifyColumn('readmitted') seed(42) trainSize(0.8) testSize(0.2) ) as sqlmr) WITH DATA</code><br>\n",
    "            <strong>Description</strong>: Repeats lasso train/test split for data partitioning.<br>\n",
    "            <strong>Ref</strong>: <code>TD_TrainTestSplit</code> (ClearScape Analytics).<br>\n",
    "            <span class=\"ref\">Repeats lasso data split for robust model training.</span></li>\n",
    "        <li style = 'font-size:14px;font-family:Arial'><strong>Query</strong>: <code class=\"query\">CREATE MULTISET TABLE \"DEMO_USER\".\"ml__td_sqlmr_persist_out__1748535329443481\" AS (SELECT * FROM TD_TrainTestSplit( ON \"ml__rfe_train_1748537973661062\" AS InputTable USING IDColumn('id') StratifyColumn('readmitted') seed(42) trainSize(0.8) testSize(0.2) ) as sqlmr) WITH DATA</code><br>\n",
    "            <strong>Description</strong>: Repeats RFE train/test split for feature selection.<br>\n",
    "            <strong>Ref</strong>: <code>TD_TrainTestSplit</code> (ClearScape Analytics).<br>\n",
    "            <span class=\"ref\">Repeats RFE split for consistent feature evaluation.</span></li>\n",
    "        <li style = 'font-size:14px;font-family:Arial'><strong>Query</strong>: <code class=\"query\">CREATE MULTISET TABLE \"DEMO_USER\".\"ml__td_sqlmr_persist_out__1748533582595585\" AS (SELECT * FROM TD_TrainTestSplit( ON \"ml__pca_train_1748532528449658\" AS InputTable USING IDColumn('id') StratifyColumn('readmitted') seed(42) trainSize(0.8) testSize(0.2) ) as sqlmr) WITH DATA</code><br>\n",
    "            <strong>Description</strong>: Repeats PCA train/test split for dimensionality reduction.<br>\n",
    "            <strong>Ref</strong>: <code>TD_TrainTestSplit</code> (ClearScape Analytics).<br>\n",
    "            <span class=\"ref\">Repeats PCA split for effective model validation.</span></li>\n",
    "        <li style = 'font-size:14px;font-family:Arial'><strong>Query</strong>: <code class=\"query\">CREATE MULTISET TABLE \"DEMO_USER\".\"ml__td_sqlmr_persist_out__1748533159230246\" AS (SELECT * FROM TD_TrainTestSplit( ON \"ml__lasso_train_1748532042357136\" AS InputTable USING IDColumn('id') StratifyColumn('readmitted') seed(42) trainSize(0.8) testSize(0.2) ) as sqlmr) WITH DATA</code><br>\n",
    "            <strong>Description</strong>: Repeats lasso train/test split for model training.<br>\n",
    "            <strong>Ref</strong>: <code>TD_TrainTestSplit</code> (ClearScape Analytics).<br>\n",
    "            <span class=\"ref\">Repeats lasso split for reliable training data.</span></li>\n",
    "        <li style = 'font-size:14px;font-family:Arial'><strong>Query</strong>: <code class=\"query\">CREATE MULTISET TABLE \"DEMO_USER\".\"ml__td_sqlmr_persist_out__1748532432304924\" AS (SELECT * FROM TD_TrainTestSplit( ON \"ml__rfe_train_1748537973661062\" AS InputTable USING IDColumn('id') StratifyColumn('readmitted') seed(42) trainSize(0.8) testSize(0.2) ) as sqlmr) WITH DATA</code><br>\n",
    "            <strong>Description</strong>: Repeats RFE train/test split for robust evaluation.<br>\n",
    "            <strong>Ref</strong>: <code>TD_TrainTestSplit</code> (ClearScape Analytics).<br>\n",
    "            <span class=\"ref\">Repeats RFE split for stable feature selection.</span></li>\n",
    "        <li style = 'font-size:14px;font-family:Arial'><strong>Query</strong>: <code class=\"query\">CREATE MULTISET TABLE \"DEMO_USER\".\"ml__td_sqlmr_persist_out__1748533635440860\" AS (SELECT * FROM TD_TrainTestSplit( ON \"ml__pca_train_1748532528449658\" AS InputTable USING IDColumn('id') StratifyColumn('readmitted') seed(42) trainSize(0.8) testSize(0.2) ) as sqlmr) WITH DATA</code><br>\n",
    "            <strong>Description</strong>: Repeats PCA train/test split for model testing.<br>\n",
    "            <strong>Ref</strong>: <code>TD_TrainTestSplit</code> (ClearScape Analytics).<br>\n",
    "            <span class=\"ref\">Repeats PCA split for consistent testing results.</span></li>\n",
    "        <li style = 'font-size:14px;font-family:Arial'><strong>Query</strong>: <code class=\"query\">CREATE MULTISET TABLE \"DEMO_USER\".\"ml__td_sqlmr_persist_out__1748533358854821\" AS (SELECT * FROM TD_OrdinalEncodingTransform( ON \"DEMO_USER\".\"ml__td_sqlmr_out__1748532927343218\" AS InputTable PARTITION BY ANY ON \"DEMO_USER\".\"ml__td_sqlmr_out__1748532110089230\" AS FitTable DIMENSION USING Accumulate('time_in_hospital','n_procedures','n_lab_procedures','A1Ctest','age','n_outpatient',\n",
    "'id','n_inpatient','n_medications','change','diag_1','n_emergency','diabetes_med','diag_2'\n",
    ",'glucose_test','medical_specialty','diag_3') ) as sqlmr) WITH DATA</code><br>\n",
    "            <strong>Description</strong>: Applies ordinal encoding to new input for ML preprocessing.<br>\n",
    "            <strong>Ref</strong>: <code>TD_OrdinalEncodingTransform</code> (ClearScape Analytics).<br>\n",
    "            <span class=\"ref\">Encodes new categorical data into ordinals for ML.</span></li>\n",
    "        <li style = 'font-size:14px;font-family:Arial'><strong>Query</strong>: <code class=\"query\">CREATE MULTISET TABLE \"DEMO_USER\".\"ml__td_sqlmr_persist_out__1748531829647190\" AS (SELECT * FROM TD_OneHotEncodingTransform( ON \"DEMO_USER\".\"ml__td_sqlmr_out__1748532598241457\" AS InputTable ON \"DEMO_USER\".\"ml__td_sqlmr_out__1748530862022377\" AS FitTable DIMENSION USING IsInputDense('True') ) as sqlmr) WITH DATA</code><br>\n",
    "            <strong>Description</strong>: Applies one-hot encoding to processed table for ML.<br>\n",
    "            <strong>Ref</strong>: <code>TD_OneHotEncodingTransform</code> (ClearScape Analytics).<br>\n",
    "            <span class=\"ref\">Converts processed categorical data to binary for ML.</span></li>\n",
    "    </ol>\n",
    "<p></p>"
   ]
  },
  {
   "cell_type": "markdown",
   "id": "9940d475-642d-4b5c-be09-c8a677fca9a3",
   "metadata": {},
   "source": [
    "<hr style=\"height:2px;border:none;\">\n",
    "<b style = 'font-size:20px;font-family:Arial'>Conclusion</b>"
   ]
  },
  {
   "cell_type": "markdown",
   "id": "dfd41e8b-9950-4c91-a69e-53086308f5b0",
   "metadata": {},
   "source": [
    "<p style = 'font-size:16px;font-family:Arial'>Teradata's AutoML functionality plays a crucial role in this context by automating the complex process of building and deploying machine learning models. AutoML ensures the most optimal preparation and training of models, delivering high-quality machine learning models in minutes. Through hyperparameter tuning (HPT), Teradata's AutoML can automatically select the best parameters for machine learning algorithms using grid search and random search techniques, significantly enhancing model performance.\n",
    "<br><br>\n",
    "By leveraging Teradata's AutoML, companies can save time and reduce costs associated with manual model building and tuning. The technology not only improves the accuracy of predictive models but also democratizes the power of machine learning, allowing customers to utilize advanced analytics without requiring extensive coding or data science expertise. This capability enables companies to swiftly and effectively analyze patient data, develop predictive models, and implement proactive strategies to predict customer readmission.\n",
    "<br><br>\n",
    "In conclusion, Teradata's AutoML functionality is a vital tool for hospitals to predict readmission. By automating and optimizing the machine learning process, Teradata empowers various industries to make data-driven decisions that improve customer retention and drive long-term profitability.</p>"
   ]
  },
  {
   "cell_type": "markdown",
   "id": "e71ae2ad-3834-426c-beed-509dc62cafc0",
   "metadata": {},
   "source": [
    "<hr style=\"height:2px;border:none;\">\n",
    "<b style = 'font-size:20px;font-family:Arial'>5. Cleanup</b></p>\n"
   ]
  },
  {
   "cell_type": "markdown",
   "id": "de6b4f58-312e-43dc-8907-b3dd97361916",
   "metadata": {},
   "source": [
    "<p style = 'font-size:18px;font-family:Arial'><b>Databases and Tables</b></p>\n",
    "<p style = 'font-size:16px;font-family:Arial'>The following code will clean up tables and databases created above.</p>"
   ]
  },
  {
   "cell_type": "code",
   "execution_count": null,
   "id": "fbd6d63d-744c-4a81-b62e-45f8523f7541",
   "metadata": {},
   "outputs": [],
   "source": [
    "%run -i ../run_procedure.py \"call remove_data('DEMO_HospitalReadmission');\" \n",
    "#Takes 45 seconds"
   ]
  },
  {
   "cell_type": "code",
   "execution_count": null,
   "id": "88563732-0cb0-49dc-8a24-2a5a86094751",
   "metadata": {},
   "outputs": [],
   "source": [
    "remove_context()"
   ]
  },
  {
   "cell_type": "markdown",
   "id": "d9532886-9664-4c34-871c-cccacec9f0fc",
   "metadata": {},
   "source": [
    "<hr style=\"height:2px;border:none;\">\n",
    "<b style = 'font-size:20px;font-family:Arial'>Required Materials</b>\n",
    "<p style = 'font-size:16px;font-family:Arial'>Let’s look at the elements we have available for reference for this notebook:</p>\n",
    "<p style = 'font-size:18px;font-family:Arial'><b>Filters:</b></p>\n",
    "    <ul style = 'font-size:16px;font-family:Arial'>\n",
    "    <li><b>Industry:</b> HealthCare</li>\n",
    "    <li><b>Functionality:</b>AutoML</li>\n",
    "    <li><b>Use Case:</b> Patient Readmission</li>\n",
    "    </ul>\n",
    "    <p style = 'font-size:18px;font-family:Arial'><b>Related Resources:</b></p>\n",
    "    <ul style = 'font-size:16px;font-family:Arial'>\n",
    "    <li><a href = 'https://www.teradata.com/Blogs/NPS-is-a-metric-not-the-goal'>·In the fight to improve customer experience, NPS is a metric, not the goal</a></li>\n",
    "    <li><a href = 'https://www.teradata.com/Blogs/Hyper-scale-time-series-forecasting-done-right'>·Hyper-scale time series forecasting done right</a></li>\n",
    "    <li><a href = 'https://www.teradata.com/Resources/Datasheets/Digital-Identity-Management-and-Great-CX?utm_campaign=i_coremedia-AMS&utm_source=google&utm_medium=paidsearch&utm_content=GS_CoreMedia_NA-US_BKW&utm_creative=Brand-Vantage&utm_term=teradata%20analytic%20platform&gclid=Cj0KCQjwnMWkBhDLARIsAHBOftrWZxDktHkKMsaWjMmNRnQ6Ys-bZBAUhXjWTo1Xa02fsci-IHWBV_waAppkEALw_wcB'>·Close the Gap Between Digital Identity Management and Great Customer Experiences</a></li>\n",
    "        </ul>"
   ]
  },
  {
   "cell_type": "markdown",
   "id": "665c0e2e-f094-4d3a-bc13-d0f3652f4106",
   "metadata": {},
   "source": [
    "<p style = 'font-size:18px;font-family:Arial'><b>Reference Links:</b></p>\n",
    "<ul style = 'font-size:16px;font-family:Arial'> \n",
    "       <li>Teradata Vantage™ - Analytics Database Analytic Functions - 17.20: <a href = 'https://docs.teradata.com/r/Enterprise_IntelliFlex_VMware/Teradata-VantageTM-Analytics-Database-Analytic-Functions-17.20/Introduction-to-Analytics-Database-Analytic-Functions '>https://docs.teradata.com/r/Enterprise_IntelliFlex_VMware/Teradata-VantageTM-Analytics-Database-Analytic-Functions-17.20/Introduction-to-Analytics-Database-Analytic-Functions </a></li>    \n",
    "  <li>Teradata® Package for Python User Guide - 17.20: <a href = 'https://docs.teradata.com/r/Enterprise_IntelliFlex_VMware/Teradata-Package-for-Python-User-Guide-17.20/Introduction-to-Teradata-Package-for-Python'>https://docs.teradata.com/r/Enterprise_IntelliFlex_VMware/Teradata-Package-for-Python-User-Guide-17.20/Introduction-to-Teradata-Package-for-Python</a></li>\n",
    "  <li>Teradata® Package for Python Function Reference - 17.20: <a href = 'https://docs.teradata.com/r/Enterprise/Teradata-Package-for-Python-Function-Reference-17.20/Teradata-Package-for-Python-Function-Reference'>https://docs.teradata.com/r/Enterprise/Teradata-Package-for-Python-Function-Reference-17.20/Teradata-Package-for-Python-Function-Reference</a></li>      \n",
    "</ul>"
   ]
  },
  {
   "cell_type": "markdown",
   "id": "afb9d964-96fd-45be-9c1d-c9ede398e9a8",
   "metadata": {},
   "source": [
    "<b style = 'font-size:18px;font-family:Arial'>Dataset:</b>\n",
    "<ul style = 'font-size:14px;font-family:Arial'>\n",
    "    <li><strong>age</strong>: Age bracket of the patient (e.g., [70-80)).</li>\n",
    "    <li><strong>time_in_hospital</strong>: Days spent in the hospital (from 1 to 14).</li>\n",
    "    <li><strong>n_procedures</strong>: Number of procedures performed during the hospital stay.</li>\n",
    "    <li><strong>n_lab_procedures</strong>: Number of laboratory procedures performed during the hospital stay.</li>\n",
    "    <li><strong>n_medications</strong>: Number of medications administered during the hospital stay.</li>\n",
    "    <li><strong>n_outpatient</strong>: Number of outpatient visits in the year before the hospital stay.</li>\n",
    "    <li><strong>n_inpatient</strong>: Number of inpatient visits in the year before the hospital stay.</li>\n",
    "    <li><strong>n_emergency</strong>: Number of visits to the emergency room in the year before the hospital stay.</li>\n",
    "    <li><strong>medical_specialty</strong>: The specialty of the admitting physician (e.g., Missing, Cardiology).</li>\n",
    "    <li><strong>diag_1</strong>: Primary diagnosis (e.g., Circulatory, Respiratory, Digestive).</li>\n",
    "    <li><strong>diag_2</strong>: Secondary diagnosis.</li>\n",
    "    <li><strong>diag_3</strong>: Additional secondary diagnosis.</li>\n",
    "    <li><strong>glucose_test</strong>: Whether the glucose serum result was high (> 200), normal, or not performed.</li>\n",
    "    <li><strong>A1Ctest</strong>: Whether the A1C level was high (> 7%), normal, or not performed.</li>\n",
    "    <li><strong>change</strong>: Whether there was a change in the diabetes medication ('yes' or 'no').</li>\n",
    "    <li><strong>diabetes_med</strong>: Whether a diabetes medication was prescribed ('yes' or 'no').</li>\n",
    "    <li><strong>readmitted</strong>: Whether the patient was readmitted at the hospital ('yes' or 'no').</li></ul>"
   ]
  },
  {
   "cell_type": "markdown",
   "id": "6a110552-d0f8-4c70-85a1-dd9f805cab9d",
   "metadata": {},
   "source": [
    "<footer style=\"padding-bottom:35px; border-bottom:3px solid #91A0Ab\">\n",
    "    <div style=\"float:left;margin-top:14px\">ClearScape Analytics™</div>\n",
    "    <div style=\"float:right;\">\n",
    "        <div style=\"float:left; margin-top:14px\">\n",
    "            Copyright © Teradata Corporation - 2025. All Rights Reserved\n",
    "        </div>\n",
    "    </div>\n",
    "</footer>"
   ]
  }
 ],
 "metadata": {
  "kernelspec": {
   "display_name": "Python 3 (ipykernel)",
   "language": "python",
   "name": "python3"
  },
  "language_info": {
   "codemirror_mode": {
    "name": "ipython",
    "version": 3
   },
   "file_extension": ".py",
   "mimetype": "text/x-python",
   "name": "python",
   "nbconvert_exporter": "python",
   "pygments_lexer": "ipython3",
   "version": "3.9.10"
  }
 },
 "nbformat": 4,
 "nbformat_minor": 5
}
