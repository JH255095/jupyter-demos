{
 "cells": [
  {
   "cell_type": "markdown",
   "id": "fc92e86f-c5a7-499d-89e2-49046aa01be7",
   "metadata": {},
   "source": [
    "<header>\n",
    "   <p  style='font-size:36px;font-family:Arial; color:#F0F0F0; background-color: #00233c; padding-left: 20pt; padding-top: 20pt;padding-bottom: 10pt; padding-right: 20pt;'>\n",
    "       Experience-Bot: Quickly find your demos of interest by just typing\n",
    "  <br>\n",
    "       <img id=\"teradata-logo\" src=\"https://storage.googleapis.com/clearscape_analytics_demo_data/DEMO_Logo/teradata.svg\" alt=\"Teradata\" style=\"width: 125px; height: auto; margin-top: 20pt;\">\n",
    "    </p>\n",
    "</header>"
   ]
  },
  {
   "cell_type": "markdown",
   "id": "d6c42cf3-ab6f-480d-943e-75be813f912b",
   "metadata": {},
   "source": [
    "<hr style=\"height:2px;border:none;\">\n",
    "\n",
    "<p style = 'font-size:20px;font-family:Arial'><b>1. Install required libraries</b></p>"
   ]
  },
  {
   "cell_type": "code",
   "execution_count": null,
   "id": "d74eee36-e3e8-42ca-9253-4e5ce8178c7b",
   "metadata": {},
   "outputs": [],
   "source": [
    "%%capture\n",
    "\n",
    "!pip install openai langchain langchain-openai langchain-community requests faiss-cpu panel==1.3.4"
   ]
  },
  {
   "cell_type": "markdown",
   "id": "87d04ebc-4e5c-4e11-8094-fef11cf0b017",
   "metadata": {},
   "source": [
    "<div class=\"alert alert-block alert-info\">\n",
    "    <p style='font-size:16px;font-family:Arial'><b>Note:</b> Please restart the kernel. The simplest way is by typing <b>0 0</b> (zero zero) and then pressing <i><b>enter</b></i></p>\n",
    "</div>"
   ]
  },
  {
   "cell_type": "code",
   "execution_count": null,
   "id": "98cfddce-a2b3-4d7d-aae4-1f2dbc463022",
   "metadata": {},
   "outputs": [],
   "source": [
    "import os\n",
    "print(\"Current directory:\", os.path.join(os.getcwd(), 'ExperienceBot'))\n",
    "\n",
    "import sys\n",
    "sys.path.append(os.path.join(os.getcwd(), 'ExperienceBot'))"
   ]
  },
  {
   "cell_type": "markdown",
   "id": "04cfe436-e5f5-436e-bf24-abf3dc507cc9",
   "metadata": {},
   "source": [
    "<hr style=\"height:2px;border:none;\">\n",
    "\n",
    "<p style = 'font-size:20px;font-family:Arial'><b>2. Enter the OpenAI key and start Chatbot</b></p>"
   ]
  },
  {
   "cell_type": "code",
   "execution_count": null,
   "id": "3222e2a9-bef6-4173-8011-0ca78908d4c0",
   "metadata": {},
   "outputs": [],
   "source": [
    "import getpass\n",
    "import os\n",
    "\n",
    "if not os.getenv(\"OPENAI_API_KEY\"):\n",
    "    os.environ[\"OPENAI_API_KEY\"] = getpass.getpass(\"Enter your OpenAI API key: \")"
   ]
  },
  {
   "cell_type": "code",
   "execution_count": null,
   "id": "5f3fa2bc-686e-453d-852c-e1fa6aa63efb",
   "metadata": {},
   "outputs": [],
   "source": [
    "# Import your module\n",
    "from chat_helper import get_chat_ui\n",
    "\n",
    "get_chat_ui()"
   ]
  },
  {
   "cell_type": "markdown",
   "id": "1f135d10-d5bc-4710-b994-68ec7175e9d2",
   "metadata": {},
   "source": [
    "<div class=\"alert alert-block alert-info\">\n",
    "    <p style = 'font-size:16px;font-family:Arial'><b>Note: </b><i>To ensure that the Chatbot interface reflects the latest changes, please reload the page by clicking the 'Reload' button or pressing F5 on your keyboard for <b>first-time only</b> This will update the notebook with the latest modifications, and you'll be able to interact with the Chatbot using the new libraries.</i></p>\n",
    "    </div>"
   ]
  },
  {
   "cell_type": "markdown",
   "id": "f443eeaf-b913-4dd4-839b-e950b228a3c5",
   "metadata": {},
   "source": [
    "<hr style=\"height:2px;border:none;\">\n",
    "<p style = 'font-size:20px;font-family:Arial'><b>3. You can try your own question</b></p>\n",
    "\n",
    "\n",
    "<p style = 'font-size:16px;font-family:Arial'>Here are some sample questions that you can try out:</p>\n",
    "\n",
    "<ol style = 'font-size:16px;font-family:Arial'>\n",
    "    <li>How VectorDistance works?</li>\n",
    "    <li>What is Script table operator?</li>\n",
    "    <li>Give me demos which have AWS Bedrock?</li>\n",
    "    <li>What is GEOSEQUENCE? Show me some examples</li>\n",
    "    <li>Which notebooks are using OpenAI?</li>\n",
    "    <li>Which notebooks are about fraud detection?</li>\n",
    "    <li>How to use TDApiClient to generate the embeddings?</li>\n",
    "    <li>Show me demo for Broken digital Journey?</li>\n",
    "</ol>"
   ]
  },
  {
   "cell_type": "markdown",
   "id": "2fc3a070-33cf-4787-8c66-cc221075fdd5",
   "metadata": {},
   "source": [
    "<footer style=\"padding-bottom:35px; border-bottom:3px solid #91A0Ab\">\n",
    "    <div style=\"float:left;margin-top:14px\">ClearScape Analytics™</div>\n",
    "    <div style=\"float:right;\">\n",
    "        <div style=\"float:left; margin-top:14px\">\n",
    "            Copyright © Teradata Corporation - 2025. All Rights Reserved\n",
    "        </div>\n",
    "    </div>\n",
    "</footer>"
   ]
  }
 ],
 "metadata": {
  "kernelspec": {
   "display_name": "Python 3 (ipykernel)",
   "language": "python",
   "name": "python3"
  },
  "language_info": {
   "codemirror_mode": {
    "name": "ipython",
    "version": 3
   },
   "file_extension": ".py",
   "mimetype": "text/x-python",
   "name": "python",
   "nbconvert_exporter": "python",
   "pygments_lexer": "ipython3",
   "version": "3.9.10"
  }
 },
 "nbformat": 4,
 "nbformat_minor": 5
}
