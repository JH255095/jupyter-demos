{
 "cells": [
  {
   "cell_type": "markdown",
   "id": "fc92e86f-c5a7-499d-89e2-49046aa01be7",
   "metadata": {},
   "source": [
    "<header>\n",
    "   <p  style='font-size:36px;font-family:Arial; color:#F0F0F0; background-color: #00233c; padding-left: 20pt; padding-top: 20pt;padding-bottom: 10pt; padding-right: 20pt;'>\n",
    "       Experience-Bot: Quickly find your demos of interest by just typing\n",
    "  <br>\n",
    "       <img id=\"teradata-logo\" src=\"https://storage.googleapis.com/clearscape_analytics_demo_data/DEMO_Logo/teradata.svg\" alt=\"Teradata\" style=\"width: 125px; height: auto; margin-top: 20pt;\">\n",
    "    </p>\n",
    "</header>"
   ]
  },
  {
   "cell_type": "markdown",
   "id": "d6c42cf3-ab6f-480d-943e-75be813f912b",
   "metadata": {},
   "source": [
    "<hr style=\"height:2px;border:none;\">\n",
    "\n",
    "<p style = 'font-size:20px;font-family:Arial'><b>1. Install required libraries</b></p>"
   ]
  },
  {
   "cell_type": "markdown",
   "id": "6b2b7b3c-fd5e-4ede-91c6-ff53eabf34c2",
   "metadata": {},
   "source": [
    "<p style = 'font-size:16px;font-family:Arial'>If you would like to use The Experience Chatbot it is available by clicking the button below:</p>"
   ]
  },
  {
   "cell_type": "markdown",
   "id": "c9f1854f-01bb-4294-b6d7-36c97512a155",
   "metadata": {},
   "source": [
    "<a href=https://chatbot.ci.clearscape.teradata.com/ style=\"display: inline-flex; align-items: center; justify-content: center; background-color: #017373; color: #FFFFFF; font-family: Arial, sans-serif; font-size: 16px; font-weight: bold; text-decoration: none; padding: 12px 24px; border: none; border-radius: 8px; box-shadow: 0 4px 6px rgba(0, 0, 0, 0.1); cursor: pointer; transition: all 0.3s ease;\">\n",
    "  LAUNCH EXPERIENCE BOT\n",
    "  <img src=https://img.icons8.com/ios-filled/50/ffffff/external-link.png alt=\"External Link Icon\" style=\"margin-left: 8px; width: 20px; height: 20px;\">\n",
    "</a>"
   ]
  },
  {
   "cell_type": "markdown",
   "id": "f443eeaf-b913-4dd4-839b-e950b228a3c5",
   "metadata": {},
   "source": [
    "<hr style=\"height:2px;border:none;\">\n",
    "<p style = 'font-size:20px;font-family:Arial'><b>2. You can try your own question</b></p>\n",
    "\n",
    "\n",
    "<p style = 'font-size:16px;font-family:Arial'>Here are some sample questions that you can try out:</p>\n",
    "\n",
    "<ol style = 'font-size:16px;font-family:Arial'>\n",
    "    <li>How VectorDistance works?</li>\n",
    "    <li>What is Script table operator?</li>\n",
    "    <li>Give me demos which have AWS Bedrock?</li>\n",
    "    <li>What is GEOSEQUENCE? Show me some examples</li>\n",
    "    <li>Which notebooks are using OpenAI?</li>\n",
    "    <li>Which notebooks are about fraud detection?</li>\n",
    "    <li>How to use TDApiClient to generate the embeddings?</li>\n",
    "    <li>Show me demo for Broken digital Journey?</li>\n",
    "</ol>"
   ]
  },
  {
   "cell_type": "markdown",
   "id": "2fc3a070-33cf-4787-8c66-cc221075fdd5",
   "metadata": {},
   "source": [
    "<footer style=\"padding-bottom:35px; border-bottom:3px solid #91A0Ab\">\n",
    "    <div style=\"float:left;margin-top:14px\">ClearScape Analytics™</div>\n",
    "    <div style=\"float:right;\">\n",
    "        <div style=\"float:left; margin-top:14px\">\n",
    "            Copyright © Teradata Corporation - 2025. All Rights Reserved\n",
    "        </div>\n",
    "    </div>\n",
    "</footer>"
   ]
  }
 ],
 "metadata": {
  "kernelspec": {
   "display_name": "Python 3 (ipykernel)",
   "language": "python",
   "name": "python3"
  },
  "language_info": {
   "codemirror_mode": {
    "name": "ipython",
    "version": 3
   },
   "file_extension": ".py",
   "mimetype": "text/x-python",
   "name": "python",
   "nbconvert_exporter": "python",
   "pygments_lexer": "ipython3",
   "version": "3.9.10"
  }
 },
 "nbformat": 4,
 "nbformat_minor": 5
}
