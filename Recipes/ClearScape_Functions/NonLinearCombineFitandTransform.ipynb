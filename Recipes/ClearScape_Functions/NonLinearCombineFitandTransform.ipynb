{
 "cells": [
  {
   "cell_type": "markdown",
   "id": "54e433c3-bee2-408e-ba20-65275aa3729c",
   "metadata": {},
   "source": [
    "<header>\n",
    "   <p  style='font-size:36px;font-family:Arial; color:#F0F0F0; background-color: #00233c; padding-left: 20pt; padding-top: 20pt;padding-bottom: 10pt; padding-right: 20pt;'>\n",
    "       NonLinearCombineFit and NonLinearCombineTransform function in Vantage\n",
    "  <br>\n",
    "       <img id=\"teradata-logo\" src=\"https://storage.googleapis.com/clearscape_analytics_demo_data/DEMO_Logo/teradata.svg\" alt=\"Teradata\" style=\"width: 125px; height: auto; margin-top: 20pt;\">\n",
    "    </p>\n",
    "</header>"
   ]
  },
  {
   "cell_type": "markdown",
   "id": "31f7c9e9-1596-413b-989f-1ca2edf58bbd",
   "metadata": {},
   "source": [
    "<p style = 'font-size:20px;font-family:Arial;color:#00233C'><b>Introduction</b></p>\n",
    "<p style = 'font-size:16px;font-family:Arial;color:#00233C'>The NonLinearCombineFit function returns the target columns and a \n",
    "    specified formula which uses the non-linear combination of existing features.\n",
    "    The NonLinearCombineTransform function generates a new feature\n",
    "    by taking a non-linear combination of existing features using the\n",
    "    parameters from the output of NonLinearCombineFit function.\n",
    "<br> In this notebook we will see how we can use the NonLinearCombineFit and NonLinearCombineTransform functions available in Vantage to create new feature columns in dataset.</p>"
   ]
  },
  {
   "cell_type": "markdown",
   "id": "2932facf-7d44-4cc2-a3c8-cf5b14c4bddf",
   "metadata": {},
   "source": [
    "<hr style=\"height:2px;border:none;background-color:#00233C;\">\n",
    "<b style = 'font-size:20px;font-family:Arial;color:#00233C'>1. Initiate a connection to Vantage</b>"
   ]
  },
  {
   "cell_type": "code",
   "execution_count": null,
   "id": "1116832a-b3c2-47bb-bec9-c7c8705d1621",
   "metadata": {},
   "outputs": [],
   "source": [
    "from teradataml import *\n",
    "\n",
    "# Modify the following to match the specific client environment settings\n",
    "display.max_rows = 5"
   ]
  },
  {
   "cell_type": "markdown",
   "id": "66de1f61-a717-4bd3-b161-02faec3e80a6",
   "metadata": {},
   "source": [
    "<hr style=\"height:1px;border:none;background-color:#00233C;\">\n",
    "<p style = 'font-size:18px;font-family:Arial;color:#00233c'><b>1.1 Connect to Vantage</b></p>\n",
    "<p style = 'font-size:16px;font-family:Arial;color:#00233C'>You will be prompted to provide the password. Enter your password, press the Enter key, and then use the down arrow to go to the next cell.</p>"
   ]
  },
  {
   "cell_type": "code",
   "execution_count": null,
   "id": "b57194e9-32ee-42dc-8fe2-c25d38d8a603",
   "metadata": {},
   "outputs": [],
   "source": [
    "%run -i ../../UseCases/startup.ipynb\n",
    "eng = create_context(host = 'host.docker.internal', username='demo_user', password = password)\n",
    "print(eng)"
   ]
  },
  {
   "cell_type": "code",
   "execution_count": null,
   "id": "b8075c1c-8ca8-4b61-8fe8-9db562caf45a",
   "metadata": {},
   "outputs": [],
   "source": [
    "%%capture\n",
    "execute_sql('''SET query_band='DEMO=PP_NonLinearCombineFitandTransform_Python.ipynb;' UPDATE FOR SESSION; ''')"
   ]
  },
  {
   "cell_type": "markdown",
   "id": "55d29395-10fa-49c7-888c-86b801300964",
   "metadata": {},
   "source": [
    "<p style = 'font-size:16px;font-family:Arial;color:#00233C'>Begin running steps with Shift + Enter keys. </p>"
   ]
  },
  {
   "cell_type": "markdown",
   "id": "131e5ea4-0ab5-4be8-8b8e-1dde8c91811f",
   "metadata": {},
   "source": [
    "<hr style='height:1px;border:none;background-color:#00233C;'>\n",
    "\n",
    "<p style = 'font-size:18px;font-family:Arial;color:#00233c'><b>1.2 Getting Data for This Demo</b></p>\n",
    "\n",
    "<p style = 'font-size:16px;font-family:Arial;color:#00233C'>We have provided data for this demo on cloud storage. You can either run the demo using foreign tables to access the data without any storage on your environment or download the data to local storage, which may yield faster execution. Still, there could be considerations of available storage. Two statements are in the following cell, and one is commented out. You may switch which mode you choose by changing the comment string.</p>"
   ]
  },
  {
   "cell_type": "code",
   "execution_count": null,
   "id": "5143604d-87e6-48b2-be00-3c9f0a8a2760",
   "metadata": {},
   "outputs": [],
   "source": [
    "%run -i ../../UseCases/run_procedure.py \"call get_data('DEMO_TitanicSurvival_cloud');\"        # Takes 30 seconds\n",
    "#%run -i ../../UseCases/run_procedure.py \"call get_data('DEMO_TitanicSurvival_local');\" "
   ]
  },
  {
   "cell_type": "markdown",
   "id": "40aa476b-cb30-4670-8b93-9687f2baf4c3",
   "metadata": {},
   "source": [
    "<p style = 'font-size:16px;font-family:Arial;color:#00233C'>Next is an optional step – if you want to see the status of databases/tables created and space used.</p>"
   ]
  },
  {
   "cell_type": "code",
   "execution_count": null,
   "id": "63060950-9123-409d-8add-43a1ddd8e9d4",
   "metadata": {},
   "outputs": [],
   "source": [
    "%run -i ../../UseCases/run_procedure.py \"call space_report();\"        # Takes 10 seconds"
   ]
  },
  {
   "cell_type": "markdown",
   "id": "a00c37dd-1f29-4a74-b5bc-3c9a26591d1b",
   "metadata": {},
   "source": [
    "<hr style=\"height:2px;border:none;background-color:#00233C;\">\n",
    "<b style = 'font-size:20px;font-family:Arial;color:#00233C'>2. Data Exploration</b>\n",
    "<p style = 'font-size:16px;font-family:Arial;color:#00233C'>Create a \"Virtual DataFrame\" that points to the data set in Vantage. Check the shape of the dataframe as check the datatype of all the columns of the dataframe.</p>"
   ]
  },
  {
   "cell_type": "code",
   "execution_count": null,
   "id": "c363cda2-738c-4a43-b4c4-2eda23a696ca",
   "metadata": {},
   "outputs": [],
   "source": [
    "tdf = DataFrame(in_schema(\"DEMO_TitanicSurvival\", \"Passenger_Data\"))\n",
    "print(\"Shape of the data: \", tdf.shape)\n",
    "tdf"
   ]
  },
  {
   "cell_type": "code",
   "execution_count": null,
   "id": "95716252-fec3-46cb-af3f-865ad50970cf",
   "metadata": {},
   "outputs": [],
   "source": [
    "tdf.tdtypes"
   ]
  },
  {
   "cell_type": "markdown",
   "id": "ff549e68-0f7d-4348-871b-25a0cb091cce",
   "metadata": {},
   "source": [
    "<p style = 'font-size:16px;font-family:Arial;color:#00233C'>This notebook demonstrates the use of `teradataml` to analyze Titanic passenger data and calculate a derived feature called the `luxury_score`. The `luxury_score` is a non-linear combination of family size, ticket fare, and passenger class, providing insights into passenger profiles.\n",
    "</p>"
   ]
  },
  {
   "cell_type": "code",
   "execution_count": null,
   "id": "0aaf5aea-87c8-44cd-8f47-7deaa12065b6",
   "metadata": {},
   "outputs": [],
   "source": [
    "help(NonLinearCombineFit)"
   ]
  },
  {
   "cell_type": "code",
   "execution_count": null,
   "id": "909757c1-1ebc-4035-8282-e8f9ad7c3d4c",
   "metadata": {},
   "outputs": [],
   "source": [
    "# Fit the formula to calculate luxury_score\n",
    "fit_result = NonLinearCombineFit(\n",
    "    data=tdf,\n",
    "    target_columns=[\"sibsp\", \"parch\", \"fare\", \"pclass\"],\n",
    "    formula=\"Y=(X0 + X1 + 1) * (X2 + X3 * 10)\",\n",
    "    result_column=\"luxury_score\"\n",
    ")"
   ]
  },
  {
   "cell_type": "markdown",
   "id": "e48cf5e8-de5a-420a-9ddb-e7e42b03204c",
   "metadata": {},
   "source": [
    "<p style = 'font-size:16px;font-family:Arial;color:#00233C'>Use the fitted model to calculate the `luxury_score` for each passenger.\n",
    "</p>"
   ]
  },
  {
   "cell_type": "code",
   "execution_count": null,
   "id": "e6a33f83-8c20-4c0a-98a9-358a8bdc3227",
   "metadata": {},
   "outputs": [],
   "source": [
    "help(NonLinearCombineTransform)"
   ]
  },
  {
   "cell_type": "code",
   "execution_count": null,
   "id": "5d2e9403-2c03-401d-88b5-338394909580",
   "metadata": {},
   "outputs": [],
   "source": [
    "# Transform and add the luxury_score column\n",
    "transformed_data = NonLinearCombineTransform(\n",
    "    data=tdf,\n",
    "    object=fit_result,\n",
    "    accumulate=[\"passenger\", \"passengername\", \"fare\", \"pclass\", \"sibsp\", \"parch\"]\n",
    ")"
   ]
  },
  {
   "cell_type": "markdown",
   "id": "43235c4c-b4cd-4bf7-9dc1-a417ef7e0dea",
   "metadata": {},
   "source": [
    "<p style = 'font-size:16px;font-family:Arial;color:#00233C'>The resulting DataFrame includes the calculated `luxury_score` column.\n",
    "</p>"
   ]
  },
  {
   "cell_type": "code",
   "execution_count": null,
   "id": "42cb8945-8f88-4e7c-84a7-361a581f8f70",
   "metadata": {},
   "outputs": [],
   "source": [
    "# Print the transformed DataFrame\n",
    "transformed_data.result"
   ]
  },
  {
   "cell_type": "markdown",
   "id": "9ecc2c45-8a22-47b5-a74e-55f79b869e09",
   "metadata": {},
   "source": [
    "<hr style=\"height:2px;border:none;background-color:#00233C;\">\n",
    "<b style = 'font-size:20px;font-family:Arial;color:#00233C'>2. Cleanup</b>"
   ]
  },
  {
   "cell_type": "markdown",
   "id": "1ab5c079-4cf5-47b0-b871-c55a4f47e6b6",
   "metadata": {},
   "source": [
    "<hr style=\"height:1px;border:none;background-color:#00233C;\">\n",
    "<p style = 'font-size:18px;font-family:Arial;color:#00233C'> <b>Databases and Tables </b></p>\n",
    "<p style = 'font-size:16px;font-family:Arial;color:#00233C'>The following code will clean up tables and databases created above.</p>"
   ]
  },
  {
   "cell_type": "code",
   "execution_count": null,
   "id": "473bc35a-957d-44cd-a2a4-f379ab437612",
   "metadata": {},
   "outputs": [],
   "source": [
    "%run -i ../../UseCases/run_procedure.py \"call remove_data('DEMO_TitanicSurvival');\"        # Takes 10 seconds"
   ]
  },
  {
   "cell_type": "code",
   "execution_count": null,
   "id": "d0814692-2cb5-445d-a35e-4cf32917a368",
   "metadata": {},
   "outputs": [],
   "source": [
    "remove_context()"
   ]
  },
  {
   "cell_type": "markdown",
   "id": "558ae23d-71e5-4287-9708-73ca161674f2",
   "metadata": {},
   "source": [
    "<hr style=\"height:1px;border:none;background-color:#00233C;\">\n",
    "<p style = 'font-size:16px;font-family:Arial;color:#00233C'><b>Links:</b></p>\n",
    "<ul style = 'font-size:16px;font-family:Arial'>\n",
    "    <li>Teradataml Python reference: <a href = 'https://docs.teradata.com/search/all?query=Python+Package+User+Guide&content-lang=en-US'>here</a></li>\n",
    "    <li>NonLinearCombineFit function reference: <a href = 'https://docs.teradata.com/search/all?query=NonLinearCombineFit&value-filters=prodname~%2522Teradata+Package+for+Python%2522*vrm_release~%252220.00.00.03%2522&content-lang=en-US'>here</a></li>\n",
    "    <li>NonLinearCombineTransform function reference: <a href = 'https://docs.teradata.com/search/all?query=NonLinearCombineTransform&value-filters=prodname~%2522Teradata+Package+for+Python%2522*vrm_release~%252220.00.00.03%2522&content-lang=en-US'>here</a></li>\n",
    "</ul>"
   ]
  },
  {
   "cell_type": "markdown",
   "id": "e9ca6f84-9c1d-436f-8dce-31c219be90cb",
   "metadata": {},
   "source": [
    "<footer style=\"padding-bottom:35px; background:#f9f9f9; border-bottom:3px solid #00233C\">\n",
    "    <div style=\"float:left;margin-top:14px\">ClearScape Analytics™</div>\n",
    "    <div style=\"float:right;\">\n",
    "        <div style=\"float:left; margin-top:14px\">\n",
    "            Copyright © Teradata Corporation - 2025. All Rights Reserved\n",
    "        </div>\n",
    "    </div>\n",
    "</footer>"
   ]
  }
 ],
 "metadata": {
  "kernelspec": {
   "display_name": "Python 3 (ipykernel)",
   "language": "python",
   "name": "python3"
  },
  "language_info": {
   "codemirror_mode": {
    "name": "ipython",
    "version": 3
   },
   "file_extension": ".py",
   "mimetype": "text/x-python",
   "name": "python",
   "nbconvert_exporter": "python",
   "pygments_lexer": "ipython3",
   "version": "3.9.10"
  }
 },
 "nbformat": 4,
 "nbformat_minor": 5
}
