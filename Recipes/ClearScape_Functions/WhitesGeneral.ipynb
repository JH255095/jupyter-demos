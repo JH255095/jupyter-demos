{
 "cells": [
  {
   "cell_type": "markdown",
   "id": "bc549e6c-0cc4-4188-94a3-a9bdd3ae3dfa",
   "metadata": {},
   "source": [
    "<header>\n",
    "   <p  style='font-size:36px;font-family:Arial; color:#F0F0F0; background-color: #00233c; padding-left: 20pt; padding-top: 20pt;padding-bottom: 10pt; padding-right: 20pt;'>\n",
    "       WhitesGeneral function in Vantage\n",
    "  <br>\n",
    "       <img id=\"teradata-logo\" src=\"https://storage.googleapis.com/clearscape_analytics_demo_data/DEMO_Logo/teradata.svg\" alt=\"Teradata\" style=\"width: 125px; height: auto; margin-top: 20pt;\">\n",
    "    </p>\n",
    "</header>"
   ]
  },
  {
   "cell_type": "markdown",
   "id": "7ae7611a-0795-4168-b716-01fee6880cbd",
   "metadata": {},
   "source": [
    "<p style = 'font-size:20px;font-family:Arial;color:#00233C'><b>Introduction</b></p>\n",
    "<p style = 'font-size:16px;font-family:Arial;color:#00233C'> The WhitesGeneral() function checks for the presence of correlation among the residual terms after running a regression. The function determines if there exists any heteroscedastic variance in the residuals of regression tests. The output specifies the following:</p>\n",
    "<li style = 'font-size:16px;font-family:Arial;color:#00233C'><code>'ACCEPT'</code> means the null hypothesis is accepted, and there is homoscedasticity variance evident.</li>\n",
    "<li style = 'font-size:16px;font-family:Arial;color:#00233C'><code>'REJECT'</code> means the null hypothesis is rejected, and there is evidence of heteroscedasticity.</li></p>\n",
    " \n",
    "<p style = 'font-size:16px;font-family:Arial;color:#00233C'>The Whites-General test does not require reordering like the Goldfeld-Quandt test, and is not sensitive to the normal distribution assumption like the Breusch-Pagan-Godfrey test.</p>\n",
    " \n",
    "<p style = 'font-size:16px;font-family:Arial;color:#00233C'>The following procedure is an example of how to use WhitesGeneral() function:</p>\n",
    "<li style = 'font-size:16px;font-family:Arial;color:#00233C'>Use the function MultivarRegr() for regression testing.</li>\n",
    "<li style = 'font-size:16px;font-family:Arial;color:#00233C'>Use WhitesGeneral() on the residual output from MultivarRegr().</li>\n",
    "<li style = 'font-size:16px;font-family:Arial;color:#00233C'>Determine if the variance is homoscedastic or heteroscedastic from the WhitesGeneral() result.</li>\n",
    "</p>\n"
   ]
  },
  {
   "cell_type": "markdown",
   "id": "6b3a00b4-6661-4c91-9b2d-cb7b0b403140",
   "metadata": {},
   "source": [
    "<hr style=\"height:2px;border:none;background-color:#00233C;\">\n",
    "<b style = 'font-size:20px;font-family:Arial;color:#00233C'>1. Initiate a connection to Vantage</b>"
   ]
  },
  {
   "cell_type": "markdown",
   "id": "2346857f-e0d3-488a-8a3f-ac6dff752c2b",
   "metadata": {},
   "source": [
    "<p style = 'font-size:16px;font-family:Arial;color:#00233C'>In the section, we import the required libraries and set environment variables and environment paths (if required)."
   ]
  },
  {
   "cell_type": "code",
   "execution_count": null,
   "id": "c5af5af3-29d5-4f6a-8334-9df6924e7787",
   "metadata": {},
   "outputs": [],
   "source": [
    "from teradataml import (\n",
    "    create_context,\n",
    "    execute_sql,\n",
    "    load_example_data,\n",
    "    DataFrame,\n",
    "    in_schema,\n",
    "    TDSeries,\n",
    "    MultivarRegr,\n",
    "    TDAnalyticResult,\n",
    "    WhitesGeneral,\n",
    "    Figure,\n",
    "    plot,\n",
    "    db_drop_view,\n",
    "    remove_context,\n",
    "    copy_to_sql,\n",
    "    db_drop_table\n",
    "    )\n",
    "\n",
    "from teradatasqlalchemy.types import *\n",
    "\n",
    "from teradataml import to_numeric\n",
    "# Modify the following to match the specific client environment settings\n",
    "display.max_rows = 5"
   ]
  },
  {
   "cell_type": "markdown",
   "id": "ad3dd7b4-831c-4fb3-ab71-719c8c99a71c",
   "metadata": {},
   "source": [
    "<hr style=\"height:1px;border:none;background-color:#00233C;\">\n",
    "<p style = 'font-size:18px;font-family:Arial;color:#00233c'><b>1.1 Connect to Vantage</b></p>\n",
    "<p style = 'font-size:16px;font-family:Arial;color:#00233C'>You will be prompted to provide the password. Enter your password, press the Enter key, and then use the down arrow to go to the next cell.</p>"
   ]
  },
  {
   "cell_type": "code",
   "execution_count": null,
   "id": "2742444c-4349-4b0f-b4e5-b068a8785cd9",
   "metadata": {},
   "outputs": [],
   "source": [
    "%run -i ../../UseCases/startup.ipynb\n",
    "eng = create_context(host = 'host.docker.internal', username='demo_user', password = password)\n",
    "print(eng)"
   ]
  },
  {
   "cell_type": "code",
   "execution_count": null,
   "id": "01c4a128-d106-46ea-8dee-34acc5abd29f",
   "metadata": {},
   "outputs": [],
   "source": [
    "%%capture\n",
    "execute_sql('''SET query_band='DEMO=PP_WhitesGeneral_Python.ipynb;' UPDATE FOR SESSION; ''')"
   ]
  },
  {
   "cell_type": "markdown",
   "id": "efe2fd2d-63ff-4278-9157-8b9110d682e8",
   "metadata": {},
   "source": [
    "<p style = 'font-size:16px;font-family:Arial;color:#00233C'>Begin running steps with Shift + Enter keys. </p>"
   ]
  },
  {
   "cell_type": "markdown",
   "id": "27b52186-de13-4866-b092-ba8b2659ce8f",
   "metadata": {},
   "source": [
    "<hr style='height:1px;border:none;background-color:#00233C;'>\n",
    "\n",
    "<p style = 'font-size:18px;font-family:Arial;color:#00233c'><b>1.2 Getting Data for This Demo</b></p>\n",
    "\n",
    "<p style = 'font-size:16px;font-family:Arial;color:#00233C'>Here, we will get the time series data which is available in the teradataml library and use the same to show the usage of the function.</p>"
   ]
  },
  {
   "cell_type": "code",
   "execution_count": null,
   "id": "da8c37ee-fbbb-4f84-abcc-0131b16a7d11",
   "metadata": {
    "tags": []
   },
   "outputs": [],
   "source": [
    "load_example_data(\"uaf\", [\"house_values\"])"
   ]
  },
  {
   "cell_type": "markdown",
   "id": "2a3762ac-ba27-4fa3-adba-d577262a4290",
   "metadata": {},
   "source": [
    "<hr style=\"height:2px;border:none;background-color:#00233C;\">\n",
    "<b style = 'font-size:20px;font-family:Arial;color:#00233C'>2. Data Exploration</b>\n",
    "<p style = 'font-size:16px;font-family:Arial;color:#00233C'>Create a \"Virtual DataFrame\" that points to the data set in Vantage. Check the shape of the dataframe as check the datatype of all the columns of the dataframe.</p>"
   ]
  },
  {
   "cell_type": "code",
   "execution_count": null,
   "id": "9672d80d-cdcc-4f4c-9399-7c367e7970b1",
   "metadata": {},
   "outputs": [],
   "source": [
    "df = DataFrame.from_table(\"house_values\")\n",
    "df"
   ]
  },
  {
   "cell_type": "markdown",
   "id": "4a2f79a0-eb16-4c3b-bec2-c313e97ac940",
   "metadata": {},
   "source": [
    "<hr style=\"height:2px;border:none;background-color:#00233C;\">\n",
    "<b style = 'font-size:20px;font-family:Arial;color:#00233C'>3. WhitesGeneral</b>\n",
    "<p style = 'font-size:16px;font-family:Arial;color:#00233C'>The WhitesGeneral() function checks for the presence of correlation among the residual terms after running a regression. The function determines if there exists any heteroscedastic variance in the residuals of regression tests.</p>\n",
    "\n",
    "<p style = 'font-size:16px;font-family:Arial;color:#00233C'>The first step is to convert the time series data into TDSeries, which is required for the input time series which are passed to the MultivarRegr function.</p>\n"
   ]
  },
  {
   "cell_type": "code",
   "execution_count": null,
   "id": "0c91ad72-2e3d-46dd-b6fd-895ad4b29194",
   "metadata": {},
   "outputs": [],
   "source": [
    "data_series_df = TDSeries(data=df,\n",
    "                              id=\"cityid\",\n",
    "                              row_index=\"TD_TIMECODE\",\n",
    "                              payload_field=[\"house_val\",\"salary\",\"mortgage\"],\n",
    "                              payload_content=\"MULTIVAR_REAL\")"
   ]
  },
  {
   "cell_type": "markdown",
   "id": "3de41281-82a3-42f2-a608-b9a7f0f5e6b9",
   "metadata": {},
   "source": [
    "<p style = 'font-size:16px;font-family:Arial;color:#00233C'>Execute multivariate regression function to identify the degree of linearity the explanatory variable and multiple response variables. Generate the model statistics and residual data as well.</p>"
   ]
  },
  {
   "cell_type": "code",
   "execution_count": null,
   "id": "a711f58c-fbd3-4457-9f6a-9cd5c1b192dc",
   "metadata": {},
   "outputs": [],
   "source": [
    "multivar_out = MultivarRegr(data=data_series_df,\n",
    "                                variables_count=3,\n",
    "                                weights=False,\n",
    "                                formula=\"Y = B0 + B1*X1 + B2*X2\",\n",
    "                                algorithm='QR',\n",
    "                                coeff_stats=True,\n",
    "                                model_stats=True,\n",
    "                                residuals=True)"
   ]
  },
  {
   "cell_type": "markdown",
   "id": "4c1127cc-d346-4512-8885-f43062fc0a35",
   "metadata": {},
   "source": [
    "<p style = 'font-size:16px;font-family:Arial;color:#00233C'>We execute the Whites-General test on TDAnalyticResult object over the result attribute of the \"multivar_out\" as input. We will create teradataml TDAnalyticResult object over the 'result' attribute of the 'multivar_out' and use it as input to the WhitesGeneral function.</p>"
   ]
  },
  {
   "cell_type": "code",
   "execution_count": null,
   "id": "8965392c-404e-4e25-b5b8-c7ef06069154",
   "metadata": {},
   "outputs": [],
   "source": [
    "data_art_df = TDAnalyticResult(data=multivar_out.result)\n",
    " \n",
    "uaf_out = WhitesGeneral(data=data_art_df,\n",
    "                            variables_count=3,\n",
    "                            significance_level=0.05)\n",
    " \n",
    "# Print the result DataFrame.\n",
    "wh_df = uaf_out.result\n",
    "wh_df"
   ]
  },
  {
   "cell_type": "markdown",
   "id": "85fd7d58-9793-42d3-9144-75ccde0d4a30",
   "metadata": {
    "jp-MarkdownHeadingCollapsed": true,
    "tags": []
   },
   "source": [
    "<p style = 'font-size:16px;font-family:Arial;color:#00233C'>If we scroll to the right we can observe that the NULL hypothesis as <code>'ACCEPT'</code> means the null hypothesis is accepted, and there is homoscedasticity variance evident.</p>\n",
    "<p style = 'font-size:16px;font-family:Arial;color:#00233C'>We can also execute the Whites-General test on TDSeries object over the 'fitresiduals' attribute of the 'multivar_out'. We will create teradataml TDSeries object over the 'fitresiduals' attribute of the 'multivar_out' and use it as input to the WhitesGeneral function</p>"
   ]
  },
  {
   "cell_type": "code",
   "execution_count": null,
   "id": "f3385d2b-d44e-466a-b4a6-2038ec13fbe3",
   "metadata": {},
   "outputs": [],
   "source": [
    "data_series_df = TDSeries(data=multivar_out.fitresiduals,\n",
    "                          id=\"cityid\",\n",
    "                          row_index=\"ROW_I\",\n",
    "                          row_index_style=\"SEQUENCE\",\n",
    "                          payload_field=[\"ACTUAL_VALUE\",\"CALC_VALUE\",\"RESIDUAL\"],\n",
    "                          payload_content=\"MULTIVAR_REAL\")\n",
    "\n",
    "uaf_out1 = WhitesGeneral(data=data_series_df, \n",
    "                         variables_count=3, \n",
    "                         significance_level=0.05)\n",
    "\n",
    "# Print the result DataFrame.\n",
    "wh_df= uaf_out1.result\n",
    "wh_df"
   ]
  },
  {
   "cell_type": "markdown",
   "id": "46a12d17-e174-4068-b5f1-0c327c57262a",
   "metadata": {},
   "source": [
    "<p style = 'font-size:16px;font-family:Arial;color:#00233C'>If we scroll to the right we can observe that the NULL hypothesis as <code>'ACCEPT'</code> means the null hypothesis is accepted, and there is homoscedasticity variance evident.</p>\n"
   ]
  },
  {
   "cell_type": "markdown",
   "id": "c25fdaf1-098b-4dea-984b-579c6412557e",
   "metadata": {},
   "source": [
    "<hr style=\"height:2px;border:none;background-color:#00233C;\">\n",
    "<b style = 'font-size:20px;font-family:Arial;color:#00233C'>4. Cleanup</b>"
   ]
  },
  {
   "cell_type": "markdown",
   "id": "82901004-be46-4ec0-9ef6-d181023b0c17",
   "metadata": {},
   "source": [
    "<p style = 'font-size:18px;font-family:Arial;color:#00233C'><b>Work Tables</b></p>\n",
    "<p style = 'font-size:16px;font-family:Arial;color:#00233C'>The following code will clean up intermediate tables.</p>"
   ]
  },
  {
   "cell_type": "code",
   "execution_count": null,
   "id": "8730f617-7eb1-4180-9ffc-0081f3aecbe1",
   "metadata": {},
   "outputs": [],
   "source": [
    "db_drop_table(\"house_values\")"
   ]
  },
  {
   "cell_type": "code",
   "execution_count": null,
   "id": "13382735-453d-44da-bba2-48ded687275c",
   "metadata": {},
   "outputs": [],
   "source": [
    "remove_context()"
   ]
  },
  {
   "cell_type": "markdown",
   "id": "4317a6cf-1479-4aa8-b30a-ee0a3b5231a8",
   "metadata": {},
   "source": [
    "<hr style=\"height:1px;border:none;background-color:#00233C;\">\n",
    "\n",
    "<p style = 'font-size:16px;font-family:Arial;color:#00233C'><b>Links:</b></p>\n",
    "<ul style = 'font-size:16px;font-family:Arial'>\n",
    "    <li>Teradataml Python reference: <a href = 'https://docs.teradata.com/search/all?query=Python+Package+User+Guide&content-lang=en-US'>here</a></li>\n",
    "    <li>WhitesGeneral function reference: <a href = 'https://docs.teradata.com/search/all?query=WhitesGeneral&content-lang=en-US'>here</a></li>\n",
    "    \n",
    "</ul>"
   ]
  },
  {
   "cell_type": "markdown",
   "id": "b2dcca28-5de5-44d7-88cb-45a12153b3f8",
   "metadata": {},
   "source": [
    "<footer style=\"padding-bottom:35px; background:#f9f9f9; border-bottom:3px solid #00233C\">\n",
    "    <div style=\"float:left;margin-top:14px\">ClearScape Analytics™</div>\n",
    "    <div style=\"float:right;\">\n",
    "        <div style=\"float:left; margin-top:14px\">\n",
    "            Copyright © Teradata Corporation - 2025. All Rights Reserved\n",
    "        </div>\n",
    "    </div>\n",
    "</footer>"
   ]
  }
 ],
 "metadata": {
  "kernelspec": {
   "display_name": "Python 3 (ipykernel)",
   "language": "python",
   "name": "python3"
  },
  "language_info": {
   "codemirror_mode": {
    "name": "ipython",
    "version": 3
   },
   "file_extension": ".py",
   "mimetype": "text/x-python",
   "name": "python",
   "nbconvert_exporter": "python",
   "pygments_lexer": "ipython3",
   "version": "3.9.10"
  }
 },
 "nbformat": 4,
 "nbformat_minor": 5
}
