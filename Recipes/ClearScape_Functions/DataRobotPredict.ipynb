{
 "cells": [
  {
   "cell_type": "markdown",
   "id": "c8e9b03a-3adc-436e-8ff1-9c678729152a",
   "metadata": {},
   "source": [
    "<header>\n",
    "   <p  style='font-size:36px;font-family:Arial; color:#F0F0F0; background-color: #00233c; padding-left: 20pt; padding-top: 20pt;padding-bottom: 10pt; padding-right: 20pt;'>\n",
    "       DataRobotPredict Function in Vantage\n",
    "  <br>\n",
    "       <img id=\"teradata-logo\" src=\"https://storage.googleapis.com/clearscape_analytics_demo_data/DEMO_Logo/teradata.svg\" alt=\"Teradata\" style=\"width: 125px; height: auto; margin-top: 20pt;\">\n",
    "    </p>\n",
    "</header>"
   ]
  },
  {
   "cell_type": "markdown",
   "id": "0c489ebf-5413-4f9f-9f6d-1b4dc0914797",
   "metadata": {},
   "source": [
    "<p style = 'font-size:20px;font-family:Arial;color:#00233C'><b>Introduction:</b></p>\n",
    "<p style = 'font-size:16px;font-family:Arial;color:#00233C'>\n",
    "This Notebook will show you how to work with the Bring Your Own Model (BYOM) pattern and BYOM In-Vantage Scoring. This deployment pattern allows you to use whatever data science platform you want to perform model training and import back to Vantage to do a direct deployment, scoring. For understanding more about BYOM you can review official user documentation.<br><br><b>DataRobot</b> is a widely used analytics application and there is good possibility that a Teradata customer is already using it for their data analytics projects.By bringing analytics to the data, customers who have ML models trained using DataRobot can deploy these models in Vantage and instantly realize value by predicting/scoring the models at scale.</p>\n",
    "\n",
    "<p style = 'font-size:16px;font-family:Arial;color:#00233C'>This notebook will cover <code>DataRobotPredict()</code> function with DataRobot standard BYOM format. The <code>DataRobotPredict()</code> function is used to score data in Vantage with a model that has been created outside Vantage and exported to Vantage using DataRobot format.</p>"
   ]
  },
  {
   "cell_type": "markdown",
   "id": "251fd478-b251-4235-808a-c7d64b1d2e50",
   "metadata": {},
   "source": [
    "<hr style=\"height:2px;border:none;background-color:#00233C;\">\n",
    "<p><b style = 'font-size:20px;font-family:Arial;color:#00233C'>1. Configure the Environment</b></p>\n",
    "\n",
    "<p style = 'font-size:16px;font-family:Arial;color:#00233C'>Here, we import the required libraries, set environment variables and environment paths (if required).</p>"
   ]
  },
  {
   "cell_type": "code",
   "execution_count": null,
   "id": "bdced362-f603-493a-92d5-0692906fd0ac",
   "metadata": {},
   "outputs": [],
   "source": [
    "import teradataml\n",
    "from teradataml import *\n",
    "from teradatasqlalchemy.types import *\n",
    "import os\n",
    "import getpass\n",
    "import logging\n",
    "import sys\n",
    "\n",
    "display.max_rows = 5"
   ]
  },
  {
   "cell_type": "markdown",
   "id": "25d863eb-ee26-4d8b-97e0-942a4f396f41",
   "metadata": {},
   "source": [
    "<hr style=\"height:2px;border:none;background-color:#00233C;\">\n",
    "<p><b style = 'font-size:20px;font-family:Arial;color:#00233C'>2. Connect to Vantage</b></p>"
   ]
  },
  {
   "cell_type": "markdown",
   "id": "a14303aa-2512-45dd-9de8-fcaf1fbd6b2d",
   "metadata": {},
   "source": [
    "<p style = 'font-size:16px;font-family:Arial;color:#00233C'>You will be prompted to provide the password. Enter your password, press the Enter key, then use down arrow to go to next cell. Begin running steps with Shift + Enter keys.</p>"
   ]
  },
  {
   "cell_type": "code",
   "execution_count": null,
   "id": "71d6ab30-a544-45f7-acc9-6067c584634a",
   "metadata": {
    "tags": []
   },
   "outputs": [],
   "source": [
    "%run -i ../../UseCases/startup.ipynb\n",
    "eng = create_context(host = 'host.docker.internal', username = 'demo_user', password = password)\n",
    "print(eng)"
   ]
  },
  {
   "cell_type": "code",
   "execution_count": null,
   "id": "cdef125f-166e-4fb8-bc3a-ce8585e0e234",
   "metadata": {
    "tags": []
   },
   "outputs": [],
   "source": [
    "%%capture\n",
    "execute_sql('''SET query_band='DEMO=PP_DataRobotPredict_Python.ipynb;' UPDATE FOR SESSION;''')"
   ]
  },
  {
   "cell_type": "markdown",
   "id": "f79e3d35-5f1a-46c1-844a-a02ae86baed5",
   "metadata": {},
   "source": [
    "<p style = 'font-size:18px;font-family:Arial;color:#00233C'><b>Getting Data for This Demo</b></p>\n",
    "<p style = 'font-size:16px;font-family:Arial;color:#00233C'>We have provided data for this demo on cloud storage. You can either run the demo using foreign tables to access the data without any storage on your environment or download the data to local storage, which may yield faster execution. Still, there could be considerations of available storage. Two statements are in the following cell, and one is commented out. You may switch which mode you choose by changing the comment string.</p>"
   ]
  },
  {
   "cell_type": "code",
   "execution_count": null,
   "id": "d352d3a7-eb97-49e6-9e43-2c99b71de5b2",
   "metadata": {},
   "outputs": [],
   "source": [
    "#%run -i ../../UseCases/run_procedure.py \"call get_data('DEMO_ModelOps_cloud');\"        # Takes 10 seconds\n",
    "%run -i ../../UseCases/run_procedure.py \"call get_data('DEMO_ModelOps_local');\"        # Takes 30 seconds"
   ]
  },
  {
   "cell_type": "markdown",
   "id": "6fd354ec-10d5-4c68-a045-b76ef445bc44",
   "metadata": {},
   "source": [
    "<p style = 'font-size:16px;font-family:Arial;color:#00233C'>Next is an optional step – if you want to see the status of databases/tables created and space used.</p>"
   ]
  },
  {
   "cell_type": "code",
   "execution_count": null,
   "id": "28430595-238a-4eac-a718-2bbd52cd85b9",
   "metadata": {},
   "outputs": [],
   "source": [
    "%run -i ../../UseCases/run_procedure.py \"call space_report();\"        # Takes 10 seconds"
   ]
  },
  {
   "cell_type": "markdown",
   "id": "c98427f5-1ae7-4fb1-9110-72441c1b3c3c",
   "metadata": {},
   "source": [
    "<hr style=\"height:2px;border:none;background-color:#00233C;\">\n",
    "<p><b style = 'font-size:20px;font-family:Arial;color:#00233C'>3. Train a model in DataRobot</b></p>\n",
    "\n",
    "<p style=\"font-size:16px; font-family:Arial; color:#00233C\">\n",
    "    DataRobot is a widely used analytics application, and there is a good possibility that a Teradata customer is already using it for their data analytics projects.<br><br>\n",
    "    By bringing analytics to the data, customers who have ML models trained using DataRobot can deploy these models in Vantage and instantly realize value by predicting/scoring the models at scale. This reduces costs as it eliminates costly data export steps, and model prediction in Vantage is proven to be multiple times faster than other platforms, ensuring data security.<br><br>\n",
    "    DataRobot charges its users for the deployment of trained ML models externally to Vantage. Every ML model deployed externally counts against the user/customer's DataRobot pre-paid licenses. Once the DataRobot license limit is met, the user/customer must purchase additional licenses before deploying more models.<br><br>\n",
    "    Once a model and its scoring code are downloaded, it counts against the available license permanently and cannot be reversed, deleted, or updated. The following message appears when the user downloads a DataRobot Model with scoring code:\n",
    "</p>\n",
    "<img src=\"../../ModelOps/images/datarobot.png\" alt=\"DataRobot download model\" />"
   ]
  },
  {
   "cell_type": "markdown",
   "id": "c95bd92e-3424-4295-944b-eca4cacbcc22",
   "metadata": {},
   "source": [
    "<p style=\"font-size:16px; font-family:Arial; color:#00233C\">\n",
    "    For demonstration purposes, we have created a model in DataRobot using the PIMA diabetes dataset and have downloaded it. The model is placed in the artifacts folder. For the next steps, you can use <a href='../../ModelOps/artifacts/model.datarobot'>model.datarobot</a> if you don't have your own DataRobot subscription.\n",
    "</p>"
   ]
  },
  {
   "cell_type": "markdown",
   "id": "5dcd740b-539e-4f54-8d6f-a963da537765",
   "metadata": {},
   "source": [
    "<hr style=\"height:2px;border:none;background-color:#00233C;\">\n",
    "<p><b style = 'font-size:20px;font-family:Arial;color:#00233C'>4. On-demand scoring using teradataml</b></p>"
   ]
  },
  {
   "cell_type": "markdown",
   "id": "4acfb9d8-061c-448a-8238-d6c5f7656257",
   "metadata": {},
   "source": [
    "<p style = 'font-size:16px;font-family:Arial;color:#00233C'>Configuring VAL and BYOM locations:</p>"
   ]
  },
  {
   "cell_type": "code",
   "execution_count": null,
   "id": "bfdfd07f-0a91-4be2-9b89-8c8337780504",
   "metadata": {},
   "outputs": [],
   "source": [
    "# configure byom/val installation\n",
    "configure.val_install_location = \"VAL\"\n",
    "configure.byom_install_location = \"MLDB\""
   ]
  },
  {
   "cell_type": "code",
   "execution_count": null,
   "id": "87c46b8f-a83d-415a-bce6-84891d3b0481",
   "metadata": {},
   "outputs": [],
   "source": [
    "model_ids = ['datarobot_model']\n",
    "model_files = [os.path.join('../../ModelOps/artifacts/model.datarobot')]\n",
    "table_name = 'byom_models'\n",
    "\n",
    "for model_id, model_file in zip(model_ids, model_files):\n",
    "    try:\n",
    "        save_byom(model_id = model_id, model_file = model_file, table_name = table_name)\n",
    "    except Exception as e:\n",
    "        # if our model exists, delete and rewrite\n",
    "        if str(e.args).find('TDML_2200') >= 1:\n",
    "            delete_byom(model_id = model_id, table_name = table_name)\n",
    "            save_byom(model_id = model_id, model_file = model_file, table_name = table_name)\n",
    "        else:\n",
    "            raise ValueError(f\"Unable to save the model '{model_id}' in '{table_name}' due to the following error: {e}\")"
   ]
  },
  {
   "cell_type": "code",
   "execution_count": null,
   "id": "7f95d758-572f-468e-b414-d89387271178",
   "metadata": {},
   "outputs": [],
   "source": [
    "# Show the byom_models table\n",
    "list_byom(table_name)"
   ]
  },
  {
   "cell_type": "code",
   "execution_count": null,
   "id": "a842958b-88a9-4c4d-8fb2-a1e57610592f",
   "metadata": {},
   "outputs": [],
   "source": [
    "modeldata = retrieve_byom(\"datarobot_model\", table_name=\"byom_models\")\n",
    "\n",
    "preds = DataRobotPredict(\n",
    "    modeldata = modeldata,\n",
    "    newdata = DataFrame.from_query(\"SELECT * FROM Demo_ModelOps.pima_patient_features WHERE patientid MOD 5 = 0\"),\n",
    "    accumulate = ['PatientId']\n",
    ")\n",
    "\n",
    "preds.result"
   ]
  },
  {
   "cell_type": "markdown",
   "id": "c1ce4f0f-de1f-44be-84b6-31a31823d2f3",
   "metadata": {},
   "source": [
    "<hr style=\"height:2px;border:none;background-color:#00233C;\">\n",
    "<b style = 'font-size:20px;font-family:Arial;color:#00233C'>5. Cleanup</b>"
   ]
  },
  {
   "cell_type": "markdown",
   "id": "310b60c1-cd3e-4909-aff6-7c9a3f4c1860",
   "metadata": {},
   "source": [
    "<hr style=\"height:1px;border:none;background-color:#00233C;\">\n",
    "<p style = 'font-size:18px;font-family:Arial;color:#00233C'><b>Work Tables</b></p>\n",
    "<p style = 'font-size:16px;font-family:Arial;color:#00233C'>Cleanup work tables to prevent errors next time.</p>"
   ]
  },
  {
   "cell_type": "code",
   "execution_count": null,
   "id": "56118d1e-1c14-445a-902c-4143fe56485c",
   "metadata": {},
   "outputs": [],
   "source": [
    "tables = ['byom_models']\n",
    "\n",
    "# Loop through the list of tables and execute the drop table command for each table\n",
    "for table in tables:\n",
    "    try:\n",
    "        db_drop_table(table_name = table)\n",
    "    except:\n",
    "        pass"
   ]
  },
  {
   "cell_type": "markdown",
   "id": "e3ab3751-452c-480a-9e77-e9d76d40b859",
   "metadata": {},
   "source": [
    "<hr style=\"height:1px;border:none;background-color:#00233C;\">\n",
    "<p style = 'font-size:18px;font-family:Arial;color:#00233C'> <b>Databases and Tables </b></p>\n",
    "<p style = 'font-size:16px;font-family:Arial;color:#00233C'>The following code will clean up tables and databases created above.</p>"
   ]
  },
  {
   "cell_type": "code",
   "execution_count": null,
   "id": "c681a27b-8faf-4133-8ecf-69aaa3284e3c",
   "metadata": {},
   "outputs": [],
   "source": [
    "%run -i ../../UseCases/run_procedure.py \"call remove_data('DEMO_ModelOps');\"        # Takes 10 seconds"
   ]
  },
  {
   "cell_type": "code",
   "execution_count": null,
   "id": "157fe3d4-4e0e-4d92-b343-9f758f3bf690",
   "metadata": {},
   "outputs": [],
   "source": [
    "remove_context()"
   ]
  },
  {
   "cell_type": "markdown",
   "id": "5ee590f2-2e4f-4f0c-8952-3422f4a87360",
   "metadata": {},
   "source": [
    "<footer style=\"padding-bottom:35px; background:#f9f9f9; border-bottom:3px solid #00233C\">\n",
    "    <div style=\"float:left;margin-top:14px\">ClearScape Analytics™</div>\n",
    "    <div style=\"float:right;\">\n",
    "        <div style=\"float:left; margin-top:14px\">\n",
    "            Copyright © Teradata Corporation - 2025. All Rights Reserved\n",
    "        </div>\n",
    "    </div>\n",
    "</footer>"
   ]
  }
 ],
 "metadata": {
  "kernelspec": {
   "display_name": "Python 3 (ipykernel)",
   "language": "python",
   "name": "python3"
  },
  "language_info": {
   "codemirror_mode": {
    "name": "ipython",
    "version": 3
   },
   "file_extension": ".py",
   "mimetype": "text/x-python",
   "name": "python",
   "nbconvert_exporter": "python",
   "pygments_lexer": "ipython3",
   "version": "3.9.10"
  }
 },
 "nbformat": 4,
 "nbformat_minor": 5
}
