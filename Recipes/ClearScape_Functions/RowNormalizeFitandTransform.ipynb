{
 "cells": [
  {
   "cell_type": "markdown",
   "id": "a88c3306-6c46-4d19-b280-4191ce26abf2",
   "metadata": {},
   "source": [
    "<header>\n",
    "   <p  style='font-size:36px;font-family:Arial; color:#F0F0F0; background-color: #00233c; padding-left: 20pt; padding-top: 20pt;padding-bottom: 10pt; padding-right: 20pt;'>\n",
    "       RowNormalizeFit and RowNormalizeTransform function in Vantage\n",
    "  <br>\n",
    "       <img id=\"teradata-logo\" src=\"https://storage.googleapis.com/clearscape_analytics_demo_data/DEMO_Logo/teradata.svg\" alt=\"Teradata\" style=\"width: 125px; height: auto; margin-top: 20pt;\">\n",
    "    </p>\n",
    "</header>"
   ]
  },
  {
   "cell_type": "markdown",
   "id": "91b6d93f-3d48-47cb-aba1-9c2ad53ad77d",
   "metadata": {},
   "source": [
    "<p style = 'font-size:20px;font-family:Arial'><b>Introduction</b></p>\n",
    "<p style = 'font-size:16px;font-family:Arial'>RowNormalizeFit computes normalization parameters for specified columns, enabling row-wise standardization based on a chosen approach.<br>\n",
    "    RowNormalizeTransform function normalizes input columns row-wise, using\n",
    "    RowNormalizeFit function output.\n",
    "<br> In this notebook we will see how we can use the RowNormalizeFit and RowNormalizeTransform functions available in Vantage.</p>"
   ]
  },
  {
   "cell_type": "markdown",
   "id": "d567e749-72b8-4df2-b020-8a37f460f45f",
   "metadata": {},
   "source": [
    "<hr style=\"height:2px;border:none;\">\n",
    "<b style = 'font-size:20px;font-family:Arial'>1. Initiate a connection to Vantage</b>"
   ]
  },
  {
   "cell_type": "code",
   "execution_count": null,
   "id": "709cdcea-5e82-4885-b9ac-2224ca07e846",
   "metadata": {},
   "outputs": [],
   "source": [
    "from teradataml import *\n",
    "\n",
    "# Modify the following to match the specific client environment settings\n",
    "display.max_rows = 5"
   ]
  },
  {
   "cell_type": "markdown",
   "id": "f6fbd647-0ab4-4412-a6a8-09f553e28070",
   "metadata": {},
   "source": [
    "<hr style=\"height:1px;border:none;\">\n",
    "<p style = 'font-size:18px;font-family:Arial'><b>1.1 Connect to Vantage</b></p>\n",
    "<p style = 'font-size:16px;font-family:Arial'>You will be prompted to provide the password. Enter your password, press the Enter key, and then use the down arrow to go to the next cell.</p>"
   ]
  },
  {
   "cell_type": "code",
   "execution_count": null,
   "id": "2ff35692-90a0-4127-8686-45455aeee4b1",
   "metadata": {},
   "outputs": [],
   "source": [
    "%run -i ../../UseCases/startup.ipynb\n",
    "eng = create_context(host = 'host.docker.internal', username='demo_user', password = password)\n",
    "print(eng)"
   ]
  },
  {
   "cell_type": "code",
   "execution_count": null,
   "id": "96116e93-f135-473a-bc8e-2b87d632e676",
   "metadata": {},
   "outputs": [],
   "source": [
    "%%capture\n",
    "execute_sql('''SET query_band='DEMO=PP_RowNormalizeFitandTransform_Python.ipynb;' UPDATE FOR SESSION; ''')"
   ]
  },
  {
   "cell_type": "markdown",
   "id": "2afb5ff8-0cb3-4fdb-b907-6bd85f24db90",
   "metadata": {},
   "source": [
    "<p style = 'font-size:16px;font-family:Arial'>Begin running steps with Shift + Enter keys. </p>"
   ]
  },
  {
   "cell_type": "markdown",
   "id": "77faec90-2a4a-4011-97db-2e72d6d44cbe",
   "metadata": {},
   "source": [
    "<hr style='height:1px;border:none;'>\n",
    "\n",
    "<p style = 'font-size:18px;font-family:Arial'><b>1.2 Getting Data for This Demo</b></p>\n",
    "\n",
    "<p style = 'font-size:16px;font-family:Arial'>We have provided data for this demo on cloud storage. You can either run the demo using foreign tables to access the data without any storage on your environment or download the data to local storage, which may yield faster execution. Still, there could be considerations of available storage. Two statements are in the following cell, and one is commented out. You may switch which mode you choose by changing the comment string.</p>"
   ]
  },
  {
   "cell_type": "code",
   "execution_count": null,
   "id": "89ee7fcd-0bbe-47eb-bda7-07c18a082150",
   "metadata": {},
   "outputs": [],
   "source": [
    "%run -i ../../UseCases/run_procedure.py \"call get_data('DEMO_BankChurn_cloud');\"        # Takes 30 seconds\n",
    "#%run -i ../../UseCases/run_procedure.py \"call get_data('DEMO_BankChurn_local');\" "
   ]
  },
  {
   "cell_type": "code",
   "execution_count": null,
   "id": "edf5803a-11ab-4fef-9434-c0835878030a",
   "metadata": {},
   "outputs": [],
   "source": [
    "%run -i ../../UseCases/run_procedure.py \"call space_report();\"        # Takes 10 seconds"
   ]
  },
  {
   "cell_type": "markdown",
   "id": "6a860707-b134-468d-a340-4982a660629a",
   "metadata": {},
   "source": [
    "<hr style=\"height:2px;border:none;\">\n",
    "<b style = 'font-size:20px;font-family:Arial'>2. Data Exploration</b>\n",
    "<p style = 'font-size:16px;font-family:Arial'>Create a \"Virtual DataFrame\" that points to the data set in Vantage. Check the shape of the dataframe as check the datatype of all the columns of the dataframe.</p>"
   ]
  },
  {
   "cell_type": "code",
   "execution_count": null,
   "id": "74384319-5570-4713-bcf5-cbf66719f4e7",
   "metadata": {},
   "outputs": [],
   "source": [
    "tdf = DataFrame(in_schema(\"DEMO_BankChurn\", \"customer_churn\"))\n",
    "print(\"Shape of the data: \", tdf.shape)\n",
    "tdf"
   ]
  },
  {
   "cell_type": "code",
   "execution_count": null,
   "id": "87322eb4-7714-4c94-9785-b90bffe314be",
   "metadata": {},
   "outputs": [],
   "source": [
    "tdf.tdtypes"
   ]
  },
  {
   "cell_type": "markdown",
   "id": "182c3dcc-5997-4880-b252-1ca59855aa12",
   "metadata": {},
   "source": [
    "<p style = 'font-size:16px;font-family:Arial'>This notebook helps a bank understand how row-wise normalization standardizes financial metrics like CreditScore, Balance, and EstimatedSalary for better comparisons\n",
    "</p>"
   ]
  },
  {
   "cell_type": "code",
   "execution_count": null,
   "id": "bfeadc48-4868-4d90-be8c-640e75895603",
   "metadata": {},
   "outputs": [],
   "source": [
    "help(RowNormalizeFit)"
   ]
  },
  {
   "cell_type": "code",
   "execution_count": null,
   "id": "a50ee8d0-bcfa-4a9a-bde1-e5182f7c0d1c",
   "metadata": {},
   "outputs": [],
   "source": [
    "# Fit the Normalization Model\n",
    "fit_result = RowNormalizeFit(\n",
    "    data=tdf,\n",
    "    target_columns=[\"CreditScore\", \"Balance\", \"EstimatedSalary\"],\n",
    "    approach=\"INDEX\",  # Using INDEX method for meaningful scaling\n",
    "    base_column=\"EstimatedSalary\",  # Using EstimatedSalary as the reference column\n",
    "    base_value=100.0  # Setting base value to 100 for better interpretability\n",
    ")"
   ]
  },
  {
   "cell_type": "code",
   "execution_count": null,
   "id": "cbfbd60b-c15f-4c0a-8847-eedfb02ed1b7",
   "metadata": {},
   "outputs": [],
   "source": [
    "# Print the fit model output\n",
    "fit_result.output"
   ]
  },
  {
   "cell_type": "markdown",
   "id": "42f5e50d-129d-4d2d-9ba4-95996be44b1a",
   "metadata": {},
   "source": [
    "<p style = 'font-size:16px;font-family:Arial'>Normalize the data and keep the 'CustomerId' and 'Exited' columns for reference.\n",
    "</p>"
   ]
  },
  {
   "cell_type": "code",
   "execution_count": null,
   "id": "305afa11-987b-47f2-adab-46ce57f41c23",
   "metadata": {},
   "outputs": [],
   "source": [
    "help(RowNormalizeTransform)"
   ]
  },
  {
   "cell_type": "code",
   "execution_count": null,
   "id": "06fbfd48-fd54-4070-be2d-9efc4d75e83b",
   "metadata": {},
   "outputs": [],
   "source": [
    "# Applying RowNormalizeTransform\n",
    "transformed_data = RowNormalizeTransform(\n",
    "    data=tdf,\n",
    "    object=fit_result.output,\n",
    "    accumulate=[\"CustomerId\", \"Exited\"]  # Keeping these columns unchanged\n",
    ")"
   ]
  },
  {
   "cell_type": "markdown",
   "id": "a44d30dc-9838-419d-91e7-e0396589cdc8",
   "metadata": {},
   "source": [
    "<p style = 'font-size:16px;font-family:Arial'>The normalized values enable meaningful comparisons across customers by scaling CreditScore, Balance, and EstimatedSalary relative to a common base, helping in customer segmentation and churn analysis.\n",
    "</p>"
   ]
  },
  {
   "cell_type": "code",
   "execution_count": null,
   "id": "e0c9296d-8549-4662-a71d-ba316752934c",
   "metadata": {},
   "outputs": [],
   "source": [
    "# Display the normalized results\n",
    "transformed_data.result"
   ]
  },
  {
   "cell_type": "markdown",
   "id": "53b7a798-d713-433b-86b6-23e984a855ca",
   "metadata": {},
   "source": [
    "<hr style=\"height:2px;border:none;\">\n",
    "<b style = 'font-size:20px;font-family:Arial'>3. Cleanup</b>"
   ]
  },
  {
   "cell_type": "markdown",
   "id": "a2792fbf-0cd2-4104-90dc-ebca21cbd391",
   "metadata": {},
   "source": [
    "<hr style=\"height:1px;border:none;\">\n",
    "<p style = 'font-size:18px;font-family:Arial'> <b>Databases and Tables </b></p>\n",
    "<p style = 'font-size:16px;font-family:Arial'>The following code will clean up tables and databases created above.</p>"
   ]
  },
  {
   "cell_type": "code",
   "execution_count": null,
   "id": "69fb9e3c-ed17-423f-ac31-21aab3564380",
   "metadata": {},
   "outputs": [],
   "source": [
    "%run -i ../../UseCases/run_procedure.py \"call remove_data('DEMO_BankChurn');\"        # Takes 10 seconds"
   ]
  },
  {
   "cell_type": "code",
   "execution_count": null,
   "id": "43c591ec-d72b-41d6-a059-8a08d2bdd825",
   "metadata": {},
   "outputs": [],
   "source": [
    "remove_context()"
   ]
  },
  {
   "cell_type": "markdown",
   "id": "24feb49e-9327-4fdc-875a-4253f204b452",
   "metadata": {},
   "source": [
    "<hr style=\"height:1px;border:none;\">\n",
    "<b style = 'font-size:18px;font-family:Arial'>Dataset:</b>\n",
    "\n",
    "- `RowNumber`: Row index\n",
    "- `CustomerId`: Unique customer ID\n",
    "- `Surname`: Customer's surname\n",
    "- `CreditScore`: Credit score of the customer\n",
    "- `Geography`: Country (Germany / France / Spain)\n",
    "- `Gender`: Gender (Male / Female)\n",
    "- `Age`: Age of the customer\n",
    "- `Tenure`: Number of years the customer has been associated with the bank\n",
    "- `Balance`: Account balance\n",
    "- `NumOfProducts`: Number of bank products used\n",
    "- `HasCrCard`: Credit card status (0 = No, 1 = Yes)\n",
    "- `IsActiveMember`: Active membership status (0 = No, 1 = Yes)\n",
    "- `EstimatedSalary`: Estimated salary of the customer\n",
    "- `Exited`: Customer churn status (0 = No, 1 = Yes)\n",
    "\n",
    "<p style = 'font-size:16px;font-family:Arial'><b>Links:</b></p>\n",
    "<ul style = 'font-size:16px;font-family:Arial'>\n",
    "    <li>Teradataml Python reference: <a href = 'https://docs.teradata.com/search/all?query=Python+Package+User+Guide&content-lang=en-US'>here</a></li>\n",
    "    <li>RowNormalizeFit function reference: <a href = 'https://docs.teradata.com/search/all?query=RowNormalizeFit&value-filters=prodname~%2522Teradata+Package+for+Python%2522*vrm_release~%252220.00.00.03%2522&content-lang=en-US&_gl=1*1ofxdaw*_gcl_aw*R0NMLjE3MzMyMDc4MjguRUFJYUlRb2JDaE1JeVpYM3BQNktpZ01WSWpLREF4MmluUmowRUFBWUFTQUFFZ0tSRVBEX0J3RQ..*_gcl_au*MTM2MDk0NzQ4OS4xNzM3NTI3NTA5*_ga*NTU2MTUwNDQ1LjE2OTM4MDU3NjE.*_ga_7PE2TMW3FE*MTczODc2MzU5OC4xNTAuMS4xNzM4NzYzNjQ2LjEyLjAuMA..'>here</a></li>\n",
    "    <li>RowNormalizeTransform function reference: <a href = 'https://docs.teradata.com/search/all?query=RowNormalizeTransform&value-filters=prodname~%2522Teradata+Package+for+Python%2522*vrm_release~%252220.00.00.03%2522&content-lang=en-US&_gl=1*1ofxdaw*_gcl_aw*R0NMLjE3MzMyMDc4MjguRUFJYUlRb2JDaE1JeVpYM3BQNktpZ01WSWpLREF4MmluUmowRUFBWUFTQUFFZ0tSRVBEX0J3RQ..*_gcl_au*MTM2MDk0NzQ4OS4xNzM3NTI3NTA5*_ga*NTU2MTUwNDQ1LjE2OTM4MDU3NjE.*_ga_7PE2TMW3FE*MTczODc2MzU5OC4xNTAuMS4xNzM4NzYzNjQ2LjEyLjAuMA..'>here</a></li></li>\n",
    "</ul>"
   ]
  },
  {
   "cell_type": "markdown",
   "id": "e89d95e7-2c54-450d-b54d-6e0f7786df9d",
   "metadata": {},
   "source": [
    "<footer style=\"padding-bottom:35px; border-bottom:3px solid #91A0Ab\">\n",
    "    <div style=\"float:left;margin-top:14px\">ClearScape Analytics™</div>\n",
    "    <div style=\"float:right;\">\n",
    "        <div style=\"float:left; margin-top:14px\">\n",
    "            Copyright © Teradata Corporation - 2025. All Rights Reserved\n",
    "        </div>\n",
    "    </div>\n",
    "</footer>"
   ]
  }
 ],
 "metadata": {
  "kernelspec": {
   "display_name": "Python 3 (ipykernel)",
   "language": "python",
   "name": "python3"
  },
  "language_info": {
   "codemirror_mode": {
    "name": "ipython",
    "version": 3
   },
   "file_extension": ".py",
   "mimetype": "text/x-python",
   "name": "python",
   "nbconvert_exporter": "python",
   "pygments_lexer": "ipython3",
   "version": "3.9.10"
  }
 },
 "nbformat": 4,
 "nbformat_minor": 5
}
