{
 "cells": [
  {
   "cell_type": "markdown",
   "id": "bc549e6c-0cc4-4188-94a3-a9bdd3ae3dfa",
   "metadata": {},
   "source": [
    "<header>\n",
    "   <p  style='font-size:36px;font-family:Arial; color:#F0F0F0; background-color: #00233c; padding-left: 20pt; padding-top: 20pt;padding-bottom: 10pt; padding-right: 20pt;'>\n",
    "       BinaryMatrixOp Function in Vantage\n",
    "  <br>\n",
    "       <img id=\"teradata-logo\" src=\"https://storage.googleapis.com/clearscape_analytics_demo_data/DEMO_Logo/teradata.svg\" alt=\"Teradata\" style=\"width: 125px; height: auto; margin-top: 20pt;\">\n",
    "    </p>\n",
    "</header>"
   ]
  },
  {
   "cell_type": "markdown",
   "id": "7ae7611a-0795-4168-b716-01fee6880cbd",
   "metadata": {},
   "source": [
    "<p style = 'font-size:20px;font-family:Arial'><b>Introduction</b></p>\n",
    "\n",
    "<p style = 'font-size:20px;font-family:Arial'><b>BinaryMatrixOp</b></p>\n",
    "<p style = 'font-size:16px;font-family:Arial'>The BinaryMatrixOp() function performs a point-wise mathematical operation on two matrices with an equal number of wavelets and for which corresponding wavelets have an equal number of data points. A point-wise operation signifies that a mathematical operation is performed on one sample point at a time. Allowed mathematical operations are addition, subtraction, multiplication and division.</p>\n",
    "\n",
    "\n",
    "<p style = 'font-size:16px;font-family:Arial'>The common uses of BinaryMatrixOp() function are:</p>\n",
    "<li style = 'font-size:16px;font-family:Arial'><code>Addition:</code> Restore trends to a time matrix before using the model for forecasting.</li>\n",
    "<li style = 'font-size:16px;font-family:Arial'><code>Subtraction:</code> Subtract trends from a time matrix to create a model from it.</li>\n",
    "<li style = 'font-size:16px;font-family:Arial'><code>Multiplication:</code> Apply a low pass, band pass, or high pass filter to a time matrix.</li>\n",
    "<li style = 'font-size:16px;font-family:Arial'><code>Division:</code> Divide the primary matrix by the secondary matrix.</li>\n",
    "</p>\n",
    " \n"
   ]
  },
  {
   "cell_type": "markdown",
   "id": "6b3a00b4-6661-4c91-9b2d-cb7b0b403140",
   "metadata": {},
   "source": [
    "<hr style=\"height:2px;border:none;\">\n",
    "<b style = 'font-size:20px;font-family:Arial'>1. Initiate a connection to Vantage</b>"
   ]
  },
  {
   "cell_type": "markdown",
   "id": "2346857f-e0d3-488a-8a3f-ac6dff752c2b",
   "metadata": {},
   "source": [
    "<p style = 'font-size:16px;font-family:Arial'>In the section, we import the required libraries and set environment variables and environment paths (if required)."
   ]
  },
  {
   "cell_type": "code",
   "execution_count": null,
   "id": "c5af5af3-29d5-4f6a-8334-9df6924e7787",
   "metadata": {},
   "outputs": [],
   "source": [
    "from teradataml import (\n",
    "    create_context,\n",
    "    execute_sql,\n",
    "    load_example_data,\n",
    "    DataFrame,\n",
    "    in_schema,\n",
    "    TDMatrix,\n",
    "    BinaryMatrixOp,\n",
    "    db_drop_view,\n",
    "    remove_context,\n",
    "    copy_to_sql,\n",
    "    db_drop_table\n",
    "    )\n",
    "\n",
    "from teradatasqlalchemy.types import *\n",
    "\n",
    "from teradataml import to_numeric\n",
    "# Modify the following to match the specific client environment settings\n",
    "display.max_rows = 5"
   ]
  },
  {
   "cell_type": "markdown",
   "id": "ad3dd7b4-831c-4fb3-ab71-719c8c99a71c",
   "metadata": {},
   "source": [
    "<hr style=\"height:1px;border:none;\">\n",
    "<p style = 'font-size:18px;font-family:Arial'><b>1.1 Connect to Vantage</b></p>\n",
    "<p style = 'font-size:16px;font-family:Arial'>You will be prompted to provide the password. Enter your password, press the Enter key, and then use the down arrow to go to the next cell.</p>"
   ]
  },
  {
   "cell_type": "code",
   "execution_count": null,
   "id": "2742444c-4349-4b0f-b4e5-b068a8785cd9",
   "metadata": {},
   "outputs": [],
   "source": [
    "%run -i ../../UseCases/startup.ipynb\n",
    "eng = create_context(host = 'host.docker.internal', username='demo_user', password = password)\n",
    "print(eng)"
   ]
  },
  {
   "cell_type": "code",
   "execution_count": null,
   "id": "01c4a128-d106-46ea-8dee-34acc5abd29f",
   "metadata": {},
   "outputs": [],
   "source": [
    "%%capture\n",
    "execute_sql('''SET query_band='DEMO=PP_BinaryMatrixOp_Python.ipynb;' UPDATE FOR SESSION; ''')"
   ]
  },
  {
   "cell_type": "markdown",
   "id": "efe2fd2d-63ff-4278-9157-8b9110d682e8",
   "metadata": {},
   "source": [
    "<p style = 'font-size:16px;font-family:Arial'>Begin running steps with Shift + Enter keys. </p>"
   ]
  },
  {
   "cell_type": "markdown",
   "id": "4a6e3852-3b15-4cbd-844d-e7194b3bd204",
   "metadata": {},
   "source": [
    "<hr style='height:1px;border:none;'>\n",
    "\n",
    "<p style = 'font-size:18px;font-family:Arial'><b>1.2 Getting Data for This Demo</b></p>\n",
    "\n",
    "<p style = 'font-size:16px;font-family:Arial'>Here, we will get the time series data which is available in the teradataml library and use the same to show the usage of the function.</p>"
   ]
  },
  {
   "cell_type": "code",
   "execution_count": null,
   "id": "398fa0aa-c0df-4130-9dea-53b776fbaf80",
   "metadata": {},
   "outputs": [],
   "source": [
    "load_example_data(\"uaf\", [\"binary_matrix_complex_left\", \"binary_matrix_complex_right\"])\n",
    "load_example_data(\"uaf\", [\"binary_matrix_real_left\", \"binary_matrix_real_right\"])"
   ]
  },
  {
   "cell_type": "markdown",
   "id": "2a3762ac-ba27-4fa3-adba-d577262a4290",
   "metadata": {},
   "source": [
    "<hr style=\"height:2px;border:none;\">\n",
    "<b style = 'font-size:20px;font-family:Arial'>2. Data Exploration</b>\n",
    "<p style = 'font-size:16px;font-family:Arial'>Create a \"Virtual DataFrame\" that points to the data set in Vantage. Check the shape of the dataframe as check the datatype of all the columns of the dataframe.</p>"
   ]
  },
  {
   "cell_type": "code",
   "execution_count": null,
   "id": "9672d80d-cdcc-4f4c-9399-7c367e7970b1",
   "metadata": {},
   "outputs": [],
   "source": [
    "data1 = DataFrame.from_table(\"binary_matrix_complex_left\")\n",
    "data2 = DataFrame.from_table(\"binary_matrix_complex_right\")\n",
    "data3 = DataFrame.from_table(\"binary_matrix_real_left\")\n",
    "data4 = DataFrame.from_table(\"binary_matrix_real_right\")"
   ]
  },
  {
   "cell_type": "markdown",
   "id": "b87282a0-de29-4d09-a4a9-14ddbb838779",
   "metadata": {},
   "source": [
    "<hr style=\"height:2px;border:none;\">\n",
    "<b style = 'font-size:20px;font-family:Arial'>3. BinaryMatrixOp</b>\n",
    "<p style = 'font-size:16px;font-family:Arial'>The BinaryMatrixOp() function takes two equally sized logical-runtime matrices as input - the first matrix referenced in the function call (\"data1\") is a primary matrix, whereas the second matrix referenced (\"data2\") is a secondary matrix. The significance of being a primary or secondary matrix in each of the allowed mathematical operation is as follows:</p>\n",
    "<li style = 'font-size:16px;font-family:Arial'><code>SUB:</code> The secondary matrix is subtracted from the primary matrix.</li>\n",
    "<li style = 'font-size:16px;font-family:Arial'><code>ADD:</code> The secondary matrix is added to the primary matrix.</li>\n",
    "<li style = 'font-size:16px;font-family:Arial'><code>MUL:</code> The primary matrix is multiplied by the secondary matrix.</li>\n",
    "<li style = 'font-size:16px;font-family:Arial'><code>DIV:</code> The primary matrix is divided by the secondary matrix.</li></p>\n",
    "\n",
    "<p style = 'font-size:16px;font-family:Arial'>Detailed help can be found by passing function name to built-in help function. </p>"
   ]
  },
  {
   "cell_type": "code",
   "execution_count": null,
   "id": "0d612e5a-e361-4524-8489-dba24f3c47f9",
   "metadata": {},
   "outputs": [],
   "source": [
    "help(BinaryMatrixOp)"
   ]
  },
  {
   "cell_type": "markdown",
   "id": "c5efe043-e110-45d0-b012-ccf6ae6fc72b",
   "metadata": {},
   "source": [
    "<p style = 'font-size:16px;font-family:Arial'>The first step is to convert the data into TDMatrix, which is required for the input time series which are passed to the BinaryMatrixOp function.</p>"
   ]
  },
  {
   "cell_type": "code",
   "execution_count": null,
   "id": "a711f58c-fbd3-4457-9f6a-9cd5c1b192dc",
   "metadata": {},
   "outputs": [],
   "source": [
    "binary_matrix_complex_left = TDMatrix(data=data1,\n",
    "                                          id=\"id\",\n",
    "                                          row_index=\"seq\",\n",
    "                                          column_index=\"tick\",\n",
    "                                          row_index_style=\"SEQUENCE\",\n",
    "                                          column_index_style=\"SEQUENCE\",\n",
    "                                          payload_field=[\"real_val\", \"imaginary_val\"],\n",
    "                                          payload_content=\"COMPLEX\")"
   ]
  },
  {
   "cell_type": "code",
   "execution_count": null,
   "id": "73e8def9-f8a7-40b0-bbf0-4cb3e4295794",
   "metadata": {},
   "outputs": [],
   "source": [
    "binary_matrix_complex_right = TDMatrix(data=data2,\n",
    "                                           id=\"id\",\n",
    "                                           row_index=\"seq\",\n",
    "                                           column_index=\"tick\",\n",
    "                                           row_index_style=\"SEQUENCE\",\n",
    "                                           column_index_style=\"SEQUENCE\",\n",
    "                                           payload_field=[\"real_val\", \"imaginary_val\"],\n",
    "                                           payload_content=\"COMPLEX\")"
   ]
  },
  {
   "cell_type": "markdown",
   "id": "0bd6859c-b85a-4599-90f5-1f6621980fab",
   "metadata": {},
   "source": [
    "<p style = 'font-size:16px;font-family:Arial'>We use the BinaryMatrixOp to perform addition of two time matrix of equal size.</p>"
   ]
  },
  {
   "cell_type": "code",
   "execution_count": null,
   "id": "8965392c-404e-4e25-b5b8-c7ef06069154",
   "metadata": {},
   "outputs": [],
   "source": [
    "uaf_out = BinaryMatrixOp(data1=binary_matrix_complex_left,\n",
    "                               data2=binary_matrix_complex_right,\n",
    "                               data2_filter_expr=binary_matrix_complex_right.id==1,\n",
    "                               math_op=\"ADD\",\n",
    "                               input_fmt_input_mode=\"MANY2ONE\")\n",
    "\n",
    "binarymatrix_df = uaf_out.result\n",
    "binarymatrix_df"
   ]
  },
  {
   "cell_type": "markdown",
   "id": "bc86974e-2f85-4298-8658-94c06f94aaf1",
   "metadata": {},
   "source": [
    "<p style = 'font-size:16px;font-family:Arial'>We use the BinaryMatrixOp to perform multiplication operation in MATCH mode between two matrices holding REAL payload.</p>"
   ]
  },
  {
   "cell_type": "code",
   "execution_count": null,
   "id": "a270c57b-5464-4275-b6c9-cf334b8ebc2c",
   "metadata": {},
   "outputs": [],
   "source": [
    "binary_matrix_real_left = TDMatrix(data=data3,\n",
    "                                       id=\"id\",\n",
    "                                       row_index=\"seq\",\n",
    "                                       column_index=\"tick\",\n",
    "                                       row_index_style=\"SEQUENCE\",\n",
    "                                       column_index_style=\"SEQUENCE\",\n",
    "                                       payload_field=\"a\",\n",
    "                                       payload_content=\"REAL\") "
   ]
  },
  {
   "cell_type": "code",
   "execution_count": null,
   "id": "44032926-1307-4855-a61a-f95bb2b12457",
   "metadata": {},
   "outputs": [],
   "source": [
    "binary_matrix_real_right = TDMatrix(data=data4,\n",
    "                                        id=\"id\",\n",
    "                                        row_index=\"seq\",\n",
    "                                        column_index=\"tick\",\n",
    "                                        row_index_style=\"SEQUENCE\",\n",
    "                                        column_index_style=\"SEQUENCE\",\n",
    "                                        payload_field=\"b\",\n",
    "                                        payload_content=\"REAL\")"
   ]
  },
  {
   "cell_type": "code",
   "execution_count": null,
   "id": "0907a5a0-2047-445c-b5e0-01e4edfedfda",
   "metadata": {},
   "outputs": [],
   "source": [
    "uaf_out_2 = BinaryMatrixOp(data1=binary_matrix_real_left,\n",
    "                               data2=binary_matrix_real_right,\n",
    "                               math_op=\"MUL\",\n",
    "                               input_fmt_input_mode=\"MATCH\")\n",
    "\n",
    "binarymatrix_mul_df = uaf_out_2.result\n",
    "binarymatrix_mul_df"
   ]
  },
  {
   "cell_type": "markdown",
   "id": "5f903a39-399d-4f9b-804f-a6f841520aac",
   "metadata": {},
   "source": [
    "<p style = 'font-size:16px;font-family:Arial'>The result matrix produced by the BinaryMatrixOp() function is of the same size, 'N * M', as of its inputs and inherits the TDMatrix identifier (id), from the primary matrix.</p>\n"
   ]
  },
  {
   "cell_type": "markdown",
   "id": "c25fdaf1-098b-4dea-984b-579c6412557e",
   "metadata": {},
   "source": [
    "<hr style=\"height:2px;border:none;\">\n",
    "<b style = 'font-size:20px;font-family:Arial'>4. Cleanup</b>"
   ]
  },
  {
   "cell_type": "markdown",
   "id": "a5d460af-1a32-4681-8094-360c3f25dc1f",
   "metadata": {},
   "source": [
    "<p style = 'font-size:18px;font-family:Arial'><b>Work Tables</b></p>\n",
    "<p style = 'font-size:16px;font-family:Arial'>The following code will clean up tables created above.</p>"
   ]
  },
  {
   "cell_type": "code",
   "execution_count": null,
   "id": "9dff9677-dae1-4cc5-b78e-3d197cc41e0c",
   "metadata": {},
   "outputs": [],
   "source": [
    "db_drop_table(\"binary_matrix_complex_left\")\n",
    "db_drop_table(\"binary_matrix_complex_right\")\n",
    "db_drop_table(\"binary_matrix_real_left\")\n",
    "db_drop_table(\"binary_matrix_real_right\")"
   ]
  },
  {
   "cell_type": "code",
   "execution_count": null,
   "id": "9b96168c-7973-4259-b3e0-668b92fd846e",
   "metadata": {},
   "outputs": [],
   "source": [
    "remove_context()"
   ]
  },
  {
   "cell_type": "markdown",
   "id": "4317a6cf-1479-4aa8-b30a-ee0a3b5231a8",
   "metadata": {},
   "source": [
    "<hr style=\"height:1px;border:none;\">\n",
    "\n",
    "<p style = 'font-size:16px;font-family:Arial'><b>Links:</b></p>\n",
    "<ul style = 'font-size:16px;font-family:Arial'>\n",
    "    <li>Teradataml Python reference: <a href = 'https://docs.teradata.com/search/all?query=Python+Package+User+Guide&content-lang=en-US'>here</a></li>\n",
    "    <li>BinaryMatrixOp function reference: <a href = 'https://docs.teradata.com/search/all?query=BinaryMatrixOp&content-lang=en-US'>here</a></li>\n",
    "    \n",
    "</ul>"
   ]
  },
  {
   "cell_type": "markdown",
   "id": "b2dcca28-5de5-44d7-88cb-45a12153b3f8",
   "metadata": {},
   "source": [
    "<footer style=\"padding-bottom:35px; border-bottom:3px solid #91A0Ab\">\n",
    "    <div style=\"float:left;margin-top:14px\">ClearScape Analytics™</div>\n",
    "    <div style=\"float:right;\">\n",
    "        <div style=\"float:left; margin-top:14px\">\n",
    "            Copyright © Teradata Corporation - 2025. All Rights Reserved\n",
    "        </div>\n",
    "    </div>\n",
    "</footer>"
   ]
  }
 ],
 "metadata": {
  "kernelspec": {
   "display_name": "Python 3 (ipykernel)",
   "language": "python",
   "name": "python3"
  },
  "language_info": {
   "codemirror_mode": {
    "name": "ipython",
    "version": 3
   },
   "file_extension": ".py",
   "mimetype": "text/x-python",
   "name": "python",
   "nbconvert_exporter": "python",
   "pygments_lexer": "ipython3",
   "version": "3.9.10"
  }
 },
 "nbformat": 4,
 "nbformat_minor": 5
}
