{
 "cells": [
  {
   "cell_type": "markdown",
   "id": "bc549e6c-0cc4-4188-94a3-a9bdd3ae3dfa",
   "metadata": {},
   "source": [
    "<header>\n",
    "   <p  style='font-size:36px;font-family:Arial; color:#F0F0F0; background-color: #00233c; padding-left: 20pt; padding-top: 20pt;padding-bottom: 10pt; padding-right: 20pt;'>\n",
    "       InputValidator function in Vantage\n",
    "  <br>\n",
    "       <img id=\"teradata-logo\" src=\"https://storage.googleapis.com/clearscape_analytics_demo_data/DEMO_Logo/teradata.svg\" alt=\"Teradata\" style=\"width: 125px; height: auto; margin-top: 20pt;\">\n",
    "    </p>\n",
    "</header>"
   ]
  },
  {
   "cell_type": "markdown",
   "id": "7ae7611a-0795-4168-b716-01fee6880cbd",
   "metadata": {},
   "source": [
    "<p style = 'font-size:20px;font-family:Arial'><b>Introduction</b></p>\n",
    "\n",
    "<p style = 'font-size:20px;font-family:Arial'><b>InputValidator</b></p>\n",
    "<p style = 'font-size:16px;font-family:Arial'>The InputValidator() function validates the data and identifies series and matrixes that have indiscrete data. Discrete data is classified as follows:</p>\n",
    "<p style = 'font-size:16px;font-family:Arial'><b>Series data:</b></p>\n",
    "<li style = 'font-size:16px;font-family:Arial'>Interval is the same for row_index field.</li>\n",
    "<li style = 'font-size:16px;font-family:Arial'>No duplicate row_index field in same series.</li></p>\n",
    "<p style = 'font-size:16px;font-family:Arial'><b>Matrix data:</b></p>\n",
    "<li style = 'font-size:16px;font-family:Arial'>Interval is the same for row_index field.</li>\n",
    "<li style = 'font-size:16px;font-family:Arial'>Interval is the same for column_index field.</li>\n",
    "<li style = 'font-size:16px;font-family:Arial'>No duplicate row_index or no duplicate column_index in same matrix.</li>\n",
    "<li style = 'font-size:16px;font-family:Arial'>Number of rows in each series (wavelet) is the same.</li>\n",
    "<li style = 'font-size:16px;font-family:Arial'>For each series (wavelet), column_index starts from same value under row major.</li></p>\n"
   ]
  },
  {
   "cell_type": "markdown",
   "id": "6b3a00b4-6661-4c91-9b2d-cb7b0b403140",
   "metadata": {},
   "source": [
    "<hr style=\"height:2px;border:none;\">\n",
    "<b style = 'font-size:20px;font-family:Arial'>1. Initiate a connection to Vantage</b>"
   ]
  },
  {
   "cell_type": "markdown",
   "id": "2346857f-e0d3-488a-8a3f-ac6dff752c2b",
   "metadata": {},
   "source": [
    "<p style = 'font-size:16px;font-family:Arial'>In the section, we import the required libraries and set environment variables and environment paths (if required)."
   ]
  },
  {
   "cell_type": "code",
   "execution_count": null,
   "id": "c5af5af3-29d5-4f6a-8334-9df6924e7787",
   "metadata": {},
   "outputs": [],
   "source": [
    "from teradataml import (\n",
    "    create_context,\n",
    "    execute_sql,\n",
    "    load_example_data,\n",
    "    DataFrame,\n",
    "    in_schema,\n",
    "    TDSeries,\n",
    "    InputValidator,\n",
    "    Figure,\n",
    "    plot,\n",
    "    db_drop_view,\n",
    "    remove_context,\n",
    "    copy_to_sql,\n",
    "    db_drop_table\n",
    "    )\n",
    "\n",
    "from teradatasqlalchemy.types import *\n",
    "\n",
    "from teradataml import to_numeric\n",
    "# Modify the following to match the specific client environment settings\n",
    "display.max_rows = 5"
   ]
  },
  {
   "cell_type": "markdown",
   "id": "ad3dd7b4-831c-4fb3-ab71-719c8c99a71c",
   "metadata": {},
   "source": [
    "<hr style=\"height:1px;border:none;\">\n",
    "<p style = 'font-size:18px;font-family:Arial'><b>1.1 Connect to Vantage</b></p>\n",
    "<p style = 'font-size:16px;font-family:Arial'>You will be prompted to provide the password. Enter your password, press the Enter key, and then use the down arrow to go to the next cell.</p>"
   ]
  },
  {
   "cell_type": "code",
   "execution_count": null,
   "id": "2742444c-4349-4b0f-b4e5-b068a8785cd9",
   "metadata": {},
   "outputs": [],
   "source": [
    "%run -i ../../UseCases/startup.ipynb\n",
    "eng = create_context(host = 'host.docker.internal', username='demo_user', password = password)\n",
    "print(eng)"
   ]
  },
  {
   "cell_type": "code",
   "execution_count": null,
   "id": "01c4a128-d106-46ea-8dee-34acc5abd29f",
   "metadata": {},
   "outputs": [],
   "source": [
    "%%capture\n",
    "execute_sql('''SET query_band='DEMO=PP_InputValidator.ipynb;' UPDATE FOR SESSION; ''')"
   ]
  },
  {
   "cell_type": "markdown",
   "id": "efe2fd2d-63ff-4278-9157-8b9110d682e8",
   "metadata": {},
   "source": [
    "<p style = 'font-size:16px;font-family:Arial'>Begin running steps with Shift + Enter keys. </p>"
   ]
  },
  {
   "cell_type": "markdown",
   "id": "d3a7f2dc-841d-4660-a928-84a35660537a",
   "metadata": {},
   "source": [
    "<hr style='height:1px;border:none;'>\n",
    "\n",
    "<p style = 'font-size:18px;font-family:Arial'><b>1.2 Getting Data for This Demo</b></p>\n",
    "\n",
    "<p style = 'font-size:16px;font-family:Arial'>Here, we will get the time series data which is available in the teradataml library and use the same to show the usage of the function.</p>"
   ]
  },
  {
   "cell_type": "code",
   "execution_count": null,
   "id": "dd60a3cd-8d8c-4af5-98ca-1c5a8fc7ffa2",
   "metadata": {},
   "outputs": [],
   "source": [
    "load_example_data(\"uaf\", [\"buoydata_mix\"])"
   ]
  },
  {
   "cell_type": "markdown",
   "id": "18b44e89-5377-42a7-a175-6463f06afa7f",
   "metadata": {},
   "source": [
    "<hr style=\"height:2px;border:none;\">\n",
    "<b style = 'font-size:20px;font-family:Arial'>2. Data Exploration</b>\n",
    "<p style = 'font-size:16px;font-family:Arial'>Create a \"Virtual DataFrame\" that points to the data set in Vantage. Check the shape of the dataframe as check the datatype of all the columns of the dataframe.</p>"
   ]
  },
  {
   "cell_type": "code",
   "execution_count": null,
   "id": "fcc4c0e8-c847-4fed-ae03-90016f8a6f7e",
   "metadata": {},
   "outputs": [],
   "source": [
    "data = DataFrame.from_table(\"buoydata_mix\")\n",
    "data"
   ]
  },
  {
   "cell_type": "markdown",
   "id": "4a2f79a0-eb16-4c3b-bec2-c313e97ac940",
   "metadata": {},
   "source": [
    "<hr style=\"height:2px;border:none;\">\n",
    "<b style = 'font-size:20px;font-family:Arial'>3. InputValidator</b>\n",
    "<p style = 'font-size:16px;font-family:Arial'>The InputValidator() function validates the data and identifies\n",
    " series and matrixes that have indiscrete data.</p>\n",
    "\n",
    "<p style = 'font-size:16px;font-family:Arial'>We will Validate the input series to check if it has indiscrete data or not.</p>"
   ]
  },
  {
   "cell_type": "markdown",
   "id": "c793433b-7474-49cf-904d-12a96bd955e3",
   "metadata": {},
   "source": [
    "<p style = 'font-size:16px;font-family:Arial'>We need to first convert the data from dataframe into a TDSeries which will be passed to the InputValidator function as input.</p>"
   ]
  },
  {
   "cell_type": "code",
   "execution_count": null,
   "id": "92742cb8-b040-4518-8990-3447a9bd1bd7",
   "metadata": {},
   "outputs": [],
   "source": [
    "data_series_df = TDSeries(data=data,\n",
    "                              row_index=\"TD_TIMECODE\",\n",
    "                              row_index_style=\"TIMECODE\",\n",
    "                              id=[\"oceanname\", \"buoyid\"],\n",
    "                              payload_field=\"salinity\",\n",
    "                              payload_content=\"REAL\")\n",
    " \n",
    "# Example 1: Validate the input series to check if it has indiscrete data or not.\n",
    "uaf_out = InputValidator(data=data_series_df, failure_mode=\"FUNC_FIRST\")\n",
    "uaf_out.result"
   ]
  },
  {
   "cell_type": "markdown",
   "id": "0eec3932-dec7-43f6-8ee6-5771b6f7ff7d",
   "metadata": {},
   "source": [
    "<hr style=\"height:2px;border:none;\">\n",
    "<b style = 'font-size:20px;font-family:Arial'>4. Cleanup</b>"
   ]
  },
  {
   "cell_type": "markdown",
   "id": "2a89f93a-32c0-4516-b81b-8fb608a62b19",
   "metadata": {},
   "source": [
    "<p style = 'font-size:18px;font-family:Arial'><b>Work Tables</b></p>\n",
    "<p style = 'font-size:16px;font-family:Arial'>The following code will clean up intermediate tables.</p>"
   ]
  },
  {
   "cell_type": "code",
   "execution_count": null,
   "id": "ee12c7f5-b027-4983-8adf-e86c405d0c19",
   "metadata": {},
   "outputs": [],
   "source": [
    "db_drop_table('buoydata_mix')"
   ]
  },
  {
   "cell_type": "code",
   "execution_count": null,
   "id": "e7637a79-ace1-4df7-a63c-4e080e84f4c7",
   "metadata": {},
   "outputs": [],
   "source": [
    "remove_context()"
   ]
  },
  {
   "cell_type": "markdown",
   "id": "4317a6cf-1479-4aa8-b30a-ee0a3b5231a8",
   "metadata": {},
   "source": [
    "<hr style=\"height:1px;border:none;\">\n",
    "\n",
    "<p style = 'font-size:16px;font-family:Arial'><b>Links:</b></p>\n",
    "<ul style = 'font-size:16px;font-family:Arial'>\n",
    "    <li>Teradataml Python reference: <a href = 'https://docs.teradata.com/search/all?query=Python+Package+User+Guide&content-lang=en-US'>here</a></li>\n",
    "    <li>InputValidator function reference: <a href = 'https://docs.teradata.com/search/all?query=InputValidator&content-lang=en-US'>here</a></li>\n",
    "    \n",
    "</ul>"
   ]
  },
  {
   "cell_type": "markdown",
   "id": "b2dcca28-5de5-44d7-88cb-45a12153b3f8",
   "metadata": {},
   "source": [
    "<footer style=\"padding-bottom:35px; border-bottom:3px solid #91A0Ab\">\n",
    "    <div style=\"float:left;margin-top:14px\">ClearScape Analytics™</div>\n",
    "    <div style=\"float:right;\">\n",
    "        <div style=\"float:left; margin-top:14px\">\n",
    "            Copyright © Teradata Corporation - 2025. All Rights Reserved\n",
    "        </div>\n",
    "    </div>\n",
    "</footer>"
   ]
  }
 ],
 "metadata": {
  "kernelspec": {
   "display_name": "Python 3 (ipykernel)",
   "language": "python",
   "name": "python3"
  },
  "language_info": {
   "codemirror_mode": {
    "name": "ipython",
    "version": 3
   },
   "file_extension": ".py",
   "mimetype": "text/x-python",
   "name": "python",
   "nbconvert_exporter": "python",
   "pygments_lexer": "ipython3",
   "version": "3.9.10"
  }
 },
 "nbformat": 4,
 "nbformat_minor": 5
}
