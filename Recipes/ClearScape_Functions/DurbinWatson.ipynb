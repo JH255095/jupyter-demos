{
 "cells": [
  {
   "cell_type": "markdown",
   "id": "bc549e6c-0cc4-4188-94a3-a9bdd3ae3dfa",
   "metadata": {},
   "source": [
    "<header>\n",
    "   <p  style='font-size:36px;font-family:Arial; color:#F0F0F0; background-color: #00233c; padding-left: 20pt; padding-top: 20pt;padding-bottom: 10pt; padding-right: 20pt;'>\n",
    "       DurbinWatson Function in Vantage\n",
    "  <br>\n",
    "       <img id=\"teradata-logo\" src=\"https://storage.googleapis.com/clearscape_analytics_demo_data/DEMO_Logo/teradata.svg\" alt=\"Teradata\" style=\"width: 125px; height: auto; margin-top: 20pt;\">\n",
    "    </p>\n",
    "</header>"
   ]
  },
  {
   "cell_type": "markdown",
   "id": "7ae7611a-0795-4168-b716-01fee6880cbd",
   "metadata": {},
   "source": [
    "<p style = 'font-size:20px;font-family:Arial'><b>Introduction</b></p>\n",
    "<p style = 'font-size:18px;font-family:Arial'><b>DurbinWatson</b></p>\n",
    "<p style = 'font-size:16px;font-family:Arial'>The DurbinWatson() function determines if there is evidence of serial correlation between residuals in a residual series. Serial correlation occurs when the residuals of a model are dependent and go against an assumption of linear regression.</p>\n",
    "\n",
    "<p style = 'font-size:16px;font-family:Arial'>This function accepts inputs from tables referenced by a TDSeries, and TDAnalyticResult that includes an fitresidual layer. It takes values between 0 and 4, with a value of 2 indicating no serial correlation. Values between 0 and 2 indicate positive serial correlation. Values between 2 and 4 indicate negative serial correlation.</p>\n",
    "\n",
    "<p style = 'font-size:16px;font-family:Arial'>The test statistic is based on the sum of squared differences between adjacent residuals in a model. The statistic is compared to critical values that depend on the sample size and the number of independent variables in the model. If the test statistic is significantly different from 2, then it indicates that the residuals are serial correlated, and the regression model may not be reliable. In this case, you need to change the model or employ additional techniques to account for the serial correlation..</p>\n",
    "\n",
    "<p style = 'font-size:16px;font-family:Arial'>The following procedure is an example of how to use DurbinWatson() function:</p>\n",
    "<li style = 'font-size:16px;font-family:Arial'>Use LinearRegr() on the residuals.</li>\n",
    "<li style = 'font-size:16px;font-family:Arial'>Use DurbinWatson() on the output from LinearRegr() to determine</li>         \n"
   ]
  },
  {
   "cell_type": "markdown",
   "id": "6b3a00b4-6661-4c91-9b2d-cb7b0b403140",
   "metadata": {},
   "source": [
    "<hr style=\"height:2px;border:none;\">\n",
    "<b style = 'font-size:20px;font-family:Arial'>1. Initiate a connection to Vantage</b>"
   ]
  },
  {
   "cell_type": "markdown",
   "id": "2346857f-e0d3-488a-8a3f-ac6dff752c2b",
   "metadata": {},
   "source": [
    "<p style = 'font-size:16px;font-family:Arial'>In the section, we import the required libraries and set environment variables and environment paths (if required)."
   ]
  },
  {
   "cell_type": "code",
   "execution_count": null,
   "id": "c5af5af3-29d5-4f6a-8334-9df6924e7787",
   "metadata": {},
   "outputs": [],
   "source": [
    "from teradataml import (\n",
    "    create_context,\n",
    "    execute_sql,\n",
    "    load_example_data,\n",
    "    DataFrame,\n",
    "    in_schema,\n",
    "    TDSeries,\n",
    "    LinearRegr,\n",
    "    db_drop_table,\n",
    "    DurbinWatson,\n",
    "    db_drop_view,\n",
    "    remove_context\n",
    "    )\n",
    "from teradatasqlalchemy.types import *\n",
    "# Modify the following to match the specific client environment settings\n",
    "display.max_rows = 5"
   ]
  },
  {
   "cell_type": "markdown",
   "id": "ad3dd7b4-831c-4fb3-ab71-719c8c99a71c",
   "metadata": {},
   "source": [
    "<hr style=\"height:1px;border:none;\">\n",
    "<p style = 'font-size:18px;font-family:Arial'><b>1.1 Connect to Vantage</b></p>\n",
    "<p style = 'font-size:16px;font-family:Arial'>You will be prompted to provide the password. Enter your password, press the Enter key, and then use the down arrow to go to the next cell.</p>"
   ]
  },
  {
   "cell_type": "code",
   "execution_count": null,
   "id": "2742444c-4349-4b0f-b4e5-b068a8785cd9",
   "metadata": {},
   "outputs": [],
   "source": [
    "%run -i ../../UseCases/startup.ipynb\n",
    "eng = create_context(host = 'host.docker.internal', username='demo_user', password = password)\n",
    "print(eng)"
   ]
  },
  {
   "cell_type": "code",
   "execution_count": null,
   "id": "01c4a128-d106-46ea-8dee-34acc5abd29f",
   "metadata": {},
   "outputs": [],
   "source": [
    "%%capture\n",
    "execute_sql('''SET query_band='DEMO=PP_DurbinWatson.ipynb;' UPDATE FOR SESSION; ''')"
   ]
  },
  {
   "cell_type": "markdown",
   "id": "efe2fd2d-63ff-4278-9157-8b9110d682e8",
   "metadata": {},
   "source": [
    "<p style = 'font-size:16px;font-family:Arial'>Begin running steps with Shift + Enter keys. </p>"
   ]
  },
  {
   "cell_type": "markdown",
   "id": "4689d31c-e567-43e0-aad5-02003aec958e",
   "metadata": {},
   "source": [
    "<hr style='height:1px;border:none;background-color:#00233C;'>\n",
    "\n",
    "<p style = 'font-size:18px;font-family:Arial;color:#00233c'><b>1.2 Getting Data for This Demo</b></p>\n",
    "\n",
    "<p style = 'font-size:16px;font-family:Arial;color:#00233C'>Here, we will get the time series data which is available in the teradataml library and use the same to show the usage of the function.</p>"
   ]
  },
  {
   "cell_type": "code",
   "execution_count": null,
   "id": "ac34b250-03f1-4c41-af45-03a43a2a7c07",
   "metadata": {},
   "outputs": [],
   "source": [
    "load_example_data(\"uaf\", [\"house_values2\"])"
   ]
  },
  {
   "cell_type": "markdown",
   "id": "f0d37b74-8bca-48cb-bf58-501fcbdcf5a5",
   "metadata": {},
   "source": [
    "<hr style=\"height:2px;border:none;background-color:#00233C;\">\n",
    "<b style = 'font-size:20px;font-family:Arial;color:#00233C'>2. Data Exploration</b>\n",
    "<p style = 'font-size:16px;font-family:Arial;color:#00233C'>Create a \"Virtual DataFrame\" that points to the data set in Vantage. Check the shape of the dataframe as check the datatype of all the columns of the dataframe.</p>"
   ]
  },
  {
   "cell_type": "code",
   "execution_count": null,
   "id": "ec9692b4-aa25-4a5c-8a30-9ff1e68eeda2",
   "metadata": {},
   "outputs": [],
   "source": [
    "data = DataFrame.from_table(\"house_values2\")\n",
    "data"
   ]
  },
  {
   "cell_type": "markdown",
   "id": "89fc6810-4e04-4924-8707-9c76b744f14f",
   "metadata": {},
   "source": [
    "<hr style=\"height:2px;border:none;\">\n",
    "<b style = 'font-size:20px;font-family:Arial'>3. DurbinWatson</b><p></p>\n",
    "<p style = 'font-size:16px;font-family:Arial'>The DurbinWatson() function determines serial correlation between residuals within an independent time series data, or in the residual result of TDAnalyticResult.</p>"
   ]
  },
  {
   "cell_type": "code",
   "execution_count": null,
   "id": "11435837-2b42-4b2d-b0a3-ddd51ea4d367",
   "metadata": {},
   "outputs": [],
   "source": [
    "linearregr_series = TDSeries(data=data,\n",
    "                                 id=\"cid\",\n",
    "                                 row_index_style=\"SEQUENCE\",\n",
    "                                 row_index=\"s_no\",\n",
    "                                 payload_field=[\"house_value\", \"salary\"],\n",
    "                                 payload_content=\"MULTIVAR_REAL\"\n",
    "                                 )"
   ]
  },
  {
   "cell_type": "markdown",
   "id": "32a9ea5b-e2b5-442c-b904-6665e94b132b",
   "metadata": {},
   "source": [
    "<p style = 'font-size:16px;font-family:Arial'>The LinearRegr() function fits TDSeries data to the curve mentioned in the \"formula. It returns a result containing solved coefficients, model statistics, and residuals statistics.</p>"
   ]
  },
  {
   "cell_type": "code",
   "execution_count": null,
   "id": "7e4cf1b9-0de6-4635-a227-532b65832782",
   "metadata": {},
   "outputs": [],
   "source": [
    "linearregr_output = LinearRegr(data=linearregr_series,\n",
    "                                   variables_count=2,\n",
    "                                   weights=False,\n",
    "                                   formula=\"Y=B0+B1*X1\",\n",
    "                                   algorithm='QR',\n",
    "                                   model_stats=True,\n",
    "                                   coeff_stats=False,\n",
    "                                   residuals=True\n",
    "                                   )"
   ]
  },
  {
   "cell_type": "markdown",
   "id": "69569645-5f0d-45d8-a446-da86217750e0",
   "metadata": {},
   "source": [
    "<p></p>\n",
    "<p style = 'font-size:16px;font-family:Arial'>Detailed help can be found by passing function name to built-in help function. </p>"
   ]
  },
  {
   "cell_type": "code",
   "execution_count": null,
   "id": "8cb9fedd-e3af-420a-b86f-17b2591e5603",
   "metadata": {},
   "outputs": [],
   "source": [
    "help(DurbinWatson)"
   ]
  },
  {
   "cell_type": "markdown",
   "id": "26676d14-9d32-46f0-9b53-9992d3d76f49",
   "metadata": {},
   "source": [
    "<p style = 'font-size:16px;font-family:Arial'>We need to first convert the data from dataframe into a TDSeries which will be passed to the DurbinWatson function as input.</p>"
   ]
  },
  {
   "cell_type": "code",
   "execution_count": null,
   "id": "516ee889-cd43-4d2b-aad8-a74a31f038b7",
   "metadata": {},
   "outputs": [],
   "source": [
    "seriesspec = TDSeries(data=linearregr_output.fitresiduals,\n",
    "                          id=\"cid\",\n",
    "                          row_index_style=\"SEQUENCE\",\n",
    "                          row_index=\"ROW_I\",\n",
    "                          payload_field=\"RESIDUAL\",\n",
    "                          payload_content=\"REAL\"\n",
    "                          )"
   ]
  },
  {
   "cell_type": "code",
   "execution_count": null,
   "id": "261380ba-a48a-44bc-8429-94ce4e4f8a85",
   "metadata": {},
   "outputs": [],
   "source": [
    "uaf_out2 = DurbinWatson(data=seriesspec,\n",
    "                            explanatory_count=2,\n",
    "                            method=\"DW_FORMULA\",\n",
    "                            significance_level=0.05)\n",
    "# Print the result DataFrame.\n",
    "uaf_out2.result"
   ]
  },
  {
   "cell_type": "markdown",
   "id": "d0320e5c-6fe2-4197-ac01-dafb9a9d6c45",
   "metadata": {},
   "source": [
    "<p></p>\n",
    "<p style = 'font-size:16px;font-family:Arial;color:#00233C'>If the test statistic is significantly different from 2, then it indicates that the residuals are serial correlated, and the regression model may not be reliable. In this case, you need to change the model or employ additional techniques to account for the serial correlation.</p>\n",
    "<li style = 'font-size:16px;font-family:Arial;color:#00233C'>ACCEPT means the null hypothesis is accepted. No Unit roots are present, and therefore the process is stationary.</li>\n",
    "<li style = 'font-size:16px;font-family:Arial;color:##00233C'>REJECT means the null hypothesis is rejected. Unit roots are present, and the process may or may not be stationary, depending on other factors.</li>\n",
    "</p>"
   ]
  },
  {
   "cell_type": "markdown",
   "id": "151d5db4-29a9-49d9-8a61-d53f9627a294",
   "metadata": {},
   "source": [
    "<hr style=\"height:2px;border:none;\">\n",
    "<b style = 'font-size:20px;font-family:Arial'>4. Cleanup</b>"
   ]
  },
  {
   "cell_type": "markdown",
   "id": "4fd343a6-756e-4f76-89df-dc16129ecef2",
   "metadata": {},
   "source": [
    "<p style = 'font-size:18px;font-family:Arial'><b>Work Tables</b></p>\n",
    "<p style = 'font-size:16px;font-family:Arial'>The following code will clean up intermediate tables.</p>"
   ]
  },
  {
   "cell_type": "code",
   "execution_count": null,
   "id": "db248286-66f0-4502-8528-6c32736cea06",
   "metadata": {},
   "outputs": [],
   "source": [
    "db_drop_table(\"house_values2\")"
   ]
  },
  {
   "cell_type": "code",
   "execution_count": null,
   "id": "46c8c10b-ea55-4da0-975c-0e8f5320c788",
   "metadata": {},
   "outputs": [],
   "source": [
    "remove_context()"
   ]
  },
  {
   "cell_type": "markdown",
   "id": "4317a6cf-1479-4aa8-b30a-ee0a3b5231a8",
   "metadata": {},
   "source": [
    "<hr style=\"height:1px;border:none;\">\n",
    "\n",
    "<p style = 'font-size:16px;font-family:Arial'><b>Links:</b></p>\n",
    "<ul style = 'font-size:16px;font-family:Arial'>\n",
    "    <li>Teradataml Python reference: <a href = 'https://docs.teradata.com/search/all?query=Python+Package+User+Guide&content-lang=en-US'>here</a></li>\n",
    "    <li>DurbinWatson function reference: <a href = 'https://docs.teradata.com/search/all?query=DurbinWatson&content-lang=en-US'>here</a></li>\n",
    "</ul>"
   ]
  },
  {
   "cell_type": "markdown",
   "id": "b2dcca28-5de5-44d7-88cb-45a12153b3f8",
   "metadata": {},
   "source": [
    "<footer style=\"padding-bottom:35px; border-bottom:3px solid #91A0Ab\">\n",
    "    <div style=\"float:left;margin-top:14px\">ClearScape Analytics™</div>\n",
    "    <div style=\"float:right;\">\n",
    "        <div style=\"float:left; margin-top:14px\">\n",
    "            Copyright © Teradata Corporation - 2025. All Rights Reserved\n",
    "        </div>\n",
    "    </div>\n",
    "</footer>"
   ]
  }
 ],
 "metadata": {
  "kernelspec": {
   "display_name": "Python 3 (ipykernel)",
   "language": "python",
   "name": "python3"
  },
  "language_info": {
   "codemirror_mode": {
    "name": "ipython",
    "version": 3
   },
   "file_extension": ".py",
   "mimetype": "text/x-python",
   "name": "python",
   "nbconvert_exporter": "python",
   "pygments_lexer": "ipython3",
   "version": "3.9.10"
  }
 },
 "nbformat": 4,
 "nbformat_minor": 5
}
