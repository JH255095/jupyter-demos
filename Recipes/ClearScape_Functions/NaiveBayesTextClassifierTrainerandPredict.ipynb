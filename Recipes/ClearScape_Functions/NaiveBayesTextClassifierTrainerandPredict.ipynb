{
 "cells": [
  {
   "cell_type": "markdown",
   "id": "bc549e6c-0cc4-4188-94a3-a9bdd3ae3dfa",
   "metadata": {},
   "source": [
    "<header>\n",
    "   <p  style='font-size:36px;font-family:Arial; color:#F0F0F0; background-color: #00233c; padding-left: 20pt; padding-top: 20pt;padding-bottom: 10pt; padding-right: 20pt;'>\n",
    "       NaiveBayesTextClassifierTrainer and NaiveBayesTextClassifierPredict function in Vantage\n",
    "  <br>\n",
    "       <img id=\"teradata-logo\" src=\"https://storage.googleapis.com/clearscape_analytics_demo_data/DEMO_Logo/teradata.svg\" alt=\"Teradata\" style=\"width: 125px; height: auto; margin-top: 20pt;\">\n",
    "    </p>\n",
    "</header>"
   ]
  },
  {
   "cell_type": "markdown",
   "id": "7ae7611a-0795-4168-b716-01fee6880cbd",
   "metadata": {},
   "source": [
    "<p style = 'font-size:20px;font-family:Arial'><b>Introduction</b></p>\n",
    "<p style = 'font-size:16px;font-family:Arial'>The NaiveBayesTextClassifierTrainer function calculates the conditional probabilities for token-category pairs, the prior probabilities, and the missing token probabilities for all categories. The trainer function trains the model with the probability values, and the predict function uses the values to classify documents into categories.<br>In this notebook we will see how we can use the NaiveBayesTextClassifierTrainer and Predict function available in Vantage.</p>"
   ]
  },
  {
   "cell_type": "markdown",
   "id": "6b3a00b4-6661-4c91-9b2d-cb7b0b403140",
   "metadata": {},
   "source": [
    "<hr style=\"height:2px;border:none;\">\n",
    "<b style = 'font-size:20px;font-family:Arial'>1. Initiate a connection to Vantage</b>"
   ]
  },
  {
   "cell_type": "markdown",
   "id": "2346857f-e0d3-488a-8a3f-ac6dff752c2b",
   "metadata": {},
   "source": [
    "<p style = 'font-size:16px;font-family:Arial'>In the section, we import the required libraries and set environment variables and environment paths (if required)."
   ]
  },
  {
   "cell_type": "code",
   "execution_count": null,
   "id": "c5af5af3-29d5-4f6a-8334-9df6924e7787",
   "metadata": {},
   "outputs": [],
   "source": [
    "from teradataml import *\n",
    "\n",
    "# Modify the following to match the specific client environment settings\n",
    "display.max_rows = 5"
   ]
  },
  {
   "cell_type": "markdown",
   "id": "ad3dd7b4-831c-4fb3-ab71-719c8c99a71c",
   "metadata": {},
   "source": [
    "<hr style=\"height:1px;border:none;\">\n",
    "<p style = 'font-size:18px;font-family:Arial'><b>1.1 Connect to Vantage</b></p>\n",
    "<p style = 'font-size:16px;font-family:Arial'>You will be prompted to provide the password. Enter your password, press the Enter key, and then use the down arrow to go to the next cell.</p>"
   ]
  },
  {
   "cell_type": "code",
   "execution_count": null,
   "id": "2742444c-4349-4b0f-b4e5-b068a8785cd9",
   "metadata": {},
   "outputs": [],
   "source": [
    "%run -i ../../UseCases/startup.ipynb\n",
    "eng = create_context(host = 'host.docker.internal', username='demo_user', password = password)\n",
    "print(eng)"
   ]
  },
  {
   "cell_type": "code",
   "execution_count": null,
   "id": "e14915b0-7932-4e03-94ba-20f0599c3707",
   "metadata": {},
   "outputs": [],
   "source": [
    "%%capture\n",
    "execute_sql('''SET query_band='DEMO=PP_NaiveBayesTextClassifierTrainerandPredict_Python.ipynb;' UPDATE FOR SESSION; ''')"
   ]
  },
  {
   "cell_type": "markdown",
   "id": "efe2fd2d-63ff-4278-9157-8b9110d682e8",
   "metadata": {},
   "source": [
    "<p style = 'font-size:16px;font-family:Arial'>Begin running steps with Shift + Enter keys. </p>"
   ]
  },
  {
   "cell_type": "markdown",
   "id": "f003f332-7489-4bdd-a740-4af2a0a22280",
   "metadata": {},
   "source": [
    "<hr style='height:1px;border:none;'>\n",
    "\n",
    "<p style = 'font-size:18px;font-family:Arial'><b>1.2 Getting Data for This Demo</b></p>\n",
    "\n",
    "<p style = 'font-size:16px;font-family:Arial'>Here, we will get the data which is available in the teradataml library and use the same to show the usage of the function.</p>"
   ]
  },
  {
   "cell_type": "code",
   "execution_count": null,
   "id": "45c86176-734c-4b1c-ace0-d0c88657b4f8",
   "metadata": {},
   "outputs": [],
   "source": [
    "load_example_data(\"textparser\", [\"complaints\", \"stop_words\"])\n",
    "load_example_data(\"NaiveBayesTextClassifierPredict\",[\"complaints_tokens_test\"])"
   ]
  },
  {
   "cell_type": "markdown",
   "id": "2401d6d3-4fcd-46fc-8a94-7cafcd1258b0",
   "metadata": {},
   "source": [
    "<p style = 'font-size:16px;font-family:Arial'>Next is an optional step – if you want to see the status of databases/tables created and space used.</p>"
   ]
  },
  {
   "cell_type": "code",
   "execution_count": null,
   "id": "87429200-db02-450d-9472-4d1e2030124d",
   "metadata": {},
   "outputs": [],
   "source": [
    "%run -i ../../UseCases/run_procedure.py \"call space_report();\"        # Takes 10 seconds"
   ]
  },
  {
   "cell_type": "markdown",
   "id": "2a3762ac-ba27-4fa3-adba-d577262a4290",
   "metadata": {},
   "source": [
    "<hr style=\"height:2px;border:none;\">\n",
    "<b style = 'font-size:20px;font-family:Arial'>2. Data Exploration</b>\n",
    "<p style = 'font-size:16px;font-family:Arial'>Create a \"Virtual DataFrame\" that points to the data set in Vantage. Check the shape of the dataframe as check the datatype of all the columns of the dataframe.</p>"
   ]
  },
  {
   "cell_type": "code",
   "execution_count": null,
   "id": "3d936fab-7ca7-4e94-ba64-95c1da08b74f",
   "metadata": {},
   "outputs": [],
   "source": [
    "complaints = DataFrame.from_table(\"complaints\")\n",
    "stop_words = DataFrame.from_table(\"stop_words\")\n",
    "complaints"
   ]
  },
  {
   "cell_type": "markdown",
   "id": "bce07048-49e1-47a6-9b17-af0a57e844af",
   "metadata": {},
   "source": [
    "<p style = 'font-size:16px;font-family:Arial'>As a first step we will use the TextParser function and tokenize our text. </p>"
   ]
  },
  {
   "cell_type": "code",
   "execution_count": null,
   "id": "3af57b75-0d92-4b3e-8dfc-19e3cf2b1500",
   "metadata": {},
   "outputs": [],
   "source": [
    "# Tokenize the \"text_column\" and accumulate result by \"doc_id\" and \"category\".\n",
    "complaints_tokenized = TextParser(data=complaints,\n",
    "                                  text_column=\"text_data\",\n",
    "                                  object=stop_words,\n",
    "                                  remove_stopwords=True,\n",
    "                                  accumulate=[\"doc_id\", \"category\"])"
   ]
  },
  {
   "cell_type": "markdown",
   "id": "d76f5318-1d0a-4c25-9c3a-ae8b324ea670",
   "metadata": {},
   "source": [
    "<p style = 'font-size:16px;font-family:Arial'>Now we will use NaiveBayesTextClassifierTrainer function to train our model.<br>\n",
    "Detailed help can be found by passing function name to built-in help function.</p>"
   ]
  },
  {
   "cell_type": "code",
   "execution_count": null,
   "id": "499df5a2-cca3-45f5-9f18-8249736b1e5d",
   "metadata": {
    "tags": []
   },
   "outputs": [],
   "source": [
    "help(NaiveBayesTextClassifierTrainer)"
   ]
  },
  {
   "cell_type": "code",
   "execution_count": null,
   "id": "1c14d18b-c63e-47a7-926f-004ca03f5ae9",
   "metadata": {},
   "outputs": [],
   "source": [
    "# Example 1 : Calculate the conditional probabilities for token-category pairs.\n",
    "NaiveBayesTextClassifierTrainer_out = NaiveBayesTextClassifierTrainer(data=complaints_tokenized.result,\n",
    "                                                                      token_column=\"token\",\n",
    "                                                                      doc_category_column=\"category\")"
   ]
  },
  {
   "cell_type": "code",
   "execution_count": null,
   "id": "976b8054-15c4-46ab-a4ab-d5967e34ca0a",
   "metadata": {},
   "outputs": [],
   "source": [
    "NaiveBayesTextClassifierTrainer_out.result"
   ]
  },
  {
   "cell_type": "markdown",
   "id": "8af4169e-76d8-4444-b0bd-84933f36ac55",
   "metadata": {},
   "source": [
    "<p style = 'font-size:16px;font-family:Arial'>Now let us predict from our test table.</p> "
   ]
  },
  {
   "cell_type": "code",
   "execution_count": null,
   "id": "409146a8-5e85-467b-8ccc-07779be1db77",
   "metadata": {},
   "outputs": [],
   "source": [
    "help(NaiveBayesTextClassifierPredict)"
   ]
  },
  {
   "cell_type": "code",
   "execution_count": null,
   "id": "bb3bfac2-bd29-448c-8c0d-20caee67f0d2",
   "metadata": {},
   "outputs": [],
   "source": [
    "complaints_tokens_test = DataFrame(\"complaints_tokens_test\")\n",
    "complaints_tokens_test"
   ]
  },
  {
   "cell_type": "code",
   "execution_count": null,
   "id": "53d99ac0-58a2-41ed-8d5c-baf603e01fb2",
   "metadata": {},
   "outputs": [],
   "source": [
    "nbt_predict_out = NaiveBayesTextClassifierPredict(newdata=complaints_tokens_test,\n",
    "                                                  object=NaiveBayesTextClassifierTrainer_out,\n",
    "                                                  input_token_column='token',\n",
    "                                                  doc_id_columns='doc_id',\n",
    "                                                  model_token_column='token',\n",
    "                                                  model_category_column='category',\n",
    "                                                  model_prob_column='prob',\n",
    "                                                  newdata_partition_column='doc_id')"
   ]
  },
  {
   "cell_type": "code",
   "execution_count": null,
   "id": "fc9547a4-7c87-422d-9e87-0e89beaaed11",
   "metadata": {},
   "outputs": [],
   "source": [
    "nbt_predict_out.result"
   ]
  },
  {
   "cell_type": "markdown",
   "id": "151d5db4-29a9-49d9-8a61-d53f9627a294",
   "metadata": {},
   "source": [
    "<hr style=\"height:2px;border:none;\">\n",
    "<b style = 'font-size:20px;font-family:Arial'>3. Cleanup</b>"
   ]
  },
  {
   "cell_type": "markdown",
   "id": "a562f058-fb24-4966-a25d-f2960e6ddfb8",
   "metadata": {},
   "source": [
    "<hr style=\"height:1px;border:none;\">\n",
    "<p style = 'font-size:18px;font-family:Arial'> <b>Databases and Tables </b></p>\n",
    "<p style = 'font-size:16px;font-family:Arial'>The following code will clean up tables and databases created above.</p>"
   ]
  },
  {
   "cell_type": "code",
   "execution_count": null,
   "id": "22e0badc-d230-4a93-8029-8e2b8c62e53c",
   "metadata": {},
   "outputs": [],
   "source": [
    "db_drop_table(\"complaints\")"
   ]
  },
  {
   "cell_type": "code",
   "execution_count": null,
   "id": "bc33a99e-8914-4cfb-be7c-f97d3dff0a58",
   "metadata": {},
   "outputs": [],
   "source": [
    "db_drop_table(\"stop_words\")"
   ]
  },
  {
   "cell_type": "code",
   "execution_count": null,
   "id": "a752974c-13d4-4560-b05d-2f286ce9b84a",
   "metadata": {},
   "outputs": [],
   "source": [
    "db_drop_table(\"complaints_tokens_test\")"
   ]
  },
  {
   "cell_type": "code",
   "execution_count": null,
   "id": "157fe3d4-4e0e-4d92-b343-9f758f3bf690",
   "metadata": {},
   "outputs": [],
   "source": [
    "remove_context()"
   ]
  },
  {
   "cell_type": "markdown",
   "id": "4317a6cf-1479-4aa8-b30a-ee0a3b5231a8",
   "metadata": {},
   "source": [
    "<hr style=\"height:1px;border:none;\">\n",
    "<p style = 'font-size:16px;font-family:Arial'><b>Links:</b></p>\n",
    "<ul style = 'font-size:16px;font-family:Arial'>\n",
    "    <li>Teradataml Python reference: <a href = 'https://docs.teradata.com/search/all?query=Python+Package+User+Guide&content-lang=en-US'>here</a></li>\n",
    "    <li>NaiveBayesTextClassifierTrainer function reference: <a href = 'https://docs.teradata.com/search/all?query=NaiveBayesTextClassifierTrainer&content-lang=en-US'>here</a></li>\n",
    "        <li>NaiveBayesTextClassifierPredict function reference: <a href = 'https://docs.teradata.com/search/all?query=NaiveBayesTextClassifierPredict&content-lang=en-US'>here</a></li>\n",
    "</ul>"
   ]
  },
  {
   "cell_type": "markdown",
   "id": "b2dcca28-5de5-44d7-88cb-45a12153b3f8",
   "metadata": {},
   "source": [
    "<footer style=\"padding-bottom:35px; border-bottom:3px solid #91A0Ab\">\n",
    "    <div style=\"float:left;margin-top:14px\">ClearScape Analytics™</div>\n",
    "    <div style=\"float:right;\">\n",
    "        <div style=\"float:left; margin-top:14px\">\n",
    "            Copyright © Teradata Corporation - 2025. All Rights Reserved\n",
    "        </div>\n",
    "    </div>\n",
    "</footer>"
   ]
  }
 ],
 "metadata": {
  "kernelspec": {
   "display_name": "Python 3 (ipykernel)",
   "language": "python",
   "name": "python3"
  },
  "language_info": {
   "codemirror_mode": {
    "name": "ipython",
    "version": 3
   },
   "file_extension": ".py",
   "mimetype": "text/x-python",
   "name": "python",
   "nbconvert_exporter": "python",
   "pygments_lexer": "ipython3",
   "version": "3.9.10"
  }
 },
 "nbformat": 4,
 "nbformat_minor": 5
}
