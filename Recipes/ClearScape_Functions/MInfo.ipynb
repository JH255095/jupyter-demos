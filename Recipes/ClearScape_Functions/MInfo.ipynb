{
 "cells": [
  {
   "cell_type": "markdown",
   "id": "bc549e6c-0cc4-4188-94a3-a9bdd3ae3dfa",
   "metadata": {},
   "source": [
    "<header>\n",
    "   <p  style='font-size:36px;font-family:Arial; color:#F0F0F0; background-color: #00233c; padding-left: 20pt; padding-top: 20pt;padding-bottom: 10pt; padding-right: 20pt;'>\n",
    "       MInfo Function in Vantage\n",
    "  <br>\n",
    "       <img id=\"teradata-logo\" src=\"https://storage.googleapis.com/clearscape_analytics_demo_data/DEMO_Logo/teradata.svg\" alt=\"Teradata\" style=\"width: 125px; height: auto; margin-top: 20pt;\">\n",
    "    </p>\n",
    "</header>"
   ]
  },
  {
   "cell_type": "markdown",
   "id": "7ae7611a-0795-4168-b716-01fee6880cbd",
   "metadata": {},
   "source": [
    "<p style = 'font-size:20px;font-family:Arial'><b>Introduction</b></p>\n",
    "\n",
    "<p style = 'font-size:20px;font-family:Arial'><b>MInfo</b></p>\n",
    "<p style = 'font-size:16px;font-family:Arial'>MInfo() returns one row for each matrix instance found in the target table. The summary provides a high-level understanding of the matrix data as well as determining if there is an issue. For example, if you expect data to have a certain number of rows and columns, a certain data type, or only a specific range of values, then checking the summary information can verify it. Each returned row provides the following information about a matrix:</p>\n",
    "<li style = 'font-size:16px;font-family:Arial'>Row index data type</li>\n",
    "<li style = 'font-size:16px;font-family:Arial'>Starting row index value</li>\n",
    "<li style = 'font-size:16px;font-family:Arial'>Ending row index value</li>\n",
    "<li style = 'font-size:16px;font-family:Arial'>Number of row index entries</li>\n",
    "<li style = 'font-size:16px;font-family:Arial'>Indicator that the matrix is regular (discrete) or irregular along row index</li>\n",
    "<li style = 'font-size:16px;font-family:Arial'>Row index sample interval for regular series or average sample interval for irregular series</li>\n",
    "<li style = 'font-size:16px;font-family:Arial'>Column index data type</li>\n",
    "<li style = 'font-size:16px;font-family:Arial'>Starting column index value</li>\n",
    "<li style = 'font-size:16px;font-family:Arial'>Ending column index value</li>\n",
    "<li style = 'font-size:16px;font-family:Arial'>Number of column index entries</li>\n",
    "<li style = 'font-size:16px;font-family:Arial'>Indicator that the matrix is regular (discrete) or irregular along column index</li>\n",
    "<li style = 'font-size:16px;font-family:Arial'>Column index sample interval for regular series or average sample interval for irregular series</li>\n",
    "<li style = 'font-size:16px;font-family:Arial'>Content type</li>\n",
    "<li style = 'font-size:16px;font-family:Arial'>Minimum sample magnitude</li>\n",
    "<li style = 'font-size:16px;font-family:Arial'>Maximum sample magnitude</li>\n",
    "<li style = 'font-size:16px;font-family:Arial'>Average sample magnitude</li>\n",
    "<li style = 'font-size:16px;font-family:Arial'>Number of NULL values</li>\n",
    "<li style = 'font-size:16px;font-family:Arial'>Indicator matrix is well formed or malformed</li></p>\n",
    "\n",
    "</p>\n"
   ]
  },
  {
   "cell_type": "markdown",
   "id": "6b3a00b4-6661-4c91-9b2d-cb7b0b403140",
   "metadata": {},
   "source": [
    "<hr style=\"height:2px;border:none;\">\n",
    "<b style = 'font-size:20px;font-family:Arial'>1. Initiate a connection to Vantage</b>"
   ]
  },
  {
   "cell_type": "markdown",
   "id": "2346857f-e0d3-488a-8a3f-ac6dff752c2b",
   "metadata": {},
   "source": [
    "<p style = 'font-size:16px;font-family:Arial'>In the section, we import the required libraries and set environment variables and environment paths (if required)."
   ]
  },
  {
   "cell_type": "code",
   "execution_count": null,
   "id": "c5af5af3-29d5-4f6a-8334-9df6924e7787",
   "metadata": {},
   "outputs": [],
   "source": [
    "from teradataml import (\n",
    "    create_context,\n",
    "    execute_sql,\n",
    "    load_example_data,\n",
    "    DataFrame,\n",
    "    in_schema,\n",
    "    TDMatrix,\n",
    "    MInfo,\n",
    "    remove_context,\n",
    "    copy_to_sql,\n",
    "    db_drop_table\n",
    "    )\n",
    "\n",
    "from teradatasqlalchemy.types import *\n",
    "\n",
    "from teradataml import to_numeric\n",
    "# Modify the following to match the specific client environment settings\n",
    "display.max_rows = 5"
   ]
  },
  {
   "cell_type": "markdown",
   "id": "ad3dd7b4-831c-4fb3-ab71-719c8c99a71c",
   "metadata": {},
   "source": [
    "<hr style=\"height:1px;border:none;\">\n",
    "<p style = 'font-size:18px;font-family:Arial'><b>1.1 Connect to Vantage</b></p>\n",
    "<p style = 'font-size:16px;font-family:Arial'>You will be prompted to provide the password. Enter your password, press the Enter key, and then use the down arrow to go to the next cell.</p>"
   ]
  },
  {
   "cell_type": "code",
   "execution_count": null,
   "id": "2742444c-4349-4b0f-b4e5-b068a8785cd9",
   "metadata": {},
   "outputs": [],
   "source": [
    "%run -i ../../UseCases/startup.ipynb\n",
    "eng = create_context(host = 'host.docker.internal', username='demo_user', password = password)\n",
    "print(eng)"
   ]
  },
  {
   "cell_type": "code",
   "execution_count": null,
   "id": "01c4a128-d106-46ea-8dee-34acc5abd29f",
   "metadata": {},
   "outputs": [],
   "source": [
    "%%capture\n",
    "execute_sql('''SET query_band='DEMO=PP_MInfo.ipynb;' UPDATE FOR SESSION; ''')"
   ]
  },
  {
   "cell_type": "markdown",
   "id": "efe2fd2d-63ff-4278-9157-8b9110d682e8",
   "metadata": {},
   "source": [
    "<p style = 'font-size:16px;font-family:Arial'>Begin running steps with Shift + Enter keys. </p>"
   ]
  },
  {
   "cell_type": "markdown",
   "id": "4a6e3852-3b15-4cbd-844d-e7194b3bd204",
   "metadata": {},
   "source": [
    "<hr style='height:1px;border:none;'>\n",
    "\n",
    "<p style = 'font-size:18px;font-family:Arial'><b>1.2 Getting Data for This Demo</b></p>\n",
    "\n",
    "<p style = 'font-size:16px;font-family:Arial'>Here, we will get the time series data which is available in the teradataml library and use the same to show the usage of the function.</p>"
   ]
  },
  {
   "cell_type": "code",
   "execution_count": null,
   "id": "398fa0aa-c0df-4130-9dea-53b776fbaf80",
   "metadata": {},
   "outputs": [],
   "source": [
    "load_example_data(\"uaf\", [\"ocean_buoys2\"])"
   ]
  },
  {
   "cell_type": "markdown",
   "id": "2a3762ac-ba27-4fa3-adba-d577262a4290",
   "metadata": {},
   "source": [
    "<hr style=\"height:2px;border:none;\">\n",
    "<b style = 'font-size:20px;font-family:Arial'>2. Data Exploration</b>\n",
    "<p style = 'font-size:16px;font-family:Arial'>Create a \"Virtual DataFrame\" that points to the data set in Vantage. Check the shape of the dataframe as check the datatype of all the columns of the dataframe.</p>"
   ]
  },
  {
   "cell_type": "code",
   "execution_count": null,
   "id": "9672d80d-cdcc-4f4c-9399-7c367e7970b1",
   "metadata": {},
   "outputs": [],
   "source": [
    "df = DataFrame.from_table(\"ocean_buoys2\")\n",
    "df"
   ]
  },
  {
   "cell_type": "markdown",
   "id": "8d4d2f81-2853-4e28-b60f-2c69b2d0ba5c",
   "metadata": {},
   "source": [
    "<hr style=\"height:2px;border:none;\">\n",
    "<b style = 'font-size:20px;font-family:Arial'>3. MInfo</b>\n",
    "<p style = 'font-size:16px;font-family:Arial'>MInfo() displays a result set containing metadata about each matrix. The function returns one row per matrix processed. In addition, each input payload produces the output variables for MIN_MAG, MAX_MAG and AVG_MAG. The output varies depending on the number of input payloads.</p>"
   ]
  },
  {
   "cell_type": "markdown",
   "id": "8ab6c906-4c36-4150-b97a-3c4ab59d14ab",
   "metadata": {},
   "source": [
    "<p style = 'font-size:16px;font-family:Arial'>Detailed help can be found by passing function name to built-in help function. </p>"
   ]
  },
  {
   "cell_type": "code",
   "execution_count": null,
   "id": "57fa2c26-3593-4eaa-af62-585254216d31",
   "metadata": {},
   "outputs": [],
   "source": [
    "help(MInfo)"
   ]
  },
  {
   "cell_type": "markdown",
   "id": "f30ce305-a62d-459f-b989-22bdf3d5064b",
   "metadata": {},
   "source": [
    "<p style = 'font-size:16px;font-family:Arial'>The first step is to convert the data into TDSeries, which is required for the input time series which are passed to the MInfo function.</p>"
   ]
  },
  {
   "cell_type": "code",
   "execution_count": null,
   "id": "a711f58c-fbd3-4457-9f6a-9cd5c1b192dc",
   "metadata": {},
   "outputs": [],
   "source": [
    "res = TDMatrix(data=df,\n",
    "                   id=['ocean_name', 'buoyid'],\n",
    "                   row_index='TD_TIMECODE',\n",
    "                   column_index = 'space',\n",
    "                   row_index_style=\"TIMECODE\",\n",
    "                   column_index_style=\"SEQUENCE\",\n",
    "                   payload_field='jsoncol.Measure.salinity',\n",
    "                   payload_content='REAL')"
   ]
  },
  {
   "cell_type": "code",
   "execution_count": null,
   "id": "8965392c-404e-4e25-b5b8-c7ef06069154",
   "metadata": {},
   "outputs": [],
   "source": [
    "uaf_out = MInfo(data=res)\n",
    "\n",
    "minfo_df = uaf_out.result\n",
    "minfo_df"
   ]
  },
  {
   "cell_type": "markdown",
   "id": "c25fdaf1-098b-4dea-984b-579c6412557e",
   "metadata": {},
   "source": [
    "<hr style=\"height:2px;border:none;\">\n",
    "<b style = 'font-size:20px;font-family:Arial'>4. Cleanup</b>"
   ]
  },
  {
   "cell_type": "markdown",
   "id": "a5d460af-1a32-4681-8094-360c3f25dc1f",
   "metadata": {},
   "source": [
    "<p style = 'font-size:18px;font-family:Arial'><b>Work Tables</b></p>\n",
    "<p style = 'font-size:16px;font-family:Arial'>The following code will clean up tables created above.</p>"
   ]
  },
  {
   "cell_type": "code",
   "execution_count": null,
   "id": "9dff9677-dae1-4cc5-b78e-3d197cc41e0c",
   "metadata": {},
   "outputs": [],
   "source": [
    "db_drop_table(\"ocean_buoys2\")"
   ]
  },
  {
   "cell_type": "code",
   "execution_count": null,
   "id": "9b96168c-7973-4259-b3e0-668b92fd846e",
   "metadata": {},
   "outputs": [],
   "source": [
    "remove_context()"
   ]
  },
  {
   "cell_type": "markdown",
   "id": "4317a6cf-1479-4aa8-b30a-ee0a3b5231a8",
   "metadata": {},
   "source": [
    "<hr style=\"height:1px;border:none;\">\n",
    "\n",
    "<p style = 'font-size:16px;font-family:Arial'><b>Links:</b></p>\n",
    "<ul style = 'font-size:16px;font-family:Arial'>\n",
    "    <li>Teradataml Python reference: <a href = 'https://docs.teradata.com/search/all?query=Python+Package+User+Guide&content-lang=en-US'>here</a></li>\n",
    "    <li>MInfo function reference: <a href = 'https://docs.teradata.com/search/all?query=MInfo&content-lang=en-US'>here</a></li>\n",
    "    \n",
    "</ul>"
   ]
  },
  {
   "cell_type": "markdown",
   "id": "b2dcca28-5de5-44d7-88cb-45a12153b3f8",
   "metadata": {},
   "source": [
    "<footer style=\"padding-bottom:35px; border-bottom:3px solid #91A0Ab\">\n",
    "    <div style=\"float:left;margin-top:14px\">ClearScape Analytics™</div>\n",
    "    <div style=\"float:right;\">\n",
    "        <div style=\"float:left; margin-top:14px\">\n",
    "            Copyright © Teradata Corporation - 2025. All Rights Reserved\n",
    "        </div>\n",
    "    </div>\n",
    "</footer>"
   ]
  }
 ],
 "metadata": {
  "kernelspec": {
   "display_name": "Python 3 (ipykernel)",
   "language": "python",
   "name": "python3"
  },
  "language_info": {
   "codemirror_mode": {
    "name": "ipython",
    "version": 3
   },
   "file_extension": ".py",
   "mimetype": "text/x-python",
   "name": "python",
   "nbconvert_exporter": "python",
   "pygments_lexer": "ipython3",
   "version": "3.9.10"
  }
 },
 "nbformat": 4,
 "nbformat_minor": 5
}
