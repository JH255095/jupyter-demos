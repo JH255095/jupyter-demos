{
 "cells": [
  {
   "cell_type": "markdown",
   "id": "bc549e6c-0cc4-4188-94a3-a9bdd3ae3dfa",
   "metadata": {},
   "source": [
    "<header>\n",
    "   <p  style='font-size:36px;font-family:Arial; color:#F0F0F0; background-color: #00233c; padding-left: 20pt; padding-top: 20pt;padding-bottom: 10pt; padding-right: 20pt;'>\n",
    "       NPath function in Vantage\n",
    "  <br>\n",
    "       <img id=\"teradata-logo\" src=\"https://storage.googleapis.com/clearscape_analytics_demo_data/DEMO_Logo/teradata.svg\" alt=\"Teradata\" style=\"width: 125px; height: auto; margin-top: 20pt;\">\n",
    "    </p>\n",
    "</header>"
   ]
  },
  {
   "cell_type": "markdown",
   "id": "7ae7611a-0795-4168-b716-01fee6880cbd",
   "metadata": {},
   "source": [
    "<p style = 'font-size:20px;font-family:Arial'><b>Introduction</b></p>\n",
    "<p style = 'font-size:16px;font-family:Arial'>The nPath function scans a set of rows, looking for patterns that we specify. For each set of input rows that matches the pattern, nPath produces a single output row. nPath is useful when our goal is to identify the paths that lead to an outcome. For example, we can use nPath to analyze:<ul style = 'font-size:16px;font-family:Arial'><li>\n",
    "    In Web site click data, to identify paths that lead to sales over a specified amount</li><li>\n",
    "    In Sensor data from industrial processes, to identify paths to poor product quality</li><li>\n",
    "In Healthcare records of individual patients, to identify paths that indicate that patients are at risk of developing conditions such as heart disease or diabetes</li><li>\n",
    "In Financial data for individuals, to identify paths that provide information about credit or fraud risks.</ul><p style = 'font-size:16px;font-family:Arial'>In this notebook we will see how we can use the nPath function available in Vantage.</p>"
   ]
  },
  {
   "cell_type": "markdown",
   "id": "6b3a00b4-6661-4c91-9b2d-cb7b0b403140",
   "metadata": {},
   "source": [
    "<hr style=\"height:2px;border:none;\">\n",
    "<b style = 'font-size:20px;font-family:Arial'>1. Initiate a connection to Vantage</b>"
   ]
  },
  {
   "cell_type": "markdown",
   "id": "2346857f-e0d3-488a-8a3f-ac6dff752c2b",
   "metadata": {},
   "source": [
    "<p style = 'font-size:16px;font-family:Arial'>In the section, we import the required libraries and set environment variables and environment paths (if required)."
   ]
  },
  {
   "cell_type": "code",
   "execution_count": null,
   "id": "c5af5af3-29d5-4f6a-8334-9df6924e7787",
   "metadata": {},
   "outputs": [],
   "source": [
    "from teradataml import *\n",
    "\n",
    "# Modify the following to match the specific client environment settings\n",
    "display.max_rows = 5"
   ]
  },
  {
   "cell_type": "markdown",
   "id": "ad3dd7b4-831c-4fb3-ab71-719c8c99a71c",
   "metadata": {},
   "source": [
    "<hr style=\"height:1px;border:none;\">\n",
    "<p style = 'font-size:18px;font-family:Arial'><b>1.1 Connect to Vantage</b></p>\n",
    "<p style = 'font-size:16px;font-family:Arial'>You will be prompted to provide the password. Enter your password, press the Enter key, and then use the down arrow to go to the next cell.</p>"
   ]
  },
  {
   "cell_type": "code",
   "execution_count": null,
   "id": "2742444c-4349-4b0f-b4e5-b068a8785cd9",
   "metadata": {},
   "outputs": [],
   "source": [
    "%run -i ../../UseCases/startup.ipynb\n",
    "eng = create_context(host = 'host.docker.internal', username='demo_user', password = password)\n",
    "print(eng)"
   ]
  },
  {
   "cell_type": "code",
   "execution_count": null,
   "id": "e14915b0-7932-4e03-94ba-20f0599c3707",
   "metadata": {},
   "outputs": [],
   "source": [
    "%%capture\n",
    "execute_sql('''SET query_band='DEMO=PP_NPath_Python.ipynb;' UPDATE FOR SESSION; ''')"
   ]
  },
  {
   "cell_type": "markdown",
   "id": "efe2fd2d-63ff-4278-9157-8b9110d682e8",
   "metadata": {},
   "source": [
    "<p style = 'font-size:16px;font-family:Arial'>Begin running steps with Shift + Enter keys. </p>"
   ]
  },
  {
   "cell_type": "markdown",
   "id": "f003f332-7489-4bdd-a740-4af2a0a22280",
   "metadata": {},
   "source": [
    "<hr style='height:1px;border:none;'>\n",
    "\n",
    "<p style = 'font-size:18px;font-family:Arial'><b>1.2 Getting Data for This Demo</b></p>\n",
    "\n",
    "<p style = 'font-size:16px;font-family:Arial'>We have provided data for this demo on cloud storage. You can either run the demo using foreign tables to access the data without any storage on your environment or download the data to local storage, which may yield faster execution. Still, there could be considerations of available storage. Two statements are in the following cell, and one is commented out. You may switch which mode you choose by changing the comment string.</p>"
   ]
  },
  {
   "cell_type": "code",
   "execution_count": null,
   "id": "45c86176-734c-4b1c-ace0-d0c88657b4f8",
   "metadata": {},
   "outputs": [],
   "source": [
    "%run -i ../../UseCases/run_procedure.py \"call get_data('DEMO_Financial_cloud');\"        # Takes 30 seconds\n",
    "#%run -i ../../UseCases/run_procedure.py \"call get_data('DEMO_Financial_local');\" "
   ]
  },
  {
   "cell_type": "markdown",
   "id": "2401d6d3-4fcd-46fc-8a94-7cafcd1258b0",
   "metadata": {},
   "source": [
    "<p style = 'font-size:16px;font-family:Arial'>Next is an optional step – if you want to see the status of databases/tables created and space used.</p>"
   ]
  },
  {
   "cell_type": "code",
   "execution_count": null,
   "id": "87429200-db02-450d-9472-4d1e2030124d",
   "metadata": {},
   "outputs": [],
   "source": [
    "%run -i ../../UseCases/run_procedure.py \"call space_report();\"        # Takes 10 seconds"
   ]
  },
  {
   "cell_type": "markdown",
   "id": "2a3762ac-ba27-4fa3-adba-d577262a4290",
   "metadata": {},
   "source": [
    "<hr style=\"height:2px;border:none;\">\n",
    "<b style = 'font-size:20px;font-family:Arial'>2. Data Exploration</b>\n",
    "<p style = 'font-size:16px;font-family:Arial'>Create a \"Virtual DataFrame\" that points to the data set in Vantage. Check the shape of the dataframe as check the datatype of all the columns of the dataframe.</p>"
   ]
  },
  {
   "cell_type": "code",
   "execution_count": null,
   "id": "3d936fab-7ca7-4e94-ba64-95c1da08b74f",
   "metadata": {},
   "outputs": [],
   "source": [
    "tdf = DataFrame(in_schema('DEMO_Financial', 'Customer_journey'))\n",
    "print(\"Shape of the data: \", tdf.shape)\n",
    "tdf"
   ]
  },
  {
   "cell_type": "code",
   "execution_count": null,
   "id": "3c5a0992-f651-49bc-9080-828fd9c0c982",
   "metadata": {},
   "outputs": [],
   "source": [
    "tdf.tdtypes"
   ]
  },
  {
   "cell_type": "markdown",
   "id": "502f4e4a-b5cc-4fea-b76e-c367ba487a33",
   "metadata": {},
   "source": [
    "<p style = 'font-size:16px;font-family:Arial'>Detailed help can be found by passing function name to built-in help function. </p>"
   ]
  },
  {
   "cell_type": "code",
   "execution_count": null,
   "id": "1e6fa334-3aa1-407a-9788-e4a5a43c8013",
   "metadata": {
    "tags": []
   },
   "outputs": [],
   "source": [
    "help(NPath)"
   ]
  },
  {
   "cell_type": "markdown",
   "id": "f8111d7e-7404-4a7e-be5d-aca35d05861d",
   "metadata": {},
   "source": [
    "<p style = 'font-size:16px;font-family:Arial'>Let us check the 'interaction_type' we have in our data.</p>"
   ]
  },
  {
   "cell_type": "code",
   "execution_count": null,
   "id": "e246cb6a-fffa-41ec-9f7d-2c0c0ce77bb9",
   "metadata": {},
   "outputs": [],
   "source": [
    "events=tdf.groupby(['interaction_type']).count()\n",
    "events"
   ]
  },
  {
   "cell_type": "code",
   "execution_count": null,
   "id": "16180742-aa98-406e-a247-bfe8986889d5",
   "metadata": {},
   "outputs": [],
   "source": [
    "events.shape"
   ]
  },
  {
   "cell_type": "markdown",
   "id": "f05aece9-ec00-406d-8d02-48f9c55684af",
   "metadata": {},
   "source": [
    "<p style = 'font-size:16px;font-family:Arial'>From the results above we have 18 types of interactions that we are tracking.</p>"
   ]
  },
  {
   "cell_type": "markdown",
   "id": "8329bfce-3c00-419b-8d45-867e94b3e1ef",
   "metadata": {},
   "source": [
    "<p style = 'font-size:16px;font-family:Arial'>\n",
    "    <b> Paths leading to Account Closed for 'Gold' customers.</b><p>\n",
    "<ol style = 'font-size:16px;font-family:Arial'>\n",
    "    <li>Pass the filtered dataset.</li>\n",
    "    <li>Provide partitioning (customer_identifier key) and ordering columns.</li>\n",
    "    <li>Mode <b>OVERLAPPING</b> vs. <b>NONOVERLAPPING</b>\n",
    "        <ul style = 'font-size:16px;font-family:Arial'>\n",
    "            <li><b>OVERLAPPING</b> finds every occurrence of the match, regardless of the current row being part of a previous match.</li>\n",
    "            <li><b>NONOVERLAPPING</b> starts matching again at the row that follows the previous match.\n",
    "        </ul>\n",
    "    </li>\n",
    "    <li>Symbols.  Create a set of column expression aliases that can be assembled into a pattern to match.\n",
    "        <ul style = 'font-size:16px;font-family:Arial'>\n",
    "            <li>Example: \"interaction_type = 'ACCOUNT_CLOSED' as B\" will alias a match on the EVENT column when the content equals 'ACCOUNT_CLOSED'.</li>\n",
    "        </ul>\n",
    "    </li>\n",
    "      <li>Pattern.  Compose a pattern to search for across the rows of events.  This pattern is composed of Symbols and directives.\n",
    "        <ul style = 'font-size:16px;font-family:Arial'>\n",
    "            <li>Example: '^B' uses a directive ^ to indicate the B Symbol must occur at the beginning of the group of rows</li>\n",
    "        </ul>\n",
    "    </li>\n",
    "    <li>Result.  Since nPath emits a single row per group-of-row matches, Result indicates what columns make up this row and how to aggregate the data.</li>\n",
    "    </ol>"
   ]
  },
  {
   "cell_type": "markdown",
   "id": "d4b4827c-aa6f-4eda-a813-072b1291e7fb",
   "metadata": {},
   "source": [
    "<p style = 'font-size:16px;font-family:Arial'> First let us convert the interaction_type from Unicode to Latin as nPath function works on Latin characterset.</p>"
   ]
  },
  {
   "cell_type": "code",
   "execution_count": null,
   "id": "184e65da-63e5-466b-952f-8fdaf1c54ca7",
   "metadata": {},
   "outputs": [],
   "source": [
    "from teradataml import ConvertTo\n",
    "converted_data = ConvertTo(data = tdf,\n",
    "                           target_columns = ['interaction_type'],\n",
    "                           target_datatype = [\"VARCHAR(charlen=100,charset=LATIN,casespecific=NO)\"])\n",
    "convert_tdf=converted_data.result\n",
    "convert_tdf.to_sql('convert_tdf')"
   ]
  },
  {
   "cell_type": "code",
   "execution_count": null,
   "id": "a5f56f1f-84d4-437a-aaf1-fc8c4b666a8a",
   "metadata": {},
   "outputs": [],
   "source": [
    "tdf_1 = DataFrame('convert_tdf')\n",
    "tdf_gold = tdf_1[tdf_1.customer_type == 'Gold']\n",
    "\n",
    "npath_sessions = NPath(data1 = tdf_gold, \n",
    "                       data1_partition_column = ['customer_identifier'], \n",
    "                       data1_order_column = 'interaction_timestamp', \n",
    "                       mode = 'NONOVERLAPPING', \n",
    "                       symbols = ['True as A', 'interaction_type in (\\'ACCOUNT_CLOSED\\') as B'], \n",
    "                       pattern = 'A{2,5}.B',  \n",
    "                       result = ['ACCUMULATE(interaction_type OF ANY(A,B)) AS interaction_type_list',\n",
    "                                 'COUNT (* OF ANY (A,B))  AS click_depth',\n",
    "                                 'FIRST(customer_identifier OF B) AS customer_identifier',\n",
    "                                 'FIRST(product_category OF B) AS product_category'])\n",
    "\n",
    "npath_df=npath_sessions.result\n",
    "npath_df"
   ]
  },
  {
   "cell_type": "code",
   "execution_count": null,
   "id": "abd032b6-ea5b-4485-9f00-53a06e1025db",
   "metadata": {},
   "outputs": [],
   "source": [
    "print(npath_sessions.show_query())"
   ]
  },
  {
   "cell_type": "markdown",
   "id": "151d5db4-29a9-49d9-8a61-d53f9627a294",
   "metadata": {},
   "source": [
    "<hr style=\"height:2px;border:none;\">\n",
    "<b style = 'font-size:20px;font-family:Arial'>3. Cleanup</b>"
   ]
  },
  {
   "cell_type": "markdown",
   "id": "a562f058-fb24-4966-a25d-f2960e6ddfb8",
   "metadata": {},
   "source": [
    "<hr style=\"height:1px;border:none;\">\n",
    "<p style = 'font-size:18px;font-family:Arial'> <b>Databases and Tables </b></p>\n",
    "<p style = 'font-size:16px;font-family:Arial'>The following code will clean up tables and databases created above.</p>"
   ]
  },
  {
   "cell_type": "code",
   "execution_count": null,
   "id": "9247bca0-4f36-423d-9efb-babab97452b7",
   "metadata": {},
   "outputs": [],
   "source": [
    "db_drop_table(table_name = 'convert_tdf', schema_name = 'demo_user')"
   ]
  },
  {
   "cell_type": "code",
   "execution_count": null,
   "id": "e6b3935b-47c2-4a96-bec2-68106d172116",
   "metadata": {},
   "outputs": [],
   "source": [
    "%run -i ../../UseCases/run_procedure.py \"call remove_data('DEMO_Financial');\"        # Takes 10 seconds"
   ]
  },
  {
   "cell_type": "code",
   "execution_count": null,
   "id": "157fe3d4-4e0e-4d92-b343-9f758f3bf690",
   "metadata": {},
   "outputs": [],
   "source": [
    "remove_context()"
   ]
  },
  {
   "cell_type": "markdown",
   "id": "4317a6cf-1479-4aa8-b30a-ee0a3b5231a8",
   "metadata": {},
   "source": [
    "<hr style=\"height:1px;border:none;\">\n",
    "<b style = 'font-size:18px;font-family:Arial'>Dataset:</b>\n",
    "\n",
    "`Customer_Journey`\n",
    "\n",
    "- `customer_skey`: customer key\n",
    "- `customer_identifier`: unique customer identifier\n",
    "- `customer_cookie`: cookie placed on customers device\n",
    "- `customer_online_id`: boolean - does the customer have an online account\n",
    "- `customer_offline_id`: customer account number\n",
    "- `customer_type`: is this a high value customer or just a visitor browsing the website?\n",
    "- `customer_days_active`: how long has the customer been active\n",
    "- `interaction_session_number`: session identifier\n",
    "- `interaction_timestamp`: timestamp for this event\n",
    "- `interaction_source`: channel this event is from (online / offline, in branch etc.)\n",
    "- `interaction_type`: type of event\n",
    "- `sales_channel`: channel a sales event was in\n",
    "- `conversion_id`: sales conversion identifier\n",
    "- `product_category`: what type of product the event concerned (checking, savings, cd etc..)\n",
    "- `product_type`: unused\n",
    "- `conversion_sales`: unused\n",
    "- `conversion_cost`: unused\n",
    "- `conversion_margin`: unused\n",
    "- `conversion_units`: unused\n",
    "- `marketing_code`: marketing identifier\n",
    "- `marketing_category`: marketing channel (inbranch, website, email etc..)\n",
    "- `marketing_description`: marketing campaign name\n",
    "- `marketing_placement`: specific marketing outlet (Google, Bloomberg.com etc..)\n",
    "- `mobile_flag`: boolean was on a mobile device\n",
    "- `updt`: unused\n",
    "\n",
    "<p style = 'font-size:16px;font-family:Arial'><b>Links:</b></p>\n",
    "<ul style = 'font-size:16px;font-family:Arial'>\n",
    "    <li>Teradataml Python reference: <a href = 'https://docs.teradata.com/search/all?query=Python+Package+User+Guide&content-lang=en-US'>here</a></li>\n",
    "    <li>NPath function reference: <a href = 'https://docs.teradata.com/search/all?query=npath&content-lang=en-US'>here</a></li>\n",
    "</ul>"
   ]
  },
  {
   "cell_type": "markdown",
   "id": "b2dcca28-5de5-44d7-88cb-45a12153b3f8",
   "metadata": {},
   "source": [
    "<footer style=\"padding-bottom:35px; border-bottom:3px solid #91A0Ab\">\n",
    "    <div style=\"float:left;margin-top:14px\">ClearScape Analytics™</div>\n",
    "    <div style=\"float:right;\">\n",
    "        <div style=\"float:left; margin-top:14px\">\n",
    "            Copyright © Teradata Corporation - 2025. All Rights Reserved\n",
    "        </div>\n",
    "    </div>\n",
    "</footer>"
   ]
  }
 ],
 "metadata": {
  "kernelspec": {
   "display_name": "Python 3 (ipykernel)",
   "language": "python",
   "name": "python3"
  },
  "language_info": {
   "codemirror_mode": {
    "name": "ipython",
    "version": 3
   },
   "file_extension": ".py",
   "mimetype": "text/x-python",
   "name": "python",
   "nbconvert_exporter": "python",
   "pygments_lexer": "ipython3",
   "version": "3.9.10"
  }
 },
 "nbformat": 4,
 "nbformat_minor": 5
}
