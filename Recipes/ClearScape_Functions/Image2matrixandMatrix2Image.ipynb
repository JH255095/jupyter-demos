{
 "cells": [
  {
   "cell_type": "markdown",
   "id": "b2282b29-df2d-42fc-a54a-5973a47325d9",
   "metadata": {},
   "source": [
    "<header>\n",
    "   <p  style='font-size:36px;font-family:Arial; color:#F0F0F0; background-color: #00233c; padding-left: 20pt; padding-top: 20pt;padding-bottom: 10pt; padding-right: 20pt;'>\n",
    "       Image2Matrix and Matrix2Image Functions in Vantage\n",
    "  <br>\n",
    "       <img id=\"teradata-logo\" src=\"https://storage.googleapis.com/clearscape_analytics_demo_data/DEMO_Logo/teradata.svg\" alt=\"Teradata\" style=\"width: 125px; height: auto; margin-top: 20pt;\">\n",
    "    </p>\n",
    "</header>"
   ]
  },
  {
   "cell_type": "markdown",
   "id": "fcf77799-4388-4abb-886b-e53811876bf1",
   "metadata": {},
   "source": [
    "<p style = 'font-size:20px;font-family:Arial'><b>Introduction</b></p>\n",
    "<p style = 'font-size:16px;font-family:Arial'> Image2Matrix function converts an image to a matrix. It converts JPEG or PNG images to matrices with payload values being the pixel values. Matrix2Image converts a matrix to an image. The conversion produces an image using color maps. The color image produced by Matrix2Image is limited to 8-bit color depth.<br>\n",
    "    In this notebook we will see how we can use the Image2Matrix and Matrix2Image functions available in Vantage.</p>"
   ]
  },
  {
   "cell_type": "markdown",
   "id": "212b9472-1e9a-4107-bf88-25dba32eb65d",
   "metadata": {},
   "source": [
    "<hr style=\"height:2px;border:none;\">\n",
    "<b style = 'font-size:20px;font-family:Arial'>1. Initiate a connection to Vantage</b>"
   ]
  },
  {
   "cell_type": "markdown",
   "id": "88efc71e-a4a6-4a33-b09b-9d8a376dd764",
   "metadata": {},
   "source": [
    "<p style = 'font-size:16px;font-family:Arial'>We need to upgarde teradataml to 20.0.0.3 version or higher to functions to work properly.</p>\n"
   ]
  },
  {
   "cell_type": "code",
   "execution_count": null,
   "id": "11f4c3e2-2184-477e-9458-ac2191ae6926",
   "metadata": {},
   "outputs": [],
   "source": [
    "%%capture\n",
    "!pip install --upgrade teradataml"
   ]
  },
  {
   "cell_type": "markdown",
   "id": "13b6c77f-d93a-4749-8122-1e4b88f782b8",
   "metadata": {},
   "source": [
    "<div class=\"alert alert-block alert-info\">\n",
    "    <p style = 'font-size:16px;font-family:Arial;color:#00233C'><b>Note: </b><i>Please restart the kernel after executing these two lines. The simplest way to restart the Kernel is by typing zero zero: <b> 0 0</b></i></p>\n",
    "</div>"
   ]
  },
  {
   "cell_type": "markdown",
   "id": "15f2f5d6-5976-41e7-b98b-96490ca14f9b",
   "metadata": {},
   "source": [
    "<p style = 'font-size:16px;font-family:Arial'>In the section, we import the required libraries and set environment variables and environment paths (if required)."
   ]
  },
  {
   "cell_type": "code",
   "execution_count": null,
   "id": "c971aa81-df3a-4090-9baa-5ac464252f60",
   "metadata": {},
   "outputs": [],
   "source": [
    "from teradataml import *\n",
    "from PIL import Image\n",
    "from IPython.display import display\n",
    "import io\n",
    "\n",
    "# Modify the following to match the specific client environment settings\n",
    "display.max_rows = 5"
   ]
  },
  {
   "cell_type": "markdown",
   "id": "bbdf93ec-ff7a-42e0-8552-6bd71a1a2ef9",
   "metadata": {},
   "source": [
    "<hr style=\"height:1px;border:none;\">\n",
    "<p style = 'font-size:18px;font-family:Arial'><b>1.1 Connect to Vantage</b></p>\n",
    "<p style = 'font-size:16px;font-family:Arial'>You will be prompted to provide the password. Enter your password, press the Enter key, and then use the down arrow to go to the next cell.</p>"
   ]
  },
  {
   "cell_type": "code",
   "execution_count": null,
   "id": "3fc59f0b-0902-4d6d-8264-5bbffa34de56",
   "metadata": {},
   "outputs": [],
   "source": [
    "%run -i ../../UseCases/startup.ipynb\n",
    "eng = create_context(host = 'host.docker.internal', username='demo_user', password = password)\n",
    "print(eng)"
   ]
  },
  {
   "cell_type": "code",
   "execution_count": null,
   "id": "7fa2647c-520f-42ce-acab-0a68aff7073a",
   "metadata": {},
   "outputs": [],
   "source": [
    "%%capture\n",
    "execute_sql('''SET query_band='DEMO=PP_Image2MatrixandMatrix2Image_Python.ipynb;' UPDATE FOR SESSION; ''')"
   ]
  },
  {
   "cell_type": "markdown",
   "id": "3f7f0dee-c432-4c9a-8f5c-6fb36dd7f8d6",
   "metadata": {},
   "source": [
    "<p style = 'font-size:16px;font-family:Arial'>Begin running steps with Shift + Enter keys. </p>"
   ]
  },
  {
   "cell_type": "markdown",
   "id": "8470de91-7289-4a2a-8aa4-4e29e285d9bd",
   "metadata": {},
   "source": [
    "<hr style='height:1px;border:none;'>\n",
    "\n",
    "<p style = 'font-size:18px;font-family:Arial'><b>1.2 Getting Data for This Demo</b></p>\n",
    "\n",
    "<p style = 'font-size:16px;font-family:Arial'>We will first load the image as blob data in a table and then use the functions. First step is to create the table.</p>"
   ]
  },
  {
   "cell_type": "code",
   "execution_count": null,
   "id": "7de6c7e9-c03a-48de-a0f1-e21bea3b5628",
   "metadata": {},
   "outputs": [],
   "source": [
    "# Drop the image table if it is present.\n",
    "try:\n",
    "    db_drop_table('image_table')\n",
    "except:\n",
    "    pass\n",
    "\n",
    "# Create a table to store the image data.\n",
    "execute_sql('CREATE TABLE image_table(id INTEGER, image BLOB);')"
   ]
  },
  {
   "cell_type": "markdown",
   "id": "d1bf53d2-bd30-4a56-b3e3-fdf25208d817",
   "metadata": {},
   "source": [
    "<p style = 'font-size:16px;font-family:Arial'>Now we can load this image into the table.</p>"
   ]
  },
  {
   "cell_type": "code",
   "execution_count": null,
   "id": "443b0d1b-6a24-43d2-860b-bea0482ee16f",
   "metadata": {},
   "outputs": [],
   "source": [
    "import teradataml\n",
    "file_dir = os.path.join(os.path.dirname(teradataml.__file__), \"data\")\n",
    "\n",
    "# Open the JPEG image\n",
    "image = Image.open(os.path.join(file_dir,'peppers.png'))  # Replace with actual file path\n",
    "\n",
    "# Display the image\n",
    "display(image)"
   ]
  },
  {
   "cell_type": "code",
   "execution_count": null,
   "id": "7eda8bfd-a657-46f8-9b83-daa3cb337fa9",
   "metadata": {},
   "outputs": [],
   "source": [
    "# Load the image data into the fileContent variable.\n",
    "with open(os.path.join(file_dir,'peppers.png'), mode='rb') as file:\n",
    "    fileContent = file.read()\n",
    "\n",
    "# Insert the image data into the table.\n",
    "sql = 'INSERT INTO image_table VALUES(?, ?);'\n",
    "parameters = (1, fileContent)\n",
    "execute_sql(sql, parameters)"
   ]
  },
  {
   "cell_type": "markdown",
   "id": "0c49708a-a4f4-4621-8688-e33d32f2fe07",
   "metadata": {},
   "source": [
    "<hr style=\"height:2px;border:none;\">\n",
    "<b style = 'font-size:20px;font-family:Arial'>2. Data Exploration</b>\n",
    "<p style = 'font-size:16px;font-family:Arial'>Create a \"Virtual DataFrame\" that points to the data set in Vantage. Check the shape of the dataframe as check the datatype of all the columns of the dataframe.</p>"
   ]
  },
  {
   "cell_type": "code",
   "execution_count": null,
   "id": "2bf1b0b0-6a86-48f0-8b85-f06855b51c66",
   "metadata": {},
   "outputs": [],
   "source": [
    "# Create a DataFrame for the image table.\n",
    "imageTable = DataFrame('image_table')\n",
    "imageTable"
   ]
  },
  {
   "cell_type": "markdown",
   "id": "a43f3f39-894c-47a1-bc8d-796d6b8709ef",
   "metadata": {},
   "source": [
    "<p style = 'font-size:16px;font-family:Arial'>Now we have loaded the image we will convert the image to matrix using the Image2Matrix function. Detailed help can be found by passing function name to built-in help function.</p>"
   ]
  },
  {
   "cell_type": "code",
   "execution_count": null,
   "id": "9707b977-b574-458a-8cef-d5ce7cee66a0",
   "metadata": {
    "tags": []
   },
   "outputs": [],
   "source": [
    "help(Image2Matrix)"
   ]
  },
  {
   "cell_type": "code",
   "execution_count": null,
   "id": "214c399d-9511-4a56-9339-128be2a74e42",
   "metadata": {},
   "outputs": [],
   "source": [
    "# Example: Convert the image to matrix with gray values.\n",
    "image2matrix_gray = Image2Matrix(data=imageTable.select(['id', 'image']), \n",
    "                            output='GRAY')\n",
    "\n",
    "# Print the result DataFrame.\n",
    "image2matrix_gray.result"
   ]
  },
  {
   "cell_type": "code",
   "execution_count": null,
   "id": "64ea686d-7131-482a-9fba-e8b0b14824c9",
   "metadata": {},
   "outputs": [],
   "source": [
    "image2matrix_gray.result.shape"
   ]
  },
  {
   "cell_type": "code",
   "execution_count": null,
   "id": "1af0bb94-2b1a-49cb-93e0-c58bec91cdd3",
   "metadata": {},
   "outputs": [],
   "source": [
    "# Example: Convert the image to matrix with rgb values.\n",
    "image2matrix_rgb = Image2Matrix(data=imageTable.select(['id', 'image']), \n",
    "                            output='RGB')\n",
    "\n",
    "# Print the result DataFrame.\n",
    "image2matrix_rgb.result"
   ]
  },
  {
   "cell_type": "markdown",
   "id": "1e6ddfe9-f0c5-472c-88ed-cd3c44402f75",
   "metadata": {},
   "source": [
    "<p style = 'font-size:16px;font-family:Arial'>As we have now converted our image as a matrix we can create filters or any image manipulation using matrix calculations. After that we can convert the matrix to image again using Matrix2Image function. Detailed help can be found by passing function name to built-in help function.</p>"
   ]
  },
  {
   "cell_type": "code",
   "execution_count": null,
   "id": "f91ba3c2-2607-44ac-8654-fceaee4565d9",
   "metadata": {
    "tags": []
   },
   "outputs": [],
   "source": [
    "help(Matrix2Image)"
   ]
  },
  {
   "cell_type": "markdown",
   "id": "756c4868-a307-4f63-9dee-e591d8008b99",
   "metadata": {},
   "source": [
    "<p style = 'font-size:16px;font-family:Arial'>As a first example let us first invert the grayscale image</p>"
   ]
  },
  {
   "cell_type": "code",
   "execution_count": null,
   "id": "dc3e675e-10f8-4f18-9a64-4ac2862ffe8e",
   "metadata": {},
   "outputs": [],
   "source": [
    "#creating inverse dataframe\n",
    "df = image2matrix_gray.result\n",
    "invert_df= df.assign(drop_columns = True,\n",
    "                  id = df.id,\n",
    "                  Y= df.Y,\n",
    "                  X=df.X,\n",
    "                  GRAY=255-df.GRAY\n",
    "                   )\n",
    "\n",
    "# Create teradataml TDMatrix object.\n",
    "data_matrix_df = TDMatrix(data=invert_df,\n",
    "                          id=\"id\",\n",
    "                          row_index=\"Y\",\n",
    "                          column_index=\"X\",\n",
    "                          row_index_style=\"SEQUENCE\",\n",
    "                          column_index_style=\"SEQUENCE\",\n",
    "                          payload_field=\"GRAY\",\n",
    "                          payload_content=\"REAL\"\n",
    "                          )\n",
    "\n",
    "# Example 1: Generate Gray Scale Image Output with Fixed Range.\n",
    "inverse_image = Matrix2Image(data=data_matrix_df,\n",
    "                       range=[0,255])\n",
    "\n",
    "# Print the result DataFrame.\n",
    "inverse_image.result"
   ]
  },
  {
   "cell_type": "code",
   "execution_count": null,
   "id": "aeb925a7-205c-4510-bb88-e4b45d6b97cd",
   "metadata": {},
   "outputs": [],
   "source": [
    "copy_to_sql(inverse_image.result,table_name=\"image_inverse\",if_exists=\"replace\")"
   ]
  },
  {
   "cell_type": "markdown",
   "id": "17a5255b-3277-4139-b5aa-878e0923cde2",
   "metadata": {},
   "source": [
    "<p style = 'font-size:16px;font-family:Arial'>The output image looks like this.</p>"
   ]
  },
  {
   "cell_type": "code",
   "execution_count": null,
   "id": "4dbd91e0-e7ac-47b8-9840-59d2c795db93",
   "metadata": {},
   "outputs": [],
   "source": [
    "dis_df = DataFrame(in_schema(\"demo_user\",\"image_inverse\"))\n",
    "# Convert the 'image_blob_column' to bytes\n",
    "blob_data = dis_df.to_pandas()['IMAGE'][0]  # Get first image\n",
    "    \n",
    "# Convert BLOB to Image\n",
    "image = Image.open(io.BytesIO(blob_data))\n",
    "\n",
    "# Display Image\n",
    "display(image)"
   ]
  },
  {
   "cell_type": "markdown",
   "id": "e476782a-c100-4bbb-ad99-95629de24d44",
   "metadata": {},
   "source": [
    "<p style = 'font-size:16px;font-family:Arial'>As a second example we will flip the rgb image on y-axis.</p>"
   ]
  },
  {
   "cell_type": "code",
   "execution_count": null,
   "id": "78d4bf32-d88f-4aac-a145-ba0f5afee518",
   "metadata": {},
   "outputs": [],
   "source": [
    "# Create teradataml TDMatrix object.\n",
    "data_matrix_df2 = TDMatrix(data=image2matrix_rgb.result,\n",
    "                          id=\"id\",\n",
    "                          row_index=\"Y\",\n",
    "                          column_index=\"X\",\n",
    "                          row_index_style=\"SEQUENCE\",\n",
    "                          column_index_style=\"SEQUENCE\",\n",
    "                          payload_field=[\"RED\", \"BLUE\", \"GREEN\"],\n",
    "                          payload_content=\"MULTIVAR_REAL\"\n",
    "                          )\n",
    "\n",
    "# Example 4: Generate RGB Image Output with All Channels Range Fixed.\n",
    "flip_image = Matrix2Image(data=data_matrix_df2,\n",
    "                          red=[0,255],\n",
    "                          green=[0,255],\n",
    "                          blue=[0,255],\n",
    "                          flip_y=True)\n",
    "\n",
    "# Print the result DataFrame.\n",
    "flip_image.result"
   ]
  },
  {
   "cell_type": "code",
   "execution_count": null,
   "id": "fb412d45-66c7-4e9f-8bb6-85d4a97430de",
   "metadata": {},
   "outputs": [],
   "source": [
    "copy_to_sql(flip_image.result,table_name=\"image_flip\",if_exists=\"replace\")"
   ]
  },
  {
   "cell_type": "markdown",
   "id": "fbd831ad-eb84-49f7-b254-97824b42df13",
   "metadata": {},
   "source": [
    "<p style = 'font-size:16px;font-family:Arial'>Let us view the output image.</p>"
   ]
  },
  {
   "cell_type": "code",
   "execution_count": null,
   "id": "73a3fe24-ac1c-4373-8055-b924f8991810",
   "metadata": {},
   "outputs": [],
   "source": [
    "dis_df_flip = DataFrame(in_schema(\"demo_user\",\"image_flip\"))\n",
    "# Convert the 'image_blob_column' to bytes\n",
    "blob_data = dis_df_flip.to_pandas()['IMAGE'][0]  # Get first image\n",
    "    \n",
    "# Convert BLOB to Image\n",
    "image = Image.open(io.BytesIO(blob_data))\n",
    "\n",
    "# Display Image\n",
    "display(image)"
   ]
  },
  {
   "cell_type": "markdown",
   "id": "c4936564-11e3-44a3-b4ad-dc0d012ae395",
   "metadata": {},
   "source": [
    "<hr style=\"height:2px;border:none;\">\n",
    "<p style = 'font-size:20px;font-family:Arial'><b>3. Cleanup</b></p>\n",
    "<p style = 'font-size:18px;font-family:Arial;color:##00233C'><b>Work Tables</b></p>"
   ]
  },
  {
   "cell_type": "code",
   "execution_count": null,
   "id": "58ba4f79-9a21-4489-a0f2-dedd97a7d16e",
   "metadata": {},
   "outputs": [],
   "source": [
    "db_drop_table('image_table')"
   ]
  },
  {
   "cell_type": "code",
   "execution_count": null,
   "id": "eaf24b84-47ae-42fc-9377-9996ab6caff6",
   "metadata": {},
   "outputs": [],
   "source": [
    "db_drop_table('image_flip')"
   ]
  },
  {
   "cell_type": "code",
   "execution_count": null,
   "id": "6d810410-8bc9-429e-824d-68248619f9f4",
   "metadata": {},
   "outputs": [],
   "source": [
    "db_drop_table('image_inverse')"
   ]
  },
  {
   "cell_type": "markdown",
   "id": "dfc2bf0f-924c-438a-82b6-825c73322db7",
   "metadata": {},
   "source": [
    "<p style = 'font-size:16px;font-family:Arial'><b>Links:</b></p>\n",
    "<ul style = 'font-size:16px;font-family:Arial'>\n",
    "    <li>Teradataml Python reference: <a href = 'https://docs.teradata.com/search/all?query=Python+Package+User+Guide&content-lang=en-US'>here</a></li>\n",
    "    <li>Image2Matrix function reference: <a href = 'https://docs.teradata.com/search/all?query=Image2Matrix&content-lang=en-US'>here</a></li>\n",
    "    <li>Matrix2Image function reference: <a href = 'https://docs.teradata.com/search/all?query=Matrix2Image&content-lang=en-US'>here</a></li>\n",
    "</ul>"
   ]
  },
  {
   "cell_type": "markdown",
   "id": "fb8dc251-c9a0-4aa1-a056-cb151513c6c6",
   "metadata": {},
   "source": [
    "<footer style=\"padding-bottom:35px; border-bottom:3px solid #91A0Ab\">\n",
    "    <div style=\"float:left;margin-top:14px\">ClearScape Analytics™</div>\n",
    "    <div style=\"float:right;\">\n",
    "        <div style=\"float:left; margin-top:14px\">\n",
    "            Copyright © Teradata Corporation - 2025. All Rights Reserved\n",
    "        </div>\n",
    "    </div>\n",
    "</footer>"
   ]
  }
 ],
 "metadata": {
  "kernelspec": {
   "display_name": "Python 3 (ipykernel)",
   "language": "python",
   "name": "python3"
  },
  "language_info": {
   "codemirror_mode": {
    "name": "ipython",
    "version": 3
   },
   "file_extension": ".py",
   "mimetype": "text/x-python",
   "name": "python",
   "nbconvert_exporter": "python",
   "pygments_lexer": "ipython3",
   "version": "3.9.10"
  }
 },
 "nbformat": 4,
 "nbformat_minor": 5
}
