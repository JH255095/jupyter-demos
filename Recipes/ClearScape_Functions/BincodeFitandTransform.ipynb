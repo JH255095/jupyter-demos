{
 "cells": [
  {
   "cell_type": "markdown",
   "id": "bc549e6c-0cc4-4188-94a3-a9bdd3ae3dfa",
   "metadata": {},
   "source": [
    "<header>\n",
    "   <p  style='font-size:36px;font-family:Arial; color:#F0F0F0; background-color: #00233c; padding-left: 20pt; padding-top: 20pt;padding-bottom: 10pt; padding-right: 20pt;'>\n",
    "       BincodeFit and BincodeTransform functions in Vantage\n",
    "  <br>\n",
    "       <img id=\"teradata-logo\" src=\"https://storage.googleapis.com/clearscape_analytics_demo_data/DEMO_Logo/teradata.svg\" alt=\"Teradata\" style=\"width: 125px; height: auto; margin-top: 20pt;\">\n",
    "    </p>\n",
    "</header>"
   ]
  },
  {
   "cell_type": "markdown",
   "id": "7ae7611a-0795-4168-b716-01fee6880cbd",
   "metadata": {},
   "source": [
    "<p style = 'font-size:20px;font-family:Arial;color:#00233C'><b>Introduction</b></p>\n",
    "<p style = 'font-size:16px;font-family:Arial;color:#00233C'>Bin Coding, also known as binning or bucketing, is a data preprocessing technique used in statistics and machine learning to transform continuous data into categorical or discrete data. In binning, a range of continuous values is divided into smaller intervals or bins, and the data values are assigned to the appropriate bin. This allows the data to be analyzed more easily by grouping similar values into categories.<br> In this notebook we will see how we can use the BincodeFit and BincodeTransform function available in Vantage.</p>"
   ]
  },
  {
   "cell_type": "markdown",
   "id": "6b3a00b4-6661-4c91-9b2d-cb7b0b403140",
   "metadata": {},
   "source": [
    "<hr style=\"height:2px;border:none;background-color:#00233C;\">\n",
    "<b style = 'font-size:20px;font-family:Arial;color:#00233C'>1. Initiate a connection to Vantage</b>"
   ]
  },
  {
   "cell_type": "markdown",
   "id": "2346857f-e0d3-488a-8a3f-ac6dff752c2b",
   "metadata": {},
   "source": [
    "<p style = 'font-size:16px;font-family:Arial;color:#00233C'>In the section, we import the required libraries and set environment variables and environment paths (if required)."
   ]
  },
  {
   "cell_type": "code",
   "execution_count": null,
   "id": "c5af5af3-29d5-4f6a-8334-9df6924e7787",
   "metadata": {},
   "outputs": [],
   "source": [
    "from teradataml import *\n",
    "\n",
    "# Modify the following to match the specific client environment settings\n",
    "display.max_rows = 5"
   ]
  },
  {
   "cell_type": "markdown",
   "id": "ad3dd7b4-831c-4fb3-ab71-719c8c99a71c",
   "metadata": {},
   "source": [
    "<hr style=\"height:1px;border:none;background-color:#00233C;\">\n",
    "<p style = 'font-size:18px;font-family:Arial;color:#00233c'><b>1.1 Connect to Vantage</b></p>\n",
    "<p style = 'font-size:16px;font-family:Arial;color:#00233C'>You will be prompted to provide the password. Enter your password, press the Enter key, and then use the down arrow to go to the next cell.</p>"
   ]
  },
  {
   "cell_type": "code",
   "execution_count": null,
   "id": "2742444c-4349-4b0f-b4e5-b068a8785cd9",
   "metadata": {},
   "outputs": [],
   "source": [
    "%run -i ../../UseCases/startup.ipynb\n",
    "eng = create_context(host = 'host.docker.internal', username='demo_user', password = password)\n",
    "print(eng)"
   ]
  },
  {
   "cell_type": "code",
   "execution_count": null,
   "id": "e14915b0-7932-4e03-94ba-20f0599c3707",
   "metadata": {},
   "outputs": [],
   "source": [
    "%%capture\n",
    "execute_sql('''SET query_band='DEMO=PP_BincodeFitandTransform_Python.ipynb;' UPDATE FOR SESSION; ''')"
   ]
  },
  {
   "cell_type": "markdown",
   "id": "efe2fd2d-63ff-4278-9157-8b9110d682e8",
   "metadata": {},
   "source": [
    "<p style = 'font-size:16px;font-family:Arial;color:#00233C'>Begin running steps with Shift + Enter keys. </p>"
   ]
  },
  {
   "cell_type": "markdown",
   "id": "f003f332-7489-4bdd-a740-4af2a0a22280",
   "metadata": {},
   "source": [
    "<hr style='height:1px;border:none;background-color:#00233C;'>\n",
    "\n",
    "<p style = 'font-size:18px;font-family:Arial;color:#00233c'><b>1.2 Getting Data for This Demo</b></p>\n",
    "\n",
    "<p style = 'font-size:16px;font-family:Arial;color:#00233C'>We have provided data for this demo on cloud storage. You can either run the demo using foreign tables to access the data without any storage on your environment or download the data to local storage, which may yield faster execution. Still, there could be considerations of available storage. Two statements are in the following cell, and one is commented out. You may switch which mode you choose by changing the comment string.</p>"
   ]
  },
  {
   "cell_type": "code",
   "execution_count": null,
   "id": "45c86176-734c-4b1c-ace0-d0c88657b4f8",
   "metadata": {},
   "outputs": [],
   "source": [
    "%run -i ../../UseCases/run_procedure.py \"call get_data('DEMO_BankChurn_cloud');\"        # Takes 30 seconds\n",
    "#%run -i ../../UseCases/run_procedure.py \"call get_data('DEMO_BankChurn_local');\" "
   ]
  },
  {
   "cell_type": "markdown",
   "id": "2401d6d3-4fcd-46fc-8a94-7cafcd1258b0",
   "metadata": {},
   "source": [
    "<p style = 'font-size:16px;font-family:Arial;color:#00233C'>Next is an optional step – if you want to see the status of databases/tables created and space used.</p>"
   ]
  },
  {
   "cell_type": "code",
   "execution_count": null,
   "id": "87429200-db02-450d-9472-4d1e2030124d",
   "metadata": {},
   "outputs": [],
   "source": [
    "%run -i ../../UseCases/run_procedure.py \"call space_report();\"        # Takes 10 seconds"
   ]
  },
  {
   "cell_type": "markdown",
   "id": "2a3762ac-ba27-4fa3-adba-d577262a4290",
   "metadata": {},
   "source": [
    "<hr style=\"height:2px;border:none;background-color:#00233C;\">\n",
    "<b style = 'font-size:20px;font-family:Arial;color:#00233C'>2. Data Exploration</b>\n",
    "<p style = 'font-size:16px;font-family:Arial;color:#00233C'>Create a \"Virtual DataFrame\" that points to the data set in Vantage. Check the shape of the dataframe as check the datatype of all the columns of the dataframe.</p>"
   ]
  },
  {
   "cell_type": "code",
   "execution_count": null,
   "id": "3d936fab-7ca7-4e94-ba64-95c1da08b74f",
   "metadata": {},
   "outputs": [],
   "source": [
    "tdf = DataFrame(in_schema(\"DEMO_BankChurn\", \"customer_churn\"))\n",
    "print(\"Shape of the data: \", tdf.shape)\n",
    "tdf"
   ]
  },
  {
   "cell_type": "code",
   "execution_count": null,
   "id": "3c5a0992-f651-49bc-9080-828fd9c0c982",
   "metadata": {},
   "outputs": [],
   "source": [
    "tdf.tdtypes"
   ]
  },
  {
   "cell_type": "markdown",
   "id": "7f11e29e-72b6-48ea-9726-10899fc31de0",
   "metadata": {
    "tags": []
   },
   "source": [
    "<p style = 'font-size:16px;font-family:Arial;color:#00233C'>Detailed help can be found by passing function name to built-in help function. </p>"
   ]
  },
  {
   "cell_type": "markdown",
   "id": "669af829-e6b5-4d64-abf7-2df8f5707fde",
   "metadata": {},
   "source": [
    "``` python \n",
    "help(BincodeFit)\n",
    "help(BincodeTransform)\n",
    "```"
   ]
  },
  {
   "cell_type": "markdown",
   "id": "a00d8868-464e-4b30-b9ef-f10a5958068c",
   "metadata": {},
   "source": [
    "<p style = 'font-size:16px;font-family:Arial;color:#00233C'>We will create bins for the Age column.<br>For option 1 we will create bin table and pass that to the BincodeFit function.<br>Bins can also be created using Histogram function.</p>"
   ]
  },
  {
   "cell_type": "code",
   "execution_count": null,
   "id": "9f6a6c72-20b9-4b55-bad1-70e63702737b",
   "metadata": {},
   "outputs": [],
   "source": [
    "%%capture\n",
    "query1 = '''\n",
    "CREATE MULTISET TABLE DEMO_User.FitInputTable \n",
    "     (\n",
    "      ColumnName varchar(20), \n",
    "      MinValue integer, \n",
    "      MaxValue integer, \n",
    "      Label varchar(20)\n",
    "  )\n",
    "NO PRIMARY INDEX;\n",
    "'''\n",
    "\n",
    "query2 = '''\n",
    "insert into FitInputTable values('age', 0, 18, '1-Children')\n",
    ";insert into FitInputTable values('age', 19, 25, '2-Young Adult')    \n",
    ";insert into FitInputTable values('age', 26, 45, '3-Middle Adult')\n",
    ";insert into FitInputTable values('age', 46, 60, '4-Old Adult')   \n",
    ";insert into FitInputTable values('age', 61 ,120, '5-Senior Citizen')\n",
    ";\n",
    "'''\n",
    "\n",
    "execute_sql(query1)\n",
    "execute_sql(query2)"
   ]
  },
  {
   "cell_type": "code",
   "execution_count": null,
   "id": "a5b6ebb9-b967-4b35-a70c-684ed05631c5",
   "metadata": {},
   "outputs": [],
   "source": [
    "bin_data=DataFrame(in_schema(\"DEMO_User\",\"FitInputTable\"))\n",
    "bin_data"
   ]
  },
  {
   "cell_type": "code",
   "execution_count": null,
   "id": "4fccb96f-6650-410a-b1f7-6f58bcddcf38",
   "metadata": {
    "tags": []
   },
   "outputs": [],
   "source": [
    "bin_fit_1 = BincodeFit(data=tdf,\n",
    "                        fit_data=bin_data,\n",
    "                        fit_data_order_column = ['MinValue', 'MaxValue'],\n",
    "                        target_columns='Age',\n",
    "                        minvalue_column='MinValue',\n",
    "                        maxvalue_column='MaxValue',\n",
    "                        label_column='Label',\n",
    "                        method_type='Variable-Width'\n",
    "                        )\n",
    " \n",
    "# Print the result.\n",
    "bin_fit_1.output"
   ]
  },
  {
   "cell_type": "markdown",
   "id": "a9cb91c9-3bb8-490b-9870-fcf0bfda4fa4",
   "metadata": {},
   "source": [
    "<p style = 'font-size:16px;font-family:Arial;color:#00233C'>Now we can apply the fit function or transform the data using BincodeTransform</p>"
   ]
  },
  {
   "cell_type": "code",
   "execution_count": null,
   "id": "11d8b2a2-b0b4-4620-8472-c9fde937ea5a",
   "metadata": {},
   "outputs": [],
   "source": [
    "column_list = tdf.columns\n",
    "column_list.remove(\"Age\")\n",
    "\n",
    "#res = fit_object.transform(data = tdf).result\n",
    "res = BincodeTransform(data=tdf,\n",
    "                        object=bin_fit_1,\n",
    "                        object_order_column=\"TD_MinValue_BINFIT\",\n",
    "                        accumulate=column_list\n",
    "                       )\n",
    "res.result"
   ]
  },
  {
   "cell_type": "markdown",
   "id": "6be8d386-4828-4679-a88b-d9b038ed4da3",
   "metadata": {},
   "source": [
    "<p style = 'font-size:16px;font-family:Arial;color:#00233C'>For option 2 Fit table itself creates and equal-width bins.</p>"
   ]
  },
  {
   "cell_type": "code",
   "execution_count": null,
   "id": "c06cd125-1818-4a90-8d5d-7335a697f2a1",
   "metadata": {
    "tags": []
   },
   "outputs": [],
   "source": [
    "bin_fit_2 = BincodeFit(data=tdf,\n",
    "                        target_columns='Age',\n",
    "                        method_type='Equal-Width',\n",
    "                        nbins=5,\n",
    "                        label_prefix='Age_Category'\n",
    "                        )\n",
    "bin_fit_2.output"
   ]
  },
  {
   "cell_type": "code",
   "execution_count": null,
   "id": "1b933252-2198-4ea7-a450-b52c45611217",
   "metadata": {},
   "outputs": [],
   "source": [
    "res_2 = BincodeTransform(data=tdf,\n",
    "                        object=bin_fit_2,\n",
    "                        accumulate=column_list\n",
    "                       )\n",
    "res_2.result"
   ]
  },
  {
   "cell_type": "markdown",
   "id": "151d5db4-29a9-49d9-8a61-d53f9627a294",
   "metadata": {},
   "source": [
    "<hr style=\"height:2px;border:none;background-color:#00233C;\">\n",
    "<b style = 'font-size:20px;font-family:Arial;color:#00233C'>2. Cleanup</b>"
   ]
  },
  {
   "cell_type": "markdown",
   "id": "a562f058-fb24-4966-a25d-f2960e6ddfb8",
   "metadata": {},
   "source": [
    "<hr style=\"height:1px;border:none;background-color:#00233C;\">\n",
    "<p style = 'font-size:18px;font-family:Arial;color:#00233C'> <b>Databases and Tables </b></p>\n",
    "<p style = 'font-size:16px;font-family:Arial;color:#00233C'>The following code will clean up tables and databases created above.</p>"
   ]
  },
  {
   "cell_type": "code",
   "execution_count": null,
   "id": "56118d1e-1c14-445a-902c-4143fe56485c",
   "metadata": {},
   "outputs": [],
   "source": [
    "db_drop_table(table_name = 'FitInputTable')"
   ]
  },
  {
   "cell_type": "code",
   "execution_count": null,
   "id": "c681a27b-8faf-4133-8ecf-69aaa3284e3c",
   "metadata": {},
   "outputs": [],
   "source": [
    "%run -i ../../UseCases/run_procedure.py \"call remove_data('DEMO_BankChurn');\"        # Takes 10 seconds"
   ]
  },
  {
   "cell_type": "code",
   "execution_count": null,
   "id": "157fe3d4-4e0e-4d92-b343-9f758f3bf690",
   "metadata": {},
   "outputs": [],
   "source": [
    "remove_context()"
   ]
  },
  {
   "cell_type": "markdown",
   "id": "4317a6cf-1479-4aa8-b30a-ee0a3b5231a8",
   "metadata": {},
   "source": [
    "<hr style=\"height:1px;border:none;background-color:#00233C;\">\n",
    "<b style = 'font-size:18px;font-family:Arial;color:#00233C'>Dataset:</b>\n",
    "\n",
    "- `Surname`: Surname\n",
    "- `CreditScore`: Credit score\n",
    "- `Geography`: Country (Germany / France / Spain)\n",
    "- `Gender`: Gender (Female / Male)\n",
    "- `Age`: Age\n",
    "- `Tenure`: No of years the customer has been associated with the bank\n",
    "- `Balance`: Balance\n",
    "- `NumOfProducts`: No of bank products used\n",
    "- `HasCrCard`: Credit card status (0 = No, 1 = Yes)\n",
    "- `IsActiveMember`: Active membership status (0 = No, 1 = Yes)\n",
    "- `EstimatedSalary`: Estimated salary\n",
    "- `Exited`: Abandoned or not? (0 = No, 1 = Yes)\n",
    "\n",
    "<p style = 'font-size:16px;font-family:Arial;color:#00233C'><b>Links:</b></p>\n",
    "<ul style = 'font-size:16px;font-family:Arial'>\n",
    "    <li>Teradataml Python reference: <a href = 'https://docs.teradata.com/search/all?query=Python+Package+User+Guide&content-lang=en-US'>here</a></li>\n",
    "    <li>BincodeFit function reference: <a href = 'https://docs.teradata.com/search/all?query=BincodeFit&content-lang=en-US'>here</a></li>\n",
    "</ul>"
   ]
  },
  {
   "cell_type": "markdown",
   "id": "b2dcca28-5de5-44d7-88cb-45a12153b3f8",
   "metadata": {},
   "source": [
    "<footer style=\"padding-bottom:35px; background:#f9f9f9; border-bottom:3px solid #00233C\">\n",
    "    <div style=\"float:left;margin-top:14px\">ClearScape Analytics™</div>\n",
    "    <div style=\"float:right;\">\n",
    "        <div style=\"float:left; margin-top:14px\">\n",
    "            Copyright © Teradata Corporation - 2025. All Rights Reserved\n",
    "        </div>\n",
    "    </div>\n",
    "</footer>"
   ]
  }
 ],
 "metadata": {
  "kernelspec": {
   "display_name": "Python 3 (ipykernel)",
   "language": "python",
   "name": "python3"
  },
  "language_info": {
   "codemirror_mode": {
    "name": "ipython",
    "version": 3
   },
   "file_extension": ".py",
   "mimetype": "text/x-python",
   "name": "python",
   "nbconvert_exporter": "python",
   "pygments_lexer": "ipython3",
   "version": "3.9.10"
  }
 },
 "nbformat": 4,
 "nbformat_minor": 5
}
