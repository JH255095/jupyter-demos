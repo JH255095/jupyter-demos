{
 "cells": [
  {
   "cell_type": "markdown",
   "id": "bc549e6c-0cc4-4188-94a3-a9bdd3ae3dfa",
   "metadata": {},
   "source": [
    "<header>\n",
    "   <p  style='font-size:36px;font-family:Arial; color:#F0F0F0; background-color: #00233c; padding-left: 20pt; padding-top: 20pt;padding-bottom: 10pt; padding-right: 20pt;'>\n",
    "       MAMean Function in Vantage\n",
    "  <br>\n",
    "       <img id=\"teradata-logo\" src=\"https://storage.googleapis.com/clearscape_analytics_demo_data/DEMO_Logo/teradata.svg\" alt=\"Teradata\" style=\"width: 125px; height: auto; margin-top: 20pt;\">\n",
    "    </p>\n",
    "</header>"
   ]
  },
  {
   "cell_type": "markdown",
   "id": "7ae7611a-0795-4168-b716-01fee6880cbd",
   "metadata": {},
   "source": [
    "<p style = 'font-size:20px;font-family:Arial'><b>Introduction</b></p>\n",
    "\n",
    "<p style = 'font-size:20px;font-family:Arial'><b>MAMean</b></p>\n",
    "<p style = 'font-size:16px;font-family:Arial'> The MAMean() function forecasts a user-defined number of periods into the future, that is the number of periods beyond the last observed sample point in the series.</p>\n",
    "\n",
    "<p style = 'font-size:16px;font-family:Arial'>The MAMean function uses available historical data to forecast activity h periods ahead. It is classified as a flat forecaster because given t historical observations, the forecast for any period beyond t+1 is equal to the forecast for t+1. Another use of this forecaster is to forecast one-period ahead. If historical data is available up to and including time t, then it can be used to forecast the value at time t+1. When the actual time t+1 value becomes available, it can be used to forecast the value at time t+2, and so on.</p>\n",
    " \n"
   ]
  },
  {
   "cell_type": "markdown",
   "id": "6b3a00b4-6661-4c91-9b2d-cb7b0b403140",
   "metadata": {},
   "source": [
    "<hr style=\"height:2px;border:none;\">\n",
    "<b style = 'font-size:20px;font-family:Arial'>1. Initiate a connection to Vantage</b>"
   ]
  },
  {
   "cell_type": "markdown",
   "id": "2346857f-e0d3-488a-8a3f-ac6dff752c2b",
   "metadata": {},
   "source": [
    "<p style = 'font-size:16px;font-family:Arial'>In the section, we import the required libraries and set environment variables and environment paths (if required)."
   ]
  },
  {
   "cell_type": "code",
   "execution_count": null,
   "id": "c5af5af3-29d5-4f6a-8334-9df6924e7787",
   "metadata": {},
   "outputs": [],
   "source": [
    "from teradataml import (\n",
    "    create_context,\n",
    "    execute_sql,\n",
    "    load_example_data,\n",
    "    DataFrame,\n",
    "    in_schema,\n",
    "    TDSeries,\n",
    "    MAMean,\n",
    "    Figure,\n",
    "    plot,\n",
    "    db_drop_view,\n",
    "    remove_context,\n",
    "    copy_to_sql,\n",
    "    db_drop_table\n",
    "    )\n",
    "\n",
    "from teradatasqlalchemy.types import *\n",
    "\n",
    "from teradataml import to_numeric\n",
    "# Modify the following to match the specific client environment settings\n",
    "display.max_rows = 5"
   ]
  },
  {
   "cell_type": "markdown",
   "id": "ad3dd7b4-831c-4fb3-ab71-719c8c99a71c",
   "metadata": {},
   "source": [
    "<hr style=\"height:1px;border:none;\">\n",
    "<p style = 'font-size:18px;font-family:Arial'><b>1.1 Connect to Vantage</b></p>\n",
    "<p style = 'font-size:16px;font-family:Arial'>You will be prompted to provide the password. Enter your password, press the Enter key, and then use the down arrow to go to the next cell.</p>"
   ]
  },
  {
   "cell_type": "code",
   "execution_count": null,
   "id": "2742444c-4349-4b0f-b4e5-b068a8785cd9",
   "metadata": {},
   "outputs": [],
   "source": [
    "%run -i ../../UseCases/startup.ipynb\n",
    "eng = create_context(host = 'host.docker.internal', username='demo_user', password = password)\n",
    "print(eng)"
   ]
  },
  {
   "cell_type": "code",
   "execution_count": null,
   "id": "01c4a128-d106-46ea-8dee-34acc5abd29f",
   "metadata": {},
   "outputs": [],
   "source": [
    "%%capture\n",
    "execute_sql('''SET query_band='DEMO=PP_MAMean_Python.ipynb;' UPDATE FOR SESSION; ''')"
   ]
  },
  {
   "cell_type": "markdown",
   "id": "efe2fd2d-63ff-4278-9157-8b9110d682e8",
   "metadata": {},
   "source": [
    "<p style = 'font-size:16px;font-family:Arial'>Begin running steps with Shift + Enter keys. </p>"
   ]
  },
  {
   "cell_type": "markdown",
   "id": "5a4ca1fc-6c99-48ea-84fb-7e12962a18aa",
   "metadata": {},
   "source": [
    "<hr style='height:1px;border:none;'>\n",
    "\n",
    "<p style = 'font-size:18px;font-family:Arial'><b>1.2 Getting Data for This Demo</b></p>\n",
    "\n",
    "<p style = 'font-size:16px;font-family:Arial'>Here, we will get the time series data which is available in the teradataml library and use the same to show the usage of the function.</p>"
   ]
  },
  {
   "cell_type": "code",
   "execution_count": null,
   "id": "c9671796-e9b2-4474-ab6f-90f90ecd8fae",
   "metadata": {},
   "outputs": [],
   "source": [
    " load_example_data(\"uaf\", [\"orders1\"])"
   ]
  },
  {
   "cell_type": "markdown",
   "id": "47e7cfab-7d81-4311-8ce4-1e5809fc1107",
   "metadata": {},
   "source": [
    "<hr style=\"height:2px;border:none;\">\n",
    "<b style = 'font-size:20px;font-family:Arial'>2. Data Exploration</b>\n",
    "<p style = 'font-size:16px;font-family:Arial'>Create a \"Virtual DataFrame\" that points to the data set in Vantage. Check the shape of the dataframe as check the datatype of all the columns of the dataframe.</p>"
   ]
  },
  {
   "cell_type": "code",
   "execution_count": null,
   "id": "a1eaf239-4dff-4b77-a3d5-fbcf14a78075",
   "metadata": {},
   "outputs": [],
   "source": [
    "df = DataFrame.from_table(\"orders1\")\n",
    "df"
   ]
  },
  {
   "cell_type": "markdown",
   "id": "4a2f79a0-eb16-4c3b-bec2-c313e97ac940",
   "metadata": {},
   "source": [
    "<hr style=\"height:2px;border:none;\">\n",
    "<b style = 'font-size:20px;font-family:Arial'>3. MAMean</b>\n",
    "<p style = 'font-size:16px;font-family:Arial'>The MAMean() function forecasts a user-defined number of periods into the future, that is the number of periods beyond the last observed sample point in the series.</p>\n",
    "\n",
    "<p style = 'font-size:16px;font-family:Arial'>The first step is to convert the time series data into TDSeries, which is required for the input time series which are passed to the convolve function.</p>"
   ]
  },
  {
   "cell_type": "code",
   "execution_count": null,
   "id": "a711f58c-fbd3-4457-9f6a-9cd5c1b192dc",
   "metadata": {},
   "outputs": [],
   "source": [
    "result = TDSeries(data=df,\n",
    "                      id=\"store_id\",\n",
    "                      row_index=\"seq\",\n",
    "                      row_index_style=\"SEQUENCE\",\n",
    "                      payload_field=\"sales\",\n",
    "                      payload_content=\"REAL\") "
   ]
  },
  {
   "cell_type": "markdown",
   "id": "a1227215-e81f-4976-9137-3d8d53aa80a3",
   "metadata": {},
   "source": [
    "<p style = 'font-size:16px;font-family:Arial'>Detailed help can be found by passing function name to built-in help function. </p>"
   ]
  },
  {
   "cell_type": "code",
   "execution_count": null,
   "id": "d77f88f4-d1ea-4869-bb2f-4b4ab2d6759b",
   "metadata": {},
   "outputs": [],
   "source": [
    "help(MAMean)"
   ]
  },
  {
   "cell_type": "markdown",
   "id": "06d4d18f-936c-4ee9-8770-04757797154d",
   "metadata": {},
   "source": [
    "<p style = 'font-size:16px;font-family:Arial'> We will forecast 8 number of periods into the future beyond the last observed sample point in the series using the moving average algorithm and generate metadata as well as residuals data.</p>\n",
    "\n",
    "<p style = 'font-size:16px;font-family:Arial'>Input Parameters:</p>\n",
    "<li style = 'font-size:16px;font-family:Arial'><code>data:</code> Specifies a logical univariate series with historical data.</li>\n",
    "<li style = 'font-size:16px;font-family:Arial'><code>forecast_periods:</code> Specifies the number of periods to forecast ahead. The argument \"forecast_periods\" must be a positive integer value in the range [1, 32000]</li>\n",
    "<li style = 'font-size:16px;font-family:Arial'><code>algorithm:</code> Specifies the type of algorithm to use. Permitted Values:\n",
    "    <b>MA</b>, <b>MEAN</b> , <b>NAIVE</b></li>\n",
    "<li style = 'font-size:16px;font-family:Arial'><code>prediction_intervals:</code> Specifies the confidence level for the prediction, such that 85 means 85% confidence.  Permitted Values: <b>NONE<b>, <b>80</b>, <b>95</b>, <b>BOTH</b></li>    \n",
    "<li style = 'font-size:16px;font-family:Arial'><code>k_order:</code> Specifies the moving average forecast. The argument \"k_order\" must be a positive int value in the range [1, 32000]</li>\n",
    "<li style = 'font-size:16px;font-family:Arial'><code>fit_metrics:</code> Specifies a flag to generate the secondary result set that contains the model metadata statistics. When set to True, function generate the secondary result set, otherwise not. The generated result set can be retrieved using the attribute fitmetadata of the function output.</li>\n",
    "<li style = 'font-size:16px;font-family:Arial'><code>residuals:</code> Specifies a flag to generate the tertiary result set that contains the model residuals. When set to True, means generate the tertiary result set, otherwise not. The generated result set can be retrieved using the attribute fitresiduals of the function output.</li>"
   ]
  },
  {
   "cell_type": "code",
   "execution_count": null,
   "id": "8965392c-404e-4e25-b5b8-c7ef06069154",
   "metadata": {},
   "outputs": [],
   "source": [
    "uaf_out = MAMean(data=result,\n",
    "                 forecast_periods=8,\n",
    "                 algorithm='MA',\n",
    "                 prediction_intervals='BOTH',\n",
    "                 k_order=3,\n",
    "                 fit_metrics=True,\n",
    "                 residuals=True)\n",
    "mamean_df = uaf_out.result\n",
    "mamean_df"
   ]
  },
  {
   "cell_type": "markdown",
   "id": "54bc4a6d-7c80-4c60-8c16-f125dc4dad7c",
   "metadata": {},
   "source": [
    "<p style = 'font-size:16px;font-family:Arial'><code>fitmetadata</code> - Available when \"model_stats\" is set to True, otherwise not.</p>"
   ]
  },
  {
   "cell_type": "code",
   "execution_count": null,
   "id": "7b4e9983-08c4-4b3e-be24-91775745efc8",
   "metadata": {},
   "outputs": [],
   "source": [
    "uaf_out.fitmetadata"
   ]
  },
  {
   "cell_type": "markdown",
   "id": "5a732915-60ad-48b8-b7ec-7491b97ec0c9",
   "metadata": {},
   "source": [
    "<p style = 'font-size:16px;font-family:Arial'><code>fitresiduals </code> - Available when \"residuals\" is set to True, otherwise not.</p>"
   ]
  },
  {
   "cell_type": "code",
   "execution_count": null,
   "id": "56df9974-540e-49f9-93ec-07f54ae45013",
   "metadata": {},
   "outputs": [],
   "source": [
    "uaf_out.fitresiduals"
   ]
  },
  {
   "cell_type": "markdown",
   "id": "c25fdaf1-098b-4dea-984b-579c6412557e",
   "metadata": {},
   "source": [
    "<hr style=\"height:2px;border:none;\">\n",
    "<b style = 'font-size:20px;font-family:Arial'>5. Cleanup</b>"
   ]
  },
  {
   "cell_type": "markdown",
   "id": "a5d460af-1a32-4681-8094-360c3f25dc1f",
   "metadata": {},
   "source": [
    "<p style = 'font-size:18px;font-family:Arial'><b>Databases and Tables</b></p>\n",
    "<p style = 'font-size:16px;font-family:Arial'>The following code will clean up tables and databases created above.</p>"
   ]
  },
  {
   "cell_type": "code",
   "execution_count": null,
   "id": "9dff9677-dae1-4cc5-b78e-3d197cc41e0c",
   "metadata": {},
   "outputs": [],
   "source": [
    "db_drop_table('orders1')"
   ]
  },
  {
   "cell_type": "code",
   "execution_count": null,
   "id": "9b96168c-7973-4259-b3e0-668b92fd846e",
   "metadata": {},
   "outputs": [],
   "source": [
    "remove_context()"
   ]
  },
  {
   "cell_type": "markdown",
   "id": "4317a6cf-1479-4aa8-b30a-ee0a3b5231a8",
   "metadata": {},
   "source": [
    "<hr style=\"height:1px;border:none;\">\n",
    "\n",
    "<p style = 'font-size:16px;font-family:Arial'><b>Links:</b></p>\n",
    "<ul style = 'font-size:16px;font-family:Arial'>\n",
    "    <li>Teradataml Python reference: <a href = 'https://docs.teradata.com/search/all?query=Python+Package+User+Guide&content-lang=en-US'>here</a></li>\n",
    "    <li>MAMean function reference: <a href = 'https://docs.teradata.com/search/all?query=MAMean&content-lang=en-US'>here</a></li>\n",
    "    \n",
    "</ul>"
   ]
  },
  {
   "cell_type": "markdown",
   "id": "b2dcca28-5de5-44d7-88cb-45a12153b3f8",
   "metadata": {},
   "source": [
    "<footer style=\"padding-bottom:35px; border-bottom:3px solid #91A0Ab\">\n",
    "    <div style=\"float:left;margin-top:14px\">ClearScape Analytics™</div>\n",
    "    <div style=\"float:right;\">\n",
    "        <div style=\"float:left; margin-top:14px\">\n",
    "            Copyright © Teradata Corporation - 2025. All Rights Reserved\n",
    "        </div>\n",
    "    </div>\n",
    "</footer>"
   ]
  }
 ],
 "metadata": {
  "kernelspec": {
   "display_name": "Python 3 (ipykernel)",
   "language": "python",
   "name": "python3"
  },
  "language_info": {
   "codemirror_mode": {
    "name": "ipython",
    "version": 3
   },
   "file_extension": ".py",
   "mimetype": "text/x-python",
   "name": "python",
   "nbconvert_exporter": "python",
   "pygments_lexer": "ipython3",
   "version": "3.9.10"
  }
 },
 "nbformat": 4,
 "nbformat_minor": 5
}
