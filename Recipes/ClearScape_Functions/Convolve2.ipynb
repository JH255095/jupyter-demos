{
 "cells": [
  {
   "cell_type": "markdown",
   "id": "bc549e6c-0cc4-4188-94a3-a9bdd3ae3dfa",
   "metadata": {},
   "source": [
    "<header>\n",
    "   <p  style='font-size:36px;font-family:Arial; color:#F0F0F0; background-color: #00233c; padding-left: 20pt; padding-top: 20pt;padding-bottom: 10pt; padding-right: 20pt;'>\n",
    "       Convolve2 function in Vantage\n",
    "  <br>\n",
    "       <img id=\"teradata-logo\" src=\"https://storage.googleapis.com/clearscape_analytics_demo_data/DEMO_Logo/teradata.svg\" alt=\"Teradata\" style=\"width: 125px; height: auto; margin-top: 20pt;\">\n",
    "    </p>\n",
    "</header>"
   ]
  },
  {
   "cell_type": "markdown",
   "id": "7ae7611a-0795-4168-b716-01fee6880cbd",
   "metadata": {},
   "source": [
    "<p style = 'font-size:20px;font-family:Arial;color:#00233C'><b>Introduction</b></p>\n",
    "<p style = 'font-size:16px;font-family:Arial;color:#00233C'> The Convolve2() function uses two matrices as input. One matrix is the image in pixels, and the other matrix is the filter. Smaller images with results sets smaller than 128 by 128 use summation. Larger images use the Discrete Fast Fourier Transform (DFFT) method.</p>"
   ]
  },
  {
   "cell_type": "markdown",
   "id": "6b3a00b4-6661-4c91-9b2d-cb7b0b403140",
   "metadata": {},
   "source": [
    "<hr style=\"height:2px;border:none;background-color:#00233C;\">\n",
    "<b style = 'font-size:20px;font-family:Arial;color:#00233C'>1. Initiate a connection to Vantage</b>"
   ]
  },
  {
   "cell_type": "markdown",
   "id": "2346857f-e0d3-488a-8a3f-ac6dff752c2b",
   "metadata": {},
   "source": [
    "<p style = 'font-size:16px;font-family:Arial;color:#00233C'>In the section, we import the required libraries and set environment variables and environment paths (if required)."
   ]
  },
  {
   "cell_type": "code",
   "execution_count": null,
   "id": "c5af5af3-29d5-4f6a-8334-9df6924e7787",
   "metadata": {},
   "outputs": [],
   "source": [
    "from teradataml import (\n",
    "    create_context,\n",
    "    execute_sql,\n",
    "    load_example_data,\n",
    "    DataFrame,\n",
    "    TDMatrix,\n",
    "    Convolve2,\n",
    "    remove_context\n",
    "    )\n",
    "\n",
    "# Modify the following to match the specific client environment settings\n",
    "display.max_rows = 5"
   ]
  },
  {
   "cell_type": "markdown",
   "id": "ad3dd7b4-831c-4fb3-ab71-719c8c99a71c",
   "metadata": {},
   "source": [
    "<hr style=\"height:1px;border:none;background-color:#00233C;\">\n",
    "<p style = 'font-size:18px;font-family:Arial;color:#00233c'><b>1.1 Connect to Vantage</b></p>\n",
    "<p style = 'font-size:16px;font-family:Arial;color:#00233C'>You will be prompted to provide the password. Enter your password, press the Enter key, and then use the down arrow to go to the next cell.</p>"
   ]
  },
  {
   "cell_type": "code",
   "execution_count": null,
   "id": "2742444c-4349-4b0f-b4e5-b068a8785cd9",
   "metadata": {},
   "outputs": [],
   "source": [
    "%run -i ../../UseCases/startup.ipynb\n",
    "eng = create_context(host = 'host.docker.internal', username='demo_user', password = password)\n",
    "print(eng)"
   ]
  },
  {
   "cell_type": "code",
   "execution_count": null,
   "id": "01c4a128-d106-46ea-8dee-34acc5abd29f",
   "metadata": {},
   "outputs": [],
   "source": [
    "%%capture\n",
    "execute_sql('''SET query_band='DEMO=PP_Convolve2_Python.ipynb;' UPDATE FOR SESSION; ''')"
   ]
  },
  {
   "cell_type": "markdown",
   "id": "efe2fd2d-63ff-4278-9157-8b9110d682e8",
   "metadata": {},
   "source": [
    "<p style = 'font-size:16px;font-family:Arial;color:#00233C'>Begin running steps with Shift + Enter keys. </p>"
   ]
  },
  {
   "cell_type": "markdown",
   "id": "f003f332-7489-4bdd-a740-4af2a0a22280",
   "metadata": {},
   "source": [
    "<hr style='height:1px;border:none;background-color:#00233C;'>\n",
    "\n",
    "<p style = 'font-size:18px;font-family:Arial;color:#00233c'><b>1.2 Getting Data for This Demo</b></p>\n",
    "\n",
    "<p style = 'font-size:16px;font-family:Arial;color:#00233C'>Here, we will get the time series data which is available in the teradataml library and use the same to show the usage of the function.</p>"
   ]
  },
  {
   "cell_type": "code",
   "execution_count": null,
   "id": "45c86176-734c-4b1c-ace0-d0c88657b4f8",
   "metadata": {},
   "outputs": [],
   "source": [
    "load_example_data(\"uaf\", [\"Convolve2ValidLeft\", \"Convolve2RealsLeft\"])"
   ]
  },
  {
   "cell_type": "markdown",
   "id": "2401d6d3-4fcd-46fc-8a94-7cafcd1258b0",
   "metadata": {},
   "source": [
    "<p style = 'font-size:16px;font-family:Arial;color:#00233C'>Next is an optional step – if you want to see the status of databases/tables created and space used.</p>"
   ]
  },
  {
   "cell_type": "code",
   "execution_count": null,
   "id": "87429200-db02-450d-9472-4d1e2030124d",
   "metadata": {},
   "outputs": [],
   "source": [
    "%run -i ../../UseCases/run_procedure.py \"call space_report();\"        # Takes 10 seconds"
   ]
  },
  {
   "cell_type": "markdown",
   "id": "2a3762ac-ba27-4fa3-adba-d577262a4290",
   "metadata": {},
   "source": [
    "<hr style=\"height:2px;border:none;background-color:#00233C;\">\n",
    "<b style = 'font-size:20px;font-family:Arial;color:#00233C'>2. Data Exploration</b>\n",
    "<p style = 'font-size:16px;font-family:Arial;color:#00233C'>Create a \"Virtual DataFrame\" that points to the data set in Vantage. Check the shape of the dataframe as check the datatype of all the columns of the dataframe.</p>"
   ]
  },
  {
   "cell_type": "code",
   "execution_count": null,
   "id": "3d936fab-7ca7-4e94-ba64-95c1da08b74f",
   "metadata": {},
   "outputs": [],
   "source": [
    "data1 = DataFrame.from_table(\"Convolve2ValidLeft\")\n",
    "data2 = DataFrame.from_table(\"Convolve2ValidLeft\")\n",
    "data3 = DataFrame.from_table(\"Convolve2RealsLeft\")\n",
    "data4 = DataFrame.from_table(\"Convolve2RealsLeft\")"
   ]
  },
  {
   "cell_type": "code",
   "execution_count": null,
   "id": "3c5a0992-f651-49bc-9080-828fd9c0c982",
   "metadata": {},
   "outputs": [],
   "source": [
    "data1"
   ]
  },
  {
   "cell_type": "code",
   "execution_count": null,
   "id": "2d3b3b2f-5b92-408f-9789-2ebbaf9a7a44",
   "metadata": {},
   "outputs": [],
   "source": [
    "data3"
   ]
  },
  {
   "cell_type": "markdown",
   "id": "4a2f79a0-eb16-4c3b-bec2-c313e97ac940",
   "metadata": {},
   "source": [
    "<hr style=\"height:2px;border:none;background-color:#00233C;\">\n",
    "<b style = 'font-size:20px;font-family:Arial;color:#00233C'>3. Example 1</b>\n",
    "<p style = 'font-size:16px;font-family:Arial;color:#00233C'>Apply the Convolve2() function when payload fields of two matrices are the different to convolve two matrices into a new source image matrix.</p>\n",
    "\n",
    "<p style = 'font-size:16px;font-family:Arial;color:#00233C'>The first step is to convert teradataml TDMatrix objects with different payload fields.</p>\n"
   ]
  },
  {
   "cell_type": "code",
   "execution_count": null,
   "id": "703f9e25-6785-4f91-a22b-3bc491b046a2",
   "metadata": {
    "tags": []
   },
   "outputs": [],
   "source": [
    "data1_matrix_df = TDMatrix(data=data1,\n",
    "                               id='id',\n",
    "                               row_index_style=\"sequence\",\n",
    "                               row_index='row_i',\n",
    "                               column_index_style=\"sequence\",\n",
    "                               column_index='column_i',\n",
    "                               payload_field=[\"B\"],\n",
    "                               payload_content=\"REAL\")"
   ]
  },
  {
   "cell_type": "code",
   "execution_count": null,
   "id": "40f8ad78-61b7-4e56-8226-f4e47ca7cf27",
   "metadata": {},
   "outputs": [],
   "source": [
    "data1_matrix_df"
   ]
  },
  {
   "cell_type": "code",
   "execution_count": null,
   "id": "ac694fb6-3d18-455a-b7b5-b3ba665c3dd1",
   "metadata": {},
   "outputs": [],
   "source": [
    "data2_matrix_df = TDMatrix(data=data2,\n",
    "                               id='id',\n",
    "                               row_index_style=\"sequence\",\n",
    "                               row_index='row_i',\n",
    "                               column_index_style=\"sequence\",\n",
    "                               column_index='column_i',\n",
    "                               payload_field=[\"A\"],\n",
    "                               payload_content=\"REAL\")"
   ]
  },
  {
   "cell_type": "markdown",
   "id": "8bddd414-903c-4c64-8f67-2323d332908b",
   "metadata": {},
   "source": [
    "<p style = 'font-size:16px;font-family:Arial;color:#00233C'>Convolve the \"data1_matrix_df\" and \"data2_matrix_df\" matrices using the Convolve2() function.</p>\n",
    "\n",
    "<p style = 'font-size:16px;font-family:Arial;color:#00233C'><b>Input Parameters:</b></p>\n",
    "<li style = 'font-size:16px;font-family:Arial;color:#00233C'><code>data1:</code> Specifies the matrix for the image to be filtered.</li>\n",
    "<li style = 'font-size:16px;font-family:Arial;color:#00233C'><code>data2:</code> Specifies the actual filter kernel matrix for filtering image.</li>\n",
    "<li style = 'font-size:16px;font-family:Arial;color:#00233C'><code>input_fmt_input_mode:</code> Specifies the input mode supported by the function. The permitted values are: <b>ONE2ONE, MANY2ONE, MATCH</b></li>\n"
   ]
  },
  {
   "cell_type": "code",
   "execution_count": null,
   "id": "4fccb96f-6650-410a-b1f7-6f58bcddcf38",
   "metadata": {
    "tags": []
   },
   "outputs": [],
   "source": [
    "uaf_out1 = Convolve2(data1=data1_matrix_df,\n",
    "                         data2=data2_matrix_df,\n",
    "                         input_fmt_input_mode=\"MATCH\")\n",
    " \n",
    "# Print the result DataFrame.\n",
    "uaf_out1.result"
   ]
  },
  {
   "cell_type": "markdown",
   "id": "e09f523c-9e0f-4938-91e5-7194ac09f453",
   "metadata": {},
   "source": [
    "<hr style=\"height:2px;border:none;background-color:#00233C;\">\n",
    "<b style = 'font-size:20px;font-family:Arial;color:#00233C'>4. Example 2</b>\n",
    "<p style = 'font-size:16px;font-family:Arial;color:#00233C'>Apply the Convolve2() function when payload fields of two matrices are the same to convolve two matrices into a new source image matrix.</p>\n",
    "\n",
    "<p style = 'font-size:16px;font-family:Arial;color:#00233C'>The first step is to convert the data to teradataml TDMatrix objects with same payload fields.</p>\n"
   ]
  },
  {
   "cell_type": "code",
   "execution_count": null,
   "id": "b331791b-ae00-4c6d-b015-426939b2b6ee",
   "metadata": {
    "tags": []
   },
   "outputs": [],
   "source": [
    "data3_matrix_df = TDMatrix(data=data3,\n",
    "                               id='id',\n",
    "                               row_index_style=\"sequence\",\n",
    "                               row_index='row_seq',\n",
    "                               column_index_style=\"sequence\",\n",
    "                               column_index='col_seq',\n",
    "                               payload_field=[\"A\"],\n",
    "                               payload_content=\"REAL\")"
   ]
  },
  {
   "cell_type": "code",
   "execution_count": null,
   "id": "60ae3db8-de88-4d6f-a5fe-7d3ec4a5eb59",
   "metadata": {},
   "outputs": [],
   "source": [
    "data4_matrix_df = TDMatrix(data=data4,\n",
    "                               id='id',\n",
    "                               row_index_style=\"sequence\",\n",
    "                               row_index='row_seq',\n",
    "                               column_index_style=\"sequence\",\n",
    "                               column_index='col_seq',\n",
    "                               payload_field=[\"A\"],\n",
    "                               payload_content=\"REAL\")"
   ]
  },
  {
   "cell_type": "markdown",
   "id": "4a0a1140-0abd-4c81-a656-2faa587c1776",
   "metadata": {},
   "source": [
    "<p style = 'font-size:16px;font-family:Arial;color:#00233C'>Convolve the \"data3_matrix_df\" and \"data4_matrix_df\" matrices using the Convolve2() function.</p>\n",
    "\n",
    "<p style = 'font-size:16px;font-family:Arial;color:#00233C'><b>Input Parameters:</b></p>\n",
    "<li style = 'font-size:16px;font-family:Arial;color:#00233C'><code>data1:</code> Specifies the matrix for the image to be filtered.</li>\n",
    "<li style = 'font-size:16px;font-family:Arial;color:#00233C'><code>data2:</code> Specifies the actual filter kernel matrix for filtering image.</li>\n",
    "<li style = 'font-size:16px;font-family:Arial;color:#00233C'><code>input_fmt_input_mode:</code> Specifies the input mode supported by the function. The permitted values are: <b>ONE2ONE, MANY2ONE, MATCH</b></li>\n",
    "\n"
   ]
  },
  {
   "cell_type": "code",
   "execution_count": null,
   "id": "fadfe70a-4acb-48c8-a5ed-fca7deb88a00",
   "metadata": {
    "tags": []
   },
   "outputs": [],
   "source": [
    "uaf_out2 = Convolve2(data1=data3_matrix_df,\n",
    "                         data2=data4_matrix_df,\n",
    "                         input_fmt_input_mode=\"MATCH\")\n",
    "\n",
    "# Print the result DataFrame.\n",
    "uaf_out2.result"
   ]
  },
  {
   "cell_type": "markdown",
   "id": "151d5db4-29a9-49d9-8a61-d53f9627a294",
   "metadata": {},
   "source": [
    "<hr style=\"height:2px;border:none;background-color:#00233C;\">\n",
    "<b style = 'font-size:20px;font-family:Arial;color:#00233C'>5. Cleanup</b>"
   ]
  },
  {
   "cell_type": "code",
   "execution_count": null,
   "id": "157fe3d4-4e0e-4d92-b343-9f758f3bf690",
   "metadata": {},
   "outputs": [],
   "source": [
    "remove_context()"
   ]
  },
  {
   "cell_type": "markdown",
   "id": "4317a6cf-1479-4aa8-b30a-ee0a3b5231a8",
   "metadata": {},
   "source": [
    "<hr style=\"height:1px;border:none;background-color:#00233C;\">\n",
    "<p style = 'font-size:16px;font-family:Arial;color:#00233C'><b>Links:</b></p>\n",
    "<ul style = 'font-size:16px;font-family:Arial'>\n",
    "    <li>Teradataml Python reference: <a href = 'https://docs.teradata.com/search/all?query=Python+Package+User+Guide&content-lang=en-US'>here</a></li>\n",
    "    <li>Convolve2 function reference: <a href = 'https://docs.teradata.com/search/all?query=Convolve2&content-lang=en-US'>here</a></li>\n",
    "</ul>"
   ]
  },
  {
   "cell_type": "markdown",
   "id": "b2dcca28-5de5-44d7-88cb-45a12153b3f8",
   "metadata": {},
   "source": [
    "<footer style=\"padding-bottom:35px; background:#f9f9f9; border-bottom:3px solid #00233C\">\n",
    "    <div style=\"float:left;margin-top:14px\">ClearScape Analytics™</div>\n",
    "    <div style=\"float:right;\">\n",
    "        <div style=\"float:left; margin-top:14px\">\n",
    "            Copyright © Teradata Corporation - 2025. All Rights Reserved\n",
    "        </div>\n",
    "    </div>\n",
    "</footer>"
   ]
  }
 ],
 "metadata": {
  "kernelspec": {
   "display_name": "Python 3 (ipykernel)",
   "language": "python",
   "name": "python3"
  },
  "language_info": {
   "codemirror_mode": {
    "name": "ipython",
    "version": 3
   },
   "file_extension": ".py",
   "mimetype": "text/x-python",
   "name": "python",
   "nbconvert_exporter": "python",
   "pygments_lexer": "ipython3",
   "version": "3.9.10"
  }
 },
 "nbformat": 4,
 "nbformat_minor": 5
}
