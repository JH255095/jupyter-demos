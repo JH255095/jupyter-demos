{
 "cells": [
  {
   "cell_type": "markdown",
   "id": "bc549e6c-0cc4-4188-94a3-a9bdd3ae3dfa",
   "metadata": {},
   "source": [
    "<header>\n",
    "   <p  style='font-size:36px;font-family:Arial; color:#F0F0F0; background-color: #00233c; padding-left: 20pt; padding-top: 20pt;padding-bottom: 10pt; padding-right: 20pt;'>\n",
    "       SVM and SVMPredict Functions in Vantage\n",
    "  <br>\n",
    "       <img id=\"teradata-logo\" src=\"https://storage.googleapis.com/clearscape_analytics_demo_data/DEMO_Logo/teradata.svg\" alt=\"Teradata\" style=\"width: 125px; height: auto; margin-top: 20pt;\">\n",
    "    </p>\n",
    "</header>"
   ]
  },
  {
   "cell_type": "markdown",
   "id": "7ae7611a-0795-4168-b716-01fee6880cbd",
   "metadata": {},
   "source": [
    "<p style = 'font-size:20px;font-family:Arial'><b>Introduction</b></p>\n",
    "<p style = 'font-size:16px;font-family:Arial'>SVM function is a linear support vector machine (SVM) that performs classification and regression analysis on datasets.This function supports these models:<ul  style = 'font-size:16px;font-family:Arial'>\n",
    "    <li>Regression (loss: epsilon_insensitive).</li>\n",
    "<li>Classification (loss: hinge). Only supports binary classification. The only response values are 0 or 1.</li></ul><p style = 'font-size:16px;font-family:Arial'> SVMPredict predicts target values (regression) and class labels (classification) for test data using an SVM model trained by SVM function.<br> In this notebook we will see how we can use the BincodeFit and BincodeTransform function available in Vantage.</p>"
   ]
  },
  {
   "cell_type": "markdown",
   "id": "6b3a00b4-6661-4c91-9b2d-cb7b0b403140",
   "metadata": {},
   "source": [
    "<hr style=\"height:2px;border:none;\">\n",
    "<b style = 'font-size:20px;font-family:Arial'>1. Initiate a connection to Vantage</b>"
   ]
  },
  {
   "cell_type": "markdown",
   "id": "2346857f-e0d3-488a-8a3f-ac6dff752c2b",
   "metadata": {},
   "source": [
    "<p style = 'font-size:16px;font-family:Arial'>In the section, we import the required libraries and set environment variables and environment paths (if required)."
   ]
  },
  {
   "cell_type": "code",
   "execution_count": null,
   "id": "c5af5af3-29d5-4f6a-8334-9df6924e7787",
   "metadata": {},
   "outputs": [],
   "source": [
    "from teradataml import *\n",
    "\n",
    "# Modify the following to match the specific client environment settings\n",
    "display.max_rows = 5"
   ]
  },
  {
   "cell_type": "markdown",
   "id": "ad3dd7b4-831c-4fb3-ab71-719c8c99a71c",
   "metadata": {},
   "source": [
    "<hr style=\"height:1px;border:none;\">\n",
    "<p style = 'font-size:18px;font-family:Arial'><b>1.1 Connect to Vantage</b></p>\n",
    "<p style = 'font-size:16px;font-family:Arial'>You will be prompted to provide the password. Enter your password, press the Enter key, and then use the down arrow to go to the next cell.</p>"
   ]
  },
  {
   "cell_type": "code",
   "execution_count": null,
   "id": "2742444c-4349-4b0f-b4e5-b068a8785cd9",
   "metadata": {},
   "outputs": [],
   "source": [
    "%run -i ../../UseCases/startup.ipynb\n",
    "eng = create_context(host = 'host.docker.internal', username='demo_user', password = password)\n",
    "print(eng)"
   ]
  },
  {
   "cell_type": "code",
   "execution_count": null,
   "id": "e14915b0-7932-4e03-94ba-20f0599c3707",
   "metadata": {},
   "outputs": [],
   "source": [
    "%%capture\n",
    "execute_sql('''SET query_band='DEMO=PP_SVM_and_SVMPredict_Python.ipynb;' UPDATE FOR SESSION; ''')"
   ]
  },
  {
   "cell_type": "markdown",
   "id": "efe2fd2d-63ff-4278-9157-8b9110d682e8",
   "metadata": {},
   "source": [
    "<p style = 'font-size:16px;font-family:Arial'>Begin running steps with Shift + Enter keys. </p>"
   ]
  },
  {
   "cell_type": "markdown",
   "id": "f003f332-7489-4bdd-a740-4af2a0a22280",
   "metadata": {},
   "source": [
    "<hr style='height:1px;border:none;'>\n",
    "\n",
    "<p style = 'font-size:18px;font-family:Arial'><b>1.2 Getting Data for This Demo</b></p>\n",
    "\n",
    "<p style = 'font-size:16px;font-family:Arial'>Here, we will get the data which is available in the teradataml library and use the same to show the usage of the function.</p>"
   ]
  },
  {
   "cell_type": "code",
   "execution_count": null,
   "id": "45c86176-734c-4b1c-ace0-d0c88657b4f8",
   "metadata": {},
   "outputs": [],
   "source": [
    "load_example_data(\"teradataml\", [\"cal_housing_ex_raw\"])"
   ]
  },
  {
   "cell_type": "markdown",
   "id": "2401d6d3-4fcd-46fc-8a94-7cafcd1258b0",
   "metadata": {},
   "source": [
    "<p style = 'font-size:16px;font-family:Arial'>Next is an optional step – if you want to see the status of databases/tables created and space used.</p>"
   ]
  },
  {
   "cell_type": "code",
   "execution_count": null,
   "id": "87429200-db02-450d-9472-4d1e2030124d",
   "metadata": {},
   "outputs": [],
   "source": [
    "%run -i ../../UseCases/run_procedure.py \"call space_report();\"        # Takes 10 seconds"
   ]
  },
  {
   "cell_type": "markdown",
   "id": "2a3762ac-ba27-4fa3-adba-d577262a4290",
   "metadata": {},
   "source": [
    "<hr style=\"height:2px;border:none;\">\n",
    "<b style = 'font-size:20px;font-family:Arial'>2. Data Exploration</b>\n",
    "<p style = 'font-size:16px;font-family:Arial'>Create a \"Virtual DataFrame\" that points to the data set in Vantage. Check the shape of the dataframe as check the datatype of all the columns of the dataframe.</p>"
   ]
  },
  {
   "cell_type": "code",
   "execution_count": null,
   "id": "3d936fab-7ca7-4e94-ba64-95c1da08b74f",
   "metadata": {},
   "outputs": [],
   "source": [
    "tdf = DataFrame.from_table(\"cal_housing_ex_raw\")\n",
    "print(\"Shape of the data: \", tdf.shape)\n",
    "tdf"
   ]
  },
  {
   "cell_type": "markdown",
   "id": "e26f5f17-5a9c-444d-a71f-f69aa5791609",
   "metadata": {},
   "source": [
    "<p style = 'font-size:16px;font-family:Arial'>Scale the data using Scalefit and ScaleTransform functions.</p>"
   ]
  },
  {
   "cell_type": "code",
   "execution_count": null,
   "id": "896b1e60-d997-4ed8-af81-10cae13f9141",
   "metadata": {},
   "outputs": [],
   "source": [
    "# Scale \"target_columns\" with respect to 'STD' value of the column.\n",
    "fit_obj = ScaleFit(data=tdf,\n",
    "                    target_columns=['MedInc', 'HouseAge', 'AveRooms',\n",
    "                                    'AveBedrms', 'Population', 'AveOccup',\n",
    "                                    'Latitude', 'Longitude'],\n",
    "                    scale_method=\"STD\")\n",
    " \n",
    " # Transform the data.\n",
    "transform_obj = ScaleTransform(data=tdf,\n",
    "                                object=fit_obj.output,\n",
    "                                accumulate=[\"id\", \"MedHouseVal\"])"
   ]
  },
  {
   "cell_type": "markdown",
   "id": "cad9b189-f1ba-4efa-a085-bdfdf12fde03",
   "metadata": {},
   "source": [
    "<p style = 'font-size:16px;font-family:Arial'>Creating SVM model.<br>Detailed help can be found by passing function name to built-in help function.</p>"
   ]
  },
  {
   "cell_type": "code",
   "execution_count": null,
   "id": "04075932-a337-4860-bf5f-6849f6bf0863",
   "metadata": {
    "tags": []
   },
   "outputs": [],
   "source": [
    "help(SVM)"
   ]
  },
  {
   "cell_type": "code",
   "execution_count": null,
   "id": "f2eff585-f18b-4c80-844b-3fbe342f3187",
   "metadata": {},
   "outputs": [],
   "source": [
    "# Train the transformed data using SVM when \"model_type\" is 'Regression'\n",
    "svm_obj = SVM(data=transform_obj.result,\n",
    "           input_columns=['MedInc', 'HouseAge', 'AveRooms',\n",
    "                          'AveBedrms', 'Population', 'AveOccup',\n",
    "                          'Latitude', 'Longitude'],\n",
    "           response_column=\"MedHouseVal\",\n",
    "           model_type=\"Regression\"\n",
    "           ) "
   ]
  },
  {
   "cell_type": "code",
   "execution_count": null,
   "id": "ffd46dd6-905f-41ff-abe4-d31800e71e50",
   "metadata": {},
   "outputs": [],
   "source": [
    "# Print the result DataFrame.\n",
    "svm_obj.result"
   ]
  },
  {
   "cell_type": "code",
   "execution_count": null,
   "id": "3d9cf6b5-dfbd-4163-8de0-795b92552e14",
   "metadata": {},
   "outputs": [],
   "source": [
    "svm_obj.output_data"
   ]
  },
  {
   "cell_type": "markdown",
   "id": "ae8f2126-0911-459d-9874-887e9a83699e",
   "metadata": {},
   "source": [
    "<p style = 'font-size:16px;font-family:Arial'>Predict the values using SVMPredict function.<br>\n",
    "Detailed help can be found by passing function name to built-in help function.</p>"
   ]
  },
  {
   "cell_type": "code",
   "execution_count": null,
   "id": "b1a5c6ce-89aa-412e-96f8-35f7cae7003d",
   "metadata": {
    "tags": []
   },
   "outputs": [],
   "source": [
    "help(SVMPredict)"
   ]
  },
  {
   "cell_type": "code",
   "execution_count": null,
   "id": "3c5a0992-f651-49bc-9080-828fd9c0c982",
   "metadata": {},
   "outputs": [],
   "source": [
    "SVMPredict_out = SVMPredict(newdata=transform_obj.result,\n",
    "                             object=svm_obj.result,\n",
    "                             id_column=\"id\",\n",
    "                             accumulate=\"MedHouseVal\",\n",
    "                             model_type=\"Regression\"\n",
    "                             )\n",
    "  \n",
    "# Print the result DataFrame.\n",
    "SVMPredict_out.result"
   ]
  },
  {
   "cell_type": "markdown",
   "id": "151d5db4-29a9-49d9-8a61-d53f9627a294",
   "metadata": {},
   "source": [
    "<hr style=\"height:2px;border:none;\">\n",
    "<b style = 'font-size:20px;font-family:Arial'>3. Cleanup</b>"
   ]
  },
  {
   "cell_type": "markdown",
   "id": "a562f058-fb24-4966-a25d-f2960e6ddfb8",
   "metadata": {},
   "source": [
    "<hr style=\"height:1px;border:none;\">\n",
    "<p style = 'font-size:18px;font-family:Arial'> <b>Databases and Tables </b></p>\n",
    "<p style = 'font-size:16px;font-family:Arial'>The following code will clean up tables and databases created above.</p>"
   ]
  },
  {
   "cell_type": "code",
   "execution_count": null,
   "id": "56118d1e-1c14-445a-902c-4143fe56485c",
   "metadata": {},
   "outputs": [],
   "source": [
    "db_drop_table(\"cal_housing_ex_raw\")"
   ]
  },
  {
   "cell_type": "code",
   "execution_count": null,
   "id": "157fe3d4-4e0e-4d92-b343-9f758f3bf690",
   "metadata": {},
   "outputs": [],
   "source": [
    "remove_context()"
   ]
  },
  {
   "cell_type": "markdown",
   "id": "4317a6cf-1479-4aa8-b30a-ee0a3b5231a8",
   "metadata": {},
   "source": [
    "<hr style=\"height:1px;border:none;\">\n",
    "<p style = 'font-size:16px;font-family:Arial'><b>Links:</b></p>\n",
    "<ul style = 'font-size:16px;font-family:Arial'>\n",
    "    <li>Teradataml Python reference: <a href = 'https://docs.teradata.com/search/all?query=Python+Package+User+Guide&content-lang=en-US'>here</a></li>\n",
    "    <li>SVM function reference: <a href = 'https://docs.teradata.com/search/all?query=SVM&content-lang=en-US'>here</a></li>\n",
    "    <li>SVMPredict function reference: <a href = 'https://docs.teradata.com/search/all?query=SVMPredict&content-lang=en-US'>here</a></li>\n",
    "</ul>"
   ]
  },
  {
   "cell_type": "markdown",
   "id": "b2dcca28-5de5-44d7-88cb-45a12153b3f8",
   "metadata": {},
   "source": [
    "<footer style=\"padding-bottom:35px; border-bottom:3px solid #91A0Ab\">\n",
    "    <div style=\"float:left;margin-top:14px\">ClearScape Analytics™</div>\n",
    "    <div style=\"float:right;\">\n",
    "        <div style=\"float:left; margin-top:14px\">\n",
    "            Copyright © Teradata Corporation - 2025. All Rights Reserved\n",
    "        </div>\n",
    "    </div>\n",
    "</footer>"
   ]
  }
 ],
 "metadata": {
  "kernelspec": {
   "display_name": "Python 3 (ipykernel)",
   "language": "python",
   "name": "python3"
  },
  "language_info": {
   "codemirror_mode": {
    "name": "ipython",
    "version": 3
   },
   "file_extension": ".py",
   "mimetype": "text/x-python",
   "name": "python",
   "nbconvert_exporter": "python",
   "pygments_lexer": "ipython3",
   "version": "3.9.10"
  }
 },
 "nbformat": 4,
 "nbformat_minor": 5
}
