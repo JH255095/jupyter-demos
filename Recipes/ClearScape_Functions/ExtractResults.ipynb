{
 "cells": [
  {
   "cell_type": "markdown",
   "id": "bc549e6c-0cc4-4188-94a3-a9bdd3ae3dfa",
   "metadata": {},
   "source": [
    "<header>\n",
    "   <p  style='font-size:36px;font-family:Arial; color:#F0F0F0; background-color: #00233c; padding-left: 20pt; padding-top: 20pt;padding-bottom: 10pt; padding-right: 20pt;'>\n",
    "       ExtractResults function in Vantage\n",
    "  <br>\n",
    "       <img id=\"teradata-logo\" src=\"https://storage.googleapis.com/clearscape_analytics_demo_data/DEMO_Logo/teradata.svg\" alt=\"Teradata\" style=\"width: 125px; height: auto; margin-top: 20pt;\">\n",
    "    </p>\n",
    "</header>"
   ]
  },
  {
   "cell_type": "markdown",
   "id": "7ae7611a-0795-4168-b716-01fee6880cbd",
   "metadata": {},
   "source": [
    "<p style = 'font-size:20px;font-family:Arial'><b>Introduction</b></p>\n",
    "\n",
    "<p style = 'font-size:20px;font-family:Arial'><b>ExtractResults</b></p>\n",
    "<p style = 'font-size:16px;font-family:Arial'>The ExtractResults() function retrieves auxiliary result sets stored in an ART. There are different auxiliary layers available in an ART that can be retrieved using ExtractResults. The auxillary layers are as follows:</p>\n",
    "<li style = 'font-size:16px;font-family:Arial'>ARTFITRESIDUALS contains the residual series.</li>\n",
    "<li style = 'font-size:16px;font-family:Arial'>ARTFITMETADATA contains the goodness-of-fit metrics.</li>\n",
    "<li style = 'font-size:16px;font-family:Arial'>ARTMODEL shows the validation model context.</li>\n",
    "<li style = 'font-size:16px;font-family:Arial'>ARTVALDATA is used for the internal validation process</li>\n",
    "</p>\n",
    "\n"
   ]
  },
  {
   "cell_type": "markdown",
   "id": "6b3a00b4-6661-4c91-9b2d-cb7b0b403140",
   "metadata": {},
   "source": [
    "<hr style=\"height:2px;border:none;\">\n",
    "<b style = 'font-size:20px;font-family:Arial'>1. Initiate a connection to Vantage</b>"
   ]
  },
  {
   "cell_type": "markdown",
   "id": "2346857f-e0d3-488a-8a3f-ac6dff752c2b",
   "metadata": {},
   "source": [
    "<p style = 'font-size:16px;font-family:Arial'>In the section, we import the required libraries and set environment variables and environment paths (if required)."
   ]
  },
  {
   "cell_type": "code",
   "execution_count": null,
   "id": "c5af5af3-29d5-4f6a-8334-9df6924e7787",
   "metadata": {},
   "outputs": [],
   "source": [
    "from teradataml import (\n",
    "    create_context,\n",
    "    execute_sql,\n",
    "    load_example_data,\n",
    "    DataFrame,\n",
    "    in_schema,\n",
    "    TDSeries,\n",
    "    ArimaEstimate,\n",
    "    ExtractResults,\n",
    "    TDAnalyticResult,\n",
    "    Figure,\n",
    "    plot,\n",
    "    db_drop_view,\n",
    "    remove_context,\n",
    "    copy_to_sql,\n",
    "    db_drop_table\n",
    "    )\n",
    "\n",
    "from teradatasqlalchemy.types import *\n",
    "\n",
    "from teradataml import to_numeric\n",
    "# Modify the following to match the specific client environment settings\n",
    "display.max_rows = 5"
   ]
  },
  {
   "cell_type": "markdown",
   "id": "ad3dd7b4-831c-4fb3-ab71-719c8c99a71c",
   "metadata": {},
   "source": [
    "<hr style=\"height:1px;border:none;\">\n",
    "<p style = 'font-size:18px;font-family:Arial'><b>1.1 Connect to Vantage</b></p>\n",
    "<p style = 'font-size:16px;font-family:Arial'>You will be prompted to provide the password. Enter your password, press the Enter key, and then use the down arrow to go to the next cell.</p>"
   ]
  },
  {
   "cell_type": "code",
   "execution_count": null,
   "id": "2742444c-4349-4b0f-b4e5-b068a8785cd9",
   "metadata": {},
   "outputs": [],
   "source": [
    "%run -i ../../UseCases/startup.ipynb\n",
    "eng = create_context(host = 'host.docker.internal', username='demo_user', password = password)\n",
    "print(eng)"
   ]
  },
  {
   "cell_type": "code",
   "execution_count": null,
   "id": "01c4a128-d106-46ea-8dee-34acc5abd29f",
   "metadata": {},
   "outputs": [],
   "source": [
    "%%capture\n",
    "execute_sql('''SET query_band='DEMO=PP_ExtractResults.ipynb;' UPDATE FOR SESSION; ''')"
   ]
  },
  {
   "cell_type": "markdown",
   "id": "efe2fd2d-63ff-4278-9157-8b9110d682e8",
   "metadata": {},
   "source": [
    "<p style = 'font-size:16px;font-family:Arial'>Begin running steps with Shift + Enter keys. </p>"
   ]
  },
  {
   "cell_type": "markdown",
   "id": "20b2a97f-906c-453a-b682-f11132f11bad",
   "metadata": {},
   "source": [
    "<hr style='height:1px;border:none;'>\n",
    "\n",
    "<p style = 'font-size:18px;font-family:Arial'><b>1.2 Getting Data for This Demo</b></p>\n",
    "\n",
    "<p style = 'font-size:16px;font-family:Arial'>We have provided data for this demo on cloud storage. You can either run the demo using foreign tables to access the data without any storage on your environment or download the data to local storage, which may yield faster execution. Still, there could be considerations of available storage. Two statements are in the following cell, and one is commented out. You may switch which mode you choose by changing the comment string.</p>"
   ]
  },
  {
   "cell_type": "code",
   "execution_count": null,
   "id": "9775f684-841a-4487-950e-8224a04812f2",
   "metadata": {},
   "outputs": [],
   "source": [
    "%run -i ../../UseCases/run_procedure.py \"call get_data('DEMO_SalesForecasting_local');\"       # Takes 70 seconds"
   ]
  },
  {
   "cell_type": "markdown",
   "id": "0d207202-4a3b-4341-acd5-3b8526c9d45c",
   "metadata": {},
   "source": [
    "<p style = 'font-size:16px;font-family:Arial'>Next is an optional step – if you want to see the status of databases/tables created and space used.</p>"
   ]
  },
  {
   "cell_type": "code",
   "execution_count": null,
   "id": "820d2067-d921-4727-ad16-ad20be72ceca",
   "metadata": {},
   "outputs": [],
   "source": [
    "%run -i ../../UseCases/run_procedure.py \"call space_report();\"        # Takes 10 seconds"
   ]
  },
  {
   "cell_type": "markdown",
   "id": "55279a6a-30ae-44b0-94be-14c60810cb44",
   "metadata": {},
   "source": [
    "<hr style=\"height:2px;border:none;\">\n",
    "<b style = 'font-size:20px;font-family:Arial'>2. Preparing Dataset</b>\n",
    "<li style = 'font-size:16px;font-family:Arial'>Weekly_Sales is our variable of interest.</li>\n",
    "<li style = 'font-size:16px;font-family:Arial'>Type, Size, Temperature, isHoliday, Fuel_Price, MarkDown1, MarkDown2, MarkDown3, MarkDown4, MarkDown4 are exogenous variables.</li>\n",
    "<p style = 'font-size:16px;font-family:Arial'>We prepare the dataset by creating a view by joining data from Weekly Sales, Stores and features. The view is created using SQL to reduce the number of steps to join and data preocessing which gets used in further steps..</p>"
   ]
  },
  {
   "cell_type": "code",
   "execution_count": null,
   "id": "348f2cba-bcd3-4ad1-abfc-c4b32ee77ca3",
   "metadata": {},
   "outputs": [],
   "source": [
    "query2='''REPLACE VIEW Weekly_Sales_Details AS\n",
    "SELECT\n",
    "    w.Sales_date AS times,\n",
    "    CAST('2012-02-03' AS DATE) AS cutoff_date,\n",
    "    w.Dept,\n",
    "    w.Store,\n",
    "    CAST(w.Sales_Date AS TIMESTAMP) AS Sales_Date,\n",
    "    ZEROIFNULL(Weekly_Sales) AS Weekly_Sales,\n",
    "    ZEROIFNULL(Store_Size) AS Store_Size,\n",
    "    Store_Type AS Store_Type,\n",
    "    w.IsHoliday,\n",
    "    ZEROIFNULL(Temperature) AS Temperature,\n",
    "    ZEROIFNULL(MarkDown1) AS MarkDown1,\n",
    "    ZEROIFNULL(MarkDown2) AS MarkDown2,\n",
    "    ZEROIFNULL(MarkDown3) AS MarkDown3,\n",
    "    ZEROIFNULL(MarkDown4) AS MarkDown4,\n",
    "    ZEROIFNULL(MarkDown5) AS MarkDown5,\n",
    "    ZEROIFNULL(CPI) AS CPI,\n",
    "    ZEROIFNULL(Unemployment) AS Unemployment,\n",
    "    ZEROIFNULL(Fuel_Price) AS Fuel_Price,\n",
    "    CAST(TRIM(w.Dept) || TRIM(w.Store) AS INT) AS idcols\n",
    "FROM\n",
    "    Demo_SalesForecasting.Weekly_Sales w\n",
    "LEFT JOIN\n",
    "    Demo_SalesForecasting.Stores s ON w.Store = s.Store\n",
    "LEFT JOIN\n",
    "    Demo_SalesForecasting.Features f ON w.Store = f.store AND w.Sales_Date = f.Sales_Date\n",
    "WHERE\n",
    "    w.Store IN (20, 4);\n",
    "'''\n",
    "\n",
    "execute_sql(query2)\n",
    "modeldf=DataFrame.from_query('select * from Weekly_Sales_Details;')"
   ]
  },
  {
   "cell_type": "code",
   "execution_count": null,
   "id": "d39316f2-0f71-4858-b8c6-6618dcbb7f93",
   "metadata": {},
   "outputs": [],
   "source": [
    "dfacheck = modeldf.groupby([\"idcols\"])\n",
    "dfacheck=dfacheck.count().select([\"idcols\",\"count_Sales_Date\"])\n",
    "\n",
    "dfa4=modeldf.join(dfacheck, on = 'idcols', how = \"left\", lsuffix = 't1', rsuffix = 't2').drop(['idcols_t2'],axis=1)\n",
    "dfa4=dfa4.assign(idcols = dfa4['idcols_t1'])\n",
    "dfa4=dfa4.drop(['idcols_t1'],axis=1)\n",
    "\n",
    "# filter out incomplete time series \n",
    "\n",
    "modeldf1 = dfa4[dfa4.count_Sales_Date == 143]\n",
    "modeldf1.shape"
   ]
  },
  {
   "cell_type": "markdown",
   "id": "4a2f79a0-eb16-4c3b-bec2-c313e97ac940",
   "metadata": {},
   "source": [
    "<hr style=\"height:2px;border:none;\">\n",
    "<b style = 'font-size:20px;font-family:Arial'>3. ExtractResults</b>\n",
    "<p style = 'font-size:16px;font-family:Arial'>The ExtractResults() function retrieves auxiliary result sets stored in an ART.</p>\n",
    "\n",
    "<p style = 'font-size:16px;font-family:Arial'>The first step is to convert the data into TDSeries, which is required for the input time series which are passed to the ExtractResults function.</p>\n"
   ]
  },
  {
   "cell_type": "markdown",
   "id": "284a101e-9326-418e-a255-1fa243036898",
   "metadata": {},
   "source": [
    "<p style = 'font-size:16px;font-family:Arial'>Detailed help can be found by passing function name to built-in help function. </p>"
   ]
  },
  {
   "cell_type": "code",
   "execution_count": null,
   "id": "eec61e01-dc4b-4ab8-8cd9-6ddcd6c590fd",
   "metadata": {},
   "outputs": [],
   "source": [
    "help(ExtractResults)"
   ]
  },
  {
   "cell_type": "markdown",
   "id": "c793433b-7474-49cf-904d-12a96bd955e3",
   "metadata": {},
   "source": [
    "<p style = 'font-size:16px;font-family:Arial'>We need to first convert the data from dataframe into a TDSeries which will be passed to the ArimaEstimate function as input.</p>"
   ]
  },
  {
   "cell_type": "code",
   "execution_count": null,
   "id": "92742cb8-b040-4518-8990-3447a9bd1bd7",
   "metadata": {},
   "outputs": [],
   "source": [
    "from teradataml import TDSeries, Resample\n",
    "\n",
    "data_series_df = TDSeries(data=modeldf1,\n",
    "                              id=\"idcols\",\n",
    "                              row_index=(\"Sales_Date\"),\n",
    "                              row_index_style= \"TIMECODE\",\n",
    "                              payload_field=\"Weekly_Sales\",\n",
    "                              payload_content=\"REAL\")\n",
    "\n",
    "uaf_out1 = Resample(data=data_series_df,\n",
    "                        interpolate='LINEAR',\n",
    "                        timecode_start_value=\"TIMESTAMP '2010-02-05 00:00:00'\",\n",
    "                        timecode_duration=\"WEEKS(1)\")\n",
    "\n",
    "df=uaf_out1.result\n",
    "df1=df.select(['idcols','ROW_I', 'Weekly_Sales']).assign(Sales_Date=df.ROW_I)\n",
    "df1"
   ]
  },
  {
   "cell_type": "markdown",
   "id": "f14ce48d-c5ba-438f-acbe-c60d657d299b",
   "metadata": {},
   "source": [
    "<p style = 'font-size:16px;font-family:Arial'>We will use the ArimaEstimate function.</p>"
   ]
  },
  {
   "cell_type": "code",
   "execution_count": null,
   "id": "88e6ffa7-6241-4b80-aab0-90b42b6aec5a",
   "metadata": {},
   "outputs": [],
   "source": [
    "# Execute ArimaEstimate function.\n",
    "data_series_df_1 = TDSeries(data=df1,\n",
    "                              id=\"Sales_Date\",\n",
    "                              row_index=(\"idcols\"),\n",
    "                              row_index_style= \"SEQUENCE\",\n",
    "                              payload_field=\"Weekly_Sales\",\n",
    "                              payload_content=\"REAL\")\n",
    "\n",
    "arima_est_out = ArimaEstimate(data1=data_series_df_1,\n",
    "                            nonseasonal_model_order=[2,1,1],\n",
    "                            constant=True,\n",
    "                            algorithm=\"MLE\",\n",
    "                            coeff_stats=True,\n",
    "                            fit_metrics=True,\n",
    "                            residuals=True,\n",
    "                            fit_percentage=70)"
   ]
  },
  {
   "cell_type": "markdown",
   "id": "e55a5013-1191-450b-a356-3803a17c1a08",
   "metadata": {},
   "source": [
    "<p style = 'font-size:16px;font-family:Arial'>We will Extract the residuals from the ArimaEstimate function output, by specifying the layer name 'ARTFITRESIDUALS'. We will create teradataml TDAnalyticResult object.</p>"
   ]
  },
  {
   "cell_type": "code",
   "execution_count": null,
   "id": "f596d00b-91cd-46be-93fa-2dbbd52a6743",
   "metadata": {},
   "outputs": [],
   "source": [
    "art_extractresult = TDAnalyticResult(data=arima_est_out.result,\n",
    "                                     layer=\"ARTFITRESIDUALS\")\n",
    "\n",
    "# Execute the function ExtractResults() to extract the layer.\n",
    "uaf_out1 = ExtractResults(data=art_extractresult)\n",
    "\n",
    "# Print the result DataFrame.\n",
    "uaf_out1.result\n"
   ]
  },
  {
   "cell_type": "markdown",
   "id": "3dd45ab8-1d55-4feb-b4eb-9712ff61c2b7",
   "metadata": {},
   "source": [
    "<p style = 'font-size:16px;font-family:Arial'>We will Extract the residuals from the ArimaEstimate function output, by specifying the layer name 'ARTFITMETADATA'. We will create teradataml TDAnalyticResult object.</p>"
   ]
  },
  {
   "cell_type": "code",
   "execution_count": null,
   "id": "bb1e8440-7bc6-4f6c-aa71-728621698b4e",
   "metadata": {},
   "outputs": [],
   "source": [
    "art_extractresult = TDAnalyticResult(data=arima_est_out.result,\n",
    "                                     layer=\"ARTFITMETADATA\")\n",
    "\n",
    "# Execute the function ExtractResults() to extract the layer.\n",
    "uaf_out2 = ExtractResults(data=art_extractresult)\n",
    "\n",
    "# Print the result DataFrame.\n",
    "uaf_out2.result"
   ]
  },
  {
   "cell_type": "markdown",
   "id": "0eec3932-dec7-43f6-8ee6-5771b6f7ff7d",
   "metadata": {},
   "source": [
    "<hr style=\"height:2px;border:none;\">\n",
    "<b style = 'font-size:20px;font-family:Arial'>4. Cleanup</b>"
   ]
  },
  {
   "cell_type": "markdown",
   "id": "2a89f93a-32c0-4516-b81b-8fb608a62b19",
   "metadata": {},
   "source": [
    "<p style = 'font-size:18px;font-family:Arial'><b>Work Tables</b></p>\n",
    "<p style = 'font-size:16px;font-family:Arial'>The following code will clean up intermediate tables.</p>"
   ]
  },
  {
   "cell_type": "code",
   "execution_count": null,
   "id": "ee12c7f5-b027-4983-8adf-e86c405d0c19",
   "metadata": {},
   "outputs": [],
   "source": [
    "db_drop_view('Weekly_Sales_Details')"
   ]
  },
  {
   "cell_type": "markdown",
   "id": "1a67dde4-c623-42d5-ac49-c6ac061981c9",
   "metadata": {},
   "source": [
    "<p style = 'font-size:18px;font-family:Arial'><b>Databases and Tables</b></p>\n",
    "\n",
    "<p style = 'font-size:16px;font-family:Arial'>The following code will clean up tables and databases created above.</p>"
   ]
  },
  {
   "cell_type": "code",
   "execution_count": null,
   "id": "c26d8d29-a1cd-4543-b6f0-891de87494aa",
   "metadata": {},
   "outputs": [],
   "source": [
    "%run -i ../../UseCases/run_procedure.py \"call remove_data('DEMO_SalesForecasting');\" \n",
    "#Takes 45 seconds"
   ]
  },
  {
   "cell_type": "code",
   "execution_count": null,
   "id": "e7637a79-ace1-4df7-a63c-4e080e84f4c7",
   "metadata": {},
   "outputs": [],
   "source": [
    "remove_context()"
   ]
  },
  {
   "cell_type": "markdown",
   "id": "4317a6cf-1479-4aa8-b30a-ee0a3b5231a8",
   "metadata": {},
   "source": [
    "<hr style=\"height:1px;border:none;\">\n",
    "\n",
    "<p style = 'font-size:16px;font-family:Arial'><b>Links:</b></p>\n",
    "<ul style = 'font-size:16px;font-family:Arial'>\n",
    "    <li>Teradataml Python reference: <a href = 'https://docs.teradata.com/search/all?query=Python+Package+User+Guide&content-lang=en-US'>here</a></li>\n",
    "    <li>ExtractResults function reference: <a href = 'https://docs.teradata.com/search/all?query=ExtractResults&content-lang=en-US'>here</a></li>\n",
    "    \n",
    "</ul>"
   ]
  },
  {
   "cell_type": "markdown",
   "id": "b2dcca28-5de5-44d7-88cb-45a12153b3f8",
   "metadata": {},
   "source": [
    "<footer style=\"padding-bottom:35px; border-bottom:3px solid #91A0Ab\">\n",
    "    <div style=\"float:left;margin-top:14px\">ClearScape Analytics™</div>\n",
    "    <div style=\"float:right;\">\n",
    "        <div style=\"float:left; margin-top:14px\">\n",
    "            Copyright © Teradata Corporation - 2025. All Rights Reserved\n",
    "        </div>\n",
    "    </div>\n",
    "</footer>"
   ]
  }
 ],
 "metadata": {
  "kernelspec": {
   "display_name": "Python 3 (ipykernel)",
   "language": "python",
   "name": "python3"
  },
  "language_info": {
   "codemirror_mode": {
    "name": "ipython",
    "version": 3
   },
   "file_extension": ".py",
   "mimetype": "text/x-python",
   "name": "python",
   "nbconvert_exporter": "python",
   "pygments_lexer": "ipython3",
   "version": "3.9.10"
  }
 },
 "nbformat": 4,
 "nbformat_minor": 5
}
