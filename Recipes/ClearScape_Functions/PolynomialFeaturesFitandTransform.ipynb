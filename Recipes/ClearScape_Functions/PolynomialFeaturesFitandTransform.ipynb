{
 "cells": [
  {
   "cell_type": "markdown",
   "id": "93f507b4-d3bd-43e6-9172-68e694d7f277",
   "metadata": {},
   "source": [
    "<header>\n",
    "   <p  style='font-size:36px;font-family:Arial; color:#F0F0F0; background-color: #00233c; padding-left: 20pt; padding-top: 20pt;padding-bottom: 10pt; padding-right: 20pt;'>\n",
    "       PolynomialFeaturesFit and PolynomialFeaturesTransform function in Vantage\n",
    "  <br>\n",
    "       <img id=\"teradata-logo\" src=\"https://storage.googleapis.com/clearscape_analytics_demo_data/DEMO_Logo/teradata.svg\" alt=\"Teradata\" style=\"width: 125px; height: auto; margin-top: 20pt;\">\n",
    "    </p>\n",
    "</header>"
   ]
  },
  {
   "cell_type": "markdown",
   "id": "0a071f2c-d9b3-495f-a79b-92aa8bc77e10",
   "metadata": {},
   "source": [
    "<p style = 'font-size:20px;font-family:Arial'><b>Introduction</b></p>\n",
    "<p style = 'font-size:16px;font-family:Arial'>PolynomialFeaturesFit function stores all the specified values in the argument in a DataFrame format.\n",
    "    All polynomial combinations of the features with degrees less than or equal to the specified degree are\n",
    "    generated. For example, for a two-dimensional input sample [x, y], the degree-2 polynomial features are\n",
    "    [x, y, x-squared, xy, y-squared, 1].<br>\n",
    "    PolynomialFeaturesTransform function generates a feature matrix of all polynomial\n",
    "    combinations of the feature by extracting the target column, degree, bias and interaction\n",
    "    information from the output of the PolynomialFeaturesFit function.\n",
    "<br> In this notebook we will see how we can use the PolynomialFeaturesFit and PolynomialFeaturesTransform functions available in Vantage to find non-linear relationships between different customer attributes.</p>"
   ]
  },
  {
   "cell_type": "markdown",
   "id": "ffe9c887-31ea-451a-b565-edc653e8a23d",
   "metadata": {},
   "source": [
    "<hr style=\"height:2px;border:none;\">\n",
    "<b style = 'font-size:20px;font-family:Arial'>1. Initiate a connection to Vantage</b>"
   ]
  },
  {
   "cell_type": "code",
   "execution_count": null,
   "id": "b5380ee1-2075-40ae-8a78-0b8da843a80c",
   "metadata": {},
   "outputs": [],
   "source": [
    "from teradataml import *\n",
    "\n",
    "# Modify the following to match the specific client environment settings\n",
    "display.max_rows = 5"
   ]
  },
  {
   "cell_type": "markdown",
   "id": "dcb86de8-d1e7-46d7-9087-2fc185994a73",
   "metadata": {},
   "source": [
    "<hr style=\"height:1px;border:none;\">\n",
    "<p style = 'font-size:18px;font-family:Arial'><b>1.1 Connect to Vantage</b></p>\n",
    "<p style = 'font-size:16px;font-family:Arial'>You will be prompted to provide the password. Enter your password, press the Enter key, and then use the down arrow to go to the next cell.</p>"
   ]
  },
  {
   "cell_type": "code",
   "execution_count": null,
   "id": "55887b7c-d878-4482-b03d-88a8a922cce1",
   "metadata": {},
   "outputs": [],
   "source": [
    "%run -i ../../UseCases/startup.ipynb\n",
    "eng = create_context(host = 'host.docker.internal', username='demo_user', password = password)\n",
    "print(eng)"
   ]
  },
  {
   "cell_type": "code",
   "execution_count": null,
   "id": "518cdaab-13dc-4942-8f75-df78633cfcda",
   "metadata": {},
   "outputs": [],
   "source": [
    "%%capture\n",
    "execute_sql('''SET query_band='DEMO=PP_PolynomialFeaturesFitandTransform_Python.ipynb;' UPDATE FOR SESSION; ''')"
   ]
  },
  {
   "cell_type": "markdown",
   "id": "77197fb7-9317-4932-b9b8-8ffaf5e313a2",
   "metadata": {},
   "source": [
    "<p style = 'font-size:16px;font-family:Arial'>Begin running steps with Shift + Enter keys. </p>"
   ]
  },
  {
   "cell_type": "markdown",
   "id": "4f6e51fa-31ed-4a8d-89c2-8f8018292eed",
   "metadata": {},
   "source": [
    "<hr style='height:1px;border:none;'>\n",
    "\n",
    "<p style = 'font-size:18px;font-family:Arial'><b>1.2 Getting Data for This Demo</b></p>\n",
    "\n",
    "<p style = 'font-size:16px;font-family:Arial'>We have provided data for this demo on cloud storage. You can either run the demo using foreign tables to access the data without any storage on your environment or download the data to local storage, which may yield faster execution. Still, there could be considerations of available storage. Two statements are in the following cell, and one is commented out. You may switch which mode you choose by changing the comment string.</p>"
   ]
  },
  {
   "cell_type": "code",
   "execution_count": null,
   "id": "2b113649-d68c-467b-be93-69e1951f679e",
   "metadata": {},
   "outputs": [],
   "source": [
    "%run -i ../../UseCases/run_procedure.py \"call get_data('DEMO_BankChurn_cloud');\"        # Takes 30 seconds\n",
    "#%run -i ../../UseCases/run_procedure.py \"call get_data('DEMO_BankChurn_local');\" "
   ]
  },
  {
   "cell_type": "code",
   "execution_count": null,
   "id": "4e927d96-56ae-4fab-a3d9-eff71e0d68f9",
   "metadata": {},
   "outputs": [],
   "source": [
    "%run -i ../../UseCases/run_procedure.py \"call space_report();\"        # Takes 10 seconds"
   ]
  },
  {
   "cell_type": "markdown",
   "id": "38f312ba-bde3-4ca7-a4fc-b7ea4a4a223c",
   "metadata": {},
   "source": [
    "<hr style=\"height:2px;border:none;\">\n",
    "<b style = 'font-size:20px;font-family:Arial'>2. Data Exploration</b>\n",
    "<p style = 'font-size:16px;font-family:Arial'>Create a \"Virtual DataFrame\" that points to the data set in Vantage. Check the shape of the dataframe as check the datatype of all the columns of the dataframe.</p>"
   ]
  },
  {
   "cell_type": "code",
   "execution_count": null,
   "id": "035a62c3-e64d-46ca-bf31-7fcd36b4e405",
   "metadata": {},
   "outputs": [],
   "source": [
    "tdf = DataFrame(in_schema(\"DEMO_BankChurn\", \"customer_churn\"))\n",
    "print(\"Shape of the data: \", tdf.shape)\n",
    "tdf"
   ]
  },
  {
   "cell_type": "code",
   "execution_count": null,
   "id": "a35ec8bf-6876-4b9c-9eb9-ce9c1902ef99",
   "metadata": {},
   "outputs": [],
   "source": [
    "tdf.tdtypes"
   ]
  },
  {
   "cell_type": "code",
   "execution_count": null,
   "id": "7a94bbce-b878-4cbf-bbe8-d803900bfc1e",
   "metadata": {},
   "outputs": [],
   "source": [
    "# Select relevant numerical columns for polynomial feature generation\n",
    "target_columns = [\"CreditScore\", \"Age\", \"Balance\"]"
   ]
  },
  {
   "cell_type": "markdown",
   "id": "9e085e39-6dad-4fcf-b181-8a76458c57ca",
   "metadata": {},
   "source": [
    "<p style = 'font-size:16px;font-family:Arial'>A bank wants to analyze how customer demographics and financial behavior impact churn. Non-linear relationships might exist between customer attributes (like Age, CreditScore, and Balance) and churn. To capture these relationships, we generate polynomial features of selected numerical variables and use them in a predictive model.\n",
    "</p>"
   ]
  },
  {
   "cell_type": "code",
   "execution_count": null,
   "id": "763c54bb-8a78-4682-a653-814c82fcacf3",
   "metadata": {},
   "outputs": [],
   "source": [
    "help(PolynomialFeaturesFit)"
   ]
  },
  {
   "cell_type": "code",
   "execution_count": null,
   "id": "a6ddca93-72d7-46df-819e-4662412f723c",
   "metadata": {},
   "outputs": [],
   "source": [
    "# Apply PolynomialFeaturesFit to create polynomial terms up to degree 2\n",
    "fit_result = PolynomialFeaturesFit(\n",
    "    data=tdf,\n",
    "    target_columns=target_columns,\n",
    "    degree=2\n",
    ")"
   ]
  },
  {
   "cell_type": "markdown",
   "id": "1be4a19e-3046-4540-8df6-5af3f96ff522",
   "metadata": {},
   "source": [
    "<p style = 'font-size:16px;font-family:Arial'>Apply PolynomialFeaturesTransform to make changes in the dataset\n",
    "</p>"
   ]
  },
  {
   "cell_type": "code",
   "execution_count": null,
   "id": "b565fbaa-8616-4a07-af32-0a61f63a607b",
   "metadata": {},
   "outputs": [],
   "source": [
    "help(PolynomialFeaturesTransform)"
   ]
  },
  {
   "cell_type": "code",
   "execution_count": null,
   "id": "4ae919a2-bf12-4ebe-a401-2068f92b774e",
   "metadata": {},
   "outputs": [],
   "source": [
    "# Applying PolynomialFeaturesTransform\n",
    "transformed_data = PolynomialFeaturesTransform(\n",
    "    data=tdf,\n",
    "    object=fit_result\n",
    ")"
   ]
  },
  {
   "cell_type": "markdown",
   "id": "7fe26330-0cf0-45d7-ac6d-b2193d04ba96",
   "metadata": {},
   "source": [
    "<p style = 'font-size:16px;font-family:Arial'>The final output consists of an expanded feature set with polynomial transformations that capture non-linear relationships for columns CreditScore, Age and Balance enhancing predictive modeling for customer churn analysis.\n",
    "</p>"
   ]
  },
  {
   "cell_type": "code",
   "execution_count": null,
   "id": "789f634f-755c-4ae7-9157-830faa69b379",
   "metadata": {},
   "outputs": [],
   "source": [
    "# Print the transformed DataFrame\n",
    "transformed_data.result"
   ]
  },
  {
   "cell_type": "markdown",
   "id": "0b7154a1-7c6e-46cc-91bf-46971f156e9e",
   "metadata": {},
   "source": [
    "<hr style=\"height:2px;border:none;\">\n",
    "<b style = 'font-size:20px;font-family:Arial'>3. Cleanup</b>"
   ]
  },
  {
   "cell_type": "markdown",
   "id": "08876ca8-c5fc-45bb-b6d0-1991a4d5cf47",
   "metadata": {},
   "source": [
    "<hr style=\"height:1px;border:none;\">\n",
    "<p style = 'font-size:18px;font-family:Arial'> <b>Databases and Tables </b></p>\n",
    "<p style = 'font-size:16px;font-family:Arial'>The following code will clean up tables and databases created above.</p>"
   ]
  },
  {
   "cell_type": "code",
   "execution_count": null,
   "id": "bf5ea20b-1cbe-4af3-af3b-302b244c7e8b",
   "metadata": {},
   "outputs": [],
   "source": [
    "%run -i ../../UseCases/run_procedure.py \"call remove_data('DEMO_BankChurn');\"        # Takes 10 seconds"
   ]
  },
  {
   "cell_type": "code",
   "execution_count": null,
   "id": "63063323-675f-40dc-a54c-538ead416234",
   "metadata": {},
   "outputs": [],
   "source": [
    "remove_context()"
   ]
  },
  {
   "cell_type": "markdown",
   "id": "f15a43ae-2702-4d53-ba65-8d4ac6e33019",
   "metadata": {},
   "source": [
    "<hr style=\"height:1px;border:none;\">\n",
    "<b style = 'font-size:18px;font-family:Arial'>Dataset:</b>\n",
    "\n",
    "- `RowNumber`: Row index\n",
    "- `CustomerId`: Unique customer ID\n",
    "- `Surname`: Customer's surname\n",
    "- `CreditScore`: Credit score of the customer\n",
    "- `Geography`: Country (Germany / France / Spain)\n",
    "- `Gender`: Gender (Male / Female)\n",
    "- `Age`: Age of the customer\n",
    "- `Tenure`: Number of years the customer has been associated with the bank\n",
    "- `Balance`: Account balance\n",
    "- `NumOfProducts`: Number of bank products used\n",
    "- `HasCrCard`: Credit card status (0 = No, 1 = Yes)\n",
    "- `IsActiveMember`: Active membership status (0 = No, 1 = Yes)\n",
    "- `EstimatedSalary`: Estimated salary of the customer\n",
    "- `Exited`: Customer churn status (0 = No, 1 = Yes)\n",
    "\n",
    "<p style = 'font-size:16px;font-family:Arial'><b>Links:</b></p>\n",
    "<ul style = 'font-size:16px;font-family:Arial'>\n",
    "    <li>Teradataml Python reference: <a href = 'https://docs.teradata.com/search/all?query=Python+Package+User+Guide&content-lang=en-US'>here</a></li>\n",
    "    <li>PolynomialFeaturesFit function reference: <a href = 'https://docs.teradata.com/search/all?query=PolynomialFeaturesFit&value-filters=prodname~%2522Teradata+Package+for+Python%2522*vrm_release~%252220.00.00.03%2522&content-lang=en-US&_gl=1*19tr550*_gcl_aw*R0NMLjE3MzMyMDc4MjguRUFJYUlRb2JDaE1JeVpYM3BQNktpZ01WSWpLREF4MmluUmowRUFBWUFTQUFFZ0tSRVBEX0J3RQ..*_gcl_au*MTM2MDk0NzQ4OS4xNzM3NTI3NTA5*_ga*NTU2MTUwNDQ1LjE2OTM4MDU3NjE.*_ga_7PE2TMW3FE*MTczODY1MTA2OS4xNDUuMS4xNzM4NjUxMzgwLjYwLjAuMA..'>here</a></li>\n",
    "    <li>PolynomialFeaturesTransform function reference: <a href = 'https://docs.teradata.com/search/all?query=PolynomialFeaturesTransform&value-filters=prodname~%2522Teradata+Package+for+Python%2522*vrm_release~%252220.00.00.03%2522&content-lang=en-US&_gl=1*19tr550*_gcl_aw*R0NMLjE3MzMyMDc4MjguRUFJYUlRb2JDaE1JeVpYM3BQNktpZ01WSWpLREF4MmluUmowRUFBWUFTQUFFZ0tSRVBEX0J3RQ..*_gcl_au*MTM2MDk0NzQ4OS4xNzM3NTI3NTA5*_ga*NTU2MTUwNDQ1LjE2OTM4MDU3NjE.*_ga_7PE2TMW3FE*MTczODY1MTA2OS4xNDUuMS4xNzM4NjUxMzgwLjYwLjAuMA..'>here</a></li></li>\n",
    "</ul>"
   ]
  },
  {
   "cell_type": "markdown",
   "id": "1042bdba-9dc7-44ab-996d-09dc97a0df14",
   "metadata": {},
   "source": [
    "<footer style=\"padding-bottom:35px; border-bottom:3px solid #91A0Ab\">\n",
    "    <div style=\"float:left;margin-top:14px\">ClearScape Analytics™</div>\n",
    "    <div style=\"float:right;\">\n",
    "        <div style=\"float:left; margin-top:14px\">\n",
    "            Copyright © Teradata Corporation - 2025. All Rights Reserved\n",
    "        </div>\n",
    "    </div>\n",
    "</footer>"
   ]
  }
 ],
 "metadata": {
  "kernelspec": {
   "display_name": "Python 3 (ipykernel)",
   "language": "python",
   "name": "python3"
  },
  "language_info": {
   "codemirror_mode": {
    "name": "ipython",
    "version": 3
   },
   "file_extension": ".py",
   "mimetype": "text/x-python",
   "name": "python",
   "nbconvert_exporter": "python",
   "pygments_lexer": "ipython3",
   "version": "3.9.10"
  }
 },
 "nbformat": 4,
 "nbformat_minor": 5
}
