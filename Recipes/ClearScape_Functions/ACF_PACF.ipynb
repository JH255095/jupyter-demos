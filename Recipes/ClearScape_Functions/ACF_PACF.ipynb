{
 "cells": [
  {
   "cell_type": "markdown",
   "id": "bc549e6c-0cc4-4188-94a3-a9bdd3ae3dfa",
   "metadata": {},
   "source": [
    "<header>\n",
    "   <p  style='font-size:36px;font-family:Arial; color:#F0F0F0; background-color: #00233c; padding-left: 20pt; padding-top: 20pt;padding-bottom: 10pt; padding-right: 20pt;'>\n",
    "       ACF and PACF Functions in Vantage\n",
    "  <br>\n",
    "       <img id=\"teradata-logo\" src=\"https://storage.googleapis.com/clearscape_analytics_demo_data/DEMO_Logo/teradata.svg\" alt=\"Teradata\" style=\"width: 125px; height: auto; margin-top: 20pt;\">\n",
    "    </p>\n",
    "</header>"
   ]
  },
  {
   "cell_type": "markdown",
   "id": "7ae7611a-0795-4168-b716-01fee6880cbd",
   "metadata": {},
   "source": [
    "<p style = 'font-size:20px;font-family:Arial'><b>Introduction</b></p>\n",
    "<p style = 'font-size:18px;font-family:Arial'><b>ACF</b></p>\n",
    "<p style = 'font-size:16px;font-family:Arial'> The ACF() function calculates the autocorrelation or autocovariance of a time series. The autocorrelation and autocovariance show how the time series correlates or\n",
    "    covaries with itself when delayed by a lag in time or space. When the ACF() function is computed, a coefficient corresponding to a particular lag is affected by all the previous lags. For example, the coefficient for lag 4 includes effects of activity at lags 3, 2, and 1.</p>\n",
    " \n",
    "<p style = 'font-size:18px;font-family:Arial'><b>PACF</b></p>\n",
    "<p style = 'font-size:16px;font-family:Arial'> The PACF() function provides insight as to whether the function   being modeled is stationary or not. The partial auto correlations are used to measure the degree of correlation between series sample points. The algorithm removes the effects of the previous lag. For example, the coefficient for lag 4 focuses on the effect of activity based only at lag 4, with effects of lags 3, 2, and 1 removed.</p>\n"
   ]
  },
  {
   "cell_type": "markdown",
   "id": "6b3a00b4-6661-4c91-9b2d-cb7b0b403140",
   "metadata": {},
   "source": [
    "<hr style=\"height:2px;border:none;\">\n",
    "<b style = 'font-size:20px;font-family:Arial'>1. Initiate a connection to Vantage</b>"
   ]
  },
  {
   "cell_type": "markdown",
   "id": "2346857f-e0d3-488a-8a3f-ac6dff752c2b",
   "metadata": {},
   "source": [
    "<p style = 'font-size:16px;font-family:Arial'>In the section, we import the required libraries and set environment variables and environment paths (if required)."
   ]
  },
  {
   "cell_type": "code",
   "execution_count": null,
   "id": "c5af5af3-29d5-4f6a-8334-9df6924e7787",
   "metadata": {},
   "outputs": [],
   "source": [
    "from teradataml import (\n",
    "    create_context,\n",
    "    execute_sql,\n",
    "    load_example_data,\n",
    "    DataFrame,\n",
    "    in_schema,\n",
    "    TDSeries,\n",
    "    Resample,\n",
    "    ACF,\n",
    "    PACF,\n",
    "    Figure,\n",
    "    plot,\n",
    "    db_drop_view,\n",
    "    remove_context,\n",
    "    copy_to_sql,\n",
    "    db_drop_table\n",
    "    )\n",
    "\n",
    "from teradatasqlalchemy.types import *\n",
    "\n",
    "from teradataml import to_numeric\n",
    "# Modify the following to match the specific client environment settings\n",
    "display.max_rows = 5"
   ]
  },
  {
   "cell_type": "markdown",
   "id": "ad3dd7b4-831c-4fb3-ab71-719c8c99a71c",
   "metadata": {},
   "source": [
    "<hr style=\"height:1px;border:none;\">\n",
    "<p style = 'font-size:18px;font-family:Arial'><b>1.1 Connect to Vantage</b></p>\n",
    "<p style = 'font-size:16px;font-family:Arial'>You will be prompted to provide the password. Enter your password, press the Enter key, and then use the down arrow to go to the next cell.</p>"
   ]
  },
  {
   "cell_type": "code",
   "execution_count": null,
   "id": "2742444c-4349-4b0f-b4e5-b068a8785cd9",
   "metadata": {},
   "outputs": [],
   "source": [
    "%run -i ../../UseCases/startup.ipynb\n",
    "eng = create_context(host = 'host.docker.internal', username='demo_user', password = password)\n",
    "print(eng)"
   ]
  },
  {
   "cell_type": "code",
   "execution_count": null,
   "id": "01c4a128-d106-46ea-8dee-34acc5abd29f",
   "metadata": {
    "tags": []
   },
   "outputs": [],
   "source": [
    "%%capture\n",
    "execute_sql('''SET query_band='DEMO=PP_ACF_PACF_Python.ipynb;' UPDATE FOR SESSION; ''')"
   ]
  },
  {
   "cell_type": "markdown",
   "id": "efe2fd2d-63ff-4278-9157-8b9110d682e8",
   "metadata": {},
   "source": [
    "<p style = 'font-size:16px;font-family:Arial'>Begin running steps with Shift + Enter keys. </p>"
   ]
  },
  {
   "cell_type": "markdown",
   "id": "f003f332-7489-4bdd-a740-4af2a0a22280",
   "metadata": {},
   "source": [
    "<hr style='height:1px;border:none;'>\n",
    "\n",
    "<p style = 'font-size:18px;font-family:Arial'><b>1.2 Getting Data for This Demo</b></p>\n",
    "\n",
    "<p style = 'font-size:16px;font-family:Arial'>We have provided data for this demo on cloud storage. You can either run the demo using foreign tables to access the data without any storage on your environment or download the data to local storage, which may yield faster execution. Still, there could be considerations of available storage. Two statements are in the following cell, and one is commented out. You may switch which mode you choose by changing the comment string.</p>"
   ]
  },
  {
   "cell_type": "code",
   "execution_count": null,
   "id": "04b3da5c-3b34-492a-a70d-f582c19169bb",
   "metadata": {},
   "outputs": [],
   "source": [
    "# %run -i ../run_procedure.py \"call get_data('DEMO_SalesForecastingUAF_cloud');\"        # Takes 1 minute\n",
    "%run -i ../../UseCases/run_procedure.py \"call get_data('DEMO_SalesForecastingUAF_local');\"        # Takes 2 minutes"
   ]
  },
  {
   "cell_type": "markdown",
   "id": "2401d6d3-4fcd-46fc-8a94-7cafcd1258b0",
   "metadata": {},
   "source": [
    "<p style = 'font-size:16px;font-family:Arial'>Next is an optional step – if you want to see the status of databases/tables created and space used.</p>"
   ]
  },
  {
   "cell_type": "code",
   "execution_count": null,
   "id": "87429200-db02-450d-9472-4d1e2030124d",
   "metadata": {},
   "outputs": [],
   "source": [
    "%run -i ../../UseCases/run_procedure.py \"call space_report();\"        # Takes 10 seconds"
   ]
  },
  {
   "cell_type": "markdown",
   "id": "2a3762ac-ba27-4fa3-adba-d577262a4290",
   "metadata": {},
   "source": [
    "<hr style=\"height:2px;border:none;\">\n",
    "<b style = 'font-size:20px;font-family:Arial'>2. Data Exploration</b>\n",
    "<p style = 'font-size:16px;font-family:Arial'>Create a \"Virtual DataFrame\" that points to the data set in Vantage. Check the shape of the dataframe as check the datatype of all the columns of the dataframe.</p>"
   ]
  },
  {
   "cell_type": "code",
   "execution_count": null,
   "id": "9672d80d-cdcc-4f4c-9399-7c367e7970b1",
   "metadata": {},
   "outputs": [],
   "source": [
    "sales_data = DataFrame(in_schema('DEMO_SalesForecastingUAF', 'Weekly_Sales'))\n",
    "feature_data = DataFrame(in_schema('DEMO_SalesForecastingUAF', 'Features')).drop(['IsHoliday'], axis=1)\n",
    "store_data = DataFrame(in_schema('DEMO_SalesForecastingUAF', 'Stores'))"
   ]
  },
  {
   "cell_type": "markdown",
   "id": "69cde900-07d5-4064-b445-4181c0c3e3b9",
   "metadata": {},
   "source": [
    "<p style = 'font-size:16px;font-family:Arial'>We will join datasets to create the Analytic Data Set using tdml for basic dataframe manipulations</p>"
   ]
  },
  {
   "cell_type": "code",
   "execution_count": null,
   "id": "d31db9d4-e290-44a7-be24-461936ec3bba",
   "metadata": {
    "ExecuteTime": {
     "end_time": "2022-12-15T17:11:20.075888Z",
     "start_time": "2022-12-15T17:11:19.284616Z"
    }
   },
   "outputs": [],
   "source": [
    "# Join store_data with sales_data\n",
    "sales_data = (\n",
    "    sales_data.join(store_data, on='Store', how='left', lprefix='t1', rprefix='t2')\n",
    "    .drop(['t2_Store'], axis=1)\n",
    ")\n",
    "sales_data = sales_data.assign(Store=sales_data['t1_Store'])\n",
    "sales_data = sales_data.drop(['t1_Store'], axis=1)\n",
    "\n",
    "# Join feature_data with sales_data\n",
    "sales_data = (\n",
    "    sales_data.join(feature_data, on=['Store', 'Date'], how='left', lprefix='t1', rprefix='t3')\n",
    "    .drop(['t3_Store'], axis=1)\n",
    "    .drop(['t3_Date'], axis=1)\n",
    ")\n",
    "sales_data = sales_data.assign(Store=sales_data['t1_Store'])\n",
    "sales_data = sales_data.assign(Date=sales_data['t1_Date'])\n",
    "sales_data = sales_data.drop(['t1_Store'], axis=1)\n",
    "sales_data = sales_data.drop(['t1_Date'], axis=1)"
   ]
  },
  {
   "cell_type": "markdown",
   "id": "4cde0c00-1583-478d-a03b-47f73899bb38",
   "metadata": {},
   "source": [
    "<p style = 'font-size:16px;font-family:Arial'>We will creating time series identifier for partitioning the data. We will join the department and store ID which provides a unique ID for every time series to create a column for partitioning.</p>"
   ]
  },
  {
   "cell_type": "code",
   "execution_count": null,
   "id": "72716411-adf2-425a-993d-c0e6f0006077",
   "metadata": {
    "ExecuteTime": {
     "end_time": "2022-12-15T17:11:22.088738Z",
     "start_time": "2022-12-15T17:11:21.067081Z"
    }
   },
   "outputs": [],
   "source": [
    "# Assign a new column 'idcols' based on string concatenation\n",
    "sales_data = sales_data.assign(idcols=sales_data.Dept.str.strip() + '-' + sales_data.Store.str.strip())\n",
    "sales_data = sales_data.assign(idcols=sales_data.idcols.cast(type_=VARCHAR(10)))\n",
    "\n",
    "# Check the shape of the DataFrame\n",
    "sales_data.shape"
   ]
  },
  {
   "cell_type": "markdown",
   "id": "92e17b4c-5f50-4be3-b401-44ed0186122a",
   "metadata": {},
   "source": [
    "<p style = 'font-size:16px;font-family:Arial'>The dataset we created contains more than 421k rows and 19 columns. This final dataset will be copied to Vantage database</p>"
   ]
  },
  {
   "cell_type": "code",
   "execution_count": null,
   "id": "c63261c1-5145-4a98-889d-ad02ec71407c",
   "metadata": {
    "ExecuteTime": {
     "end_time": "2022-12-15T17:11:27.910956Z",
     "start_time": "2022-12-15T17:11:22.094679Z"
    }
   },
   "outputs": [],
   "source": [
    "copy_to_sql(df = sales_data, table_name = \"az_sf_joined\", if_exists = \"replace\")"
   ]
  },
  {
   "cell_type": "markdown",
   "id": "3dd8b53d-b2d0-47c2-89d2-471e59776b0f",
   "metadata": {},
   "source": [
    "<hr style=\"height:2px;border:none;\">\n",
    "<b style = 'font-size:20px;font-family:Arial'>3. ACF</b>\n",
    "<p style = 'font-size:16px;font-family:Arial'>ACF() function is used to calculate the autocorrelation of a time series with itself by using \"max_lags\". Detailed help can be found by passing function name to built-in help function.</p>"
   ]
  },
  {
   "cell_type": "code",
   "execution_count": null,
   "id": "62cc38f9-2bc0-4cf6-a87d-e39e0496361c",
   "metadata": {},
   "outputs": [],
   "source": [
    "help(ACF)"
   ]
  },
  {
   "cell_type": "markdown",
   "id": "c6643f03-fb87-4ca0-8452-3cf2536e581a",
   "metadata": {},
   "source": [
    "<p style = 'font-size:16px;font-family:Arial'>The first step is to convert the time series data into TDSeries, which is required for the input time series.</p>"
   ]
  },
  {
   "cell_type": "code",
   "execution_count": null,
   "id": "0c91ad72-2e3d-46dd-b6fd-895ad4b29194",
   "metadata": {},
   "outputs": [],
   "source": [
    "from teradataml import TDSeries, Resample\n",
    "\n",
    "data_series_df = TDSeries(\n",
    "    data=sales_data,\n",
    "    id=\"idcols\",\n",
    "    row_index=(\"times\"),\n",
    "    row_index_style=\"TIMECODE\",\n",
    "    payload_field=\"Weekly_Sales\",\n",
    "    payload_content=\"REAL\"\n",
    ")\n",
    "uaf_out1 = Resample(data=data_series_df,\n",
    "                    interpolate='LINEAR',\n",
    "                    timecode_start_value=\"TIMESTAMP '2010-02-05 00:00:00'\",\n",
    "                    timecode_duration=\"WEEKS(1)\")\n",
    "\n",
    "df=uaf_out1.result\n",
    "df1=df.select(['idcols','ROW_I', 'Weekly_Sales']).assign(Sales_Date=df.ROW_I)\n",
    "df1"
   ]
  },
  {
   "cell_type": "code",
   "execution_count": null,
   "id": "a711f58c-fbd3-4457-9f6a-9cd5c1b192dc",
   "metadata": {},
   "outputs": [],
   "source": [
    "data_series_df_acf = TDSeries(data=df1,\n",
    "                              id=\"idcols\",\n",
    "                              row_index=\"Sales_Date\",\n",
    "                              row_index_style=\"TIMECODE\",\n",
    "                              payload_field=\"Weekly_Sales\",\n",
    "                              payload_content=\"REAL\",\n",
    "                              interval=\"WEEKS(1)\") "
   ]
  },
  {
   "cell_type": "code",
   "execution_count": null,
   "id": "8965392c-404e-4e25-b5b8-c7ef06069154",
   "metadata": {},
   "outputs": [],
   "source": [
    "# Normalize the series by removing the unit roots.\n",
    "from teradataml import ACF\n",
    "uaf_out = ACF(data=data_series_df,\n",
    "                  max_lags=12,\n",
    "                  demean=True,\n",
    "                  qstat = False,\n",
    "                  alpha=0.05)\n",
    "acf_df = uaf_out.result\n",
    "acf_df"
   ]
  },
  {
   "cell_type": "code",
   "execution_count": null,
   "id": "25a47ac9-da4d-4b27-bbdd-3e177800a500",
   "metadata": {},
   "outputs": [],
   "source": [
    "acf_df_plot = acf_df.loc[acf_df.idcols == '1-10']"
   ]
  },
  {
   "cell_type": "code",
   "execution_count": null,
   "id": "791a93e6-c664-4287-921d-e04e40267259",
   "metadata": {},
   "outputs": [],
   "source": [
    "plot = acf_df_plot.plot(x=acf_df_plot.ROW_I, \n",
    "        y=(acf_df_plot.OUT_Weekly_Sales, acf_df_plot.CONF_OFF_Weekly_Sales),\n",
    "        kind='corr', figsize=(600,400),ylabel = \" \",\n",
    "        color=\"blue\",title=\"Auto Correlation\")\n",
    "plot.show()"
   ]
  },
  {
   "cell_type": "markdown",
   "id": "6f28a308-1b15-4d42-ae76-4ceab65f7ce5",
   "metadata": {},
   "source": [
    "<hr style=\"height:2px;border:none;\">\n",
    "<b style = 'font-size:20px;font-family:Arial'>4. PACF</b>\n",
    "<p style = 'font-size:16px;font-family:Arial'>We will calculate the partial autocorrelation function coefficients using 'LEVINSON_DURBIN' algorithm, with maximum of 12 lags. Detailed help can be found by passing function name to built-in help function.</p>"
   ]
  },
  {
   "cell_type": "code",
   "execution_count": null,
   "id": "c5cb9bc9-1cf5-4555-8fe0-db80a5a31654",
   "metadata": {},
   "outputs": [],
   "source": [
    "help(PACF)"
   ]
  },
  {
   "cell_type": "markdown",
   "id": "a9811ade-ef6a-4a34-9cf4-fc07f7647ae7",
   "metadata": {},
   "source": [
    " \n",
    "<p style = 'font-size:16px;font-family:Arial'>We will use the same TDSeries created in the step above.</p>"
   ]
  },
  {
   "cell_type": "code",
   "execution_count": null,
   "id": "7b4e9983-08c4-4b3e-be24-91775745efc8",
   "metadata": {},
   "outputs": [],
   "source": [
    "pacf_out = PACF(data=data_series_df,\n",
    "                    algorithm='LEVINSON_DURBIN',\n",
    "                    max_lags=12,\n",
    "             alpha=0.05)\n",
    "\n",
    "pacf_df = pacf_out.result\n",
    "pacf_df"
   ]
  },
  {
   "cell_type": "code",
   "execution_count": null,
   "id": "089e60d2-2065-429d-b29f-914513a99d90",
   "metadata": {},
   "outputs": [],
   "source": [
    "pacf_df_plot = pacf_df.loc[pacf_df.idcols == '1-10']"
   ]
  },
  {
   "cell_type": "code",
   "execution_count": null,
   "id": "e7357280-10cd-4819-a338-3b190b471f4d",
   "metadata": {},
   "outputs": [],
   "source": [
    "plot = pacf_df_plot.plot(x=pacf_df_plot.ROW_I, \n",
    "        y=(pacf_df_plot.OUT_Weekly_Sales, pacf_df_plot.CONF_OFF_Weekly_Sales),\n",
    "        kind='corr', figsize=(600,400),ylabel = \" \",\n",
    "        color=\"blue\",title=\"Partial Auto Correlation\")\n",
    "plot.show()"
   ]
  },
  {
   "cell_type": "markdown",
   "id": "c25fdaf1-098b-4dea-984b-579c6412557e",
   "metadata": {},
   "source": [
    "<hr style=\"height:2px;border:none;\">\n",
    "<b style = 'font-size:20px;font-family:Arial'>5. Cleanup</b>"
   ]
  },
  {
   "cell_type": "markdown",
   "id": "82901004-be46-4ec0-9ef6-d181023b0c17",
   "metadata": {},
   "source": [
    "<p style = 'font-size:18px;font-family:Arial'><b>Work Tables</b></p>\n",
    "<p style = 'font-size:16px;font-family:Arial'>The following code will clean up intermediate tables.</p>"
   ]
  },
  {
   "cell_type": "code",
   "execution_count": null,
   "id": "d969f206-a1bd-45a3-9aba-da67c5390114",
   "metadata": {},
   "outputs": [],
   "source": [
    "db_drop_table(table_name='az_sf_joined')"
   ]
  },
  {
   "cell_type": "markdown",
   "id": "a5d460af-1a32-4681-8094-360c3f25dc1f",
   "metadata": {},
   "source": [
    "<p style = 'font-size:18px;font-family:Arial'><b>Databases and Tables</b></p>\n",
    "<p style = 'font-size:16px;font-family:Arial'>The following code will clean up tables and databases created above.</p>"
   ]
  },
  {
   "cell_type": "code",
   "execution_count": null,
   "id": "9dff9677-dae1-4cc5-b78e-3d197cc41e0c",
   "metadata": {},
   "outputs": [],
   "source": [
    "%run -i ../../UseCases/run_procedure.py \"call remove_data('DEMO_SalesForecastingUAF');\" \n",
    "#Takes 45 seconds"
   ]
  },
  {
   "cell_type": "code",
   "execution_count": null,
   "id": "9b96168c-7973-4259-b3e0-668b92fd846e",
   "metadata": {},
   "outputs": [],
   "source": [
    "remove_context()"
   ]
  },
  {
   "cell_type": "markdown",
   "id": "4317a6cf-1479-4aa8-b30a-ee0a3b5231a8",
   "metadata": {},
   "source": [
    "<hr style=\"height:1px;border:none;\">\n",
    "\n",
    "<p style = 'font-size:16px;font-family:Arial'><b>Links:</b></p>\n",
    "<ul style = 'font-size:16px;font-family:Arial'>\n",
    "    <li>Teradataml Python reference: <a href = 'https://docs.teradata.com/search/all?query=Python+Package+User+Guide&content-lang=en-US'>here</a></li>\n",
    "    <li>ACF function reference: <a href = 'https://docs.teradata.com/search/all?query=ACF&content-lang=en-US'>here</a></li>\n",
    "    <li>PACF function reference: <a href = 'https://docs.teradata.com/search/all?query=PACF&content-lang=en-US'>here</a></li>\n",
    "</ul>"
   ]
  },
  {
   "cell_type": "markdown",
   "id": "b2dcca28-5de5-44d7-88cb-45a12153b3f8",
   "metadata": {},
   "source": [
    "<footer style=\"padding-bottom:35px; border-bottom:3px solid #91A0Ab\">\n",
    "    <div style=\"float:left;margin-top:14px\">ClearScape Analytics™</div>\n",
    "    <div style=\"float:right;\">\n",
    "        <div style=\"float:left; margin-top:14px\">\n",
    "            Copyright © Teradata Corporation - 2025. All Rights Reserved\n",
    "        </div>\n",
    "    </div>\n",
    "</footer>"
   ]
  }
 ],
 "metadata": {
  "kernelspec": {
   "display_name": "Python 3 (ipykernel)",
   "language": "python",
   "name": "python3"
  },
  "language_info": {
   "codemirror_mode": {
    "name": "ipython",
    "version": 3
   },
   "file_extension": ".py",
   "mimetype": "text/x-python",
   "name": "python",
   "nbconvert_exporter": "python",
   "pygments_lexer": "ipython3",
   "version": "3.9.10"
  }
 },
 "nbformat": 4,
 "nbformat_minor": 5
}
