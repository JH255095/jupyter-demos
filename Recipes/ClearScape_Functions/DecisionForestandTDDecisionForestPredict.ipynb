{
 "cells": [
  {
   "cell_type": "markdown",
   "id": "bc549e6c-0cc4-4188-94a3-a9bdd3ae3dfa",
   "metadata": {},
   "source": [
    "<header>\n",
    "   <p  style='font-size:36px;font-family:Arial; color:#F0F0F0; background-color: #00233c; padding-left: 20pt; padding-top: 20pt;padding-bottom: 10pt; padding-right: 20pt;'>\n",
    "       DecisionForest and TDDecisionForestPredict functions in Vantage\n",
    "  <br>\n",
    "       <img id=\"teradata-logo\" src=\"https://storage.googleapis.com/clearscape_analytics_demo_data/DEMO_Logo/teradata.svg\" alt=\"Teradata\" style=\"width: 125px; height: auto; margin-top: 20pt;\">\n",
    "    </p>\n",
    "</header>"
   ]
  },
  {
   "cell_type": "markdown",
   "id": "7ae7611a-0795-4168-b716-01fee6880cbd",
   "metadata": {},
   "source": [
    "<p style = 'font-size:20px;font-family:Arial'><b>Introduction</b></p>\n",
    "<p style = 'font-size:16px;font-family:Arial'>Decision forest functions create predictive models based on the algorithm for decision tree training and prediction.DecisionForest function is an ensemble algorithm used for classification and regression predictive modeling problems. DecisionForestPredict function uses the model output by DecisionForest function to analyze the input data and make predictions. This function outputs the probability that each observation is in the predicted class. <br> In this notebook we will see how we can use the DecisionForest and TDDecisionForestPredict functions available in Vantage.</p>"
   ]
  },
  {
   "cell_type": "markdown",
   "id": "6b3a00b4-6661-4c91-9b2d-cb7b0b403140",
   "metadata": {},
   "source": [
    "<hr style=\"height:2px;border:none;\">\n",
    "<b style = 'font-size:20px;font-family:Arial'>1. Initiate a connection to Vantage</b>"
   ]
  },
  {
   "cell_type": "markdown",
   "id": "2346857f-e0d3-488a-8a3f-ac6dff752c2b",
   "metadata": {},
   "source": [
    "<p style = 'font-size:16px;font-family:Arial'>In the section, we import the required libraries and set environment variables and environment paths (if required)."
   ]
  },
  {
   "cell_type": "code",
   "execution_count": null,
   "id": "c5af5af3-29d5-4f6a-8334-9df6924e7787",
   "metadata": {},
   "outputs": [],
   "source": [
    "from teradataml import *\n",
    "\n",
    "# Modify the following to match the specific client environment settings\n",
    "display.max_rows = 5"
   ]
  },
  {
   "cell_type": "markdown",
   "id": "ad3dd7b4-831c-4fb3-ab71-719c8c99a71c",
   "metadata": {},
   "source": [
    "<hr style=\"height:1px;border:none;\">\n",
    "<p style = 'font-size:18px;font-family:Arial'><b>1.1 Connect to Vantage</b></p>\n",
    "<p style = 'font-size:16px;font-family:Arial'>You will be prompted to provide the password. Enter your password, press the Enter key, and then use the down arrow to go to the next cell.</p>"
   ]
  },
  {
   "cell_type": "code",
   "execution_count": null,
   "id": "2742444c-4349-4b0f-b4e5-b068a8785cd9",
   "metadata": {},
   "outputs": [],
   "source": [
    "%run -i ../../UseCases/startup.ipynb\n",
    "eng = create_context(host = 'host.docker.internal', username='demo_user', password = password)\n",
    "print(eng)"
   ]
  },
  {
   "cell_type": "code",
   "execution_count": null,
   "id": "e14915b0-7932-4e03-94ba-20f0599c3707",
   "metadata": {},
   "outputs": [],
   "source": [
    "%%capture\n",
    "execute_sql('''SET query_band='DEMO=PP_DecisionForest_and_TDDecisionForestPredict_Python.ipynb;' UPDATE FOR SESSION; ''')"
   ]
  },
  {
   "cell_type": "markdown",
   "id": "efe2fd2d-63ff-4278-9157-8b9110d682e8",
   "metadata": {},
   "source": [
    "<p style = 'font-size:16px;font-family:Arial'>Begin running steps with Shift + Enter keys. </p>"
   ]
  },
  {
   "cell_type": "markdown",
   "id": "f003f332-7489-4bdd-a740-4af2a0a22280",
   "metadata": {},
   "source": [
    "<hr style='height:1px;border:none;'>\n",
    "\n",
    "<p style = 'font-size:18px;font-family:Arial'><b>1.2 Getting Data for This Demo</b></p>\n",
    "\n",
    "<p style = 'font-size:16px;font-family:Arial'>Here, we will get the data which is available in the teradataml library and use the same to show the usage of the function.</p>"
   ]
  },
  {
   "cell_type": "code",
   "execution_count": null,
   "id": "45c86176-734c-4b1c-ace0-d0c88657b4f8",
   "metadata": {},
   "outputs": [],
   "source": [
    "load_example_data(\"decisionforest\", [\"boston\"])"
   ]
  },
  {
   "cell_type": "markdown",
   "id": "2401d6d3-4fcd-46fc-8a94-7cafcd1258b0",
   "metadata": {},
   "source": [
    "<p style = 'font-size:16px;font-family:Arial'>Next is an optional step – if you want to see the status of databases/tables created and space used.</p>"
   ]
  },
  {
   "cell_type": "code",
   "execution_count": null,
   "id": "87429200-db02-450d-9472-4d1e2030124d",
   "metadata": {},
   "outputs": [],
   "source": [
    "%run -i ../../UseCases/run_procedure.py \"call space_report();\"        # Takes 10 seconds"
   ]
  },
  {
   "cell_type": "markdown",
   "id": "2a3762ac-ba27-4fa3-adba-d577262a4290",
   "metadata": {},
   "source": [
    "<hr style=\"height:2px;border:none;\">\n",
    "<b style = 'font-size:20px;font-family:Arial'>2. Data Exploration</b>\n",
    "<p style = 'font-size:16px;font-family:Arial'>Create a \"Virtual DataFrame\" that points to the data set in Vantage. Check the shape of the dataframe as check the datatype of all the columns of the dataframe.</p>"
   ]
  },
  {
   "cell_type": "code",
   "execution_count": null,
   "id": "3d936fab-7ca7-4e94-ba64-95c1da08b74f",
   "metadata": {},
   "outputs": [],
   "source": [
    "boston = DataFrame.from_table(\"boston\")\n",
    "print(\"Shape of the data: \", boston.shape)\n",
    "boston"
   ]
  },
  {
   "cell_type": "markdown",
   "id": "12db89ee-95dc-4a07-b734-b7f6d76a7013",
   "metadata": {},
   "source": [
    "<p style = 'font-size:16px;font-family:Arial'>Spliting the data into train and test datasets.</p>"
   ]
  },
  {
   "cell_type": "code",
   "execution_count": null,
   "id": "1befb2c6-b9cb-4382-8836-7da223dd0e7b",
   "metadata": {},
   "outputs": [],
   "source": [
    "TrainTestSplit_out = TrainTestSplit(data = boston,\n",
    "                                        id_column=\"id\",\n",
    "                                        train_size=0.80,\n",
    "                                        test_size=0.20,\n",
    "                                        seed=42)"
   ]
  },
  {
   "cell_type": "code",
   "execution_count": null,
   "id": "41cce66b-cae5-4aa8-8b70-beffe4b9c184",
   "metadata": {},
   "outputs": [],
   "source": [
    "boston_train=TrainTestSplit_out.result[TrainTestSplit_out.result['TD_IsTrainRow'] == 1].drop(['TD_IsTrainRow'], axis = 1)\n",
    "boston_test=TrainTestSplit_out.result[TrainTestSplit_out.result['TD_IsTrainRow'] == 0].drop(['TD_IsTrainRow'], axis = 1)"
   ]
  },
  {
   "cell_type": "code",
   "execution_count": null,
   "id": "ce00a941-79b5-4063-a6bc-4f7c2fde1843",
   "metadata": {},
   "outputs": [],
   "source": [
    "boston_train.shape"
   ]
  },
  {
   "cell_type": "code",
   "execution_count": null,
   "id": "c528f3a3-a4cb-4372-bac0-6e16a8a019b5",
   "metadata": {},
   "outputs": [],
   "source": [
    "boston_test.shape"
   ]
  },
  {
   "cell_type": "markdown",
   "id": "0d0adaf2-461e-48ff-87ce-b6038db8254a",
   "metadata": {},
   "source": [
    "<p style = 'font-size:16px;font-family:Arial'>Creating DecisionForest model on this data.<br>Detailed help can be found by passing function name to built-in help function.</p>"
   ]
  },
  {
   "cell_type": "code",
   "execution_count": null,
   "id": "d413a344-a12d-46ae-a27b-6702733387c4",
   "metadata": {
    "tags": []
   },
   "outputs": [],
   "source": [
    "help(DecisionForest)"
   ]
  },
  {
   "cell_type": "code",
   "execution_count": null,
   "id": "8db7efa9-25d9-4da9-a142-ceeb29a9273e",
   "metadata": {},
   "outputs": [],
   "source": [
    "# Training the model.\n",
    "DecisionForest_out = DecisionForest(data = boston_train,\n",
    "                                    input_columns = ['crim', 'zn', 'indus', 'chas', 'nox', 'rm',\n",
    "                                                    'age', 'dis', 'rad', 'tax', 'ptratio', 'black',\n",
    "                                                    'lstat'],\n",
    "                                    response_column = 'medv',\n",
    "                                    max_depth = 12,\n",
    "                                    num_trees = 4,\n",
    "                                    min_node_size = 1,\n",
    "                                    mtry = 3,\n",
    "                                    mtry_seed = 1,\n",
    "                                    seed = 1,\n",
    "                                    tree_type = 'REGRESSION')"
   ]
  },
  {
   "cell_type": "code",
   "execution_count": null,
   "id": "4d6249f6-3ac4-4375-8640-3ec937c98b88",
   "metadata": {},
   "outputs": [],
   "source": [
    "# Print the result DataFrame.\n",
    "DecisionForest_out.result"
   ]
  },
  {
   "cell_type": "markdown",
   "id": "07aa6f02-d870-4fd3-a1bd-6a6ac9fd6d82",
   "metadata": {},
   "source": [
    "<p style = 'font-size:16px;font-family:Arial'>Predict the values using the model created above by TDDecisionForestPredict function.<br>\n",
    "Detailed help can be found by passing function name to built-in help function.</p>"
   ]
  },
  {
   "cell_type": "code",
   "execution_count": null,
   "id": "8880ac6a-8aa8-4201-93c9-c63287ab442a",
   "metadata": {},
   "outputs": [],
   "source": [
    "help(TDDecisionForestPredict)"
   ]
  },
  {
   "cell_type": "code",
   "execution_count": null,
   "id": "b8756eb9-bf0a-4fd8-b787-e9cf10833ee8",
   "metadata": {},
   "outputs": [],
   "source": [
    "TDDecisionForestPredict_out = TDDecisionForestPredict(newdata=boston_test,\n",
    "                                                      object=DecisionForest_out,\n",
    "                                                      id_column=\"id\")\n",
    "\n",
    "# Print the result DataFrame.\n",
    "TDDecisionForestPredict_out.result"
   ]
  },
  {
   "cell_type": "markdown",
   "id": "151d5db4-29a9-49d9-8a61-d53f9627a294",
   "metadata": {},
   "source": [
    "<hr style=\"height:2px;border:none;\">\n",
    "<b style = 'font-size:20px;font-family:Arial'>3. Cleanup</b>"
   ]
  },
  {
   "cell_type": "markdown",
   "id": "a562f058-fb24-4966-a25d-f2960e6ddfb8",
   "metadata": {},
   "source": [
    "<hr style=\"height:1px;border:none;\">\n",
    "<p style = 'font-size:18px;font-family:Arial'> <b>Databases and Tables </b></p>\n",
    "<p style = 'font-size:16px;font-family:Arial'>The following code will clean up tables and databases created above.</p>"
   ]
  },
  {
   "cell_type": "code",
   "execution_count": null,
   "id": "e6b3935b-47c2-4a96-bec2-68106d172116",
   "metadata": {},
   "outputs": [],
   "source": [
    "db_drop_table(\"boston\")"
   ]
  },
  {
   "cell_type": "code",
   "execution_count": null,
   "id": "157fe3d4-4e0e-4d92-b343-9f758f3bf690",
   "metadata": {},
   "outputs": [],
   "source": [
    "remove_context()"
   ]
  },
  {
   "cell_type": "markdown",
   "id": "4317a6cf-1479-4aa8-b30a-ee0a3b5231a8",
   "metadata": {},
   "source": [
    "<hr style=\"height:1px;border:none;\">\n",
    "<p style = 'font-size:16px;font-family:Arial'><b>Links:</b></p>\n",
    "<ul style = 'font-size:16px;font-family:Arial'>\n",
    "    <li>Teradataml Python reference: <a href = 'https://docs.teradata.com/search/all?query=Python+Package+User+Guide&content-lang=en-US'>here</a></li>\n",
    "    <li>DecisionForest function reference: <a href = 'https://docs.teradata.com/search/all?query=DecisionForest&content-lang=en-US'>here</a></li>\n",
    "    <li>TDDecisionForestPredict function reference: <a href = 'https://docs.teradata.com/search/all?query=DecisionForestPredict&content-lang=en-US'>here</a></li>\n",
    "</ul>"
   ]
  },
  {
   "cell_type": "markdown",
   "id": "b2dcca28-5de5-44d7-88cb-45a12153b3f8",
   "metadata": {},
   "source": [
    "<footer style=\"padding-bottom:35px; border-bottom:3px solid #91A0Ab\">\n",
    "    <div style=\"float:left;margin-top:14px\">ClearScape Analytics™</div>\n",
    "    <div style=\"float:right;\">\n",
    "        <div style=\"float:left; margin-top:14px\">\n",
    "            Copyright © Teradata Corporation - 2025. All Rights Reserved\n",
    "        </div>\n",
    "    </div>\n",
    "</footer>"
   ]
  }
 ],
 "metadata": {
  "kernelspec": {
   "display_name": "Python 3 (ipykernel)",
   "language": "python",
   "name": "python3"
  },
  "language_info": {
   "codemirror_mode": {
    "name": "ipython",
    "version": 3
   },
   "file_extension": ".py",
   "mimetype": "text/x-python",
   "name": "python",
   "nbconvert_exporter": "python",
   "pygments_lexer": "ipython3",
   "version": "3.9.10"
  }
 },
 "nbformat": 4,
 "nbformat_minor": 5
}
