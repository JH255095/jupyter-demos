{
 "cells": [
  {
   "cell_type": "markdown",
   "id": "1c1269e8-c3c4-4e5b-8819-68a916a68c49",
   "metadata": {},
   "source": [
    "<header>\n",
    "   <p  style='font-size:36px;font-family:Arial; color:#F0F0F0; background-color: #00233c; padding-left: 20pt; padding-top: 20pt;padding-bottom: 10pt; padding-right: 20pt;'>\n",
    "       OneHotEncodingFit and OneHotEncodingTransform function in Vantage\n",
    "  <br>\n",
    "       <img id=\"teradata-logo\" src=\"https://storage.googleapis.com/clearscape_analytics_demo_data/DEMO_Logo/teradata.svg\" alt=\"Teradata\" style=\"width: 125px; height: auto; margin-top: 20pt;\">\n",
    "    </p>\n",
    "</header>"
   ]
  },
  {
   "cell_type": "markdown",
   "id": "7b503f99-37de-4b6a-8193-cc133bf5569d",
   "metadata": {},
   "source": [
    "<p style = 'font-size:20px;font-family:Arial;color:#00233C'><b>Introduction</b></p>\n",
    "<p style = 'font-size:16px;font-family:Arial;color:#00233C'>The OneHotEncodingFit function outputs a DataFrame of attributes and categorical values to input to OneHotEncodingTransform function, which encodes them as one-hot numeric vectors.\n",
    "Function encodes specified attributes and categorical values as one-hot numeric vectors,\n",
    "using OneHotEncodingFit function output.\n",
    "<br> In this notebook we will see how we can use the OneHotEncodingFit and OneHotEncodingTransform functions available in Vantage.</p>"
   ]
  },
  {
   "cell_type": "markdown",
   "id": "5bcd41e4-5b17-4cba-85b1-5ed9ecf21541",
   "metadata": {},
   "source": [
    "<hr style=\"height:2px;border:none;background-color:#00233C;\">\n",
    "<b style = 'font-size:20px;font-family:Arial;color:#00233C'>1. Initiate a connection to Vantage</b>"
   ]
  },
  {
   "cell_type": "code",
   "execution_count": null,
   "id": "caad31a5-fcf6-4050-9884-2bc1c5e3d853",
   "metadata": {},
   "outputs": [],
   "source": [
    "from teradataml import *\n",
    "\n",
    "# Modify the following to match the specific client environment settings\n",
    "display.max_rows = 5"
   ]
  },
  {
   "cell_type": "markdown",
   "id": "33cdfc8e-0405-4c57-8be2-d21abe367f13",
   "metadata": {},
   "source": [
    "<hr style=\"height:1px;border:none;background-color:#00233C;\">\n",
    "<p style = 'font-size:18px;font-family:Arial;color:#00233c'><b>1.1 Connect to Vantage</b></p>\n",
    "<p style = 'font-size:16px;font-family:Arial;color:#00233C'>You will be prompted to provide the password. Enter your password, press the Enter key, and then use the down arrow to go to the next cell.</p>"
   ]
  },
  {
   "cell_type": "code",
   "execution_count": null,
   "id": "226f9d25-3161-4b43-9d00-dd46b7228502",
   "metadata": {},
   "outputs": [],
   "source": [
    "%run -i ../../UseCases/startup.ipynb\n",
    "eng = create_context(host = 'host.docker.internal', username='demo_user', password = password)\n",
    "print(eng)"
   ]
  },
  {
   "cell_type": "code",
   "execution_count": null,
   "id": "a15078db-9013-47c5-98ae-1199f470d5f5",
   "metadata": {},
   "outputs": [],
   "source": [
    "%%capture\n",
    "execute_sql('''SET query_band='DEMO=PP_OneHotEncodingFitandTransform_Python.ipynb;' UPDATE FOR SESSION; ''')"
   ]
  },
  {
   "cell_type": "markdown",
   "id": "e24fb964-855f-4e09-8671-8717f1012848",
   "metadata": {},
   "source": [
    "<p style = 'font-size:16px;font-family:Arial;color:#00233C'>Begin running steps with Shift + Enter keys. </p>"
   ]
  },
  {
   "cell_type": "markdown",
   "id": "b36830d0-3789-4d94-a623-3770e2424884",
   "metadata": {},
   "source": [
    "<hr style='height:1px;border:none;background-color:#00233C;'>\n",
    "\n",
    "<p style = 'font-size:18px;font-family:Arial;color:#00233c'><b>1.2 Getting Data for This Demo</b></p>\n",
    "\n",
    "<p style = 'font-size:16px;font-family:Arial;color:#00233C'>We have provided data for this demo on cloud storage. You can either run the demo using foreign tables to access the data without any storage on your environment or download the data to local storage, which may yield faster execution. Still, there could be considerations of available storage. Two statements are in the following cell, and one is commented out. You may switch which mode you choose by changing the comment string.</p>"
   ]
  },
  {
   "cell_type": "code",
   "execution_count": null,
   "id": "01250c0d-3cb0-4ccf-9517-53d62bd95553",
   "metadata": {},
   "outputs": [],
   "source": [
    "%run -i ../../UseCases/run_procedure.py \"call get_data('DEMO_BankChurn_cloud');\"        # Takes 30 seconds\n",
    "#%run -i ../../UseCases/run_procedure.py \"call get_data('DEMO_BankChurn_local');\" "
   ]
  },
  {
   "cell_type": "markdown",
   "id": "7ae2e940-89f6-4dc1-a932-4064a9883f38",
   "metadata": {},
   "source": [
    "<p style = 'font-size:16px;font-family:Arial;color:#00233C'>Next is an optional step – if you want to see the status of databases/tables created and space used.</p>"
   ]
  },
  {
   "cell_type": "code",
   "execution_count": null,
   "id": "dcb28225-a057-4e91-9437-86cd500f286b",
   "metadata": {},
   "outputs": [],
   "source": [
    "%run -i ../../UseCases/run_procedure.py \"call space_report();\"        # Takes 10 seconds"
   ]
  },
  {
   "cell_type": "markdown",
   "id": "a0f8dda5-a7a2-4aab-aba7-fc1df3cdeed9",
   "metadata": {},
   "source": [
    "<hr style=\"height:2px;border:none;background-color:#00233C;\">\n",
    "<b style = 'font-size:20px;font-family:Arial;color:#00233C'>2. Data Exploration</b>\n",
    "<p style = 'font-size:16px;font-family:Arial;color:#00233C'>Create a \"Virtual DataFrame\" that points to the data set in Vantage. Check the shape of the dataframe as check the datatype of all the columns of the dataframe.</p>"
   ]
  },
  {
   "cell_type": "code",
   "execution_count": null,
   "id": "0a9cc66c-24be-4e33-bafb-cd80cd61cec0",
   "metadata": {},
   "outputs": [],
   "source": [
    "tdf = DataFrame(in_schema(\"DEMO_BankChurn\", \"customer_churn\"))\n",
    "print(\"Shape of the data: \", tdf.shape)\n",
    "tdf"
   ]
  },
  {
   "cell_type": "code",
   "execution_count": null,
   "id": "eec54dd1-e871-477c-878e-fa8ede148905",
   "metadata": {},
   "outputs": [],
   "source": [
    "tdf.tdtypes"
   ]
  },
  {
   "cell_type": "markdown",
   "id": "3678b8fa-c9c3-4710-8a28-f93f857a322b",
   "metadata": {},
   "source": [
    "<p style = 'font-size:16px;font-family:Arial;color:#00233C'>A bank wants to analyze whether gender influences customer churn. \n",
    "Since \"Gender\" is a categorical variable (Male/Female), we need to convert it into a numerical form using One-Hot Encoding.\n",
    "</p>"
   ]
  },
  {
   "cell_type": "code",
   "execution_count": null,
   "id": "1fef2397-cdb2-49d0-a32e-edada35fb0b5",
   "metadata": {},
   "outputs": [],
   "source": [
    "help(OneHotEncodingFit)"
   ]
  },
  {
   "cell_type": "code",
   "execution_count": null,
   "id": "51b4451b-86ad-4101-a545-9c9ba1b6a404",
   "metadata": {},
   "outputs": [],
   "source": [
    "# Fit One-Hot Encoding model for the 'Gender' column\n",
    "fit_result = OneHotEncodingFit(data=tdf,\n",
    "                               is_input_dense=True,\n",
    "                               target_column=\"Gender\",\n",
    "                               categorical_values=[\"Male\", \"Female\"])"
   ]
  },
  {
   "cell_type": "markdown",
   "id": "eb39960d-058b-4107-b045-74631d815f2d",
   "metadata": {},
   "source": [
    "<p style = 'font-size:16px;font-family:Arial;color:#00233C'>Transform the Data using the Fitted Encoding\n",
    "</p>"
   ]
  },
  {
   "cell_type": "code",
   "execution_count": null,
   "id": "3e50fd89-cfa1-424e-a84c-cdc0a115baa8",
   "metadata": {},
   "outputs": [],
   "source": [
    "help(OneHotEncodingTransform)"
   ]
  },
  {
   "cell_type": "code",
   "execution_count": null,
   "id": "7e1974fc-e593-40f1-9c34-4eab89f99422",
   "metadata": {},
   "outputs": [],
   "source": [
    "# Applying OneHotEncodingTransform\n",
    "transformed_data = OneHotEncodingTransform(data=tdf,\n",
    "                                           object=fit_result.result,\n",
    "                                           is_input_dense=True)"
   ]
  },
  {
   "cell_type": "markdown",
   "id": "bbcb905a-ea8a-422a-85ee-504412c0312b",
   "metadata": {},
   "source": [
    "<p style = 'font-size:16px;font-family:Arial;color:#00233C'>The Gender column is now split into Gender_Male, Gender_Female and Gender_other columns.\n",
    "</p>"
   ]
  },
  {
   "cell_type": "code",
   "execution_count": null,
   "id": "7d5f10e1-af75-4beb-b45a-79cf2564debe",
   "metadata": {},
   "outputs": [],
   "source": [
    "# Print the transformed DataFrame\n",
    "transformed_data.result"
   ]
  },
  {
   "cell_type": "markdown",
   "id": "3cc21fb6-6d66-48d8-8c0e-8668a836dce6",
   "metadata": {},
   "source": [
    "<hr style=\"height:2px;border:none;background-color:#00233C;\">\n",
    "<b style = 'font-size:20px;font-family:Arial;color:#00233C'>3. Cleanup</b>"
   ]
  },
  {
   "cell_type": "markdown",
   "id": "b63d23ba-abe2-451f-9495-80c3c9b3b3a2",
   "metadata": {},
   "source": [
    "<hr style=\"height:1px;border:none;background-color:#00233C;\">\n",
    "<p style = 'font-size:18px;font-family:Arial;color:#00233C'> <b>Databases and Tables </b></p>\n",
    "<p style = 'font-size:16px;font-family:Arial;color:#00233C'>The following code will clean up tables and databases created above.</p>"
   ]
  },
  {
   "cell_type": "code",
   "execution_count": null,
   "id": "e9095298-2bd2-4b58-bf23-ad41b970e8e0",
   "metadata": {},
   "outputs": [],
   "source": [
    "%run -i ../../UseCases/run_procedure.py \"call remove_data('DEMO_BankChurn');\"        # Takes 10 seconds"
   ]
  },
  {
   "cell_type": "code",
   "execution_count": null,
   "id": "96833a85-ca7a-4a81-887b-258fc6e66cc2",
   "metadata": {},
   "outputs": [],
   "source": [
    "remove_context()"
   ]
  },
  {
   "cell_type": "markdown",
   "id": "973b7c52-66dd-4982-844c-d2856f7f0db3",
   "metadata": {},
   "source": [
    "<hr style=\"height:1px;border:none;background-color:#00233C;\">\n",
    "<b style = 'font-size:18px;font-family:Arial;color:#00233C'>Dataset:</b>\n",
    "\n",
    "- `RowNumber`: Row index\n",
    "- `CustomerId`: Unique customer ID\n",
    "- `Surname`: Customer's surname\n",
    "- `CreditScore`: Credit score of the customer\n",
    "- `Geography`: Country (Germany / France / Spain)\n",
    "- `Gender`: Gender (Male / Female)\n",
    "- `Age`: Age of the customer\n",
    "- `Tenure`: Number of years the customer has been associated with the bank\n",
    "- `Balance`: Account balance\n",
    "- `NumOfProducts`: Number of bank products used\n",
    "- `HasCrCard`: Credit card status (0 = No, 1 = Yes)\n",
    "- `IsActiveMember`: Active membership status (0 = No, 1 = Yes)\n",
    "- `EstimatedSalary`: Estimated salary of the customer\n",
    "- `Exited`: Customer churn status (0 = No, 1 = Yes)\n",
    "\n",
    "<p style = 'font-size:16px;font-family:Arial;color:#00233C'><b>Links:</b></p>\n",
    "<ul style = 'font-size:16px;font-family:Arial'>\n",
    "    <li>Teradataml Python reference: <a href = 'https://docs.teradata.com/search/all?query=Python+Package+User+Guide&content-lang=en-US'>here</a></li>\n",
    "    <li>OneHotEncodingFit function reference: <a href = 'https://docs.teradata.com/search/all?query=OneHotEncodingFit&value-filters=prodname~%2522Teradata+Package+for+Python%2522*vrm_release~%252220.00.00.03%2522&content-lang=en-US'>here</a></li>\n",
    "    <li>OneHotEncodingTransform function reference: <a href = 'https://docs.teradata.com/search/all?query=OneHotEncodingTransform&value-filters=prodname~%2522Teradata+Package+for+Python%2522*vrm_release~%252220.00.00.03%2522&content-lang=en-US'>here</a></li></li>\n",
    "</ul>"
   ]
  },
  {
   "cell_type": "markdown",
   "id": "8b9afcbd-271c-4894-a356-ffe750909cb1",
   "metadata": {},
   "source": [
    "<footer style=\"padding-bottom:35px; background:#f9f9f9; border-bottom:3px solid #00233C\">\n",
    "    <div style=\"float:left;margin-top:14px\">ClearScape Analytics™</div>\n",
    "    <div style=\"float:right;\">\n",
    "        <div style=\"float:left; margin-top:14px\">\n",
    "            Copyright © Teradata Corporation - 2025. All Rights Reserved\n",
    "        </div>\n",
    "    </div>\n",
    "</footer>"
   ]
  }
 ],
 "metadata": {
  "kernelspec": {
   "display_name": "Python 3 (ipykernel)",
   "language": "python",
   "name": "python3"
  },
  "language_info": {
   "codemirror_mode": {
    "name": "ipython",
    "version": 3
   },
   "file_extension": ".py",
   "mimetype": "text/x-python",
   "name": "python",
   "nbconvert_exporter": "python",
   "pygments_lexer": "ipython3",
   "version": "3.9.10"
  }
 },
 "nbformat": 4,
 "nbformat_minor": 5
}
