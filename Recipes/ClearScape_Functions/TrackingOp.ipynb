{
 "cells": [
  {
   "cell_type": "markdown",
   "id": "bc549e6c-0cc4-4188-94a3-a9bdd3ae3dfa",
   "metadata": {},
   "source": [
    "<header>\n",
    "   <p  style='font-size:36px;font-family:Arial; color:#F0F0F0; background-color: #00233c; padding-left: 20pt; padding-top: 20pt;padding-bottom: 10pt; padding-right: 20pt;'>\n",
    "       TrackingOp function in Vantage\n",
    "  <br>\n",
    "       <img id=\"teradata-logo\" src=\"https://storage.googleapis.com/clearscape_analytics_demo_data/DEMO_Logo/teradata.svg\" alt=\"Teradata\" style=\"width: 125px; height: auto; margin-top: 20pt;\">\n",
    "    </p>\n",
    "</header>"
   ]
  },
  {
   "cell_type": "markdown",
   "id": "7ae7611a-0795-4168-b716-01fee6880cbd",
   "metadata": {},
   "source": [
    "<p style = 'font-size:20px;font-family:Arial'><b>Introduction</b></p>\n",
    "\n",
    "<p style = 'font-size:20px;font-family:Arial'><b>TrackingOp</b></p>\n",
    "<p style = 'font-size:16px;font-family:Arial'>TrackingOp() is a multidimensional function for geospatial data. The function utilizes geospatial coordinates to track an object's movement and calculate metrics related to it. It is used for tracking vehicles, ships, and individuals. By utilizing location-based technologies, it provides accurate and real-time information about an object's position, speed, direction, and so on.</p>\n",
    "\n",
    "<p style = 'font-size:16px;font-family:Arial'>TrackingOp helps users to optimize their resources by providing insights into the movements of their assets. For example, by tracking the movement of a fleet of vehicles, a logistics company can identify the most efficient routes, optimize delivery schedules, and reduce fuel consumption. Similarly, a shipping company can use TrackingOp to monitor the movement of its vessels, ensure compliance with regulations, and improve safety.</p>\n",
    "\n"
   ]
  },
  {
   "cell_type": "markdown",
   "id": "6b3a00b4-6661-4c91-9b2d-cb7b0b403140",
   "metadata": {},
   "source": [
    "<hr style=\"height:2px;border:none;\">\n",
    "<b style = 'font-size:20px;font-family:Arial'>1. Initiate a connection to Vantage</b>"
   ]
  },
  {
   "cell_type": "markdown",
   "id": "2346857f-e0d3-488a-8a3f-ac6dff752c2b",
   "metadata": {},
   "source": [
    "<p style = 'font-size:16px;font-family:Arial'>In the section, we import the required libraries and set environment variables and environment paths (if required)."
   ]
  },
  {
   "cell_type": "code",
   "execution_count": null,
   "id": "c5af5af3-29d5-4f6a-8334-9df6924e7787",
   "metadata": {},
   "outputs": [],
   "source": [
    "from teradataml import (\n",
    "    create_context,\n",
    "    execute_sql,\n",
    "    load_example_data,\n",
    "    DataFrame,\n",
    "    in_schema,\n",
    "    TDSeries,\n",
    "    TrackingOp,\n",
    "    remove_context,\n",
    "    copy_to_sql,\n",
    "    db_drop_table\n",
    "    )\n",
    "\n",
    "from teradatasqlalchemy.types import *\n",
    "\n",
    "from teradataml import to_numeric\n",
    "# Modify the following to match the specific client environment settings\n",
    "display.max_rows = 5"
   ]
  },
  {
   "cell_type": "markdown",
   "id": "ad3dd7b4-831c-4fb3-ab71-719c8c99a71c",
   "metadata": {},
   "source": [
    "<hr style=\"height:1px;border:none;\">\n",
    "<p style = 'font-size:18px;font-family:Arial'><b>1.1 Connect to Vantage</b></p>\n",
    "<p style = 'font-size:16px;font-family:Arial'>You will be prompted to provide the password. Enter your password, press the Enter key, and then use the down arrow to go to the next cell.</p>"
   ]
  },
  {
   "cell_type": "code",
   "execution_count": null,
   "id": "2742444c-4349-4b0f-b4e5-b068a8785cd9",
   "metadata": {},
   "outputs": [],
   "source": [
    "%run -i ../../UseCases/startup.ipynb\n",
    "eng = create_context(host = 'host.docker.internal', username='demo_user', password = password)\n",
    "print(eng)"
   ]
  },
  {
   "cell_type": "code",
   "execution_count": null,
   "id": "01c4a128-d106-46ea-8dee-34acc5abd29f",
   "metadata": {},
   "outputs": [],
   "source": [
    "%%capture\n",
    "execute_sql('''SET query_band='DEMO=PP_TrackingOp.ipynb;' UPDATE FOR SESSION; ''')"
   ]
  },
  {
   "cell_type": "markdown",
   "id": "efe2fd2d-63ff-4278-9157-8b9110d682e8",
   "metadata": {},
   "source": [
    "<p style = 'font-size:16px;font-family:Arial'>Begin running steps with Shift + Enter keys. </p>"
   ]
  },
  {
   "cell_type": "markdown",
   "id": "4a6e3852-3b15-4cbd-844d-e7194b3bd204",
   "metadata": {},
   "source": [
    "<hr style='height:1px;border:none;'>\n",
    "\n",
    "<p style = 'font-size:18px;font-family:Arial'><b>1.2 Getting Data for This Demo</b></p>\n",
    "\n",
    "<p style = 'font-size:16px;font-family:Arial'>Here, we will get the time series data which is available in the teradataml library and use the same to show the usage of the function.</p>"
   ]
  },
  {
   "cell_type": "code",
   "execution_count": null,
   "id": "398fa0aa-c0df-4130-9dea-53b776fbaf80",
   "metadata": {},
   "outputs": [],
   "source": [
    "load_example_data(\"uaf\", \"train_tracking\")"
   ]
  },
  {
   "cell_type": "markdown",
   "id": "2a3762ac-ba27-4fa3-adba-d577262a4290",
   "metadata": {},
   "source": [
    "<hr style=\"height:2px;border:none;\">\n",
    "<b style = 'font-size:20px;font-family:Arial'>2. Data Exploration</b>\n",
    "<p style = 'font-size:16px;font-family:Arial'>Create a \"Virtual DataFrame\" that points to the data set in Vantage. Check the shape of the dataframe as check the datatype of all the columns of the dataframe.</p>"
   ]
  },
  {
   "cell_type": "code",
   "execution_count": null,
   "id": "9672d80d-cdcc-4f4c-9399-7c367e7970b1",
   "metadata": {},
   "outputs": [],
   "source": [
    "data = DataFrame.from_table(\"train_tracking\")\n",
    "data"
   ]
  },
  {
   "cell_type": "markdown",
   "id": "8d4d2f81-2853-4e28-b60f-2c69b2d0ba5c",
   "metadata": {},
   "source": [
    "<hr style=\"height:2px;border:none;\">\n",
    "<b style = 'font-size:20px;font-family:Arial'>3. TrackingOp</b>\n",
    "<p style = 'font-size:16px;font-family:Arial'>TrackingOp() calculates total distance, minimum, maximum and average speed, trip_time and run_time for the train.</p>"
   ]
  },
  {
   "cell_type": "markdown",
   "id": "8ab6c906-4c36-4150-b97a-3c4ab59d14ab",
   "metadata": {},
   "source": [
    "<p style = 'font-size:16px;font-family:Arial'>Detailed help can be found by passing function name to built-in help function. </p>"
   ]
  },
  {
   "cell_type": "code",
   "execution_count": null,
   "id": "57fa2c26-3593-4eaa-af62-585254216d31",
   "metadata": {},
   "outputs": [],
   "source": [
    "help(TrackingOp)"
   ]
  },
  {
   "cell_type": "markdown",
   "id": "f30ce305-a62d-459f-b989-22bdf3d5064b",
   "metadata": {},
   "source": [
    "<p style = 'font-size:16px;font-family:Arial'>The first step is to convert the data into TDSeries, which is required for the input time series which are passed to the TrackingOp function.</p>"
   ]
  },
  {
   "cell_type": "code",
   "execution_count": null,
   "id": "a711f58c-fbd3-4457-9f6a-9cd5c1b192dc",
   "metadata": {},
   "outputs": [],
   "source": [
    "data_series_df = TDSeries(data=data,\n",
    "                              id=[\"train_id\", \"schedule_date\"],\n",
    "                              row_index=\"arrival_time\",\n",
    "                              row_index_style=\"TIMECODE\",\n",
    "                              payload_field=[\"arrival_time\", \"departure_time\", \"geo_tag\"],\n",
    "                              payload_content=\"MULTIVAR_ANYTYPE\")"
   ]
  },
  {
   "cell_type": "code",
   "execution_count": null,
   "id": "8965392c-404e-4e25-b5b8-c7ef06069154",
   "metadata": {},
   "outputs": [],
   "source": [
    "uaf_out = TrackingOp(data=data_series_df,\n",
    "                         distance=True,\n",
    "                         speed=True,\n",
    "                         time_spent=True,\n",
    "                         metric=True)\n",
    "\n",
    "uaf_out.result"
   ]
  },
  {
   "cell_type": "markdown",
   "id": "c25fdaf1-098b-4dea-984b-579c6412557e",
   "metadata": {},
   "source": [
    "<hr style=\"height:2px;border:none;\">\n",
    "<b style = 'font-size:20px;font-family:Arial'>4. Cleanup</b>"
   ]
  },
  {
   "cell_type": "markdown",
   "id": "a5d460af-1a32-4681-8094-360c3f25dc1f",
   "metadata": {},
   "source": [
    "<p style = 'font-size:18px;font-family:Arial'><b>Work Tables</b></p>\n",
    "<p style = 'font-size:16px;font-family:Arial'>The following code will clean up tables created above.</p>"
   ]
  },
  {
   "cell_type": "code",
   "execution_count": null,
   "id": "9dff9677-dae1-4cc5-b78e-3d197cc41e0c",
   "metadata": {},
   "outputs": [],
   "source": [
    "db_drop_table(\"train_tracking\")"
   ]
  },
  {
   "cell_type": "code",
   "execution_count": null,
   "id": "9b96168c-7973-4259-b3e0-668b92fd846e",
   "metadata": {},
   "outputs": [],
   "source": [
    "remove_context()"
   ]
  },
  {
   "cell_type": "markdown",
   "id": "4317a6cf-1479-4aa8-b30a-ee0a3b5231a8",
   "metadata": {},
   "source": [
    "<hr style=\"height:1px;border:none;\">\n",
    "\n",
    "<p style = 'font-size:16px;font-family:Arial'><b>Links:</b></p>\n",
    "<ul style = 'font-size:16px;font-family:Arial'>\n",
    "    <li>Teradataml Python reference: <a href = 'https://docs.teradata.com/search/all?query=Python+Package+User+Guide&content-lang=en-US'>here</a></li>\n",
    "    <li>TrackingOp function reference: <a href = 'https://docs.teradata.com/search/all?query=TrackingOp&content-lang=en-US'>here</a></li>\n",
    "    \n",
    "</ul>"
   ]
  },
  {
   "cell_type": "markdown",
   "id": "b2dcca28-5de5-44d7-88cb-45a12153b3f8",
   "metadata": {},
   "source": [
    "<footer style=\"padding-bottom:35px; border-bottom:3px solid #91A0Ab\">\n",
    "    <div style=\"float:left;margin-top:14px\">ClearScape Analytics™</div>\n",
    "    <div style=\"float:right;\">\n",
    "        <div style=\"float:left; margin-top:14px\">\n",
    "            Copyright © Teradata Corporation - 2025. All Rights Reserved\n",
    "        </div>\n",
    "    </div>\n",
    "</footer>"
   ]
  }
 ],
 "metadata": {
  "kernelspec": {
   "display_name": "Python 3 (ipykernel)",
   "language": "python",
   "name": "python3"
  },
  "language_info": {
   "codemirror_mode": {
    "name": "ipython",
    "version": 3
   },
   "file_extension": ".py",
   "mimetype": "text/x-python",
   "name": "python",
   "nbconvert_exporter": "python",
   "pygments_lexer": "ipython3",
   "version": "3.9.10"
  }
 },
 "nbformat": 4,
 "nbformat_minor": 5
}
