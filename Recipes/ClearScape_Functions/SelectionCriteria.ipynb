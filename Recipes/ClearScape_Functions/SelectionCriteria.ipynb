{
 "cells": [
  {
   "cell_type": "markdown",
   "id": "bc549e6c-0cc4-4188-94a3-a9bdd3ae3dfa",
   "metadata": {},
   "source": [
    "<header>\n",
    "   <p  style='font-size:36px;font-family:Arial; color:#F0F0F0; background-color: #00233c; padding-left: 20pt; padding-top: 20pt;padding-bottom: 10pt; padding-right: 20pt;'>\n",
    "       SelectionCriteria Function in Vantage\n",
    "  <br>\n",
    "       <img id=\"teradata-logo\" src=\"https://storage.googleapis.com/clearscape_analytics_demo_data/DEMO_Logo/teradata.svg\" alt=\"Teradata\" style=\"width: 125px; height: auto; margin-top: 20pt;\">\n",
    "    </p>\n",
    "</header>"
   ]
  },
  {
   "cell_type": "markdown",
   "id": "7ae7611a-0795-4168-b716-01fee6880cbd",
   "metadata": {},
   "source": [
    "<p style = 'font-size:20px;font-family:Arial'><b>Introduction</b></p>\n",
    "<p style = 'font-size:18px;font-family:Arial'><b>SelectionCriteria</b></p>\n",
    "<p style = 'font-size:16px;font-family:Arial'>The SelectionCriteria() computes a series of model selection metrics to assist a data scientist in selecting the best model.</p>\n",
    "\n",
    "<p style = 'font-size:16px;font-family:Arial'>Model selection is the process of choosing the best algorithm or model from a set of candidate models for a given dataset. It is done by comparing various model candidates on evaluation metrics calculated on an evaluation schema. Model selection is a critical step to determine the accuracy and effectiveness for predicting or classifying new data. The goal of model selection is to find a model that generalizes well on unseen data, rather than just fitting well to the training data.</p>\n",
    "\n",
    "<p style = 'font-size:16px;font-family:Arial'>The model selection metrics are:</p>\n",
    "\n",
    "<li style = 'font-size:16px;font-family:Arial'><code>Akaike Information Criteria (AIC):</code> Test how well your model fits the data set without over-fitting it. An AIC score is compared with the AIC score of a competing model. A model with a lower AIC score is expected to have balance between its ability to fit the data set and its ability to avoid over-fitting the data set.</li>\n",
    "<li style = 'font-size:16px;font-family:Arial'><code>Schwarz Bayesian Information Criteria (SBIC):</code> Quantify and select the least complex probability model among options. This approach ignores the prior probability and instead compares the efficiencies of different models at predicting outcomes. That efficiency is measured by an index of each model’s parameters using a likelihood function, and then applying a penalizing function for models with more parameters.</li>\n",
    "<li style = 'font-size:16px;font-family:Arial'><code>Hannan Quinn Information Criteria (HQIC):</code> Measure of the goodness-of-fit of a statistical model, and is often used as a criterion for model selection among a finite set of models. It is related to Akaike's information criterion. Like AIC, the HQIC has a penalty for the number of parameters in the model, but the HQIC penalty is larger than the AIC penalty.</li>\n",
    "<li style = 'font-size:16px;font-family:Arial'><code>Maximum Likelihood Rule (MLR):</code> Determine values for the model parameters. The parameter values are such that they maximize the likelihood that the process described by the model produced the data that was observed.</li>\n",
    "<li style = 'font-size:16px;font-family:Arial'><code>Mean Squared Error (MSE):</code> Measure the amount of error in statistical models. It assesses the average squared difference between the observed and predicted values. When a model has no error, the MSE equals zero. As model error increases, its MSE value increases. The MSE is also known as Mean Squared Deviation (MSD).</li>\n",
    "\n"
   ]
  },
  {
   "cell_type": "markdown",
   "id": "6b3a00b4-6661-4c91-9b2d-cb7b0b403140",
   "metadata": {},
   "source": [
    "<hr style=\"height:2px;border:none;\">\n",
    "<b style = 'font-size:20px;font-family:Arial'>1. Initiate a connection to Vantage</b>"
   ]
  },
  {
   "cell_type": "markdown",
   "id": "2346857f-e0d3-488a-8a3f-ac6dff752c2b",
   "metadata": {},
   "source": [
    "<p style = 'font-size:16px;font-family:Arial'>In the section, we import the required libraries and set environment variables and environment paths (if required)."
   ]
  },
  {
   "cell_type": "code",
   "execution_count": null,
   "id": "c5af5af3-29d5-4f6a-8334-9df6924e7787",
   "metadata": {},
   "outputs": [],
   "source": [
    "from teradataml import (\n",
    "    create_context,\n",
    "    execute_sql,\n",
    "    load_example_data,\n",
    "    DataFrame, \n",
    "    in_schema,\n",
    "    TDSeries,\n",
    "    TDAnalyticResult,\n",
    "    ArimaEstimate,\n",
    "    ArimaValidate,\n",
    "    SelectionCriteria,\n",
    "    Figure,\n",
    "    plot,\n",
    "    db_drop_table,\n",
    "    db_drop_view,\n",
    "    remove_context\n",
    "    )\n",
    "\n",
    "# Modify the following to match the specific client environment settings\n",
    "display.max_rows = 5"
   ]
  },
  {
   "cell_type": "markdown",
   "id": "ad3dd7b4-831c-4fb3-ab71-719c8c99a71c",
   "metadata": {},
   "source": [
    "<hr style=\"height:1px;border:none;\">\n",
    "<p style = 'font-size:18px;font-family:Arial'><b>1.1 Connect to Vantage</b></p>\n",
    "<p style = 'font-size:16px;font-family:Arial'>You will be prompted to provide the password. Enter your password, press the Enter key, and then use the down arrow to go to the next cell.</p>"
   ]
  },
  {
   "cell_type": "code",
   "execution_count": null,
   "id": "2742444c-4349-4b0f-b4e5-b068a8785cd9",
   "metadata": {},
   "outputs": [],
   "source": [
    "%run -i ../../UseCases/startup.ipynb\n",
    "eng = create_context(host = 'host.docker.internal', username='demo_user', password = password)\n",
    "print(eng)"
   ]
  },
  {
   "cell_type": "code",
   "execution_count": null,
   "id": "01c4a128-d106-46ea-8dee-34acc5abd29f",
   "metadata": {},
   "outputs": [],
   "source": [
    "%%capture\n",
    "execute_sql('''SET query_band='DEMO=PP_SelectionCriteria.ipynb;' UPDATE FOR SESSION; ''')"
   ]
  },
  {
   "cell_type": "markdown",
   "id": "efe2fd2d-63ff-4278-9157-8b9110d682e8",
   "metadata": {},
   "source": [
    "<p style = 'font-size:16px;font-family:Arial'>Begin running steps with Shift + Enter keys. </p>"
   ]
  },
  {
   "cell_type": "markdown",
   "id": "60882f80-eab2-489d-a0d2-5d12ab678b12",
   "metadata": {},
   "source": [
    "<hr style='height:1px;border:none;'>\n",
    "\n",
    "<p style = 'font-size:18px;font-family:Arial'><b>1.2 Getting Data for This Demo</b></p>\n",
    "\n",
    "<p style = 'font-size:16px;font-family:Arial'>We have provided data for this demo on cloud storage. You can either run the demo using foreign tables to access the data without any storage on your environment or download the data to local storage, which may yield faster execution. Still, there could be considerations of available storage. Two statements are in the following cell, and one is commented out. You may switch which mode you choose by changing the comment string.</p>"
   ]
  },
  {
   "cell_type": "code",
   "execution_count": null,
   "id": "5ffb2350-1ebd-4109-88c6-72b33dfd750b",
   "metadata": {},
   "outputs": [],
   "source": [
    "%run -i ../../UseCases/run_procedure.py \"call get_data('DEMO_SalesForecasting_local');\"       # Takes 70 seconds"
   ]
  },
  {
   "cell_type": "markdown",
   "id": "098f7a1f-30e4-45d9-adaf-aa1b40c00b37",
   "metadata": {},
   "source": [
    "<p style = 'font-size:16px;font-family:Arial'>Next is an optional step – if you want to see the status of databases/tables created and space used.</p>"
   ]
  },
  {
   "cell_type": "code",
   "execution_count": null,
   "id": "f5dd4e61-0887-475e-a26a-ed856841a1d1",
   "metadata": {},
   "outputs": [],
   "source": [
    "%run -i ../../UseCases/run_procedure.py \"call space_report();\"        # Takes 10 seconds"
   ]
  },
  {
   "cell_type": "markdown",
   "id": "d5716c9e-2ea9-480a-ab5d-5ce0c9e1ee07",
   "metadata": {},
   "source": [
    "<hr style=\"height:2px;border:none;\">\n",
    "<b style = 'font-size:20px;font-family:Arial'>2. Preparing Dataset</b>\n",
    "<li style = 'font-size:16px;font-family:Arial'>Weekly_Sales is our variable of interest.</li>\n",
    "<li style = 'font-size:16px;font-family:Arial'>Type, Size, Temperature, isHoliday, Fuel_Price, MarkDown1, MarkDown2, MarkDown3, MarkDown4, MarkDown4 are exogenous variables.</li>\n",
    "<p style = 'font-size:16px;font-family:Arial'>We prepare the dataset by creating a view by joining data from Weekly Sales, Stores and features. The view is created using SQL to reduce the number of steps to join and data preocessing which gets used in further steps..</p>"
   ]
  },
  {
   "cell_type": "code",
   "execution_count": null,
   "id": "29e09b48-0662-441b-8c69-346559fbe788",
   "metadata": {},
   "outputs": [],
   "source": [
    "query2='''REPLACE VIEW Weekly_Sales_Details AS\n",
    "SELECT\n",
    "    w.Sales_date AS times,\n",
    "    CAST('2012-02-03' AS DATE) AS cutoff_date,\n",
    "    w.Dept,\n",
    "    w.Store,\n",
    "    CAST(w.Sales_Date AS TIMESTAMP) AS Sales_Date,\n",
    "    ZEROIFNULL(Weekly_Sales) AS Weekly_Sales,\n",
    "    ZEROIFNULL(Store_Size) AS Store_Size,\n",
    "    Store_Type AS Store_Type,\n",
    "    w.IsHoliday,\n",
    "    ZEROIFNULL(Temperature) AS Temperature,\n",
    "    ZEROIFNULL(MarkDown1) AS MarkDown1,\n",
    "    ZEROIFNULL(MarkDown2) AS MarkDown2,\n",
    "    ZEROIFNULL(MarkDown3) AS MarkDown3,\n",
    "    ZEROIFNULL(MarkDown4) AS MarkDown4,\n",
    "    ZEROIFNULL(MarkDown5) AS MarkDown5,\n",
    "    ZEROIFNULL(CPI) AS CPI,\n",
    "    ZEROIFNULL(Unemployment) AS Unemployment,\n",
    "    ZEROIFNULL(Fuel_Price) AS Fuel_Price,\n",
    "    CAST(TRIM(w.Dept) || TRIM(w.Store) AS INT) AS idcols\n",
    "FROM\n",
    "    Demo_SalesForecasting.Weekly_Sales w\n",
    "LEFT JOIN\n",
    "    Demo_SalesForecasting.Stores s ON w.Store = s.Store\n",
    "LEFT JOIN\n",
    "    Demo_SalesForecasting.Features f ON w.Store = f.store AND w.Sales_Date = f.Sales_Date\n",
    "WHERE\n",
    "    w.Store IN (20, 4);\n",
    "'''\n",
    "\n",
    "execute_sql(query2)\n",
    "modeldf=DataFrame.from_query('select * from Weekly_Sales_Details;')"
   ]
  },
  {
   "cell_type": "code",
   "execution_count": null,
   "id": "a6ae98f8-ccb4-45ad-bc44-f21e4227b29b",
   "metadata": {},
   "outputs": [],
   "source": [
    "dfacheck = modeldf.groupby([\"idcols\"])\n",
    "dfacheck=dfacheck.count().select([\"idcols\",\"count_Sales_Date\"])\n",
    "\n",
    "dfa4=modeldf.join(dfacheck, on = 'idcols', how = \"left\", lsuffix = 't1', rsuffix = 't2').drop(['idcols_t2'],axis=1)\n",
    "dfa4=dfa4.assign(idcols = dfa4['idcols_t1'])\n",
    "dfa4=dfa4.drop(['idcols_t1'],axis=1)\n",
    "\n",
    "# filter out incomplete time series \n",
    "\n",
    "modeldf1 = dfa4[dfa4.count_Sales_Date == 143]\n",
    "modeldf1.shape"
   ]
  },
  {
   "cell_type": "markdown",
   "id": "89fc6810-4e04-4924-8707-9c76b744f14f",
   "metadata": {},
   "source": [
    "<hr style=\"height:2px;border:none;\">\n",
    "<b style = 'font-size:20px;font-family:Arial'>3. SelectionCriteria</b>\n",
    "<p style = 'font-size:16px;font-family:Arial'>The SelectionCriteria() function calculates metrics to help\n",
    "    determine the users for an forecast modeling project.</p>\n"
   ]
  },
  {
   "cell_type": "markdown",
   "id": "69569645-5f0d-45d8-a446-da86217750e0",
   "metadata": {},
   "source": [
    "<p></p>\n",
    "<p style = 'font-size:16px;font-family:Arial'>Detailed help can be found by passing function name to built-in help function. </p>"
   ]
  },
  {
   "cell_type": "code",
   "execution_count": null,
   "id": "8cb9fedd-e3af-420a-b86f-17b2591e5603",
   "metadata": {},
   "outputs": [],
   "source": [
    "help(SelectionCriteria)"
   ]
  },
  {
   "cell_type": "markdown",
   "id": "26676d14-9d32-46f0-9b53-9992d3d76f49",
   "metadata": {},
   "source": [
    "<p style = 'font-size:16px;font-family:Arial'>We need to first convert the data from dataframe into a TDSeries which will be passed to the ArimaEstimate function as input.</p>"
   ]
  },
  {
   "cell_type": "code",
   "execution_count": null,
   "id": "516ee889-cd43-4d2b-aad8-a74a31f038b7",
   "metadata": {},
   "outputs": [],
   "source": [
    "from teradataml import TDSeries, Resample\n",
    "\n",
    "data_series_df = TDSeries(data=modeldf1,\n",
    "                              id=\"idcols\",\n",
    "                              row_index=(\"Sales_Date\"),\n",
    "                              row_index_style= \"TIMECODE\",\n",
    "                              payload_field=\"Weekly_Sales\",\n",
    "                              payload_content=\"REAL\")\n",
    "\n",
    "uaf_out1 = Resample(data=data_series_df,\n",
    "                        interpolate='LINEAR',\n",
    "                        timecode_start_value=\"TIMESTAMP '2010-02-05 00:00:00'\",\n",
    "                        timecode_duration=\"WEEKS(1)\")\n",
    "\n",
    "df=uaf_out1.result\n",
    "df1=df.select(['idcols','ROW_I', 'Weekly_Sales']).assign(Sales_Date=df.ROW_I)\n",
    "df1"
   ]
  },
  {
   "cell_type": "markdown",
   "id": "c33d0d74-f2b0-4d4a-be2c-dee1456427c4",
   "metadata": {},
   "source": [
    "<p style = 'font-size:16px;font-family:Arial'>We will use the ArimaEstimate function.</p>"
   ]
  },
  {
   "cell_type": "code",
   "execution_count": null,
   "id": "261380ba-a48a-44bc-8429-94ce4e4f8a85",
   "metadata": {},
   "outputs": [],
   "source": [
    "# Execute ArimaEstimate function.\n",
    "data_series_df_1 = TDSeries(data=df1,\n",
    "                              id=\"Sales_Date\",\n",
    "                              row_index=(\"idcols\"),\n",
    "                              row_index_style= \"SEQUENCE\",\n",
    "                              payload_field=\"Weekly_Sales\",\n",
    "                              payload_content=\"REAL\")\n",
    "\n",
    "arima_est_out = ArimaEstimate(data1=data_series_df_1,\n",
    "                            nonseasonal_model_order=[2,1,1],\n",
    "                            constant=True,\n",
    "                            algorithm=\"MLE\",\n",
    "                            coeff_stats=True,\n",
    "                            fit_metrics=True,\n",
    "                            residuals=True,\n",
    "                            fit_percentage=70)"
   ]
  },
  {
   "cell_type": "markdown",
   "id": "7b5cd04f-137a-41b6-9368-1e6518ad3060",
   "metadata": {},
   "source": [
    "<p style = 'font-size:16px;font-family:Arial'>We will calculate the metrics on the series created on the output of ArimaEstimate() function.</p>"
   ]
  },
  {
   "cell_type": "code",
   "execution_count": null,
   "id": "99f99786-5b63-4d05-942b-9147490328bf",
   "metadata": {},
   "outputs": [],
   "source": [
    "selectioncriteria_series = TDSeries(data=arima_est_out.fitresiduals,\n",
    "                                    id=\"Sales_Date\",\n",
    "                                    row_index=\"ROW_I\",\n",
    "                                    row_index_style= \"SEQUENCE\",\n",
    "                                    payload_field=[\"ACTUAL_VALUE\",  \"CALC_VALUE\",\"RESIDUAL\"],\n",
    "                                    payload_content=\"MULTIVAR_REAL\")\n",
    " \n",
    "uaf_out=SelectionCriteria(data=selectioncriteria_series,\n",
    "                          var_count=4,\n",
    "                          constant=True,\n",
    "                          use_likelihood=False)\n",
    "\n",
    "# Print the result DataFrame.\n",
    "uaf_out.result"
   ]
  },
  {
   "cell_type": "markdown",
   "id": "f1f6625d-279f-4e7a-ad42-f97118e20d18",
   "metadata": {},
   "source": [
    "<p style = 'font-size:16px;font-family:Arial'>The output of SelectionCriteria is a primary result set consisting of one row per series instance acted on by the function. </p>"
   ]
  },
  {
   "cell_type": "markdown",
   "id": "46d3cf73-ecd6-4176-8d8c-c856f60407e3",
   "metadata": {},
   "source": [
    "<hr style=\"height:2px;border:none;\">\n",
    "<b style = 'font-size:20px;font-family:Arial'>4. Cleanup</b>"
   ]
  },
  {
   "cell_type": "markdown",
   "id": "cd35d15a-130a-4b48-9dac-e9a2fa8298cc",
   "metadata": {},
   "source": [
    "<p style = 'font-size:18px;font-family:Arial'><b>Work Tables</b></p>\n",
    "<p style = 'font-size:16px;font-family:Arial'>The following code will clean up intermediate tables.</p>"
   ]
  },
  {
   "cell_type": "code",
   "execution_count": null,
   "id": "b6c28a7e-4f4d-4723-a909-d07c9fd1bb1a",
   "metadata": {},
   "outputs": [],
   "source": [
    "db_drop_view('Weekly_Sales_Details')"
   ]
  },
  {
   "cell_type": "markdown",
   "id": "e1bc3511-c364-44f5-a628-10ceb18d2881",
   "metadata": {},
   "source": [
    "<p style = 'font-size:18px;font-family:Arial'><b>Databases and Tables</b></p>\n",
    "\n",
    "<p style = 'font-size:16px;font-family:Arial'>The following code will clean up tables and databases created above.</p>"
   ]
  },
  {
   "cell_type": "code",
   "execution_count": null,
   "id": "7215684b-a19f-43bf-afd7-3231d1ce43cc",
   "metadata": {},
   "outputs": [],
   "source": [
    "%run -i ../../UseCases/run_procedure.py \"call remove_data('DEMO_SalesForecasting');\" \n",
    "#Takes 45 seconds"
   ]
  },
  {
   "cell_type": "code",
   "execution_count": null,
   "id": "07c01ccd-afd1-45ec-91ec-95ba0fb35312",
   "metadata": {},
   "outputs": [],
   "source": [
    "remove_context()"
   ]
  },
  {
   "cell_type": "markdown",
   "id": "4317a6cf-1479-4aa8-b30a-ee0a3b5231a8",
   "metadata": {},
   "source": [
    "<hr style=\"height:1px;border:none;\">\n",
    "\n",
    "<p style = 'font-size:16px;font-family:Arial'><b>Links:</b></p>\n",
    "<ul style = 'font-size:16px;font-family:Arial'>\n",
    "    <li>Teradataml Python reference: <a href = 'https://docs.teradata.com/search/all?query=Python+Package+User+Guide&content-lang=en-US'>here</a></li>\n",
    "    <li>SignifPeriodicities function reference: <a href = 'https://docs.teradata.com/search/all?query=SignifPeriodicities&content-lang=en-US'>here</a></li>\n",
    "</ul>"
   ]
  },
  {
   "cell_type": "markdown",
   "id": "b2dcca28-5de5-44d7-88cb-45a12153b3f8",
   "metadata": {},
   "source": [
    "<footer style=\"padding-bottom:35px; border-bottom:3px solid #91A0Ab\">\n",
    "    <div style=\"float:left;margin-top:14px\">ClearScape Analytics™</div>\n",
    "    <div style=\"float:right;\">\n",
    "        <div style=\"float:left; margin-top:14px\">\n",
    "            Copyright © Teradata Corporation - 2025. All Rights Reserved\n",
    "        </div>\n",
    "    </div>\n",
    "</footer>"
   ]
  }
 ],
 "metadata": {
  "kernelspec": {
   "display_name": "Python 3 (ipykernel)",
   "language": "python",
   "name": "python3"
  },
  "language_info": {
   "codemirror_mode": {
    "name": "ipython",
    "version": 3
   },
   "file_extension": ".py",
   "mimetype": "text/x-python",
   "name": "python",
   "nbconvert_exporter": "python",
   "pygments_lexer": "ipython3",
   "version": "3.9.10"
  }
 },
 "nbformat": 4,
 "nbformat_minor": 5
}
