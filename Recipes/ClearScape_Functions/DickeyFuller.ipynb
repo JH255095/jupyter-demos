{
 "cells": [
  {
   "cell_type": "markdown",
   "id": "bc549e6c-0cc4-4188-94a3-a9bdd3ae3dfa",
   "metadata": {},
   "source": [
    "<header>\n",
    "   <p  style='font-size:36px;font-family:Arial; color:#F0F0F0; background-color: #00233c; padding-left: 20pt; padding-top: 20pt;padding-bottom: 10pt; padding-right: 20pt;'>\n",
    "       DickeyFuller Function in Vantage\n",
    "  <br>\n",
    "       <img id=\"teradata-logo\" src=\"https://storage.googleapis.com/clearscape_analytics_demo_data/DEMO_Logo/teradata.svg\" alt=\"Teradata\" style=\"width: 125px; height: auto; margin-top: 20pt;\">\n",
    "    </p>\n",
    "</header>"
   ]
  },
  {
   "cell_type": "markdown",
   "id": "7ae7611a-0795-4168-b716-01fee6880cbd",
   "metadata": {},
   "source": [
    "<p style = 'font-size:20px;font-family:Arial'><b>Introduction</b></p>\n",
    "<p style = 'font-size:18px;font-family:Arial'><b>DickeyFuller</b></p>\n",
    "<p style = 'font-size:16px;font-family:Arial'>The DickeyFuller() function determines whether a set of time series data is stationary or nonstationary. It tests for the presence of a unit root in the data. The series being tested is a residual series, or any time or spatial series. When a series contains unit roots, then it is non-stationary. When a series contains no unit roots, the series may or may not be stationary, based on other factors involved in determining stationarity.</p>\n",
    "\n",
    "<p style = 'font-size:16px;font-family:Arial'>A time series is stationary if its statistical properties, such as mean, variance, and autocorrelation, do not change over time. A non-stationary time series has statistical properties that change over time, making it difficult to analyze and make predictions.</p>\n",
    "\n",
    "<p style = 'font-size:16px;font-family:Arial'>The test is based on the idea that if a time series has a unit root, it can be expressed as a random walk with drift. The test involves regressing the first difference of the series on its lagged values and testing for the significance of the coefficient on the lagged value. If the coefficient is significant, then the null hypothesis of the test, which is the presence of a unit root, is rejected, and the series is stationary. If the coefficient is not significant, then the null hypothesis cannot be rejected, and the series is non-stationary. The test is used in econometrics, finance, and other fields where time series data is analyzed.</p>\n"
   ]
  },
  {
   "cell_type": "markdown",
   "id": "6b3a00b4-6661-4c91-9b2d-cb7b0b403140",
   "metadata": {},
   "source": [
    "<hr style=\"height:2px;border:none;\">\n",
    "<b style = 'font-size:20px;font-family:Arial'>1. Initiate a connection to Vantage</b>"
   ]
  },
  {
   "cell_type": "markdown",
   "id": "2346857f-e0d3-488a-8a3f-ac6dff752c2b",
   "metadata": {},
   "source": [
    "<p style = 'font-size:16px;font-family:Arial'>In the section, we import the required libraries and set environment variables and environment paths (if required)."
   ]
  },
  {
   "cell_type": "code",
   "execution_count": null,
   "id": "c5af5af3-29d5-4f6a-8334-9df6924e7787",
   "metadata": {},
   "outputs": [],
   "source": [
    "from teradataml import (\n",
    "    create_context,\n",
    "    execute_sql,\n",
    "    load_example_data,\n",
    "    DataFrame,\n",
    "    in_schema,\n",
    "    TDSeries,\n",
    "    Resample,\n",
    "    DickeyFuller,\n",
    "    db_drop_view,\n",
    "    remove_context\n",
    "    )\n",
    "\n",
    "# Modify the following to match the specific client environment settings\n",
    "display.max_rows = 5"
   ]
  },
  {
   "cell_type": "markdown",
   "id": "ad3dd7b4-831c-4fb3-ab71-719c8c99a71c",
   "metadata": {},
   "source": [
    "<hr style=\"height:1px;border:none;\">\n",
    "<p style = 'font-size:18px;font-family:Arial'><b>1.1 Connect to Vantage</b></p>\n",
    "<p style = 'font-size:16px;font-family:Arial'>You will be prompted to provide the password. Enter your password, press the Enter key, and then use the down arrow to go to the next cell.</p>"
   ]
  },
  {
   "cell_type": "code",
   "execution_count": null,
   "id": "2742444c-4349-4b0f-b4e5-b068a8785cd9",
   "metadata": {},
   "outputs": [],
   "source": [
    "%run -i ../../UseCases/startup.ipynb\n",
    "eng = create_context(host = 'host.docker.internal', username='demo_user', password = password)\n",
    "print(eng)"
   ]
  },
  {
   "cell_type": "code",
   "execution_count": null,
   "id": "01c4a128-d106-46ea-8dee-34acc5abd29f",
   "metadata": {},
   "outputs": [],
   "source": [
    "%%capture\n",
    "execute_sql('''SET query_band='DEMO=PP_DickeyFuller.ipynb;' UPDATE FOR SESSION; ''')"
   ]
  },
  {
   "cell_type": "markdown",
   "id": "efe2fd2d-63ff-4278-9157-8b9110d682e8",
   "metadata": {},
   "source": [
    "<p style = 'font-size:16px;font-family:Arial'>Begin running steps with Shift + Enter keys. </p>"
   ]
  },
  {
   "cell_type": "markdown",
   "id": "f003f332-7489-4bdd-a740-4af2a0a22280",
   "metadata": {},
   "source": [
    "<hr style='height:1px;border:none;'>\n",
    "\n",
    "<p style = 'font-size:18px;font-family:Arial'><b>1.2 Getting Data for This Demo</b></p>\n",
    "\n",
    "<p style = 'font-size:16px;font-family:Arial'>We have provided data for this demo on cloud storage. You can either run the demo using foreign tables to access the data without any storage on your environment or download the data to local storage, which may yield faster execution. Still, there could be considerations of available storage. Two statements are in the following cell, and one is commented out. You may switch which mode you choose by changing the comment string.</p>"
   ]
  },
  {
   "cell_type": "code",
   "execution_count": null,
   "id": "45c86176-734c-4b1c-ace0-d0c88657b4f8",
   "metadata": {},
   "outputs": [],
   "source": [
    "%run -i ../../UseCases/run_procedure.py \"call get_data('DEMO_SalesForecasting_local');\"\n",
    " # Takes about 70 seconds"
   ]
  },
  {
   "cell_type": "markdown",
   "id": "2401d6d3-4fcd-46fc-8a94-7cafcd1258b0",
   "metadata": {},
   "source": [
    "<p style = 'font-size:16px;font-family:Arial'>Next is an optional step – if you want to see the status of databases/tables created and space used.</p>"
   ]
  },
  {
   "cell_type": "code",
   "execution_count": null,
   "id": "87429200-db02-450d-9472-4d1e2030124d",
   "metadata": {},
   "outputs": [],
   "source": [
    "%run -i ../../UseCases/run_procedure.py \"call space_report();\"        # Takes 10 seconds"
   ]
  },
  {
   "cell_type": "markdown",
   "id": "2a3762ac-ba27-4fa3-adba-d577262a4290",
   "metadata": {},
   "source": [
    "<hr style=\"height:2px;border:none;\">\n",
    "<b style = 'font-size:20px;font-family:Arial'>2. Data Exploration</b>\n",
    "<p style = 'font-size:16px;font-family:Arial'>Create a \"Virtual DataFrame\" that points to the data set in Vantage. Check the shape of the dataframe as check the datatype of all the columns of the dataframe.</p>"
   ]
  },
  {
   "cell_type": "code",
   "execution_count": null,
   "id": "cad2208a-9f48-4758-9998-57a19f6c5f28",
   "metadata": {},
   "outputs": [],
   "source": [
    "query2='''REPLACE VIEW Weekly_Sales_Details AS\n",
    "SELECT\n",
    "    w.Sales_date AS times,\n",
    "    CAST('2012-02-03' AS DATE) AS cutoff_date,\n",
    "    w.Dept,\n",
    "    w.Store,\n",
    "    CAST(w.Sales_Date AS TIMESTAMP) AS Sales_Date,\n",
    "    ZEROIFNULL(Weekly_Sales) AS Weekly_Sales,\n",
    "    ZEROIFNULL(Store_Size) AS Store_Size,\n",
    "    Store_Type AS Store_Type,\n",
    "    w.IsHoliday,\n",
    "    ZEROIFNULL(Temperature) AS Temperature,\n",
    "    ZEROIFNULL(MarkDown1) AS MarkDown1,\n",
    "    ZEROIFNULL(MarkDown2) AS MarkDown2,\n",
    "    ZEROIFNULL(MarkDown3) AS MarkDown3,\n",
    "    ZEROIFNULL(MarkDown4) AS MarkDown4,\n",
    "    ZEROIFNULL(MarkDown5) AS MarkDown5,\n",
    "    ZEROIFNULL(CPI) AS CPI,\n",
    "    ZEROIFNULL(Unemployment) AS Unemployment,\n",
    "    ZEROIFNULL(Fuel_Price) AS Fuel_Price,\n",
    "    CAST(TRIM(w.Dept) || TRIM(w.Store) AS INT) AS idcols\n",
    "FROM\n",
    "    Demo_SalesForecasting.Weekly_Sales w\n",
    "LEFT JOIN\n",
    "    Demo_SalesForecasting.Stores s ON w.Store = s.Store\n",
    "LEFT JOIN\n",
    "    Demo_SalesForecasting.Features f ON w.Store = f.store AND w.Sales_Date = f.Sales_Date\n",
    "WHERE\n",
    "    w.Store IN (20, 4);\n",
    "'''\n",
    "\n",
    "execute_sql(query2)\n",
    "modeldf=DataFrame.from_query('select * from Weekly_Sales_Details;')\n",
    "modeldf"
   ]
  },
  {
   "cell_type": "code",
   "execution_count": null,
   "id": "892ddeca-53b4-4d1b-9e4c-f3da374a0440",
   "metadata": {
    "tags": []
   },
   "outputs": [],
   "source": [
    "modeldf.shape"
   ]
  },
  {
   "cell_type": "markdown",
   "id": "89fc6810-4e04-4924-8707-9c76b744f14f",
   "metadata": {},
   "source": [
    "<hr style=\"height:2px;border:none;\">\n",
    "<b style = 'font-size:20px;font-family:Arial'>3. DickeyFuller</b>\n",
    "<p style = 'font-size:16px;font-family:Arial'>The DickeyFuller() function tests for the presence of one or more unit roots in a series to determine if the series is non-stationary. When a series contains unit roots, it is non-stationary. When a series contains no unit roots, whether the series is stationary is based on other factors.</p>"
   ]
  },
  {
   "cell_type": "markdown",
   "id": "69569645-5f0d-45d8-a446-da86217750e0",
   "metadata": {},
   "source": [
    "<p></p>\n",
    "<p style = 'font-size:16px;font-family:Arial'>Detailed help can be found by passing function name to built-in help function. </p>"
   ]
  },
  {
   "cell_type": "code",
   "execution_count": null,
   "id": "8cb9fedd-e3af-420a-b86f-17b2591e5603",
   "metadata": {},
   "outputs": [],
   "source": [
    "help(DickeyFuller)"
   ]
  },
  {
   "cell_type": "markdown",
   "id": "26676d14-9d32-46f0-9b53-9992d3d76f49",
   "metadata": {},
   "source": [
    "<p style = 'font-size:16px;font-family:Arial'>We need to first convert the data from dataframe into a TDSeries which will be passed to the DickeyFuller function as input.</p>"
   ]
  },
  {
   "cell_type": "code",
   "execution_count": null,
   "id": "516ee889-cd43-4d2b-aad8-a74a31f038b7",
   "metadata": {},
   "outputs": [],
   "source": [
    "from teradataml import DickeyFuller\n",
    "data_series_df_1 = TDSeries(data=modeldf,\n",
    "                              id=\"Sales_Date\",\n",
    "                              row_index=(\"idcols\"),\n",
    "                              row_index_style= \"SEQUENCE\",\n",
    "                              payload_field=\"Weekly_Sales\",\n",
    "                              payload_content=\"REAL\")"
   ]
  },
  {
   "cell_type": "code",
   "execution_count": null,
   "id": "261380ba-a48a-44bc-8429-94ce4e4f8a85",
   "metadata": {},
   "outputs": [],
   "source": [
    "df_out = DickeyFuller(   data=data_series_df_1,\n",
    "                           algorithm='NONE')\n",
    "\n",
    "# Print the result DataFrame.\n",
    "print(df_out.result)"
   ]
  },
  {
   "cell_type": "markdown",
   "id": "d0320e5c-6fe2-4197-ac01-dafb9a9d6c45",
   "metadata": {},
   "source": [
    "<p></p>\n",
    "<p style = 'font-size:16px;font-family:Arial;color:#00233C'>In the above output the p-value corresponding to the calculated test statistic is less than 0.05. It means that the series is stationary. The output column NULL_HYP which means NULL HYPOTHESIS can have 2 values \n",
    "    <li style = 'font-size:16px;font-family:Arial;color:#00233C'>ACCEPT means the null hypothesis is accepted. No Unit roots are present, and therefore the process is stationary.</li>\n",
    "<li style = 'font-size:16px;font-family:Arial;color:##00233C'>REJECT means the null hypothesis is rejected. Unit roots are present, and the process may or may not be stationary, depending on other factors.</li>\n",
    "</p>"
   ]
  },
  {
   "cell_type": "markdown",
   "id": "151d5db4-29a9-49d9-8a61-d53f9627a294",
   "metadata": {},
   "source": [
    "<hr style=\"height:2px;border:none;\">\n",
    "<b style = 'font-size:20px;font-family:Arial'>4. Cleanup</b>"
   ]
  },
  {
   "cell_type": "markdown",
   "id": "4fd343a6-756e-4f76-89df-dc16129ecef2",
   "metadata": {},
   "source": [
    "<p style = 'font-size:18px;font-family:Arial'><b>Work Tables</b></p>\n",
    "<p style = 'font-size:16px;font-family:Arial'>The following code will clean up intermediate tables.</p>"
   ]
  },
  {
   "cell_type": "code",
   "execution_count": null,
   "id": "861b9c4b-e018-434b-bb3c-8427fdc5403f",
   "metadata": {},
   "outputs": [],
   "source": [
    "db_drop_view('Weekly_Sales_Details')"
   ]
  },
  {
   "cell_type": "markdown",
   "id": "0c2c8f1d-b821-4e2c-a2a8-b226cbe7b4fc",
   "metadata": {},
   "source": [
    "<p style = 'font-size:18px;font-family:Arial'><b>Databases and Tables</b></p>\n",
    "<p style = 'font-size:16px;font-family:Arial'>The following code will clean up tables and databases created above.</p>"
   ]
  },
  {
   "cell_type": "code",
   "execution_count": null,
   "id": "7fc325ba-4cdc-4149-80b1-17688daed70a",
   "metadata": {},
   "outputs": [],
   "source": [
    "%run -i ../../UseCases/run_procedure.py \"call remove_data('DEMO_SalesForecasting');\" \n",
    "#Takes 45 seconds"
   ]
  },
  {
   "cell_type": "code",
   "execution_count": null,
   "id": "e75016ac-3454-46cd-be96-8242837332b2",
   "metadata": {},
   "outputs": [],
   "source": [
    "remove_context()"
   ]
  },
  {
   "cell_type": "markdown",
   "id": "4317a6cf-1479-4aa8-b30a-ee0a3b5231a8",
   "metadata": {},
   "source": [
    "<hr style=\"height:1px;border:none;\">\n",
    "<p style = 'font-size:18px;font-family:Arial'><b>Dataset</b></p>\n",
    "<p style = 'font-size:16px;font-family:Arial'>This is the historical data that covers sales from 2010-02-05 to 2012-11-01. Within this file you will find the following fields:</p>\n",
    "\n",
    "<li style = 'font-size:16px;font-family:Arial'>Store - the store number</li>\n",
    "<li style = 'font-size:16px;font-family:Arial'>Date - the week of sales</li>\n",
    "<li style = 'font-size:16px;font-family:Arial'>Weekly_Sales - sales for the given store</li>\n",
    "<li style = 'font-size:16px;font-family:Arial'>Holiday_Flag - whether the week is a special holiday week 1 – Holiday week 0 – Non-holiday week</li>\n",
    "<li style = 'font-size:16px;font-family:Arial'>Temperature - Temperature on the day of sale</li>\n",
    "<li style = 'font-size:16px;font-family:Arial'>Fuel_Price - Cost of fuel in the region</li>\n",
    "<li style = 'font-size:16px;font-family:Arial'>CPI – Prevailing consumer price index</li>\n",
    "<li style = 'font-size:16px;font-family:Arial'>Unemployment - Prevailing unemployment rate</li>\n",
    "<li style = 'font-size:16px;font-family:Arial'>Holiday Events: Super Bowl, Labour Day, Thanksgiving, Christmas </li>\n",
    "</p>\n",
    "\n",
    "<p style = 'font-size:16px;font-family:Arial'><b>Links:</b></p>\n",
    "<ul style = 'font-size:16px;font-family:Arial'>\n",
    "    <li>Teradataml Python reference: <a href = 'https://docs.teradata.com/search/all?query=Python+Package+User+Guide&content-lang=en-US'>here</a></li>\n",
    "    <li>DickeyFuller function reference: <a href = 'https://docs.teradata.com/search/all?query=DickeyFuller&content-lang=en-US'>here</a></li>\n",
    "</ul>"
   ]
  },
  {
   "cell_type": "markdown",
   "id": "b2dcca28-5de5-44d7-88cb-45a12153b3f8",
   "metadata": {},
   "source": [
    "<footer style=\"padding-bottom:35px; border-bottom:3px solid #91A0Ab\">\n",
    "    <div style=\"float:left;margin-top:14px\">ClearScape Analytics™</div>\n",
    "    <div style=\"float:right;\">\n",
    "        <div style=\"float:left; margin-top:14px\">\n",
    "            Copyright © Teradata Corporation - 2025. All Rights Reserved\n",
    "        </div>\n",
    "    </div>\n",
    "</footer>"
   ]
  }
 ],
 "metadata": {
  "kernelspec": {
   "display_name": "Python 3 (ipykernel)",
   "language": "python",
   "name": "python3"
  },
  "language_info": {
   "codemirror_mode": {
    "name": "ipython",
    "version": 3
   },
   "file_extension": ".py",
   "mimetype": "text/x-python",
   "name": "python",
   "nbconvert_exporter": "python",
   "pygments_lexer": "ipython3",
   "version": "3.9.10"
  }
 },
 "nbformat": 4,
 "nbformat_minor": 5
}
