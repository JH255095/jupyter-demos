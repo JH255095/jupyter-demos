{
 "cells": [
  {
   "cell_type": "markdown",
   "id": "bc549e6c-0cc4-4188-94a3-a9bdd3ae3dfa",
   "metadata": {},
   "source": [
    "<header>\n",
    "   <p  style='font-size:36px;font-family:Arial; color:#F0F0F0; background-color: #00233c; padding-left: 20pt; padding-top: 20pt;padding-bottom: 10pt; padding-right: 20pt;'>\n",
    "       Silhouette Function in Vantage\n",
    "  <br>\n",
    "       <img id=\"teradata-logo\" src=\"https://storage.googleapis.com/clearscape_analytics_demo_data/DEMO_Logo/teradata.svg\" alt=\"Teradata\" style=\"width: 125px; height: auto; margin-top: 20pt;\">\n",
    "    </p>\n",
    "</header>"
   ]
  },
  {
   "cell_type": "markdown",
   "id": "7ae7611a-0795-4168-b716-01fee6880cbd",
   "metadata": {},
   "source": [
    "<p style = 'font-size:20px;font-family:Arial'><b>Introduction</b></p>\n",
    "<p style = 'font-size:16px;font-family:Arial'> Silhouette function is a method of interpretation and validation of consistency within clusters of data. The function determines how well the data is clustered among clusters.The silhouette value determines the similarity of an object to its cluster (cohesion) compared to other clusters (separation). The silhouette scores are as follows:<ul style = 'font-size:16px;font-family:Arial;'>\n",
    "    <li>1: Data is appropriately clustered</li>\n",
    "    <li>-1: Data is not appropriately clustered</li>\n",
    "    <li>0: Datum is on the border of two natural clusters</li>\n",
    "    </ul>\n",
    "<p style = 'font-size:16px;font-family:Arial'> \n",
    "    In this notebook we will see how we can use the Silhouette function available in Vantage.</p>"
   ]
  },
  {
   "cell_type": "markdown",
   "id": "6b3a00b4-6661-4c91-9b2d-cb7b0b403140",
   "metadata": {},
   "source": [
    "<hr style=\"height:2px;border:none;\">\n",
    "<b style = 'font-size:20px;font-family:Arial'>1. Initiate a connection to Vantage</b>"
   ]
  },
  {
   "cell_type": "markdown",
   "id": "2346857f-e0d3-488a-8a3f-ac6dff752c2b",
   "metadata": {},
   "source": [
    "<p style = 'font-size:16px;font-family:Arial'>In the section, we import the required libraries and set environment variables and environment paths (if required)."
   ]
  },
  {
   "cell_type": "code",
   "execution_count": null,
   "id": "c5af5af3-29d5-4f6a-8334-9df6924e7787",
   "metadata": {},
   "outputs": [],
   "source": [
    "from teradataml import *\n",
    "\n",
    "# Modify the following to match the specific client environment settings\n",
    "display.max_rows = 5"
   ]
  },
  {
   "cell_type": "markdown",
   "id": "ad3dd7b4-831c-4fb3-ab71-719c8c99a71c",
   "metadata": {},
   "source": [
    "<hr style=\"height:1px;border:none;\">\n",
    "<p style = 'font-size:18px;font-family:Arial'><b>1.1 Connect to Vantage</b></p>\n",
    "<p style = 'font-size:16px;font-family:Arial'>You will be prompted to provide the password. Enter your password, press the Enter key, and then use the down arrow to go to the next cell.</p>"
   ]
  },
  {
   "cell_type": "code",
   "execution_count": null,
   "id": "2742444c-4349-4b0f-b4e5-b068a8785cd9",
   "metadata": {},
   "outputs": [],
   "source": [
    "%run -i ../../UseCases/startup.ipynb\n",
    "eng = create_context(host = 'host.docker.internal', username='demo_user', password = password)\n",
    "print(eng)"
   ]
  },
  {
   "cell_type": "code",
   "execution_count": null,
   "id": "01c4a128-d106-46ea-8dee-34acc5abd29f",
   "metadata": {},
   "outputs": [],
   "source": [
    "%%capture\n",
    "execute_sql('''SET query_band='DEMO=PP_Silhouette_Python.ipynb;' UPDATE FOR SESSION; ''')"
   ]
  },
  {
   "cell_type": "markdown",
   "id": "efe2fd2d-63ff-4278-9157-8b9110d682e8",
   "metadata": {},
   "source": [
    "<p style = 'font-size:16px;font-family:Arial'>Begin running steps with Shift + Enter keys. </p>"
   ]
  },
  {
   "cell_type": "markdown",
   "id": "f003f332-7489-4bdd-a740-4af2a0a22280",
   "metadata": {},
   "source": [
    "<hr style='height:1px;border:none;'>\n",
    "\n",
    "<p style = 'font-size:18px;font-family:Arial'><b>1.2 Getting Data for This Demo</b></p>\n",
    "\n",
    "<p style = 'font-size:16px;font-family:Arial'>Here, we will get the data which is available in the teradataml library and use the same to show the usage of the function.</p>"
   ]
  },
  {
   "cell_type": "code",
   "execution_count": null,
   "id": "45c86176-734c-4b1c-ace0-d0c88657b4f8",
   "metadata": {},
   "outputs": [],
   "source": [
    "load_example_data(\"kmeans\", \"computers_train1\")"
   ]
  },
  {
   "cell_type": "markdown",
   "id": "2401d6d3-4fcd-46fc-8a94-7cafcd1258b0",
   "metadata": {},
   "source": [
    "<p style = 'font-size:16px;font-family:Arial'>Next is an optional step – if you want to see the status of databases/tables created and space used.</p>"
   ]
  },
  {
   "cell_type": "code",
   "execution_count": null,
   "id": "87429200-db02-450d-9472-4d1e2030124d",
   "metadata": {},
   "outputs": [],
   "source": [
    "%run -i ../../UseCases/run_procedure.py \"call space_report();\"        # Takes 10 seconds"
   ]
  },
  {
   "cell_type": "markdown",
   "id": "2a3762ac-ba27-4fa3-adba-d577262a4290",
   "metadata": {},
   "source": [
    "<hr style=\"height:2px;border:none;\">\n",
    "<b style = 'font-size:20px;font-family:Arial'>2. Data Exploration</b>\n",
    "<p style = 'font-size:16px;font-family:Arial'>Create a \"Virtual DataFrame\" that points to the data set in Vantage. Check the shape of the dataframe as check the datatype of all the columns of the dataframe.</p>"
   ]
  },
  {
   "cell_type": "code",
   "execution_count": null,
   "id": "3d936fab-7ca7-4e94-ba64-95c1da08b74f",
   "metadata": {},
   "outputs": [],
   "source": [
    "# Create teradataml DataFrame objects.\n",
    "computers_train = DataFrame.from_table(\"computers_train1\")"
   ]
  },
  {
   "cell_type": "code",
   "execution_count": null,
   "id": "3c5a0992-f651-49bc-9080-828fd9c0c982",
   "metadata": {},
   "outputs": [],
   "source": [
    "computers_train"
   ]
  },
  {
   "cell_type": "code",
   "execution_count": null,
   "id": "96070c57-9a6b-451d-aa05-4ea3825a4bff",
   "metadata": {},
   "outputs": [],
   "source": [
    "computers_train.shape"
   ]
  },
  {
   "cell_type": "markdown",
   "id": "ffef7ff5-0fad-4e47-a415-a1d58e0b37fd",
   "metadata": {},
   "source": [
    "<p style = 'font-size:16px;font-family:Arial'>As a first step we will create clusters on this data and then we will use Silhouette function to see the cohesion in the clusters.</p>"
   ]
  },
  {
   "cell_type": "code",
   "execution_count": null,
   "id": "7de768e5-826f-499e-95f3-4d231d4c1c7b",
   "metadata": {},
   "outputs": [],
   "source": [
    "#create clusters using KMeans function\n",
    "KMeans_out = KMeans(id_column=\"id\",\n",
    "                     target_columns=['price', 'speed'],\n",
    "                     data=computers_train,\n",
    "                     num_clusters=2)\n",
    "# Print the result DataFrame\n",
    "KMeans_out.result"
   ]
  },
  {
   "cell_type": "code",
   "execution_count": null,
   "id": "1a0adb0e-a721-43e3-842d-19dfa47d3ab7",
   "metadata": {},
   "outputs": [],
   "source": [
    "#assign each id to a cluster \n",
    "KMeansPredict_out_1 = KMeansPredict(data=computers_train,\n",
    "                                   object=KMeans_out,\n",
    "                                   accumulate=[\"ram\",\"price\",\"speed\"],\n",
    "                                   output_distance=True\n",
    "                                   )\n",
    "      \n",
    "# Print the result DataFrames.\n",
    "KMeansPredict_out_1.result"
   ]
  },
  {
   "cell_type": "markdown",
   "id": "2bcff2b7-fa8d-46a6-993b-eca9800d83ec",
   "metadata": {},
   "source": [
    "<p style = 'font-size:16px;font-family:Arial'>Now let us check the Silhouette score for each function. Detailed help can be found by passing function name to built-in help function. </p>"
   ]
  },
  {
   "cell_type": "code",
   "execution_count": null,
   "id": "91ff08c1-2dc9-4def-9278-fd220a1bb353",
   "metadata": {
    "tags": []
   },
   "outputs": [],
   "source": [
    "help(Silhouette)"
   ]
  },
  {
   "cell_type": "code",
   "execution_count": null,
   "id": "6f1b9c30-09a5-4990-8e9c-afa04c715046",
   "metadata": {},
   "outputs": [],
   "source": [
    "# Find average silhouette scores of input samples for each cluster.\n",
    "Silhouette_result = Silhouette(id_column=\"id\",\n",
    "                                cluster_id_column=\"td_clusterid_kmeans\",\n",
    "                                target_columns=['\"td_distance_kmeans\"'],\n",
    "                                data=KMeansPredict_out_1.result,\n",
    "                                output_type=\"CLUSTER_SCORES\")\n",
    "\n",
    "# Print the result DataFrame.\n",
    "Silhouette_result.result"
   ]
  },
  {
   "cell_type": "markdown",
   "id": "151d5db4-29a9-49d9-8a61-d53f9627a294",
   "metadata": {},
   "source": [
    "<hr style=\"height:2px;border:none;\">\n",
    "<b style = 'font-size:20px;font-family:Arial'>3. Cleanup</b>"
   ]
  },
  {
   "cell_type": "markdown",
   "id": "a562f058-fb24-4966-a25d-f2960e6ddfb8",
   "metadata": {},
   "source": [
    "<hr style=\"height:1px;border:none;\">\n",
    "<p style = 'font-size:18px;font-family:Arial'> <b>Databases and Tables </b></p>\n",
    "<p style = 'font-size:16px;font-family:Arial'>The following code will clean up tables and databases created above.</p>"
   ]
  },
  {
   "cell_type": "code",
   "execution_count": null,
   "id": "e6b3935b-47c2-4a96-bec2-68106d172116",
   "metadata": {},
   "outputs": [],
   "source": [
    "db_drop_table(\"computers_train1\")"
   ]
  },
  {
   "cell_type": "code",
   "execution_count": null,
   "id": "157fe3d4-4e0e-4d92-b343-9f758f3bf690",
   "metadata": {},
   "outputs": [],
   "source": [
    "remove_context()"
   ]
  },
  {
   "cell_type": "markdown",
   "id": "4317a6cf-1479-4aa8-b30a-ee0a3b5231a8",
   "metadata": {},
   "source": [
    "<hr style=\"height:1px;border:none;\">\n",
    "\n",
    "<p style = 'font-size:16px;font-family:Arial'><b>Links:</b></p>\n",
    "<ul style = 'font-size:16px;font-family:Arial'>\n",
    "    <li>Teradataml Python reference: <a href = 'https://docs.teradata.com/search/all?query=Python+Package+User+Guide&content-lang=en-US'>here</a></li>\n",
    "    <li>Silhouette function reference: <a href = 'https://docs.teradata.com/search/all?query=Silhouette&content-lang=en-US'>here</a></li>\n",
    "</ul>"
   ]
  },
  {
   "cell_type": "markdown",
   "id": "b2dcca28-5de5-44d7-88cb-45a12153b3f8",
   "metadata": {},
   "source": [
    "<footer style=\"padding-bottom:35px; border-bottom:3px solid #91A0Ab\">\n",
    "    <div style=\"float:left;margin-top:14px\">ClearScape Analytics™</div>\n",
    "    <div style=\"float:right;\">\n",
    "        <div style=\"float:left; margin-top:14px\">\n",
    "            Copyright © Teradata Corporation - 2025. All Rights Reserved\n",
    "        </div>\n",
    "    </div>\n",
    "</footer>"
   ]
  }
 ],
 "metadata": {
  "kernelspec": {
   "display_name": "Python 3 (ipykernel)",
   "language": "python",
   "name": "python3"
  },
  "language_info": {
   "codemirror_mode": {
    "name": "ipython",
    "version": 3
   },
   "file_extension": ".py",
   "mimetype": "text/x-python",
   "name": "python",
   "nbconvert_exporter": "python",
   "pygments_lexer": "ipython3",
   "version": "3.9.10"
  }
 },
 "nbformat": 4,
 "nbformat_minor": 5
}
