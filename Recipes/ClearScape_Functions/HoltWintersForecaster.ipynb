{
 "cells": [
  {
   "cell_type": "markdown",
   "id": "bc549e6c-0cc4-4188-94a3-a9bdd3ae3dfa",
   "metadata": {},
   "source": [
    "<header>\n",
    "   <p  style='font-size:36px;font-family:Arial; color:#F0F0F0; background-color: #00233c; padding-left: 20pt; padding-top: 20pt;padding-bottom: 10pt; padding-right: 20pt;'>\n",
    "       HoltWintersForecaster Function in Vantage\n",
    "  <br>\n",
    "       <img id=\"teradata-logo\" src=\"https://storage.googleapis.com/clearscape_analytics_demo_data/DEMO_Logo/teradata.svg\" alt=\"Teradata\" style=\"width: 125px; height: auto; margin-top: 20pt;\">\n",
    "    </p>\n",
    "</header>"
   ]
  },
  {
   "cell_type": "markdown",
   "id": "7ae7611a-0795-4168-b716-01fee6880cbd",
   "metadata": {},
   "source": [
    "<p style = 'font-size:20px;font-family:Arial'><b>Introduction</b></p>\n",
    "\n",
    "<p style = 'font-size:20px;font-family:Arial'><b>HoltWintersForecaster</b></p>\n",
    "<p style = 'font-size:16px;font-family:Arial'>HoltWintersForecaster is a time series forecasting method that uses a combination of level, trend, and seasonality components to make predictions. This method is exponential smoothing method, and is an extension of simple exponential smoothing. The function uses triple exponential smoothing on a forecast model with seasonal data or double exponential smoothing for non-seasonal data, depending on the parameters.</p>\n",
    "\n",
    "<p style = 'font-size:16px;font-family:Arial'>The seasonal aspect means the data is repetitive over some period. The level, trend, and seasonality components are used for the calculations. The level and seasonality components are additive or multiplicative. The trend remains additive.</p>\n",
    "\n",
    "<li style = 'font-size:16px;font-family:Arial'><code>Level:</code> The average value of the time series.</li>\n",
    "<li style = 'font-size:16px;font-family:Arial'><code>Trend:</code> The rate of change of the time series.</li>\n",
    "    <li style = 'font-size:16px;font-family:Arial'><code>Seasonality:</code> The periodic fluctuations or seasonal patterns in the time series.</li>\n",
    "\n",
    "<p style = 'font-size:16px;font-family:Arial'>The alpha, beta, and gamma parameters of the function coincide with the level, trend, and seasonality, respectively, to control the main smoothing components. When values are not supplied for these parameters, their values are calculated, and available in the secondary result set.</p>\n",
    "\n",
    "<p style = 'font-size:16px;font-family:Arial'>Exponential smoothing is a weighted average of past observations, where the weights decrease exponentially as the observations get older. The weights are determined by the smoothing parameters level, trend, and seasonality, which are values between 0 and 1.</p>\n",
    "\n",
    "<p style = 'font-size:16px;font-family:Arial'>Once the components are estimated, HoltWintersForecaster uses them to forecast future values of the time series. The method is useful for time series data that exhibits seasonality and trend patterns. It can provide accurate forecasts even when the data is noisy or has missing values.</p>\n",
    "\n",
    "<p style = 'font-size:16px;font-family:Arial'>HoltWintersForecaster is used in demand forecasting, financial forecasting, and inventory management.</p>\n",
    "\n"
   ]
  },
  {
   "cell_type": "markdown",
   "id": "6b3a00b4-6661-4c91-9b2d-cb7b0b403140",
   "metadata": {},
   "source": [
    "<hr style=\"height:2px;border:none;\">\n",
    "<b style = 'font-size:20px;font-family:Arial'>1. Initiate a connection to Vantage</b>"
   ]
  },
  {
   "cell_type": "markdown",
   "id": "2346857f-e0d3-488a-8a3f-ac6dff752c2b",
   "metadata": {},
   "source": [
    "<p style = 'font-size:16px;font-family:Arial'>In the section, we import the required libraries and set environment variables and environment paths (if required)."
   ]
  },
  {
   "cell_type": "code",
   "execution_count": null,
   "id": "c5af5af3-29d5-4f6a-8334-9df6924e7787",
   "metadata": {},
   "outputs": [],
   "source": [
    "from teradataml import (\n",
    "    create_context,\n",
    "    execute_sql,\n",
    "    load_example_data,\n",
    "    DataFrame,\n",
    "    in_schema,\n",
    "    TDSeries,\n",
    "    HoltWintersForecaster,\n",
    "    Figure,\n",
    "    plot,\n",
    "    db_drop_view,\n",
    "    remove_context,\n",
    "    copy_to_sql,\n",
    "    db_drop_table\n",
    "    )\n",
    "\n",
    "from teradatasqlalchemy.types import *\n",
    "\n",
    "from teradataml import to_numeric\n",
    "# Modify the following to match the specific client environment settings\n",
    "display.max_rows = 5"
   ]
  },
  {
   "cell_type": "markdown",
   "id": "ad3dd7b4-831c-4fb3-ab71-719c8c99a71c",
   "metadata": {},
   "source": [
    "<hr style=\"height:1px;border:none;\">\n",
    "<p style = 'font-size:18px;font-family:Arial'><b>1.1 Connect to Vantage</b></p>\n",
    "<p style = 'font-size:16px;font-family:Arial'>You will be prompted to provide the password. Enter your password, press the Enter key, and then use the down arrow to go to the next cell.</p>"
   ]
  },
  {
   "cell_type": "code",
   "execution_count": null,
   "id": "2742444c-4349-4b0f-b4e5-b068a8785cd9",
   "metadata": {},
   "outputs": [],
   "source": [
    "%run -i ../../UseCases/startup.ipynb\n",
    "eng = create_context(host = 'host.docker.internal', username='demo_user', password = password)\n",
    "print(eng)"
   ]
  },
  {
   "cell_type": "code",
   "execution_count": null,
   "id": "01c4a128-d106-46ea-8dee-34acc5abd29f",
   "metadata": {},
   "outputs": [],
   "source": [
    "%%capture\n",
    "execute_sql('''SET query_band='DEMO=PP_HoltWintersForecaster.ipynb;' UPDATE FOR SESSION; ''')"
   ]
  },
  {
   "cell_type": "markdown",
   "id": "efe2fd2d-63ff-4278-9157-8b9110d682e8",
   "metadata": {},
   "source": [
    "<p style = 'font-size:16px;font-family:Arial'>Begin running steps with Shift + Enter keys. </p>"
   ]
  },
  {
   "cell_type": "markdown",
   "id": "4a6e3852-3b15-4cbd-844d-e7194b3bd204",
   "metadata": {},
   "source": [
    "<hr style='height:1px;border:none;'>\n",
    "\n",
    "<p style = 'font-size:18px;font-family:Arial'><b>1.2 Getting Data for This Demo</b></p>\n",
    "\n",
    "<p style = 'font-size:16px;font-family:Arial'>Here, we will get the time series data which is available in the teradataml library and use the same to show the usage of the function.</p>"
   ]
  },
  {
   "cell_type": "code",
   "execution_count": null,
   "id": "398fa0aa-c0df-4130-9dea-53b776fbaf80",
   "metadata": {},
   "outputs": [],
   "source": [
    "load_example_data(\"uaf\", [\"us_air_pass\"])"
   ]
  },
  {
   "cell_type": "markdown",
   "id": "2a3762ac-ba27-4fa3-adba-d577262a4290",
   "metadata": {},
   "source": [
    "<hr style=\"height:2px;border:none;\">\n",
    "<b style = 'font-size:20px;font-family:Arial'>2. Data Exploration</b>\n",
    "<p style = 'font-size:16px;font-family:Arial'>Create a \"Virtual DataFrame\" that points to the data set in Vantage. Check the shape of the dataframe as check the datatype of all the columns of the dataframe.</p>"
   ]
  },
  {
   "cell_type": "code",
   "execution_count": null,
   "id": "9672d80d-cdcc-4f4c-9399-7c367e7970b1",
   "metadata": {},
   "outputs": [],
   "source": [
    "data = DataFrame.from_table(\"us_air_pass\")\n",
    "data"
   ]
  },
  {
   "cell_type": "markdown",
   "id": "584a9c83-e945-4569-a5e8-803e5da037ad",
   "metadata": {},
   "source": [
    "<hr style=\"height:2px;border:none;\">\n",
    "<b style = 'font-size:20px;font-family:Arial'>3. HoltWintersForecaster</b>\n",
    "<p style = 'font-size:16px;font-family:Arial'>The The HoltWintersForecaster() function uses triple exponential smoothing on a forecast model with seasonal data. Detailed help can be found by passing function name to built-in help function.</p>"
   ]
  },
  {
   "cell_type": "code",
   "execution_count": null,
   "id": "0b73d527-dc79-4c7c-9701-fa52dae515dc",
   "metadata": {},
   "outputs": [],
   "source": [
    "help(HoltWintersForecaster)"
   ]
  },
  {
   "cell_type": "markdown",
   "id": "53dd83de-de2b-4cd4-9c1c-85efb56f4e38",
   "metadata": {},
   "source": [
    "<p style = 'font-size:16px;font-family:Arial'>The first step is to convert the data into TDSeries, which is required for the input time series which are passed to the DTW function.</p>"
   ]
  },
  {
   "cell_type": "code",
   "execution_count": null,
   "id": "a711f58c-fbd3-4457-9f6a-9cd5c1b192dc",
   "metadata": {},
   "outputs": [],
   "source": [
    "data_series_df = TDSeries(data=data,\n",
    "                              row_index=\"idx\",\n",
    "                              row_index_style=\"SEQUENCE\",\n",
    "                              id=\"id\",\n",
    "                              payload_field=\"international\",\n",
    "                              payload_content=\"REAL\")"
   ]
  },
  {
   "cell_type": "markdown",
   "id": "e6d37367-a9ce-4a64-8a30-2e5af53f710c",
   "metadata": {},
   "source": [
    "<p style = 'font-size:16px;font-family:Arial'>We will generate forecast for 12 periods using multiplicative model.</p>\n",
    "\n",
    "<p style = 'font-size:16px;font-family:Arial'>Input parameters for the HoltWintersForecaster function:</p>\n",
    "<li style = 'font-size:16px;font-family:Arial'><code>data1:</code> Specifies the time series to forecast using historical data with series content type as 'REAL' or 'MULTIVAR_REAL'.</li>\n",
    "<li style = 'font-size:16px;font-family:Arial'><code>forecast_periods:</code> Specifies the number of periods to forecast. Value must be greater than or equal to 1.</li>\n",
    "<li style = 'font-size:16px;font-family:Arial'><code>model:</code> Specifies the type of Holt Winters forecasting. Permitted Values: <b>ADDITIVE</b> and <b>MULTIPLICATIVE</b></li>\n",
    "<li style = 'font-size:16px;font-family:Arial'><code>fit_metrics:</code> pecifies whether to generate the result set that contains the model metadata statistics. When set to True, function generates the model statistics, otherwise not. The generated model statistics can be retrieved using the attribute \"fitmetadata\" of the function output.</li>\n",
    "<li style = 'font-size:16px;font-family:Arial'><code>selection_metrics:</code> Specifies whether to generate the result set that contains the selection metrics. When set to True, function generates the selection metrics, otherwise not. The generated selection metrics can be retrieved using the attribute \"selmetrics\" of the function output.</li>"
   ]
  },
  {
   "cell_type": "code",
   "execution_count": null,
   "id": "8965392c-404e-4e25-b5b8-c7ef06069154",
   "metadata": {},
   "outputs": [],
   "source": [
    "uaf_out = HoltWintersForecaster(data=data_series_df,\n",
    "                                    forecast_periods=12,\n",
    "                                    model=\"MULTIPLICATIVE\",\n",
    "                                    residuals=True,\n",
    "                                    fit_metrics=True,\n",
    "                                    selection_metrics=True)\n",
    "\n",
    "hwf_df = uaf_out.result\n",
    "hwf_df"
   ]
  },
  {
   "cell_type": "markdown",
   "id": "ba47ebcf-717e-4480-92cc-880f61acc464",
   "metadata": {},
   "source": [
    "<p style = 'font-size:16px;font-family:Arial'><code>fitmetadata</code> - Available when \"fit_metrics\" is set to True, otherwise not</p>"
   ]
  },
  {
   "cell_type": "code",
   "execution_count": null,
   "id": "a15a8ac2-4aab-4ffb-b6c1-357edf0eb05c",
   "metadata": {},
   "outputs": [],
   "source": [
    "# Print the model statistics result.\n",
    "uaf_out.fitmetadata"
   ]
  },
  {
   "cell_type": "markdown",
   "id": "e4aeebc8-6913-425d-bb33-dceeeb94b8a4",
   "metadata": {},
   "source": [
    "<p style = 'font-size:16px;font-family:Arial'><code>selmetrics</code> - Available when \"selection_metrics\" is set to True, otherwise not.</p>"
   ]
  },
  {
   "cell_type": "code",
   "execution_count": null,
   "id": "e22d20e0-5871-4697-9333-2b997272eabc",
   "metadata": {},
   "outputs": [],
   "source": [
    "# Print the selection metrics result.\n",
    "uaf_out.selmetrics "
   ]
  },
  {
   "cell_type": "markdown",
   "id": "5f05e598-db5a-4416-a4ef-c4a103eed310",
   "metadata": {},
   "source": [
    "<p style = 'font-size:16px;font-family:Arial'><code>fitresiduals </code> - Available when \"residuals\" is set to True, otherwise not.</p>"
   ]
  },
  {
   "cell_type": "code",
   "execution_count": null,
   "id": "6200d1d8-99bd-4919-b0e9-d529e137acc5",
   "metadata": {},
   "outputs": [],
   "source": [
    "# Print the residuals statistics result.\n",
    "uaf_out.fitresiduals"
   ]
  },
  {
   "cell_type": "markdown",
   "id": "c25fdaf1-098b-4dea-984b-579c6412557e",
   "metadata": {},
   "source": [
    "<hr style=\"height:2px;border:none;\">\n",
    "<b style = 'font-size:20px;font-family:Arial'>4. Cleanup</b>"
   ]
  },
  {
   "cell_type": "markdown",
   "id": "a5d460af-1a32-4681-8094-360c3f25dc1f",
   "metadata": {},
   "source": [
    "<p style = 'font-size:18px;font-family:Arial'><b>Work Tables</b></p>\n",
    "<p style = 'font-size:16px;font-family:Arial'>The following code will clean up tables created above.</p>"
   ]
  },
  {
   "cell_type": "code",
   "execution_count": null,
   "id": "9dff9677-dae1-4cc5-b78e-3d197cc41e0c",
   "metadata": {},
   "outputs": [],
   "source": [
    "db_drop_table(\"us_air_pass\")"
   ]
  },
  {
   "cell_type": "code",
   "execution_count": null,
   "id": "9b96168c-7973-4259-b3e0-668b92fd846e",
   "metadata": {},
   "outputs": [],
   "source": [
    "remove_context()"
   ]
  },
  {
   "cell_type": "markdown",
   "id": "4317a6cf-1479-4aa8-b30a-ee0a3b5231a8",
   "metadata": {},
   "source": [
    "<hr style=\"height:1px;border:none;\">\n",
    "\n",
    "<p style = 'font-size:16px;font-family:Arial'><b>Links:</b></p>\n",
    "<ul style = 'font-size:16px;font-family:Arial'>\n",
    "    <li>Teradataml Python reference: <a href = 'https://docs.teradata.com/search/all?query=Python+Package+User+Guide&content-lang=en-US'>here</a></li>\n",
    "    <li>HoltWintersForecaster function reference: <a href = 'https://docs.teradata.com/search/all?query=HoltWintersForecaster&content-lang=en-US'>here</a></li>\n",
    "    \n",
    "</ul>"
   ]
  },
  {
   "cell_type": "markdown",
   "id": "b2dcca28-5de5-44d7-88cb-45a12153b3f8",
   "metadata": {},
   "source": [
    "<footer style=\"padding-bottom:35px; border-bottom:3px solid #91A0Ab\">\n",
    "    <div style=\"float:left;margin-top:14px\">ClearScape Analytics™</div>\n",
    "    <div style=\"float:right;\">\n",
    "        <div style=\"float:left; margin-top:14px\">\n",
    "            Copyright © Teradata Corporation - 2025. All Rights Reserved\n",
    "        </div>\n",
    "    </div>\n",
    "</footer>"
   ]
  }
 ],
 "metadata": {
  "kernelspec": {
   "display_name": "Python 3 (ipykernel)",
   "language": "python",
   "name": "python3"
  },
  "language_info": {
   "codemirror_mode": {
    "name": "ipython",
    "version": 3
   },
   "file_extension": ".py",
   "mimetype": "text/x-python",
   "name": "python",
   "nbconvert_exporter": "python",
   "pygments_lexer": "ipython3",
   "version": "3.9.10"
  }
 },
 "nbformat": 4,
 "nbformat_minor": 5
}
