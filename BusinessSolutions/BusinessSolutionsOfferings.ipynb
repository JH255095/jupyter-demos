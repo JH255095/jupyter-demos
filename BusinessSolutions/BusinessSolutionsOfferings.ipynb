{
 "cells": [
  {
   "cell_type": "markdown",
   "id": "551d92a1-a80f-4162-89a2-522369bf2e33",
   "metadata": {},
   "source": [
    "<header>\n",
    "   <p style=\"font-size: 36px; font-family: Arial; color: #F0F0F0; background-color: #00233c; padding: 20pt;\">\n",
    "       Teradata Business Solution Offerings\n",
    "       <br>\n",
    "       <img id=\"teradata-logo\" src=\"https://storage.googleapis.com/clearscape_analytics_demo_data/DEMO_Logo/teradata.svg\" alt=\"Teradata\" style=\"width: 125px; height: auto; margin-top: 20pt;\">\n",
    "   </p>\n",
    "</header>"
   ]
  },
  {
   "cell_type": "markdown",
   "id": "a3aecd33-c6a8-480e-94f6-3dcd9be59548",
   "metadata": {},
   "source": [
    "<p style = 'font-size:20px;font-family:Arial;'><b>Introduction:</b></p>\n",
    "\n",
    "\n",
    "<p style='font-size:16px;font-family:Arial;'>Today's customers expect relevant, seamless experiences at every stage of their journey with brands. And they're willing to walk away from companies that don't deliver. Organizations that can consistently create highly tailored, meaningful customer experiences will be positioned to win in this new reality. But first, you need to create a single source of all customer data - one that has the analytics capabilities to unlock insights that can help you deliver a seamless, personalized, and scalable customer experience at every touchpoint on the customer journey. Find out how Teradata can help you deliver better customer experience, build customer loyalty, and accelerate value.Today's customers expect relevant, seamless experiences at every stage of their journey with brands. And they're willing to walk away from companies that don't deliver. Organizations that can consistently create highly tailored, meaningful customer experiences will be positioned to win in this new reality. But first, you need to create a single source of all customer data - one that has the analytics capabilities to unlock insights that can help you deliver a seamless, personalized, and scalable customer experience at every touchpoint on the customer journey. Find out how Teradata can help you deliver better customer experience, build customer loyalty, and accelerate value.</p>\n",
    "\n",
    "<p style='font-size:16px;font-family:Arial;'>Teradata is offering several business solution offerings for business users, designed to enhance productivity, decision-making, and customer experience across various domains:</p>\n",
    "    \n",
    "<li style='font-size:16px;font-family:Arial;'>Recommendation Engine</li>\n",
    "<li style='font-size:16px;font-family:Arial;'>Hyper-personalization</li>\n",
    "<li style='font-size:16px;font-family:Arial;'>Journey Analytics</li>\n",
    "<li style='font-size:16px;font-family:Arial;'>360 Foundation</li>\n",
    "<li style='font-size:16px;font-family:Arial;'>Churn Analytics</li>\n",
    "\n",
    "</p>"
   ]
  },
  {
   "cell_type": "markdown",
   "id": "92a7b9ae-674d-4414-9597-b10e860063c7",
   "metadata": {},
   "source": [
    "<!-- Tile 1 -->\n",
    "<div style=\"border: 1px solid #00233c; padding: 20px; background-color: #F5F5F5; margin-bottom: 20px;\">\n",
    "    <h2>Product Recommendation</h2>\n",
    "    <p style='font-size:16px;font-family:Arial;color:#00233C'>Teradata’s solution for Product Recommendation leverages AI (both machine learning and generative AI) and Vantage In-DB functions to deliver personalized, scalable product recommendations that enhance customer engagement, customer loyalty and increased sales conversions</p>\n",
    "    <div style=\"text-align: center; \">\n",
    "        <a href=\"./ProductRecommendationGenAI.ipynb\">\n",
    "           <img src=\"./images/ProductRecommendation-1.png\" style=\"width: 50; height: 50; align=center; border:2px solid black\" alt=\"Product Recommendation\"/>\n",
    "            <p><em>Gen AI based Product Recommendation</em></p>\n",
    "        </a>\n",
    "    </div>\n",
    "</div>"
   ]
  },
  {
   "cell_type": "markdown",
   "id": "9b69fc50-9695-4759-a96b-9f47d82edf53",
   "metadata": {},
   "source": [
    "<!-- Tile 2 -->\n",
    "<div style=\"border: 1px solid #00233c; padding: 20px; background-color: #F5F5F5; margin-bottom: 20px;\">\n",
    "    <h2>Hyper Personalization</h2>\n",
    "    <p style = 'font-size:16px;font-family:Arial;color:#00233C'>Analyzing consumer complaints using audio files conversations involves leveraging advanced technologies like large language models (LLM) and Azure OpenAI to extract insights from unstructured data. This process can be applied to various sectors, including financial services, telecommunications, and e-commerce, to improve customer experience and protect consumer rights.</p>\n",
    "    <div style=\"text-align: center; \">\n",
    "        <a href=\"./BusinessSolutionsOfferings-Copy1.ipynb\">\n",
    "           <img src=\"./images/HyperPersonalization-1.png\" style=\"width: 50; height: 50; align=center; \" alt=\"Hyper Personalization\"/>           \n",
    "        </a>\n",
    "    </div>\n",
    "</div>"
   ]
  },
  {
   "cell_type": "markdown",
   "id": "2dcf689a-baa1-42ff-b223-715b1bf68d1d",
   "metadata": {},
   "source": [
    "<!-- Tile 4 -->\n",
    "<div style=\"border: 1px solid #00233c; padding: 20px; background-color: #F5F5F5; margin-bottom: 20px;\">\n",
    "    <h2>Journey Analytics</h2>\n",
    "    <p style = 'font-size:16px;font-family:Arial;color:#00233C'>This demo shows sentiment analysis using <b>Teradata Vantage</b> and the advanced <b>Azure OpenAI</b> model involves leveraging cutting-edge technologies to extract insights from unstructured data. This process empowers businesses to swiftly identify and address customer concerns, enhancing overall customer satisfaction and loyalty.</p>\n",
    "    <div style=\"text-align: center; \">\n",
    "        <a href=\"./BusinessSolutionsOfferings-Copy1.ipynb\">\n",
    "           <img src=\"./images/JourneyAnalytics-1.png\" style=\"width: 50; height: 50; align=center; \" alt=\"Journey Analytics\"/>           </a>\n",
    "    </div>\n",
    "</div>"
   ]
  },
  {
   "cell_type": "markdown",
   "id": "90e0f124-1476-4e95-af54-0bc62c467b4e",
   "metadata": {},
   "source": [
    "<!-- Tile 5 -->\n",
    "<div style=\"border: 1px solid #00233c; padding: 20px; background-color: #F5F5F5; margin-bottom: 20px;\">\n",
    "    <h2>Churn Analysis</h2>\n",
    "    <p style=\"font-size:16px;font-family:Arial;color:#00233c\">This demo uses advanced clustering techniques powered by <b>Teradata Vantage</b> and <b>OpenAI's Generative AI Embeddings</b> model to group similar customer complaints together. By identifying common themes and patterns, this functionality provides valuable insights into the key issues and pain points experienced by customers.</p>\n",
    "    <div style=\"text-align: center; \">\n",
    "        <a href=\"./BusinessSolutionsOfferings-Copy1.ipynb\">\n",
    "           <img src=\"./images/ChurnAnalysis-1.png\" style=\"width: 50; height: 50; align=center; \" alt=\"Journey Analytics\"/>           </a>\n",
    "    </div>\n",
    "</div>"
   ]
  },
  {
   "cell_type": "markdown",
   "id": "a8554f25-c10b-461f-93fb-1920c7cc90d0",
   "metadata": {},
   "source": [
    "<!-- Tile 6 -->\n",
    "<div style=\"border: 1px solid #00233c; padding: 20px; background-color: #F5F5F5; margin-bottom: 20px;\">\n",
    "    <h2>Customer 360 Foundation</h2>\n",
    "    <p style = 'font-size:16px;font-family:Arial;color:#00233C'>This demo shows a revolutionary way for  customer complaint resolution with our pioneering solution, which seamlessly integrates the capabilities of <b>Teradata Vantage</b> and <b>Azure OpenAI</b> model as LLM. This powerful synergy enables businesses to classify customer complaints with unmatched precision and speed, allowing them to swiftly identify and address concerns, thereby elevating overall customer satisfaction and loyalty.</p>\n",
    "    <img src=\"./images/classification.png\" alt=\"Complaints Classification\" style=\"width: 100%; height: auto; margin-bottom: 10px;\" />\n",
    "    <p><em>Complaints Classification using Vantage and Azure OpenAI</em></p>\n",
    "    <div style=\"text-align: right;\">\n",
    "        <a href=\"./Complaints_Classification.ipynb\" style=\"padding: 10px; background-color: #00233c; color: #FFFFFF; text-decoration: none; border-radius: 5px;\">\n",
    "            Open Demo\n",
    "        </a>\n",
    "    </div>\n",
    "</div>"
   ]
  },
  {
   "cell_type": "markdown",
   "id": "54a71f39-741a-4a22-9d02-83468fc96993",
   "metadata": {},
   "source": [
    "<footer style=\"padding-bottom: 35px; background: #f9f9f9; border-bottom: 3px solid #00233C\">\n",
    "    <div style=\"float: left; margin-top: 14px;\">ClearScape Analytics™</div>\n",
    "    <div style=\"float: right;\">\n",
    "        <div style=\"float: left; margin-top: 14px;\">Copyright © Teradata Corporation - 2025. All Rights Reserved.</div>\n",
    "    </div>\n",
    "</footer>"
   ]
  }
 ],
 "metadata": {
  "kernelspec": {
   "display_name": "Python 3 (ipykernel)",
   "language": "python",
   "name": "python3"
  },
  "language_info": {
   "codemirror_mode": {
    "name": "ipython",
    "version": 3
   },
   "file_extension": ".py",
   "mimetype": "text/x-python",
   "name": "python",
   "nbconvert_exporter": "python",
   "pygments_lexer": "ipython3",
   "version": "3.9.10"
  }
 },
 "nbformat": 4,
 "nbformat_minor": 5
}
