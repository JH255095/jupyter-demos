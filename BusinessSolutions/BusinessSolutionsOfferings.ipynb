{
 "cells": [
  {
   "cell_type": "markdown",
   "id": "551d92a1-a80f-4162-89a2-522369bf2e33",
   "metadata": {},
   "source": [
    "<header>\n",
    "   <p style=\"font-size: 36px; font-family: Arial; color: #F0F0F0; background-color: #00233c; padding: 20pt;\">\n",
    "       Teradata Use Case Solution Offerings\n",
    "       <br>\n",
    "       <img id=\"teradata-logo\" src=\"https://storage.googleapis.com/clearscape_analytics_demo_data/DEMO_Logo/teradata.svg\" alt=\"Teradata\" style=\"width: 125px; height: auto; margin-top: 20pt;\">\n",
    "   </p>\n",
    "</header>"
   ]
  },
  {
   "cell_type": "markdown",
   "id": "a3aecd33-c6a8-480e-94f6-3dcd9be59548",
   "metadata": {},
   "source": [
    "<p style = 'font-size:20px;font-family:Arial;'><b>Introduction:</b></p>\n",
    "\n",
    "\n",
    "<p style='font-size:16px;font-family:Arial;'>Today's customers expect relevant, seamless experiences at every stage of their journey with brands. And they're willing to walk away from companies that don't deliver. Organizations that can consistently create highly tailored, meaningful customer experiences will be positioned to win in this new reality.The key is building real-time customer intelligence—uniting data across channels, tasks, and interactions to detect intent, anticipate needs, and shape every interaction. It’s not just about understanding customers—it’s about moving with them. Teradata has long been recognized as a leader in this space, and we’re building on that legacy to shape our AI for CX story: empowering modern customer experiences with the latest AI innovations</p>\n",
    "\n",
    "<p style='font-size:16px;font-family:Arial;'>Find out how Teradata can help you deliver better customer experience, build customer loyalty, and accelerate value leveraging the most powerful, open, and connected AI/ML capabilities on the market through our use case solution offerings:</p>\n",
    "    \n",
    "<li style='font-size:16px;font-family:Arial;'>AI for CX: Recommendation Engine</li>\n",
    "<li style='font-size:16px;font-family:Arial;'>AI for CX: Hyper-Personalization</li>\n",
    "<li style='font-size:16px;font-family:Arial;'>AI for CX: Customer Journey Analytics</li>\n",
    "<li style='font-size:16px;font-family:Arial;'>AI for CX: Churn Analytics</li>\n",
    "<li style='font-size:16px;font-family:Arial;'>AI for CX: Customer 360 Foundation</li>\n",
    "\n",
    "<p></p>"
   ]
  },
  {
   "cell_type": "markdown",
   "id": "92a7b9ae-674d-4414-9597-b10e860063c7",
   "metadata": {},
   "source": [
    "<!-- Tile 1 -->\n",
    "<div style=\"border: 1px solid #00233c; padding: 20px; background-color: #F5F5F5; margin-bottom: 20px;\">\n",
    "    <h1 style=\"font-size: 24px; font-family: Arial; color: #F0F0F0; background-color: #00233c; padding: 20pt;\">AI for CX: Recommendation Engine</h1>\n",
    "\n",
    "<p style='font-size:22px;font-family:Arial;color:#00233C'><b>Problem Statement:</b></p>\n",
    "<p style='font-size:16px;font-family:Arial;color:#00233C'>Organizations today face significant challenges in delivering effective personalization due to fragmented data, with customer information scattered across systems, hindering the creation of a unified user view. The challenges faced by customers in today's world are :</p>\n",
    "    <div style=\"text-align: center; \">\n",
    "    <img src=\"./Recommendation_Engine/images/Recommendation_ProbStmt_1.png\" width=\"400\" height=\"300\" text-align=\"center\" alt=\"Recommendation Problems\"/>\n",
    "    </div>\n",
    "    <p></p>\n",
    "<p style='font-size:22px;font-family:Arial;color:#00233C'><b>Teradata's Solution:</b></p>   \n",
    "<p style='font-size:16px;font-family:Arial;color:#00233C'>Teradata’s solution for Product Recommendation leverages AI (both machine learning and generative AI) and Vantage In-DB functions to deliver personalized, scalable product recommendations that enhance customer engagement, customer loyalty and increased sales conversions</p>\n",
    "    <div style=\"text-align: center; \">\n",
    "    <img src=\"./Recommendation_Engine/images/ProductRecommendation-1.png\" width=\"350\" height=\"350\" align=\"center\" alt=\"Product Recommendation\"/>\n",
    "    </div>    \n",
    "    <p></p>\n",
    "    <div style=\"text-align: right; \">\n",
    "        <a href=\"./Recommendation_Engine/ProductRecommendationGenAI.ipynb\" style=\"padding: 10px; background-color: #00233c; color: #FFFFFF; text-decoration: none; border-radius: 5px;\">\n",
    "         Gen AI based Product Recommendation\n",
    "        </a>\n",
    "    </div>\n",
    "</div>"
   ]
  },
  {
   "cell_type": "markdown",
   "id": "9b69fc50-9695-4759-a96b-9f47d82edf53",
   "metadata": {},
   "source": [
    "<!-- Tile 2 -->\n",
    "<div style=\"border: 1px solid #00233c; padding: 20px; background-color: #F5F5F5; margin-bottom: 20px;\">\n",
    "    <h1 style=\"font-size: 24px; font-family: Arial; color: #F0F0F0; background-color: #00233c; padding: 20pt;\">AI for CX: Hyper-Personalization</h1>\n",
    "    <p style='font-size:22px;font-family:Arial;color:#00233C'><b>Problem Statement:</b></p>\n",
    "    <p style = 'font-size:16px;font-family:Arial;color:#00233C'>Businesses today face four major hurdles in customer personalization—rising expectations, scalability, complexity, and lost revenue. This image captures how these challenges impact engagement and growth.</p><br>\n",
    "    <div style=\"text-align: center; \">\n",
    "    <img src=\"./Hyper-Personalization/images/HyperPersonalization_ProbStmt_1.png\" width=\"400\" height=\"400\" align=\"center\" alt=\"HyperPersonalization Problems\"/>\n",
    "    </div>\n",
    "    <br>\n",
    "   <p style='font-size:22px;font-family:Arial;color:#00233C'><b>Teradata's Solution:</b></p>  \n",
    "<p style = 'font-size:16px;font-family:Arial;color:#00233C'>Teradata’s Hyper-Personalization solution enhances customer engagement and increcolor-burnases revenue by delivering personalized, data-driven experiences.</p>\n",
    "    <div style=\"text-align: center;\">\n",
    "        <img src=\"./Hyper-Personalization/images/HyperPersonalization-1.png\" width=\"300\" height=\"300\" align=\"center\" alt=\"Hyper Personalization\"/>\n",
    "    </div>    \n",
    "    <div style=\"text-align: right; \">\n",
    "        <a href=\"./Hyper-Personalization/Hyper-Personalization.ipynb\" style=\"padding: 10px; background-color: #00233c; color: #FFFFFF; text-decoration: none; border-radius: 5px;\">\n",
    "         Teradata Powered Hyper-Personalization\n",
    "        </a>\n",
    "    </div>\n",
    "</div>"
   ]
  },
  {
   "cell_type": "markdown",
   "id": "2dcf689a-baa1-42ff-b223-715b1bf68d1d",
   "metadata": {},
   "source": [
    "<!-- Tile 4 -->\n",
    "<div style=\"border: 1px solid #00233c; padding: 20px; background-color: #F5F5F5; margin-bottom: 20px;\">\n",
    "    <h1 style=\"font-size: 24px; font-family: Arial; color: #F0F0F0; background-color: #00233c; padding: 20pt;\">AI for CX: Cutomer Journey Analytics</h1>\n",
    "    \n",
    "<p style='font-size:22px;font-family:Arial;color:#00233C'><b>Problem Statement:</b></p>\n",
    "    <p style = 'font-size:16px;font-family:Arial;color:#00233C'>Broken digital journeys are a growing concern, as friction points frustrate customers, often leading to dissatisfaction, abandonment, and lost opportunities. Major challenge organizations face is fragmented data—customer information is scattered across multiple systems, making it difficult to form a cohesive, actionable view. </p><br>\n",
    "    <div style=\"text-align: center; \">\n",
    "    <img src=\"./Customer_Journey/images/JourneyAnalytics_ProbStmt_1.png\" width=\"400\" height=\"400\" align=\"center\" alt=\"HyperPersonalization Problems\"/>\n",
    "    </div>\n",
    "    <br>\n",
    "   <p style='font-size:22px;font-family:Arial;color:#00233C'><b>Teradata's Solution:</b></p>    \n",
    "    \n",
    "<p style = 'font-size:16px;font-family:Arial;color:#00233C'>Unlock the full potential of your customer experience with Teradata’s Digital Journey Solution. Capture and analyze customer events to uncover the golden path, friction points, and identify root causes, enabling real-time decisions to optimize experiences, reduce digital leakage, and refine touchpoints across the journey.</p>\n",
    "    <div style=\"text-align: center;\">\n",
    "        <img src=\"./Customer_Journey/images/JourneyAnalytics-1.png\" width=\"300\" height=\"300\" align=\"center\" alt=\"Hyper Personalization\"/>\n",
    "    </div>    \n",
    "    <div style=\"text-align: right; \">\n",
    "        <a href=\"./Customer_Journey/CustomerJourneyAnalytics.ipynb\" style=\"padding: 10px; background-color: #00233c; color: #FFFFFF; text-decoration: none; border-radius: 5px;\">\n",
    "         Teradata's Customer Journey Analytics\n",
    "        </a>\n",
    "    </div>\n",
    "</div>"
   ]
  },
  {
   "cell_type": "markdown",
   "id": "90e0f124-1476-4e95-af54-0bc62c467b4e",
   "metadata": {},
   "source": [
    "<!-- Tile 5 -->\n",
    "<div style=\"border: 1px solid #00233c; padding: 20px; background-color: #F5F5F5; margin-bottom: 20px;\">\n",
    "    <h1 style=\"font-size: 24px; font-family: Arial; color: #F0F0F0; background-color: #00233c; padding: 20pt;\">AI for CX: Churn Analytics</h1>\n",
    "\n",
    "<p style='font-size:22px;font-family:Arial;color:#00233C'><b>Problem Statement:</b></p>\n",
    "    <p style = 'font-size:16px;font-family:Arial;color:#00233C'>Decreased profitability is a growing concern as customer churn leads to substantial revenue losses and drives up acquisition costs. A core challenge lies in the inaccuracy of churn prediction, often caused by complex and fragmented customer data that obscures key behavioral signals. Compounding this issue is the lack of visibility into the underlying drivers of churn, making it difficult for organizations to design and execute effective, targeted strategies.</p><br>\n",
    "    <div style=\"text-align: center; \">\n",
    "    <img src=\"./Churn_Analytics/images/ChurnAnalytics_ProbStmt.png\" width=\"400\" height=\"400\" align=\"center\" alt=\"HyperPersonalization Problems\"/>\n",
    "    </div>\n",
    "    <br>\n",
    "   <p style='font-size:22px;font-family:Arial;color:#00233C'><b>Teradata's Solution:</b></p>        \n",
    "    \n",
    "<p style=\"font-size:16px;font-family:Arial;color:#00233c\">A churn prediction solution that leverages Teradata’s in-database AI/ML capabilities and Clearscape’s open and connected framework to accurately identify at-risk customers and enable proactive retention strategies with a scalable, automated and integrated approach.</p>\n",
    "    <div style=\"text-align: center;\">\n",
    "        <img src=\"./Churn_Analytics/images/ChurnAnalysis-1.png\" width=\"300\" height=\"300\" align=\"center\" alt=\"Hyper Personalization\"/>\n",
    "    </div>    \n",
    "    <div style=\"text-align: right; \">\n",
    "        <a href=\"./Churn_Analytics/ChurnAnalyticsGenAI.ipynb\" style=\"padding: 10px; background-color: #00233c; color: #FFFFFF; text-decoration: none; border-radius: 5px;\">\n",
    "         AI-driven Churn Prediction\n",
    "        </a>\n",
    "    </div>\n",
    "</div>"
   ]
  },
  {
   "cell_type": "markdown",
   "id": "a8554f25-c10b-461f-93fb-1920c7cc90d0",
   "metadata": {},
   "source": [
    "<!-- Tile 6 -->\n",
    "<div style=\"border: 1px solid #00233c; padding: 20px; background-color: #F5F5F5; margin-bottom: 20px;\">\n",
    "    <h1 style=\"font-size: 24px; font-family: Arial; color: #F0F0F0; background-color: #00233c; padding: 20pt;\">AI for CX: Customer 360 Foundation</h1>\n",
    "    \n",
    "<p style='font-size:22px;font-family:Arial;color:#00233C'><b>Problem Statement:</b></p>\n",
    "    <p style = 'font-size:16px;font-family:Arial;color:#00233C'>Without a 360° view of the customer, the brand can sound tone-deaf when communicating. Using ad hoc data points in isolation, marketing can miss the bigger picture and fail to serve the customer's mission and overall journey. </p><br>\n",
    "    <div style=\"text-align: center; \">\n",
    "    <img src=\"./Customer_360/images/Cust360_ProbStmt.png\" width=\"900\" height=\"600\" align=\"center\" alt=\"Cust360 ProbStmt\"/>\n",
    "    </div>\n",
    "    <br>\n",
    "<p style='font-size:22px;font-family:Arial;color:#00233C'><b>Teradata's Solution:</b></p>        \n",
    "    \n",
    "<p style=\"font-size:16px;font-family:Arial;color:#00233c\">Teradata’s Customer 360 Foundation leverages an embedded Vantage functions library. Coupled with a set of match, merge, and cleanse processes to resolve identities. Providing the foundation to deliver an AI-enabled intelligent, hyper-personalized CX Solution for Businesses.</p>\n",
    "    <div style=\"text-align: center;\">\n",
    "        <img src=\"./Customer_360/images/Customer360-1.png\" width=\"250\" height=\"250\" align=\"center\" alt=\"Hyper Personalization\"/>\n",
    "    </div>    \n",
    "    <div style=\"text-align: right\">\n",
    "        <a href=\"./Customer_360/Customer360.ipynb\" style=\"padding: 10px; background-color: #00233c; color: #FFFFFF; text-decoration: none; border-radius: 5px;\">\n",
    "         Teradata’s Customer 360 Foundation\n",
    "        </a>\n",
    "    </div>\n",
    "</div>"
   ]
  },
  {
   "cell_type": "markdown",
   "id": "54a71f39-741a-4a22-9d02-83468fc96993",
   "metadata": {},
   "source": [
    "<footer style=\"padding-bottom: 35px; background: #f9f9f9; border-bottom: 3px solid #00233C\">\n",
    "    <div style=\"float: left; margin-top: 14px;\">ClearScape Analytics™</div>\n",
    "    <div style=\"float: right;\">\n",
    "        <div style=\"float: left; margin-top: 14px;\">Copyright © Teradata Corporation - 2025. All Rights Reserved.</div>\n",
    "    </div>\n",
    "</footer>"
   ]
  }
 ],
 "metadata": {
  "kernelspec": {
   "display_name": "Python 3 (ipykernel)",
   "language": "python",
   "name": "python3"
  },
  "language_info": {
   "codemirror_mode": {
    "name": "ipython",
    "version": 3
   },
   "file_extension": ".py",
   "mimetype": "text/x-python",
   "name": "python",
   "nbconvert_exporter": "python",
   "pygments_lexer": "ipython3",
   "version": "3.9.10"
  }
 },
 "nbformat": 4,
 "nbformat_minor": 5
}
