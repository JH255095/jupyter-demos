{
 "cells": [
  {
   "cell_type": "markdown",
   "id": "5bf39017-a816-41a8-b3e1-a30af91c4248",
   "metadata": {},
   "source": [
    "<header>\n",
    "   <p style=\"font-size: 36px; font-family: Arial; color: #F0F0F0; background-color: #00233c; padding: 20pt;\">\n",
    "       AI for CX: Customer 360\n",
    "       <br>\n",
    "       <img id=\"teradata-logo\" src=\"https://storage.googleapis.com/clearscape_analytics_demo_data/DEMO_Logo/teradata.svg\" alt=\"Teradata\" style=\"width: 125px; height: auto; margin-top: 20pt;\">\n",
    "   </p>\n",
    "</header>"
   ]
  },
  {
   "cell_type": "markdown",
   "id": "c77745ab-f14e-4f8e-8996-0a428427e0eb",
   "metadata": {},
   "source": [
    "<p style = 'font-size:20px;font-family:Arial;color:#00233c'><b>Introduction:</b></p>\n",
    "<p style='font-size:16px;font-family:Arial;color:#00233C'>Today, customers connect with businesses through websites, apps, stores, emails, and more. But often, customer data is scattered across different systems and departments, making it hard to see the full picture. This can lead to confusing or inconsistent experiences — like getting irrelevant messages or repeated requests for the same information.</p>\n",
    "\n",
    "<p style='font-size:16px;font-family:Arial;color:#00233C'>To truly understand customers and meet their needs, businesses need a complete view of who they are, what they want, and how they interact. This is called a <b>Customer 360</b> view.</p>\n",
    "<br>\n"
   ]
  },
  {
   "cell_type": "markdown",
   "id": "f11b2a98-25d5-44e2-ab1b-9a1cb6ddf8ce",
   "metadata": {},
   "source": [
    "<h1 style=\"font-size: 24px; font-family: Arial; color: #F0F0F0; background-color: #00233c; padding: 10pt;\">Key Challenges and Solutions</h1>\n",
    "\n",
    "<p style='font-size:16px;font-family:Arial;color:#00233C'>\n",
    "The image below visually summarizes some of the key <b>challenges</b> businesses face in achieving this.\n",
    "</p>\n"
   ]
  },
  {
   "cell_type": "markdown",
   "id": "2ddf49cd-c0b3-4875-9d24-518b65105825",
   "metadata": {},
   "source": [
    "<div style=\"text-align:center;\">\n",
    "    <img src=\"./images/Customer360Intro.png\" width=\"100%\" alt=\"Customer 360 Overview\"/>\n",
    "</div> \n",
    "\n",
    "<p style = 'font-size:20px;font-family:Arial;color:#00233c'><b>Solutions:</b></p>\n",
    "\n",
    "<div style=\"text-align:center;\">\n",
    "    <img src=\"./images/Customer360_Solutions.png\" width=\"100%\" alt=\"Customer 360 Overview\"/>\n",
    "</div> "
   ]
  },
  {
   "cell_type": "markdown",
   "id": "e15b2b76-aa01-4f66-98b4-46e9bf412c36",
   "metadata": {},
   "source": [
    "<h1 style=\"font-size: 24px; font-family: Arial; color: #F0F0F0; background-color: #00233c; padding: 10pt;\">Key Differentiators:</h1>\n",
    "\n",
    "<p></p>\n",
    "\n",
    "<!-- First Row: 3 Key Differentiators -->\n",
    "<table style='width:100%;table-layout:fixed; border: 1px solid black; border-collapse: collapse;'>\n",
    "    <tr style='border: 1px solid black; border-collapse: collapse;'>\n",
    "        <th style='font-size:30px;font-family:Arial;border: 1px solid black;background-color: #99A7B1; color:#00233c'><b>1</b></th>\n",
    "        <th style='font-size:30px;font-family:Arial;border: 1px solid black;background-color: #99A7B1; color:#00233c'><b>2</b></th>\n",
    "        <th style='font-size:30px;font-family:Arial;border: 1px solid black;background-color: #99A7B1; color:#00233c'><b>3</b></th>\n",
    "    </tr>\n",
    "    <tr style='font-size:16px;font-family:Arial;border: 1px solid black; border-collapse: collapse;'>\n",
    "        <td style='font-size:16px;font-family:Arial;border: 1px solid black;background-color: #FFFFFF;'>\n",
    "                        <b>Avoid Data Movement & Replication</b><br>\n",
    "            With Teradata Vantage, businesses eliminate the need for data duplication, reducing latency and minimizing complexity in their data-driven go-to-market (GTM) strategies. This helps prevent fragmentation across data, use cases, and integrations — enabling smarter, more focused resource investments.\n",
    "        </td>\n",
    "        <td style='font-size:16px;font-family:Arial;border: 1px solid black;background-color: #FFFFFF;'>\n",
    "            <b>Optimized Cost and Time-to-Market</b><br>\n",
    "            Teradata Micro Solutions offer early access to AI-driven customer experience (CX) insights. Customers only pay for what they need, when they need it — maximizing efficiency, reducing time-to-value, and significantly boosting ROI. This pay-as-you-go model offers a clear advantage over traditional CX platforms with costly upfront licensing.\n",
    "        </td>\n",
    "        <td style='font-size:16px;font-family:Arial;border: 1px solid black;background-color: #FFFFFF;'>\n",
    "            <b>Micro Solutions for Flexibility and Agility</b><br>\n",
    "            The Customer 360 Foundation supports a wide range of modular, AI-powered plug-and-play Micro Solutions. These are designed for fast deployment, enabling business leaders to quickly adapt to changing market demands while optimizing cost and value delivery. \n",
    "        </td>\n",
    "    </tr>\n",
    "</table>\n",
    "\n",
    "<!-- Spacer -->\n",
    "<p></p>\n",
    "\n",
    "<!-- Second Row: 2 More Key Differentiators -->\n",
    "<table style='width:66%;margin-left:auto;margin-right:auto;table-layout:fixed; border: 1px solid black; border-collapse: collapse;'>\n",
    "    <tr style='border: 1px solid black; border-collapse: collapse;'>\n",
    "        <th style='font-size:30px;font-family:Arial;border: 1px solid black;background-color: #99A7B1; color:#00233c'><b>4</b></th>\n",
    "        <th style='font-size:30px;font-family:Arial;border: 1px solid black;background-color: #99A7B1; color:#00233c'><b>5</b></th>\n",
    "    </tr>\n",
    "    <tr style='font-size:16px;font-family:Arial;border: 1px solid black; border-collapse: collapse;'>\n",
    "        <td style='font-size:16px;font-family:Arial;border: 1px solid black;background-color: #FFFFFF;'>\n",
    "            <b>Build Once – Use Anywhere</b><br>\n",
    "            At the heart of Teradata’s Customer 360 Foundation is a reusable, unified customer profile. This foundational asset can be leveraged across various marketing platforms, analytics tools, and engagement systems — ensuring consistency and scalability throughout the CX ecosystem.\n",
    "        </td>\n",
    "        <td style='font-size:16px;font-family:Arial;border: 1px solid black;background-color: #FFFFFF;'>\n",
    "            <b>AI/ML Driven Insights</b><br>\n",
    "            Powered by Teradata’s Enterprise Vector Store, the platform delivers deeper and more comprehensive customer insights. It identifies patterns and opportunities often missed by conventional tools — unlocking new, actionable data points that drive competitive advantage.\n",
    "        </td>\n",
    "    </tr>\n",
    "</table>\n",
    "\n",
    "<p></p>\n"
   ]
  },
  {
   "cell_type": "markdown",
   "id": "81734711-3008-4396-b7b3-9b21c73fed51",
   "metadata": {},
   "source": [
    "<h1 style=\"font-size: 24px; font-family: Arial; color: #F0F0F0; background-color: #00233c; padding: 10pt;\">Vantage Architecture -  Enabling GenAI at Scale:</h1>\n",
    "<p></p>\n",
    "<li style='font-size:16px;font-family:Arial;color:#00233C'>Seamlessly integrates structured and unstructured data from multiple sources — enabling both Large Language Models (LLMs) and in-database analytics to operate efficiently.\n",
    "</li>\n",
    "<p></p>\n",
    "<li style='font-size:16px;font-family:Arial;color:#00233C'>Delivers comprehensive AI-powered insights that drive end-to-end customer experience (CX) strategies — from understanding behaviors to personalizing engagement.</li>\n",
    "<p></p>\n",
    "<li style='font-size:16px;font-family:Arial;color:#00233C'>Builds rich, automated customer profiles that scale across the organization and enhance existing tools in the broader data ecosystem.</li>\n",
    "<p></p>\n",
    "\n",
    "<li style='font-size:16px;font-family:Arial;color:#00233C'>Encapsulates data embeddings within Teradata’s Enterprise Vector Store, offering inherent parallelism, high performance, and scalable AI/ML processing.</li>\n",
    "<p></p>\n",
    "\n",
    "<li style='font-size:16px;font-family:Arial;color:#00233C'>Comes pre-optimized for industry-specific use cases, with customer profiles that continuously improve through iterative learning and model refinement.</li>\n",
    "<p></p>\n",
    "\n",
    "<div style=\"text-align:center;\">\n",
    "    <img src=\"./images/Customer360Architecture.png\" width=\"100%\" height=\"800\" align=\"center\" alt=\"Customer 360 Architecture\"/>\n",
    "</div>\n"
   ]
  },
  {
   "cell_type": "markdown",
   "id": "330a290b-f587-45dc-acde-cf19bd26f24b",
   "metadata": {},
   "source": [
    "<h1 style=\"font-size: 24px; font-family: Arial; color: #F0F0F0; background-color: #00233c; padding: 10pt;\">Discover the Thrill – Experience It First Hand</h1>\n",
    "<table style = 'width:100%;table-layout:fixed; border: 1px solid black; border-collapse: collapse;'>\n",
    "    <tr style = 'border: 1px solid black; border-collapse: collapse;'>\n",
    "        <th style = 'font-size:18px;font-family:Arial;color:#00233C;border: 1px solid black; border-collapse: collapse;'><b>Experience Customer 360</b></th>\n",
    "        <th style = 'font-size:18px;font-family:Arial;color:#00233C;margin-left:800px;border: 1px solid black; border-collapse: collapse;'><b>Analytic Insights</b></th>\n",
    "    </tr>\n",
    "    <tr style = 'border: 1px solid black; border-collapse: collapse;'>\n",
    "        <td style = 'border: 1px solid black; border-collapse: collapse;'><img src = 'images/Customer360-1.png'></td>\n",
    "        <td style = 'border: 1px solid black; border-collapse: collapse;'><img src = 'images/Customer360_Insights.png' ></td>\n",
    "    </tr>\n",
    "    <tr style = 'border: 1px solid black; border-collapse: collapse;'>\n",
    "        <td style = 'border: 1px solid black; border-collapse: collapse;'>\n",
    "        <div style=\"text-align: center; \">\n",
    "        <a href=\"./Customer360Engine.ipynb\" style=\"padding: 6px; background-color: #EA5400; color: #FFFFFF; text-decoration: none; border-radius: 5px;\"><b>\n",
    "            Customer 360</b>\n",
    "        </a>\n",
    "        </div>    \n",
    "        </td>\n",
    "        <td style = 'border: 1px solid black; border-collapse: collapse;'>\n",
    "        <div style=\"text-align: center; \">\n",
    "        <a href=\"./Customer360Analytics.ipynb\" style=\"padding: 6px; background-color: #EA5400; color: #FFFFFF; text-decoration: none; border-radius: 5px;\"><b>\n",
    "            Analytic Insights</b>\n",
    "        </a>\n",
    "        </div>\n",
    "        </td>\n",
    "    </tr>\n",
    "</table>   "
   ]
  },
  {
   "cell_type": "code",
   "execution_count": null,
   "id": "48fdeb7b-0a67-46a5-b782-2951021a171f",
   "metadata": {},
   "outputs": [],
   "source": []
  }
 ],
 "metadata": {
  "kernelspec": {
   "display_name": "Python 3 (ipykernel)",
   "language": "python",
   "name": "python3"
  },
  "language_info": {
   "codemirror_mode": {
    "name": "ipython",
    "version": 3
   },
   "file_extension": ".py",
   "mimetype": "text/x-python",
   "name": "python",
   "nbconvert_exporter": "python",
   "pygments_lexer": "ipython3",
   "version": "3.9.10"
  }
 },
 "nbformat": 4,
 "nbformat_minor": 5
}
