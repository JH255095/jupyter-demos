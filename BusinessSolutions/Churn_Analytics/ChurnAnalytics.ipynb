{
 "cells": [
  {
   "cell_type": "markdown",
   "id": "a8098dba-7d58-4b8b-bb87-904b73ee0aca",
   "metadata": {},
   "source": [
    "<h1 style=\"font-size: 24px; font-family: Arial; color: #F0F0F0; background-color: #00233c; padding: 20pt;\">\n",
    "       Churn Analytics Coming Soon !</h1>\n",
    "      <img id=\"reco-eng\" src=\"./images/ChurnAnalytics_Demo.png\" alt=\"Recommendation Engine\" style=\"width: 800; height: 800; margin-top: 20pt;\">\n",
    "   \n"
   ]
  },
  {
   "cell_type": "markdown",
   "id": "a0eab5f5-c601-436d-ab16-2a4527db3cd3",
   "metadata": {},
   "source": [
    "<footer style=\"padding-bottom: 35px; background: #f9f9f9; border-bottom: 3px solid #00233C\">\n",
    "    <div style=\"float: left; margin-top: 14px;\">ClearScape Analytics™</div>\n",
    "    <div style=\"float: right;\">\n",
    "        <div style=\"float: left; margin-top: 14px;\">Copyright © Teradata Corporation - 2025. All Rights Reserved.</div>\n",
    "    </div>\n",
    "</footer>"
   ]
  }
 ],
 "metadata": {
  "kernelspec": {
   "display_name": "Python 3 (ipykernel)",
   "language": "python",
   "name": "python3"
  },
  "language_info": {
   "codemirror_mode": {
    "name": "ipython",
    "version": 3
   },
   "file_extension": ".py",
   "mimetype": "text/x-python",
   "name": "python",
   "nbconvert_exporter": "python",
   "pygments_lexer": "ipython3",
   "version": "3.9.10"
  }
 },
 "nbformat": 4,
 "nbformat_minor": 5
}
