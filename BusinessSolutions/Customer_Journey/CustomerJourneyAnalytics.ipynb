{
 "cells": [
  {
   "cell_type": "markdown",
   "id": "551d92a1-a80f-4162-89a2-522369bf2e33",
   "metadata": {},
   "source": [
    "<header>\n",
    "   <p style=\"font-size: 36px; font-family: Arial; color: #F0F0F0; background-color: #00233c; padding: 20pt;\">\n",
    "       AI for CX - Customer Journey Analytics\n",
    "       <br>\n",
    "       <img id=\"teradata-logo\" src=\"https://storage.googleapis.com/clearscape_analytics_demo_data/DEMO_Logo/teradata.svg\" alt=\"Teradata\" style=\"width: 125px; height: auto; margin-top: 20pt;\">\n",
    "   </p>\n",
    "</header>"
   ]
  },
  {
   "cell_type": "markdown",
   "id": "92a7b9ae-674d-4414-9597-b10e860063c7",
   "metadata": {},
   "source": [
    "<p style = 'font-size:20px;font-family:Arial;'><b>Introduction:</b></p>\n",
    "<p style='font-size:16px;font-family:Arial;'>In today’s competitive landscape, organizations face mounting pressure to deliver seamless, data-driven customer experiences. Yet, many struggle with operational inefficiencies—such as delays in identifying root issues, extracting meaningful insights, and executing swift, data-informed decisions. These challenges often impede their ability to consistently meet evolving customer expectations, ultimately leading to missed business opportunities and diminished customer satisfaction.</p>\n",
    "\n",
    "<div style=\"text-align: center; \">\n",
    "<img src=\"./images/CustomerJourney_CurrentTrends.png\" width=\"300\" height=\"300\" align=\"middle\" alt=\"Customer Journey current trends\"/>\n",
    "</div>\n",
    "<br>\n",
    "<p style='font-size:16px;font-family:Arial;'>\n",
    "Customer journey analysis is transforming with AI and machine learning, enabling businesses to optimize interactions and drive better outcomes. Companies investing in journey mapping see 54% higher marketing ROI.<br>\n",
    "<ol style='font-size:16px;font-family:Arial;'>\n",
    "    <li><b>AI-Driven Insights & Automation</b>\n",
    "        <ul style='font-size:16px;font-family:Arial;'>\n",
    "            <li>1. AI and machine learning enhance customer behavior analysis, predict friction points, and enable real-time personalization.</li>\n",
    "        <li>2. Journey orchestration platforms automate processes, reducing manual effort and improving efficiency.</li>\n",
    "        </ul></li>\n",
    "    <li><b>Multichannel & Seamless Experience</b>\n",
    "        <ul style='font-size:16px;font-family:Arial;'>\n",
    "            <li>1. Businesses focus on delivering a unified experience across web, mobile, and in-store interactions.</li>\n",
    "            <li>2. Automation ensures smooth transitions between touchpoints, improving engagement and retention.</li>\n",
    "        </ul></li>\n",
    "    <li><b>Data-Backed Optimization</b>\n",
    "        <ul style='font-size:16px;font-family:Arial;'>\n",
    "            <li>1. Behavioral analytics and Voice of the Customer (VoC) insights help businesses identify and resolve pain points.</li>\n",
    "            <li>2. A data-driven approach ensures better customer service, higher conversions, and enhanced satisfaction.</li>\n",
    "        </ul></li>\n",
    " <li><b>Investment in CX Innovations</b>\n",
    "        <ul style='font-size:16px;font-family:Arial;'>\n",
    "            <li>1.Companies are adopting self-service optimization, IoT integration, and gamification to enhance user experiences.</li>\n",
    "            <li>2. The focus is on proactive engagement, retention, and long-term brand loyalty. </li>\n",
    "     </ul>\n",
    "    </li>\n",
    "      "
   ]
  },
  {
   "cell_type": "markdown",
   "id": "8b0bfb34-4936-49c7-80cb-981d2e20bd7d",
   "metadata": {},
   "source": [
    "<h1 style=\"font-size: 24px; font-family: Arial; color: #F0F0F0; background-color: #00233c; padding: 10pt;\">Key Challenges and Solutions</h1>\n",
    "\n",
    "<p style='font-size:16px;font-family:Arial;color:#00233C'>Transform customer journey analytics with our ready-to-deploy solution. Teradata overcomes the limitations of traditional journey analytics solutions by providing real-time insights, improving operational efficiency, driving sales, and ensuring seamless integration with existing systems. Our advanced analytics help businesses optimize customer journeys for better engagement and conversions.\n",
    "</p>\n",
    "\n",
    "\n",
    "\n",
    "<img src=\"./images/CustomerJourney_KeyChallenges.png\" width=\"1000\" height=\"800\" align=\"center\" alt=\"CustomerJourney KeyChallenges\"/>\n",
    "\n",
    "\n",
    "<p></p>"
   ]
  },
  {
   "cell_type": "markdown",
   "id": "e4c322db-6d97-414a-9a28-c7287003e86e",
   "metadata": {},
   "source": [
    "<h1 style=\"font-size: 24px; font-family: Arial; color: #F0F0F0; background-color: #00233c; padding: 10pt;\">Key Differentiators:</h1>\n",
    "\n",
    "<p></p>\n",
    "\n",
    "<table style = 'width:100%;table-layout:fixed; border: 1px solid black; border-collapse: collapse;'>\n",
    "    <tr style = 'border: 1px solid black; border-collapse: collapse;padding: 1px'>\n",
    "        <th style = 'font-size:30px;font-family:Arial;border: 1px solid black;background-color: #99A7B1; border-collapse: collapse; color:#00233c'><b>1</b></th>\n",
    "        <th style = 'font-size:30px;font-family:Arial;border: 1px solid black;background-color: #99A7B1; border-collapse: collapse; color:#00233c'><b>2</b></th>\n",
    "        <th style = 'font-size:30px;font-family:Arial;border: 1px solid black;background-color: #99A7B1; border-collapse: collapse; color:#00233c'><b>3</b></th>\n",
    "    </tr>\n",
    "    <tr style = 'font-size:16px;font-family:Arial;border: 1px solid black; border-collapse: collapse;'>\n",
    "        <td style = 'font-size:16px;font-family:Arial;border: 1px solid black;background-color: #FFFFFF; border-collapse: collapse;'>Utilize an advanced <b>data analytics foundation </b>that integrates with existing customer experience ecosystems and technologies\n",
    "</td>\n",
    "        <td style = 'font-size:16px;font-family:Arial;border: 1px solid black;background-color: #FFFFFF; border-collapse: collapse;'>Extend <b>analytics at scale</b> capable of understanding <b>complex customer intentions</b>, leading to more accurate problem identification while <b>maximizing digital data usage</b> to uncover customer behaviors and insights\n",
    "</td>\n",
    "        <td style = 'font-size:16px;font-family:Arial;border: 1px solid black;background-color: #FFFFFF; border-collapse: collapse;'>Integrated <b>customised application</b> to explore end to end customer journeys with <b>built-in analytic</b> and <b>attribution tools</b> to understand and visualize various aspects of customer interactions</td>\n",
    "    </tr>\n",
    "    \n",
    "</table>\n",
    "\n",
    "<p></p>"
   ]
  },
  {
   "cell_type": "markdown",
   "id": "15faab63-9f6f-43ef-a8b8-5a477568ca1c",
   "metadata": {},
   "source": [
    "<h1 style=\"font-size: 24px; font-family: Arial; color: #F0F0F0; background-color: #00233c; padding: 10pt;\">Vantage Architecture</h1>\n",
    "<div style=\"text-align: center; \">\n",
    "<img src=\"./images/CustomerJourney_Architecture.png\" width=\"800\" height=\"800\" align=\"center\" alt=\"Customer Journey  Architecture\"/>\n",
    "    </div>\n",
    "<ol style='font-size:16px;font-family:Arial'>\n",
    "    <li>Capture <b>user interactions</b> across digital channels.</li>\n",
    "    <li><b>Data is ingested</b> into Vantage.</li>\n",
    "    <li>Digital data is integrated into <b>Teradata Vantage</b> to build a complete Customer 360.</li>\n",
    "    <li>Vantage <b>analytic capabilities for path analysis</b>, used at scale, to <b>uncover customer and business insights.</b> </li>\n",
    "    <li>Visualize digital journeys with <b>Path Analyzer</b>. Investigate pivotal moments with <b>attribution analysis</b>, process changes, conduct <b>proactive customer outreach</b> through Call Centers or messaging. </li>\n",
    "    <li>Broader <b>integration</b> of Vantage with the Martech ecosystem enables <b>customer outreach</b> through <b>communication channels</b>.</li>\n",
    "           "
   ]
  },
  {
   "cell_type": "markdown",
   "id": "5c48338d-fec9-4dc8-84f0-91eeaafc36e0",
   "metadata": {},
   "source": [
    "<h1 style=\"font-size: 24px; font-family: Arial; color: #F0F0F0; background-color: #00233c; padding: 10pt;\">Discover the Thrill – Experience It First Hand</h1>\n",
    "<table style = 'width:100%;table-layout:fixed; border: 1px solid black; border-collapse: collapse;'>\n",
    "    <tr style = 'border: 1px solid black; border-collapse: collapse;'>\n",
    "        <th style = 'font-size:18px;font-family:Arial;color:#00233C;border: 1px solid black; border-collapse: collapse;'><b>Path Analyzer</b></th>\n",
    "        <th style = 'font-size:18px;font-family:Arial;color:#00233C;margin-left:800px;border: 1px solid black; border-collapse: collapse;'><b>Reports</b></th>\n",
    "    </tr>\n",
    "    <tr style = 'border: 1px solid black; border-collapse: collapse;'>\n",
    "        <td style = 'border: 1px solid black; border-collapse: collapse;'><img src = '../Customer_Journey/images/CustomerJourney_JourneyAnalytics.png'></td>\n",
    "        <td style = 'border: 1px solid black; border-collapse: collapse;'>\n",
    "            <img src = '../Customer_Journey/images/JourneyAnalytics-1.png' ></td>\n",
    "    </tr>\n",
    "    <tr style = 'border: 1px solid black; border-collapse: collapse;'>\n",
    "        <td style = 'border: 1px solid black; border-collapse: collapse;'>\n",
    "        <div style=\"text-align: center; \">\n",
    "        <a href=\"../PathAnalyzerPlus/PathAnalyzer.ipynb\" style=\"padding: 5px; background-color: #00233c; color: #FFFFFF; text-decoration: none; border-radius: 5px;\">\n",
    "         Path Analyzer Application\n",
    "        </a>\n",
    "        </div>    \n",
    "        </td>\n",
    "        <td style = 'border: 1px solid black; border-collapse: collapse;'>\n",
    "        <div style=\"text-align: center; \">\n",
    "        <a href=\"../Customer_Journey/images/CustomerJourney_Reports.png\" style=\"padding: 5px; background-color: #00233c; color: #FFFFFF; text-decoration: none; border-radius: 5px;\">\n",
    "         Reports\n",
    "        </a>\n",
    "        </div>\n",
    "        </td>\n",
    "    </tr>\n",
    "</table>   "
   ]
  },
  {
   "cell_type": "markdown",
   "id": "54a71f39-741a-4a22-9d02-83468fc96993",
   "metadata": {},
   "source": [
    "<footer style=\"padding-bottom: 35px; background: #f9f9f9; border-bottom: 3px solid #00233C\">\n",
    "    <div style=\"float: left; margin-top: 14px;\">ClearScape Analytics™</div>\n",
    "    <div style=\"float: right;\">\n",
    "        <div style=\"float: left; margin-top: 14px;\">Copyright © Teradata Corporation - 2025. All Rights Reserved.</div>\n",
    "    </div>\n",
    "</footer>"
   ]
  }
 ],
 "metadata": {
  "kernelspec": {
   "display_name": "Python 3 (ipykernel)",
   "language": "python",
   "name": "python3"
  },
  "language_info": {
   "codemirror_mode": {
    "name": "ipython",
    "version": 3
   },
   "file_extension": ".py",
   "mimetype": "text/x-python",
   "name": "python",
   "nbconvert_exporter": "python",
   "pygments_lexer": "ipython3",
   "version": "3.9.10"
  }
 },
 "nbformat": 4,
 "nbformat_minor": 5
}
