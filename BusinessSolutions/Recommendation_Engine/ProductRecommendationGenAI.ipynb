{
 "cells": [
  {
   "cell_type": "markdown",
   "id": "551d92a1-a80f-4162-89a2-522369bf2e33",
   "metadata": {},
   "source": [
    "<header>\n",
    "   <p style=\"font-size: 36px; font-family: Arial; color: #F0F0F0; background-color: #00233c; padding: 20pt;\">\n",
    "       AI for CX: Recommendation Engine\n",
    "       <br>\n",
    "       <img id=\"teradata-logo\" src=\"https://storage.googleapis.com/clearscape_analytics_demo_data/DEMO_Logo/teradata.svg\" alt=\"Teradata\" style=\"width: 125px; height: auto; margin-top: 20pt;\">\n",
    "   </p>\n",
    "</header>"
   ]
  },
  {
   "cell_type": "markdown",
   "id": "92a7b9ae-674d-4414-9597-b10e860063c7",
   "metadata": {},
   "source": [
    "<p style = 'font-size:20px;font-family:Arial;color:#00233c'><b>Introduction:</b></p>\n",
    "<p style='font-size:16px;font-family:Arial;color:#00233C'>Legacy tools such as collaborative filtering are no longer sufficient in meeting modern customer expectations, as demand shifts toward AI-driven, trend-aware personalization inspired by advanced technologies like ChatGPT. Businesses that fail to adopt these innovations risk falling behind more agile competitors who are leveraging cutting-edge AI to deliver hyper-personalized experiences. This transformation is not confined to retail alone; industries such as healthcare, financial services, and manufacturing are also being reshaped by AI’s growing capabilities. Both generative and agentic AI are redefining personalization and recommendations, making them essential tools for future growth and competitive differentiation.</p>\n",
    "\n",
    "<p style='font-size:16px;font-family:Arial;color:#00233C'>GenAI has significant impact on current market trends. It has the potential to drive productivity gains across various industries, like smarter product recommendations in the retail and consumer packaged goods.</p>\n",
    "\n",
    "<div style=\"text-align: center; \">\n",
    "<img src=\"./images/Recommendation_CurrentTrends.png\" width=\"300\" height=\"300\" align=\"middle\" alt=\"Product Recommendation Architecture\"/>\n",
    "</div>\n",
    "   "
   ]
  },
  {
   "cell_type": "markdown",
   "id": "15faab63-9f6f-43ef-a8b8-5a477568ca1c",
   "metadata": {},
   "source": [
    "<h1 style=\"font-size: 24px; font-family: Arial; color: #F0F0F0; background-color: #00233c; padding: 10pt;\">Key Challenges and Solutions</h1>\n",
    "\n",
    "<p style='font-size:16px;font-family:Arial;color:#00233C'>This AI Driven evolution address the key challenges inherent to standard recommendation methods. We've identified 5 key challenges, and will cover our aspects to providing solution:</p>\n",
    "\n",
    "\n",
    "\n",
    "<img src=\"./images/Recommendation_KeyChallenges_1.png\" width=\"1000\" height=\"800\" align=\"center\" alt=\"Product Recommendation Architecture\"/>\n",
    "\n",
    "\n",
    "\n",
    "<p></p>\n"
   ]
  },
  {
   "cell_type": "markdown",
   "id": "5c48338d-fec9-4dc8-84f0-91eeaafc36e0",
   "metadata": {},
   "source": [
    "<h1 style=\"font-size: 24px; font-family: Arial; color: #F0F0F0; background-color: #00233c; padding: 10pt;\">Key Differentiators:</h1>\n",
    "\n",
    "<p></p>\n",
    "\n",
    "<table style = 'width:100%;table-layout:fixed; border: 1px solid black; border-collapse: collapse;'>\n",
    "    <tr style = 'border: 1px solid black; border-collapse: collapse;padding: 1px'>\n",
    "        <th style = 'font-size:30px;font-family:Arial;border: 1px solid black;background-color: #99A7B1; border-collapse: collapse; color:#00233c'><b>1</b></th>\n",
    "        <th style = 'font-size:30px;font-family:Arial;border: 1px solid black;background-color: #99A7B1; border-collapse: collapse; color:#00233c'><b>2</b></th>\n",
    "        <th style = 'font-size:30px;font-family:Arial;border: 1px solid black;background-color: #99A7B1; border-collapse: collapse; color:#00233c'><b>3</b></th>\n",
    "    </tr>\n",
    "    <tr style = 'font-size:16px;font-family:Arial;border: 1px solid black; border-collapse: collapse;'>\n",
    "        <td style = 'font-size:16px;font-family:Arial;border: 1px solid black;background-color: #FFFFFF; border-collapse: collapse;'><b>Agentic AI capabilities</b> leveraging <b>generative AI</b> and Vantage <b>in-DB</b> functions to deliver personalized, <b>scalable product recommendations</b> enhancing customer engagement, customer loyalty and increased sales</td>\n",
    "        <td style = 'font-size:16px;font-family:Arial;border: 1px solid black;background-color: #FFFFFF; border-collapse: collapse;'><b>Triple Modal Fusion</b> framework incorporating semantic connections across customer <b>browsing patterns, purchase history,</b> and <b>product characteristics,</b> leading to tailored recommendations that align with customer preferences.</td>\n",
    "        <td style = 'font-size:16px;font-family:Arial;border: 1px solid black;background-color: #FFFFFF; border-collapse: collapse;'><b>Accurate</b> and <b>dynamic predictions</b> that adapt to shifting consumer behaviors, delivered through <b>standardized APIs</b> for easy integration as well as <b>built-in visualizations</b> for governance & assessment</td>\n",
    "    </tr>\n",
    "    \n",
    "</table>\n",
    "\n",
    "<p></p>\n"
   ]
  },
  {
   "cell_type": "markdown",
   "id": "5cbe918e-28a1-4e5f-ba6a-72d99aabf74c",
   "metadata": {},
   "source": [
    "<h1 style=\"font-size: 24px; font-family: Arial; color: #F0F0F0; background-color: #00233c; padding: 10pt;\">Vantage Architecture -  Enabling GenAI at Scale:</h1>\n",
    "<p></p>\n",
    "<li style='font-size:16px;font-family:Arial;color:#00233C'>Seamless integration with cloud based LLM end-points through Vantage APIs\n",
    "</li>\n",
    "<p></p>\n",
    "<li style='font-size:16px;font-family:Arial;color:#00233C'>Ingests structured and unstructured data for LLM feature embeddings generation.</li>\n",
    "<p></p>\n",
    "<li style='font-size:16px;font-family:Arial;color:#00233C'>Encapsulates embeddings in Teradata’s Enterprise VectorDB with inherent parallelism and scalability</li>\n",
    "<p></p>\n",
    "\n",
    "<li style='font-size:16px;font-family:Arial;color:#00233C'>Performant in-database vector calculations and transformations with Vantage UAF</li>\n",
    "<p></p>\n",
    "\n",
    "<img src=\"./images/ProductRecommend_Architecture.png\" width=\"800\" height=\"800\" align=\"center\" alt=\"Product Recommendation Architecture\"/>\n"
   ]
  },
  {
   "cell_type": "markdown",
   "id": "07f9d5d4-1032-4236-a59b-e8025a29197e",
   "metadata": {},
   "source": [
    "<h1 style=\"font-size: 24px; font-family: Arial; color: #F0F0F0; background-color: #00233c; padding: 10pt;\">Discover the Thrill – Experience It First Hand</h1>\n",
    "<table style = 'width:100%;table-layout:fixed; border: 1px solid black; border-collapse: collapse;'>\n",
    "    <tr style = 'border: 1px solid black; border-collapse: collapse;'>\n",
    "        <th style = 'font-size:18px;font-family:Arial;color:#00233C;border: 1px solid black; border-collapse: collapse;'><b>Experience the product recommendation engine</b></th>\n",
    "        <th style = 'font-size:18px;font-family:Arial;color:#00233C;margin-left:800px;border: 1px solid black; border-collapse: collapse;'><b>Analytic Insights</b></th>\n",
    "    </tr>\n",
    "    <tr style = 'border: 1px solid black; border-collapse: collapse;'>\n",
    "        <td style = 'border: 1px solid black; border-collapse: collapse;'><img src = 'images/Prod_recommendation_image-1.png'></td>\n",
    "        <td style = 'border: 1px solid black; border-collapse: collapse;'><img src = 'images/Product_sales.png' ></td>\n",
    "    </tr>\n",
    "    <tr style = 'heigth: 800px; border: 1px solid black; border-collapse: collapse; '>\n",
    "        <td style = 'border: 1px solid black; border-collapse: collapse;'>\n",
    "        <div style=\"text-align: center; \">\n",
    "        <a href=\"./RecommendationEngine.ipynb\" style=\"padding: 6px; background-color: #EA5400; color: #FFFFFF; text-decoration: none; border-radius: 5px;\"><b>\n",
    "            Recommendation Engine</b>\n",
    "        </a>\n",
    "        </div>    \n",
    "        </td>\n",
    "        <td style = 'border: 1px solid black; border-collapse: collapse;'>\n",
    "        <div style=\"text-align: center; \">\n",
    "        <a href=\"./RecommendationAnalytics.ipynb\" style=\"padding: 6px; background-color: #EA5400; color: #FFFFFF; text-decoration: none; border-radius: 5px;\"><b>\n",
    "            Analytic Insights</b>\n",
    "        </a>\n",
    "        </div>\n",
    "        </td>\n",
    "    </tr>\n",
    "</table>   "
   ]
  },
  {
   "cell_type": "markdown",
   "id": "54a71f39-741a-4a22-9d02-83468fc96993",
   "metadata": {},
   "source": [
    "<footer style=\"padding-bottom: 35px; background: #f9f9f9; border-bottom: 3px solid #00233C\">\n",
    "    <div style=\"float: left; margin-top: 14px;\">ClearScape Analytics™</div>\n",
    "    <div style=\"float: right;\">\n",
    "        <div style=\"float: left; margin-top: 14px;\">Copyright © Teradata Corporation - 2025. All Rights Reserved.</div>\n",
    "    </div>\n",
    "</footer>"
   ]
  }
 ],
 "metadata": {
  "kernelspec": {
   "display_name": "Python 3 (ipykernel)",
   "language": "python",
   "name": "python3"
  },
  "language_info": {
   "codemirror_mode": {
    "name": "ipython",
    "version": 3
   },
   "file_extension": ".py",
   "mimetype": "text/x-python",
   "name": "python",
   "nbconvert_exporter": "python",
   "pygments_lexer": "ipython3",
   "version": "3.9.10"
  }
 },
 "nbformat": 4,
 "nbformat_minor": 5
}
