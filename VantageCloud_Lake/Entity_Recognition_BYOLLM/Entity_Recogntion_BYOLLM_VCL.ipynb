{
 "cells": [
  {
   "cell_type": "markdown",
   "id": "f51cd2f7-a4c4-4edf-848a-b46e3cdd651b",
   "metadata": {
    "tags": []
   },
   "source": [
    "<header>\n",
    "   <p  style='font-size:36px;font-family:Arial; color:#F0F0F0; background-color: #00233c; padding-left: 20pt; padding-top: 20pt;padding-bottom: 10pt; padding-right: 20pt;'>\n",
    "       Unstructured Text Analysis With BYO-LLM and NVIDIA GPU Acceleration\n",
    "  <br>\n",
    "       <img id=\"teradata-logo\" src=\"https://storage.googleapis.com/clearscape_analytics_demo_data/DEMO_Logo/teradata.svg\" alt=\"Teradata\" style=\"width: 125px; height: auto; margin-top: 20pt;\">\n",
    "    </p>\n",
    "</header>\n"
   ]
  },
  {
   "cell_type": "markdown",
   "id": "5a701f80-07b2-47ad-b2fd-2dcc597b97b2",
   "metadata": {},
   "source": [
    "<p style=\"font-size:20px;font-family:Arial;color:#00233C\"><b>Introduction:</b></p>\n",
    "\n",
    "<p style=\"font-size:16px;font-family:Arial;color:#00233C\">\n",
    "This notebook is designed for developers, data scientists, and AI practitioners who want to bring open-source Language Models (LMs) and Large Language Models (LLMs) closer to their data — quickly, securely, and at scale. As organizations race to deploy AI applications, developers face key challenges: selecting the right model, minimizing data movement, ensuring security, and controlling costs.  Teradata’s Bring Your Own LLM (BYO-LLM) capability addresses these challenges by allowing you to deploy open-source <b>Hugging Face</b> models directly inside VantageCloud — where your data already lives.\n",
    "</p>\n",
    "\n",
    "<p style=\"font-size:18px;font-family:Arial;color:#00233C\"><b>What is BYO-LLM?</b></p>\n",
    "\n",
    "<p style=\"font-size:16px;font-family:Arial;color:#00233C\">\n",
    "<b>BYO-LLM</b> (Bring Your Own Large Language Model) is one of the VantageCloud Open Analytic Framework (OAF) key capabilities you’ll use in this notebook which gives developers complete control over AI deployment in VantageCloud:\n",
    "</p>\n",
    "\n",
    "<ul style=\"font-size:16px;font-family:Arial;color:#00233C\">\n",
    "    <li>Seamlessly integrate open-source models from Hugging Face</li>\n",
    "    <li>Eliminate the need to move data — reducing cost and compliance risk</li>\n",
    "    <li>Leverage GPU acceleration for inference speeds up to 200x faster than CPU</li>\n",
    "    <li>Experiment freely without vendor lock-in, while keeping your data secure and your operations scalable</li>\n",
    "</ul>\n",
    "\n",
    "<img src=\"BYOLLM_Flow.png\" alt=\"Architecture for BYOLLM\" style=\"width: 90%\">\n",
    "<p style=\"font-size:18px;font-family:Arial;color:#00233C\"><b>Buisness Impact of Open Source Language Models (LMs) for NLP tasks such as Unstructured Text Analysis?</b></p>\n",
    "\n",
    "\n",
    "<p style=\"font-size:16px;font-family:Arial;color:#00233C\">\n",
    "Language Models (LMs) are the foundation for solving Natural Language Processing (NLP) tasks such as unstructured text analysis — enabling machines to understand, interpret, and generate human language. Language Models enable businesses to:\n",
    "</p>\n",
    "\n",
    "<ul style=\"font-size:16px;font-family:Arial;color:#00233C\">\n",
    "    <li>Extract key information from documents, contracts, and research papers</li>\n",
    "    <li>Analyze customer feedback from emails, reviews, and social media</li>\n",
    "    <li>Power chatbots and virtual assistants for real-time support</li>\n",
    "    <li>Personalize marketing and customer experiences based on user interactions</li>\n",
    "</ul>\n",
    "\n",
    "<p style=\"font-size:16px;font-family:Arial;color:#00233C\">\n",
    "Through unstructured text analysis and open source LMs, businesses can:\n",
    "</p>\n",
    "<ul style=\"font-size:16px;font-family:Arial;color:#00233C\">\n",
    "    <li>Improve operational efficiency through automation</li>\n",
    "    <li>Gain real-time insights into customer sentiment and behavior</li>\n",
    "    <li>Respond proactively to customer concerns</li>\n",
    "    <li>Stay competitive by adapting to market and customer trends</li>\n",
    "</ul>"
   ]
  },
  {
   "cell_type": "markdown",
   "id": "329b1b1e-8041-4462-899a-04b52fabbed2",
   "metadata": {},
   "source": [
    "<hr style='height:2px;border:none;background-color:#00233C;'>\n",
    "<b style = 'font-size:20px;font-family:Arial;color:#00233c'>1. Configure the environment</b>"
   ]
  },
  {
   "cell_type": "code",
   "execution_count": null,
   "id": "5d758939-6961-4091-918d-a0663c7a633c",
   "metadata": {
    "tags": []
   },
   "outputs": [],
   "source": [
    "%%capture\n",
    "!pip install -r requirements.txt --quiet"
   ]
  },
  {
   "cell_type": "code",
   "execution_count": 2,
   "id": "6a9ed189-0658-444f-bb1f-085ec3a0487e",
   "metadata": {
    "tags": []
   },
   "outputs": [],
   "source": [
    "import teradataml\n",
    "import getpass\n",
    "import sys\n",
    "import pandas as pd\n",
    "from teradataml import *\n",
    "from teradatasqlalchemy.types import *\n",
    "from IPython.display import display as ipydisplay\n",
    "from os.path import expanduser\n",
    "\n",
    "import warnings\n",
    "warnings.filterwarnings(\"ignore\", category=FutureWarning)"
   ]
  },
  {
   "cell_type": "markdown",
   "id": "172733fa-6761-415c-9b61-68c5fd271a70",
   "metadata": {
    "tags": []
   },
   "source": [
    "<hr style=\"height:2px;border:none;background-color:#00233C;\">\n",
    "<p style = 'font-size:20px;font-family:Arial;color:#00233C'><b>2. Connect to VantageCloud Lake</b></p>\n",
    "<p style = 'font-size:16px;font-family:Arial;color:#00233C'>Connect to VantageCloud using `create_context` from the teradataml Python library. Input your connection details, including the host, username, password and Analytic Compute Group name.</p>\n",
    "\n",
    "\n",
    "\n",
    "\n"
   ]
  },
  {
   "cell_type": "code",
   "execution_count": null,
   "id": "fdd733f5-3176-4e9b-92b4-534b04c3f3bf",
   "metadata": {
    "tags": []
   },
   "outputs": [],
   "source": [
    "# Read the database/user_name|password from the environment.\n",
    "print(\"Creating the context...\") \n",
    "\n",
    "load_dotenv(\"../.config/.env\")\n",
    "host = os.getenv(\"host\")\n",
    "username = os.getenv(\"username\")\n",
    "my_variable = os.getenv(\"my_variable\")\n",
    "\n",
    "eng = create_context(host=host, username=username, password=my_variable)\n",
    "print(\"Connected to Teradata:\", eng)\n",
    "\n",
    "execute_sql('''SET query_band='Entity_Recognition_BYOLLM_VCL.ipynb;' UPDATE FOR SESSION;''')"
   ]
  },
  {
   "cell_type": "markdown",
   "id": "ca87760f-a031-4353-acc2-8a5cfc1d5f15",
   "metadata": {
    "tags": []
   },
   "source": [
    "<hr style=\"height:2px; border:none; background-color:#00233C;\">\n",
    "\n",
    "<p style=\"font-size:20px; font-family:Arial; color:#00233C;\"><b>3. Create a Sample Dataset for In-Database NLP tasks</b></p>\n",
    "<p style=\"font-size:16px; font-family:Arial; color:#00233C;\">\n",
    "Create a sample dataset to test NLP tasks with Hugging Face models. In this step, we create a table named <code>financial_entity_dataset</code> inside the default <code>DEMO_USER</code> database.\n",
    "</p>\n",
    "<p style=\"font-size:16px; font-family:Arial; color:#00233C;\">\n",
    "<b>💼 Use Case Summary:</b><br>\n",
    "In the wealth management industry, financial advisors hold many client meetings each week — discussing portfolios, insurance, loans, and retirement planning. Manually summarizing and tagging these interactions for compliance, CRM updates, or follow-up actions is time-consuming and often inconsistent.\n",
    "</p>\n",
    "<p style=\"font-size:16px; font-family:Arial; color:#00233C;\">\n",
    "With Teradata’s BYO-LLM capability, we can deploy an Open Source Hugging Face model directly within VantageCloud — where the client interaction data already resides.  In this demo, we’ll perform Named Entity Recognition (NER) with <a href=\"https://huggingface.co/tner/roberta-large-ontonotes5\" target=\"_blank\">tner/roberta-large-ontonotes5</a> for Extracting Key Phrases such as:\n",
    "\n",
    "<ul style=\"font-size:16px; font-family:Arial; color:#00233C;\">\n",
    "  <li>Client names</li>\n",
    "  <li>Financial institutions</li>\n",
    "  <li>Product types</li>\n",
    "  <li>Key dates</li>\n",
    "</ul> \n",
    "\n",
    "</p>\n",
    "<p style=\"font-size:16px; font-family:Arial; color:#00233C;\">\n",
    "This helps financial firms:\n",
    "<ul style=\"font-size:16px; font-family:Arial; color:#00233C;\">\n",
    "  <li>Automate meeting note tagging for faster documentation and regulatory compliance</li>\n",
    "  <li>Enhance client profiling by identifying frequently discussed financial topics</li>\n",
    "  <li>Streamline CRM updates by structuring insights from unstructured text</li>\n",
    "</ul>\n",
    "</p>\n",
    "<p style=\"font-size:16px; font-family:Arial; color:#00233C;\">\n",
    "All of this is achieved securely — without moving data — and using open-source models, giving teams full control, scalability, and flexibility.\n",
    "</p>\n"
   ]
  },
  {
   "cell_type": "code",
   "execution_count": 4,
   "id": "0d19cc1f-b730-4546-801c-f70fb6ea7f0c",
   "metadata": {
    "tags": []
   },
   "outputs": [
    {
     "data": {
      "text/html": [
       "<style type=\"text/css\">\n",
       "\ttable {border:ridge 5px;}\n",
       "\ttable td {border:inset 1px;}\n",
       "\ttable tr#HeaderRow {background-color:grey; color:white;}</style>\n",
       "<html><table>\n",
       "\t<tr id=\"HeaderRow\">\n",
       "\t\t<th>text</th>\n",
       "\t</tr>\n",
       "\t<tr>\n",
       "\t\t<td>Liam O'Brien opened a SEP IRA on January 5th in Los Angeles and contributed $6,500. Discussed tax implications with his CPA.</td>\n",
       "\t</tr>\n",
       "\t<tr>\n",
       "\t\t<td>Quarterly check-in with Noah Patel on April 20th in San Francisco. Portfolio rebalance completed shifted 5% from bonds to growth ETFs.</td>\n",
       "\t</tr>\n",
       "\t<tr>\n",
       "\t\t<td>Mortgage consultation with Isabella Chen on March 1st in Seattle. Compared preapproval options from Wells Fargo and Chase.</td>\n",
       "\t</tr>\n",
       "\t<tr>\n",
       "\t\t<td>Ethan Wright completed a full financial plan update on June 30th in Denver. Updated risk tolerance, added crypto exposure via Coinbase.</td>\n",
       "\t</tr>\n",
       "\t<tr>\n",
       "\t\t<td>Attended BlackRock fixed income seminar with Mason Lee in Boston. Evaluated suitability of municipal bond ladder strategy.</td>\n",
       "\t</tr>\n",
       "\t<tr>\n",
       "\t\t<td>Ava Johnson requested auto insurance review on July 12th in Phoenix. Referred her to our partner agent at Liberty Mutual.</td>\n",
       "\t</tr>\n",
       "\t<tr>\n",
       "\t\t<td>Olivia Rodriguez promoted at Morgan Stanley in Chicago; discussed changes to her restricted stock unit (RSU) vesting schedule on Feb 22.</td>\n",
       "\t</tr>\n",
       "\t<tr>\n",
       "\t\t<td>Reviewed insurance coverage with Sophia Martinez on May 10th in Austin. Quoted State Farm term life policy and advised on umbrella coverage.</td>\n",
       "\t</tr>\n",
       "\t<tr>\n",
       "\t\t<td>Call with James Delgado on April 2nd in Chicago to discuss employer 401(k) rollover to a Fidelity IRA. Sent transfer paperwork via DocuSign.</td>\n",
       "\t</tr>\n",
       "\t<tr>\n",
       "\t\t<td>Met with Emily Thompson on March 15th in New York to review her retirement portfolio. Recommended reallocating 10% into international equities through JPMorgan mutual funds.</td>\n",
       "\t</tr>\n",
       "</table></html>"
      ],
      "text/plain": [
       "                                                                                                                                                                            text\n",
       "0                                                   Liam O'Brien opened a SEP IRA on January 5th in Los Angeles and contributed $6,500. Discussed tax implications with his CPA.\n",
       "1                                         Quarterly check-in with Noah Patel on April 20th in San Francisco. Portfolio rebalance completed shifted 5% from bonds to growth ETFs.\n",
       "2                                                     Mortgage consultation with Isabella Chen on March 1st in Seattle. Compared preapproval options from Wells Fargo and Chase.\n",
       "3                                        Ethan Wright completed a full financial plan update on June 30th in Denver. Updated risk tolerance, added crypto exposure via Coinbase.\n",
       "4                                                     Attended BlackRock fixed income seminar with Mason Lee in Boston. Evaluated suitability of municipal bond ladder strategy.\n",
       "5                                                      Ava Johnson requested auto insurance review on July 12th in Phoenix. Referred her to our partner agent at Liberty Mutual.\n",
       "6                                       Olivia Rodriguez promoted at Morgan Stanley in Chicago; discussed changes to her restricted stock unit (RSU) vesting schedule on Feb 22.\n",
       "7                                   Reviewed insurance coverage with Sophia Martinez on May 10th in Austin. Quoted State Farm term life policy and advised on umbrella coverage.\n",
       "8                                   Call with James Delgado on April 2nd in Chicago to discuss employer 401(k) rollover to a Fidelity IRA. Sent transfer paperwork via DocuSign.\n",
       "9  Met with Emily Thompson on March 15th in New York to review her retirement portfolio. Recommended reallocating 10% into international equities through JPMorgan mutual funds."
      ]
     },
     "execution_count": 4,
     "metadata": {},
     "output_type": "execute_result"
    }
   ],
   "source": [
    "import pandas as pd\n",
    "\n",
    "data = {\n",
    "    'text': [\n",
    "        \"Met with Emily Thompson on March 15th in New York to review her retirement portfolio. Recommended reallocating 10% into international equities through JPMorgan mutual funds.\",\n",
    "        \"Call with James Delgado on April 2nd in Chicago to discuss employer 401(k) rollover to a Fidelity IRA. Sent transfer paperwork via DocuSign.\",\n",
    "        \"Liam O'Brien opened a SEP IRA on January 5th in Los Angeles and contributed $6,500. Discussed tax implications with his CPA.\",\n",
    "        \"Reviewed insurance coverage with Sophia Martinez on May 10th in Austin. Quoted State Farm term life policy and advised on umbrella coverage.\",\n",
    "        \"Quarterly check-in with Noah Patel on April 20th in San Francisco. Portfolio rebalance completed shifted 5% from bonds to growth ETFs.\",\n",
    "        \"Mortgage consultation with Isabella Chen on March 1st in Seattle. Compared preapproval options from Wells Fargo and Chase.\",\n",
    "        \"Ethan Wright completed a full financial plan update on June 30th in Denver. Updated risk tolerance, added crypto exposure via Coinbase.\",\n",
    "        \"Olivia Rodriguez promoted at Morgan Stanley in Chicago; discussed changes to her restricted stock unit (RSU) vesting schedule on Feb 22.\",\n",
    "        \"Attended BlackRock fixed income seminar with Mason Lee in Boston. Evaluated suitability of municipal bond ladder strategy.\",\n",
    "        \"Ava Johnson requested auto insurance review on July 12th in Phoenix. Referred her to our partner agent at Liberty Mutual.\",\n",
    "        \"Benjamin Lin inquired about investing in a Nasdaq IPO opportunity on Sept 18th in New York City. Scheduled follow-up to review suitability.\",\n",
    "        \"Crypto education session with Mia Davis on Feb 1st in San Diego. Walked through setting up a Coinbase Pro account and cold wallet storage.\",\n",
    "        \"Lucas Taylor has a financial planning session on March 29th in Portland. Primary focus: saving for child’s education via 529 plan.\",\n",
    "        \"Harper Nguyen approved for SBA loan through JPMorgan in Houston. Reviewed repayment options and cash flow strategy.\",\n",
    "        \"Elijah Brooks executed multiple trades via Robinhood in Las Vegas. Cautioned on concentration risk in tech sector.\",\n",
    "        \"Amelia Greene joined Mastercard’s AI in Finance webinar hosted in Miami. Discussed implications for her fintech startup’s funding plans.\",\n",
    "        \"Logan Pierce invested in a Vanguard ESG fund on Sept 3rd from San Jose. Reviewed carbon exposure and impact metrics.\",\n",
    "        \"Charlotte Bennett updated her AmEx Platinum card in Atlanta for travel benefits. Revisited points strategy for upcoming Europe trip.\",\n",
    "        \"Alexander Moore activated a Capital One Venture card in Dallas. Discussed how to optimize miles redemption for business expenses.\",\n",
    "        \"Ella Fischer accepted new role at Deutsche Bank. Discussed impact on her deferred compensation plan and relocation to London.\",\n",
    "        \"Daniel Reed met at the Chase Manhattan branch in Manhattan. Discussed high-yield savings options and CD laddering.\",\n",
    "        \"Scarlett Thompson received $1,200 via PayPal for freelance work in Sacramento. Recommended SEP IRA contribution before tax deadline.\",\n",
    "        \"Matthew Hayes enrolled in a Roth IRA through Edward Jones in Cincinnati. Discussed converting his existing traditional IRA over two tax years.\",\n",
    "        \"Zoe Alvarez spoke at the Goldman Sachs Women in Finance forum in Washington, D.C. Reviewed her LinkedIn strategy and networking goals.\",\n",
    "        \"Levi Bennett transferred funds from HSBC to Barclays on October 10th in London. Set up UK pension contribution plan.\",\n",
    "        \"Grace Kim paid April rent using Zelle through Bank of America in Philadelphia. Flagged issue with overdraft protection; escalated to bank.\",\n",
    "        \"Henry Clark refinanced with Quicken Loans on June 17th in Minneapolis. Reviewed impact on mortgage interest deduction.\",\n",
    "        \"Luna Sinclair began internship at Citadel in Chicago. Discussed opening a Roth IRA with her stipend income.\",\n",
    "        \"Wyatt Green reviewed Betterment portfolio in Salt Lake City. Suggested tax-loss harvesting opportunities for Q2.\",\n",
    "        \"Violet Harper requested comprehensive financial plan in Orlando. Scheduled data gathering session; using Raymond James planning portal.\"\n",
    "    ]\n",
    "}\n",
    "\n",
    "\n",
    "# Create DataFrame\n",
    "df = pd.DataFrame(data)\n",
    "\n",
    "# Upload to Vantage \n",
    "copy_to_sql(df=df, table_name=\"financial_entity_dataset\", if_exists=\"replace\")\n",
    "\n",
    "# Create a teradataml DataFrame\n",
    "from teradataml import DataFrame\n",
    "financial_entity_dataset = DataFrame(\"financial_entity_dataset\")\n",
    "\n",
    "financial_entity_dataset\n",
    "\n",
    "  "
   ]
  },
  {
   "cell_type": "markdown",
   "id": "710b7ade-3ded-4882-8c3c-ef522918d98d",
   "metadata": {},
   "source": [
    "<hr style=\"height:2px;border:none;background-color:#00233C;\">\n",
    "<p style=\"font-size:20px;font-family:Arial;color:#00233C\"><b>4. Authenticate into User Environment Service (UES)</b></p>\n",
    "<p style=\"font-size:16px;font-family:Arial;color:#00233C\">\n",
    "UES authentication is required to manage Python or R environments in Teradata via APIs.\n",
    "</p>\n",
    "<p style=\"font-size:16px;font-family:Arial;color:#00233C\">\n",
    "You can authenticate using either:\n",
    "<ul style=\"font-size:16px;font-family:Arial;color:#00233C; margin-top:4px;\">\n",
    "  <li><b>OAuth via<a href=\"https://docs.teradata.com/r/Teradata-VantageCloud-Lake/Analyzing-Your-Data/Teradata-Package-for-Python-on-VantageCloud-Lake/Working-with-Open-Analytics/APIs-to-Use-with-Open-Analytics-Framework/API-to-Set-Authentication-Token/set_auth_token\" target=\"_blank\" style=\"color:#005B94;text-decoration:none;\">\n",
    "OAuth via <code>set_auth_token()</code></a></b>this will open a session in your default browser for authentication (default in this demo)</li>\n",
    "  <li><b>Personal Access Token (PAT)</b> and <b>PEM key file</b>\n",
    "    <li> For VantageCloud Lake systems, follow \n",
    "<a href=\"https://medium.com/teradata/deploy-hugging-face-llms-on-teradata-vantagecloud-lake-with-nvidia-gpu-acceleration-d94d999edaa5\" target=\"_blank\" style=\"color:#005B94;text-decoration:none;\">Step 4 of this tutorial</a> to locate your UES URL, PAT, and PEM file.</li>\n",
    "</ul>\n",
    "<p style=\"font-size:16px;font-family:Arial;color:#00233C\">\n",
    "For quick demonstration purposes we use OAuth and pass in the open analytics endpoint to our enviorment</p>"
   ]
  },
  {
   "cell_type": "code",
   "execution_count": null,
   "id": "b00e4eaa-047c-4065-92b4-7d9bc5131ce4",
   "metadata": {
    "tags": []
   },
   "outputs": [],
   "source": [
    "#set_auth_token(ues_url=getpass.getpass(\"ues_url:\"))"
   ]
  },
  {
   "cell_type": "code",
   "execution_count": null,
   "id": "d0a7aac9-5f6f-4bc3-805c-be9e3192b9bd",
   "metadata": {
    "tags": []
   },
   "outputs": [],
   "source": [
    "# uncomment to use personal access token and key \n",
    "load_dotenv(\"../.config/.env\")\n",
    "open_analytics_endpoint = os.getenv(\"ues_uri\")\n",
    "access_token = os.getenv(\"access_token\")\n",
    "pem_file = os.getenv(\"pem_file\")\n"
   ]
  },
  {
   "cell_type": "code",
   "execution_count": null,
   "id": "49d473a8-75b5-44a9-8682-f9b398fd8045",
   "metadata": {
    "tags": []
   },
   "outputs": [],
   "source": [
    "## uncomment to use personal access token and key \n",
    "configure.ues_url = open_analytics_endpoint\n",
    "if set_auth_token(ues_url=open_analytics_endpoint, username=username, pat_token=access_token, pem_file=pem_file):\n",
    "    print(\"UES Authentication successful\")\n",
    "else:\n",
    "    print(\"UES Authentication failed. Check credentials.\")\n",
    "    sys.exit(1)"
   ]
  },
  {
   "cell_type": "markdown",
   "id": "08c955c8-8e55-4910-835f-2d2e8ff135a6",
   "metadata": {
    "tags": []
   },
   "source": [
    "<hr style=\"height:2px; border:none; background-color:#00233C;\">\n",
    "<p style=\"font-size:20px; font-family:Arial; color:#00233C;\"><b>5. Set Up the User Environment in Teradata VantageCloud Lake for Model Deployment</b></p>\n",
    "<p style=\"font-size:16px; font-family:Arial; color:#00233C;\">\n",
    "Now that <b>UES authentication</b> is complete, we can begin managing user environments using Teradata’s API capabilities.\n",
    "Start by listing the available user environments to see if an existing one can be reused. To select and work within an existing environment, use the <code>get_env</code> API method.\n",
    "</p>"
   ]
  },
  {
   "cell_type": "code",
   "execution_count": 8,
   "id": "46de4fcb-0b73-4307-a6c2-c953621b4bd2",
   "metadata": {
    "tags": []
   },
   "outputs": [
    {
     "name": "stdout",
     "output_type": "stream",
     "text": [
      "Available Environments:\n"
     ]
    },
    {
     "data": {
      "text/html": [
       "<div>\n",
       "<style scoped>\n",
       "    .dataframe tbody tr th:only-of-type {\n",
       "        vertical-align: middle;\n",
       "    }\n",
       "\n",
       "    .dataframe tbody tr th {\n",
       "        vertical-align: top;\n",
       "    }\n",
       "\n",
       "    .dataframe thead th {\n",
       "        text-align: right;\n",
       "    }\n",
       "</style>\n",
       "<table border=\"1\" class=\"dataframe\">\n",
       "  <thead>\n",
       "    <tr style=\"text-align: right;\">\n",
       "      <th></th>\n",
       "      <th>env_name</th>\n",
       "      <th>env_description</th>\n",
       "      <th>base_env_name</th>\n",
       "      <th>language</th>\n",
       "      <th>conda</th>\n",
       "    </tr>\n",
       "  </thead>\n",
       "  <tbody>\n",
       "    <tr>\n",
       "      <th>0</th>\n",
       "      <td>HuggingFace_Webinar_CSAE</td>\n",
       "      <td>BYOLLM demo env</td>\n",
       "      <td>python_3.11</td>\n",
       "      <td>Python</td>\n",
       "      <td>False</td>\n",
       "    </tr>\n",
       "    <tr>\n",
       "      <th>1</th>\n",
       "      <td>td_gen_ai_env</td>\n",
       "      <td>This env 'td_gen_ai_env' is created with base ...</td>\n",
       "      <td>python_3.11</td>\n",
       "      <td>Python</td>\n",
       "      <td>False</td>\n",
       "    </tr>\n",
       "    <tr>\n",
       "      <th>2</th>\n",
       "      <td>teradatagenai_automation</td>\n",
       "      <td>BYOLLM demo env</td>\n",
       "      <td>python_3.11</td>\n",
       "      <td>Python</td>\n",
       "      <td>False</td>\n",
       "    </tr>\n",
       "  </tbody>\n",
       "</table>\n",
       "</div>"
      ],
      "text/plain": [
       "                   env_name  \\\n",
       "0  HuggingFace_Webinar_CSAE   \n",
       "1             td_gen_ai_env   \n",
       "2  teradatagenai_automation   \n",
       "\n",
       "                                     env_description base_env_name language  \\\n",
       "0                                    BYOLLM demo env   python_3.11   Python   \n",
       "1  This env 'td_gen_ai_env' is created with base ...   python_3.11   Python   \n",
       "2                                    BYOLLM demo env   python_3.11   Python   \n",
       "\n",
       "   conda  \n",
       "0  False  \n",
       "1  False  \n",
       "2  False  "
      ]
     },
     "metadata": {},
     "output_type": "display_data"
    }
   ],
   "source": [
    "env_list = list_user_envs()\n",
    "print(\"Available Environments:\")\n",
    "ipydisplay(env_list)"
   ]
  },
  {
   "cell_type": "code",
   "execution_count": 6,
   "id": "110c43ef-7b18-4120-b670-d2b6a9327bfa",
   "metadata": {
    "tags": []
   },
   "outputs": [
    {
     "name": "stdout",
     "output_type": "stream",
     "text": [
      "Env Name: HuggingFace_Webinar_CSAE\n"
     ]
    }
   ],
   "source": [
    "demo_env = get_env(input(\"Env Name:\"))"
   ]
  },
  {
   "cell_type": "markdown",
   "id": "c3013355-0786-44ac-ac8c-49db2b40b249",
   "metadata": {
    "tags": []
   },
   "source": [
    "<p style=\"font-size:16px;font-family:Arial;color:#00233C\">\n",
    "To create a new user environment, start by retrieving an available base python version.<br>\n",
    "Use the <a href =\"https://docs.teradata.com/r/Teradata-VantageCloud-Lake/Analyzing-Your-Data/Teradata-Package-for-Python-on-VantageCloud-Lake/Working-with-Open-Analytics/APIs-to-Use-with-Open-Analytics-Framework/APIs-to-Manage-User-Environments/create_env\"<code>create_env</code></a> API to assign a name, specify the version, and add a description for your new environment.\n",
    "</p>\n"
   ]
  },
  {
   "cell_type": "code",
   "execution_count": 23,
   "id": "fe2179aa-2aae-4dd4-b920-766fe9ae3907",
   "metadata": {
    "tags": []
   },
   "outputs": [
    {
     "name": "stdout",
     "output_type": "stream",
     "text": [
      "     base_name language  version\n",
      "0   python_3.9   Python   3.9.20\n",
      "1  python_3.10   Python  3.10.15\n",
      "2  python_3.11   Python  3.11.10\n",
      "3        r_4.3        R    4.3.3\n",
      "4        r_4.4        R    4.4.2\n"
     ]
    }
   ],
   "source": [
    "# Listing the available base environments \n",
    "print(list_base_envs())"
   ]
  },
  {
   "cell_type": "code",
   "execution_count": 24,
   "id": "39aaef62-8ca2-4803-bac6-7f621d30930e",
   "metadata": {
    "tags": []
   },
   "outputs": [
    {
     "name": "stdout",
     "output_type": "stream",
     "text": [
      "User environment 'HuggingFace_Webinar_CSAE' created.\n"
     ]
    }
   ],
   "source": [
    "## Create a new python user environment with a base enviorment available\n",
    "demo_env = create_env(env_name = \"HuggingFace_Webinar_CSAE\",\n",
    "                      base_env = 'python_3.10',\n",
    "                      desc = 'BYOLLM demo env')"
   ]
  },
  {
   "cell_type": "markdown",
   "id": "f6cb4e0e-6904-47f2-a5f0-02a916a1ffea",
   "metadata": {},
   "source": [
    "<p style=\"font-size:16px;font-family:Arial;color:#00233C\">\n",
    "Install required libraries into the user environment. For most Hugging Face these will be transformers and torch.\n",
    "</p> "
   ]
  },
  {
   "cell_type": "code",
   "execution_count": null,
   "id": "8597547d-052e-4156-ae8d-84141df39383",
   "metadata": {
    "tags": []
   },
   "outputs": [],
   "source": [
    "demo_env.install_lib([\"transformers\", \"torch\"])\n",
    "print(\"All libs installed\") "
   ]
  },
  {
   "cell_type": "code",
   "execution_count": 7,
   "id": "9a1866c9-8407-4064-8680-c38322faf9c2",
   "metadata": {
    "tags": []
   },
   "outputs": [
    {
     "data": {
      "text/html": [
       "<div>\n",
       "<style scoped>\n",
       "    .dataframe tbody tr th:only-of-type {\n",
       "        vertical-align: middle;\n",
       "    }\n",
       "\n",
       "    .dataframe tbody tr th {\n",
       "        vertical-align: top;\n",
       "    }\n",
       "\n",
       "    .dataframe thead th {\n",
       "        text-align: right;\n",
       "    }\n",
       "</style>\n",
       "<table border=\"1\" class=\"dataframe\">\n",
       "  <thead>\n",
       "    <tr style=\"text-align: right;\">\n",
       "      <th></th>\n",
       "      <th>name</th>\n",
       "      <th>version</th>\n",
       "    </tr>\n",
       "  </thead>\n",
       "  <tbody>\n",
       "    <tr>\n",
       "      <th>0</th>\n",
       "      <td>certifi</td>\n",
       "      <td>2025.4.26</td>\n",
       "    </tr>\n",
       "    <tr>\n",
       "      <th>1</th>\n",
       "      <td>charset-normalizer</td>\n",
       "      <td>3.4.2</td>\n",
       "    </tr>\n",
       "    <tr>\n",
       "      <th>2</th>\n",
       "      <td>filelock</td>\n",
       "      <td>3.18.0</td>\n",
       "    </tr>\n",
       "    <tr>\n",
       "      <th>3</th>\n",
       "      <td>fsspec</td>\n",
       "      <td>2025.3.2</td>\n",
       "    </tr>\n",
       "    <tr>\n",
       "      <th>4</th>\n",
       "      <td>huggingface-hub</td>\n",
       "      <td>0.30.2</td>\n",
       "    </tr>\n",
       "    <tr>\n",
       "      <th>5</th>\n",
       "      <td>idna</td>\n",
       "      <td>3.10</td>\n",
       "    </tr>\n",
       "    <tr>\n",
       "      <th>6</th>\n",
       "      <td>Jinja2</td>\n",
       "      <td>3.1.6</td>\n",
       "    </tr>\n",
       "    <tr>\n",
       "      <th>7</th>\n",
       "      <td>MarkupSafe</td>\n",
       "      <td>3.0.2</td>\n",
       "    </tr>\n",
       "    <tr>\n",
       "      <th>8</th>\n",
       "      <td>mpmath</td>\n",
       "      <td>1.3.0</td>\n",
       "    </tr>\n",
       "    <tr>\n",
       "      <th>9</th>\n",
       "      <td>networkx</td>\n",
       "      <td>3.4.2</td>\n",
       "    </tr>\n",
       "    <tr>\n",
       "      <th>10</th>\n",
       "      <td>numpy</td>\n",
       "      <td>2.2.5</td>\n",
       "    </tr>\n",
       "    <tr>\n",
       "      <th>11</th>\n",
       "      <td>nvidia-cublas-cu12</td>\n",
       "      <td>12.6.4.1</td>\n",
       "    </tr>\n",
       "    <tr>\n",
       "      <th>12</th>\n",
       "      <td>nvidia-cuda-cupti-cu12</td>\n",
       "      <td>12.6.80</td>\n",
       "    </tr>\n",
       "    <tr>\n",
       "      <th>13</th>\n",
       "      <td>nvidia-cuda-nvrtc-cu12</td>\n",
       "      <td>12.6.77</td>\n",
       "    </tr>\n",
       "    <tr>\n",
       "      <th>14</th>\n",
       "      <td>nvidia-cuda-runtime-cu12</td>\n",
       "      <td>12.6.77</td>\n",
       "    </tr>\n",
       "    <tr>\n",
       "      <th>15</th>\n",
       "      <td>nvidia-cudnn-cu12</td>\n",
       "      <td>9.5.1.17</td>\n",
       "    </tr>\n",
       "    <tr>\n",
       "      <th>16</th>\n",
       "      <td>nvidia-cufft-cu12</td>\n",
       "      <td>11.3.0.4</td>\n",
       "    </tr>\n",
       "    <tr>\n",
       "      <th>17</th>\n",
       "      <td>nvidia-cufile-cu12</td>\n",
       "      <td>1.11.1.6</td>\n",
       "    </tr>\n",
       "    <tr>\n",
       "      <th>18</th>\n",
       "      <td>nvidia-curand-cu12</td>\n",
       "      <td>10.3.7.77</td>\n",
       "    </tr>\n",
       "    <tr>\n",
       "      <th>19</th>\n",
       "      <td>nvidia-cusolver-cu12</td>\n",
       "      <td>11.7.1.2</td>\n",
       "    </tr>\n",
       "    <tr>\n",
       "      <th>20</th>\n",
       "      <td>nvidia-cusparse-cu12</td>\n",
       "      <td>12.5.4.2</td>\n",
       "    </tr>\n",
       "    <tr>\n",
       "      <th>21</th>\n",
       "      <td>nvidia-cusparselt-cu12</td>\n",
       "      <td>0.6.3</td>\n",
       "    </tr>\n",
       "    <tr>\n",
       "      <th>22</th>\n",
       "      <td>nvidia-nccl-cu12</td>\n",
       "      <td>2.26.2</td>\n",
       "    </tr>\n",
       "    <tr>\n",
       "      <th>23</th>\n",
       "      <td>nvidia-nvjitlink-cu12</td>\n",
       "      <td>12.6.85</td>\n",
       "    </tr>\n",
       "    <tr>\n",
       "      <th>24</th>\n",
       "      <td>nvidia-nvtx-cu12</td>\n",
       "      <td>12.6.77</td>\n",
       "    </tr>\n",
       "    <tr>\n",
       "      <th>25</th>\n",
       "      <td>packaging</td>\n",
       "      <td>25.0</td>\n",
       "    </tr>\n",
       "    <tr>\n",
       "      <th>26</th>\n",
       "      <td>pip</td>\n",
       "      <td>24.3.1</td>\n",
       "    </tr>\n",
       "    <tr>\n",
       "      <th>27</th>\n",
       "      <td>PyYAML</td>\n",
       "      <td>6.0.2</td>\n",
       "    </tr>\n",
       "    <tr>\n",
       "      <th>28</th>\n",
       "      <td>regex</td>\n",
       "      <td>2024.11.6</td>\n",
       "    </tr>\n",
       "    <tr>\n",
       "      <th>29</th>\n",
       "      <td>requests</td>\n",
       "      <td>2.32.3</td>\n",
       "    </tr>\n",
       "    <tr>\n",
       "      <th>30</th>\n",
       "      <td>safetensors</td>\n",
       "      <td>0.5.3</td>\n",
       "    </tr>\n",
       "    <tr>\n",
       "      <th>31</th>\n",
       "      <td>setuptools</td>\n",
       "      <td>80.1.0</td>\n",
       "    </tr>\n",
       "    <tr>\n",
       "      <th>32</th>\n",
       "      <td>sympy</td>\n",
       "      <td>1.14.0</td>\n",
       "    </tr>\n",
       "    <tr>\n",
       "      <th>33</th>\n",
       "      <td>tokenizers</td>\n",
       "      <td>0.21.1</td>\n",
       "    </tr>\n",
       "    <tr>\n",
       "      <th>34</th>\n",
       "      <td>torch</td>\n",
       "      <td>2.7.0</td>\n",
       "    </tr>\n",
       "    <tr>\n",
       "      <th>35</th>\n",
       "      <td>tqdm</td>\n",
       "      <td>4.67.1</td>\n",
       "    </tr>\n",
       "    <tr>\n",
       "      <th>36</th>\n",
       "      <td>transformers</td>\n",
       "      <td>4.51.3</td>\n",
       "    </tr>\n",
       "    <tr>\n",
       "      <th>37</th>\n",
       "      <td>triton</td>\n",
       "      <td>3.3.0</td>\n",
       "    </tr>\n",
       "    <tr>\n",
       "      <th>38</th>\n",
       "      <td>typing_extensions</td>\n",
       "      <td>4.13.2</td>\n",
       "    </tr>\n",
       "    <tr>\n",
       "      <th>39</th>\n",
       "      <td>urllib3</td>\n",
       "      <td>2.4.0</td>\n",
       "    </tr>\n",
       "  </tbody>\n",
       "</table>\n",
       "</div>"
      ],
      "text/plain": [
       "                        name    version\n",
       "0                    certifi  2025.4.26\n",
       "1         charset-normalizer      3.4.2\n",
       "2                   filelock     3.18.0\n",
       "3                     fsspec   2025.3.2\n",
       "4            huggingface-hub     0.30.2\n",
       "5                       idna       3.10\n",
       "6                     Jinja2      3.1.6\n",
       "7                 MarkupSafe      3.0.2\n",
       "8                     mpmath      1.3.0\n",
       "9                   networkx      3.4.2\n",
       "10                     numpy      2.2.5\n",
       "11        nvidia-cublas-cu12   12.6.4.1\n",
       "12    nvidia-cuda-cupti-cu12    12.6.80\n",
       "13    nvidia-cuda-nvrtc-cu12    12.6.77\n",
       "14  nvidia-cuda-runtime-cu12    12.6.77\n",
       "15         nvidia-cudnn-cu12   9.5.1.17\n",
       "16         nvidia-cufft-cu12   11.3.0.4\n",
       "17        nvidia-cufile-cu12   1.11.1.6\n",
       "18        nvidia-curand-cu12  10.3.7.77\n",
       "19      nvidia-cusolver-cu12   11.7.1.2\n",
       "20      nvidia-cusparse-cu12   12.5.4.2\n",
       "21    nvidia-cusparselt-cu12      0.6.3\n",
       "22          nvidia-nccl-cu12     2.26.2\n",
       "23     nvidia-nvjitlink-cu12    12.6.85\n",
       "24          nvidia-nvtx-cu12    12.6.77\n",
       "25                 packaging       25.0\n",
       "26                       pip     24.3.1\n",
       "27                    PyYAML      6.0.2\n",
       "28                     regex  2024.11.6\n",
       "29                  requests     2.32.3\n",
       "30               safetensors      0.5.3\n",
       "31                setuptools     80.1.0\n",
       "32                     sympy     1.14.0\n",
       "33                tokenizers     0.21.1\n",
       "34                     torch      2.7.0\n",
       "35                      tqdm     4.67.1\n",
       "36              transformers     4.51.3\n",
       "37                    triton      3.3.0\n",
       "38         typing_extensions     4.13.2\n",
       "39                   urllib3      2.4.0"
      ]
     },
     "execution_count": 7,
     "metadata": {},
     "output_type": "execute_result"
    }
   ],
   "source": [
    "demo_env.libs\n"
   ]
  },
  {
   "cell_type": "markdown",
   "id": "8a490a2a-7689-4485-abd0-76038627ed14",
   "metadata": {},
   "source": [
    "<hr style=\"height:2px;border:none;background-color:#00233C;\">\n",
    "<p style=\"font-size:20px;font-family:Arial;color:#00233C\"><b>6. Download the Hugging Face Language Model and upload to UES environment</b></p>\n",
    "<p style=\"font-size:16px;font-family:Arial;color:#00233C\">\n",
    "You can download Hugging Face LLMs in either <a href=\"https://docs.teradata.com/r/Teradata-VantageCloud-Lake/Analyzing-Your-Data/Build-Scalable-Analytics-with-Open-Analytics-Framework/Bring-Your-Own-LLM-and-DL-Workloads/Using-Hugging-Face-LLMs\"> native format or streamlined format</a>. Here we use the streamlined format to download the model which will download it to our local system directory.\n",
    "\n",
    "</p>\n",
    "\n"
   ]
  },
  {
   "cell_type": "code",
   "execution_count": 8,
   "id": "b7e93477-8b8a-4b38-8487-1af3ba542a26",
   "metadata": {
    "tags": []
   },
   "outputs": [],
   "source": [
    "# Load model directly #save streamlined format under local path\n",
    "from transformers import AutoTokenizer, AutoModelForTokenClassification, pipeline\n",
    "\n",
    "tokenizer = AutoTokenizer.from_pretrained(\"tner/roberta-large-ontonotes5\")\n",
    "model = AutoModelForTokenClassification.from_pretrained(\"tner/roberta-large-ontonotes5\")\n",
    "\n",
    "tokenizer.save_pretrained(\"./roberta-large-ontonotes5\")\n",
    "model.save_pretrained(\"./roberta-large-ontonotes5\")\n"
   ]
  },
  {
   "cell_type": "code",
   "execution_count": 9,
   "id": "6f4c41ff-1dd3-4115-9fcd-9a6bf214d9ad",
   "metadata": {
    "tags": []
   },
   "outputs": [
    {
     "data": {
      "text/plain": [
       "'/home/jovyan/JupyterLabRoot/UseCases/Entity_Recognition_BYOLLM/roberta-large-ontonotes5.zip'"
      ]
     },
     "execution_count": 9,
     "metadata": {},
     "output_type": "execute_result"
    }
   ],
   "source": [
    "#Compress the model into zip file\n",
    "# For the use cases when the model folder is in another directory than the current directory, root_dir should be the abosulte path.\n",
    "import shutil\n",
    "shutil.make_archive('roberta-large-ontonotes5', format='zip', root_dir='roberta-large-ontonotes5')\n"
   ]
  },
  {
   "cell_type": "markdown",
   "id": "db3be13a-b7e0-4e5c-a765-26bfbb47ba2f",
   "metadata": {},
   "source": [
    "<p style=\"font-size:16px;font-family:Arial;color:#00233C\">\n",
    "After the LLM directories are compressed into zip files, you can use the <a href = \"https://docs.teradata.com/r/Teradata-VantageCloud-Lake/Analyzing-Your-Data/Build-Scalable-Analytics-with-Open-Analytics-Framework/Bring-Your-Own-LLM-and-DL-Workloads/Using-User-Environment-APIs-to-Manage-LLMs\">UES APIs</a> to install, uninstall, and list LLMs. Here we use the install_model API.</p>\n",
    "\n"
   ]
  },
  {
   "cell_type": "code",
   "execution_count": 10,
   "id": "8432964f-ea53-4365-a417-cab95d89a7d2",
   "metadata": {
    "tags": []
   },
   "outputs": [
    {
     "name": "stdout",
     "output_type": "stream",
     "text": [
      "Model installation is initiated. Check the status using status() with the claim id 98bb25a9-d562-4e05-8e91-65a1b828cad0.\n"
     ]
    },
    {
     "data": {
      "text/plain": [
       "'98bb25a9-d562-4e05-8e91-65a1b828cad0'"
      ]
     },
     "execution_count": 10,
     "metadata": {},
     "output_type": "execute_result"
    }
   ],
   "source": [
    "demo_env.install_model(model_path='roberta-large-ontonotes5.zip', asynchronous=True)\n"
   ]
  },
  {
   "cell_type": "code",
   "execution_count": 11,
   "id": "7bcc2077-e8cb-4c3c-a3c9-1a01c48c7114",
   "metadata": {
    "tags": []
   },
   "outputs": [
    {
     "data": {
      "text/html": [
       "<div>\n",
       "<style scoped>\n",
       "    .dataframe tbody tr th:only-of-type {\n",
       "        vertical-align: middle;\n",
       "    }\n",
       "\n",
       "    .dataframe tbody tr th {\n",
       "        vertical-align: top;\n",
       "    }\n",
       "\n",
       "    .dataframe thead th {\n",
       "        text-align: right;\n",
       "    }\n",
       "</style>\n",
       "<table border=\"1\" class=\"dataframe\">\n",
       "  <thead>\n",
       "    <tr style=\"text-align: right;\">\n",
       "      <th></th>\n",
       "      <th>Model</th>\n",
       "      <th>Size</th>\n",
       "      <th>Timestamp</th>\n",
       "    </tr>\n",
       "  </thead>\n",
       "  <tbody>\n",
       "    <tr>\n",
       "      <th>0</th>\n",
       "      <td>roberta-large-ontonotes5</td>\n",
       "      <td>6144</td>\n",
       "      <td>2025-05-02T16:08:07Z</td>\n",
       "    </tr>\n",
       "  </tbody>\n",
       "</table>\n",
       "</div>"
      ],
      "text/plain": [
       "                      Model  Size             Timestamp\n",
       "0  roberta-large-ontonotes5  6144  2025-05-02T16:08:07Z"
      ]
     },
     "metadata": {},
     "output_type": "display_data"
    }
   ],
   "source": [
    "ipydisplay(demo_env.models)\n"
   ]
  },
  {
   "cell_type": "markdown",
   "id": "6b539517-9617-4512-9cfb-2354ec8873bd",
   "metadata": {
    "tags": []
   },
   "source": [
    "<hr style=\"height:2px;border:none;background-color:#00233C;\">\n",
    "<p style=\"font-size:20px;font-family:Arial;color:#00233C\"><b>7. Create a python script and call the Apply Operator</b></p>"
   ]
  },
  {
   "cell_type": "markdown",
   "id": "69aad5dc-c49c-410f-8a71-5426ec794cc6",
   "metadata": {},
   "source": [
    "<p style=\"font-size:16px;font-family:Arial;color:#00233C\">\n",
    "Create a python script that reads text records from VantageCloud using standard input, applies a Hugging Face language model to perform Named Entity Recognition (NER), and outputs the extracted entities in a structured, delimited format using standard output.\n",
    "</p>"
   ]
  },
  {
   "cell_type": "code",
   "execution_count": 12,
   "id": "39e85e85-bf95-4208-87d6-2140d18e1625",
   "metadata": {
    "tags": []
   },
   "outputs": [
    {
     "name": "stdout",
     "output_type": "stream",
     "text": [
      "Overwriting entity_recognition.py\n"
     ]
    }
   ],
   "source": [
    "%%writefile entity_recognition.py\n",
    "\n",
    "#!/usr/bin/env python3\n",
    "import sys\n",
    "import warnings\n",
    "\n",
    "warnings.simplefilter('ignore')\n",
    "input_str = sys.stdin.read()\n",
    "\n",
    "DELIMITER = '#'\n",
    "\n",
    "if len(input_str) > 0:\n",
    "    from transformers import AutoTokenizer, AutoModelForTokenClassification, pipeline\n",
    "    torch_device = 'cuda'\n",
    "    model_path = \"./models/roberta-large-ontonotes5\"\n",
    "    tokenizer = AutoTokenizer.from_pretrained(model_path)\n",
    "    model = AutoModelForTokenClassification.from_pretrained(model_path)\n",
    "    translator = pipeline(\"token-classification\", model=model, tokenizer=tokenizer, device=torch_device, aggregation_strategy='max')\n",
    "\n",
    "    for line in input_str.splitlines():\n",
    "        results = translator(line)\n",
    "        dict_val = {}\n",
    "\n",
    "        for r in results:\n",
    "            entity = r['entity_group']\n",
    "            word = r['word']\n",
    "            dict_val.setdefault(entity, []).append(word)\n",
    "\n",
    "        combined_str = \"\"\n",
    "        for key in [\"ORG\", \"PERSON\", \"DATE\", \"PRODUCT\", \"GPE\"]:\n",
    "            combined_str += f\"{DELIMITER}{','.join(dict_val.get(key, []))}\"\n",
    "\n",
    "        print(f\"{line}{combined_str}\")\n"
   ]
  },
  {
   "cell_type": "markdown",
   "id": "be3af1f2-e0f5-462c-b60e-1a21774bcafa",
   "metadata": {},
   "source": [
    "<p style=\"font-size:16px;font-family:Arial;color:#00233C\">\n",
    "Install the python script file to the environment using install_file().\n",
    "</p>"
   ]
  },
  {
   "cell_type": "code",
   "execution_count": 13,
   "id": "4ae8d564-1f89-4739-b0e0-436ff30fe2fd",
   "metadata": {
    "tags": []
   },
   "outputs": [
    {
     "name": "stdout",
     "output_type": "stream",
     "text": [
      "File 'entity_recognition.py' replaced successfully in the remote user environment 'HuggingFace_Webinar_CSAE'.\n"
     ]
    },
    {
     "data": {
      "text/plain": [
       "True"
      ]
     },
     "execution_count": 13,
     "metadata": {},
     "output_type": "execute_result"
    }
   ],
   "source": [
    "demo_env.install_file(file_path =\"entity_recognition.py\", replace=True)\n"
   ]
  },
  {
   "cell_type": "markdown",
   "id": "2fb8ba68-cd63-43a7-914f-ffe859444c67",
   "metadata": {},
   "source": [
    "<p style=\"font-size:16px;font-family:Arial;color:#00233C\">\n",
    "Set the session to the GPU Analytic compute group you desire otherwise it will set to default. The cluster needs to be running to execute the APPLY operator.</p>"
   ]
  },
  {
   "cell_type": "code",
   "execution_count": 14,
   "id": "331d0291-b527-4520-9ec0-7d189f915094",
   "metadata": {},
   "outputs": [
    {
     "name": "stdout",
     "output_type": "stream",
     "text": [
      "Compute group set to CG_BusGrpA_GPU\n"
     ]
    }
   ],
   "source": [
    "execute_sql(f\"SET SESSION COMPUTE GROUP {compute_group};\")\n",
    "print(f\"Compute group set to {compute_group}\")"
   ]
  },
  {
   "cell_type": "markdown",
   "id": "c18bd44c-fb79-4480-9d42-3ecfb5fd7827",
   "metadata": {},
   "source": [
    "<p style=\"font-size:16px;font-family:Arial;color:#00233C\">\n",
    "The APPLY operator executes your Python script directly within the user environment, enabling in-database processing at scale. It reads text from each row of the dataset, performs Named Entity Recognition (NER) using Hugging Face language models accelerated by NVIDIA GPUs, and outputs the extracted entities into a structured dataframe in just seconds. </p>  \n",
    "\n",
    "<p style=\"font-size:16px;font-family:Arial;color:#00233C\"> In this example, we use <code>tner/roberta-large-ontonotes5</code>, a general-purpose NER model trained on the OntoNotes 5 dataset. It supports entities like ORG, PERSON, DATE, PRODUCT, and GPE. However, it's important to note that the “PRODUCT” entity in OntoNotes refers primarily to physical products (e.g., iPhone, Windows OS), not financial instruments (e.g., Roth IRA, mutual funds). To improve financial domain accuracy, this model can be further fine-tuned on domain-specific data to better recognize investment products, insurance types, and retirement accounts.\n",
    " </p> "
   ]
  },
  {
   "cell_type": "code",
   "execution_count": 16,
   "id": "4f997dc6-4e1b-4d81-af19-c82a3576cb28",
   "metadata": {
    "tags": []
   },
   "outputs": [
    {
     "name": "stdout",
     "output_type": "stream",
     "text": [
      "Time: 15.749340295791626\n"
     ]
    },
    {
     "data": {
      "text/html": [
       "<style type=\"text/css\">\n",
       "\ttable {border:ridge 5px;}\n",
       "\ttable td {border:inset 1px;}\n",
       "\ttable tr#HeaderRow {background-color:grey; color:white;}</style>\n",
       "<html><table>\n",
       "\t<tr id=\"HeaderRow\">\n",
       "\t\t<th>text</th>\n",
       "\t\t<th>ORG</th>\n",
       "\t\t<th>PERSON</th>\n",
       "\t\t<th>DATES</th>\n",
       "\t\t<th>PRODUCT</th>\n",
       "\t\t<th>GPE</th>\n",
       "\t</tr>\n",
       "\t<tr>\n",
       "\t\t<td>Liam O'Brien opened a SEP IRA on January 5th in Los Angeles and contributed $6,500. Discussed tax implications with his CPA.</td>\n",
       "\t\t<td>None</td>\n",
       "\t\t<td>Liam O'Brien</td>\n",
       "\t\t<td> January 5th</td>\n",
       "\t\t<td>None</td>\n",
       "\t\t<td> Los Angeles</td>\n",
       "\t</tr>\n",
       "\t<tr>\n",
       "\t\t<td>Quarterly check-in with Noah Patel on April 20th in San Francisco. Portfolio rebalance completed shifted 5% from bonds to growth ETFs.</td>\n",
       "\t\t<td>None</td>\n",
       "\t\t<td> Noah Patel</td>\n",
       "\t\t<td>Quarterly, April 20th</td>\n",
       "\t\t<td>None</td>\n",
       "\t\t<td> San</td>\n",
       "\t</tr>\n",
       "\t<tr>\n",
       "\t\t<td>Mortgage consultation with Isabella Chen on March 1st in Seattle. Compared preapproval options from Wells Fargo and Chase.</td>\n",
       "\t\t<td> Wells Fargo, Chase.</td>\n",
       "\t\t<td> Isabella Chen</td>\n",
       "\t\t<td> March 1st</td>\n",
       "\t\t<td>None</td>\n",
       "\t\t<td>None</td>\n",
       "\t</tr>\n",
       "\t<tr>\n",
       "\t\t<td>Ethan Wright completed a full financial plan update on June 30th in Denver. Updated risk tolerance, added crypto exposure via Coinbase.</td>\n",
       "\t\t<td> Coinbase.</td>\n",
       "\t\t<td>Ethan Wright</td>\n",
       "\t\t<td> June 30th</td>\n",
       "\t\t<td>None</td>\n",
       "\t\t<td>None</td>\n",
       "\t</tr>\n",
       "\t<tr>\n",
       "\t\t<td>Attended BlackRock fixed income seminar with Mason Lee in Boston. Evaluated suitability of municipal bond ladder strategy.</td>\n",
       "\t\t<td> BlackRock</td>\n",
       "\t\t<td> Mason Lee</td>\n",
       "\t\t<td>None</td>\n",
       "\t\t<td>None</td>\n",
       "\t\t<td> Boston.</td>\n",
       "\t</tr>\n",
       "\t<tr>\n",
       "\t\t<td>Ava Johnson requested auto insurance review on July 12th in Phoenix. Referred her to our partner agent at Liberty Mutual.</td>\n",
       "\t\t<td> Liberty Mutual.</td>\n",
       "\t\t<td>Ava Johnson</td>\n",
       "\t\t<td> July 12th</td>\n",
       "\t\t<td>None</td>\n",
       "\t\t<td> Phoenix.</td>\n",
       "\t</tr>\n",
       "\t<tr>\n",
       "\t\t<td>Olivia Rodriguez promoted at Morgan Stanley in Chicago; discussed changes to her restricted stock unit (RSU) vesting schedule on Feb 22.</td>\n",
       "\t\t<td> Morgan Stanley</td>\n",
       "\t\t<td>Olivia Rodriguez</td>\n",
       "\t\t<td> Feb 22.</td>\n",
       "\t\t<td>None</td>\n",
       "\t\t<td>None</td>\n",
       "\t</tr>\n",
       "\t<tr>\n",
       "\t\t<td>Reviewed insurance coverage with Sophia Martinez on May 10th in Austin. Quoted State Farm term life policy and advised on umbrella coverage.</td>\n",
       "\t\t<td> State Farm</td>\n",
       "\t\t<td> Sophia Martinez</td>\n",
       "\t\t<td> May 10th</td>\n",
       "\t\t<td>None</td>\n",
       "\t\t<td> Austin.</td>\n",
       "\t</tr>\n",
       "\t<tr>\n",
       "\t\t<td>Call with James Delgado on April 2nd in Chicago to discuss employer 401(k) rollover to a Fidelity IRA. Sent transfer paperwork via DocuSign.</td>\n",
       "\t\t<td> Fidelity</td>\n",
       "\t\t<td> James Delgado</td>\n",
       "\t\t<td> April 2nd</td>\n",
       "\t\t<td>None</td>\n",
       "\t\t<td> Chicago</td>\n",
       "\t</tr>\n",
       "\t<tr>\n",
       "\t\t<td>Met with Emily Thompson on March 15th in New York to review her retirement portfolio. Recommended reallocating 10% into international equities through JPMorgan mutual funds.</td>\n",
       "\t\t<td> JPMorgan</td>\n",
       "\t\t<td> Emily Thompson</td>\n",
       "\t\t<td> March 15th</td>\n",
       "\t\t<td>None</td>\n",
       "\t\t<td> New York</td>\n",
       "\t</tr>\n",
       "</table></html>"
      ],
      "text/plain": [
       "                                                                                                                                                                            text                   ORG            PERSON                  DATES PRODUCT           GPE\n",
       "0                                                   Liam O'Brien opened a SEP IRA on January 5th in Los Angeles and contributed $6,500. Discussed tax implications with his CPA.                  None      Liam O'Brien            January 5th    None   Los Angeles\n",
       "1                                         Quarterly check-in with Noah Patel on April 20th in San Francisco. Portfolio rebalance completed shifted 5% from bonds to growth ETFs.                  None        Noah Patel  Quarterly, April 20th    None           San\n",
       "2                                                     Mortgage consultation with Isabella Chen on March 1st in Seattle. Compared preapproval options from Wells Fargo and Chase.   Wells Fargo, Chase.     Isabella Chen              March 1st    None          None\n",
       "3                                        Ethan Wright completed a full financial plan update on June 30th in Denver. Updated risk tolerance, added crypto exposure via Coinbase.             Coinbase.      Ethan Wright              June 30th    None          None\n",
       "4                                                     Attended BlackRock fixed income seminar with Mason Lee in Boston. Evaluated suitability of municipal bond ladder strategy.             BlackRock         Mason Lee                   None    None       Boston.\n",
       "5                                                      Ava Johnson requested auto insurance review on July 12th in Phoenix. Referred her to our partner agent at Liberty Mutual.       Liberty Mutual.       Ava Johnson              July 12th    None      Phoenix.\n",
       "6                                       Olivia Rodriguez promoted at Morgan Stanley in Chicago; discussed changes to her restricted stock unit (RSU) vesting schedule on Feb 22.        Morgan Stanley  Olivia Rodriguez                Feb 22.    None          None\n",
       "7                                   Reviewed insurance coverage with Sophia Martinez on May 10th in Austin. Quoted State Farm term life policy and advised on umbrella coverage.            State Farm   Sophia Martinez               May 10th    None       Austin.\n",
       "8                                   Call with James Delgado on April 2nd in Chicago to discuss employer 401(k) rollover to a Fidelity IRA. Sent transfer paperwork via DocuSign.              Fidelity     James Delgado              April 2nd    None       Chicago\n",
       "9  Met with Emily Thompson on March 15th in New York to review her retirement portfolio. Recommended reallocating 10% into international equities through JPMorgan mutual funds.              JPMorgan    Emily Thompson             March 15th    None      New York"
      ]
     },
     "execution_count": 16,
     "metadata": {},
     "output_type": "execute_result"
    }
   ],
   "source": [
    "apply_obj = Apply(data = financial_entity_dataset,\n",
    "                  apply_command = 'python entity_recognition.py',\n",
    "                  returns = {\"text\": VARCHAR(64000), \"ORG\": VARCHAR(64000), \"PERSON\": VARCHAR(64000), \"DATES\": VARCHAR(64000), \"PRODUCT\": VARCHAR(64000), \"GPE\": VARCHAR(64000)},\n",
    "                  env_name = demo_env,\n",
    "                  delimiter = '#',\n",
    "                  quotechar = '|'\n",
    "                 )\n",
    "\n",
    "import time\n",
    "\n",
    "start = time.time()\n",
    "\n",
    "# Execute the Python script inside the remote user environment.\n",
    "df = apply_obj.execute_script()\n",
    "\n",
    "print(f'Time: {time.time() - start}')\n",
    "\n",
    "df\n"
   ]
  },
  {
   "cell_type": "markdown",
   "id": "ecddc829-8492-429b-a7d0-e492543d0c74",
   "metadata": {
    "tags": []
   },
   "source": [
    "<p style=\"font-size:16px;font-family:Arial;color:#00233C\">\n",
    "  You can explore additional Natural Language Processing (NLP) tasks directly in-database using task-specific models:\n",
    "</p>\n",
    "\n",
    "<ul style=\"font-size:15px;font-family:Arial\">\n",
    "  <li><strong>Text Classification</strong> — <a href=\"https://huggingface.co/facebook/bart-large-mnli\" target=\"_blank\">facebook/bart-large-mnli</a>: Classifies text into predefined categories</li>\n",
    "  <li><strong>Language Detection</strong> — <a href=\"https://huggingface.co/papluca/xlm-roberta-base-language-detection\" target=\"_blank\">papluca/xlm-roberta-base-language-detection</a>: Detects the language</li>\n",
    "  <li><strong>Generating Embeddings</strong> — <a href=\"https://huggingface.co/sentence-transformers/all-mpnet-base-v2\" target=\"_blank\">sentence-transformers/all-mpnet-base-v2</a>: Converts text into vector representations for similarity searches</li>\n",
    "  <li><strong>Named Entity Recognition</strong> — <a href=\"https://huggingface.co/tner/roberta-large-ontonotes5\" target=\"_blank\">tner/roberta-large-ontonotes5</a>: Identifies and categorizes named entities within unstructured text</li>\n",
    "  <li><strong>Extracting Key Phrases</strong> — <a href=\"https://huggingface.co/ml6team/keyphrase-extraction-kbir-kpcrowd\" target=\"_blank\">ml6team/keyphrase-extraction-kbir-kpcrowd</a>: Extracts important phrases from a document to summarize its content</li>\n",
    "  <li><strong>Grammar Correction</strong> — <a href=\"https://huggingface.co/pszemraj/flan-t5-large-grammar-synthesis\" target=\"_blank\">pszemraj/flan-t5-large-grammar-synthesis</a>: Automatically corrects grammatical errors in text</li>\n",
    "  <li><strong>Masking PII Entities</strong> — <a href=\"https://huggingface.co/ab-ai/pii_model\" target=\"_blank\">ab-ai/pii_model</a>: Masks personally identifiable information (PII)</li>\n",
    "  <li><strong>Sentiment Analysis</strong> — <a href=\"https://huggingface.co/distilbert-base-uncased-finetuned-sst-2-english\" target=\"_blank\">distilbert-base-uncased-finetuned-sst-2-english</a>: Determines the emotional tone (positive, negative, neutral)</li>\n",
    "  <li><strong>Sentence Similarity</strong> — <a href=\"https://huggingface.co/sentence-transformers/all-MiniLM-L6-v2\" target=\"_blank\">sentence-transformers/all-MiniLM-L6-v2</a>: Measures semantic similarity between sentences</li>\n",
    "  <li><strong>Summarization</strong> — <a href=\"https://huggingface.co/facebook/bart-large-cnn\" target=\"_blank\">facebook/bart-large-cnn</a>: Generates concise summaries of longer documents</li>\n",
    "  <li><strong>Translation</strong> — <a href=\"https://huggingface.co/Helsinki-NLP/opus-mt-en-fr\" target=\"_blank\">Helsinki-NLP/opus-mt-en-fr</a>: Translates English text to French</li>\n",
    "</ul>\n"
   ]
  },
  {
   "cell_type": "markdown",
   "id": "b783dd5c-2e39-4f7d-bba7-8b55fda1c31e",
   "metadata": {
    "tags": []
   },
   "source": [
    "\n",
    "<hr style='height:2px;border:none;background-color:#00233C;'>\n",
    "<b style=\"font-size:20px;font-family:Arial;color:#00233C\">8. Automate Entity Recognition with <code>teradatagenai</code> Python Package</b>\n",
    "<p style=\"font-size:16px;font-family:Arial;color:#00233C\">\n",
    "  To simplify and accelerate setup, you can now use the <code>teradatagenai</code> package to automate model deployment and inference. This Python library enables seamless, in-database, AI-driven text analytics within Teradata VantageCloud. It offers a variety of user-friendly functions that wrap API calls for common text analysis tasks, making it easy to apply LLMs to proprietary unstructured data.\n",
    "    \n",
    "</p>\n",
    "\n",
    "<p style=\"font-size:16px;font-family:Arial;color:#00233C\">\n",
    "  Built on Teradata VantageCloud’s open and connected architecture, this solution uses BYOLLM capability and enables teams to rapidly develope generative AI use cases that enhance customer experiences, improve employee productivity, and streamline operations—all within a secure, scalable environment.\n",
    "</p>\n",
    "\n",
    "<p style=\"font-size:16px;font-family:Arial;color:#00233C\"> TextAnalyticsAI gives us access to the 11+ genAI functions and enables users to use advanced text analytics capabilities seamlessly on data stored in Vantage.\n",
    "<ul style=\"font-size:16px; font-family:Arial; color:#00233C; margin-left:20px; line-height:1.8;\">\n",
    "  <li><code>classify()</code> – Classify text into predefined categories</li>\n",
    "  <li><code>analyze_sentiment()</code> – Perform sentiment analysis</li>\n",
    "  <li><code>detect_language()</code> – Detect the language of a text</li>\n",
    "  <li><code>embeddings()</code> – Generate embeddings for similarity search</li>\n",
    "  <li><code>recognize_entities()</code> – Extract named entities</li>\n",
    "   <li><code>recognize_pii_entities()</code> – Detect and label PII entities</li>\n",
    "  <li><code>extract_key_phrases()</code> – Identify key phrases in text</li>\n",
    "  <li><code>mask_pii()</code> – Mask personally identifiable information (PII)</li>\n",
    "  <li><code>sentence_similarity()</code> – Measure semantic similarity between sentences</li>\n",
    "  <li><code>summarize()</code> – Generate summaries of longer documents</li>\n",
    "  <li><code>translate()</code> – Translate text between languages</li>\n",
    "</ul>\n",
    "\n",
    "</p>\n"
   ]
  },
  {
   "cell_type": "code",
   "execution_count": null,
   "id": "f68e0629-73e6-4032-9b1c-0b186ced7384",
   "metadata": {},
   "outputs": [],
   "source": [
    "#install the teradatagenai package\n",
    "!pip install teradatagenai"
   ]
  },
  {
   "cell_type": "code",
   "execution_count": 11,
   "id": "34cb0bc0-b430-415d-9f99-a9e52ac5342b",
   "metadata": {},
   "outputs": [],
   "source": [
    "#import libraries and modules\n",
    "import teradatagenai\n",
    "from teradatagenai import TeradataAI, TextAnalyticsAI"
   ]
  },
  {
   "cell_type": "markdown",
   "id": "7e3a89fd-69cb-4d2f-8af0-491ce8ae5f69",
   "metadata": {},
   "source": [
    "<p style=\"font-size:16px;font-family:Arial;color:#00233C\">  \n",
    "TeradataAI handles the download and installation of the Hugging Face model (example: <i>'tner/roberta-large-ontonotes5</i>) in the user's environment. Incase the environment is not specified, a sample environment named <i>'td_gen_ai_env'</i> is created with <code>torch</code> and <code>transformer</code> libraries and their dependencies. The TeradataAI class will manage the entire setup process. In the background, this process utilizes Teradata’s Bring Your Own Large Language Model (BYO LLM) offering.</p>\n",
    "<p style=\"font-size:16px;font-family:Arial;color:#00233C\">    For this example we set a new user environment to showcase the process to install the same <code>tner/roberta-large-ontonotes5</code> with the <code>teradatagenai</code> package. </p>"
   ]
  },
  {
   "cell_type": "code",
   "execution_count": null,
   "id": "39a97dda-ff43-4303-9aa1-d8d9255690da",
   "metadata": {},
   "outputs": [],
   "source": [
    "#Define your environment\n",
    "create_env(env_name = \"teradatagenai_automation\",\n",
    "                      base_env = 'python_3.11',\n",
    "                      desc = 'BYOLLM demo env')"
   ]
  },
  {
   "cell_type": "code",
   "execution_count": 13,
   "id": "ce427994-bcc9-4dd2-bad9-2e8481e979d8",
   "metadata": {},
   "outputs": [
    {
     "name": "stdout",
     "output_type": "stream",
     "text": [
      "Using env: 'teradatagenai_automation'.\n",
      "Model is already available in the user environment.\n",
      "File 'td_sample_inference_script.py' replaced successfully in the remote user environment 'teradatagenai_automation'.\n",
      "File 'td_sample_embeddings_script.py' replaced successfully in the remote user environment 'teradatagenai_automation'.\n"
     ]
    }
   ],
   "source": [
    "#Define your model and initialize the TeradataAI Class\n",
    "model_name = 'tner/roberta-large-ontonotes5'\n",
    "model_args = {'transformer_class': 'AutoModelForTokenClassification',\n",
    "              'task' : 'token-classification'}\n",
    "ues_args = {'env_name': 'teradatagenai_automation'}\n",
    "\n",
    "llm = TeradataAI(api_type = \"hugging_face\",\n",
    "                 model_name = model_name,\n",
    "                 model_args = model_args,\n",
    "                 ues_args = ues_args )"
   ]
  },
  {
   "cell_type": "markdown",
   "id": "e12832ed-7e09-4b92-803a-40a8a23aedc3",
   "metadata": {},
   "source": [
    "\n",
    "<p style=\"font-size:16px;font-family:Arial;color:#00233C\">  \n",
    "We will configure the TextAnalyticsAI object with the preferred large language model using the TeradataAI object. This will enable us to execute a variety of text analytics tasks. </p>\n"
   ]
  },
  {
   "cell_type": "code",
   "execution_count": null,
   "id": "d3ed8a6a-2748-49bc-9402-f51637458e39",
   "metadata": {},
   "outputs": [],
   "source": [
    "obj = TextAnalyticsAI(llm=llm)"
   ]
  },
  {
   "cell_type": "code",
   "execution_count": 9,
   "id": "86539b41-74a3-40d0-bea2-763eeb59c42a",
   "metadata": {},
   "outputs": [
    {
     "name": "stdout",
     "output_type": "stream",
     "text": [
      "Env Name: teradatagenai_automation\n"
     ]
    }
   ],
   "source": [
    "demo_env2 = get_env(input(\"Env Name:\"))"
   ]
  },
  {
   "cell_type": "code",
   "execution_count": 20,
   "id": "98a4762d-cdbb-4dd0-870d-d3090ecdf025",
   "metadata": {},
   "outputs": [
    {
     "name": "stdout",
     "output_type": "stream",
     "text": [
      "Env Name: teradatagenai_automation\n"
     ]
    },
    {
     "name": "stdout",
     "output_type": "stream",
     "text": [
      "All libs installed\n"
     ]
    }
   ],
   "source": [
    "demo_env2.install_lib([\"transformers\", \"torch\"])\n",
    "print(\"All libs installed\") "
   ]
  },
  {
   "cell_type": "code",
   "execution_count": 16,
   "id": "9f51dbba-a332-4d46-a490-ef36481f4d9b",
   "metadata": {},
   "outputs": [
    {
     "name": "stdout",
     "output_type": "stream",
     "text": [
      "File 'entity_recognition.py' replaced successfully in the remote user environment 'teradatagenai_automation'.\n"
     ]
    },
    {
     "data": {
      "text/html": [
       "<style type=\"text/css\">\n",
       "\ttable {border:ridge 5px;}\n",
       "\ttable td {border:inset 1px;}\n",
       "\ttable tr#HeaderRow {background-color:grey; color:white;}</style>\n",
       "<html><table>\n",
       "\t<tr id=\"HeaderRow\">\n",
       "\t\t<th>text</th>\n",
       "\t\t<th>ORG</th>\n",
       "\t\t<th>PERSON</th>\n",
       "\t\t<th>DATES</th>\n",
       "\t\t<th>PRODUCT</th>\n",
       "\t\t<th>GPE</th>\n",
       "\t</tr>\n",
       "\t<tr>\n",
       "\t\t<td>Liam O'Brien opened a SEP IRA on January 5th in Los Angeles and contributed $6,500. Discussed tax implications with his CPA.</td>\n",
       "\t\t<td>None</td>\n",
       "\t\t<td>Liam O'Brien</td>\n",
       "\t\t<td> January 5th</td>\n",
       "\t\t<td>None</td>\n",
       "\t\t<td> Los Angeles</td>\n",
       "\t</tr>\n",
       "\t<tr>\n",
       "\t\t<td>Quarterly check-in with Noah Patel on April 20th in San Francisco. Portfolio rebalance completed shifted 5% from bonds to growth ETFs.</td>\n",
       "\t\t<td>None</td>\n",
       "\t\t<td> Noah Patel</td>\n",
       "\t\t<td>Quarterly, April 20th</td>\n",
       "\t\t<td>None</td>\n",
       "\t\t<td> San</td>\n",
       "\t</tr>\n",
       "\t<tr>\n",
       "\t\t<td>Mortgage consultation with Isabella Chen on March 1st in Seattle. Compared preapproval options from Wells Fargo and Chase.</td>\n",
       "\t\t<td> Wells Fargo, Chase.</td>\n",
       "\t\t<td> Isabella Chen</td>\n",
       "\t\t<td> March 1st</td>\n",
       "\t\t<td>None</td>\n",
       "\t\t<td>None</td>\n",
       "\t</tr>\n",
       "\t<tr>\n",
       "\t\t<td>Ethan Wright completed a full financial plan update on June 30th in Denver. Updated risk tolerance, added crypto exposure via Coinbase.</td>\n",
       "\t\t<td> Coinbase.</td>\n",
       "\t\t<td>Ethan Wright</td>\n",
       "\t\t<td> June 30th</td>\n",
       "\t\t<td>None</td>\n",
       "\t\t<td>None</td>\n",
       "\t</tr>\n",
       "\t<tr>\n",
       "\t\t<td>Attended BlackRock fixed income seminar with Mason Lee in Boston. Evaluated suitability of municipal bond ladder strategy.</td>\n",
       "\t\t<td> BlackRock</td>\n",
       "\t\t<td> Mason Lee</td>\n",
       "\t\t<td>None</td>\n",
       "\t\t<td>None</td>\n",
       "\t\t<td> Boston.</td>\n",
       "\t</tr>\n",
       "\t<tr>\n",
       "\t\t<td>Ava Johnson requested auto insurance review on July 12th in Phoenix. Referred her to our partner agent at Liberty Mutual.</td>\n",
       "\t\t<td> Liberty Mutual.</td>\n",
       "\t\t<td>Ava Johnson</td>\n",
       "\t\t<td> July 12th</td>\n",
       "\t\t<td>None</td>\n",
       "\t\t<td> Phoenix.</td>\n",
       "\t</tr>\n",
       "\t<tr>\n",
       "\t\t<td>Olivia Rodriguez promoted at Morgan Stanley in Chicago; discussed changes to her restricted stock unit (RSU) vesting schedule on Feb 22.</td>\n",
       "\t\t<td> Morgan Stanley</td>\n",
       "\t\t<td>Olivia Rodriguez</td>\n",
       "\t\t<td> Feb 22.</td>\n",
       "\t\t<td>None</td>\n",
       "\t\t<td>None</td>\n",
       "\t</tr>\n",
       "\t<tr>\n",
       "\t\t<td>Reviewed insurance coverage with Sophia Martinez on May 10th in Austin. Quoted State Farm term life policy and advised on umbrella coverage.</td>\n",
       "\t\t<td> State Farm</td>\n",
       "\t\t<td> Sophia Martinez</td>\n",
       "\t\t<td> May 10th</td>\n",
       "\t\t<td>None</td>\n",
       "\t\t<td> Austin.</td>\n",
       "\t</tr>\n",
       "\t<tr>\n",
       "\t\t<td>Call with James Delgado on April 2nd in Chicago to discuss employer 401(k) rollover to a Fidelity IRA. Sent transfer paperwork via DocuSign.</td>\n",
       "\t\t<td> Fidelity</td>\n",
       "\t\t<td> James Delgado</td>\n",
       "\t\t<td> April 2nd</td>\n",
       "\t\t<td>None</td>\n",
       "\t\t<td> Chicago</td>\n",
       "\t</tr>\n",
       "\t<tr>\n",
       "\t\t<td>Met with Emily Thompson on March 15th in New York to review her retirement portfolio. Recommended reallocating 10% into international equities through JPMorgan mutual funds.</td>\n",
       "\t\t<td> JPMorgan</td>\n",
       "\t\t<td> Emily Thompson</td>\n",
       "\t\t<td> March 15th</td>\n",
       "\t\t<td>None</td>\n",
       "\t\t<td> New York</td>\n",
       "\t</tr>\n",
       "</table></html>"
      ],
      "text/plain": [
       "                                                                                                                                                                            text                   ORG            PERSON                  DATES PRODUCT           GPE\n",
       "0                                                   Liam O'Brien opened a SEP IRA on January 5th in Los Angeles and contributed $6,500. Discussed tax implications with his CPA.                  None      Liam O'Brien            January 5th    None   Los Angeles\n",
       "1                                         Quarterly check-in with Noah Patel on April 20th in San Francisco. Portfolio rebalance completed shifted 5% from bonds to growth ETFs.                  None        Noah Patel  Quarterly, April 20th    None           San\n",
       "2                                                     Mortgage consultation with Isabella Chen on March 1st in Seattle. Compared preapproval options from Wells Fargo and Chase.   Wells Fargo, Chase.     Isabella Chen              March 1st    None          None\n",
       "3                                        Ethan Wright completed a full financial plan update on June 30th in Denver. Updated risk tolerance, added crypto exposure via Coinbase.             Coinbase.      Ethan Wright              June 30th    None          None\n",
       "4                                                     Attended BlackRock fixed income seminar with Mason Lee in Boston. Evaluated suitability of municipal bond ladder strategy.             BlackRock         Mason Lee                   None    None       Boston.\n",
       "5                                                      Ava Johnson requested auto insurance review on July 12th in Phoenix. Referred her to our partner agent at Liberty Mutual.       Liberty Mutual.       Ava Johnson              July 12th    None      Phoenix.\n",
       "6                                       Olivia Rodriguez promoted at Morgan Stanley in Chicago; discussed changes to her restricted stock unit (RSU) vesting schedule on Feb 22.        Morgan Stanley  Olivia Rodriguez                Feb 22.    None          None\n",
       "7                                   Reviewed insurance coverage with Sophia Martinez on May 10th in Austin. Quoted State Farm term life policy and advised on umbrella coverage.            State Farm   Sophia Martinez               May 10th    None       Austin.\n",
       "8                                   Call with James Delgado on April 2nd in Chicago to discuss employer 401(k) rollover to a Fidelity IRA. Sent transfer paperwork via DocuSign.              Fidelity     James Delgado              April 2nd    None       Chicago\n",
       "9  Met with Emily Thompson on March 15th in New York to review her retirement portfolio. Recommended reallocating 10% into international equities through JPMorgan mutual funds.              JPMorgan    Emily Thompson             March 15th    None      New York"
      ]
     },
     "execution_count": 16,
     "metadata": {},
     "output_type": "execute_result"
    }
   ],
   "source": [
    "# Default script is used\n",
    "obj.recognize_entities(column='text', data=financial_entity_dataset, script=\"entity_recognition.py\", returns = {\"text\": VARCHAR(64000),\n",
    "                                                  \"ORG\": VARCHAR(64000),\n",
    "                                                  \"PERSON\": VARCHAR(64000),\n",
    "                                                  \"DATES\": VARCHAR(64000),\n",
    "                                                  \"PRODUCT\": VARCHAR(64000),\n",
    "                                                  \"GPE\": VARCHAR(64000)}, delimiter=\"#\")\n",
    "\n"
   ]
  },
  {
   "cell_type": "markdown",
   "id": "2fb913bb-79be-4261-a8d7-8dd101536754",
   "metadata": {},
   "source": [
    "<hr style=\"height:2px; border:none; background-color:#00233C;\">\n",
    "\n",
    "<b style=\"font-size:20px; font-family:Arial; color:#00233C;\">\n",
    "  9. Call Hosted LLMs From In-Database (AWS Bedrock, Google Gemini, Azure AI Models)\n",
    "</b>\n",
    "\n",
    "<p style=\"font-size:16px; font-family:Arial; color:#00233C; line-height:1.6;\">\n",
    "  Teradata lets you run text analysis using large language models (LLMs) hosted on cloud platforms such as <strong>AWS</strong>, <strong>Google</strong>, and <strong>Azure</strong>, while working directly with data stored in <strong>Vantage</strong>. This expansion introduces a database-side approach using fast path functions, contrasting the client-side approach.\n",
    "</p>\n",
    "\n",
    "<p style=\"font-size:16px; font-family:Arial; color:#00233C; line-height:1.6;\">\n",
    "  These built-in functions support a wide range of NLP tasks on unstructured text:\n",
    "</p>\n",
    "\n",
    "<ul style=\"font-size:16px; font-family:Arial; color:#00233C; margin-left:20px; line-height:1.8;\">\n",
    "  <li><code>AI_AnalyzeSentiment</code></li>\n",
    "  <li><code>AI_AskLLM</code></li>\n",
    "  <li><code>AI_DetectLanguage</code></li>\n",
    "  <li><code>AI_MaskPII</code></li>\n",
    "  <li><code>AI_RecognizeEntities</code></li>\n",
    "  <li><code>AI_RecognizePIIEntities</code></li>\n",
    "  <li><code>AI_TextClassifier</code></li>\n",
    "  <li><code>AI_TextEmbeddings</code></li>\n",
    "  <li><code>AI_TextSummarize</code></li>\n",
    "</ul>\n",
    "\n",
    "<p style=\"font-size:16px; font-family:Arial; color:#00233C; line-height:1.6;\">\n",
    "  In the following example, we’ll demonstrate how to use <code>AI_RecognizeEntities</code> for in-database entity recognition with a hosted LLM.\n",
    "</p>\n"
   ]
  },
  {
   "cell_type": "code",
   "execution_count": null,
   "id": "05e545ad-e73a-4638-b4e6-114e3dadb4d8",
   "metadata": {},
   "outputs": [],
   "source": [
    "# Securely prompt for AWS credentials\n",
    "access_key = getpass.getpass(\"Enter AWS Access Key: \")\n",
    "secret_key = getpass.getpass(\"Enter AWS Secret Key: \")\n",
    "session_token = getpass.getpass(\"Enter AWS Session Token: \")\n",
    "\n",
    "# Define your query dynamically\n",
    "query = f\"\"\"\n",
    "SELECT * FROM AI_RecognizeEntities( \n",
    "  ON financial_entity_dataset AS InputTable\n",
    "  USING \n",
    "    TextColumn('text')\n",
    "    ApiType('aws')\n",
    "    REGION('us-west-2')\n",
    "    ACCESSKEY('{access_key}')\n",
    "    SECRETKEY('{secret_key}')\n",
    "    SESSIONKEY('{session_token}')\n",
    "    ModelName('anthropic.claude-v2')\n",
    "    isDebug('true')\n",
    "    Accumulate('[0:]')\n",
    ") AS dt;\n",
    "\"\"\""
   ]
  },
  {
   "cell_type": "code",
   "execution_count": 50,
   "id": "0ed914fb-07ed-4cd0-977d-2740658850cc",
   "metadata": {},
   "outputs": [
    {
     "data": {
      "text/html": [
       "<style type=\"text/css\">\n",
       "\ttable {border:ridge 5px;}\n",
       "\ttable td {border:inset 1px;}\n",
       "\ttable tr#HeaderRow {background-color:grey; color:white;}</style>\n",
       "<html><table>\n",
       "\t<tr id=\"HeaderRow\">\n",
       "\t\t<th>text</th>\n",
       "\t\t<th>Labeled_Entities</th>\n",
       "\t\t<th>Message</th>\n",
       "\t</tr>\n",
       "\t<tr>\n",
       "\t\t<td>Liam O'Brien opened a SEP IRA on January 5th in Los Angeles and contributed $6,500. Discussed tax implications with his CPA.</td>\n",
       "\t\t<td>(Liam O'Brien, people), (SEP IRA, product), (January 5th, date/time), (Los Angeles, places), ($6,500, currencies)</td>\n",
       "\t\t<td></td>\n",
       "\t</tr>\n",
       "\t<tr>\n",
       "\t\t<td>Quarterly check-in with Noah Patel on April 20th in San Francisco. Portfolio rebalance completed shifted 5% from bonds to growth ETFs.</td>\n",
       "\t\t<td>(Noah Patel, people), (April 20th, date/time), (San Francisco, places), (5%, percentages), (bonds, products), (growth ETFs, products)</td>\n",
       "\t\t<td></td>\n",
       "\t</tr>\n",
       "\t<tr>\n",
       "\t\t<td>Mortgage consultation with Isabella Chen on March 1st in Seattle. Compared preapproval options from Wells Fargo and Chase.</td>\n",
       "\t\t<td>(Isabella Chen, people), (March 1st, date/time), (Seattle, places), (Wells Fargo, organizations), (Chase, organizations)</td>\n",
       "\t\t<td></td>\n",
       "\t</tr>\n",
       "\t<tr>\n",
       "\t\t<td>Ethan Wright completed a full financial plan update on June 30th in Denver. Updated risk tolerance, added crypto exposure via Coinbase.</td>\n",
       "\t\t<td>(Ethan Wright, people), (June 30th, date/time), (Denver, places), (Coinbase, organizations)</td>\n",
       "\t\t<td></td>\n",
       "\t</tr>\n",
       "\t<tr>\n",
       "\t\t<td>Attended BlackRock fixed income seminar with Mason Lee in Boston. Evaluated suitability of municipal bond ladder strategy.</td>\n",
       "\t\t<td>(BlackRock, organizations), (Mason Lee, people), (Boston, places)</td>\n",
       "\t\t<td></td>\n",
       "\t</tr>\n",
       "\t<tr>\n",
       "\t\t<td>Ava Johnson requested auto insurance review on July 12th in Phoenix. Referred her to our partner agent at Liberty Mutual.</td>\n",
       "\t\t<td>(Ava Johnson, people), (July 12th, date/time), (Phoenix, places), (Liberty Mutual, organizations)</td>\n",
       "\t\t<td></td>\n",
       "\t</tr>\n",
       "\t<tr>\n",
       "\t\t<td>Olivia Rodriguez promoted at Morgan Stanley in Chicago; discussed changes to her restricted stock unit (RSU) vesting schedule on Feb 22.</td>\n",
       "\t\t<td>(Olivia Rodriguez, people), (Morgan Stanley, organizations), (Chicago, places), (Feb 22, date/time)</td>\n",
       "\t\t<td></td>\n",
       "\t</tr>\n",
       "\t<tr>\n",
       "\t\t<td>Reviewed insurance coverage with Sophia Martinez on May 10th in Austin. Quoted State Farm term life policy and advised on umbrella coverage.</td>\n",
       "\t\t<td>(Sophia Martinez, people), (May 10th, date/time), (Austin, places), (State Farm, organizations)</td>\n",
       "\t\t<td></td>\n",
       "\t</tr>\n",
       "\t<tr>\n",
       "\t\t<td>Call with James Delgado on April 2nd in Chicago to discuss employer 401(k) rollover to a Fidelity IRA. Sent transfer paperwork via DocuSign.</td>\n",
       "\t\t<td>(James Delgado, people), (April 2nd, date/time), (Chicago, places), (Fidelity, organizations), (IRA, products)</td>\n",
       "\t\t<td></td>\n",
       "\t</tr>\n",
       "\t<tr>\n",
       "\t\t<td>Met with Emily Thompson on March 15th in New York to review her retirement portfolio. Recommended reallocating 10% into international equities through JPMorgan mutual funds.</td>\n",
       "\t\t<td>(Emily Thompson, people), (March 15th, date/time), (New York, places), (10%, percentages), (JPMorgan, organizations)</td>\n",
       "\t\t<td></td>\n",
       "\t</tr>\n",
       "</table></html>"
      ],
      "text/plain": [
       "                                                                                                                                                                            text                                                                                                                       Labeled_Entities Message\n",
       "0                                                   Liam O'Brien opened a SEP IRA on January 5th in Los Angeles and contributed $6,500. Discussed tax implications with his CPA.                      (Liam O'Brien, people), (SEP IRA, product), (January 5th, date/time), (Los Angeles, places), ($6,500, currencies)        \n",
       "1                                         Quarterly check-in with Noah Patel on April 20th in San Francisco. Portfolio rebalance completed shifted 5% from bonds to growth ETFs.  (Noah Patel, people), (April 20th, date/time), (San Francisco, places), (5%, percentages), (bonds, products), (growth ETFs, products)        \n",
       "2                                                     Mortgage consultation with Isabella Chen on March 1st in Seattle. Compared preapproval options from Wells Fargo and Chase.               (Isabella Chen, people), (March 1st, date/time), (Seattle, places), (Wells Fargo, organizations), (Chase, organizations)        \n",
       "3                                        Ethan Wright completed a full financial plan update on June 30th in Denver. Updated risk tolerance, added crypto exposure via Coinbase.                                            (Ethan Wright, people), (June 30th, date/time), (Denver, places), (Coinbase, organizations)        \n",
       "4                                                     Attended BlackRock fixed income seminar with Mason Lee in Boston. Evaluated suitability of municipal bond ladder strategy.                                                                      (BlackRock, organizations), (Mason Lee, people), (Boston, places)        \n",
       "5                                                      Ava Johnson requested auto insurance review on July 12th in Phoenix. Referred her to our partner agent at Liberty Mutual.                                      (Ava Johnson, people), (July 12th, date/time), (Phoenix, places), (Liberty Mutual, organizations)        \n",
       "6                                       Olivia Rodriguez promoted at Morgan Stanley in Chicago; discussed changes to her restricted stock unit (RSU) vesting schedule on Feb 22.                                    (Olivia Rodriguez, people), (Morgan Stanley, organizations), (Chicago, places), (Feb 22, date/time)        \n",
       "7                                   Reviewed insurance coverage with Sophia Martinez on May 10th in Austin. Quoted State Farm term life policy and advised on umbrella coverage.                                        (Sophia Martinez, people), (May 10th, date/time), (Austin, places), (State Farm, organizations)        \n",
       "8                                   Call with James Delgado on April 2nd in Chicago to discuss employer 401(k) rollover to a Fidelity IRA. Sent transfer paperwork via DocuSign.                         (James Delgado, people), (April 2nd, date/time), (Chicago, places), (Fidelity, organizations), (IRA, products)        \n",
       "9  Met with Emily Thompson on March 15th in New York to review her retirement portfolio. Recommended reallocating 10% into international equities through JPMorgan mutual funds.                   (Emily Thompson, people), (March 15th, date/time), (New York, places), (10%, percentages), (JPMorgan, organizations)        "
      ]
     },
     "execution_count": 50,
     "metadata": {},
     "output_type": "execute_result"
    }
   ],
   "source": [
    "query = DataFrame.from_query(query)\n",
    "query"
   ]
  },
  {
   "cell_type": "markdown",
   "id": "a7302075",
   "metadata": {},
   "source": [
    "<hr style='height:2px;border:none;background-color:#00233C;'>\n",
    "<b style = 'font-size:20px;font-family:Arial;color:#00233c'>9. Cleanup</b>\n",
    "<p style = 'font-size:18px;font-family:Arial;color:#00233c'><b>Work Tables</b></p>\n",
    "<p style = 'font-size:16px;font-family:Arial;color:#00233C'>Cleanup work tables to prevent errors next time.</p>"
   ]
  },
  {
   "cell_type": "code",
   "execution_count": null,
   "id": "cb9df0a9",
   "metadata": {},
   "outputs": [],
   "source": [
    "execute_sql(\"\"\"Drop table retail_marketing\"\"\")"
   ]
  },
  {
   "cell_type": "code",
   "execution_count": null,
   "id": "85c91baf",
   "metadata": {},
   "outputs": [],
   "source": [
    "remove_context() "
   ]
  },
  {
   "cell_type": "code",
   "execution_count": null,
   "id": "fc982843-537c-447a-8fb1-a8f0371a8191",
   "metadata": {},
   "outputs": [],
   "source": [
    "help(TeradataAI)"
   ]
  },
  {
   "cell_type": "markdown",
   "id": "4dff1b27",
   "metadata": {},
   "source": []
  }
 ],
 "metadata": {
  "kernelspec": {
   "display_name": "Python 3 (ipykernel)",
   "language": "python",
   "name": "python3"
  },
  "language_info": {
   "codemirror_mode": {
    "name": "ipython",
    "version": 3
   },
   "file_extension": ".py",
   "mimetype": "text/x-python",
   "name": "python",
   "nbconvert_exporter": "python",
   "pygments_lexer": "ipython3",
   "version": "3.9.10"
  }
 },
 "nbformat": 4,
 "nbformat_minor": 5
}
