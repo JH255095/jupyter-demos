{
 "cells": [
  {
   "cell_type": "markdown",
   "id": "93451e5b",
   "metadata": {},
   "source": [
    "<header>\n",
    "   <p  style='font-size:36px;font-family:Arial; color:#F0F0F0; background-color: #00233c; padding-left: 20pt; padding-top: 20pt;padding-bottom: 10pt; padding-right: 20pt;'>\n",
    "       ModelOps Notebook Scheduling using Bring Your Own Notebook\n",
    "  <br>\n",
    "       <img id=\"teradata-logo\" src=\"https://storage.googleapis.com/clearscape_analytics_demo_data/DEMO_Logo/teradata.svg\" alt=\"Teradata\" style=\"width: 125px; height: auto; margin-top: 20pt;\">\n",
    "    </p>\n",
    "</header>"
   ]
  },
  {
   "cell_type": "markdown",
   "id": "fb8c4e05-6a39-44bd-8443-be26e433c14f",
   "metadata": {},
   "source": [
    "<div style=\"display: flex; justify-content: center; gap: 20px; align-items: center; font-family: Arial, sans-serif;\">\n",
    "  <div style=\"text-align: center;\">\n",
    "    <img src=\"images/01_08.png\" alt=\"BYOM Model Lifecycle - Light Mode\" width=\"500\" height=\"500\" style = \"border: 1px solid #00233C; border-radius: 10px; box-shadow: 0 4px 8px rgba(0, 0, 0, 0.2);\"/>\n",
    "  </div>\n",
    "  <div style=\"text-align: center;\">\n",
    "    <img src=\"images/01_40.png\" alt=\"BYOM Model Lifecycle - Dark Mode\" width=\"500\" height=\"500\" style = \"border: 1px solid #00233C; border-radius: 10px; box-shadow: 0 4px 8px rgba(0, 0, 0, 0.2);\"/>\n",
    "  </div>\n",
    "  <div style=\"text-align: center;\">\n",
    "    <img src=\"images/01_37.png\" alt=\"BYOM Model Lifecycle - Light Mode\" width=\"500\" height=\"500\" style = \"border: 1px solid #00233C; border-radius: 10px; box-shadow: 0 4px 8px rgba(0, 0, 0, 0.2);\"/>\n",
    "  </div>\n",
    "  <div style=\"text-align: center;\">\n",
    "    <img src=\"images/01_41.png\" alt=\"BYOM Model Lifecycle - Light Mode\" width=\"500\" height=\"500\" style = \"border: 1px solid #00233C; border-radius: 10px; box-shadow: 0 4px 8px rgba(0, 0, 0, 0.2);\"/>\n",
    "  </div>\n",
    "</div>"
   ]
  },
  {
   "cell_type": "markdown",
   "id": "4fecc4a9",
   "metadata": {},
   "source": [
    "<p style = 'font-size:20px;font-family:Arial;color:#00233C'><b>Introduction</b></p>\n",
    "<p style = 'font-size:16px;font-family:Arial;color:#00233C'><b><i>Teradata ClearScape Analytics ModelOps</i></b> is the Model Management framework that empowers data scientists and machine learning engineers to deploy and manage their advanced analytics models within Teradata Vantage. ClearScape Analytics ModelOps provides a comprehensive methodology, intuitive user interface, and an automation agent to guide users in seamlessly integrating their models into business processes in production. The ModelOps Agent ensures continuous optimization of both models and data for performance and accuracy. This leads to faster time-to-value, reduced operational risks, and enhanced decision-making capabilities.</p>\n",
    "\n",
    "\n",
    "<p style = 'font-size:16px;font-family:Arial;color:#00233C'>The <b>Bring Your Own Notebook</b> feature allows users to store their notebooks within ModelOps projects using managed connections and key-value variables. This feature supports customizable library requirements to ensure seamless execution in production environments. Users can deploy and schedule notebook jobs, with execution logs available in both HTML and notebook formats. This feature simplifies the transition from development to production by:</p>\n",
    "<li style = 'font-size:16px;font-family:Arial;color:#00233C'>Avoiding hardcoding passwords.</li>\n",
    "<li style = 'font-size:16px;font-family:Arial;color:#00233C'>Enabling automated execution with production variables and service connections.</li>"
   ]
  },
  {
   "cell_type": "markdown",
   "id": "ba5c685a-dde5-4850-a4b3-785e1455b804",
   "metadata": {},
   "source": [
    "<p style = 'font-size:16px;font-family:Arial;color:#00233C'>We will be able to import, deploy and run our own jupyter notebooks through ModelOps. This Notebook will go through the notebook scheduling process.</p>\n"
   ]
  },
  {
   "cell_type": "markdown",
   "id": "235be595-390c-4700-8246-5f44c3cba5ee",
   "metadata": {},
   "source": [
    "<p style = 'font-size:20px;font-family:Arial;color:#00233C'><b>Connection and user variables in the Notebook to be executed by ModelOps</b></p>\n",
    "<p style = 'font-size:16px;font-family:Arial;color:#00233C'>Users can import, deploy, and execute their Jupyter notebooks through ModelOps. This Notebook will go through the process of scheduling a notebook. For this example, we’ll use a sample notebook (Financial_Fraud_Detection_InDB_Python.ipynb) Within this sample notebook, we’ll have to do the below changes:</p>\n",
    "\n",
    "<li style = 'font-size:16px;font-family:Arial;color:#00233C'>Change the code for connection to Vantage system</li>\n",
    "<p style = 'font-size:14px;font-family:Arial;color:#00233C'><b>Original Code</b>\n",
    "<br><code>%run -i ../startup.ipynb\n",
    "eng = create_context(host = 'host.docker.internal', username = 'demo_user', password = password)\n",
    "print(eng)\n",
    "</code></p>\n",
    "<p style = 'font-size:14px;font-family:Arial;color:#00233C'><b>Changed Code</b>\n",
    "<br><code>from aoa import tmo_create_context\n",
    "from teradataml import create_context\n",
    "try:\n",
    "    tmo_create_context()\n",
    "except:\n",
    "    import getpass\n",
    "    host = input(\"Host\")\n",
    "    logmech = input(\"Log Mech\")\n",
    "    username = input(\"Username\")\n",
    "    password = getpass.getpass()\n",
    "    create_context(host=host, username=username, password=password, logmech=logmech)\n",
    "    tmo_create_context()\n",
    "</code>    \n",
    "</p>    \n",
    "<p style = 'font-size:16px;font-family:Arial;color:#00233C'>This code initializes a connection to a Teradata Vantage instance. It first attempts to set up the connection automatically using <code>tmo_create_context()</code> . If this fails, it prompts the user to input connection details (host, logmech, username, password), and uses <code>create_context()</code> to establish a new connection. Once connected, tmo_create_context() is called again to complete the ModelOps setup.</p>\n",
    "\n",
    "<li style = 'font-size:16px;font-family:Arial;color:#00233C'>Call to <b>get_data</b> and <b>remove_data</b> procedures</li>\n",
    "<p style = 'font-size:14px;font-family:Arial;color:#00233C'><b>Original Code</b>\n",
    "<br><code>%run -i ../run_procedure.py \"call remove_data('demo_glm_fraud');\"   \n",
    "</code></p>\n",
    "<p style = 'font-size:14px;font-family:Arial;color:#00233C'><b>Changed Code</b>\n",
    "<br><code>execute_sql('''call get_data('DEMO_GLM_Fraud_local');''')\n",
    "</code>    \n",
    "</p>   \n",
    "\n",
    "<p style = 'font-size:14px;font-family:Arial;color:#00233C'><b>Original Code</b>\n",
    "<br><code>%run -i ../run_procedure.py \"call get_data('DEMO_GLM_Fraud_local');\"  \n",
    "</code></p>\n",
    "<p style = 'font-size:14px;font-family:Arial;color:#00233C'><b>Changed Code</b>\n",
    "<br><code>execute_sql('''call remove_data('DEMO_GLM_Fraud');''')\n",
    "</code>    \n",
    "</p>   \n",
    "\n",
    "\n",
    "<p style = 'font-size:16px;font-family:Arial;color:#00233C'>ModelOps allows you to set custom variables from the Build Properties when deploying or running the notebook. These will be set as environment variables which can be accessed within the notebook using os.environ.get('<your-variable>') , eliminating the need for user input.</p>\n",
    "<p style = 'font-size:16px;font-family:Arial;color:#00233C'>Here, for reference we have provided a sample notebook<b><a href='./artifacts/Fin_Fraud_detection.ipynb'> Fin_Fraud_detection.ipynb </a></b> and the <b><a href='./artifacts/requirements.txt'> requirements.txt </a></b> in the <b>artifacts</b> folder seen in the file browser in the left pane. Please download these 2 files and use them for importing as mentioned in <b>Step 2</b> below </p>"
   ]
  },
  {
   "cell_type": "markdown",
   "id": "8bc40798-004b-4fd7-b8a1-db4ac5191fed",
   "metadata": {},
   "source": [
    "<hr style=\"height:2px;border:none;background-color:#00233C;\">\n",
    "<p style = 'font-size:20px;font-family:Arial;color:#00233C'><b>Step 1. Create a project and connection (ModelOps) </b></p>"
   ]
  },
  {
   "cell_type": "markdown",
   "id": "818a4113-852a-48d0-aef3-2832b2725c0f",
   "metadata": {},
   "source": [
    "<p style = 'font-size:16px;font-family:Arial;color:#00233C'>A project is used in ModelOps to organize your Model Catalog with your model version. It is linked to a git repository, and can be assigned to a user or a group of users for collaboration.</p>\n",
    "\n",
    "<p style = 'font-size:16px;font-family:Arial;color:#00233C'>To create a new project sign in into ModelOps using this button below, then select Projects from the navigation bar. Click on <b>Create Project</b> and fill in the required details.</p>"
   ]
  },
  {
   "cell_type": "markdown",
   "id": "374c2187-de67-4ff9-bf40-d9822ff247f5",
   "metadata": {},
   "source": [
    "<a href=\"/modelops\" style=\"display: inline-flex; align-items: center; justify-content: center; background-color: #017373; color: #FFFFFF; font-family: Arial, sans-serif; font-size: 16px; font-weight: bold; text-decoration: none; padding: 12px 24px; border: none; border-radius: 8px; box-shadow: 0 4px 6px rgba(0, 0, 0, 0.1); cursor: pointer; transition: all 0.3s ease;\">\n",
    "  LAUNCH MODELOPS\n",
    "  <img src=\"https://img.icons8.com/ios-filled/50/ffffff/external-link.png\" alt=\"External Link Icon\" style=\"margin-left: 8px; width: 20px; height: 20px;\">\n",
    "</a>"
   ]
  },
  {
   "cell_type": "markdown",
   "id": "81e13d71-28ee-41ac-be8f-e2c5b38e5eab",
   "metadata": {},
   "source": [
    "<img src=\"images/16_01.png\" alt=\"BYOM model lifecycle\" width=\"600\" height=\"400\" style = \"border: 1px solid #00233C; border-radius: 10px; box-shadow: 0 4px 8px rgba(0, 0, 0, 0.2);\"/>"
   ]
  },
  {
   "cell_type": "markdown",
   "id": "901e6d51-6a53-4861-914b-fb46e130b9a2",
   "metadata": {},
   "source": [
    "<table style = 'font-size:16px;font-family:Arial;color:#00233C;width:50%;border: 1px solid black;align: left;margin-left: 10px;'>\n",
    "  <tr style = 'font-size:16px;font-family:Arial;color:#00233C;width:50%;border: 1px solid black'>\n",
    "    <th>Property</th>\n",
    "    <th>Description</th>\n",
    "    \n",
    "  </tr>\n",
    "  <tr style = 'font-size:16px;font-family:Arial;color:#00233C;width:100%;border: 1px solid black;text-align: center'>\n",
    "    <td>Name</td>\n",
    "    <td>Notebook Scheduling Demo</td>\n",
    "    \n",
    "  </tr>\n",
    "  <tr style = 'font-size:16px;font-family:Arial;color:#00233C;width:100%;border: 1px solid black;text-align: center'>\n",
    "    <td>Description</td>\n",
    "    <td>A demo for Notebook scheduling</td>\n",
    "    \n",
    "  </tr>\n",
    "  <tr style = 'font-size:16px;font-family:Arial;color:#00233C;width:100%;border: 1px solid black;text-align: center'>\n",
    "    <td>Group</td>\n",
    "    <td>Demo</td>\n",
    "    \n",
    "  </tr>\n",
    "  <tr style = 'font-size:16px;font-family:Arial;color:#00233C;width:100%;border: 1px solid black;text-align: center'>\n",
    "    <td>Path</td>\n",
    "    <td>/app/built-in/empty</td>\n",
    "    \n",
    "  </tr>\n",
    "  <tr style = 'font-size:16px;font-family:Arial;color:#00233C;width:100%;border: 1px solid black;text-align: center'>\n",
    "    <td>Credentials</td>\n",
    "    <td>No Credentials</td>\n",
    "    \n",
    "  </tr>\n",
    "</table>"
   ]
  },
  {
   "cell_type": "markdown",
   "id": "68fd0c15-6dcb-489c-b94a-e1fac8011606",
   "metadata": {},
   "source": [
    "<img src=\"images/16_02.png\" alt=\"BYOM model lifecycle\" width=\"400\" height=\"200\" style = \"border: 1px solid #00233C; border-radius: 10px; box-shadow: 0 4px 8px rgba(0, 0, 0, 0.2);\"/>"
   ]
  },
  {
   "cell_type": "markdown",
   "id": "d638a13c-cf62-49b2-bcbf-d2f50fee488b",
   "metadata": {},
   "source": [
    "<p style = 'font-size:16px;font-family:Arial;color:#00233C'>After we <b>Save & continue</b> we will have to add a Personal connection.</p>\n",
    "<p>\n",
    "<img src=\"images/16_03.png\" alt=\"PersonalConn\" width=\"300\" height=\"100\" style = \"border: 1px solid #00233C; border-radius: 10px; box-shadow: 0 4px 8px rgba(0, 0, 0, 0.2);\"/>\n",
    "    </p>"
   ]
  },
  {
   "cell_type": "markdown",
   "id": "1e5ac72d-029a-4988-b0e1-d02b1ed7cac5",
   "metadata": {},
   "source": [
    "<p style = 'font-size:16px;font-family:Arial;color:#00233C'>We need to add the details for the Vantage connection and click on <b>Save</b>, and than Save the project.</p>\n",
    "<p>\n",
    "<img src=\"images/16_04.png\" alt=\"PersonalConn\" width=\"300\" height=\"100\" style = \"border: 1px solid #00233C; border-radius: 10px; box-shadow: 0 4px 8px rgba(0, 0, 0, 0.2);\"/>\n",
    "    </p>"
   ]
  },
  {
   "cell_type": "markdown",
   "id": "bde88efa-dc4f-4487-b607-ae859c85cc2b",
   "metadata": {},
   "source": [
    "<div class=\"alert alert-block alert-warning\">\n",
    "<p style = 'font-size:16px;font-family:Arial;color:#00233C'><b>Note: <i>We have to create a Dataset template which may not be used in the notebook. This is a known issue and will be fixed in upcoming version. So to go ahead we need to create a Dataset template in this project may be similar to the one from the Demo Project</i></b></p>\n",
    "<p style = 'font-size:16px;font-family:Arial;color:#00233C'>The dataset details for Demo Project are available in the Getting Stared Notebook</p>    \n",
    "    <a href=\"./01_ModelOps_Getting_Started.ipynb\" style=\"font-size:16px; font-family:Arial; color:white; background-color:#007bff; padding:10px 20px; border-radius:5px; text-decoration:none; display:inline-block;\">\n",
    "  01_ModelOps_Getting_Started.ipynb &gt;&gt;\n",
    "    \n",
    "</div>"
   ]
  },
  {
   "cell_type": "markdown",
   "id": "863119f1-9765-47bb-9391-2137672f7bb3",
   "metadata": {},
   "source": [
    "<hr style=\"height:2px;border:none;background-color:#00233C;\">\n",
    "<p style = 'font-size:20px;font-family:Arial;color:#00233C'><b>Step 2. Importing notebook</b></p>"
   ]
  },
  {
   "cell_type": "markdown",
   "id": "e45aa323-47ff-4cbc-b98d-9aa88176ef8b",
   "metadata": {},
   "source": [
    "<p style = 'font-size:16px;font-family:Arial;color:#00233C'>Go to your project and click on <b>Define BYOM Model</b></p>"
   ]
  },
  {
   "cell_type": "markdown",
   "id": "5d4b739b-6d53-4fcb-9dac-c13ba164fe64",
   "metadata": {},
   "source": [
    "<img src=\"images/16_05.png\" alt=\"External Link Icon\" style=\"margin-left: 8px; width: 400; height: 100;\">\n",
    "</a>"
   ]
  },
  {
   "cell_type": "markdown",
   "id": "be5b6458-60c2-4101-8a59-a43d60064d7e",
   "metadata": {},
   "source": [
    "<p style=\"font-size:16px; font-family:Arial; color:#00233C;\">\n",
    "  Enter the required fields:\n",
    "    <table style = 'font-size:16px;font-family:Arial;color:#00233C;width:50%;border: 1px solid black;align: left;margin-left: 10px;'>\n",
    "  <tr style = 'font-size:16px;font-family:Arial;color:#00233C;width:50%;border: 1px solid black'>\n",
    "    <th>Property</th>\n",
    "    <th>Description</th>\n",
    "    \n",
    "  </tr>\n",
    "  <tr style = 'font-size:16px;font-family:Arial;color:#00233C;width:100%;border: 1px solid black;text-align: center'>\n",
    "    <td>Name</td>\n",
    "    <td>Notebook</td>\n",
    "    \n",
    "  </tr>\n",
    "  <tr style = 'font-size:16px;font-family:Arial;color:#00233C;width:100%;border: 1px solid black;text-align: center'>\n",
    "    <td>Description</td>\n",
    "    <td>Demo Notebook</td>\n",
    "    \n",
    "  </tr>\n",
    "  <tr style = 'font-size:16px;font-family:Arial;color:#00233C;width:100%;border: 1px solid black;text-align: center'>\n",
    "    <td>Format</td>\n",
    "    <td>jupyter</td>\n",
    "    \n",
    "  </tr>\n",
    "\n",
    "</table>\n",
    "</p>"
   ]
  },
  {
   "cell_type": "markdown",
   "id": "afb4b0c1-5816-4d79-9887-38d46a13e9d4",
   "metadata": {},
   "source": [
    "<p style=\"font-size:16px; font-family:Arial; color:#00233C;\">\n",
    "  Click on save and import version. Enter the required details of the notebook and upload your notebook by clicking <b>Save</b>\n",
    "</p>\n",
    "\n",
    "<div style=\"display: flex; justify-content: center; gap: 30px; align-items: center; font-family: Arial, sans-serif;\">\n",
    "  <div style=\"text-align: center; padding: 10px; background-color: #F8F8F8; border-radius: 12px; box-shadow: 0 4px 8px rgba(0, 0, 0, 0.1);\">\n",
    "    <img src=\"images/16_06.png\" alt=\"Upload BYOM Model\" \n",
    "         style=\"width: 400px; height: 600px; border: 1px solid #00233C; border-radius: 10px;\">\n",
    "  </div>\n",
    "  <div style=\"text-align: center; padding: 10px; background-color: #F8F8F8; border-radius: 12px; box-shadow: 0 4px 8px rgba(0, 0, 0, 0.1);\">\n",
    "    <img src=\"images/16_07.png\" alt=\"Upload Model version\" \n",
    "         style=\"width: 500px; height: 600px; border: 1px solid #00233C; border-radius: 10px;\" align=\"right\">\n",
    "  </div>\n",
    "  \n",
    "</div>"
   ]
  },
  {
   "cell_type": "markdown",
   "id": "91387bce-0e6f-4cc2-aeb4-7beead215be2",
   "metadata": {},
   "source": [
    "<p style=\"font-size:16px; font-family:Arial; color:#00233C;\"><b>**Note: In case any specific libraries/packages are needed for execution of the notebook, those can be specified in <code><i>requirements.txt</i></code> and uploaded along with notebook as in above image</b></p>"
   ]
  },
  {
   "cell_type": "markdown",
   "id": "9c21b608-585f-42fb-939e-edbb5243e368",
   "metadata": {
    "tags": []
   },
   "source": [
    "<hr style=\"height:2px;border:none;background-color:#00233C;\">\n",
    "<p style = 'font-size:20px;font-family:Arial;color:#00233C'><b>Step 3. Deploying notebook</b></p>"
   ]
  },
  {
   "cell_type": "markdown",
   "id": "33fbd2d1-f270-41b7-bf34-a2533eda7f94",
   "metadata": {},
   "source": [
    "<p style=\"font-size:16px; font-family:Arial; color:#00233C;\">\n",
    "  After deploying and Scheduling we will be able to review the notebook as a log of the execution in both html and notebook format.</p>\n",
    "<li style=\"font-size:16px; font-family:Arial; color:#00233C;\">From the models screen, select your newly created model.</li>\n",
    "<li style=\"font-size:16px; font-family:Arial; color:#00233C;\">From the model versions, select your imported model.</li>\n",
    "<li style=\"font-size:16px; font-family:Arial; color:#00233C;\">Click on Approve.</li>\n",
    "<li style=\"font-size:16px; font-family:Arial; color:#00233C;\">Enter approval comment.</li>\n",
    "</p>"
   ]
  },
  {
   "cell_type": "markdown",
   "id": "10975dbc-f8d0-4ad6-b022-426e8b131bee",
   "metadata": {
    "jp-MarkdownHeadingCollapsed": true,
    "tags": []
   },
   "source": [
    "<img src=\"images/16_08.png\" alt=\"Approve NB\" width=\"600\" height=\"400\" style = \"border: 1px solid #00233C; border-radius: 10px; box-shadow: 0 4px 8px rgba(0, 0, 0, 0.2);\"/>"
   ]
  },
  {
   "cell_type": "markdown",
   "id": "86e048e4-436c-456f-81d9-a028bbe61a33",
   "metadata": {},
   "source": [
    "<p>\n",
    "<li style=\"font-size:16px; font-family:Arial; color:#00233C;\">Click Approve</li>\n",
    "</p>\n",
    "<p>\n",
    "<li style=\"font-size:16px; font-family:Arial; color:#00233C;\">Click Deploy</li>\n",
    "</p>"
   ]
  },
  {
   "cell_type": "markdown",
   "id": "b9ad0e2d-f671-499d-a338-f592ea53f9b8",
   "metadata": {},
   "source": [
    "<img src=\"images/16_09.png\" alt=\"BYOM model lifecycle\" width=\"600\" height=\"400\" style = \"border: 1px solid #00233C; border-radius: 10px; box-shadow: 0 4px 8px rgba(0, 0, 0, 0.2);\"/>"
   ]
  },
  {
   "cell_type": "markdown",
   "id": "3cd019dd-8e03-4b83-8a94-2918e76fbf27",
   "metadata": {},
   "source": [
    "<p style=\"font-size:16px; font-family:Arial; color:#00233C;\">\n",
    "  Enter the required fields:\n",
    "    <table style = 'font-size:16px;font-family:Arial;color:#00233C;width:50%;border: 1px solid black;align: left;margin-left: 10px;'>\n",
    "  <tr style = 'font-size:16px;font-family:Arial;color:#00233C;width:50%;border: 1px solid black'>\n",
    "    <th>Property</th>\n",
    "    <th>Description</th>\n",
    "    \n",
    "  </tr>\n",
    "  <tr style = 'font-size:16px;font-family:Arial;color:#00233C;width:100%;border: 1px solid black;text-align: center'>\n",
    "    <td>Engine Type</td>\n",
    "    <td>Docker</td>\n",
    "    \n",
    "  </tr>\n",
    "  <tr style = 'font-size:16px;font-family:Arial;color:#00233C;width:100%;border: 1px solid black;text-align: center'>\n",
    "    <td>Deployment type</td>\n",
    "    <td>Batch</td>\n",
    "    \n",
    "  </tr>\n",
    "  \n",
    "</table>\n",
    "</p>"
   ]
  },
  {
   "cell_type": "markdown",
   "id": "10dee4ec-3ce1-4df0-9e38-731ebafae70f",
   "metadata": {},
   "source": [
    "<img src=\"images/16_10.png\" alt=\"Deploy\" width=\"800\" height=\"500\" style = \"border: 1px solid #00233C; border-radius: 10px; box-shadow: 0 4px 8px rgba(0, 0, 0, 0.2);\"/>"
   ]
  },
  {
   "cell_type": "markdown",
   "id": "7ca833dd-8ce6-419f-827f-ab643249de7e",
   "metadata": {
    "tags": []
   },
   "source": [
    "<p style=\"font-size:16px; font-family:Arial; color:#00233C;\">\n",
    "    <li style=\"font-size:16px; font-family:Arial; color:#00233C;\">Click Next</li>\n",
    "</p>\n",
    "<p style=\"font-size:16px; font-family:Arial; color:#00233C;\">Assign the dataset template and the connection for the deployment.</p>"
   ]
  },
  {
   "cell_type": "markdown",
   "id": "d2c66c86-874c-42eb-af72-38c1fed3d89d",
   "metadata": {},
   "source": [
    "<img src=\"images/16_11.png\" alt=\"Assign template\" width=\"600\" height=\"400\" style = \"border: 1px solid #00233C; border-radius: 10px; box-shadow: 0 4px 8px rgba(0, 0, 0, 0.2);\"/>"
   ]
  },
  {
   "cell_type": "markdown",
   "id": "afabb89b-8398-4d57-912c-b9dc5488f3df",
   "metadata": {
    "tags": []
   },
   "source": [
    "<p style=\"font-size:16px; font-family:Arial; color:#00233C;\">\n",
    "    <li style=\"font-size:16px; font-family:Arial; color:#00233C;\">Click Next</li>\n",
    "</p>\n",
    "<p style=\"font-size:16px; font-family:Arial; color:#00233C;\">\n",
    "    <p style=\"font-size:16px; font-family:Arial; color:#00233C;\">For the scheduler section you can select your preffered scheduling option. For this guide we will be using manual scheduling. In the Advanced tab, you can specify the necessary notebook parameters as key-value pairs. In our example notebook we call <code>os.environ.get(\"DEMO_VARIABLE\")</code> to access this variable. We declare this variables in the Build properties.</p>"
   ]
  },
  {
   "cell_type": "markdown",
   "id": "bff5dd09-2394-4d0e-9aa4-6940553d3648",
   "metadata": {},
   "source": [
    "<img src=\"images/16_12.png\" alt=\"Assign template\" width=\"600\" height=\"400\" style = \"border: 1px solid #00233C; border-radius: 10px; box-shadow: 0 4px 8px rgba(0, 0, 0, 0.2);\"/>"
   ]
  },
  {
   "cell_type": "markdown",
   "id": "07ee735f-5177-4707-9c90-8c51b3d43bb2",
   "metadata": {},
   "source": [
    "<p style=\"font-size:16px; font-family:Arial; color:#00233C;\">\n",
    "    <li style=\"font-size:16px; font-family:Arial; color:#00233C;\">Click Deploy</li>\n",
    "</p>"
   ]
  },
  {
   "cell_type": "markdown",
   "id": "526023e1-7d5e-4c13-b040-ca3d4ba406b7",
   "metadata": {},
   "source": [
    "<img src=\"images/16_13.png\" alt=\"Assign template\" width=\"600\" height=\"400\" style = \"border: 1px solid #00233C; border-radius: 10px; box-shadow: 0 4px 8px rgba(0, 0, 0, 0.2);\"/>"
   ]
  },
  {
   "cell_type": "markdown",
   "id": "9014a16e-ea4c-4304-9dc2-ff92cbbce640",
   "metadata": {
    "tags": []
   },
   "source": [
    "<hr style=\"height:2px;border:none;background-color:#00233C;\">\n",
    "<p style = 'font-size:20px;font-family:Arial;color:#00233C'><b>Step 4. Going through Deployment</b></p>"
   ]
  },
  {
   "cell_type": "markdown",
   "id": "4cacc7fc-1333-45e0-8d5d-3d14027e422b",
   "metadata": {},
   "source": [
    "<p style=\"font-size:16px; font-family:Arial; color:#00233C;\">\n",
    " Go to the left-hand menu Deployments, and see the new deployment from the BYOM model is available, click on it to see the details and go to the Jobs tab. \n",
    "</p>\n"
   ]
  },
  {
   "cell_type": "markdown",
   "id": "fc5fbb2f-27a8-4b8c-af24-82e36a2f3f10",
   "metadata": {
    "tags": []
   },
   "source": [
    "<img src=\"images/16_14.png\" alt=\"Job Details\" width=\"1000\" height=\"200\" style = \"border: 1px solid #00233C; border-radius: 10px; box-shadow: 0 4px 8px rgba(0, 0, 0, 0.2);\"/>"
   ]
  },
  {
   "cell_type": "markdown",
   "id": "d054e92e-8732-4969-8ebf-1e8510bc1291",
   "metadata": {},
   "source": [
    "<p style=\"font-size:16px; font-family:Arial; color:#00233C;\">\n",
    "  Click on View details and check the logs for the job.\n",
    "</p>"
   ]
  },
  {
   "cell_type": "markdown",
   "id": "ce479ceb-6032-4917-ace0-7dff96bf2769",
   "metadata": {},
   "source": [
    "<img src=\"images/16_15.png\" alt=\"view log\" width=\"350\" height=\"400\" style = \"border: 1px solid #00233C; border-radius: 10px; box-shadow: 0 4px 8px rgba(0, 0, 0, 0.2);\"/>\n"
   ]
  },
  {
   "cell_type": "markdown",
   "id": "a32115d4-d3e5-49f2-b4b0-8ec30dbd194c",
   "metadata": {},
   "source": [
    "<p style=\"font-size:16px; font-family:Arial; color:#00233C;\">\n",
    "    Click on <b> Go to model version</b> and check for the artifacts of the model\n",
    "</p>"
   ]
  },
  {
   "cell_type": "markdown",
   "id": "54ef53bf-dcab-40c0-8272-b7d857dc665e",
   "metadata": {},
   "source": [
    "<img src=\"images/16_16.png\" alt=\"BYOM model lifecycle\" width=\"1000\" height=\"200\" style = \"border: 1px solid #00233C; border-radius: 10px; box-shadow: 0 4px 8px rgba(0, 0, 0, 0.2);\"/>"
   ]
  },
  {
   "cell_type": "markdown",
   "id": "f7440e33-8636-4dd1-957b-be3cdfc247ef",
   "metadata": {},
   "source": [
    "<p style=\"font-size:16px; font-family:Arial; color:#00233C;\">\n",
    "    In the <b>Artifacts</b> section we can see the original notebook and the requirements.txt. Along with the uploaded notebook and txt we can find the executed and populated notebook and the html file for the executed notebook\n",
    "</p>"
   ]
  },
  {
   "cell_type": "markdown",
   "id": "39027294-ff7f-43fb-9554-505a95acaefb",
   "metadata": {},
   "source": [
    "<p style = 'font-size:16px;font-family:Arial;color:#00233C'>Go and try this functionality by yourself. Launch ModelOps from this button below:</p>\n",
    "\n",
    "<a href=\"/modelops\" style=\"display: inline-flex; align-items: center; justify-content: center; background-color: #007373; color: #FFFFFF; font-family: Arial, sans-serif; font-size: 16px; font-weight: bold; text-decoration: none; padding: 12px 24px; border: none; border-radius: 8px; box-shadow: 0 4px 6px rgba(0, 0, 0, 0.1); cursor: pointer; transition: all 0.3s ease;\">\n",
    "  LAUNCH MODELOPS\n",
    "  <img src=\"https://img.icons8.com/ios-filled/50/ffffff/external-link.png\" alt=\"External Link Icon\" style=\"margin-left: 8px; width: 20px; height: 20px;\">\n",
    "</a>"
   ]
  },
  {
   "cell_type": "markdown",
   "id": "103a00bb-c971-4061-843b-63b5aa9f5373",
   "metadata": {},
   "source": [
    "<p style=\"font-size:16px; font-family:Arial; color:#00233C;\">\n",
    "  <b>Congratulations!</b> You’ve successfully uploaded a notebook and executed it using the notebook scheduling feature.\n",
    "</p>\n"
   ]
  },
  {
   "cell_type": "markdown",
   "id": "79100115-0a89-4ea8-bf73-b068ef435841",
   "metadata": {},
   "source": [
    "<a href=\"./00_ModelOps_Introduction.ipynb\" style=\"font-size:16px; font-family:Arial; color:white; background-color:#007bff; padding:10px 20px; border-radius:5px; text-decoration:none; display:inline-block;\">\n",
    "  &lt;&lt; Back to Introduction\n",
    "</a>\n"
   ]
  },
  {
   "cell_type": "markdown",
   "id": "36c63233",
   "metadata": {},
   "source": [
    "<footer style=\"padding-bottom:35px; background:#f9f9f9; border-bottom:3px solid #00233C\">\n",
    "    <div style=\"float:left;margin-top:14px\">ClearScape Analytics™</div>\n",
    "    <div style=\"float:right;\">\n",
    "        <div style=\"float:left; margin-top:14px\">\n",
    "            Copyright © Teradata Corporation - 2024. All Rights Reserved\n",
    "        </div>\n",
    "    </div>\n",
    "</footer>"
   ]
  }
 ],
 "metadata": {
  "kernelspec": {
   "display_name": "Python 3 (ipykernel)",
   "language": "python",
   "name": "python3"
  },
  "language_info": {
   "codemirror_mode": {
    "name": "ipython",
    "version": 3
   },
   "file_extension": ".py",
   "mimetype": "text/x-python",
   "name": "python",
   "nbconvert_exporter": "python",
   "pygments_lexer": "ipython3",
   "version": "3.9.10"
  }
 },
 "nbformat": 4,
 "nbformat_minor": 5
}
