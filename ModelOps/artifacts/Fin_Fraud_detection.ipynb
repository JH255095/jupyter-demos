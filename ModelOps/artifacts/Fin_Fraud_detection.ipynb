{
 "cells": [
  {
   "cell_type": "markdown",
   "id": "4c8b2be0",
   "metadata": {
    "papermill": {
     "duration": 0.020646,
     "end_time": "2025-01-08T05:10:00.967834",
     "exception": false,
     "start_time": "2025-01-08T05:10:00.947188",
     "status": "completed"
    },
    "tags": []
   },
   "source": [
    "<header>\n",
    "   <p  style='font-size:36px;font-family:Arial; color:#F0F0F0; background-color: #00233c; padding-left: 20pt; padding-top: 20pt;padding-bottom: 10pt; padding-right: 20pt;'>\n",
    "       Financial Fraud Detection with Python and TeradataML\n",
    "  <br>\n",
    "       <img id=\"teradata-logo\" src=\"https://storage.googleapis.com/clearscape_analytics_demo_data/DEMO_Logo/teradata.svg\" alt=\"Teradata\" style=\"width: 125px; height: auto; margin-top: 20pt;\">\n",
    "    </p>\n",
    "</header>"
   ]
  },
  {
   "cell_type": "markdown",
   "id": "3f6731fb",
   "metadata": {
    "papermill": {
     "duration": 0.01209,
     "end_time": "2025-01-08T05:10:00.992751",
     "exception": false,
     "start_time": "2025-01-08T05:10:00.980661",
     "status": "completed"
    },
    "tags": []
   },
   "source": [
    "<p style = 'font-size:20px;font-family:Arial'><b>Introduction</b></p>\n",
    "<p style = 'font-size:16px;font-family:Arial'>\n",
    "    In recent years we have seen a massive increase in Fraud attempts, making fraud detection imperative for Banking and Financial Institutions. Despite countless efforts and human supervision, hundreds of millions of dollars are lost due to fraud. Fraud can happen using various methods, i.e., stolen credit cards, misleading accounting, phishing emails, etc. Due to small cases in significant populations, fraud detection has become more and more challenging. \n",
    "    <br>\n",
    "    <br>\n",
    "    With ClearScape Analytics, data scientists can use their preferred language, tools and platform to develop models to identify this fraud. Even in large scale operations, users have the guarantee that Vantage can scale to their needs and reduce fraud.</p>\n",
    "    \n",
    "<p style = 'font-size:18px;font-family:Arial'><b>Business Values</b></p>\n",
    "<ul style = 'font-size:16px;font-family:Arial'>\n",
    "    <li>Identification of financial fraud in multiple accounts</li>\n",
    "    <li>Pattern recognition of fraudulent versus normal transactions</li>\n",
    "    <li>Reduction of money lost due to recovering fraudulent charges</li>\n",
    "    <li>Improved customer satisfaction and reduction of customer churn</li>\n",
    "</ul>\n",
    "\n",
    "<p style = 'font-size:18px;font-family:Arial'><b>Why Vantage?</b></p>\n",
    "<p style = 'font-size:16px;font-family:Arial'>To maximize the business value of advanced analytic techniques including Machine Learning and Artificial Intelligence, it is estimated that organizations must scale their model development and deployment pipelines to 100s or 1000s of times greater amounts of data, models, or both.\n",
    "    <br>\n",
    "    <br>\n",
    "    ClearScape Analytics provides powerful, flexible end-to-end data connectivity, feature engineering, model training, evaluation, and operational functions that can be deployed at scale as enterprise data assets; treating the products of ML and AI as first-class analytic processes in the enterprise.</p>"
   ]
  },
  {
   "cell_type": "markdown",
   "id": "7ffca0bf",
   "metadata": {
    "papermill": {
     "duration": 0.016049,
     "end_time": "2025-01-08T05:10:01.046137",
     "exception": false,
     "start_time": "2025-01-08T05:10:01.030088",
     "status": "completed"
    },
    "tags": []
   },
   "source": [
    "<hr style=\"height:2px;border:none;\">\n",
    "<b style = 'font-size:20px;font-family:Arial'>1. Configuring the Environment</b>\n",
    "<p style = 'font-size:16px;font-family:Arial'>Here, we import the required libraries, set environment variables and environment paths (if required).</p>"
   ]
  },
  {
   "cell_type": "code",
   "execution_count": null,
   "id": "6856fd40",
   "metadata": {
    "papermill": {
     "duration": 0.08481,
     "end_time": "2025-01-08T05:10:01.147192",
     "exception": false,
     "start_time": "2025-01-08T05:10:01.062382",
     "status": "completed"
    },
    "tags": []
   },
   "outputs": [],
   "source": [
    "# Standard Libraries\n",
    "import os\n",
    "import getpass\n",
    "import warnings\n",
    "warnings.filterwarnings(\"ignore\")\n",
    "\n",
    "# Teradata Libraries\n",
    "from teradataml import *\n",
    "\n",
    "# Configuration\n",
    "spacing_large = \" \"*95\n",
    "spacing_small = \" \"*12\n",
    "display.max_rows = 5\n",
    "configure.val_install_location = 'val'"
   ]
  },
  {
   "cell_type": "markdown",
   "id": "cda2a56c",
   "metadata": {
    "papermill": {
     "duration": 0.066375,
     "end_time": "2025-01-08T05:10:01.235795",
     "exception": false,
     "start_time": "2025-01-08T05:10:01.169420",
     "status": "completed"
    },
    "tags": []
   },
   "source": [
    "<hr style=\"height:2px;border:none;\">\n",
    "<b style = 'font-size:20px;font-family:Arial'>2. Connect to Vantage</b>\n",
    "<p style = 'font-size:16px;font-family:Arial'>We will be prompted to provide the password. We will enter the password, press the Enter key, and then use the down arrow to go to the next cell.</p>"
   ]
  },
  {
   "cell_type": "code",
   "execution_count": null,
   "id": "ef37b971",
   "metadata": {
    "papermill": {
     "duration": 0.080603,
     "end_time": "2025-01-08T05:10:01.333815",
     "exception": false,
     "start_time": "2025-01-08T05:10:01.253212",
     "status": "completed"
    },
    "tags": []
   },
   "outputs": [],
   "source": [
    "from aoa import tmo_create_context\n",
    "from teradataml import create_context\n",
    "try:\n",
    "    tmo_create_context()\n",
    "except:\n",
    "    import getpass\n",
    "    host = input(\"Host\")\n",
    "    logmech = input(\"Log Mech\")\n",
    "    username = input(\"Username\")\n",
    "    password = getpass.getpass()\n",
    "    create_context(host=host, username=username, password=password, logmech=logmech)\n",
    "    tmo_create_context()"
   ]
  },
  {
   "cell_type": "markdown",
   "id": "377dbb52",
   "metadata": {
    "papermill": {
     "duration": 0.018201,
     "end_time": "2025-01-08T05:10:01.369817",
     "exception": false,
     "start_time": "2025-01-08T05:10:01.351616",
     "status": "completed"
    },
    "tags": []
   },
   "source": [
    "<p style = 'font-size:16px;font-family:Arial'>We begin running steps with Shift + Enter keys. </p>"
   ]
  },
  {
   "cell_type": "code",
   "execution_count": null,
   "id": "e664d870",
   "metadata": {
    "papermill": {
     "duration": 0.081297,
     "end_time": "2025-01-08T05:10:01.525507",
     "exception": false,
     "start_time": "2025-01-08T05:10:01.444210",
     "status": "completed"
    },
    "tags": []
   },
   "outputs": [],
   "source": [
    "print(\"Conn successful\")"
   ]
  },
  {
   "cell_type": "code",
   "execution_count": null,
   "id": "1211745f",
   "metadata": {
    "papermill": {
     "duration": 0.280112,
     "end_time": "2025-01-08T05:10:01.824102",
     "exception": false,
     "start_time": "2025-01-08T05:10:01.543990",
     "status": "completed"
    },
    "tags": []
   },
   "outputs": [],
   "source": [
    "print(\"get data start\")\n",
    "# %run -i ../run_procedure.py \"call get_data('DEMO_GLM_Fraud_local');\" \n",
    "execute_sql('''SET query_band='DEMO=16_Fin_Fraud_Det_from_Model_Scheduler.ipynb;' UPDATE FOR SESSION; ''')\n",
    "execute_sql('''call get_data('DEMO_GLM_Fraud_local');''')\n",
    "print(\"get data successful\")"
   ]
  },
  {
   "cell_type": "code",
   "execution_count": null,
   "id": "a8796383",
   "metadata": {
    "papermill": {
     "duration": 1.1496,
     "end_time": "2025-01-08T05:10:02.988996",
     "exception": false,
     "start_time": "2025-01-08T05:10:01.839396",
     "status": "completed"
    },
    "tags": []
   },
   "outputs": [],
   "source": [
    "txn_data = DataFrame(in_schema('DEMO_GLM_Fraud', 'transaction_data'))\n",
    "\n",
    "print(txn_data.shape)\n",
    "txn_data"
   ]
  },
  {
   "cell_type": "markdown",
   "id": "d47e1d5b",
   "metadata": {
    "papermill": {
     "duration": 0.012459,
     "end_time": "2025-01-08T05:10:03.015646",
     "exception": false,
     "start_time": "2025-01-08T05:10:03.003187",
     "status": "completed"
    },
    "tags": []
   },
   "source": [
    "<p style = 'font-size:16px;font-family:Arial'>In this simulated scenario, deceptive agents engage in transactions with the objective of taking control of customers' accounts, transferring funds to another account, and ultimately cashing out for profit.</p>"
   ]
  },
  {
   "cell_type": "markdown",
   "id": "7bd359c3",
   "metadata": {
    "papermill": {
     "duration": 0.014473,
     "end_time": "2025-01-08T05:10:03.045601",
     "exception": false,
     "start_time": "2025-01-08T05:10:03.031128",
     "status": "completed"
    },
    "tags": []
   },
   "source": [
    "<hr style=\"height:1px;border:none;\">\n",
    "<p style = 'font-size:18px;font-family:Arial'><b>3.1 How many fraudulent transactions do we have in our dataset?</b></p>"
   ]
  },
  {
   "cell_type": "code",
   "execution_count": null,
   "id": "a1457f5e",
   "metadata": {
    "papermill": {
     "duration": 1.486836,
     "end_time": "2025-01-08T05:10:04.545710",
     "exception": false,
     "start_time": "2025-01-08T05:10:03.058874",
     "status": "completed"
    },
    "tags": []
   },
   "outputs": [],
   "source": [
    "# There are 92 fraud transactions i.e. 0.14% of fraud transactions in the dataset.\n",
    "print(\"No of fraud transactions: %d\\nPercentage of fraud transactions: %.2f%%\"%(\n",
    "    txn_data.loc[txn_data.isFraud == 1].shape[0],\n",
    "    txn_data.loc[txn_data.isFraud == 1].shape[0]/txn_data.shape[0]*100)\n",
    ")"
   ]
  },
  {
   "cell_type": "markdown",
   "id": "5bef3c9f",
   "metadata": {
    "papermill": {
     "duration": 0.012945,
     "end_time": "2025-01-08T05:10:04.572163",
     "exception": false,
     "start_time": "2025-01-08T05:10:04.559218",
     "status": "completed"
    },
    "tags": []
   },
   "source": [
    "<hr style=\"height:1px;border:none;\">\n",
    "<p style = 'font-size:18px;font-family:Arial'><b>3.2 How many transactions do we have group by transaction type?</b></p>"
   ]
  },
  {
   "cell_type": "code",
   "execution_count": null,
   "id": "10cebd84",
   "metadata": {
    "papermill": {
     "duration": 0.466323,
     "end_time": "2025-01-08T05:10:05.051820",
     "exception": false,
     "start_time": "2025-01-08T05:10:04.585497",
     "status": "completed"
    },
    "tags": []
   },
   "outputs": [],
   "source": [
    "# Filter data for fraud transactions and group by 'type'\n",
    "transactions_by_type = txn_data.groupby('type').count().get(['type','count_txn_id'])\n",
    "\n",
    "\n",
    "# Sort by 'count_step' column in descending order\n",
    "transactions_by_type = transactions_by_type.sort('count_txn_id', ascending = False)\n",
    "\n",
    "transactions_by_type = transactions_by_type.assign(\n",
    "    type_int = case([\n",
    "        (transactions_by_type.type == 'CASH_IN', 0),\n",
    "        (transactions_by_type.type == 'CASH_OUT', 1),\n",
    "        (transactions_by_type.type == 'DEBIT', 2),\n",
    "        (transactions_by_type.type == 'PAYMENT ', 3),\n",
    "        (transactions_by_type.type == 'TRANSFER', 4),\n",
    "    ])\n",
    ")"
   ]
  },
  {
   "cell_type": "code",
   "execution_count": null,
   "id": "72900516",
   "metadata": {
    "papermill": {
     "duration": 1.023379,
     "end_time": "2025-01-08T05:10:06.091753",
     "exception": false,
     "start_time": "2025-01-08T05:10:05.068374",
     "status": "completed"
    },
    "tags": []
   },
   "outputs": [],
   "source": [
    "transactions_by_type.plot(\n",
    "    x = transactions_by_type.type_int,\n",
    "    y = transactions_by_type.count_txn_id,\n",
    "    kind = 'bar',\n",
    "    legend = ['Count by Type'],\n",
    "    ylabel = 'Count of Transactions',\n",
    "    xlabel = spacing_small.join(sorted(list(transactions_by_type[['type']].get_values().flatten()))),\n",
    "    title = \"Number of Transactions per Transaction Type\"\n",
    ")"
   ]
  },
  {
   "cell_type": "markdown",
   "id": "710a54f5",
   "metadata": {
    "papermill": {
     "duration": 0.014135,
     "end_time": "2025-01-08T05:10:06.119623",
     "exception": false,
     "start_time": "2025-01-08T05:10:06.105488",
     "status": "completed"
    },
    "tags": []
   },
   "source": [
    "<hr style=\"height:1px;border:none;\">\n",
    "<p style = 'font-size:18px;font-family:Arial'><b>3.3 How many fraudulent transactions do we have group by transaction type?</b></p>"
   ]
  },
  {
   "cell_type": "code",
   "execution_count": null,
   "id": "c9526d9c",
   "metadata": {
    "papermill": {
     "duration": 0.604034,
     "end_time": "2025-01-08T05:10:06.736635",
     "exception": false,
     "start_time": "2025-01-08T05:10:06.132601",
     "status": "completed"
    },
    "tags": []
   },
   "outputs": [],
   "source": [
    "# Filter data for fraud transactions and group by 'type'\n",
    "fraud_transactions_by_type = txn_data.loc[txn_data.isFraud == 1].groupby('type').count().get(['type','count_txn_id'])\n",
    "\n",
    "# Sort by 'count_step' column in descending order\n",
    "fraud_transactions_by_type = fraud_transactions_by_type.sort('count_txn_id', ascending = False)\n",
    "\n",
    "fraud_transactions_by_type = fraud_transactions_by_type.assign(\n",
    "    total_fraud = txn_data.loc[txn_data.isFraud == 1].shape[0],\n",
    "    type_int = case([(fraud_transactions_by_type.type == 'TRANSFER', 0)], else_ = 1)\n",
    ")"
   ]
  },
  {
   "cell_type": "code",
   "execution_count": null,
   "id": "fc830291",
   "metadata": {
    "papermill": {
     "duration": 1.269433,
     "end_time": "2025-01-08T05:10:08.019219",
     "exception": false,
     "start_time": "2025-01-08T05:10:06.749786",
     "status": "completed"
    },
    "tags": []
   },
   "outputs": [],
   "source": [
    "fraud_transactions_by_type.plot(\n",
    "    x = fraud_transactions_by_type.type_int,\n",
    "    y = [fraud_transactions_by_type.total_fraud, fraud_transactions_by_type.count_txn_id],\n",
    "    kind = 'bar',\n",
    "    figsize = (800, 500),\n",
    "    legend = ['Total Fraud', 'Count by Type'],\n",
    "    ylabel = 'Count of Fraud Transactions',\n",
    "    xlabel = 'TRANSFER' + spacing_large + 'CASH_OUT',\n",
    "    title = \"Number of Fraud Transactions by Transaction Type\"\n",
    ")"
   ]
  },
  {
   "cell_type": "markdown",
   "id": "07e69c74",
   "metadata": {
    "papermill": {
     "duration": 0.01342,
     "end_time": "2025-01-08T05:10:08.048299",
     "exception": false,
     "start_time": "2025-01-08T05:10:08.034879",
     "status": "completed"
    },
    "tags": []
   },
   "source": [
    "<p style = 'font-size:16px;font-family:Arial'>From the above result, we can see that out of the 92 fraud transactions, 47 are from transaction type \"TRANSFER\" and 45 are from \"CASH_OUT\".</p>"
   ]
  },
  {
   "cell_type": "markdown",
   "id": "3cb23e05",
   "metadata": {
    "papermill": {
     "duration": 0.063787,
     "end_time": "2025-01-08T05:10:08.126968",
     "exception": false,
     "start_time": "2025-01-08T05:10:08.063181",
     "status": "completed"
    },
    "tags": []
   },
   "source": [
    "<hr style=\"height:1px;border:none;\">\n",
    "<p style = 'font-size:18px;font-family:Arial'><b>3.4 What percentage of fraudulent transactions do we have where transaction amount is equal to old balance in the origin account?</b></p>\n",
    "\n",
    "<p style = 'font-size:16px;font-family:Arial'>This might be the case where the fraudster emptied the account of the victim.</p>"
   ]
  },
  {
   "cell_type": "code",
   "execution_count": null,
   "id": "dce64559",
   "metadata": {
    "papermill": {
     "duration": 1.687595,
     "end_time": "2025-01-08T05:10:09.834984",
     "exception": false,
     "start_time": "2025-01-08T05:10:08.147389",
     "status": "completed"
    },
    "tags": []
   },
   "outputs": [],
   "source": [
    "print(\"No of cleanout fraud transactions: %d\\nPercentage of cleanout fraud transactions: %.2f%%\"%(\n",
    "    txn_data.loc[txn_data['amount'] == txn_data.oldbalanceOrig].loc[txn_data['isFraud'] == 1].shape[0],\n",
    "    txn_data.loc[txn_data['amount'] == txn_data.oldbalanceOrig].loc[txn_data['isFraud'] == 1].shape[0] / txn_data.loc[txn_data.isFraud == 1].shape[0]*100)\n",
    ")"
   ]
  },
  {
   "cell_type": "markdown",
   "id": "1fbac007",
   "metadata": {
    "papermill": {
     "duration": 0.021655,
     "end_time": "2025-01-08T05:10:09.877993",
     "exception": false,
     "start_time": "2025-01-08T05:10:09.856338",
     "status": "completed"
    },
    "tags": []
   },
   "source": [
    "<p style = 'font-size:16px;font-family:Arial'>From the above result, we can see that out of 92 Fraud transactions, the amount involved in 90 fraud transactions was equal to the total balance in the account. </p>"
   ]
  },
  {
   "cell_type": "markdown",
   "id": "f29e7eef",
   "metadata": {
    "papermill": {
     "duration": 0.013398,
     "end_time": "2025-01-08T05:10:09.948082",
     "exception": false,
     "start_time": "2025-01-08T05:10:09.934684",
     "status": "completed"
    },
    "tags": []
   },
   "source": [
    "<hr style=\"height:1px;border:none;\">\n",
    "<p style = 'font-size:16px;font-family:Arial'><b>Below are some insights about the dataset:</b></p>\n",
    "<ol style = 'font-size:16px;font-family:Arial'>\n",
    "    <li>We have 92 fraud transactions, which account for 0.14% of the dataset.</li>\n",
    "    <li>Out of these 92 fraud transactions, 47 are of type TRANSFER, and 45 are of type CASH_OUT.</li>\n",
    "    <li>Approximately 97.83% of our fraud transactions have a transaction amount equal to oldbalanceOrig, indicating account cleanout.</li>\n",
    "    <li>About 71.74% of our fraud transactions have the recipient's old balance as zero.</li>\n",
    "    <li>The isFlaggedFraud indicator is correct only two times among our 92 fraud transactions.</li>\n",
    "</ol>"
   ]
  },
  {
   "cell_type": "markdown",
   "id": "333965ba",
   "metadata": {
    "papermill": {
     "duration": 0.063857,
     "end_time": "2025-01-08T05:10:10.025739",
     "exception": false,
     "start_time": "2025-01-08T05:10:09.961882",
     "status": "completed"
    },
    "tags": []
   },
   "source": [
    "<hr style=\"height:1px;border:none;\">\n",
    "<p style = 'font-size:18px;font-family:Arial'><b>3.5 Univariate statistics</b></p>\n",
    "\n",
    "<p style = 'font-size:16px;font-family:Arial'>The describe funtion computes the count, mean, std, min, percentiles, and max for numeric columns.</p>"
   ]
  },
  {
   "cell_type": "code",
   "execution_count": null,
   "id": "0556c84c",
   "metadata": {
    "papermill": {
     "duration": 12.736117,
     "end_time": "2025-01-08T05:10:22.775846",
     "exception": false,
     "start_time": "2025-01-08T05:10:10.039729",
     "status": "completed"
    },
    "tags": []
   },
   "outputs": [],
   "source": [
    "txn_data.describe()"
   ]
  },
  {
   "cell_type": "markdown",
   "id": "792894df",
   "metadata": {
    "papermill": {
     "duration": 0.01365,
     "end_time": "2025-01-08T05:10:22.805188",
     "exception": false,
     "start_time": "2025-01-08T05:10:22.791538",
     "status": "completed"
    },
    "tags": []
   },
   "source": [
    "<hr style=\"height:1px;border:none;\">\n",
    "<p style = 'font-size:18px;font-family:Arial'><b>3.6 Checking for Null Values</b></p>\n",
    "<p style = 'font-size:16px;font-family:Arial'>The ColumnSummary() function can be used to take a quick look at the columns, their datatypes, and summary of NULLs/non-NULLs for a given table.</p>"
   ]
  },
  {
   "cell_type": "code",
   "execution_count": null,
   "id": "53fb729a",
   "metadata": {
    "papermill": {
     "duration": 2.453824,
     "end_time": "2025-01-08T05:10:25.286820",
     "exception": false,
     "start_time": "2025-01-08T05:10:22.832996",
     "status": "completed"
    },
    "tags": []
   },
   "outputs": [],
   "source": [
    "colsum = ColumnSummary(\n",
    "    data  = txn_data,\n",
    "    target_columns = [':']\n",
    ")\n",
    "colsum.result"
   ]
  },
  {
   "cell_type": "markdown",
   "id": "a0d187a3",
   "metadata": {
    "papermill": {
     "duration": 0.014097,
     "end_time": "2025-01-08T05:10:25.315530",
     "exception": false,
     "start_time": "2025-01-08T05:10:25.301433",
     "status": "completed"
    },
    "tags": []
   },
   "source": [
    "<hr style=\"height:1px;border:none;\">\n",
    "<p style = 'font-size:18px;font-family:Arial'><b>3.7 Checking for Outliers</b></p>\n",
    "<p style = 'font-size:16px;font-family:Arial'>The OutlierFilterFit() function calculates the lower percentile, upper percentile, count of rows and median for all the \"target_columns\" provided by the user. These metrics for each column help the function OutlierTransform() detect outliers in data.</p>\n",
    "\n",
    "<p style = 'font-size:16px;font-family:Arial'>Here we are using teradataml syntax for the function. The same can be achived using the following SQL as well.</p>\n",
    "\n",
    "<code>SELECT * FROM TD_OutlierFilterFit(\n",
    "    ON \"DEMO_GLM_Fraud\".\"transaction_data\" AS InputTable\n",
    "    OUT TABLE OutputTable(\"DEMO_USER\".\"Outlier_output\")\n",
    "    USING\n",
    "    TargetColumns('amount','newbalanceOrig','oldbalanceDest','newbalanceDest','oldbalanceOrig')\n",
    ") as dt;</code>\n",
    "\n",
    "<p style = 'font-size:14px;font-family:Arial'><b><i>*Please note that both the versions run in-database and there is no data transfer involved.</i></b></p>"
   ]
  },
  {
   "cell_type": "code",
   "execution_count": null,
   "id": "3da31916",
   "metadata": {
    "papermill": {
     "duration": 6.50532,
     "end_time": "2025-01-08T05:10:31.837862",
     "exception": false,
     "start_time": "2025-01-08T05:10:25.332542",
     "status": "completed"
    },
    "tags": []
   },
   "outputs": [],
   "source": [
    "fit_object = OutlierFilterFit(\n",
    "    data = txn_data,\n",
    "    target_columns = ['amount','newbalanceOrig', 'oldbalanceDest','newbalanceDest','oldbalanceOrig']\n",
    ")\n",
    "\n",
    "res = fit_object.transform(data = txn_data).result"
   ]
  },
  {
   "cell_type": "code",
   "execution_count": null,
   "id": "ef546edb",
   "metadata": {
    "papermill": {
     "duration": 0.496763,
     "end_time": "2025-01-08T05:10:32.351396",
     "exception": false,
     "start_time": "2025-01-08T05:10:31.854633",
     "status": "completed"
    },
    "tags": []
   },
   "outputs": [],
   "source": [
    "print(f\"Rows before removing outliers: {txn_data.shape[0]}\\n\\\n",
    "Rows after removing outliers: {res.shape[0]}\\n\\\n",
    "Total outliers: {txn_data.shape[0] - res.shape[0]}\")"
   ]
  },
  {
   "cell_type": "code",
   "execution_count": null,
   "id": "5a168728",
   "metadata": {
    "papermill": {
     "duration": 14.142097,
     "end_time": "2025-01-08T05:10:46.508550",
     "exception": false,
     "start_time": "2025-01-08T05:10:32.366453",
     "status": "completed"
    },
    "tags": []
   },
   "outputs": [],
   "source": [
    "outliers = td_minus([txn_data, res])\n",
    "outliers"
   ]
  },
  {
   "cell_type": "markdown",
   "id": "6339a719",
   "metadata": {
    "papermill": {
     "duration": 0.015205,
     "end_time": "2025-01-08T05:10:46.539054",
     "exception": false,
     "start_time": "2025-01-08T05:10:46.523849",
     "status": "completed"
    },
    "tags": []
   },
   "source": [
    "<hr style=\"height:2px;border:none;\">\n",
    "<b style = 'font-size:20px;font-family:Arial'>4. Data Preparation</b>\n",
    "\n",
    "<p style='font-size:16px;font-family:Arial'><b>We'll perform the following steps:</b></p>\n",
    "<ul style='font-size:16px;font-family:Arial'>\n",
    "    <li>We will one-hot encode the categorical \"type\" column.</li>\n",
    "    <li>We will perform feature scaling using ScaleFit and ScaleTransform on numerical columns.</li>\n",
    "    <li>We will split the data into training and testing datasets (80:20 split).</li>\n",
    "</ul>\n",
    "\n",
    "<p style='font-size:16px;font-family:Arial'>We perform feature scaling during data pre-processing to handle highly varying magnitudes, values, or units. If feature scaling is not done, then a machine learning algorithm tends to weigh greater values higher and consider smaller values as lower ones, regardless of the unit of the values.</p>"
   ]
  },
  {
   "cell_type": "markdown",
   "id": "17ca6a57",
   "metadata": {
    "papermill": {
     "duration": 0.014796,
     "end_time": "2025-01-08T05:10:46.568994",
     "exception": false,
     "start_time": "2025-01-08T05:10:46.554198",
     "status": "completed"
    },
    "tags": []
   },
   "source": [
    "<hr style=\"height:1px;border:none;\">\n",
    "<p style = 'font-size:18px;font-family:Arial'><b>4.1 Drop redundant columns</b></p>\n",
    "<p style = 'font-size:16px;font-family:Arial'>We don't need nameDest, nameOrigin, and isFlaggedFraud for model training as they do not impact the outcome. We have txn_id to uniquely identify each transaction.</p>"
   ]
  },
  {
   "cell_type": "code",
   "execution_count": null,
   "id": "263cbcfb",
   "metadata": {
    "papermill": {
     "duration": 0.189253,
     "end_time": "2025-01-08T05:10:46.819447",
     "exception": false,
     "start_time": "2025-01-08T05:10:46.630194",
     "status": "completed"
    },
    "tags": []
   },
   "outputs": [],
   "source": [
    "txn_data = txn_data.drop(['nameDest', 'nameOrig', 'isFlaggedFraud'], axis = 1)\n",
    "txn_data"
   ]
  },
  {
   "cell_type": "markdown",
   "id": "5bc66da2",
   "metadata": {
    "papermill": {
     "duration": 0.01472,
     "end_time": "2025-01-08T05:10:46.850624",
     "exception": false,
     "start_time": "2025-01-08T05:10:46.835904",
     "status": "completed"
    },
    "tags": []
   },
   "source": [
    "<hr style=\"height:1px;border:none;\">\n",
    "<p style = 'font-size:18px;font-family:Arial'><b>4.2 One-hot encoding</b></p>\n",
    "<p style='font-size:16px;font-family:Arial'>\n",
    "Here, we are one-hot encoding the \"type\" column. We find one-hot encoding necessary in many cases to represent categorical variables as binary values, enable numerical processing, ensure feature independence, handle non-numeric data, and improve the performance and interpretability of our machine learning models.\n",
    "</p>"
   ]
  },
  {
   "cell_type": "code",
   "execution_count": null,
   "id": "5de8e794",
   "metadata": {
    "papermill": {
     "duration": 3.023735,
     "end_time": "2025-01-08T05:10:49.889575",
     "exception": false,
     "start_time": "2025-01-08T05:10:46.865840",
     "status": "completed"
    },
    "tags": []
   },
   "outputs": [],
   "source": [
    "txn_type_encoder = OneHotEncoder(\n",
    "    values = [\"CASH_IN\", \"CASH_OUT\", \"DEBIT\", \"PAYMENT\", \"TRANSFER\"],\n",
    "    columns = \"type\"\n",
    ")\n",
    "\n",
    "retain = Retain(\n",
    "    columns = ['step', 'amount','newbalanceOrig','oldbalanceDest','newbalanceDest','oldbalanceOrig', 'isFraud']\n",
    ")\n",
    "\n",
    "obj = valib.Transform(\n",
    "    data = txn_data,\n",
    "    one_hot_encode = txn_type_encoder,\n",
    "    retain = retain,\n",
    "    index_columns = 'txn_id'\n",
    ")\n",
    "txn_trans = obj.result\n",
    "txn_trans"
   ]
  },
  {
   "cell_type": "markdown",
   "id": "35f9a71f",
   "metadata": {
    "papermill": {
     "duration": 0.014545,
     "end_time": "2025-01-08T05:10:49.920385",
     "exception": false,
     "start_time": "2025-01-08T05:10:49.905840",
     "status": "completed"
    },
    "tags": []
   },
   "source": [
    "<p style = 'font-size:16px;font-family:Arial'>The above output shows that we have transformed the data into a transfromed dataset.</p>"
   ]
  },
  {
   "cell_type": "code",
   "execution_count": null,
   "id": "702e621e",
   "metadata": {
    "papermill": {
     "duration": 0.686032,
     "end_time": "2025-01-08T05:10:50.624447",
     "exception": false,
     "start_time": "2025-01-08T05:10:49.938415",
     "status": "completed"
    },
    "tags": []
   },
   "outputs": [],
   "source": [
    "copy_to_sql(txn_trans, table_name = 'clean_data', if_exists = 'replace')"
   ]
  },
  {
   "cell_type": "markdown",
   "id": "ebed4332",
   "metadata": {
    "papermill": {
     "duration": 0.014995,
     "end_time": "2025-01-08T05:10:50.654908",
     "exception": false,
     "start_time": "2025-01-08T05:10:50.639913",
     "status": "completed"
    },
    "tags": []
   },
   "source": [
    "<hr style=\"height:2px;border:none;\">\n",
    "<b style = 'font-size:20px;font-family:Arial'>5. Create training and testing datasets in Vantage</b>\n",
    "<p style = 'font-size:16px;font-family:Arial'>We'll create two datasets for training and testing in the ratio of 80:20.</p>"
   ]
  },
  {
   "cell_type": "code",
   "execution_count": null,
   "id": "86580015",
   "metadata": {
    "papermill": {
     "duration": 3.681243,
     "end_time": "2025-01-08T05:10:54.405686",
     "exception": false,
     "start_time": "2025-01-08T05:10:50.724443",
     "status": "completed"
    },
    "tags": []
   },
   "outputs": [],
   "source": [
    "TrainTestSplit_out = TrainTestSplit(\n",
    "    data = txn_trans,\n",
    "    id_column = \"txn_id\",\n",
    "    train_size = 0.80,\n",
    "    test_size = 0.20,\n",
    "    seed = 25\n",
    ")\n",
    "\n",
    "df_train = TrainTestSplit_out.result[TrainTestSplit_out.result['TD_IsTrainRow'] == 1].drop(['TD_IsTrainRow'], axis = 1)\n",
    "df_test = TrainTestSplit_out.result[TrainTestSplit_out.result['TD_IsTrainRow'] == 0].drop(['TD_IsTrainRow'], axis = 1)\n",
    "\n",
    "print(\"Training Set = \" + str(df_train.shape[0]) + \". Testing Set = \" + str(df_test.shape[0]))"
   ]
  },
  {
   "cell_type": "code",
   "execution_count": null,
   "id": "f70d9536",
   "metadata": {
    "papermill": {
     "duration": 2.077371,
     "end_time": "2025-01-08T05:10:56.500820",
     "exception": false,
     "start_time": "2025-01-08T05:10:54.423449",
     "status": "completed"
    },
    "tags": []
   },
   "outputs": [],
   "source": [
    "copy_to_sql(df_train, table_name = 'clean_data_train', if_exists = 'replace')\n",
    "copy_to_sql(df_test, table_name = 'clean_data_test', if_exists = 'replace')"
   ]
  },
  {
   "cell_type": "code",
   "execution_count": null,
   "id": "2d5e6f84",
   "metadata": {
    "papermill": {
     "duration": 0.379514,
     "end_time": "2025-01-08T05:10:56.896574",
     "exception": false,
     "start_time": "2025-01-08T05:10:56.517060",
     "status": "completed"
    },
    "tags": []
   },
   "outputs": [],
   "source": [
    "df_train"
   ]
  },
  {
   "cell_type": "markdown",
   "id": "1bb1a393",
   "metadata": {
    "papermill": {
     "duration": 0.016248,
     "end_time": "2025-01-08T05:10:56.928792",
     "exception": false,
     "start_time": "2025-01-08T05:10:56.912544",
     "status": "completed"
    },
    "tags": []
   },
   "source": [
    "<p style = 'font-size:16px;font-family:Arial'>The above output shows that we have transformed the data into a scaled dataset. Scaling our data makes it easy for our model to learn and understand the problem.</p>"
   ]
  },
  {
   "cell_type": "markdown",
   "id": "602f5e8f",
   "metadata": {
    "papermill": {
     "duration": 0.015654,
     "end_time": "2025-01-08T05:10:56.961882",
     "exception": false,
     "start_time": "2025-01-08T05:10:56.946228",
     "status": "completed"
    },
    "tags": []
   },
   "source": [
    "<hr style=\"height:2px;border:none;\">\n",
    "<b style = 'font-size:20px;font-family:Arial'>6. In-Database XGBoost model training</b>"
   ]
  },
  {
   "cell_type": "markdown",
   "id": "7d928ca4",
   "metadata": {
    "papermill": {
     "duration": 0.017401,
     "end_time": "2025-01-08T05:10:57.041042",
     "exception": false,
     "start_time": "2025-01-08T05:10:57.023641",
     "status": "completed"
    },
    "tags": []
   },
   "source": [
    "<p style = 'font-size:16px;font-family:Arial'>The XGBoost() function, also known as eXtreme Gradient Boosting, is an implementation of the gradient boosted decision tree algorithm designed for speed and performance. It has recently been dominating applied machine learning.</p>\n",
    "<p style = 'font-size:16px;font-family:Arial'>In gradient boosting, each iteration fits a model to the residuals (errors) of the previous iteration to correct the errors made by existing models. The predicted residual is multiplied by this learning rate and then added to the previous prediction. Models are added sequentially until no further improvements can be made. It is called gradient boosting because it uses a gradient descent algorithm to minimize the loss when adding new models.</p>\n",
    "\n",
    "<p style = 'font-size:16px;font-family:Arial'>Here we are using teradataml syntax for the function. The same can be achived using the following SQL as well.</p>\n",
    "\n",
    "<code>SELECT * FROM TD_XGBoost(\n",
    "\tON \"DEMO_USER\".\"clean_data_train\" AS \"input\"\n",
    "\tPARTITION BY ANY\n",
    "\tUSING InputColumns('amount','newbalanceOrig','oldbalanceDest','newbalanceDest','oldbalanceOrig','CASH_IN_type','CASH_OUT_type','DEBIT_type','PAYMENT_type','TRANSFER_type')\n",
    "\tResponseColumn('isFraud')\n",
    "\tMaxDepth(7)\n",
    "\tSeed(42)\n",
    "\tModelType('Classification')\n",
    "\tRegularizationLambda(120.0)\n",
    "\tShrinkageFactor(0.1)\n",
    ") as sqlmr</code>\n",
    "\n",
    "<p style = 'font-size:14px;font-family:Arial'><b><i>*Please note that both the versions run in-database and there is no data transfer involved.</i></b></p>"
   ]
  },
  {
   "cell_type": "code",
   "execution_count": null,
   "id": "f1ebf77e",
   "metadata": {
    "papermill": {
     "duration": 0.073583,
     "end_time": "2025-01-08T05:10:57.132045",
     "exception": false,
     "start_time": "2025-01-08T05:10:57.058462",
     "status": "completed"
    },
    "tags": []
   },
   "outputs": [],
   "source": [
    "cols = df_train.columns\n",
    "cols.remove('txn_id')\n",
    "cols.remove('step')\n",
    "cols.remove('isFraud')"
   ]
  },
  {
   "cell_type": "code",
   "execution_count": null,
   "id": "da5d8b69",
   "metadata": {
    "papermill": {
     "duration": 7.813955,
     "end_time": "2025-01-08T05:11:04.962504",
     "exception": false,
     "start_time": "2025-01-08T05:10:57.148549",
     "status": "completed"
    },
    "tags": []
   },
   "outputs": [],
   "source": [
    "XGBoost_out = XGBoost(\n",
    "    data=df_train,\n",
    "    input_columns=cols,\n",
    "    response_column = 'isFraud',\n",
    "    lambda1 = 120.0,\n",
    "    model_type='Classification',\n",
    "    seed=42,\n",
    "    shrinkage_factor=0.1,\n",
    "    max_depth=7\n",
    ")"
   ]
  },
  {
   "cell_type": "code",
   "execution_count": null,
   "id": "3e1058b5",
   "metadata": {
    "papermill": {
     "duration": 0.14037,
     "end_time": "2025-01-08T05:11:05.119162",
     "exception": false,
     "start_time": "2025-01-08T05:11:04.978792",
     "status": "completed"
    },
    "tags": []
   },
   "outputs": [],
   "source": [
    "XGBoost_out.output_data"
   ]
  },
  {
   "cell_type": "markdown",
   "id": "824f82f0",
   "metadata": {
    "papermill": {
     "duration": 0.017434,
     "end_time": "2025-01-08T05:11:05.158541",
     "exception": false,
     "start_time": "2025-01-08T05:11:05.141107",
     "status": "completed"
    },
    "tags": []
   },
   "source": [
    "<p style = 'font-size:16px;font-family:Arial'>The function output is a trained XGBoost model, and we can input it to the XGBoostPredict() function for prediction.</p>"
   ]
  },
  {
   "cell_type": "markdown",
   "id": "fe285b42",
   "metadata": {
    "papermill": {
     "duration": 0.061428,
     "end_time": "2025-01-08T05:11:05.236534",
     "exception": false,
     "start_time": "2025-01-08T05:11:05.175106",
     "status": "completed"
    },
    "tags": []
   },
   "source": [
    "<hr style=\"height:2px;border:none;\">\n",
    "<b style = 'font-size:20px;font-family:Arial'>7. In-Database XGBoost model scoring</b>"
   ]
  },
  {
   "cell_type": "markdown",
   "id": "e1c998f1",
   "metadata": {
    "papermill": {
     "duration": 0.015633,
     "end_time": "2025-01-08T05:11:05.269127",
     "exception": false,
     "start_time": "2025-01-08T05:11:05.253494",
     "status": "completed"
    },
    "tags": []
   },
   "source": [
    "<p style = 'font-size:16px;font-family:Arial'>The XGBoostPredict() function runs the predictive algorithm based on the model generated by XGBoost(). The XGBoost() function, also known as eXtreme Gradient Boosting, performs classification or regression analysis on datasets.</p>\n",
    "<p style = 'font-size:16px;font-family:Arial'>\n",
    "When using the function, we should provide only numeric features. We need to convert the categorical features to numeric values before prediction.</p>"
   ]
  },
  {
   "cell_type": "code",
   "execution_count": null,
   "id": "119d7629",
   "metadata": {
    "papermill": {
     "duration": 2.530102,
     "end_time": "2025-01-08T05:11:07.864221",
     "exception": false,
     "start_time": "2025-01-08T05:11:05.334119",
     "status": "completed"
    },
    "tags": []
   },
   "outputs": [],
   "source": [
    "XGBoostPredict_out = XGBoostPredict(\n",
    "    newdata=df_test,\n",
    "    object=XGBoost_out.result,\n",
    "    model_type='Classification',\n",
    "    id_column='txn_id',\n",
    "    object_order_column=['task_index', 'tree_num',\n",
    "                       'iter', 'tree_order'],\n",
    "    accumulate='isFraud',\n",
    "    output_prob=True,\n",
    "    output_responses=['0', '1']\n",
    ").result"
   ]
  },
  {
   "cell_type": "code",
   "execution_count": null,
   "id": "ff472537",
   "metadata": {
    "papermill": {
     "duration": 1.131648,
     "end_time": "2025-01-08T05:11:09.014580",
     "exception": false,
     "start_time": "2025-01-08T05:11:07.882932",
     "status": "completed"
    },
    "tags": []
   },
   "outputs": [],
   "source": [
    "XGBoostPredict_out"
   ]
  },
  {
   "cell_type": "markdown",
   "id": "73f0e4c0",
   "metadata": {
    "papermill": {
     "duration": 0.016528,
     "end_time": "2025-01-08T05:11:09.047578",
     "exception": false,
     "start_time": "2025-01-08T05:11:09.031050",
     "status": "completed"
    },
    "tags": []
   },
   "source": [
    "<p style = 'font-size:16px;font-family:Arial'>The output above shows our prob_1, i.e., the transaction is fraud, and prob_0, i.e., the transaction is not a fraud. We use these probabilities in our prediction column to assign a class label.</p>"
   ]
  },
  {
   "cell_type": "code",
   "execution_count": null,
   "id": "643d344d",
   "metadata": {
    "papermill": {
     "duration": 0.094952,
     "end_time": "2025-01-08T05:11:09.158257",
     "exception": false,
     "start_time": "2025-01-08T05:11:09.063305",
     "status": "completed"
    },
    "tags": []
   },
   "outputs": [],
   "source": [
    "combined_df = df_test.join(XGBoostPredict_out, on='txn_id', lsuffix='test', rsuffix='pred')"
   ]
  },
  {
   "cell_type": "code",
   "execution_count": null,
   "id": "2d70cdb7",
   "metadata": {
    "papermill": {
     "duration": 1.594753,
     "end_time": "2025-01-08T05:11:10.823232",
     "exception": false,
     "start_time": "2025-01-08T05:11:09.228479",
     "status": "completed"
    },
    "tags": []
   },
   "outputs": [],
   "source": [
    "combined_df[combined_df['Prediction']==1]"
   ]
  },
  {
   "cell_type": "code",
   "execution_count": null,
   "id": "12fb1d0d",
   "metadata": {
    "papermill": {
     "duration": 0.200251,
     "end_time": "2025-01-08T05:11:11.052663",
     "exception": false,
     "start_time": "2025-01-08T05:11:10.852412",
     "status": "completed"
    },
    "tags": []
   },
   "outputs": [],
   "source": [
    "out = XGBoostPredict_out.assign(Prediction = XGBoostPredict_out.Prediction.cast(type_ = BYTEINT))\n",
    "out = out.assign(Prediction = out.Prediction.cast(type_ = VARCHAR(2)))\n",
    "out = out.assign(isFraud = out.isFraud.cast(type_ = VARCHAR(2)))"
   ]
  },
  {
   "cell_type": "code",
   "execution_count": null,
   "id": "8f0d8960",
   "metadata": {
    "papermill": {
     "duration": 5.662135,
     "end_time": "2025-01-08T05:11:16.788803",
     "exception": false,
     "start_time": "2025-01-08T05:11:11.126668",
     "status": "completed"
    },
    "tags": []
   },
   "outputs": [],
   "source": [
    "ClassificationEvaluator_obj = ClassificationEvaluator(\n",
    "    data = out,\n",
    "    observation_column = 'isFraud',\n",
    "    prediction_column = 'Prediction',\n",
    "    labels = ['0', '1']\n",
    ")"
   ]
  },
  {
   "cell_type": "code",
   "execution_count": null,
   "id": "d7d1a8d6",
   "metadata": {
    "papermill": {
     "duration": 0.221648,
     "end_time": "2025-01-08T05:11:17.028341",
     "exception": false,
     "start_time": "2025-01-08T05:11:16.806693",
     "status": "completed"
    },
    "tags": []
   },
   "outputs": [],
   "source": [
    "ClassificationEvaluator_obj.output_data.head(10)"
   ]
  },
  {
   "cell_type": "markdown",
   "id": "2dc6ded5",
   "metadata": {
    "papermill": {
     "duration": 0.016637,
     "end_time": "2025-01-08T05:11:17.061998",
     "exception": false,
     "start_time": "2025-01-08T05:11:17.045361",
     "status": "completed"
    },
    "tags": []
   },
   "source": [
    "<hr style=\"height:2px;border:none;\">\n",
    "<b style = 'font-size:20px;font-family:Arial'>8. Visualize the results (ROC curve and AUC)</b>"
   ]
  },
  {
   "cell_type": "markdown",
   "id": "16272207",
   "metadata": {
    "papermill": {
     "duration": 0.021804,
     "end_time": "2025-01-08T05:11:17.151620",
     "exception": false,
     "start_time": "2025-01-08T05:11:17.129816",
     "status": "completed"
    },
    "tags": []
   },
   "source": [
    "<p style = 'font-size:16px;font-family:Arial'>We create the ROC curve, which is a graph between TPR (True Positive Rate) and FPR (False Positive Rate). We use the area under the ROC curve as a metric to evaluate how well our model can distinguish between positive and negative classes. A higher AUC indicates better performance in distinguishing between the positive and negative categories. We generally consider an AUC above 0.75 as decent.</p>"
   ]
  },
  {
   "cell_type": "code",
   "execution_count": null,
   "id": "cde65bfc",
   "metadata": {
    "papermill": {
     "duration": 7.968396,
     "end_time": "2025-01-08T05:11:25.192362",
     "exception": false,
     "start_time": "2025-01-08T05:11:17.223966",
     "status": "completed"
    },
    "tags": []
   },
   "outputs": [],
   "source": [
    "from teradataml import ROC\n",
    "\n",
    "roc_out = ROC(\n",
    "    probability_column = '\"Prob_1\"',\n",
    "    observation_column = \"isFraud\",\n",
    "    positive_class = \"1\",\n",
    "    data = XGBoostPredict_out,\n",
    "    num_thresholds=300\n",
    ")\n",
    "\n",
    "roc_out"
   ]
  },
  {
   "cell_type": "code",
   "execution_count": null,
   "id": "459176f8",
   "metadata": {
    "papermill": {
     "duration": 1.261126,
     "end_time": "2025-01-08T05:11:26.471216",
     "exception": false,
     "start_time": "2025-01-08T05:11:25.210090",
     "status": "completed"
    },
    "tags": []
   },
   "outputs": [],
   "source": [
    "# Assigning new index column\n",
    "roc_out.result = roc_out.result.assign(row = 1)\n",
    "# Changing the index label.\n",
    "roc_out.result._index_label = [\"row\"]\n",
    "auc = roc_out.result.get_values()[0][0]\n",
    "\n",
    "figure = Figure(width=500, height=400, heading=\"Receiver Operating Characteristic (ROC) Curve\")\n",
    "\n",
    "plot = roc_out.output_data.plot(\n",
    "    x=roc_out.output_data.fpr,\n",
    "    y=[roc_out.output_data.tpr, roc_out.output_data.fpr],\n",
    "    xlabel='False Positive Rate',\n",
    "    ylabel='True Positive Rate',\n",
    "    color='carolina blue',\n",
    "    figure=figure,\n",
    "    legend=[f'XGBoost AUC = {round(auc, 4)}', 'AUC Baseline'],\n",
    "    legend_style='lower right',\n",
    "    grid_linestyle='--',\n",
    "    grid_linewidth=0.5,\n",
    "    linestyle = ['-', '--']\n",
    ")\n",
    "\n",
    "plot.show()"
   ]
  },
  {
   "cell_type": "markdown",
   "id": "5a2d74d6",
   "metadata": {
    "papermill": {
     "duration": 0.031218,
     "end_time": "2025-01-08T05:11:26.526860",
     "exception": false,
     "start_time": "2025-01-08T05:11:26.495642",
     "status": "completed"
    },
    "tags": []
   },
   "source": [
    "<p style = 'font-size:16px;font-family:Arial'>Looking at the above ROC Curve, we can confidently say that our model has performed well on testing data. The AUC value is above 0.75 and resonates with our understanding that the model is performing well.</p>\n",
    "\n",
    "<p style = 'font-size:18px;font-family:Arial'><b>Conclusion</b></p>\n",
    "\n",
    "<p style = 'font-size:16px;font-family:Arial'>In this demonstration, we have illustrated a simplified - but complete - overview of how we can implement a typical machine learning workflow completely inside the database using Vantage. This allows us to leverage Vantage's operational scale, power, and stability.</p>"
   ]
  },
  {
   "cell_type": "markdown",
   "id": "d4a2fd5b",
   "metadata": {
    "papermill": {
     "duration": 0.019669,
     "end_time": "2025-01-08T05:11:26.570269",
     "exception": false,
     "start_time": "2025-01-08T05:11:26.550600",
     "status": "completed"
    },
    "tags": []
   },
   "source": [
    "<hr style=\"height:2px;border:none;\">\n",
    "<b style = 'font-size:20px;font-family:Arial'>9. Cleanup</b>"
   ]
  },
  {
   "cell_type": "markdown",
   "id": "79008c7b",
   "metadata": {
    "papermill": {
     "duration": 0.018426,
     "end_time": "2025-01-08T05:11:26.654143",
     "exception": false,
     "start_time": "2025-01-08T05:11:26.635717",
     "status": "completed"
    },
    "tags": []
   },
   "source": [
    "<p style = 'font-size:18px;font-family:Arial'><b>Work Tables</b></p>\n",
    "<p style = 'font-size:16px;font-family:Arial'>We need to clean up our work tables to prevent errors next time.</p>"
   ]
  },
  {
   "cell_type": "code",
   "execution_count": null,
   "id": "dbda182b",
   "metadata": {
    "papermill": {
     "duration": 1.044298,
     "end_time": "2025-01-08T05:11:27.716955",
     "exception": false,
     "start_time": "2025-01-08T05:11:26.672657",
     "status": "completed"
    },
    "tags": []
   },
   "outputs": [],
   "source": [
    "tables = ['clean_data', 'clean_data_train', 'clean_data_test']\n",
    "\n",
    "# Loop through the list of tables and execute the drop table command for each table\n",
    "for table in tables:\n",
    "    try:\n",
    "        db_drop_table(table_name = table)\n",
    "    except:\n",
    "        pass"
   ]
  },
  {
   "cell_type": "markdown",
   "id": "96afda4b",
   "metadata": {
    "papermill": {
     "duration": 0.018203,
     "end_time": "2025-01-08T05:11:27.753404",
     "exception": false,
     "start_time": "2025-01-08T05:11:27.735201",
     "status": "completed"
    },
    "tags": []
   },
   "source": [
    "<p style = 'font-size:18px;font-family:Arial'> <b>Databases and Tables </b></p>\n",
    "<p style = 'font-size:16px;font-family:Arial'>We will use the following code to clean up tables and databases created for this demonstration.</p>"
   ]
  },
  {
   "cell_type": "code",
   "execution_count": null,
   "id": "917730fa-c0e8-4b42-bef1-51022ea92fa2",
   "metadata": {},
   "outputs": [],
   "source": [
    "print(\"remove data start\")\n",
    "# %run -i ../run_procedure.py \"call get_data('DEMO_GLM_Fraud_local');\" \n",
    "execute_sql('''call remove_data('DEMO_GLM_Fraud');''')\n",
    "print(\"remove data successful\")"
   ]
  },
  {
   "cell_type": "code",
   "execution_count": null,
   "id": "e1ae7192",
   "metadata": {
    "papermill": {
     "duration": 5.731135,
     "end_time": "2025-01-08T05:11:33.553785",
     "exception": false,
     "start_time": "2025-01-08T05:11:27.822650",
     "status": "completed"
    },
    "tags": []
   },
   "outputs": [],
   "source": [
    "remove_context()"
   ]
  },
  {
   "cell_type": "markdown",
   "id": "b9208dac",
   "metadata": {
    "papermill": {
     "duration": 0.018156,
     "end_time": "2025-01-08T05:11:33.590558",
     "exception": false,
     "start_time": "2025-01-08T05:11:33.572402",
     "status": "completed"
    },
    "tags": []
   },
   "source": [
    "<footer style=\"padding-bottom:35px; border-bottom:3px solid #91A0Ab\">\n",
    "    <div style=\"float:left;margin-top:14px\">ClearScape Analytics™</div>\n",
    "    <div style=\"float:right;\">\n",
    "        <div style=\"float:left; margin-top:14px\">\n",
    "            Copyright © Teradata Corporation - 2024. All Rights Reserved\n",
    "        </div>\n",
    "    </div>\n",
    "</footer>"
   ]
  }
 ],
 "metadata": {
  "kernelspec": {
   "display_name": "Python 3 (ipykernel)",
   "language": "python",
   "name": "python3"
  },
  "language_info": {
   "codemirror_mode": {
    "name": "ipython",
    "version": 3
   },
   "file_extension": ".py",
   "mimetype": "text/x-python",
   "name": "python",
   "nbconvert_exporter": "python",
   "pygments_lexer": "ipython3",
   "version": "3.9.10"
  },
  "papermill": {
   "default_parameters": {},
   "duration": 107.354787,
   "end_time": "2025-01-08T05:11:36.524446",
   "environment_variables": {},
   "exception": null,
   "input_path": "/opt/modelops/data/artifacts/input/Fin_Fraud_get_data.ipynb",
   "output_path": "/opt/modelops/data/artifacts/output/Fin_Fraud_get_data_20250108T050949.ipynb",
   "parameters": {},
   "start_time": "2025-01-08T05:09:49.169659",
   "version": "2.6.0"
  }
 },
 "nbformat": 4,
 "nbformat_minor": 5
}
